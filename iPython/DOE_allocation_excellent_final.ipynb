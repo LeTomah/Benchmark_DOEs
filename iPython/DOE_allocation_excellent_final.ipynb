{
 "cells": [
  {
   "cell_type": "code",
   "metadata": {
    "colab": {
     "base_uri": "https://localhost:8080/"
    },
    "id": "QGfrTCDFYVcc",
    "outputId": "31565938-191f-4ed0-f421-4269a3b12e57"
   },
   "source": [
    "!pip install pyomo\n",
    "!wget https://people.montefiore.uliege.be/cornelusse/utils/ampl.linux-intel64.zip\n",
    "!unzip /content/ampl.linux-intel64.zip\n",
    "!chmod +x /content/ampl.linux-intel64/ipopt # To make sure it can be executed\n",
    "!chmod +x /content/ampl.linux-intel64/cbc # To make sure it can be executed\n",
    "!pip install pandapower --upgrade\n",
    "!pip install networkx\n",
    "!pip install gurobipy  # install gurobipy, if not already installed"
   ],
   "outputs": [],
   "execution_count": null
  },
  {
   "cell_type": "code",
   "metadata": {
    "id": "7E5MxejmZJUb"
   },
   "source": [
    "import gurobipy as gp\n",
    "import xarray as xr\n",
    "import networkx as nx\n",
    "import matplotlib.pyplot as plt\n",
    "import numpy as np\n",
    "from dataclasses import dataclass\n",
    "import pyomo.environ as pyo\n",
    "import math\n",
    "import pandapower as pp"
   ],
   "outputs": [],
   "execution_count": null
  },
  {
   "cell_type": "code",
   "metadata": {
    "id": "0CffUDPBZT7m"
   },
   "source": [
    "def create_network():\n",
    "\n",
    "# Crée le réseau\n",
    "    net = pp.create_empty_network()\n",
    "\n",
    "# Bases\n",
    "    Pbase = 100  # MVA\n",
    "    Vbase_high = 110  # kV\n",
    "    Vbase_medium = 20  # kV\n",
    "    Vbase_low = 0.4  # kV\n",
    "\n",
    "# Buses\n",
    "    b0 = pp.create_bus(net, vn_kv=Vbase_high, name=\"Bus grid\", geodata=(0,10))\n",
    "    b1 = pp.create_bus(net, vn_kv=Vbase_high, name=\"DSO 1\", geodata=(5,12))\n",
    "    b2 = pp.create_bus(net, vn_kv=Vbase_high, name=\"DSO 2\", geodata=(5,8))\n",
    "    b3 = pp.create_bus(net, vn_kv=Vbase_medium, name=\"Bus MV_1\", geodata=(10,12))\n",
    "    b4 = pp.create_bus(net, vn_kv=Vbase_medium, name=\"Bus MV_2\", geodata=(10,8))\n",
    "    b5 = pp.create_bus(net, vn_kv=Vbase_low, name=\"Bus LV_1\", geodata=(15,12))\n",
    "    b6 = pp.create_bus(net, vn_kv=Vbase_low, name=\"Bus LV_2\", geodata=(15,8))\n",
    "    b7 = pp.create_bus(net, vn_kv=Vbase_medium, name=\"Bus éolien\", geodata=(10,14))\n",
    "    b8 = pp.create_bus(net, vn_kv=Vbase_medium, name=\"Bus industriel\", geodata=(10,10))\n",
    "    b9 = pp.create_bus(net, vn_kv=Vbase_low, name=\"Bus load\", geodata=(15,14))\n",
    "    b10 = pp.create_bus(net, vn_kv=Vbase_low, name=\"Bus PV\", geodata=(15,10))\n",
    "    b11 = pp.create_bus(net, vn_kv=Vbase_high, name=\"TSO 1\", geodata=(2,12))\n",
    "    b12 = pp.create_bus(net, vn_kv=Vbase_high, name=\"TSO 2\", geodata=(2,8))\n",
    "\n",
    "# Lignes\n",
    "    pp.create_line(net, b0, b1, length_km=12, std_type='149-AL1/24-ST1A 110.0', name=\"line1\")\n",
    "    pp.create_line(net, b1, b2, length_km=10, std_type='149-AL1/24-ST1A 110.0', name=\"line2\")\n",
    "    pp.create_line(net, b0, b2, length_km=10, std_type='149-AL1/24-ST1A 110.0', name=\"line3\")\n",
    "    pp.create_line(net, b3, b7, length_km=0.23, std_type='NA2XS2Y 1x185 RM/25 12/20 kV', name=\"line4\")\n",
    "    pp.create_line(net, b4, b8, length_km=0.3, std_type='NA2XS2Y 1x185 RM/25 12/20 kV', name=\"line5\")\n",
    "    pp.create_line(net, b5, b9, length_km=3, std_type='94-AL1/15-ST1A 0.4', name=\"line6\")\n",
    "    pp.create_line(net, b6, b10, length_km=0.45, std_type='94-AL1/15-ST1A 0.4', name=\"line7\")\n",
    "    pp.create_line(net, b0, b11, length_km=16, std_type='149-AL1/24-ST1A 110.0', name= 'line8')\n",
    "    pp.create_line(net, b11, b1, length_km=24, std_type='149-AL1/24-ST1A 110.0', name= 'line9')\n",
    "    pp.create_line(net, b0, b12, length_km=22, std_type='149-AL1/24-ST1A 110.0', name= 'line10')\n",
    "    pp.create_line(net, b12, b2, length_km=16, std_type='149-AL1/24-ST1A 110.0', name= 'line11')\n",
    "\n",
    "# Transformateurs\n",
    "    pp.create_transformer(net, b1, b3, std_type=\"25 MVA 110/20 kV\", name=\"TR_1\")\n",
    "    pp.create_transformer(net, b2, b4, std_type=\"25 MVA 110/20 kV\", name=\"TR_2\")\n",
    "    pp.create_transformer(net, b3, b5, std_type=\"0.4 MVA 20/0.4 kV\", name=\"TR_3\")\n",
    "    pp.create_transformer(net, b4, b6, std_type=\"0.4 MVA 20/0.4 kV\", name=\"TR_4\")\n",
    "\n",
    "# Éléments de bus\n",
    "    pp.create_ext_grid(net, bus=b0, vm_pu=1.00, name=\"Grid Connection\")\n",
    "    pp.create_load(net, bus=b9, p_mw=0.02, q_mvar=0.02, name=\"Residential Load\")\n",
    "    pp.create_gen(net, bus=b10, p_mw=0.2, vm_pu=1.00, name=\"PV\", max_q_mvar=200, min_q_mvar=0, max_p_mw=300, min_p_mw=0, controllable=False)\n",
    "    pp.create_gen(net, bus=b7, p_mw=6.5, vm_pu=1.0, name=\"Wind Turbine\", controllable=False)\n",
    "    pp.create_load(net, bus=b8, p_mw=6, q_mvar=1.8, name=\"Industry\")\n",
    "    pp.create_load(net, bus=b11, p_mw=20, q_mvar=9, name=\"Datacenter\")\n",
    "    pp.create_load(net, bus=b12, p_mw=50, q_mvar=24, name=\"Big industry\")\n",
    "\n",
    "# Donner accès à net\n",
    "    return net"
   ],
   "outputs": [],
   "execution_count": null
  },
  {
   "cell_type": "code",
   "metadata": {
    "id": "TsDt-6_lZgNj"
   },
   "source": [
    "def create_digraph():\n",
    "  net = create_network()\n",
    "\n",
    "  import json\n",
    "  import networkx as nx\n",
    "  import matplotlib.pyplot as plt\n",
    "# 1. Conversion du réseau Pandapower en DiGraph\n",
    "# ================================\n",
    "  G = nx.DiGraph()\n",
    "\n",
    "# Créer les positions à partir de la colonne \"geo\"\n",
    "  pos = {}\n",
    "  for idx, row in net.bus.iterrows():\n",
    "  # Extraire le champ 'geo' qui est une chaîne de caractères représentant un dictionnaire JSON\n",
    "      geo_data = row['geo']\n",
    "\n",
    "  # Convertir la chaîne JSON en un dictionnaire Python\n",
    "      geo_dict = json.loads(geo_data)\n",
    "\n",
    "  # Extraire la liste des coordonnées\n",
    "      coordinates = geo_dict[\"coordinates\"]\n",
    "\n",
    "  # Ajouter les coordonnées dans le dictionnaire pos\n",
    "      pos[idx] = tuple(coordinates)  # Assigner les coordonnées sous forme de tuple\n",
    "\n",
    "# Ajouter les nœuds (avec le nom comme label) and voltage\n",
    "  for idx, row in net.bus.iterrows():\n",
    "      G.add_node(idx, label=row[\"name\"], pos=pos[idx], vn_kv=row[\"vn_kv\"])\n",
    "\n",
    "\n",
    "# Ajouter les arêtes pour les lines\n",
    "  for _, row in net.line.iterrows():\n",
    "      G.add_edge(row[\"from_bus\"], row[\"to_bus\"], type=\"line\", name=row[\"name\"], length=row[\"length_km\"], std_type=row[\"std_type\"])\n",
    "\n",
    "# Ajouter les arêtes pour les transformateurs\n",
    "  for _, row in net.trafo.iterrows():\n",
    "      G.add_edge(row[\"hv_bus\"], row[\"lv_bus\"], type=\"trafo\", name=row[\"name\"], std_type = None)\n",
    "\n",
    "# Ajouter les générateurs et les charges comme attributs aux nœuds\n",
    "  for _, row in net.gen.iterrows():\n",
    "      G.nodes[row[\"bus\"]][\"type\"] = \"gen\"\n",
    "      G.nodes[row[\"bus\"]][\"gen_name\"] = row[\"name\"]\n",
    "      G.nodes[row[\"bus\"]][\"gen_power\"] = row[\"p_mw\"]\n",
    "\n",
    "  for _, row in net.load.iterrows():\n",
    "      G.nodes[row[\"bus\"]][\"type\"] = \"load\"\n",
    "      G.nodes[row[\"bus\"]][\"load_name\"] = row[\"name\"]\n",
    "      G.nodes[row[\"bus\"]][\"load_power\"] = row[\"p_mw\"]\n",
    "\n",
    "  for _, row in net.ext_grid.iterrows():\n",
    "      G.nodes[row[\"bus\"]][\"type\"] = \"ext_grid\"\n",
    "      G.nodes[row[\"bus\"]][\"grid_name\"] = row[\"name\"]\n",
    "\n",
    "# 2. Ajout des puissances consommées et injectées aux nœuds\n",
    "# ================================\n",
    "  nx.set_node_attributes(G, 0.0, \"P_load\")\n",
    "  nx.set_node_attributes(G, 0.0, \"P_gen\")\n",
    "\n",
    "# Charges\n",
    "  for _, row in net.load.iterrows():\n",
    "      G.nodes[row[\"bus\"]][\"P_load\"] += row[\"p_mw\"]\n",
    "      print(row)\n",
    "\n",
    "# Générateurs\n",
    "  for _, row in net.gen.iterrows():\n",
    "      G.nodes[row[\"bus\"]][\"P_gen\"] += row[\"p_mw\"]\n",
    "\n",
    "# Source externe\n",
    "  for _, row in net.ext_grid.iterrows():\n",
    "      G.nodes[row[\"bus\"]][\"P_gen\"] += 0\n",
    "\n",
    "# Calculate P_net\n",
    "  for n in G.nodes:\n",
    "      G.nodes[n][\"P_net\"] = G.nodes[n][\"P_gen\"] - G.nodes[n][\"P_load\"]\n",
    "\n",
    "# Create subnetworks (NetworkX DiGraphs) from the main graph G\n",
    "  network1_buses = [0, 1, 2, 11,12]\n",
    "  network2_buses = [3, 7, 5, 9, 10]\n",
    "  network3_buses = [4, 8, 6]\n",
    "\n",
    "# Assign G1 to G and then add power attributes to nodes in G\n",
    "  #G = G.subgraph(network1_buses)\n",
    "\n",
    "  for n in G.nodes:\n",
    "      G.nodes[n][\"P\"] = G.nodes[n][\"P_net\"] # Assign P_net to 'P' attribute\n",
    "\n",
    "# 3. Préparer les couleurs des nœuds en fonction de P_net\n",
    "# ================================\n",
    "  node_colors = []\n",
    "  for n, data in G.nodes(data=True):\n",
    "      if data[\"P_net\"] > 0:\n",
    "          node_colors.append(\"green\")   # producteur\n",
    "      elif data[\"P_net\"] < 0:\n",
    "          node_colors.append(\"red\")     # consommateur\n",
    "      else:\n",
    "          node_colors.append(\"gray\")    # neutre\n",
    "\n",
    "# 4. Préparer les labels : Nom + P_net\n",
    "# ================================\n",
    "  labels = {n: f\"{data['label']}\\nP={round(data['P_net'],2)}MW\"\n",
    "            for n, data in G.nodes(data=True)}\n",
    "\n",
    "# 5. Function to plot the network\n",
    "# ================================\n",
    "  def plot_network():\n",
    "      pos = nx.get_node_attributes(G, 'pos')\n",
    "\n",
    "      plt.figure(figsize=(12, 8))\n",
    "      nx.draw(\n",
    "          G, pos,\n",
    "          with_labels=True, labels=labels,\n",
    "          node_size=1200, node_color=node_colors,\n",
    "          edgecolors=\"black\", font_size=8,\n",
    "          alpha=0.85\n",
    "          )\n",
    "\n",
    "  # Labels des arêtes (type ligne ou trafo)\n",
    "      edge_labels = nx.get_edge_attributes(G, 'type')\n",
    "      nx.draw_networkx_edge_labels(G, pos, edge_labels=edge_labels, font_size=7)\n",
    "\n",
    "      plt.title(\"Réseau électrique avec puissances (P_net)\")\n",
    "      plt.axis(\"equal\")\n",
    "      plt.show()\n",
    "\n",
    "\n",
    "  return G, plot_network()"
   ],
   "outputs": [],
   "execution_count": null
  },
  {
   "cell_type": "code",
   "metadata": {
    "colab": {
     "base_uri": "https://localhost:8080/",
     "height": 1000
    },
    "id": "lsz4h9dHZcyD",
    "outputId": "14a864ee-4d08-427b-c807-734d6bdac9cb"
   },
   "source": [
    "G, plot_func = create_digraph()\n",
    "print(f\"Value of G.nodes[11]['P'] after updating G: {G.nodes[11]['P']}\")"
   ],
   "outputs": [],
   "execution_count": null
  },
  {
   "cell_type": "code",
   "metadata": {
    "colab": {
     "base_uri": "https://localhost:8080/",
     "height": 859
    },
    "id": "ed_Y54iGlEeI",
    "outputId": "d51a65a7-2ebd-404a-c897-09bac0243640"
   },
   "source": [
    "def plot_network(G):\n",
    "      pos = nx.get_node_attributes(G, 'pos')\n",
    "\n",
    "      plt.figure(figsize=(12, 8))\n",
    "      nx.draw(\n",
    "          G, pos,\n",
    "          with_labels=True,\n",
    "          node_size=1200,\n",
    "          edgecolors=\"black\", font_size=8,\n",
    "          alpha=0.85\n",
    "          )\n",
    "\n",
    "  # Labels des arêtes (type ligne ou trafo)\n",
    "      edge_labels = nx.get_edge_attributes(G, 'type')\n",
    "      nx.draw_networkx_edge_labels(G, pos, edge_labels=edge_labels, font_size=7)\n",
    "\n",
    "      plt.title(\"Réseau électrique avec puissances (P_net)\")\n",
    "      plt.axis(\"equal\")\n",
    "      plt.show()\n",
    "\n",
    "plot_network(G)"
   ],
   "outputs": [],
   "execution_count": null
  },
  {
   "cell_type": "code",
   "metadata": {
    "colab": {
     "base_uri": "https://localhost:8080/"
    },
    "id": "fMwbxnNdbwH-",
    "outputId": "7de62d0f-873a-4286-b04f-07b72916e1a1"
   },
   "source": [
    "# Define base values for the per-unit system\n",
    "s_base = 100  # MVA\n",
    "\n",
    "\n",
    "v_base_high = 110 # kV (From the create_network function)\n",
    "\n",
    "# Calculate base current (I_base)\n",
    "# S_base = V_base * I_base (for single phase, or sqrt(3)*V_base*I_base for three phase)\n",
    "# Assuming three-phase system: I_base = S_base / (sqrt(3) * V_base)\n",
    "i_base_high = s_base / (math.sqrt(3) * v_base_high) # kA\n",
    "\n",
    "# Calculate base impedance (Z_base)\n",
    "# Z_base = V_base^2 / S_base\n",
    "z_base_high = v_base_high**2 / s_base # ohms\n",
    "\n",
    "# Calculate base susceptance (B_base)\n",
    "# B_base = 1 / Z_base = S_base / V_base^2\n",
    "b_base_high = s_base / v_base_high**2 # Siemens\n",
    "\n",
    "print(f\"Base Power (S_base): {s_base} MVA\")\n",
    "print(f\"Base Voltage (V_base_high): {v_base_high} kV\")\n",
    "print(f\"Base Current (I_base_high): {i_base_high} kA\")\n",
    "print(f\"Base Impedance (Z_base_high): {z_base_high} ohms\")\n",
    "print(f\"Base Susceptance (B_base_high): {b_base_high} Siemens\")"
   ],
   "outputs": [],
   "execution_count": null
  },
  {
   "cell_type": "code",
   "source": [
    "# Define the maximum current in kA\n",
    "I_max_kA = 0.47\n",
    "\n",
    "# Get the base current in kA from the previous calculation\n",
    "# Assuming i_base_high is the relevant base current for the lines in the model\n",
    "I_base_kA = i_base_high\n",
    "\n",
    "# Calculate the upper bound for current in per-unit\n",
    "I_max_pu = I_max_kA / I_base_kA\n",
    "\n",
    "# The lower bound for current is the negative of the upper bound, assuming symmetrical limits\n",
    "I_min_pu = -I_max_pu\n",
    "\n",
    "print(f\"Maximum Current (kA): {I_max_kA}\")\n",
    "print(f\"Base Current (kA): {I_base_kA}\")\n",
    "print(f\"Upper bound for current (per-unit): {I_max_pu}\")\n",
    "print(f\"Lower bound for current (per-unit): {I_min_pu}\")\n",
    "\n",
    "# Update the Pyomo model's bounds if they are defined globally or need to be updated\n",
    "# Assuming I_min and I_max are global variables used in the Pyomo model definition\n",
    "I_min = I_min_pu\n",
    "I_max = I_max_pu\n",
    "\n",
    "print(\"\\nUpdated global current bounds (per-unit):\")\n",
    "print(f\"I_min: {I_min}\")\n",
    "print(f\"I_max: {I_max}\")"
   ],
   "metadata": {
    "colab": {
     "base_uri": "https://localhost:8080/"
    },
    "id": "zYD3uPFbZhkR",
    "outputId": "0b3e9777-e34e-4571-cad4-b747d1883a58"
   },
   "outputs": [],
   "execution_count": null
  },
  {
   "cell_type": "code",
   "source": [
    "def calculate_current_bounds(line_type, v_base):\n",
    "    \"\"\"\n",
    "    Calculates the upper and lower bounds for current in per-unit\n",
    "    based on the line type's maximum current capacity.\n",
    "\n",
    "    Args:\n",
    "        line_type (str): The type of the transmission line.\n",
    "        i_base_kA (float): The base current in kA for the system.\n",
    "\n",
    "    Returns:\n",
    "        tuple: A tuple containing (I_min_pu, I_max_pu).\n",
    "               Returns (None, None) if the line type is not found.\n",
    "    \"\"\"\n",
    "    # Define a dictionary mapping line types to their maximum current capacity in kA\n",
    "    # NOTE: This is a placeholder. You should populate this dictionary\n",
    "    # with the actual maximum current capacities for your line types.\n",
    "    i_base_kA = s_base / (math.sqrt(3) * v_base) # kA\n",
    "\n",
    "\n",
    "    line_type_max_current_kA = {\n",
    "        '149-AL1/24-ST1A 110.0': 0.47, # Example value for 110 kV lines\n",
    "        'NA2XS2Y 1x185 RM/25 12/20 kV': 0.3, # Example value for 20 kV lines\n",
    "        '94-AL1/15-ST1A 0.4': 0.15 # Example value for 0.4 kV lines\n",
    "    }\n",
    "\n",
    "    if line_type in line_type_max_current_kA:\n",
    "        I_max_kA = line_type_max_current_kA[line_type]\n",
    "\n",
    "        # Calculate the upper bound for current in per-unit\n",
    "        I_max_pu = I_max_kA / i_base_kA\n",
    "\n",
    "        # The lower bound for current is the negative of the upper bound\n",
    "        I_min_pu = -I_max_pu\n",
    "\n",
    "        return I_min_pu, I_max_pu, i_base_kA\n",
    "\n",
    "    elif line_type == None:\n",
    "        return -1000, 1000\n",
    "    else:\n",
    "        return None, None\n",
    "\n",
    "# Example usage (assuming i_base_high is already defined):\n",
    "line1_type = '149-AL1/24-ST1A 110.0'\n",
    "I_min_line1, I_max_line1, i_base_kA = calculate_current_bounds(line1_type, i_base_high)\n",
    "\n",
    "# line4_type = 'NA2XS2Y 1x185 RM/25 12/20 kV'\n",
    "# I_min_line4, I_max_line4 = calculate_current_bounds(line4_type, i_base_high)\n",
    "# print(f\"\\nCurrent bounds for {line4_type}: [{I_min_line4}, {I_max_line4}]\")"
   ],
   "metadata": {
    "id": "2-rr_L1RhTYm"
   },
   "outputs": [],
   "execution_count": null
  },
  {
   "cell_type": "code",
   "metadata": {
    "colab": {
     "base_uri": "https://localhost:8080/"
    },
    "id": "j53BsRWZb9Qg",
    "outputId": "0785e495-abc0-48c8-cb64-0f4453e3ceb7"
   },
   "source": [
    "def length (i, j):\n",
    "    xi, yi = G.nodes[i]['pos']\n",
    "    xj, yj = G.nodes[j]['pos']\n",
    "    return (math.hypot(xi - xj, yi - yj))*10/1000  # distance euclidienne, *10/1000 (pixel/km)\n",
    "length(0, 1)"
   ],
   "outputs": [],
   "execution_count": null
  },
  {
   "cell_type": "code",
   "metadata": {
    "colab": {
     "base_uri": "https://localhost:8080/"
    },
    "id": "R07l_GXmjVhK",
    "outputId": "21cc94a8-7ade-4385-d21a-21c14dbd9790"
   },
   "source": [
    "#Calculate the susceptance of each line in Siemens per km\n",
    "strange = 1000\n",
    "for u, v in G.edges():\n",
    "    G[u][v]['b'] = length(u,v)* 200*10**-6 *strange\n",
    "    print(G[u][v]['b'])\n"
   ],
   "outputs": [],
   "execution_count": null
  },
  {
   "cell_type": "code",
   "metadata": {
    "id": "QfiKPOwejiQ3"
   },
   "source": [
    "#Constant definition\n",
    "V_min = 0.9\n",
    "V_max = 1.1\n",
    "\n",
    "\n",
    "P_min = -1.5\n",
    "P_max = 1.5\n",
    "\n",
    "theta_min = -180\n",
    "theta_max = 180\n",
    "\n",
    "\n",
    "alpha = 1\n"
   ],
   "outputs": [],
   "execution_count": null
  },
  {
   "cell_type": "code",
   "source": [
    "def get_base_node_voltage_kv(node_index):\n",
    "  \"\"\"\n",
    "  Returns the voltage (vn_kv) for a given node index from the graph.\n",
    "\n",
    "  Args:\n",
    "    node_index: The index of the node in the graph.\n",
    "\n",
    "  Returns:\n",
    "    The voltage in kV for the specified node.\n",
    "  \"\"\"\n",
    "  # Assuming 'G' is the NetworkX DiGraph object created earlier\n",
    "  # Access the 'vn_kv' attribute for the given node_index\n",
    "  return G.nodes[node_index]['vn_kv']\n",
    "\n",
    "# Example usage:\n",
    "# To get the voltage for node 0:\n",
    "# voltage_node_0 = get_node_voltage_kv(0)\n",
    "# print(f\"Voltage at node 0: {voltage_node_0} kV\")\n",
    "\n",
    "# To get the voltage for node 3:\n",
    "voltage_node_3 = get_base_node_voltage_kv(0)\n",
    "print(f\"Voltage at node 3: {voltage_node_3} kV\")"
   ],
   "metadata": {
    "colab": {
     "base_uri": "https://localhost:8080/"
    },
    "id": "3hJJTZQQsHHx",
    "outputId": "b7706305-9617-4887-f4a6-8a71b581a7b2"
   },
   "outputs": [],
   "execution_count": null
  },
  {
   "cell_type": "code",
   "source": [
    "m = pyo.ConcreteModel()\n",
    "# Define base values for the per-unit system\n",
    "s_base = 100  # MVA\n",
    "v_base_high = 110 # kV (From the create_network function)\n",
    "\n",
    "m.Nodes = pyo.Set(initialize= [b for b in G.nodes])\n",
    "m.Lines = pyo.Set(initialize= [l for l in G.edges])\n",
    "m.i = pyo.Set(initialize=[0, 1]) # Initialize m.i with two generic elements\n",
    "m.j = pyo.Set(initialize= [0, 1])\n",
    "#m.children = pyo.Set(initialize= [1, 2])\n",
    "m.parents = pyo.Set(initialize = [0])\n",
    "\n",
    "m.P = pyo.Param(m.Nodes, initialize = {n: - G.nodes[n].get('P') for n in G.nodes}, domain = pyo.Reals, mutable=True) # Make P mutable\n",
    "\n",
    "m.I_min = pyo.Param(m.Lines, initialize = {(i,j): calculate_current_bounds(G.edges[i,j][\"std_type\"], get_base_node_voltage_kv(i))[0] for (i,j) in m.Lines}, domain = pyo.Reals)\n",
    "m.I_max = pyo.Param(m.Lines, initialize = {(i,j): calculate_current_bounds(G.edges[i,j][\"std_type\"], get_base_node_voltage_kv(i))[1] for (i,j) in m.Lines}, domain = pyo.Reals)\n",
    "\n",
    "print(m.I_min[(0,1)])\n",
    "print(m.I_max[(0,1)])\n",
    "\n",
    "# Variables principales\n",
    "m.F = pyo.Var(m.Lines, m.i, m.j, domain=pyo.Reals)     # active power flow through lines\n",
    "m.I = pyo.Var(m.Lines,  m.i, m.j, domain=pyo.Reals)  # current flowing through lines\n",
    "m.theta = pyo.Var(m.Nodes,  m.i, m.j, domain=pyo.Reals)  # phase angle of the voltage\n",
    "m.V = pyo.Var(m.Nodes, m.i, m.j, domain=pyo.NonNegativeReals)  # voltage magnitude at each node\n",
    "m.E = pyo.Var(m.Nodes, m.i, m.j, domain=pyo.Reals) #net power injection/consumption\n",
    "m.P_plus = pyo.Var(m.parents, m.i, m.j, domain=pyo.Reals) #power entering the operational graph\n",
    "#m.P_minus = pyo.Var(m.children, m.i, m.j, domain=pyo.Reals) #power leaving the operational graph\n",
    "\n",
    "#m.P_C_set = pyo.Var(m.children, m.i, domain=pyo.Reals) #vertices of the power envelope at each child node\n",
    "\n",
    "#m.P_C_min = pyo.Var(m.children, m.i, m.j, domain=pyo.Reals)\n",
    "#m.P_C_max = pyo.Var(m.children, m.i, m.j,  domain=pyo.Reals)\n",
    "\n",
    "m.V_P = pyo.Param(m.j, initialize = {0: 0.9, 1: 1.1}, domain =pyo.NonNegativeReals)\n",
    "\n",
    "m.O = pyo.Var(domain= pyo.NonNegativeReals)\n",
    "\n",
    "for u in G.nodes():\n",
    "  if G.nodes[u].get('P', 0.0) == 0:\n",
    "    m.P[u] = 0\n",
    "  else:\n",
    "    G.nodes[u]['P_pu'] = G.nodes[u].get('P', 0.0) / s_base\n",
    "    m.P[u] = - G.nodes[u]['P_pu']\n",
    "\n",
    "\"\"\"# Convert P parameter to per-unit\n",
    "for n in G.nodes:\n",
    "    # Assuming P is in MW, convert to per-unit\n",
    "    G.nodes[n]['P'] = G.nodes[n].get('P', 0.0) / s_base\n",
    "    m.P[n] = G.nodes[n]['P']\"\"\"\n",
    "\n",
    "\n",
    "# Convert susceptance 'b' on edges to per-unit\n",
    "for u, v in G.edges():\n",
    "    # Assuming 'b' is in Siemens/km, convert to per-unit\n",
    "    # b_pu = b_actual * (V_base^2 / S_base)\n",
    "    # V_base is assumed to be v_base_high (110 kV)\n",
    "    G[u][v]['b_pu'] = G[u][v].get('b', 0.0) * (get_base_node_voltage_kv(u)**2 / s_base)\n",
    "    print(G[u][v]['b_pu'])"
   ],
   "metadata": {
    "colab": {
     "base_uri": "https://localhost:8080/"
    },
    "id": "HTqnXtXvSvfm",
    "outputId": "0407124e-aa8f-4fb5-d256-1f9f0c878d91"
   },
   "outputs": [],
   "execution_count": null
  },
  {
   "cell_type": "code",
   "source": [
    "for n in G.nodes:\n",
    "  print(m.P[n].value)\n",
    "m.P[1].value\n"
   ],
   "metadata": {
    "colab": {
     "base_uri": "https://localhost:8080/"
    },
    "id": "V5tKjSt7wHAo",
    "outputId": "91431bd1-9983-4403-8a5a-8373b57cb283"
   },
   "outputs": [],
   "execution_count": null
  },
  {
   "cell_type": "code",
   "source": [
    "\n",
    "\n",
    "# Auxiliary variable for the absolute value of E (already defined as per-unit)\n",
    "m.z = pyo.Var(m.Nodes, m.i, m.j, domain=pyo.NonNegativeReals)\n",
    "\n",
    "m.curt = pyo.Var(m.Nodes, m.i, m.j, domain=pyo.Reals)\n",
    "\n",
    "def curtailment_def_rule(m,n, vert_pow, vert_volt):\n",
    "\n",
    "  return m.curt[n, vert_pow, vert_volt] == m.P[n] - m.E[n, vert_pow, vert_volt]\n",
    "\n",
    "m.curt_def = pyo.Constraint(m.Nodes, m.i, m.j, rule=curtailment_def_rule)\n",
    "# Constraints to define the absolute value (already defined for per-unit E)\n",
    "def abs_E_pos_rule(m, n, vert_pow, vert_volt):\n",
    "    return m.z[n, vert_pow, vert_volt] >= m.curt[n, vert_pow, vert_volt]\n",
    "m.abs_E_pos = pyo.Constraint(m.Nodes, m.i, m.j, rule=abs_E_pos_rule)\n",
    "\n",
    "def abs_E_neg_rule(m, n, vert_pow, vert_volt):\n",
    "    return m.z[n, vert_pow, vert_volt] >= -m.curt[n, vert_pow, vert_volt]\n",
    "m.abs_E_neg = pyo.Constraint(m.Nodes, m.i, m.j, rule=abs_E_neg_rule)\n",
    "\n",
    "def upper_bound_rule(m, vert_pow, vert_volt):\n",
    "    # m.z is per-unit, m.O is per-unit\n",
    "    return sum(m.z[n, vert_pow, vert_volt] for n in m.Nodes) <= m.O\n",
    "\n",
    "m.upper_bound = pyo.Constraint(m.i, m.j, rule=upper_bound_rule)\n",
    "\n",
    "# Current magnitude constraint (I_min, I_max are assumed per-unit)\n",
    "def current_bounds_rule(m, i, j, vert_pow, vert_volt):\n",
    "    # m.I is per-unit current\n",
    "    return pyo.inequality(-1, m.I[i,j, vert_pow, vert_volt], 1)\n",
    "m.CurrentBounds = pyo.Constraint(m.Lines, m.i, m.j, rule=current_bounds_rule)\n",
    "\n",
    "def phase_constr_rule(m,n, vert_pow, vert_volt):\n",
    "    return pyo.inequality(theta_min*2, m.theta[n, vert_pow, vert_volt], theta_max*2)\n",
    "\n",
    "m.phaseConstr = pyo.Constraint(m.Nodes, m.i, m.j, rule=phase_constr_rule)\n",
    "\n",
    "def dc_power_flow_rule(m, i, j, vert_pow, vert_volt):\n",
    "    return m.F[i, j, vert_pow, vert_volt] == m.V_P[vert_volt]**2 *(G[i][j]['b_pu'] * (\n",
    "        m.theta[i, vert_pow, vert_volt] - m.theta[j, vert_pow, vert_volt])\n",
    "    )\n",
    "\n",
    "m.DCFlow = pyo.Constraint(m.Lines, m.i, m.j, rule=dc_power_flow_rule)\n",
    "\n",
    "\n",
    "def current_def_rule(m, n, i, j, vert_pow, vert_volt):\n",
    "    # This constraint relates per-unit current, per-unit voltage, and per-unit power flow.\n",
    "    # In per-unit, P_pu = V_pu * I_pu. This is correct.\n",
    "    return m.I[i,j, vert_pow, vert_volt] * m.V_P[vert_volt] == m.F[i,j, vert_pow, vert_volt]\n",
    "\n",
    "m.current_def = pyo.Constraint(m.Nodes, m.Lines, m.i, m.j, rule=current_def_rule)\n",
    "\n",
    "\n",
    "\n",
    "def nodes_balance(m, n, vert_pow, vert_volt):\n",
    "    inflow = sum(m.F[k, n, vert_pow, vert_volt] for k in G.predecessors(n) if (k, n) in m.Lines)\n",
    "    outflow = sum(m.F[n, j, vert_pow, vert_volt] for j in G.successors(n) if (n, j) in m.Lines)\n",
    "    if n in m.parents:\n",
    "      return inflow - outflow  ==  m.E[n, vert_pow, vert_volt] - m.P_plus[n, vert_pow, vert_volt]\n",
    "\n",
    "    else:\n",
    "      return inflow - outflow ==  m.E[n,vert_pow,vert_volt]\n",
    "\n",
    "m.nodes_balance = pyo.Constraint(m.Nodes, m.i, m.j, rule=nodes_balance)\n",
    "\n",
    "\n",
    "def parent_power_constraint_rule(m, parent, vert_pow, vert_volt):\n",
    "    # m.P_plus is per-unit power entering the operational graph\n",
    "    return pyo.inequality(-2, m.P_plus[parent, vert_pow, vert_volt], 2)\n",
    "\n",
    "m.parent_power_constraint = pyo.Constraint(m.parents, m.i, m.j, rule=parent_power_constraint_rule)\n",
    "\n",
    "#Constant voltage assumption\n",
    "def voltage_constr_rule(m, n, vert_pow, vert_volt):\n",
    "    return m.V[n, vert_pow, vert_volt] == m.V_P[vert_volt]\n",
    "\n",
    "m.voltageConstr = pyo.Constraint(m.Nodes, m.i, m.j, rule=voltage_constr_rule)\n",
    "\n",
    "\n",
    "\n",
    "\n",
    "def test_rule(m):\n",
    "  return m.O == 0\n",
    "m.test = pyo.Constraint(rule=test_rule)\n",
    "\"\"\"# Auxiliary variables for the L1 norm of P_C_set\n",
    "m.abs_P_C_set = pyo.Var(m.children, domain=pyo.NonNegativeReals)\n",
    "\n",
    "# Constraints to linearize the L1 norm of P_C_set\n",
    "def abs_P_C_set_pos_rule(m, n):\n",
    "    return m.abs_P_C_set[n] >= m.aux[n]\n",
    "m.abs_P_C_set_pos = pyo.Constraint(m.children, rule=abs_P_C_set_pos_rule)\n",
    "\n",
    "def abs_P_C_set_neg_rule(m, n):\n",
    "    return m.abs_P_C_set[n] >= -m.aux[n]\n",
    "m.abs_P_C_set_neg = pyo.Constraint(m.children, rule=abs_P_C_set_neg_rule)\"\"\""
   ],
   "metadata": {
    "colab": {
     "base_uri": "https://localhost:8080/",
     "height": 72
    },
    "id": "1mMmPNdfXW3S",
    "outputId": "99838661-9a94-4c16-af9c-4415b2e9bd6a"
   },
   "outputs": [],
   "execution_count": null
  },
  {
   "cell_type": "code",
   "source": [
    "def objective_rule(m):\n",
    "  return   - alpha*m.O\n",
    "\n",
    "m.objective = pyo.Objective(rule=objective_rule, sense=pyo.maximize)"
   ],
   "metadata": {
    "id": "fNuKQeakZ4lL"
   },
   "outputs": [],
   "execution_count": null
  },
  {
   "cell_type": "code",
   "source": [
    "# Résolution\n",
    "# -------------------------\n",
    "# Create an environment with your WLS license\n",
    "params = {\n",
    "    \"WLSACCESSID\": 'efa10779-150a-495c-ab62-6a20ff44c598',\n",
    "    \"WLSSECRET\": 'fa980d94-a6fd-4d7b-aa68-b0e19ddd2e84',\n",
    "    \"LICENSEID\": 2651433,\n",
    "}\n",
    "env = gp.Env(params=params)\n",
    "solver = pyo.SolverFactory('gurobi', env= env)\n",
    "\n",
    "# Solve the model\n",
    "results = solver.solve(m, tee=True)\n",
    "\n",
    "# Check the termination condition\n",
    "if results.solver.termination_condition == pyo.TerminationCondition.infeasible:\n",
    "    print(\"The model is infeasible.\")\n",
    "elif results.solver.termination_condition == pyo.TerminationCondition.unbounded:\n",
    "    print(\"The model is unbounded.\")\n",
    "elif results.solver.termination_condition == pyo.TerminationCondition.infeasibleOrUnbounded:\n",
    "    print(\"The model is infeasible or unbounded.\")\n",
    "else:\n",
    "    print(\"Solver terminated with condition:\", results.solver.termination_condition)\n",
    "    # Print the results (optional, but good practice)\n",
    "    print(results)"
   ],
   "metadata": {
    "colab": {
     "base_uri": "https://localhost:8080/"
    },
    "id": "CPLDPtvVZ99x",
    "outputId": "72f61e1f-47b6-4a10-ac99-b4b5fd4a8654"
   },
   "outputs": [],
   "execution_count": null
  },
  {
   "cell_type": "code",
   "source": [
    "info_DSO_node1 = m.F[1, 3, 0, 0].value\n",
    "info_DSO_node2 = m.F[2, 4, 0, 0].value\n",
    "print(info_DSO_node1)\n",
    "print(info_DSO_node2)\n",
    "\n",
    "info_DSO = [info_DSO_node1, info_DSO_node2]"
   ],
   "metadata": {
    "colab": {
     "base_uri": "https://localhost:8080/"
    },
    "id": "LPlIiVKqnpPE",
    "outputId": "b709d69f-5cab-43e4-d553-56a52e0c8b7c"
   },
   "outputs": [],
   "execution_count": null
  },
  {
   "cell_type": "code",
   "source": [
    "print(m.theta[0,0,1].value)\n",
    "print(G[0][11]['b_pu'])"
   ],
   "metadata": {
    "colab": {
     "base_uri": "https://localhost:8080/"
    },
    "id": "0CyMv1hMcsOd",
    "outputId": "4d18e56d-ec9d-42b3-a47a-e63d0ab21b1c"
   },
   "outputs": [],
   "execution_count": null
  },
  {
   "cell_type": "code",
   "source": [
    "def plot_power_flow(m, i, j):\n",
    "    pos = nx.get_node_attributes(G, 'pos')\n",
    "    # Use node indices as labels\n",
    "    labels = {}\n",
    "    label_colors = [] # This is for node colors, will remove this later if needed or set to default\n",
    "    for n in G.nodes():\n",
    "        label_text = f\"{n}\"\n",
    "        if n in m.parents:\n",
    "            # Display parent bounds using the global P_min and P_max parameters\n",
    "            label_text += f\"\\n[{P_min}, {P_max}]\"\n",
    "            # No specific color for label text here, use default\n",
    "            label_colors.append('steelblue') # Default node color based on previous plots\n",
    "        else:\n",
    "            label_colors.append('steelblue') # Default node color\n",
    "        labels[n] = label_text\n",
    "\n",
    "\n",
    "    plt.figure(figsize=(12, 8))\n",
    "\n",
    "    edge_colors = []\n",
    "    edge_labels = {}\n",
    "\n",
    "    for u, v in G.edges():\n",
    "        try:\n",
    "            # Correct the sign of the flow value for plotting\n",
    "            flow_value = m.F[u, v, i, j].value\n",
    "            if flow_value is not None:\n",
    "                edge_labels[(u, v)] = f\"{round(flow_value, 4)}\"\n",
    "                if flow_value > 0:\n",
    "                    edge_colors.append('blue')  # Positive flow (now correctly represents flow from u to v)\n",
    "                elif flow_value < 0:\n",
    "                    edge_colors.append('red')  # Negative (reverse) flow (now correctly represents flow from v to u)\n",
    "                else:\n",
    "                    edge_colors.append('gray') # No flow\n",
    "            else:\n",
    "                edge_colors.append('gray') # No flow value\n",
    "        except:\n",
    "            edge_colors.append('gray') # Handle cases where edge might not be in m.F\n",
    "\n",
    "    # Draw the network\n",
    "    nx.draw(\n",
    "        G, pos,\n",
    "        with_labels=False, # Draw labels separately for color control\n",
    "        node_size=1200,\n",
    "        edge_color=edge_colors, # Use the calculated edge colors\n",
    "        edgecolors=\"black\", font_size=8,\n",
    "        alpha=0.85,\n",
    "        node_color = label_colors # Apply node colors\n",
    "    )\n",
    "\n",
    "    # Draw labels with different colors\n",
    "    for n in G.nodes():\n",
    "        x, y = pos[n]\n",
    "        text = labels[n]\n",
    "        if n in m.parents:\n",
    "             plt.text(x, y + 0.1, text, fontsize=10, ha='center', va='bottom', color='black') # Color parent bounds black\n",
    "        else:\n",
    "             plt.text(x, y, text, fontsize=8, ha='center', va='center', color='black') # Default color for other labels\n",
    "\n",
    "\n",
    "    nx.draw_networkx_edge_labels(G, pos, edge_labels=edge_labels, font_size=7, label_pos=0.3)\n",
    "\n",
    "    plt.title(f\"Power Flow (per-unit) for i={i}, j={j}\")\n",
    "    plt.axis(\"equal\")\n",
    "    plt.show()\n",
    "\n",
    "# Example usage (assuming m, i=0, and j=0 are defined)\n",
    "plot_power_flow(m, 0, 1)"
   ],
   "metadata": {
    "colab": {
     "base_uri": "https://localhost:8080/",
     "height": 859
    },
    "id": "0qDf5fn1aZur",
    "outputId": "64648d19-c74b-4efb-c9e2-7f337f36dd89"
   },
   "outputs": [],
   "execution_count": null
  },
  {
   "cell_type": "code",
   "source": [
    "def create_network():\n",
    "\n",
    "    import pandapower as pp\n",
    "\n",
    "# Crée le réseau\n",
    "    net = pp.create_empty_network()\n",
    "\n",
    "# Bases\n",
    "    Pbase = 100  # MVA\n",
    "    Vbase_high = 110  # kV\n",
    "    Vbase_medium = 20  # kV\n",
    "    Vbase_low = 0.4  # kV\n",
    "\n",
    "# Buses\n",
    "    b0 = pp.create_bus(net, vn_kv=Vbase_high, name=\"Bus grid\", geodata=(0,10))\n",
    "    b1 = pp.create_bus(net, vn_kv=Vbase_high, name=\"DSO 1\", geodata=(5,12))\n",
    "    b2 = pp.create_bus(net, vn_kv=Vbase_high, name=\"DSO 2\", geodata=(5,8))\n",
    "    b3 = pp.create_bus(net, vn_kv=Vbase_medium, name=\"Bus MV_1\", geodata=(10,12))\n",
    "    b4 = pp.create_bus(net, vn_kv=Vbase_medium, name=\"Bus MV_2\", geodata=(10,8))\n",
    "    b5 = pp.create_bus(net, vn_kv=Vbase_low, name=\"Bus LV_1\", geodata=(15,12))\n",
    "    b6 = pp.create_bus(net, vn_kv=Vbase_low, name=\"Bus LV_2\", geodata=(15,8))\n",
    "    b7 = pp.create_bus(net, vn_kv=Vbase_medium, name=\"Bus éolien\", geodata=(10,14))\n",
    "    b8 = pp.create_bus(net, vn_kv=Vbase_medium, name=\"Bus industriel\", geodata=(10,10))\n",
    "    b9 = pp.create_bus(net, vn_kv=Vbase_low, name=\"Bus load\", geodata=(15,14))\n",
    "    b10 = pp.create_bus(net, vn_kv=Vbase_low, name=\"Bus PV\", geodata=(15,10))\n",
    "    b11 = pp.create_bus(net, vn_kv=Vbase_high, name=\"TSO 1\", geodata=(2,12))\n",
    "    b12 = pp.create_bus(net, vn_kv=Vbase_high, name=\"TSO 2\", geodata=(2,8))\n",
    "\n",
    "# Lignes\n",
    "    pp.create_line(net, b0, b1, length_km=12, std_type='149-AL1/24-ST1A 110.0', name=\"line1\")\n",
    "    pp.create_line(net, b1, b2, length_km=10, std_type='149-AL1/24-ST1A 110.0', name=\"line2\")\n",
    "    pp.create_line(net, b0, b2, length_km=10, std_type='149-AL1/24-ST1A 110.0', name=\"line3\")\n",
    "    pp.create_line(net, b3, b7, length_km=0.23, std_type='NA2XS2Y 1x185 RM/25 12/20 kV', name=\"line4\")\n",
    "    pp.create_line(net, b4, b8, length_km=0.3, std_type='NA2XS2Y 1x185 RM/25 12/20 kV', name=\"line5\")\n",
    "    pp.create_line(net, b5, b9, length_km=3, std_type='94-AL1/15-ST1A 0.4', name=\"line6\")\n",
    "    pp.create_line(net, b6, b10, length_km=0.45, std_type='94-AL1/15-ST1A 0.4', name=\"line7\")\n",
    "    pp.create_line(net, b0, b11, length_km=16, std_type='149-AL1/24-ST1A 110.0', name= 'line8')\n",
    "    pp.create_line(net, b11, b1, length_km=24, std_type='149-AL1/24-ST1A 110.0', name= 'line9')\n",
    "    pp.create_line(net, b0, b12, length_km=22, std_type='149-AL1/24-ST1A 110.0', name= 'line10')\n",
    "    pp.create_line(net, b12, b2, length_km=16, std_type='149-AL1/24-ST1A 110.0', name= 'line11')\n",
    "\n",
    "# Transformateurs\n",
    "    pp.create_transformer(net, b1, b3, std_type=\"25 MVA 110/20 kV\", name=\"TR_1\")\n",
    "    pp.create_transformer(net, b2, b4, std_type=\"25 MVA 110/20 kV\", name=\"TR_2\")\n",
    "    pp.create_transformer(net, b3, b5, std_type=\"0.4 MVA 20/0.4 kV\", name=\"TR_3\")\n",
    "    pp.create_transformer(net, b4, b6, std_type=\"0.4 MVA 20/0.4 kV\", name=\"TR_4\")\n",
    "\n",
    "# Éléments de bus\n",
    "    pp.create_ext_grid(net, bus=b0, vm_pu=1.00, name=\"Grid Connection\")\n",
    "    pp.create_load(net, bus=b9, p_mw=0.02, q_mvar=0.02, name=\"Residential Load\")\n",
    "    pp.create_gen(net, bus=b10, p_mw=0.2, vm_pu=1.00, name=\"PV\", max_q_mvar=200, min_q_mvar=0, max_p_mw=300, min_p_mw=0, controllable=False)\n",
    "    pp.create_gen(net, bus=b7, p_mw=6.5, vm_pu=1.0, name=\"Wind Turbine\", controllable=False)\n",
    "    pp.create_load(net, bus=b8, p_mw=6, q_mvar=1.8, name=\"Industry\")\n",
    "    pp.create_load(net, bus=b11, p_mw=20, q_mvar=9, name=\"Datacenter\")\n",
    "    pp.create_load(net, bus=b12, p_mw=50, q_mvar=24, name=\"Big industry\")\n",
    "\n",
    "# Donner accès à net\n",
    "    return net"
   ],
   "metadata": {
    "id": "UQqMSiRKOB_3"
   },
   "outputs": [],
   "execution_count": null
  },
  {
   "cell_type": "code",
   "source": [
    "def create_digraph():\n",
    "  net = create_network()\n",
    "\n",
    "  import json\n",
    "  import networkx as nx\n",
    "# 1. Conversion du réseau Pandapower en DiGraph\n",
    "# ================================\n",
    "  G = nx.DiGraph()\n",
    "\n",
    "# Créer les positions à partir de la colonne \"geo\"\n",
    "  pos = {}\n",
    "  for idx, row in net.bus.iterrows():\n",
    "  # Extraire le champ 'geo' qui est une chaîne de caractères représentant un dictionnaire JSON\n",
    "      geo_data = row['geo']\n",
    "\n",
    "  # Convertir la chaîne JSON en un dictionnaire Python\n",
    "      geo_dict = json.loads(geo_data)\n",
    "\n",
    "  # Extraire la liste des coordonnées\n",
    "      coordinates = geo_dict[\"coordinates\"]\n",
    "\n",
    "  # Ajouter les coordonnées dans le dictionnaire pos\n",
    "      pos[idx] = tuple(coordinates)  # Assigner les coordonnées sous forme de tuple\n",
    "\n",
    "# Ajouter les nœuds (avec le nom comme label) and voltage\n",
    "  for idx, row in net.bus.iterrows():\n",
    "      G.add_node(idx, label=row[\"name\"], pos=pos[idx], vn_kv=row[\"vn_kv\"])\n",
    "\n",
    "\n",
    "# Ajouter les arêtes pour les lines\n",
    "  for _, row in net.line.iterrows():\n",
    "      G.add_edge(row[\"from_bus\"], row[\"to_bus\"], type=\"line\", name=row[\"name\"], length=row[\"length_km\"], std_type=row[\"std_type\"])\n",
    "\n",
    "# Ajouter les arêtes pour les transformateurs\n",
    "  for _, row in net.trafo.iterrows():\n",
    "      G.add_edge(row[\"hv_bus\"], row[\"lv_bus\"], type=\"trafo\", name=row[\"name\"], std_type = None)\n",
    "\n",
    "# Ajouter les générateurs et les charges comme attributs aux nœuds\n",
    "  for _, row in net.gen.iterrows():\n",
    "      G.nodes[row[\"bus\"]][\"type\"] = \"gen\"\n",
    "      G.nodes[row[\"bus\"]][\"gen_name\"] = row[\"name\"]\n",
    "      G.nodes[row[\"bus\"]][\"gen_power\"] = row[\"p_mw\"]\n",
    "\n",
    "  for _, row in net.load.iterrows():\n",
    "      G.nodes[row[\"bus\"]][\"type\"] = \"load\"\n",
    "      G.nodes[row[\"bus\"]][\"load_name\"] = row[\"name\"]\n",
    "      G.nodes[row[\"bus\"]][\"load_power\"] = row[\"p_mw\"]\n",
    "\n",
    "  for _, row in net.ext_grid.iterrows():\n",
    "      G.nodes[row[\"bus\"]][\"type\"] = \"ext_grid\"\n",
    "      G.nodes[row[\"bus\"]][\"grid_name\"] = row[\"name\"]\n",
    "\n",
    "# 2. Ajout des puissances consommées et injectées aux nœuds\n",
    "# ================================\n",
    "  nx.set_node_attributes(G, 0.0, \"P_load\")\n",
    "  nx.set_node_attributes(G, 0.0, \"P_gen\")\n",
    "\n",
    "# Charges\n",
    "  for _, row in net.load.iterrows():\n",
    "      G.nodes[row[\"bus\"]][\"P_load\"] += row[\"p_mw\"]\n",
    "      print(row)\n",
    "\n",
    "# Générateurs\n",
    "  for _, row in net.gen.iterrows():\n",
    "      G.nodes[row[\"bus\"]][\"P_gen\"] += row[\"p_mw\"]\n",
    "\n",
    "# Source externe\n",
    "  for _, row in net.ext_grid.iterrows():\n",
    "      G.nodes[row[\"bus\"]][\"P_gen\"] += 0\n",
    "\n",
    "# Calculate P_net\n",
    "  for n in G.nodes:\n",
    "      G.nodes[n][\"P_net\"] = G.nodes[n][\"P_gen\"] - G.nodes[n][\"P_load\"]\n",
    "\n",
    "# Create subnetworks (NetworkX DiGraphs) from the main graph G\n",
    "  network1_buses = [0, 1, 2, 11,12]\n",
    "  network2_buses = [3, 7, 5, 9, 10]\n",
    "  network3_buses = [4, 8, 6]\n",
    "\n",
    "# Assign G1 to G and then add power attributes to nodes in G\n",
    "  G = G.subgraph(network1_buses)\n",
    "\n",
    "  for n in G.nodes:\n",
    "      G.nodes[n][\"P\"] = G.nodes[n][\"P_net\"] # Assign P_net to 'P' attribute\n",
    "\n",
    "# 3. Préparer les couleurs des nœuds en fonction de P_net\n",
    "# ================================\n",
    "  node_colors = []\n",
    "  for n, data in G.nodes(data=True):\n",
    "      if data[\"P_net\"] > 0:\n",
    "          node_colors.append(\"green\")   # producteur\n",
    "      elif data[\"P_net\"] < 0:\n",
    "          node_colors.append(\"red\")     # consommateur\n",
    "      else:\n",
    "          node_colors.append(\"gray\")    # neutre\n",
    "\n",
    "# 4. Préparer les labels : Nom + P_net\n",
    "# ================================\n",
    "  labels = {n: f\"{data['label']}\\nP={round(data['P_net'],2)}MW\"\n",
    "            for n, data in G.nodes(data=True)}\n",
    "\n",
    "# 5. Function to plot the network\n",
    "# ================================\n",
    "  def plot_network():\n",
    "      pos = nx.get_node_attributes(G, 'pos')\n",
    "\n",
    "      plt.figure(figsize=(12, 8))\n",
    "      nx.draw(\n",
    "          G, pos,\n",
    "          with_labels=True, labels=labels,\n",
    "          node_size=1200, node_color=node_colors,\n",
    "          edgecolors=\"black\", font_size=8,\n",
    "          alpha=0.85\n",
    "          )\n",
    "\n",
    "  # Labels des arêtes (type ligne ou trafo)\n",
    "      edge_labels = nx.get_edge_attributes(G, 'type')\n",
    "      nx.draw_networkx_edge_labels(G, pos, edge_labels=edge_labels, font_size=7)\n",
    "\n",
    "      plt.title(\"Réseau électrique avec puissances (P_net)\")\n",
    "      plt.axis(\"equal\")\n",
    "      plt.show()\n",
    "\n",
    "\n",
    "  return G, plot_network()"
   ],
   "metadata": {
    "id": "L2tSLt42fckE"
   },
   "outputs": [],
   "execution_count": null
  },
  {
   "cell_type": "code",
   "source": [
    "G, plot_func = create_digraph()"
   ],
   "metadata": {
    "colab": {
     "base_uri": "https://localhost:8080/",
     "height": 1000
    },
    "id": "tnfnysf3g7Km",
    "outputId": "a6872326-47c9-4ac1-f632-6da05e435cde"
   },
   "outputs": [],
   "execution_count": null
  },
  {
   "cell_type": "code",
   "source": [
    "#Calculate the susceptance of each line in Siemens per km\n",
    "strange = 1000\n",
    "for u, v in G.edges():\n",
    "    G[u][v]['b'] = length(u,v)* 200*10**-6 *strange\n",
    "    print(G[u][v]['b'])"
   ],
   "metadata": {
    "colab": {
     "base_uri": "https://localhost:8080/"
    },
    "id": "4joTAruugLdr",
    "outputId": "12e5ad63-9311-49b6-cbbb-b51dd2f68787"
   },
   "outputs": [],
   "execution_count": null
  },
  {
   "cell_type": "code",
   "source": [
    "# Convert susceptance 'b' on edges to per-unit\n",
    "for u, v in G.edges():\n",
    "    # Assuming 'b' is in Siemens/km, convert to per-unit\n",
    "    # b_pu = b_actual * (V_base^2 / S_base)\n",
    "    # V_base is assumed to be v_base_high (110 kV)\n",
    "    G[u][v]['b_pu'] = G[u][v].get('b', 0.0) * (get_base_node_voltage_kv(u)**2 / s_base)\n",
    "    print(G[u][v]['b_pu'])"
   ],
   "metadata": {
    "id": "xWiNeivwgrD6",
    "colab": {
     "base_uri": "https://localhost:8080/"
    },
    "outputId": "8f9b5783-0255-4fdf-b5cc-12b3b1079e5f"
   },
   "outputs": [],
   "execution_count": null
  },
  {
   "cell_type": "code",
   "metadata": {
    "colab": {
     "base_uri": "https://localhost:8080/"
    },
    "id": "07q_jJUiinf_",
    "outputId": "90869daa-c963-4e8f-b05f-fe28956054c3"
   },
   "source": [
    "m = pyo.ConcreteModel()\n",
    "# Define base values for the per-unit system\n",
    "s_base = 100  # MVA\n",
    "v_base_high = 110 # kV (From the create_network function)\n",
    "\n",
    "m.Nodes = pyo.Set(initialize= [b for b in G.nodes])\n",
    "m.Lines = pyo.Set(initialize= [l for l in G.edges])\n",
    "m.i = pyo.Set(initialize=[0, 1]) # Initialize m.i with two generic elements\n",
    "m.j = pyo.Set(initialize= [0, 1])\n",
    "m.children = pyo.Set(initialize= [1, 2])\n",
    "m.parents = pyo.Set(initialize = [0])\n",
    "\n",
    "m.P = pyo.Param(m.Nodes, initialize = {n: - G.nodes[n].get('P') for n in G.nodes}, domain = pyo.Reals, mutable=True) # Make P mutable\n",
    "\n",
    "m.info_DSO_param = pyo.Param(m.children, initialize = {n: info_DSO[n-1] for n in m.children}, domain = pyo.Reals) # Renamed parameter and adjusted index for list\n",
    "\n",
    "m.I_min = pyo.Param(m.Lines, initialize = {(i,j): calculate_current_bounds(G.edges[i,j][\"std_type\"], get_base_node_voltage_kv(i))[0] for (i,j) in m.Lines}, domain = pyo.Reals)\n",
    "m.I_max = pyo.Param(m.Lines, initialize = {(i,j): calculate_current_bounds(G.edges[i,j][\"std_type\"], get_base_node_voltage_kv(i))[1] for (i,j) in m.Lines}, domain = pyo.Reals)\n",
    "\n",
    "print(m.I_min[(0,1)])\n",
    "print(m.I_max[(0,1)])\n",
    "\n",
    "# Variables principales\n",
    "m.F = pyo.Var(m.Lines, m.i, m.j, domain=pyo.Reals)     # active power flow through lines\n",
    "m.I = pyo.Var(m.Lines,  m.i, m.j, domain=pyo.Reals)  # current flowing through lines\n",
    "m.theta = pyo.Var(m.Nodes,  m.i, m.j, domain=pyo.Reals)  # phase angle of the voltage\n",
    "m.V = pyo.Var(m.Nodes, m.i, m.j, domain=pyo.NonNegativeReals)  # voltage magnitude at each node\n",
    "m.E = pyo.Var(m.Nodes, m.i, m.j, domain=pyo.Reals) #net power injection/consumption\n",
    "m.P_plus = pyo.Var(m.parents, m.i, m.j, domain=pyo.Reals) #power entering the operational graph\n",
    "m.P_minus = pyo.Var(m.children, m.i, m.j, domain=pyo.Reals) #power leaving the operational graph\n",
    "\n",
    "m.P_C_set = pyo.Var(m.children, m.i, domain=pyo.Reals) #vertices of the power envelope at each child node\n",
    "\n",
    "#m.P_C_min = pyo.Var(m.children, m.i, m.j, domain=pyo.Reals)\n",
    "#m.P_C_max = pyo.Var(m.children, m.i, m.j,  domain=pyo.Reals)\n",
    "\n",
    "m.V_P = pyo.Param(m.j, initialize = {0: 0.9, 1: 1.1}, domain =pyo.NonNegativeReals)\n",
    "\n",
    "m.O = pyo.Var(domain= pyo.NonNegativeReals)\n",
    "m.tot = pyo.Var(domain= pyo.Reals)\n",
    "m.aux = pyo.Var(m.children, domain=pyo.Reals)\n",
    "\n",
    "\n",
    "for u in G.nodes():\n",
    "  if G.nodes[u].get('P', 0.0) / s_base == 0:\n",
    "    m.P[u] = 0\n",
    "  else:\n",
    "    G.nodes[u]['P_pu'] = G.nodes[u].get('P', 0.0) / s_base\n",
    "    m.P[u] = - G.nodes[u]['P_pu']\n",
    "\n",
    "\"\"\"# Convert P parameter to per-unit\n",
    "for n in G.nodes:\n",
    "    # Assuming P is in MW, convert to per-unit\n",
    "    G.nodes[n]['P'] = G.nodes[n].get('P', 0.0) / s_base\n",
    "    m.P[n] = G.nodes[n]['P']\"\"\"\n",
    "\n",
    "\n",
    "# Convert susceptance 'b' on edges to per-unit\n",
    "for u, v in G.edges():\n",
    "    # Assuming 'b' is in Siemens/km, convert to per-unit\n",
    "    # b_pu = b_actual * (V_base^2 / S_base)\n",
    "    # V_base is assumed to be v_base_high (110 kV)\n",
    "    G[u][v]['b_pu'] = G[u][v].get('b', 0.0) * (get_base_node_voltage_kv(u)**2 / s_base)\n",
    "\n",
    "    print(G[u][v]['b_pu'])"
   ],
   "outputs": [],
   "execution_count": null
  },
  {
   "cell_type": "code",
   "source": [
    "for n in G.nodes:\n",
    "  print(m.P[n].value)\n",
    "m.P[1].value\n"
   ],
   "metadata": {
    "colab": {
     "base_uri": "https://localhost:8080/"
    },
    "id": "1tUFkVhBIp_x",
    "outputId": "697c0eb5-9e24-4a5b-8272-1a122dd4b3d7"
   },
   "outputs": [],
   "execution_count": null
  },
  {
   "cell_type": "code",
   "metadata": {
    "id": "lmnxCzo_aFST",
    "colab": {
     "base_uri": "https://localhost:8080/",
     "height": 1000
    },
    "outputId": "6bcbb620-f4bd-40b3-abe5-d7acc38e94af"
   },
   "source": [
    "#Children nodes consumption\n",
    "def worst_case_children(m, n, vert_pow, vert_volt):\n",
    "  return m.P_C_set[n, vert_pow] == m.P_minus[n, vert_pow, vert_volt]\n",
    "m.worst_case = pyo.Constraint(m.children, m.i, m.j, rule=worst_case_children)\n",
    "\n",
    "\n",
    "# Auxiliary variable for the absolute value of E (already defined as per-unit)\n",
    "m.z = pyo.Var(m.Nodes, m.i, m.j, domain=pyo.NonNegativeReals)\n",
    "\n",
    "m.curt = pyo.Var(m.Nodes, m.i, m.j, domain=pyo.Reals)\n",
    "\n",
    "def curtailment_def_rule(m,n, vert_pow, vert_volt):\n",
    "\n",
    "  return m.curt[n, vert_pow, vert_volt] == m.P[n] - m.E[n, vert_pow, vert_volt]\n",
    "\n",
    "m.curt_def = pyo.Constraint(m.Nodes, m.i, m.j, rule=curtailment_def_rule)\n",
    "# Constraints to define the absolute value (already defined for per-unit E)\n",
    "def abs_E_pos_rule(m, n, vert_pow, vert_volt):\n",
    "    return m.z[n, vert_pow, vert_volt] >= m.curt[n, vert_pow, vert_volt]\n",
    "m.abs_E_pos = pyo.Constraint(m.Nodes, m.i, m.j, rule=abs_E_pos_rule)\n",
    "\n",
    "def abs_E_neg_rule(m, n, vert_pow, vert_volt):\n",
    "    return m.z[n, vert_pow, vert_volt] >= -m.curt[n, vert_pow, vert_volt]\n",
    "m.abs_E_neg = pyo.Constraint(m.Nodes, m.i, m.j, rule=abs_E_neg_rule)\n",
    "\n",
    "def upper_bound_rule(m, vert_pow, vert_volt):\n",
    "    # m.z is per-unit, m.O is per-unit\n",
    "    return sum(m.z[n, vert_pow, vert_volt] for n in m.Nodes) <= m.O\n",
    "\n",
    "m.upper_bound = pyo.Constraint(m.i, m.j, rule=upper_bound_rule)\n",
    "\n",
    "# Current magnitude constraint (I_min, I_max are assumed per-unit)\n",
    "def current_bounds_rule(m, i, j, vert_pow, vert_volt):\n",
    "    # m.I is per-unit current\n",
    "    return pyo.inequality(m.I_min[(i,j)], m.I[i,j, vert_pow, vert_volt], m.I_max[(i,j)])\n",
    "m.CurrentBounds = pyo.Constraint(m.Lines, m.i, m.j, rule=current_bounds_rule)\n",
    "\n",
    "def phase_constr_rule(m,n, vert_pow, vert_volt):\n",
    "    return pyo.inequality(theta_min/10, m.theta[n, vert_pow, vert_volt], theta_max/10)\n",
    "\n",
    "m.phaseConstr = pyo.Constraint(m.Nodes, m.i, m.j, rule=phase_constr_rule)\n",
    "\n",
    "def dc_power_flow_rule(m, i, j, vert_pow, vert_volt):\n",
    "    return m.F[i, j, vert_pow, vert_volt] == m.V_P[vert_volt]**2 *(G[i][j]['b_pu'] * (\n",
    "        m.theta[i, vert_pow, vert_volt] - m.theta[j, vert_pow, vert_volt])\n",
    "    )\n",
    "\n",
    "m.DCFlow = pyo.Constraint(m.Lines, m.i, m.j, rule=dc_power_flow_rule)\n",
    "\n",
    "\n",
    "def current_def_rule(m, n, i, j, vert_pow, vert_volt):\n",
    "    # This constraint relates per-unit current, per-unit voltage, and per-unit power flow.\n",
    "    # In per-unit, P_pu = V_pu * I_pu. This is correct.\n",
    "    return m.I[i,j, vert_pow, vert_volt] * m.V_P[vert_volt] == m.F[i,j, vert_pow, vert_volt]\n",
    "\n",
    "m.current_def = pyo.Constraint(m.Nodes, m.Lines, m.i, m.j, rule=current_def_rule)\n",
    "\n",
    "\n",
    "\n",
    "def nodes_balance(m, n, vert_pow, vert_volt):\n",
    "    inflow = sum(m.F[k, n, vert_pow, vert_volt] for k in G.predecessors(n) if (k, n) in m.Lines)\n",
    "    outflow = sum(m.F[n, j, vert_pow, vert_volt] for j in G.successors(n) if (n, j) in m.Lines)\n",
    "    if n in m.parents:\n",
    "      return inflow - outflow  ==  m.E[n, vert_pow, vert_volt] - m.P_plus[n, vert_pow, vert_volt]\n",
    "\n",
    "    if n in m.children:\n",
    "      return inflow - outflow  ==  m.E[n, vert_pow, vert_volt] + m.P_minus[n, vert_pow, vert_volt]\n",
    "\n",
    "    else:\n",
    "      return inflow - outflow ==  m.E[n,vert_pow,vert_volt]\n",
    "\n",
    "m.nodes_balance = pyo.Constraint(m.Nodes, m.i, m.j, rule=nodes_balance)\n",
    "\n",
    "\n",
    "def parent_power_constraint_rule(m, parent, vert_pow, vert_volt):\n",
    "    # m.P_plus is per-unit power entering the operational graph\n",
    "    return pyo.inequality(0, m.P_plus[parent, vert_pow, vert_volt], P_max)\n",
    "\n",
    "m.parent_power_constraint = pyo.Constraint(m.parents, m.i, m.j, rule=parent_power_constraint_rule)\n",
    "\n",
    "def parent_power_constraint_rule2(m, parent, vert_pow, vert_volt):\n",
    "    # m.P_plus is per-unit power entering the operational graph\n",
    "    return pyo.inequality(P_min, m.P_minus[parent, vert_pow, vert_volt], P_max)\n",
    "\n",
    "m.parent_power_constraint2 = pyo.Constraint(m.children, m.i, m.j, rule=parent_power_constraint_rule2)\n",
    "\n",
    "#Constant voltage assumption\n",
    "def voltage_constr_rule(m, n, vert_pow, vert_volt):\n",
    "    return m.V[n, vert_pow, vert_volt] == m.V_P[vert_volt]\n",
    "\n",
    "m.voltageConstr = pyo.Constraint(m.Nodes, m.i, m.j, rule=voltage_constr_rule)\n",
    "\n",
    "def children_voltage_rule(m, children, vert_pow, vert_volt):\n",
    "    return pyo.inequality(V_min, m.V[children, vert_pow, vert_volt], V_max)\n",
    "\n",
    "m.children_voltage = pyo.Constraint(m.children, m.i, m.j, rule=children_voltage_rule)\n",
    "\n",
    "\n",
    "\n",
    "def aux_constraint_rule(m, n):\n",
    "  return m.aux[n] == m.P_C_set[n, 0] - m.P_C_set[n, 1]\n",
    "m.aux_constraint = pyo.Constraint(m.children, rule=aux_constraint_rule)\n",
    "\n",
    "\n",
    "def info_DSO_min_rule(m,n):\n",
    "  return m.P_C_set[n,1] <= m.info_DSO_param[n]\n",
    "m.info_DSO_min = pyo.Constraint(m.children, rule=info_DSO_min_rule)\n",
    "\n",
    "def info_DSO_max_rule(m,n):\n",
    "  return m.P_C_set[n,0] >= m.info_DSO_param[n]\n",
    "m.info_DSO_max = pyo.Constraint(m.children, rule=info_DSO_max_rule)\n",
    "\n",
    "def tot_rule(m):\n",
    "  return m.tot == sum(m.aux[n] for n in m.children)\n",
    "m.tot_constraint = pyo.Constraint(rule=tot_rule)\n",
    "\n",
    "\"\"\"# Auxiliary variables for the L1 norm of P_C_set\n",
    "m.abs_P_C_set = pyo.Var(m.children, domain=pyo.NonNegativeReals)\n",
    "\n",
    "# Constraints to linearize the L1 norm of P_C_set\n",
    "def abs_P_C_set_pos_rule(m, n):\n",
    "    return m.abs_P_C_set[n] >= m.aux[n]\n",
    "m.abs_P_C_set_pos = pyo.Constraint(m.children, rule=abs_P_C_set_pos_rule)\n",
    "\n",
    "def abs_P_C_set_neg_rule(m, n):\n",
    "    return m.abs_P_C_set[n] >= -m.aux[n]\n",
    "m.abs_P_C_set_neg = pyo.Constraint(m.children, rule=abs_P_C_set_neg_rule)\"\"\""
   ],
   "outputs": [],
   "execution_count": null
  },
  {
   "cell_type": "code",
   "metadata": {
    "colab": {
     "base_uri": "https://localhost:8080/"
    },
    "id": "-mZTkvu9jn1c",
    "outputId": "30649b2a-4e55-4822-8356-6fe1b7eb9e91"
   },
   "source": [
    "A = [0.5,1,1.1,1.2,1.3,1.4,1.5,1.6,1.7,1.8,1.9,1.95,2,2.05,2.1,2.2,2.3,2.4,2.5,2.6,2.7,2.8,2.9,3,3.1,3.2]\n",
    "#A = range(-3, 26)\n",
    "\n",
    "enveloppe_taille = []\n",
    "curtail = []\n",
    "\n",
    "for alpha in A:\n",
    "  print(alpha)\n",
    "  def objective_rule(m):\n",
    "    return  m.tot - alpha*m.O\n",
    "  m.objective = pyo.Objective(rule=objective_rule, sense=pyo.maximize)\n",
    "  params = {\n",
    "    \"WLSACCESSID\": 'efa10779-150a-495c-ab62-6a20ff44c598',\n",
    "    \"WLSSECRET\": 'fa980d94-a6fd-4d7b-aa68-b0e19ddd2e84',\n",
    "    \"LICENSEID\": 2651433,\n",
    "           }\n",
    "  env = gp.Env(params=params)\n",
    "  solver = pyo.SolverFactory('gurobi', env= env)\n",
    "  results = solver.solve(m, tee=True)\n",
    "\n",
    "  # Check the termination condition before accessing results\n",
    "  if results.solver.termination_condition == pyo.TerminationCondition.optimal:\n",
    "      curtail.append(m.O.value)\n",
    "      enveloppe_taille.append(m.tot.value)\n",
    "  else:\n",
    "      # Append None or some indicator for non-optimal results\n",
    "      curtail.append(None)\n",
    "      enveloppe_taille.append(None)"
   ],
   "outputs": [],
   "execution_count": null
  },
  {
   "cell_type": "code",
   "source": [
    "print(enveloppe_taille)\n",
    "print(curtail)"
   ],
   "metadata": {
    "colab": {
     "base_uri": "https://localhost:8080/"
    },
    "id": "1NVontHX56qn",
    "outputId": "21a437eb-a7df-498d-e499-5764b42c4bd0"
   },
   "outputs": [],
   "execution_count": null
  },
  {
   "cell_type": "code",
   "source": [
    "# Convert A to a numpy array for easier plotting\n",
    "alpha_values = np.array(A)\n",
    "\n",
    "# Convert lists to numpy arrays, replacing None with NaN for plotting\n",
    "enveloppe_taille_np = np.array(enveloppe_taille, dtype=float)\n",
    "curtail_np = np.array(curtail, dtype=float)\n",
    "\n",
    "\n",
    "plt.figure(figsize=(10, 6))\n",
    "\n",
    "# Plot enveloppe_taille vs alpha\n",
    "plt.plot(alpha_values, enveloppe_taille_np, marker='o', linestyle='-', label='Envelope Volume')\n",
    "\n",
    "# Plot curtail vs alpha\n",
    "plt.plot(alpha_values, curtail_np, marker='x', linestyle='--', label='Curtailment')\n",
    "\n",
    "# Set x-axis to a logarithmic scale\n",
    "#plt.xscale('log')\n",
    "\n",
    "plt.xlabel('Alpha')\n",
    "plt.ylabel('Value (per-unit)')\n",
    "plt.title('Evolution of the volume of the envelope and curtailment as a function of parameter Alpha')\n",
    "plt.legend()\n",
    "plt.grid(True)\n",
    "plt.show()"
   ],
   "metadata": {
    "colab": {
     "base_uri": "https://localhost:8080/",
     "height": 564
    },
    "id": "aoa6t8W0-51-",
    "outputId": "7327d9f6-c577-4ee4-be25-f21885cd2881"
   },
   "outputs": [],
   "execution_count": null
  },
  {
   "cell_type": "code",
   "metadata": {
    "colab": {
     "base_uri": "https://localhost:8080/"
    },
    "id": "Zd4uqbCig5UO",
    "outputId": "967834c9-1f0f-4625-c43f-8719d0c26a83"
   },
   "source": [
    "print(m.E[0,0,0].value)\n",
    "print(m.E[0,0,1].value)\n",
    "\n",
    "print(m.E[11,0,0].value)\n",
    "print(m.E[11,0,1].value)\n",
    "\n",
    "print(m.E[12,0,0].value)\n",
    "print(m.E[12,0,1].value)"
   ],
   "outputs": [],
   "execution_count": null
  },
  {
   "cell_type": "code",
   "source": [
    "print(m.F[0,11,0,0].value)\n",
    "print(m.F[0,11,0,1].value)"
   ],
   "metadata": {
    "colab": {
     "base_uri": "https://localhost:8080/"
    },
    "id": "NENTSxfa9uvF",
    "outputId": "3ad90da6-42c1-48cf-b7c9-023dbd0487ef"
   },
   "outputs": [],
   "execution_count": null
  },
  {
   "cell_type": "code",
   "source": [
    "print(m.P_C_set[1,0].value)\n",
    "print(m.P_C_set[1,1].value)\n",
    "\n",
    "print(m.P_C_set[2,0].value)\n",
    "print(m.P_C_set[2,1].value)"
   ],
   "metadata": {
    "id": "IkgOu2o19_zB",
    "colab": {
     "base_uri": "https://localhost:8080/"
    },
    "outputId": "c1a94a83-072d-4c97-8248-7b751a0e962b"
   },
   "outputs": [],
   "execution_count": null
  },
  {
   "cell_type": "code",
   "source": [
    "print(m.theta[0,0,0].value)\n",
    "print(m.theta[0,0,1].value)\n",
    "\n",
    "print(m.theta[11,0,0].value)\n",
    "print(m.theta[11,0,1].value)"
   ],
   "metadata": {
    "colab": {
     "base_uri": "https://localhost:8080/"
    },
    "id": "CYApfTOsxcQq",
    "outputId": "eeb4e605-9ec9-40fe-e65c-251828d615e2"
   },
   "outputs": [],
   "execution_count": null
  },
  {
   "cell_type": "code",
   "metadata": {
    "colab": {
     "base_uri": "https://localhost:8080/"
    },
    "id": "_4ZROnYa5l-w",
    "outputId": "288c8485-ed59-4376-8232-9de127b3c5c5"
   },
   "source": [
    "\n",
    "m.O.value\n"
   ],
   "outputs": [],
   "execution_count": null
  },
  {
   "cell_type": "code",
   "source": [
    "m.aux[1].value"
   ],
   "metadata": {
    "colab": {
     "base_uri": "https://localhost:8080/"
    },
    "id": "YFauH9aNTeF6",
    "outputId": "c3f54846-28ba-464e-dd24-49cd60d8587d"
   },
   "outputs": [],
   "execution_count": null
  },
  {
   "cell_type": "code",
   "source": [
    "m.P_C_set[1,0].value"
   ],
   "metadata": {
    "colab": {
     "base_uri": "https://localhost:8080/"
    },
    "id": "39TFnzDwmiqq",
    "outputId": "96b7a040-3b00-40d3-8be7-c6bb01c80575"
   },
   "outputs": [],
   "execution_count": null
  },
  {
   "cell_type": "code",
   "source": [
    "m.P_C_set[1,1].value"
   ],
   "metadata": {
    "colab": {
     "base_uri": "https://localhost:8080/"
    },
    "id": "Y15pFmytmlJF",
    "outputId": "5f075b8f-596b-4494-ff7a-ba2711c9395f"
   },
   "outputs": [],
   "execution_count": null
  },
  {
   "cell_type": "code",
   "source": [
    "m.aux[2].value"
   ],
   "metadata": {
    "colab": {
     "base_uri": "https://localhost:8080/"
    },
    "id": "l7xR_m6vdLaj",
    "outputId": "91dea29b-a1c0-4a10-c0b3-29ced25a2b92"
   },
   "outputs": [],
   "execution_count": null
  },
  {
   "cell_type": "code",
   "source": [
    "m.P[0].value"
   ],
   "metadata": {
    "colab": {
     "base_uri": "https://localhost:8080/"
    },
    "id": "yCYL-7dT264A",
    "outputId": "da2c55fa-0344-4ff0-c8d6-0b7c3fe3e616"
   },
   "outputs": [],
   "execution_count": null
  },
  {
   "cell_type": "code",
   "source": [
    "m.P_plus[0,0,1].value"
   ],
   "metadata": {
    "colab": {
     "base_uri": "https://localhost:8080/"
    },
    "id": "bafVltiQb3l1",
    "outputId": "02890517-5645-4ac2-bd26-e4ac9081141f"
   },
   "outputs": [],
   "execution_count": null
  },
  {
   "cell_type": "code",
   "source": [
    "m.P_minus[1,0,1].value"
   ],
   "metadata": {
    "colab": {
     "base_uri": "https://localhost:8080/"
    },
    "id": "h3AgcpVV-f4W",
    "outputId": "cc6117a3-c583-4d5c-d1d6-a4e098ac7a34"
   },
   "outputs": [],
   "execution_count": null
  },
  {
   "cell_type": "code",
   "source": [
    "m.P_C_set[2,0].value"
   ],
   "metadata": {
    "colab": {
     "base_uri": "https://localhost:8080/"
    },
    "id": "xl7FypV1Tlrl",
    "outputId": "4068b87a-9b3f-4f32-f131-d4478f2a8c8b"
   },
   "outputs": [],
   "execution_count": null
  },
  {
   "cell_type": "code",
   "source": [
    "m.P_C_set[1,1].value"
   ],
   "metadata": {
    "colab": {
     "base_uri": "https://localhost:8080/"
    },
    "id": "5lCcyvYUTtwX",
    "outputId": "ef963523-7b06-4c07-c892-8e0d54a0cecd"
   },
   "outputs": [],
   "execution_count": null
  },
  {
   "cell_type": "code",
   "source": [
    "for (u,v) in m.Lines:\n",
    "  print((u,v))"
   ],
   "metadata": {
    "colab": {
     "base_uri": "https://localhost:8080/"
    },
    "id": "Cz27heJDAltP",
    "outputId": "20daf1a1-056c-4620-a31d-3c6fd082249c"
   },
   "outputs": [],
   "execution_count": null
  },
  {
   "cell_type": "code",
   "source": [
    "# Corrected loop structure to iterate over m.Lines\n",
    "for (u, v) in m.Lines:\n",
    "  for vert_pow in m.i:\n",
    "    for vert_volt in m.j:\n",
    "      print(f\"Flow on line ({u}, {v}) for i={vert_pow}, j={vert_volt}: {m.F[u, v, vert_pow, vert_volt].value}\")"
   ],
   "metadata": {
    "id": "uWWCqNgMmZ9T"
   },
   "outputs": [],
   "execution_count": null
  },
  {
   "cell_type": "code",
   "metadata": {
    "colab": {
     "base_uri": "https://localhost:8080/",
     "height": 859
    },
    "id": "d9217975",
    "outputId": "efb13622-c291-4a2b-d44b-f945677c2f26"
   },
   "source": [
    "def plot_power_flow(m, i, j):\n",
    "    pos = nx.get_node_attributes(G, 'pos')\n",
    "    # Use node indices as labels\n",
    "    labels = {}\n",
    "    label_colors = [] # This is for node colors, will remove this later if needed or set to default\n",
    "    for n in G.nodes():\n",
    "        label_text = f\"{n}\"\n",
    "        if n in m.parents:\n",
    "            # Display parent bounds using the global P_min and P_max parameters\n",
    "            label_text += f\"\\n[{P_min}, {P_max}]\"\n",
    "            # No specific color for label text here, use default\n",
    "            label_colors.append('steelblue') # Default node color based on previous plots\n",
    "        elif n in m.children:\n",
    "            # Display children interval with smaller value first\n",
    "            p_c_values = [m.P_C_set[n, 0].value, m.P_C_set[n, 1].value]\n",
    "            label_text += f\"\\n[{round(min(p_c_values), 4)}, {round(max(p_c_values), 4)}]\"\n",
    "            # We will try to color this text red when drawing labels\n",
    "            label_colors.append('steelblue') # Default node color\n",
    "        else:\n",
    "            label_colors.append('steelblue') # Default node color\n",
    "        labels[n] = label_text\n",
    "\n",
    "\n",
    "    plt.figure(figsize=(12, 8))\n",
    "\n",
    "    edge_colors = []\n",
    "    edge_labels = {}\n",
    "\n",
    "    for u, v in G.edges():\n",
    "        try:\n",
    "            # Correct the sign of the flow value for plotting\n",
    "            flow_value = m.F[u, v, i, j].value\n",
    "            if flow_value is not None:\n",
    "                edge_labels[(u, v)] = f\"{round(flow_value, 4)}\"\n",
    "                if flow_value > 0:\n",
    "                    edge_colors.append('blue')  # Positive flow (now correctly represents flow from u to v)\n",
    "                elif flow_value < 0:\n",
    "                    edge_colors.append('red')  # Negative (reverse) flow (now correctly represents flow from v to u)\n",
    "                else:\n",
    "                    edge_colors.append('gray') # No flow\n",
    "            else:\n",
    "                edge_colors.append('gray') # No flow value\n",
    "        except:\n",
    "            edge_colors.append('gray') # Handle cases where edge might not be in m.F\n",
    "\n",
    "    # Draw the network\n",
    "    nx.draw(\n",
    "        G, pos,\n",
    "        with_labels=False, # Draw labels separately for color control\n",
    "        node_size=1200,\n",
    "        edge_color=edge_colors, # Use the calculated edge colors\n",
    "        edgecolors=\"black\", font_size=8,\n",
    "        alpha=0.85,\n",
    "        node_color = label_colors # Apply node colors\n",
    "    )\n",
    "\n",
    "    # Draw labels with different colors\n",
    "    for n in G.nodes():\n",
    "        x, y = pos[n]\n",
    "        text = labels[n]\n",
    "        if n in m.children:\n",
    "            plt.text(x, y - 0.1, text, fontsize=10, ha='center', va='top', color='red') # Color children interval red\n",
    "        elif n in m.parents:\n",
    "             plt.text(x, y + 0.1, text, fontsize=10, ha='center', va='bottom', color='black') # Color parent bounds black\n",
    "        else:\n",
    "             plt.text(x, y, text, fontsize=8, ha='center', va='center', color='black') # Default color for other labels\n",
    "\n",
    "\n",
    "    nx.draw_networkx_edge_labels(G, pos, edge_labels=edge_labels, font_size=7, label_pos=0.3)\n",
    "\n",
    "    plt.title(f\"Power Flow (per-unit) for i={i}, j={j}, alpha = 3\")\n",
    "    plt.axis(\"equal\")\n",
    "    plt.show()\n",
    "\n",
    "# Example usage (assuming m, i=0, and j=0 are defined)\n",
    "plot_power_flow(m, 0, 1)"
   ],
   "outputs": [],
   "execution_count": null
  },
  {
   "cell_type": "code",
   "source": [
    "def plot_current_flow(m, i, j):\n",
    "    pos = nx.get_node_attributes(G, 'pos')\n",
    "    # Use node indices as labels\n",
    "    labels = {n: n for n in G.nodes()}\n",
    "\n",
    "    plt.figure(figsize=(12, 8))\n",
    "\n",
    "    edge_colors = []\n",
    "    edge_labels = {}\n",
    "\n",
    "    for u, v in G.edges():\n",
    "        try:\n",
    "            # Get the current value from the model\n",
    "            current_value = m.I[u, v, i, j].value\n",
    "            if current_value is not None:\n",
    "                edge_labels[(u, v)] = f\"{round(current_value, 4)}\"\n",
    "                if current_value > 0:\n",
    "                    edge_colors.append('blue')  # Positive current flow\n",
    "                elif current_value < 0:\n",
    "                    edge_colors.append('red')  # Negative current flow\n",
    "                else:\n",
    "                    edge_colors.append('gray') # No current flow\n",
    "            else:\n",
    "                edge_colors.append('gray') # No current value\n",
    "        except:\n",
    "            edge_colors.append('gray') # Handle cases where edge might not be in m.I\n",
    "\n",
    "    nx.draw(\n",
    "        G, pos,\n",
    "        with_labels=True, labels=labels, # Set with_labels to True and pass node indices as labels\n",
    "        node_size=1200,\n",
    "        edge_color=edge_colors, # Use the calculated edge colors\n",
    "        edgecolors=\"black\", font_size=8,\n",
    "        alpha=0.85\n",
    "    )\n",
    "\n",
    "    nx.draw_networkx_edge_labels(G, pos, edge_labels=edge_labels, font_size=7, label_pos=0.3)\n",
    "\n",
    "    plt.title(f\"Current Flow (per-unit) for i={i}, j={j}\")\n",
    "    plt.axis(\"equal\")\n",
    "    plt.show()\n",
    "\n",
    "# Example usage (assuming m, i=0, and j=0 are defined)\n",
    "plot_current_flow(m, 0, 0)"
   ],
   "metadata": {
    "colab": {
     "base_uri": "https://localhost:8080/",
     "height": 859
    },
    "id": "TUaG88qQmWYJ",
    "outputId": "01521c19-90cd-4b7d-98c5-ba9e3ce6e62f"
   },
   "outputs": [],
   "execution_count": null
  }
 ],
 "metadata": {
  "colab": {
   "provenance": []
  },
  "kernelspec": {
   "display_name": "Python 3",
   "name": "python3"
  },
  "language_info": {
   "name": "python"
  }
 },
 "nbformat": 4,
 "nbformat_minor": 0
}
