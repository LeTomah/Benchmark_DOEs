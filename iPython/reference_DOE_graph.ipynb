{
  "cells": [
    {
      "cell_type": "code",
      "execution_count": 270,
      "metadata": {
        "colab": {
          "base_uri": "https://localhost:8080/"
        },
        "id": "QGfrTCDFYVcc",
        "outputId": "fa2c776c-4acd-4a76-a8f0-f92d112673d4"
      },
      "outputs": [
        {
          "output_type": "stream",
          "name": "stdout",
          "text": [
            "Requirement already satisfied: pyomo in /usr/local/lib/python3.11/dist-packages (6.9.3)\n",
            "Requirement already satisfied: ply in /usr/local/lib/python3.11/dist-packages (from pyomo) (3.11)\n",
            "--2025-08-18 14:21:42--  https://people.montefiore.uliege.be/cornelusse/utils/ampl.linux-intel64.zip\n",
            "Resolving people.montefiore.uliege.be (people.montefiore.uliege.be)... 139.165.57.148\n",
            "Connecting to people.montefiore.uliege.be (people.montefiore.uliege.be)|139.165.57.148|:443... connected.\n",
            "HTTP request sent, awaiting response... 200 OK\n",
            "Length: 17486900 (17M) [application/zip]\n",
            "Saving to: ‘ampl.linux-intel64.zip.7’\n",
            "\n",
            "ampl.linux-intel64. 100%[===================>]  16.68M  4.91MB/s    in 3.4s    \n",
            "\n",
            "2025-08-18 14:21:48 (4.91 MB/s) - ‘ampl.linux-intel64.zip.7’ saved [17486900/17486900]\n",
            "\n",
            "Archive:  /content/ampl.linux-intel64.zip\n",
            "replace __MACOSX/._ampl.linux-intel64? [y]es, [n]o, [A]ll, [N]one, [r]ename: "
          ]
        }
      ],
      "source": [
        "!pip install pyomo\n",
        "!wget https://people.montefiore.uliege.be/cornelusse/utils/ampl.linux-intel64.zip\n",
        "!unzip /content/ampl.linux-intel64.zip\n",
        "!chmod +x /content/ampl.linux-intel64/ipopt # To make sure it can be executed\n",
        "!chmod +x /content/ampl.linux-intel64/cbc # To make sure it can be executed"
      ]
    },
    {
      "cell_type": "code",
      "execution_count": 271,
      "metadata": {
        "colab": {
          "base_uri": "https://localhost:8080/"
        },
        "id": "LbyGibqGY4fo",
        "outputId": "2adcef3f-d5ad-4d7d-81c4-b0a7985db3d7"
      },
      "outputs": [
        {
          "output_type": "stream",
          "name": "stdout",
          "text": [
            "Requirement already satisfied: pandapower in /usr/local/lib/python3.11/dist-packages (3.1.2)\n",
            "Requirement already satisfied: pandas>=1.0 in /usr/local/lib/python3.11/dist-packages (from pandapower) (2.2.2)\n",
            "Requirement already satisfied: networkx>=2.5 in /usr/local/lib/python3.11/dist-packages (from pandapower) (3.5)\n",
            "Requirement already satisfied: scipy in /usr/local/lib/python3.11/dist-packages (from pandapower) (1.16.1)\n",
            "Requirement already satisfied: numpy in /usr/local/lib/python3.11/dist-packages (from pandapower) (2.0.2)\n",
            "Requirement already satisfied: packaging in /usr/local/lib/python3.11/dist-packages (from pandapower) (25.0)\n",
            "Requirement already satisfied: tqdm in /usr/local/lib/python3.11/dist-packages (from pandapower) (4.67.1)\n",
            "Requirement already satisfied: deepdiff in /usr/local/lib/python3.11/dist-packages (from pandapower) (8.6.0)\n",
            "Requirement already satisfied: geojson in /usr/local/lib/python3.11/dist-packages (from pandapower) (3.2.0)\n",
            "Requirement already satisfied: lxml in /usr/local/lib/python3.11/dist-packages (from pandapower) (5.4.0)\n",
            "Requirement already satisfied: typing_extensions~=4.9 in /usr/local/lib/python3.11/dist-packages (from pandapower) (4.14.1)\n",
            "Requirement already satisfied: python-dateutil>=2.8.2 in /usr/local/lib/python3.11/dist-packages (from pandas>=1.0->pandapower) (2.9.0.post0)\n",
            "Requirement already satisfied: pytz>=2020.1 in /usr/local/lib/python3.11/dist-packages (from pandas>=1.0->pandapower) (2025.2)\n",
            "Requirement already satisfied: tzdata>=2022.7 in /usr/local/lib/python3.11/dist-packages (from pandas>=1.0->pandapower) (2025.2)\n",
            "Requirement already satisfied: orderly-set<6,>=5.4.1 in /usr/local/lib/python3.11/dist-packages (from deepdiff->pandapower) (5.5.0)\n",
            "Requirement already satisfied: six>=1.5 in /usr/local/lib/python3.11/dist-packages (from python-dateutil>=2.8.2->pandas>=1.0->pandapower) (1.17.0)\n"
          ]
        }
      ],
      "source": [
        "!pip install pandapower --upgrade"
      ]
    },
    {
      "cell_type": "code",
      "execution_count": 272,
      "metadata": {
        "colab": {
          "base_uri": "https://localhost:8080/"
        },
        "id": "-iPKRO96Y55g",
        "outputId": "ca649cb9-e26d-4cdb-ca55-dbbe1e334559"
      },
      "outputs": [
        {
          "output_type": "stream",
          "name": "stdout",
          "text": [
            "Requirement already satisfied: networkx in /usr/local/lib/python3.11/dist-packages (3.5)\n"
          ]
        }
      ],
      "source": [
        "!pip install networkx"
      ]
    },
    {
      "cell_type": "code",
      "execution_count": 273,
      "metadata": {
        "colab": {
          "base_uri": "https://localhost:8080/"
        },
        "id": "EPL5WGadZAxK",
        "outputId": "12a94f51-f56f-4c58-c74c-849db09ae2b7"
      },
      "outputs": [
        {
          "output_type": "stream",
          "name": "stdout",
          "text": [
            "Requirement already satisfied: gurobipy in /usr/local/lib/python3.11/dist-packages (12.0.3)\n"
          ]
        }
      ],
      "source": [
        "!pip install gurobipy  # install gurobipy, if not already installed"
      ]
    },
    {
      "cell_type": "code",
      "execution_count": 274,
      "metadata": {
        "id": "7E5MxejmZJUb"
      },
      "outputs": [],
      "source": [
        "import gurobipy as gp\n",
        "import time\n",
        "import pandas as pd\n",
        "import xarray as xr\n",
        "import networkx as nx\n",
        "import matplotlib.pyplot as plt\n",
        "import numpy as np\n",
        "from dataclasses import dataclass\n",
        "import pyomo.environ as pyo\n",
        "import math\n",
        "import pandapower as pp\n",
        "\n",
        "\n",
        "# Create a new graph\n",
        "G = nx.DiGraph()"
      ]
    },
    {
      "cell_type": "code",
      "execution_count": 275,
      "metadata": {
        "id": "0CffUDPBZT7m"
      },
      "outputs": [],
      "source": [
        "def create_network():\n",
        "\n",
        "    import pandapower as pp\n",
        "\n",
        "# Crée le réseau\n",
        "    net = pp.create_empty_network()\n",
        "\n",
        "# Bases\n",
        "    Pbase = 100  # MVA\n",
        "    Vbase_high = 110  # kV\n",
        "    Vbase_medium = 20  # kV\n",
        "    Vbase_low = 0.4  # kV\n",
        "\n",
        "# Buses\n",
        "    b0 = pp.create_bus(net, vn_kv=Vbase_high, name=\"Bus grid\", geodata=(0,10))\n",
        "    b1 = pp.create_bus(net, vn_kv=Vbase_high, name=\"DSO 1\", geodata=(5,12))\n",
        "    b2 = pp.create_bus(net, vn_kv=Vbase_high, name=\"DSO 2\", geodata=(5,8))\n",
        "    b3 = pp.create_bus(net, vn_kv=Vbase_medium, name=\"Bus MV_1\", geodata=(10,12))\n",
        "    b4 = pp.create_bus(net, vn_kv=Vbase_medium, name=\"Bus MV_2\", geodata=(10,8))\n",
        "    b5 = pp.create_bus(net, vn_kv=Vbase_low, name=\"Bus LV_1\", geodata=(15,12))\n",
        "    b6 = pp.create_bus(net, vn_kv=Vbase_low, name=\"Bus LV_2\", geodata=(15,8))\n",
        "    b7 = pp.create_bus(net, vn_kv=Vbase_medium, name=\"Bus éolien\", geodata=(10,14))\n",
        "    b8 = pp.create_bus(net, vn_kv=Vbase_medium, name=\"Bus industriel\", geodata=(10,10))\n",
        "    b9 = pp.create_bus(net, vn_kv=Vbase_low, name=\"Bus load\", geodata=(15,14))\n",
        "    b10 = pp.create_bus(net, vn_kv=Vbase_low, name=\"Bus PV\", geodata=(15,10))\n",
        "    b11 = pp.create_bus(net, vn_kv=Vbase_high, name=\"TSO 1\", geodata=(2,12))\n",
        "    b12 = pp.create_bus(net, vn_kv=Vbase_high, name=\"TSO 2\", geodata=(2,8))\n",
        "\n",
        "# Lignes\n",
        "    pp.create_line(net, b0, b1, length_km=12, std_type='149-AL1/24-ST1A 110.0', name=\"line1\")\n",
        "    pp.create_line(net, b1, b2, length_km=10, std_type='149-AL1/24-ST1A 110.0', name=\"line2\")\n",
        "    pp.create_line(net, b0, b2, length_km=10, std_type='149-AL1/24-ST1A 110.0', name=\"line3\")\n",
        "    pp.create_line(net, b3, b7, length_km=0.23, std_type='NA2XS2Y 1x185 RM/25 12/20 kV', name=\"line4\")\n",
        "    pp.create_line(net, b4, b8, length_km=0.3, std_type='NA2XS2Y 1x185 RM/25 12/20 kV', name=\"line5\")\n",
        "    pp.create_line(net, b5, b9, length_km=3, std_type='94-AL1/15-ST1A 0.4', name=\"line6\")\n",
        "    pp.create_line(net, b6, b10, length_km=0.45, std_type='94-AL1/15-ST1A 0.4', name=\"line7\")\n",
        "    pp.create_line(net, b0, b11, length_km=16, std_type='149-AL1/24-ST1A 110.0', name= 'line8')\n",
        "    pp.create_line(net, b11, b1, length_km=24, std_type='149-AL1/24-ST1A 110.0', name= 'line9')\n",
        "    pp.create_line(net, b0, b12, length_km=22, std_type='149-AL1/24-ST1A 110.0', name= 'line10')\n",
        "    pp.create_line(net, b12, b2, length_km=16, std_type='149-AL1/24-ST1A 110.0', name= 'line11')\n",
        "\n",
        "# Transformateurs\n",
        "    pp.create_transformer(net, b1, b3, std_type=\"25 MVA 110/20 kV\", name=\"TR_1\")\n",
        "    pp.create_transformer(net, b2, b4, std_type=\"25 MVA 110/20 kV\", name=\"TR_2\")\n",
        "    pp.create_transformer(net, b3, b5, std_type=\"0.4 MVA 20/0.4 kV\", name=\"TR_3\")\n",
        "    pp.create_transformer(net, b4, b6, std_type=\"0.4 MVA 20/0.4 kV\", name=\"TR_4\")\n",
        "\n",
        "# Éléments de bus\n",
        "    pp.create_ext_grid(net, bus=b0, vm_pu=1.00, name=\"Grid Connection\")\n",
        "    pp.create_load(net, bus=b9, p_mw=0.02, q_mvar=0.02, name=\"Residential Load\")\n",
        "    pp.create_gen(net, bus=b10, p_mw=0.2, vm_pu=1.00, name=\"PV\", max_q_mvar=200, min_q_mvar=0, max_p_mw=300, min_p_mw=0, controllable=False)\n",
        "    pp.create_gen(net, bus=b7, p_mw=6.5, vm_pu=1.0, name=\"Wind Turbine\", controllable=False)\n",
        "    pp.create_load(net, bus=b8, p_mw=6, q_mvar=1.8, name=\"Industry\")\n",
        "    pp.create_load(net, bus=b11, p_mw=20, q_mvar=9, name=\"Datacenter\")\n",
        "    pp.create_load(net, bus=b12, p_mw=50, q_mvar=24, name=\"Big industry\")\n",
        "\n",
        "# Donner accès à net\n",
        "    return net"
      ]
    },
    {
      "cell_type": "code",
      "execution_count": 380,
      "metadata": {
        "id": "TsDt-6_lZgNj"
      },
      "outputs": [],
      "source": [
        "def create_digraph():\n",
        "  net = create_network()\n",
        "\n",
        "  import json\n",
        "  import networkx as nx\n",
        "  import matplotlib.pyplot as plt\n",
        "# 1. Conversion du réseau Pandapower en DiGraph\n",
        "# ================================\n",
        "  G = nx.Graph()\n",
        "\n",
        "# Créer les positions à partir de la colonne \"geo\"\n",
        "  pos = {}\n",
        "  for idx, row in net.bus.iterrows():\n",
        "  # Extraire le champ 'geo' qui est une chaîne de caractères représentant un dictionnaire JSON\n",
        "      geo_data = row['geo']\n",
        "\n",
        "  # Convertir la chaîne JSON en un dictionnaire Python\n",
        "      geo_dict = json.loads(geo_data)\n",
        "\n",
        "  # Extraire la liste des coordonnées\n",
        "      coordinates = geo_dict[\"coordinates\"]\n",
        "\n",
        "  # Ajouter les coordonnées dans le dictionnaire pos\n",
        "      pos[idx] = tuple(coordinates)  # Assigner les coordonnées sous forme de tuple\n",
        "\n",
        "# Ajouter les nœuds (avec le nom comme label) and voltage\n",
        "  for idx, row in net.bus.iterrows():\n",
        "      G.add_node(idx, label=row[\"name\"], pos=pos[idx], vn_kv=row[\"vn_kv\"])\n",
        "\n",
        "\n",
        "# Ajouter les arêtes pour les lines\n",
        "  for _, row in net.line.iterrows():\n",
        "      G.add_edge(row[\"from_bus\"], row[\"to_bus\"], type=\"line\", name=row[\"name\"], length=row[\"length_km\"], std_type=row[\"std_type\"])\n",
        "\n",
        "# Ajouter les arêtes pour les transformateurs\n",
        "  for _, row in net.trafo.iterrows():\n",
        "      G.add_edge(row[\"hv_bus\"], row[\"lv_bus\"], type=\"trafo\", name=row[\"name\"], std_type = None)\n",
        "\n",
        "# Ajouter les générateurs et les charges comme attributs aux nœuds\n",
        "  for _, row in net.gen.iterrows():\n",
        "      G.nodes[row[\"bus\"]][\"type\"] = \"gen\"\n",
        "      G.nodes[row[\"bus\"]][\"gen_name\"] = row[\"name\"]\n",
        "      G.nodes[row[\"bus\"]][\"gen_power\"] = row[\"p_mw\"]\n",
        "\n",
        "  for _, row in net.load.iterrows():\n",
        "      G.nodes[row[\"bus\"]][\"type\"] = \"load\"\n",
        "      G.nodes[row[\"bus\"]][\"load_name\"] = row[\"name\"]\n",
        "      G.nodes[row[\"bus\"]][\"load_power\"] = row[\"p_mw\"]\n",
        "\n",
        "  for _, row in net.ext_grid.iterrows():\n",
        "      G.nodes[row[\"bus\"]][\"type\"] = \"ext_grid\"\n",
        "      G.nodes[row[\"bus\"]][\"grid_name\"] = row[\"name\"]\n",
        "\n",
        "# 2. Ajout des puissances consommées et injectées aux nœuds\n",
        "# ================================\n",
        "  nx.set_node_attributes(G, 0.0, \"P_load\")\n",
        "  nx.set_node_attributes(G, 0.0, \"P_gen\")\n",
        "\n",
        "# Charges\n",
        "  for _, row in net.load.iterrows():\n",
        "      G.nodes[row[\"bus\"]][\"P_load\"] += row[\"p_mw\"]\n",
        "      print(row)\n",
        "\n",
        "# Générateurs\n",
        "  for _, row in net.gen.iterrows():\n",
        "      G.nodes[row[\"bus\"]][\"P_gen\"] += row[\"p_mw\"]\n",
        "\n",
        "# Source externe\n",
        "  for _, row in net.ext_grid.iterrows():\n",
        "      G.nodes[row[\"bus\"]][\"P_gen\"] += 0\n",
        "\n",
        "# Calculate P_net\n",
        "  for n in G.nodes:\n",
        "      G.nodes[n][\"P_net\"] = G.nodes[n][\"P_gen\"] - G.nodes[n][\"P_load\"]\n",
        "\n",
        "# Create subnetworks (NetworkX DiGraphs) from the main graph G\n",
        "  network1_buses = [0, 1, 2, 11,12]\n",
        "  network2_buses = [3, 7, 5, 9, 10]\n",
        "  network3_buses = [4, 8, 6]\n",
        "\n",
        "# Assign G1 to G and then add power attributes to nodes in G\n",
        "  #G = G.subgraph(network1_buses)\n",
        "\n",
        "  for n in G.nodes:\n",
        "      G.nodes[n][\"P\"] = G.nodes[n][\"P_net\"] # Assign P_net to 'P' attribute\n",
        "\n",
        "# 3. Préparer les couleurs des nœuds en fonction de P_net\n",
        "# ================================\n",
        "  node_colors = []\n",
        "  for n, data in G.nodes(data=True):\n",
        "      if data[\"P_net\"] > 0:\n",
        "          node_colors.append(\"green\")   # producteur\n",
        "      elif data[\"P_net\"] < 0:\n",
        "          node_colors.append(\"red\")     # consommateur\n",
        "      else:\n",
        "          node_colors.append(\"gray\")    # neutre\n",
        "\n",
        "# 4. Préparer les labels : Nom + P_net\n",
        "# ================================\n",
        "  labels = {n: f\"{data['label']}\\nP={round(data['P_net'],2)}MW\"\n",
        "            for n, data in G.nodes(data=True)}\n",
        "\n",
        "# 5. Function to plot the network\n",
        "# ================================\n",
        "  def plot_network():\n",
        "      pos = nx.get_node_attributes(G, 'pos')\n",
        "\n",
        "      plt.figure(figsize=(12, 8))\n",
        "      nx.draw(\n",
        "          G, pos,\n",
        "          with_labels=True, labels=labels,\n",
        "          node_size=1200, node_color=node_colors,\n",
        "          edgecolors=\"black\", font_size=8,\n",
        "          alpha=0.85\n",
        "          )\n",
        "\n",
        "  # Labels des arêtes (type ligne ou trafo)\n",
        "      edge_labels = nx.get_edge_attributes(G, 'type')\n",
        "      nx.draw_networkx_edge_labels(G, pos, edge_labels=edge_labels, font_size=7)\n",
        "\n",
        "      plt.title(\"Réseau électrique test\")\n",
        "      plt.axis(\"equal\")\n",
        "      plt.show()\n",
        "\n",
        "\n",
        "  return G, plot_network()"
      ]
    },
    {
      "cell_type": "code",
      "execution_count": 381,
      "metadata": {
        "colab": {
          "base_uri": "https://localhost:8080/",
          "height": 1000
        },
        "id": "lsz4h9dHZcyD",
        "outputId": "0c898e9c-3bf9-470f-a47e-2f6049afc42f"
      },
      "outputs": [
        {
          "output_type": "stream",
          "name": "stdout",
          "text": [
            "name               Residential Load\n",
            "bus                               9\n",
            "p_mw                           0.02\n",
            "q_mvar                         0.02\n",
            "const_z_percent                 0.0\n",
            "const_i_percent                 0.0\n",
            "sn_mva                          NaN\n",
            "scaling                         1.0\n",
            "in_service                     True\n",
            "type                            wye\n",
            "Name: 0, dtype: object\n",
            "name               Industry\n",
            "bus                       8\n",
            "p_mw                    6.0\n",
            "q_mvar                  1.8\n",
            "const_z_percent         0.0\n",
            "const_i_percent         0.0\n",
            "sn_mva                  NaN\n",
            "scaling                 1.0\n",
            "in_service             True\n",
            "type                    wye\n",
            "Name: 1, dtype: object\n",
            "name               Datacenter\n",
            "bus                        11\n",
            "p_mw                     20.0\n",
            "q_mvar                    9.0\n",
            "const_z_percent           0.0\n",
            "const_i_percent           0.0\n",
            "sn_mva                    NaN\n",
            "scaling                   1.0\n",
            "in_service               True\n",
            "type                      wye\n",
            "Name: 2, dtype: object\n",
            "name               Big industry\n",
            "bus                          12\n",
            "p_mw                       50.0\n",
            "q_mvar                     24.0\n",
            "const_z_percent             0.0\n",
            "const_i_percent             0.0\n",
            "sn_mva                      NaN\n",
            "scaling                     1.0\n",
            "in_service                 True\n",
            "type                        wye\n",
            "Name: 3, dtype: object\n"
          ]
        },
        {
          "output_type": "display_data",
          "data": {
            "text/plain": [
              "<Figure size 1200x800 with 1 Axes>"
            ],
            "image/png": "[encoded data removed]"
          },
          "metadata": {}
        },
        {
          "output_type": "stream",
          "name": "stdout",
          "text": [
            "Value of G.nodes[11]['P'] after updating G: -20.0\n"
          ]
        }
      ],
      "source": [
        "G, plot_func = create_digraph()\n",
        "print(f\"Value of G.nodes[11]['P'] after updating G: {G.nodes[11]['P']}\")"
      ]
    },
    {
      "cell_type": "code",
      "execution_count": 382,
      "metadata": {
        "colab": {
          "base_uri": "https://localhost:8080/",
          "height": 859
        },
        "id": "ed_Y54iGlEeI",
        "outputId": "fa628319-aba3-41c6-a3a7-5c3062317139"
      },
      "outputs": [
        {
          "output_type": "display_data",
          "data": {
            "text/plain": [
              "<Figure size 1200x800 with 1 Axes>"
            ],
            "image/png": "[encoded data removed]"
          },
          "metadata": {}
        }
      ],
      "source": [
        "def plot_network(G):\n",
        "      pos = nx.get_node_attributes(G, 'pos')\n",
        "\n",
        "      plt.figure(figsize=(12, 8))\n",
        "      nx.draw(\n",
        "          G, pos,\n",
        "          with_labels=True,\n",
        "          node_size=1200,\n",
        "          edgecolors=\"black\", font_size=8,\n",
        "          alpha=0.85\n",
        "          )\n",
        "\n",
        "  # Labels des arêtes (type ligne ou trafo)\n",
        "      edge_labels = nx.get_edge_attributes(G, 'type')\n",
        "      nx.draw_networkx_edge_labels(G, pos, edge_labels=edge_labels, font_size=7)\n",
        "\n",
        "      plt.title(\"Réseau électrique avec puissances (P_net)\")\n",
        "      plt.axis(\"equal\")\n",
        "      plt.show()\n",
        "\n",
        "plot_network(G)"
      ]
    },
    {
      "cell_type": "code",
      "execution_count": 383,
      "metadata": {
        "colab": {
          "base_uri": "https://localhost:8080/"
        },
        "id": "fMwbxnNdbwH-",
        "outputId": "36180443-d07c-47e0-d5df-1963149825f0"
      },
      "outputs": [
        {
          "output_type": "stream",
          "name": "stdout",
          "text": [
            "Base Power (S_base): 100 MVA\n",
            "Base Voltage (V_base_high): 110 kV\n",
            "Base Current (I_base_high): 0.524863881081478 kA\n",
            "Base Impedance (Z_base_high): 121.0 ohms\n",
            "Base Susceptance (B_base_high): 0.008264462809917356 Siemens\n"
          ]
        }
      ],
      "source": [
        "# Define base values for the per-unit system\n",
        "s_base = 100  # MVA\n",
        "\n",
        "\n",
        "v_base_high = 110 # kV (From the create_network function)\n",
        "\n",
        "# Calculate base current (I_base)\n",
        "# S_base = V_base * I_base (for single phase, or sqrt(3)*V_base*I_base for three phase)\n",
        "# Assuming three-phase system: I_base = S_base / (sqrt(3) * V_base)\n",
        "i_base_high = s_base / (math.sqrt(3) * v_base_high) # kA\n",
        "\n",
        "# Calculate base impedance (Z_base)\n",
        "# Z_base = V_base^2 / S_base\n",
        "z_base_high = v_base_high**2 / s_base # ohms\n",
        "\n",
        "# Calculate base susceptance (B_base)\n",
        "# B_base = 1 / Z_base = S_base / V_base^2\n",
        "b_base_high = s_base / v_base_high**2 # Siemens\n",
        "\n",
        "print(f\"Base Power (S_base): {s_base} MVA\")\n",
        "print(f\"Base Voltage (V_base_high): {v_base_high} kV\")\n",
        "print(f\"Base Current (I_base_high): {i_base_high} kA\")\n",
        "print(f\"Base Impedance (Z_base_high): {z_base_high} ohms\")\n",
        "print(f\"Base Susceptance (B_base_high): {b_base_high} Siemens\")"
      ]
    },
    {
      "cell_type": "code",
      "execution_count": 384,
      "metadata": {
        "colab": {
          "base_uri": "https://localhost:8080/"
        },
        "id": "zYD3uPFbZhkR",
        "outputId": "1a033c02-9827-4a33-b262-f660bc4ef4e9"
      },
      "outputs": [
        {
          "output_type": "stream",
          "name": "stdout",
          "text": [
            "Maximum Current (kA): 0.47\n",
            "Base Current (kA): 0.524863881081478\n",
            "Upper bound for current (per-unit): 0.8954702675131095\n",
            "Lower bound for current (per-unit): -0.8954702675131095\n",
            "\n",
            "Updated global current bounds (per-unit):\n",
            "I_min: -0.8954702675131095\n",
            "I_max: 0.8954702675131095\n"
          ]
        }
      ],
      "source": [
        "# Define the maximum current in kA\n",
        "I_max_kA = 0.47\n",
        "\n",
        "# Get the base current in kA from the previous calculation\n",
        "# Assuming i_base_high is the relevant base current for the lines in the model\n",
        "I_base_kA = i_base_high\n",
        "\n",
        "# Calculate the upper bound for current in per-unit\n",
        "I_max_pu = I_max_kA / I_base_kA\n",
        "\n",
        "# The lower bound for current is the negative of the upper bound, assuming symmetrical limits\n",
        "I_min_pu = -I_max_pu\n",
        "\n",
        "print(f\"Maximum Current (kA): {I_max_kA}\")\n",
        "print(f\"Base Current (kA): {I_base_kA}\")\n",
        "print(f\"Upper bound for current (per-unit): {I_max_pu}\")\n",
        "print(f\"Lower bound for current (per-unit): {I_min_pu}\")\n",
        "\n",
        "# Update the Pyomo model's bounds if they are defined globally or need to be updated\n",
        "# Assuming I_min and I_max are global variables used in the Pyomo model definition\n",
        "I_min = I_min_pu\n",
        "I_max = I_max_pu\n",
        "\n",
        "print(\"\\nUpdated global current bounds (per-unit):\")\n",
        "print(f\"I_min: {I_min}\")\n",
        "print(f\"I_max: {I_max}\")"
      ]
    },
    {
      "cell_type": "code",
      "execution_count": 385,
      "metadata": {
        "id": "2-rr_L1RhTYm"
      },
      "outputs": [],
      "source": [
        "def calculate_current_bounds(line_type, v_base):\n",
        "    \"\"\"\n",
        "    Calculates the upper and lower bounds for current in per-unit\n",
        "    based on the line type's maximum current capacity.\n",
        "\n",
        "    Args:\n",
        "        line_type (str): The type of the transmission line.\n",
        "        i_base_kA (float): The base current in kA for the system.\n",
        "\n",
        "    Returns:\n",
        "        tuple: A tuple containing (I_min_pu, I_max_pu).\n",
        "               Returns (None, None) if the line type is not found.\n",
        "    \"\"\"\n",
        "    # Define a dictionary mapping line types to their maximum current capacity in kA\n",
        "    # NOTE: This is a placeholder. You should populate this dictionary\n",
        "    # with the actual maximum current capacities for your line types.\n",
        "    i_base_kA = s_base / (math.sqrt(3) * v_base) # kA\n",
        "\n",
        "\n",
        "    line_type_max_current_kA = {\n",
        "        '149-AL1/24-ST1A 110.0': 0.47, # Example value for 110 kV lines\n",
        "        'NA2XS2Y 1x185 RM/25 12/20 kV': 0.3, # Example value for 20 kV lines\n",
        "        '94-AL1/15-ST1A 0.4': 0.15 # Example value for 0.4 kV lines\n",
        "    }\n",
        "\n",
        "    if line_type in line_type_max_current_kA:\n",
        "        I_max_kA = line_type_max_current_kA[line_type]\n",
        "\n",
        "        # Calculate the upper bound for current in per-unit\n",
        "        I_max_pu = I_max_kA / i_base_kA\n",
        "\n",
        "        # The lower bound for current is the negative of the upper bound\n",
        "        I_min_pu = -I_max_pu\n",
        "\n",
        "        return I_min_pu, I_max_pu, i_base_kA\n",
        "\n",
        "    elif line_type == None:\n",
        "        return -1000, 1000\n",
        "    else:\n",
        "        return None, None\n",
        "\n",
        "# Example usage (assuming i_base_high is already defined):\n",
        "line1_type = '149-AL1/24-ST1A 110.0'\n",
        "I_min_line1, I_max_line1, i_base_kA = calculate_current_bounds(line1_type, i_base_high)\n",
        "\n",
        "# line4_type = 'NA2XS2Y 1x185 RM/25 12/20 kV'\n",
        "# I_min_line4, I_max_line4 = calculate_current_bounds(line4_type, i_base_high)\n",
        "# print(f\"\\nCurrent bounds for {line4_type}: [{I_min_line4}, {I_max_line4}]\")"
      ]
    },
    {
      "cell_type": "code",
      "execution_count": 386,
      "metadata": {
        "colab": {
          "base_uri": "https://localhost:8080/"
        },
        "id": "j53BsRWZb9Qg",
        "outputId": "17ef2d9c-094d-4a6a-ada2-a3c3f360709f"
      },
      "outputs": [
        {
          "output_type": "execute_result",
          "data": {
            "text/plain": [
              "0.053851648071345036"
            ]
          },
          "metadata": {},
          "execution_count": 386
        }
      ],
      "source": [
        "def length (i, j):\n",
        "    xi, yi = G.nodes[i]['pos']\n",
        "    xj, yj = G.nodes[j]['pos']\n",
        "    return (math.hypot(xi - xj, yi - yj))*10/1000  # distance euclidienne, *10/1000 (pixel/km)\n",
        "length(0, 1)"
      ]
    },
    {
      "cell_type": "code",
      "execution_count": 387,
      "metadata": {
        "colab": {
          "base_uri": "https://localhost:8080/"
        },
        "id": "R07l_GXmjVhK",
        "outputId": "324de5c0-aced-460c-b409-ce457c72b8bc"
      },
      "outputs": [
        {
          "output_type": "stream",
          "name": "stdout",
          "text": [
            "0.010770329614269008\n",
            "0.010770329614269008\n",
            "0.005656854249492381\n",
            "0.005656854249492381\n",
            "0.008\n",
            "0.006\n",
            "0.009999999999999998\n",
            "0.006\n",
            "0.009999999999999998\n",
            "0.004\n",
            "0.009999999999999998\n",
            "0.004\n",
            "0.009999999999999998\n",
            "0.004\n",
            "0.004\n"
          ]
        }
      ],
      "source": [
        "#Calculate the susceptance of each line in Siemens per km\n",
        "strange = 1000\n",
        "for u, v in G.edges():\n",
        "    G[u][v]['b'] = length(u,v)* 200*10**-6 *strange\n",
        "    print(G[u][v]['b'])\n"
      ]
    },
    {
      "cell_type": "code",
      "execution_count": 388,
      "metadata": {
        "id": "QfiKPOwejiQ3"
      },
      "outputs": [],
      "source": [
        "#Constant definition\n",
        "V_min = 0.9\n",
        "V_max = 1.1\n",
        "\n",
        "\n",
        "P_min = -1\n",
        "P_max = 1\n",
        "\n",
        "theta_min = -180\n",
        "theta_max = 180\n",
        "\n",
        "\n",
        "alpha = 1\n"
      ]
    },
    {
      "cell_type": "code",
      "execution_count": 389,
      "metadata": {
        "colab": {
          "base_uri": "https://localhost:8080/"
        },
        "id": "3hJJTZQQsHHx",
        "outputId": "9a3b354a-d114-4571-cf64-e62bc1ef8eda"
      },
      "outputs": [
        {
          "output_type": "stream",
          "name": "stdout",
          "text": [
            "Voltage at node 3: 110.0 kV\n"
          ]
        }
      ],
      "source": [
        "def get_base_node_voltage_kv(node_index):\n",
        "  \"\"\"\n",
        "  Returns the voltage (vn_kv) for a given node index from the graph.\n",
        "\n",
        "  Args:\n",
        "    node_index: The index of the node in the graph.\n",
        "\n",
        "  Returns:\n",
        "    The voltage in kV for the specified node.\n",
        "  \"\"\"\n",
        "  # Assuming 'G' is the NetworkX DiGraph object created earlier\n",
        "  # Access the 'vn_kv' attribute for the given node_index\n",
        "  return G.nodes[node_index]['vn_kv']\n",
        "\n",
        "# Example usage:\n",
        "# To get the voltage for node 0:\n",
        "# voltage_node_0 = get_node_voltage_kv(0)\n",
        "# print(f\"Voltage at node 0: {voltage_node_0} kV\")\n",
        "\n",
        "# To get the voltage for node 3:\n",
        "voltage_node_3 = get_base_node_voltage_kv(0)\n",
        "print(f\"Voltage at node 3: {voltage_node_3} kV\")"
      ]
    },
    {
      "cell_type": "code",
      "execution_count": 390,
      "metadata": {
        "colab": {
          "base_uri": "https://localhost:8080/"
        },
        "id": "HTqnXtXvSvfm",
        "outputId": "f6a2699b-3521-44e8-c239-bbea57eb26f3"
      },
      "outputs": [
        {
          "output_type": "stream",
          "name": "stdout",
          "text": [
            "Indices of all lines:\n",
            "(0, 1)\n",
            "(0, 2)\n",
            "(0, 11)\n",
            "(0, 12)\n",
            "(1, 2)\n",
            "(1, 11)\n",
            "(1, 3)\n",
            "(2, 12)\n",
            "(2, 4)\n",
            "(3, 7)\n",
            "(3, 5)\n",
            "(4, 8)\n",
            "(4, 6)\n",
            "(5, 9)\n",
            "(6, 10)\n",
            "-0.8954702675131095\n",
            "0.8954702675131095\n",
            "1.30320988332655\n",
            "1.30320988332655\n",
            "0.6844793641885781\n",
            "0.6844793641885781\n",
            "0.968\n",
            "0.726\n",
            "1.2099999999999997\n",
            "0.726\n",
            "1.2099999999999997\n",
            "0.016\n",
            "0.039999999999999994\n",
            "0.016\n",
            "0.039999999999999994\n",
            "6.400000000000001e-06\n",
            "6.400000000000001e-06\n"
          ]
        }
      ],
      "source": [
        "m = pyo.ConcreteModel()\n",
        "# Define base values for the per-unit system\n",
        "s_base = 100  # MVA\n",
        "v_base_high = 110 # kV (From the create_network function)\n",
        "\n",
        "m.Nodes = pyo.Set(initialize= [b for b in G.nodes])\n",
        "m.Lines = pyo.Set(initialize= [l for l in G.edges])\n",
        "m.i = pyo.Set(initialize=[0, 1]) # Initialize m.i with two generic elements\n",
        "m.j = pyo.Set(initialize= [0, 1])\n",
        "#m.children = pyo.Set(initialize= [1, 2])\n",
        "m.parents = pyo.Set(initialize = [0])\n",
        "\n",
        "# Get the line indices from the model\n",
        "line_indices = list(m.Lines)\n",
        "\n",
        "# You can print the indices\n",
        "print(\"Indices of all lines:\")\n",
        "for line in line_indices:\n",
        "    print(line)\n",
        "\n",
        "m.P = pyo.Param(m.Nodes, initialize = {n: - G.nodes[n].get('P') for n in G.nodes}, domain = pyo.Reals, mutable=True) # Make P mutable\n",
        "\n",
        "m.I_min = pyo.Param(m.Lines, initialize = {(i,j): calculate_current_bounds(G.edges[i,j][\"std_type\"], get_base_node_voltage_kv(i))[0] for (i,j) in m.Lines}, domain = pyo.Reals)\n",
        "m.I_max = pyo.Param(m.Lines, initialize = {(i,j): calculate_current_bounds(G.edges[i,j][\"std_type\"], get_base_node_voltage_kv(i))[1] for (i,j) in m.Lines}, domain = pyo.Reals)\n",
        "\n",
        "print(m.I_min[(0,1)])\n",
        "print(m.I_max[(0,1)])\n",
        "\n",
        "# Variables principales\n",
        "m.F = pyo.Var(m.Lines, m.i, m.j, domain=pyo.Reals)     # active power flow through lines\n",
        "m.I = pyo.Var(m.Lines,  m.i, m.j, domain=pyo.Reals)  # current flowing through lines\n",
        "m.theta = pyo.Var(m.Nodes,  m.i, m.j, domain=pyo.Reals)  # phase angle of the voltage\n",
        "m.V = pyo.Var(m.Nodes, m.i, m.j, domain=pyo.NonNegativeReals)  # voltage magnitude at each node\n",
        "m.E = pyo.Var(m.Nodes, m.i, m.j, domain=pyo.Reals) #net power injection/consumption\n",
        "m.P_plus = pyo.Var(m.parents, m.i, m.j, domain=pyo.Reals) #power entering the operational graph\n",
        "#m.P_minus = pyo.Var(m.children, m.i, m.j, domain=pyo.Reals) #power leaving the operational graph\n",
        "\n",
        "#m.P_C_set = pyo.Var(m.children, m.i, domain=pyo.Reals) #vertices of the power envelope at each child node\n",
        "\n",
        "#m.P_C_min = pyo.Var(m.children, m.i, m.j, domain=pyo.Reals)\n",
        "#m.P_C_max = pyo.Var(m.children, m.i, m.j,  domain=pyo.Reals)\n",
        "\n",
        "m.V_P = pyo.Param(m.j, initialize = {0: 0.9, 1: 1.1}, domain =pyo.NonNegativeReals)\n",
        "\n",
        "m.O = pyo.Var(domain= pyo.NonNegativeReals)\n",
        "\n",
        "for u in G.nodes():\n",
        "  if G.nodes[u].get('P', 0.0) == 0:\n",
        "    m.P[u] = 0\n",
        "  else:\n",
        "    G.nodes[u]['P_pu'] = G.nodes[u].get('P', 0.0) / s_base\n",
        "    m.P[u] = - G.nodes[u]['P_pu']\n",
        "\n",
        "\"\"\"# Convert P parameter to per-unit\n",
        "for n in G.nodes:\n",
        "    # Assuming P is in MW, convert to per-unit\n",
        "    G.nodes[n]['P'] = G.nodes[n].get('P', 0.0) / s_base\n",
        "    m.P[n] = G.nodes[n]['P']\"\"\"\n",
        "\n",
        "\n",
        "# Convert susceptance 'b' on edges to per-unit\n",
        "for u, v in G.edges():\n",
        "    # Assuming 'b' is in Siemens/km, convert to per-unit\n",
        "    # b_pu = b_actual * (V_base^2 / S_base)\n",
        "    # V_base is assumed to be v_base_high (110 kV)\n",
        "    G[u][v]['b_pu'] = G[u][v].get('b', 0.0) * (get_base_node_voltage_kv(u)**2 / s_base)\n",
        "    print(G[u][v]['b_pu'])"
      ]
    },
    {
      "cell_type": "code",
      "execution_count": 372,
      "metadata": {
        "colab": {
          "base_uri": "https://localhost:8080/"
        },
        "id": "V5tKjSt7wHAo",
        "outputId": "cc9c3471-e9b1-4a00-dd52-89c2ed58867d"
      },
      "outputs": [
        {
          "output_type": "stream",
          "name": "stdout",
          "text": [
            "0\n",
            "0\n",
            "0\n",
            "0.2\n",
            "0.5\n"
          ]
        },
        {
          "output_type": "execute_result",
          "data": {
            "text/plain": [
              "0"
            ]
          },
          "metadata": {},
          "execution_count": 372
        }
      ],
      "source": [
        "for n in G.nodes:\n",
        "  print(m.P[n].value)\n",
        "m.P[1].value\n"
      ]
    },
    {
      "cell_type": "code",
      "execution_count": 391,
      "metadata": {
        "colab": {
          "base_uri": "https://localhost:8080/",
          "height": 70
        },
        "id": "1mMmPNdfXW3S",
        "outputId": "8802e80a-b503-4cf6-fcf0-83acbaf7a934"
      },
      "outputs": [
        {
          "output_type": "execute_result",
          "data": {
            "text/plain": [
              "'# Auxiliary variables for the L1 norm of P_C_set\\nm.abs_P_C_set = pyo.Var(m.children, domain=pyo.NonNegativeReals)\\n\\n# Constraints to linearize the L1 norm of P_C_set\\ndef abs_P_C_set_pos_rule(m, n):\\n    return m.abs_P_C_set[n] >= m.aux[n]\\nm.abs_P_C_set_pos = pyo.Constraint(m.children, rule=abs_P_C_set_pos_rule)\\n\\ndef abs_P_C_set_neg_rule(m, n):\\n    return m.abs_P_C_set[n] >= -m.aux[n]\\nm.abs_P_C_set_neg = pyo.Constraint(m.children, rule=abs_P_C_set_neg_rule)'"
            ],
            "application/vnd.google.colaboratory.intrinsic+json": {
              "type": "string"
            }
          },
          "metadata": {},
          "execution_count": 391
        }
      ],
      "source": [
        "# Auxiliary variable for the absolute value of E (already defined as per-unit)\n",
        "m.z = pyo.Var(m.Nodes, m.i, m.j, domain=pyo.NonNegativeReals)\n",
        "\n",
        "m.curt = pyo.Var(m.Nodes, m.i, m.j, domain=pyo.Reals)\n",
        "\n",
        "def curtailment_def_rule(m,n, vert_pow, vert_volt):\n",
        "\n",
        "  return m.curt[n, vert_pow, vert_volt] == m.P[n] - m.E[n, vert_pow, vert_volt]\n",
        "\n",
        "m.curt_def = pyo.Constraint(m.Nodes, m.i, m.j, rule=curtailment_def_rule)\n",
        "# Constraints to define the absolute value (already defined for per-unit E)\n",
        "def abs_E_pos_rule(m, n, vert_pow, vert_volt):\n",
        "    return m.z[n, vert_pow, vert_volt] >= m.curt[n, vert_pow, vert_volt]\n",
        "m.abs_E_pos = pyo.Constraint(m.Nodes, m.i, m.j, rule=abs_E_pos_rule)\n",
        "\n",
        "def abs_E_neg_rule(m, n, vert_pow, vert_volt):\n",
        "    return m.z[n, vert_pow, vert_volt] >= -m.curt[n, vert_pow, vert_volt]\n",
        "m.abs_E_neg = pyo.Constraint(m.Nodes, m.i, m.j, rule=abs_E_neg_rule)\n",
        "\n",
        "def upper_bound_rule(m, vert_pow, vert_volt):\n",
        "    # m.z is per-unit, m.O is per-unit\n",
        "    return sum(m.z[n, vert_pow, vert_volt] for n in m.Nodes) <= m.O\n",
        "\n",
        "m.upper_bound = pyo.Constraint(m.i, m.j, rule=upper_bound_rule)\n",
        "\n",
        "# Current magnitude constraint (I_min, I_max are assumed per-unit)\n",
        "def current_bounds_rule(m, i, j, vert_pow, vert_volt):\n",
        "    # m.I is per-unit current\n",
        "    return pyo.inequality(-1, m.I[i,j, vert_pow, vert_volt], 1)\n",
        "m.CurrentBounds = pyo.Constraint(m.Lines, m.i, m.j, rule=current_bounds_rule)\n",
        "\n",
        "def phase_constr_rule(m,n, vert_pow, vert_volt):\n",
        "    return pyo.inequality(theta_min*2, m.theta[n, vert_pow, vert_volt], theta_max*2)\n",
        "\n",
        "m.phaseConstr = pyo.Constraint(m.Nodes, m.i, m.j, rule=phase_constr_rule)\n",
        "\n",
        "def dc_power_flow_rule(m, i, j, vert_pow, vert_volt):\n",
        "    return m.F[i, j, vert_pow, vert_volt] == m.V_P[vert_volt]**2 *(G[i][j]['b_pu'] * (\n",
        "        m.theta[i, vert_pow, vert_volt] - m.theta[j, vert_pow, vert_volt])\n",
        "    )\n",
        "\n",
        "m.DCFlow = pyo.Constraint(m.Lines, m.i, m.j, rule=dc_power_flow_rule)\n",
        "\n",
        "\n",
        "def current_def_rule(m, n, i, j, vert_pow, vert_volt):\n",
        "    # This constraint relates per-unit current, per-unit voltage, and per-unit power flow.\n",
        "    # In per-unit, P_pu = V_pu * I_pu. This is correct.\n",
        "    return m.I[i,j, vert_pow, vert_volt] * m.V_P[vert_volt] == m.F[i,j, vert_pow, vert_volt]\n",
        "\n",
        "m.current_def = pyo.Constraint(m.Nodes, m.Lines, m.i, m.j, rule=current_def_rule)\n",
        "\n",
        "\n",
        "\n",
        "\"\"\"def nodes_balance(m, n, vert_pow, vert_volt):\n",
        "    inflow = sum(m.F[k, n, vert_pow, vert_volt] for k in G.neighbors(n) if (k, n) in m.Lines)\n",
        "    outflow = sum(m.F[n, j, vert_pow, vert_volt] for j in G.neighbors(n) if (n, j) in m.Lines)\n",
        "\n",
        "    if n in m.parents:\n",
        "      # For parent nodes, the net flow (inflow - outflow) equals the net injection minus the power leaving the graph (m.P_plus)\n",
        "      return inflow - outflow == m.E[n, vert_pow, vert_volt] - m.P_plus[n, vert_pow, vert_volt]\n",
        "    else:\n",
        "      # For other nodes, the net flow (inflow - outflow) equals the net injection\n",
        "      return inflow - outflow == m.E[n, vert_pow, vert_volt]\n",
        "\n",
        "\n",
        "m.nodes_balance = pyo.Constraint(m.Nodes, m.i, m.j, rule=nodes_balance)\n",
        "\"\"\"\n",
        "\n",
        "def power_balance_rule(m, n, vert_pow, vert_volt):\n",
        "    # Compute net flow into node n by summing over all lines (i,j) in m.Lines\n",
        "    expr = sum(\n",
        "        (m.F[i, j, vert_pow, vert_volt] if j == n else 0)\n",
        "      - (m.F[i, j, vert_pow, vert_volt] if i == n else 0)\n",
        "      for (i, j) in m.Lines\n",
        "    )\n",
        "    # If n is a parent node, subtract P_plus; otherwise use only E[n]\n",
        "    if n in m.parents:\n",
        "        return expr == m.E[n, vert_pow, vert_volt] - m.P_plus[n, vert_pow, vert_volt]\n",
        "    else:\n",
        "        return expr == m.E[n, vert_pow, vert_volt]\n",
        "\n",
        "m.power_balance = pyo.Constraint(m.Nodes, m.i, m.j, rule=power_balance_rule)\n",
        "\n",
        "def parent_power_constraint_rule(m, parent, vert_pow, vert_volt):\n",
        "    # m.P_plus is per-unit power entering the operational graph\n",
        "    return pyo.inequality(-2, m.P_plus[parent, vert_pow, vert_volt], 2)\n",
        "\n",
        "m.parent_power_constraint = pyo.Constraint(m.parents, m.i, m.j, rule=parent_power_constraint_rule)\n",
        "\n",
        "#Constant voltage assumption\n",
        "def voltage_constr_rule(m, n, vert_pow, vert_volt):\n",
        "    return m.V[n, vert_pow, vert_volt] == m.V_P[vert_volt]\n",
        "\n",
        "m.voltageConstr = pyo.Constraint(m.Nodes, m.i, m.j, rule=voltage_constr_rule)\n",
        "\n",
        "\n",
        "\n",
        "\n",
        "def test_rule(m):\n",
        "  return m.O == 0\n",
        "m.test = pyo.Constraint(rule=test_rule)\n",
        "\"\"\"# Auxiliary variables for the L1 norm of P_C_set\n",
        "m.abs_P_C_set = pyo.Var(m.children, domain=pyo.NonNegativeReals)\n",
        "\n",
        "# Constraints to linearize the L1 norm of P_C_set\n",
        "def abs_P_C_set_pos_rule(m, n):\n",
        "    return m.abs_P_C_set[n] >= m.aux[n]\n",
        "m.abs_P_C_set_pos = pyo.Constraint(m.children, rule=abs_P_C_set_pos_rule)\n",
        "\n",
        "def abs_P_C_set_neg_rule(m, n):\n",
        "    return m.abs_P_C_set[n] >= -m.aux[n]\n",
        "m.abs_P_C_set_neg = pyo.Constraint(m.children, rule=abs_P_C_set_neg_rule)\"\"\""
      ]
    },
    {
      "cell_type": "code",
      "execution_count": 392,
      "metadata": {
        "id": "fNuKQeakZ4lL"
      },
      "outputs": [],
      "source": [
        "def objective_rule(m):\n",
        "  return   - alpha*m.O\n",
        "\n",
        "m.objective = pyo.Objective(rule=objective_rule, sense=pyo.maximize)"
      ]
    },
    {
      "cell_type": "code",
      "execution_count": 393,
      "metadata": {
        "colab": {
          "base_uri": "https://localhost:8080/"
        },
        "id": "CPLDPtvVZ99x",
        "outputId": "82f50f55-99b7-47e4-aec6-d3f74bf25ae6"
      },
      "outputs": [
        {
          "output_type": "stream",
          "name": "stdout",
          "text": [
            "Set parameter WLSAccessID\n",
            "Set parameter WLSSecret\n",
            "Set parameter LicenseID to value 2651433\n",
            "Academic license 2651433 - for non-commercial use only - registered to an___@student.uliege.be\n",
            "Read LP format model from file /tmp/tmpikidpwk1.pyomo.lp\n",
            "Reading time = 0.01 seconds\n",
            "x1: 1337 rows, 385 columns, 2569 nonzeros\n",
            "Gurobi Optimizer version 12.0.3 build v12.0.3rc0 (linux64 - \"Ubuntu 22.04.4 LTS\")\n",
            "\n",
            "CPU model: Intel(R) Xeon(R) CPU @ 2.20GHz, instruction set [SSE2|AVX|AVX2]\n",
            "Thread count: 1 physical cores, 2 logical processors, using up to 2 threads\n",
            "\n",
            "Optimize a model with 1337 rows, 385 columns and 2569 nonzeros\n",
            "Model fingerprint: 0x8c7b3cde\n",
            "Coefficient statistics:\n",
            "  Matrix range     [5e-06, 2e+00]\n",
            "  Objective range  [1e+00, 1e+00]\n",
            "  Bounds range     [0e+00, 0e+00]\n",
            "  RHS range        [2e-04, 4e+02]\n",
            "Presolve removed 1317 rows and 365 columns\n",
            "Presolve time: 0.00s\n",
            "Presolved: 20 rows, 20 columns, 60 nonzeros\n",
            "\n",
            "Iteration    Objective       Primal Inf.    Dual Inf.      Time\n",
            "       0   -0.0000000e+00   1.572824e+01   0.000000e+00      0s\n",
            "      14   -0.0000000e+00   0.000000e+00   0.000000e+00      0s\n",
            "\n",
            "Solved in 14 iterations and 0.00 seconds (0.00 work units)\n",
            "Optimal objective -0.000000000e+00\n",
            "Solver terminated with condition: optimal\n",
            "\n",
            "Problem: \n",
            "- Name: x1\n",
            "  Lower bound: -0.0\n",
            "  Upper bound: -0.0\n",
            "  Number of objectives: 1\n",
            "  Number of constraints: 1337\n",
            "  Number of variables: 385\n",
            "  Number of binary variables: 0\n",
            "  Number of integer variables: 0\n",
            "  Number of continuous variables: 385\n",
            "  Number of nonzeros: 2569\n",
            "  Sense: maximize\n",
            "Solver: \n",
            "- Status: ok\n",
            "  Return code: 0\n",
            "  Message: Model was solved to optimality (subject to tolerances), and an optimal solution is available.\n",
            "  Termination condition: optimal\n",
            "  Termination message: Model was solved to optimality (subject to tolerances), and an optimal solution is available.\n",
            "  Wall time: 0.005036830902099609\n",
            "  Error rc: 0\n",
            "Solution: \n",
            "- number of solutions: 0\n",
            "  number of solutions displayed: 0\n",
            "\n"
          ]
        }
      ],
      "source": [
        "# Résolution\n",
        "# -------------------------\n",
        "# Create an environment with your WLS license\n",
        "params = {\n",
        "    \"WLSACCESSID\": 'efa10779-150a-495c-ab62-6a20ff44c598',\n",
        "    \"WLSSECRET\": 'fa980d94-a6fd-4d7b-aa68-b0e19ddd2e84',\n",
        "    \"LICENSEID\": 2651433,\n",
        "}\n",
        "env = gp.Env(params=params)\n",
        "solver = pyo.SolverFactory('gurobi', env= env)\n",
        "\n",
        "# Solve the model\n",
        "results = solver.solve(m, tee=True)\n",
        "\n",
        "# Check the termination condition\n",
        "if results.solver.termination_condition == pyo.TerminationCondition.infeasible:\n",
        "    print(\"The model is infeasible.\")\n",
        "elif results.solver.termination_condition == pyo.TerminationCondition.unbounded:\n",
        "    print(\"The model is unbounded.\")\n",
        "elif results.solver.termination_condition == pyo.TerminationCondition.infeasibleOrUnbounded:\n",
        "    print(\"The model is infeasible or unbounded.\")\n",
        "else:\n",
        "    print(\"Solver terminated with condition:\", results.solver.termination_condition)\n",
        "    # Print the results (optional, but good practice)\n",
        "    print(results)"
      ]
    },
    {
      "cell_type": "code",
      "execution_count": 394,
      "metadata": {
        "colab": {
          "base_uri": "https://localhost:8080/"
        },
        "id": "LPlIiVKqnpPE",
        "outputId": "453327ec-3f83-47b6-9c73-b52a60ce3d6d"
      },
      "outputs": [
        {
          "output_type": "stream",
          "name": "stdout",
          "text": [
            "-0.0648\n",
            "0.057999999999999996\n"
          ]
        }
      ],
      "source": [
        "info_DSO_node1 = m.F[1, 3, 0, 0].value\n",
        "info_DSO_node2 = m.F[2, 4, 0, 0].value\n",
        "print(info_DSO_node1)\n",
        "print(info_DSO_node2)\n",
        "\n",
        "info_DSO = [info_DSO_node1, info_DSO_node2]"
      ]
    },
    {
      "cell_type": "code",
      "execution_count": 395,
      "metadata": {
        "colab": {
          "base_uri": "https://localhost:8080/"
        },
        "id": "0CyMv1hMcsOd",
        "outputId": "d3c64f35-f61a-4f17-f255-680b2fc8daf5"
      },
      "outputs": [
        {
          "output_type": "stream",
          "name": "stdout",
          "text": [
            "101.8539599998032\n",
            "0.6844793641885781\n"
          ]
        }
      ],
      "source": [
        "print(m.theta[0,0,1].value)\n",
        "print(G[0][11]['b_pu'])"
      ]
    },
    {
      "cell_type": "code",
      "execution_count": 396,
      "metadata": {
        "colab": {
          "base_uri": "https://localhost:8080/",
          "height": 859
        },
        "id": "0qDf5fn1aZur",
        "outputId": "b68c7760-2a25-4b9f-bdfb-dbda77ba801a"
      },
      "outputs": [
        {
          "output_type": "display_data",
          "data": {
            "text/plain": [
              "<Figure size 1200x800 with 1 Axes>"
            ],
            "image/png": "[encoded data removed]"
          },
          "metadata": {}
        }
      ],
      "source": [
        "def plot_power_flow(m, i, j):\n",
        "    pos = nx.get_node_attributes(G, 'pos')\n",
        "    # Use node indices as labels\n",
        "    labels = {n: n for n in G.nodes()}\n",
        "\n",
        "    plt.figure(figsize=(12, 8))\n",
        "\n",
        "    edge_colors = []\n",
        "    edge_labels = {}\n",
        "    # Create a list of edges with direction based on flow\n",
        "    directed_edges = []\n",
        "\n",
        "\n",
        "    for u, v in G.edges():\n",
        "        try:\n",
        "            # Get the flow value from the model\n",
        "            flow_value = m.F[u, v, i, j].value\n",
        "            if flow_value is not None:\n",
        "                edge_labels[(u, v)] = f\"{round(abs(flow_value), 4)}\" # Display absolute value\n",
        "                if flow_value > 0:\n",
        "                    edge_colors.append('blue')  # Positive flow (u to v) - Blue arrow\n",
        "                    directed_edges.append((u, v)) # Arrow from u to v\n",
        "                elif flow_value < 0:\n",
        "                    edge_colors.append('blue')  # Negative flow (v to u) - Still blue, but direction will be reversed\n",
        "                    directed_edges.append((v, u)) # Arrow from v to u (reverse direction)\n",
        "                else:\n",
        "                    edge_colors.append('gray') # No flow\n",
        "                    directed_edges.append((u, v)) # Still add edge for drawing, no specific direction\n",
        "            else:\n",
        "                edge_colors.append('gray') # No flow value\n",
        "                directed_edges.append((u, v)) # Still add edge for drawing, no specific direction\n",
        "        except Exception as e: # Catching the exception\n",
        "            print(f\"Error processing edge ({u}, {v}): {e}\")\n",
        "            edge_colors.append('gray') # Handle cases where edge might not be in m.F\n",
        "            directed_edges.append((u, v)) # Still add edge for drawing, no specific direction\n",
        "\n",
        "\n",
        "    # Create a directed graph for drawing purposes with correct edge directions\n",
        "    draw_graph = nx.DiGraph()\n",
        "    draw_graph.add_nodes_from(G.nodes(data=True))\n",
        "    draw_graph.add_edges_from(directed_edges)\n",
        "\n",
        "    # Draw the network\n",
        "    nx.draw(\n",
        "        draw_graph, pos,\n",
        "        with_labels=True, labels=labels, # Draw labels with node indices\n",
        "        node_size=1200,\n",
        "        edge_color=edge_colors, # Use the calculated edge colors (now always blue or gray for non-zero flow)\n",
        "        edgecolors=\"black\", font_size=8,\n",
        "        alpha=0.85,\n",
        "        node_color='steelblue', # Default node color\n",
        "        arrows=True, arrowsize=20, # Enable arrows and set size\n",
        "        connectionstyle='arc3,rad=0.1' # Add some curvature to distinguish directions if needed\n",
        "    )\n",
        "\n",
        "\n",
        "    nx.draw_networkx_edge_labels(draw_graph, pos, edge_labels=edge_labels, font_size=7, label_pos=0.3) # Use draw_graph for edge labels\n",
        "\n",
        "    plt.title(f\"Power Flow (per-unit) for i={i}, j={j}, alpha = 3\")\n",
        "    plt.axis(\"equal\")\n",
        "    plt.show()\n",
        "\n",
        "# Example usage (assuming m, i=0, and j=0 are defined)\n",
        "plot_power_flow(m, 0, 1)"
      ]
    },
    {
      "cell_type": "code",
      "execution_count": 397,
      "metadata": {
        "id": "UQqMSiRKOB_3"
      },
      "outputs": [],
      "source": [
        "def create_network():\n",
        "\n",
        "    import pandapower as pp\n",
        "\n",
        "# Crée le réseau\n",
        "    net = pp.create_empty_network()\n",
        "\n",
        "# Bases\n",
        "    Pbase = 100  # MVA\n",
        "    Vbase_high = 110  # kV\n",
        "    Vbase_medium = 20  # kV\n",
        "    Vbase_low = 0.4  # kV\n",
        "\n",
        "# Buses\n",
        "    b0 = pp.create_bus(net, vn_kv=Vbase_high, name=\"Bus grid\", geodata=(0,10))\n",
        "    b1 = pp.create_bus(net, vn_kv=Vbase_high, name=\"DSO 1\", geodata=(5,12))\n",
        "    b2 = pp.create_bus(net, vn_kv=Vbase_high, name=\"DSO 2\", geodata=(5,8))\n",
        "    b3 = pp.create_bus(net, vn_kv=Vbase_medium, name=\"Bus MV_1\", geodata=(10,12))\n",
        "    b4 = pp.create_bus(net, vn_kv=Vbase_medium, name=\"Bus MV_2\", geodata=(10,8))\n",
        "    b5 = pp.create_bus(net, vn_kv=Vbase_low, name=\"Bus LV_1\", geodata=(15,12))\n",
        "    b6 = pp.create_bus(net, vn_kv=Vbase_low, name=\"Bus LV_2\", geodata=(15,8))\n",
        "    b7 = pp.create_bus(net, vn_kv=Vbase_medium, name=\"Bus éolien\", geodata=(10,14))\n",
        "    b8 = pp.create_bus(net, vn_kv=Vbase_medium, name=\"Bus industriel\", geodata=(10,10))\n",
        "    b9 = pp.create_bus(net, vn_kv=Vbase_low, name=\"Bus load\", geodata=(15,14))\n",
        "    b10 = pp.create_bus(net, vn_kv=Vbase_low, name=\"Bus PV\", geodata=(15,10))\n",
        "    b11 = pp.create_bus(net, vn_kv=Vbase_high, name=\"TSO 1\", geodata=(2,12))\n",
        "    b12 = pp.create_bus(net, vn_kv=Vbase_high, name=\"TSO 2\", geodata=(2,8))\n",
        "\n",
        "# Lignes\n",
        "    pp.create_line(net, b0, b1, length_km=12, std_type='149-AL1/24-ST1A 110.0', name=\"line1\")\n",
        "    pp.create_line(net, b1, b2, length_km=10, std_type='149-AL1/24-ST1A 110.0', name=\"line2\")\n",
        "    pp.create_line(net, b0, b2, length_km=10, std_type='149-AL1/24-ST1A 110.0', name=\"line3\")\n",
        "    pp.create_line(net, b3, b7, length_km=0.23, std_type='NA2XS2Y 1x185 RM/25 12/20 kV', name=\"line4\")\n",
        "    pp.create_line(net, b4, b8, length_km=0.3, std_type='NA2XS2Y 1x185 RM/25 12/20 kV', name=\"line5\")\n",
        "    pp.create_line(net, b5, b9, length_km=3, std_type='94-AL1/15-ST1A 0.4', name=\"line6\")\n",
        "    pp.create_line(net, b6, b10, length_km=0.45, std_type='94-AL1/15-ST1A 0.4', name=\"line7\")\n",
        "    pp.create_line(net, b0, b11, length_km=16, std_type='149-AL1/24-ST1A 110.0', name= 'line8')\n",
        "    pp.create_line(net, b11, b1, length_km=24, std_type='149-AL1/24-ST1A 110.0', name= 'line9')\n",
        "    pp.create_line(net, b0, b12, length_km=22, std_type='149-AL1/24-ST1A 110.0', name= 'line10')\n",
        "    pp.create_line(net, b12, b2, length_km=16, std_type='149-AL1/24-ST1A 110.0', name= 'line11')\n",
        "\n",
        "# Transformateurs\n",
        "    pp.create_transformer(net, b1, b3, std_type=\"25 MVA 110/20 kV\", name=\"TR_1\")\n",
        "    pp.create_transformer(net, b2, b4, std_type=\"25 MVA 110/20 kV\", name=\"TR_2\")\n",
        "    pp.create_transformer(net, b3, b5, std_type=\"0.4 MVA 20/0.4 kV\", name=\"TR_3\")\n",
        "    pp.create_transformer(net, b4, b6, std_type=\"0.4 MVA 20/0.4 kV\", name=\"TR_4\")\n",
        "\n",
        "# Éléments de bus\n",
        "    pp.create_ext_grid(net, bus=b0, vm_pu=1.00, name=\"Grid Connection\")\n",
        "    pp.create_load(net, bus=b9, p_mw=0.02, q_mvar=0.02, name=\"Residential Load\")\n",
        "    pp.create_gen(net, bus=b10, p_mw=0.2, vm_pu=1.00, name=\"PV\", max_q_mvar=200, min_q_mvar=0, max_p_mw=300, min_p_mw=0, controllable=False)\n",
        "    pp.create_gen(net, bus=b7, p_mw=6.5, vm_pu=1.0, name=\"Wind Turbine\", controllable=False)\n",
        "    pp.create_load(net, bus=b8, p_mw=6, q_mvar=1.8, name=\"Industry\")\n",
        "    pp.create_load(net, bus=b11, p_mw=20, q_mvar=9, name=\"Datacenter\")\n",
        "    pp.create_load(net, bus=b12, p_mw=50, q_mvar=24, name=\"Big industry\")\n",
        "\n",
        "# Donner accès à net\n",
        "    return net"
      ]
    },
    {
      "cell_type": "code",
      "execution_count": 398,
      "metadata": {
        "id": "L2tSLt42fckE"
      },
      "outputs": [],
      "source": [
        "def create_digraph():\n",
        "  net = create_network()\n",
        "\n",
        "  import json\n",
        "  import networkx as nx\n",
        "  import matplotlib.pyplot as plt\n",
        "# 1. Conversion du réseau Pandapower en DiGraph\n",
        "# ================================\n",
        "  G = nx.Graph()\n",
        "\n",
        "# Créer les positions à partir de la colonne \"geo\"\n",
        "  pos = {}\n",
        "  for idx, row in net.bus.iterrows():\n",
        "  # Extraire le champ 'geo' qui est une chaîne de caractères représentant un dictionnaire JSON\n",
        "      geo_data = row['geo']\n",
        "\n",
        "  # Convertir la chaîne JSON en un dictionnaire Python\n",
        "      geo_dict = json.loads(geo_data)\n",
        "\n",
        "  # Extraire la liste des coordonnées\n",
        "      coordinates = geo_dict[\"coordinates\"]\n",
        "\n",
        "  # Ajouter les coordonnées dans le dictionnaire pos\n",
        "      pos[idx] = tuple(coordinates)  # Assigner les coordonnées sous forme de tuple\n",
        "\n",
        "# Ajouter les nœuds (avec le nom comme label) and voltage\n",
        "  for idx, row in net.bus.iterrows():\n",
        "      G.add_node(idx, label=row[\"name\"], pos=pos[idx], vn_kv=row[\"vn_kv\"])\n",
        "\n",
        "\n",
        "# Ajouter les arêtes pour les lines\n",
        "  for _, row in net.line.iterrows():\n",
        "      G.add_edge(row[\"from_bus\"], row[\"to_bus\"], type=\"line\", name=row[\"name\"], length=row[\"length_km\"], std_type=row[\"std_type\"])\n",
        "\n",
        "# Ajouter les arêtes pour les transformateurs\n",
        "  for _, row in net.trafo.iterrows():\n",
        "      G.add_edge(row[\"hv_bus\"], row[\"lv_bus\"], type=\"trafo\", name=row[\"name\"], std_type = None)\n",
        "\n",
        "# Ajouter les générateurs et les charges comme attributs aux nœuds\n",
        "  for _, row in net.gen.iterrows():\n",
        "      G.nodes[row[\"bus\"]][\"type\"] = \"gen\"\n",
        "      G.nodes[row[\"bus\"]][\"gen_name\"] = row[\"name\"]\n",
        "      G.nodes[row[\"bus\"]][\"gen_power\"] = row[\"p_mw\"]\n",
        "\n",
        "  for _, row in net.load.iterrows():\n",
        "      G.nodes[row[\"bus\"]][\"type\"] = \"load\"\n",
        "      G.nodes[row[\"bus\"]][\"load_name\"] = row[\"name\"]\n",
        "      G.nodes[row[\"bus\"]][\"load_power\"] = row[\"p_mw\"]\n",
        "\n",
        "  for _, row in net.ext_grid.iterrows():\n",
        "      G.nodes[row[\"bus\"]][\"type\"] = \"ext_grid\"\n",
        "      G.nodes[row[\"bus\"]][\"grid_name\"] = row[\"name\"]\n",
        "\n",
        "# 2. Ajout des puissances consommées et injectées aux nœuds\n",
        "# ================================\n",
        "  nx.set_node_attributes(G, 0.0, \"P_load\")\n",
        "  nx.set_node_attributes(G, 0.0, \"P_gen\")\n",
        "\n",
        "# Charges\n",
        "  for _, row in net.load.iterrows():\n",
        "      G.nodes[row[\"bus\"]][\"P_load\"] += row[\"p_mw\"]\n",
        "      print(row)\n",
        "\n",
        "# Générateurs\n",
        "  for _, row in net.gen.iterrows():\n",
        "      G.nodes[row[\"bus\"]][\"P_gen\"] += row[\"p_mw\"]\n",
        "\n",
        "# Source externe\n",
        "  for _, row in net.ext_grid.iterrows():\n",
        "      G.nodes[row[\"bus\"]][\"P_gen\"] += 0\n",
        "\n",
        "# Calculate P_net\n",
        "  for n in G.nodes:\n",
        "      G.nodes[n][\"P_net\"] = G.nodes[n][\"P_gen\"] - G.nodes[n][\"P_load\"]\n",
        "\n",
        "# Create subnetworks (NetworkX DiGraphs) from the main graph G\n",
        "  network1_buses = [0, 1, 2, 11,12]\n",
        "  network2_buses = [3, 7, 5, 9, 10]\n",
        "  network3_buses = [4, 8, 6]\n",
        "\n",
        "# Assign G1 to G and then add power attributes to nodes in G\n",
        "  G = G.subgraph(network1_buses)\n",
        "\n",
        "  for n in G.nodes:\n",
        "      G.nodes[n][\"P\"] = G.nodes[n][\"P_net\"] # Assign P_net to 'P' attribute\n",
        "\n",
        "# 3. Préparer les couleurs des nœuds en fonction de P_net\n",
        "# ================================\n",
        "  node_colors = []\n",
        "  for n, data in G.nodes(data=True):\n",
        "      if data[\"P_net\"] > 0:\n",
        "          node_colors.append(\"green\")   # producteur\n",
        "      elif data[\"P_net\"] < 0:\n",
        "          node_colors.append(\"red\")     # consommateur\n",
        "      else:\n",
        "          node_colors.append(\"gray\")    # neutre\n",
        "\n",
        "# 4. Préparer les labels : Nom + P_net\n",
        "# ================================\n",
        "  labels = {n: f\"{data['label']}\\nP={round(data['P_net'],2)}MW\"\n",
        "            for n, data in G.nodes(data=True)}\n",
        "\n",
        "# 5. Function to plot the network\n",
        "# ================================\n",
        "  def plot_network():\n",
        "      pos = nx.get_node_attributes(G, 'pos')\n",
        "\n",
        "      plt.figure(figsize=(12, 8))\n",
        "      nx.draw(\n",
        "          G, pos,\n",
        "          with_labels=True, labels=labels,\n",
        "          node_size=1200, node_color=node_colors,\n",
        "          edgecolors=\"black\", font_size=8,\n",
        "          alpha=0.85\n",
        "          )\n",
        "\n",
        "  # Labels des arêtes (type ligne ou trafo)\n",
        "      edge_labels = nx.get_edge_attributes(G, 'type')\n",
        "      nx.draw_networkx_edge_labels(G, pos, edge_labels=edge_labels, font_size=7)\n",
        "\n",
        "      plt.title(\"Réseau électrique avec puissances (P_net)\")\n",
        "      plt.axis(\"equal\")\n",
        "      plt.show()\n",
        "\n",
        "\n",
        "  return G, plot_network()"
      ]
    },
    {
      "cell_type": "code",
      "execution_count": 399,
      "metadata": {
        "colab": {
          "base_uri": "https://localhost:8080/",
          "height": 1000
        },
        "id": "tnfnysf3g7Km",
        "outputId": "3e75a5a0-00f3-4074-f18b-592cb8a7af2f"
      },
      "outputs": [
        {
          "output_type": "stream",
          "name": "stdout",
          "text": [
            "name               Residential Load\n",
            "bus                               9\n",
            "p_mw                           0.02\n",
            "q_mvar                         0.02\n",
            "const_z_percent                 0.0\n",
            "const_i_percent                 0.0\n",
            "sn_mva                          NaN\n",
            "scaling                         1.0\n",
            "in_service                     True\n",
            "type                            wye\n",
            "Name: 0, dtype: object\n",
            "name               Industry\n",
            "bus                       8\n",
            "p_mw                    6.0\n",
            "q_mvar                  1.8\n",
            "const_z_percent         0.0\n",
            "const_i_percent         0.0\n",
            "sn_mva                  NaN\n",
            "scaling                 1.0\n",
            "in_service             True\n",
            "type                    wye\n",
            "Name: 1, dtype: object\n",
            "name               Datacenter\n",
            "bus                        11\n",
            "p_mw                     20.0\n",
            "q_mvar                    9.0\n",
            "const_z_percent           0.0\n",
            "const_i_percent           0.0\n",
            "sn_mva                    NaN\n",
            "scaling                   1.0\n",
            "in_service               True\n",
            "type                      wye\n",
            "Name: 2, dtype: object\n",
            "name               Big industry\n",
            "bus                          12\n",
            "p_mw                       50.0\n",
            "q_mvar                     24.0\n",
            "const_z_percent             0.0\n",
            "const_i_percent             0.0\n",
            "sn_mva                      NaN\n",
            "scaling                     1.0\n",
            "in_service                 True\n",
            "type                        wye\n",
            "Name: 3, dtype: object\n"
          ]
        },
        {
          "output_type": "display_data",
          "data": {
            "text/plain": [
              "<Figure size 1200x800 with 1 Axes>"
            ],
            "image/png": "[encoded data removed]"
          },
          "metadata": {}
        }
      ],
      "source": [
        "G, plot_func = create_digraph()"
      ]
    },
    {
      "cell_type": "code",
      "execution_count": 400,
      "metadata": {
        "colab": {
          "base_uri": "https://localhost:8080/"
        },
        "id": "4joTAruugLdr",
        "outputId": "ae7072e3-674c-448c-c9a8-3005d365ec53"
      },
      "outputs": [
        {
          "output_type": "stream",
          "name": "stdout",
          "text": [
            "0.010770329614269008\n",
            "0.010770329614269008\n",
            "0.005656854249492381\n",
            "0.005656854249492381\n",
            "0.008\n",
            "0.006\n",
            "0.006\n"
          ]
        }
      ],
      "source": [
        "#Calculate the susceptance of each line in Siemens per km\n",
        "strange = 1000\n",
        "for u, v in G.edges():\n",
        "    G[u][v]['b'] = length(u,v)* 200*10**-6 *strange\n",
        "    print(G[u][v]['b'])"
      ]
    },
    {
      "cell_type": "code",
      "execution_count": 401,
      "metadata": {
        "colab": {
          "base_uri": "https://localhost:8080/"
        },
        "id": "xWiNeivwgrD6",
        "outputId": "5b06a282-5a10-4c03-86a5-7297bc3a5b2b"
      },
      "outputs": [
        {
          "output_type": "stream",
          "name": "stdout",
          "text": [
            "1.30320988332655\n",
            "1.30320988332655\n",
            "0.6844793641885781\n",
            "0.6844793641885781\n",
            "0.968\n",
            "0.726\n",
            "0.726\n"
          ]
        }
      ],
      "source": [
        "# Convert susceptance 'b' on edges to per-unit\n",
        "for u, v in G.edges():\n",
        "    # Assuming 'b' is in Siemens/km, convert to per-unit\n",
        "    # b_pu = b_actual * (V_base^2 / S_base)\n",
        "    # V_base is assumed to be v_base_high (110 kV)\n",
        "    G[u][v]['b_pu'] = G[u][v].get('b', 0.0) * (get_base_node_voltage_kv(u)**2 / s_base)\n",
        "    print(G[u][v]['b_pu'])"
      ]
    },
    {
      "cell_type": "code",
      "execution_count": 402,
      "metadata": {
        "colab": {
          "base_uri": "https://localhost:8080/"
        },
        "id": "07q_jJUiinf_",
        "outputId": "d9b22e08-68f9-4c06-c66a-513e278c7fe3"
      },
      "outputs": [
        {
          "output_type": "stream",
          "name": "stdout",
          "text": [
            "-0.8954702675131095\n",
            "0.8954702675131095\n",
            "1.30320988332655\n",
            "1.30320988332655\n",
            "0.6844793641885781\n",
            "0.6844793641885781\n",
            "0.968\n",
            "0.726\n",
            "0.726\n"
          ]
        }
      ],
      "source": [
        "m = pyo.ConcreteModel()\n",
        "# Define base values for the per-unit system\n",
        "s_base = 100  # MVA\n",
        "v_base_high = 110 # kV (From the create_network function)\n",
        "\n",
        "m.Nodes = pyo.Set(initialize= [b for b in G.nodes])\n",
        "m.Lines = pyo.Set(initialize= [l for l in G.edges])\n",
        "m.i = pyo.Set(initialize=[0, 1]) # Initialize m.i with two generic elements\n",
        "m.j = pyo.Set(initialize= [0, 1])\n",
        "m.children = pyo.Set(initialize= [1, 2])\n",
        "m.parents = pyo.Set(initialize = [0])\n",
        "\n",
        "m.P = pyo.Param(m.Nodes, initialize = {n: - G.nodes[n].get('P') for n in G.nodes}, domain = pyo.Reals, mutable=True) # Make P mutable\n",
        "m.P_absolute_value = pyo.Param(m.Nodes, initialize = {n: abs(m.P[n]) for n in G.nodes}, domain = pyo.NonNegativeReals) # Make P mutable\n",
        "\n",
        "m.info_DSO_param = pyo.Param(m.children, initialize = {n: info_DSO[n-1] for n in m.children}, domain = pyo.Reals) # Renamed parameter and adjusted index for list\n",
        "\n",
        "m.I_min = pyo.Param(m.Lines, initialize = {(i,j): calculate_current_bounds(G.edges[i,j][\"std_type\"], get_base_node_voltage_kv(i))[0] for (i,j) in m.Lines}, domain = pyo.Reals)\n",
        "m.I_max = pyo.Param(m.Lines, initialize = {(i,j): calculate_current_bounds(G.edges[i,j][\"std_type\"], get_base_node_voltage_kv(i))[1] for (i,j) in m.Lines}, domain = pyo.Reals)\n",
        "\n",
        "print(m.I_min[(0,1)])\n",
        "print(m.I_max[(0,1)])\n",
        "\n",
        "# Variables principales\n",
        "m.F = pyo.Var(m.Lines, m.i, m.j, domain=pyo.Reals)     # active power flow through lines\n",
        "m.I = pyo.Var(m.Lines,  m.i, m.j, domain=pyo.Reals)  # current flowing through lines\n",
        "m.theta = pyo.Var(m.Nodes,  m.i, m.j, domain=pyo.Reals)  # phase angle of the voltage\n",
        "m.V = pyo.Var(m.Nodes, m.i, m.j, domain=pyo.NonNegativeReals)  # voltage magnitude at each node\n",
        "m.E = pyo.Var(m.Nodes, m.i, m.j, domain=pyo.Reals) #net power injection/consumption\n",
        "m.P_plus = pyo.Var(m.parents, m.i, m.j, domain=pyo.Reals) #power entering the operational graph\n",
        "m.P_minus = pyo.Var(m.children, m.i, m.j, domain=pyo.Reals) #power leaving the operational graph\n",
        "\n",
        "m.P_C_set = pyo.Var(m.children, m.i, domain=pyo.Reals) #vertices of the power envelope at each child node\n",
        "\n",
        "#m.P_C_min = pyo.Var(m.children, m.i, m.j, domain=pyo.Reals)\n",
        "#m.P_C_max = pyo.Var(m.children, m.i, m.j,  domain=pyo.Reals)\n",
        "\n",
        "m.V_P = pyo.Param(m.j, initialize = {0: 0.9, 1: 1.1}, domain =pyo.NonNegativeReals)\n",
        "\n",
        "m.O = pyo.Var(domain= pyo.NonNegativeReals)\n",
        "m.tot = pyo.Var(domain= pyo.Reals)\n",
        "m.aux = pyo.Var(m.children, domain=pyo.Reals)\n",
        "m.diff_DSO = pyo.Var(m.children, domain=pyo.NonNegativeReals)\n",
        "\n",
        "for u in G.nodes():\n",
        "  if G.nodes[u].get('P', 0.0) / s_base == 0:\n",
        "    m.P[u] = 0\n",
        "  else:\n",
        "    G.nodes[u]['P_pu'] = G.nodes[u].get('P', 0.0) / s_base\n",
        "    m.P[u] = - G.nodes[u]['P_pu']\n",
        "\n",
        "\"\"\"# Convert P parameter to per-unit\n",
        "for n in G.nodes:\n",
        "    # Assuming P is in MW, convert to per-unit\n",
        "    G.nodes[n]['P'] = G.nodes[n].get('P', 0.0) / s_base\n",
        "    m.P[n] = G.nodes[n]['P']\"\"\"\n",
        "\n",
        "\n",
        "# Convert susceptance 'b' on edges to per-unit\n",
        "for u, v in G.edges():\n",
        "    # Assuming 'b' is in Siemens/km, convert to per-unit\n",
        "    # b_pu = b_actual * (V_base^2 / S_base)\n",
        "    # V_base is assumed to be v_base_high (110 kV)\n",
        "    G[u][v]['b_pu'] = G[u][v].get('b', 0.0) * (get_base_node_voltage_kv(u)**2 / s_base)\n",
        "\n",
        "    print(G[u][v]['b_pu'])"
      ]
    },
    {
      "cell_type": "code",
      "execution_count": 403,
      "metadata": {
        "colab": {
          "base_uri": "https://localhost:8080/"
        },
        "id": "1tUFkVhBIp_x",
        "outputId": "85fd36e3-3683-47fb-a3f0-57e360715fe9"
      },
      "outputs": [
        {
          "output_type": "stream",
          "name": "stdout",
          "text": [
            "0\n",
            "0\n",
            "0\n",
            "0.2\n",
            "0.5\n"
          ]
        },
        {
          "output_type": "execute_result",
          "data": {
            "text/plain": [
              "0"
            ]
          },
          "metadata": {},
          "execution_count": 403
        }
      ],
      "source": [
        "for n in G.nodes:\n",
        "  print(m.P[n].value)\n",
        "m.P[1].value\n"
      ]
    },
    {
      "cell_type": "code",
      "execution_count": 404,
      "metadata": {
        "colab": {
          "base_uri": "https://localhost:8080/",
          "height": 70
        },
        "id": "lmnxCzo_aFST",
        "outputId": "5e92121c-09ca-4a3a-e82e-7663069147fa"
      },
      "outputs": [
        {
          "output_type": "execute_result",
          "data": {
            "text/plain": [
              "'# Auxiliary variables for the L1 norm of P_C_set\\nm.abs_P_C_set = pyo.Var(m.children, domain=pyo.NonNegativeReals)\\n\\n# Constraints to linearize the L1 norm of P_C_set\\ndef abs_P_C_set_pos_rule(m, n):\\n    return m.abs_P_C_set[n] >= m.aux[n]\\nm.abs_P_C_set_pos = pyo.Constraint(m.children, rule=abs_P_C_set_pos_rule)\\n\\ndef abs_P_C_set_neg_rule(m, n):\\n    return m.abs_P_C_set[n] >= -m.aux[n]\\nm.abs_P_C_set_neg = pyo.Constraint(m.children, rule=abs_P_C_set_neg_rule)'"
            ],
            "application/vnd.google.colaboratory.intrinsic+json": {
              "type": "string"
            }
          },
          "metadata": {},
          "execution_count": 404
        }
      ],
      "source": [
        "#Children nodes consumption\n",
        "def worst_case_children(m, n, vert_pow, vert_volt):\n",
        "  return m.P_C_set[n, vert_pow] == m.P_minus[n, vert_pow, vert_volt]\n",
        "m.worst_case = pyo.Constraint(m.children, m.i, m.j, rule=worst_case_children)\n",
        "\n",
        "\n",
        "# Auxiliary variable for the absolute value of E (already defined as per-unit)\n",
        "m.z = pyo.Var(m.Nodes, m.i, m.j, domain=pyo.NonNegativeReals)\n",
        "\n",
        "m.curt = pyo.Var(m.Nodes, m.i, m.j, domain=pyo.Reals)\n",
        "\n",
        "def curtailment_def_rule(m,n, vert_pow, vert_volt):\n",
        "\n",
        "  return m.curt[n, vert_pow, vert_volt] == m.P[n] - m.E[n, vert_pow, vert_volt]\n",
        "\n",
        "m.curt_def = pyo.Constraint(m.Nodes, m.i, m.j, rule=curtailment_def_rule)\n",
        "# Constraints to define the absolute value (already defined for per-unit E)\n",
        "def abs_E_pos_rule(m, n, vert_pow, vert_volt):\n",
        "    return m.z[n, vert_pow, vert_volt] >= m.curt[n, vert_pow, vert_volt]\n",
        "m.abs_E_pos = pyo.Constraint(m.Nodes, m.i, m.j, rule=abs_E_pos_rule)\n",
        "\n",
        "def abs_E_neg_rule(m, n, vert_pow, vert_volt):\n",
        "    return m.z[n, vert_pow, vert_volt] >= -m.curt[n, vert_pow, vert_volt]\n",
        "m.abs_E_neg = pyo.Constraint(m.Nodes, m.i, m.j, rule=abs_E_neg_rule)\n",
        "\n",
        "def upper_bound_rule(m, vert_pow, vert_volt):\n",
        "    # m.z is per-unit, m.O is per-unit\n",
        "    return sum(m.z[n, vert_pow, vert_volt] for n in m.Nodes) <= m.O\n",
        "\n",
        "m.upper_bound = pyo.Constraint(m.i, m.j, rule=upper_bound_rule)\n",
        "\n",
        "# Current magnitude constraint (I_min, I_max are assumed per-unit)\n",
        "def current_bounds_rule(m, i, j, vert_pow, vert_volt):\n",
        "    # m.I is per-unit current\n",
        "    return pyo.inequality(m.I_min[(i,j)], m.I[i,j, vert_pow, vert_volt], m.I_max[(i,j)])\n",
        "m.CurrentBounds = pyo.Constraint(m.Lines, m.i, m.j, rule=current_bounds_rule)\n",
        "\n",
        "def phase_constr_rule(m,n, vert_pow, vert_volt):\n",
        "    return pyo.inequality(theta_min/10, m.theta[n, vert_pow, vert_volt], theta_max/10)\n",
        "\n",
        "m.phaseConstr = pyo.Constraint(m.Nodes, m.i, m.j, rule=phase_constr_rule)\n",
        "\n",
        "def dc_power_flow_rule(m, i, j, vert_pow, vert_volt):\n",
        "    return m.F[i, j, vert_pow, vert_volt] == m.V_P[vert_volt]**2 *(G[i][j]['b_pu'] * (\n",
        "        m.theta[i, vert_pow, vert_volt] - m.theta[j, vert_pow, vert_volt])\n",
        "    )\n",
        "\n",
        "m.DCFlow = pyo.Constraint(m.Lines, m.i, m.j, rule=dc_power_flow_rule)\n",
        "\n",
        "\n",
        "def current_def_rule(m, n, i, j, vert_pow, vert_volt):\n",
        "    # This constraint relates per-unit current, per-unit voltage, and per-unit power flow.\n",
        "    # In per-unit, P_pu = V_pu * I_pu. This is correct.\n",
        "    return m.I[i,j, vert_pow, vert_volt] * m.V_P[vert_volt] == m.F[i,j, vert_pow, vert_volt]\n",
        "\n",
        "m.current_def = pyo.Constraint(m.Nodes, m.Lines, m.i, m.j, rule=current_def_rule)\n",
        "\n",
        "\n",
        "\n",
        "\"\"\"def nodes_balance(m, n, vert_pow, vert_volt):\n",
        "    inflow = sum(m.F[k, n, vert_pow, vert_volt] for k in G.predecessors(n) if (k, n) in m.Lines)\n",
        "    outflow = sum(m.F[n, j, vert_pow, vert_volt] for j in G.successors(n) if (n, j) in m.Lines)\n",
        "    if n in m.parents:\n",
        "      return inflow - outflow  ==  m.E[n, vert_pow, vert_volt] - m.P_plus[n, vert_pow, vert_volt]\n",
        "\n",
        "    if n in m.children:\n",
        "      return inflow - outflow  ==  m.E[n, vert_pow, vert_volt] + m.P_minus[n, vert_pow, vert_volt]\n",
        "\n",
        "    else:\n",
        "      return inflow - outflow ==  m.E[n,vert_pow,vert_volt]\n",
        "\n",
        "m.nodes_balance = pyo.Constraint(m.Nodes, m.i, m.j, rule=nodes_balance)\"\"\"\n",
        "\n",
        "def power_balance_rule(m, n, vert_pow, vert_volt):\n",
        "    # Compute net flow into node n by summing over all lines (i,j) in m.Lines\n",
        "    expr = sum(\n",
        "        (m.F[i, j, vert_pow, vert_volt] if j == n else 0)\n",
        "      - (m.F[i, j, vert_pow, vert_volt] if i == n else 0)\n",
        "      for (i, j) in m.Lines\n",
        "    )\n",
        "    # If n is a parent node, subtract P_plus; otherwise use only E[n]\n",
        "    if n in m.parents:\n",
        "      return expr == m.E[n, vert_pow, vert_volt] - m.P_plus[n, vert_pow, vert_volt]\n",
        "\n",
        "    if n in m.children:\n",
        "      return expr ==  m.E[n, vert_pow, vert_volt] + m.P_minus[n, vert_pow, vert_volt]\n",
        "    else:\n",
        "      return expr == m.E[n, vert_pow, vert_volt]\n",
        "\n",
        "m.power_balance = pyo.Constraint(m.Nodes, m.i, m.j, rule=power_balance_rule)\n",
        "\n",
        "def parent_power_constraint_rule(m, parent, vert_pow, vert_volt):\n",
        "    # m.P_plus is per-unit power entering the operational graph\n",
        "    return pyo.inequality(-1, m.P_plus[parent, vert_pow, vert_volt],1)\n",
        "\n",
        "m.parent_power_constraint = pyo.Constraint(m.parents, m.i, m.j, rule=parent_power_constraint_rule)\n",
        "\n",
        "\n",
        "#Constant voltage assumption\n",
        "def voltage_constr_rule(m, n, vert_pow, vert_volt):\n",
        "    return m.V[n, vert_pow, vert_volt] == m.V_P[vert_volt]\n",
        "\n",
        "m.voltageConstr = pyo.Constraint(m.Nodes, m.i, m.j, rule=voltage_constr_rule)\n",
        "\n",
        "def children_voltage_rule(m, children, vert_pow, vert_volt):\n",
        "    return pyo.inequality(V_min, m.V[children, vert_pow, vert_volt], V_max)\n",
        "\n",
        "m.children_voltage = pyo.Constraint(m.children, m.i, m.j, rule=children_voltage_rule)\n",
        "\n",
        "\n",
        "\n",
        "def aux_constraint_rule(m, n):\n",
        "  return m.aux[n] == m.P_C_set[n, 0] - m.P_C_set[n, 1]\n",
        "m.aux_constraint = pyo.Constraint(m.children, rule=aux_constraint_rule)\n",
        "\n",
        "def logical_constraint_rule(m, n):\n",
        "  return m.P_C_set[n, 0] >= m.P_C_set[n, 1]\n",
        "m.logical_constraint = pyo.Constraint(m.children, rule=logical_constraint_rule)\n",
        "\n",
        "\"\"\"def info_DSO_min_rule(m,n):\n",
        "  return m.P_C_set[n,1] <= m.info_DSO_param[n]\n",
        "m.info_DSO_min = pyo.Constraint(m.children, rule=info_DSO_min_rule)\n",
        "\n",
        "def info_DSO_max_rule(m,n):\n",
        "  return m.P_C_set[n,0] >= m.info_DSO_param[n]\n",
        "m.info_DSO_max = pyo.Constraint(m.children, rule=info_DSO_max_rule)\"\"\"\n",
        "\n",
        "def tot_rule(m):\n",
        "  return m.tot == sum(m.aux[n] for n in m.children)\n",
        "m.tot_constraint = pyo.Constraint(rule=tot_rule)\n",
        "\n",
        "def diff_DSO_rule(m,n):\n",
        "  return - m.diff_DSO[n] <= (m.P_C_set[n,0] + m.P_C_set[n,1])/2 - m.info_DSO_param[n]\n",
        "m.diff_DSO_constraint = pyo.Constraint(m.children, rule=diff_DSO_rule)\n",
        "\n",
        "def diff_bis_dso_rule(m,n):\n",
        "  return (m.P_C_set[n,0] + m.P_C_set[n,1])/2 - m.info_DSO_param[n] <= m.diff_DSO[n]\n",
        "m.diff_bis_dso_constraint = pyo.Constraint(m.children, rule=diff_bis_dso_rule)\n",
        "\n",
        "\n",
        "m.abs_diff_DSO = pyo.Var(m.children, domain=pyo.NonNegativeReals)\n",
        "\"\"\"def abs_different_rule(m, n):\n",
        "    return  m.abs_diff_DSO[n] >= -m.diff_DSO[n]\n",
        "m.abs_different = pyo.Constraint(m.children, rule=abs_different_rule)\n",
        "\n",
        "def abs_different_bis_rule(m, n):\n",
        "    return  m.abs_diff_DSO[n] >= m.diff_DSO[n]\n",
        "m.abs_different = pyo.Constraint(m.children, rule=abs_different_rule)\"\"\"\n",
        "\n",
        "m.tot_bis = pyo.Var(domain=pyo.Reals)\n",
        "def tot_bis_rule(m):\n",
        "  return m.tot_bis == sum(m.diff_DSO[n] for n in m.children)\n",
        "m.tot_bis_constraint = pyo.Constraint(rule=tot_bis_rule)\n",
        "\n",
        "def net_power_constr_rule(m,n, vert_pow, vert_volt):\n",
        "  return pyo.inequality(- m.P_absolute_value[n], m.E[n, vert_pow, vert_volt], m.P_absolute_value[n])\n",
        "\n",
        "m.net_power_constr = pyo.Constraint(m.Nodes, m.i, m.j, rule=net_power_constr_rule)\n",
        "\n",
        "\n",
        "\"\"\"# Auxiliary variables for the L1 norm of P_C_set\n",
        "m.abs_P_C_set = pyo.Var(m.children, domain=pyo.NonNegativeReals)\n",
        "\n",
        "# Constraints to linearize the L1 norm of P_C_set\n",
        "def abs_P_C_set_pos_rule(m, n):\n",
        "    return m.abs_P_C_set[n] >= m.aux[n]\n",
        "m.abs_P_C_set_pos = pyo.Constraint(m.children, rule=abs_P_C_set_pos_rule)\n",
        "\n",
        "def abs_P_C_set_neg_rule(m, n):\n",
        "    return m.abs_P_C_set[n] >= -m.aux[n]\n",
        "m.abs_P_C_set_neg = pyo.Constraint(m.children, rule=abs_P_C_set_neg_rule)\"\"\""
      ]
    },
    {
      "cell_type": "code",
      "execution_count": 405,
      "metadata": {
        "colab": {
          "base_uri": "https://localhost:8080/"
        },
        "id": "-mZTkvu9jn1c",
        "outputId": "1a1962cd-980c-42e8-9cde-1d888d40a40f"
      },
      "outputs": [
        {
          "output_type": "stream",
          "name": "stdout",
          "text": [
            "0.5\n",
            "None\n",
            "None\n",
            "None\n",
            "None\n",
            "Set parameter WLSAccessID\n",
            "Set parameter WLSSecret\n",
            "Set parameter LicenseID to value 2651433\n",
            "Academic license 2651433 - for non-commercial use only - registered to an___@student.uliege.be\n",
            "Read LP format model from file /tmp/tmpwbu4ylc5.pyomo.lp\n",
            "Reading time = 0.00 seconds\n",
            "x1: 438 rows, 179 columns, 808 nonzeros\n",
            "Gurobi Optimizer version 12.0.3 build v12.0.3rc0 (linux64 - \"Ubuntu 22.04.4 LTS\")\n",
            "\n",
            "CPU model: Intel(R) Xeon(R) CPU @ 2.20GHz, instruction set [SSE2|AVX|AVX2]\n",
            "Thread count: 1 physical cores, 2 logical processors, using up to 2 threads\n",
            "\n",
            "Optimize a model with 438 rows, 179 columns and 808 nonzeros\n",
            "Model fingerprint: 0x7c76ef03\n",
            "Coefficient statistics:\n",
            "  Matrix range     [5e-01, 2e+00]\n",
            "  Objective range  [5e-01, 1e+00]\n",
            "  Bounds range     [0e+00, 0e+00]\n",
            "  RHS range        [6e-02, 5e+01]\n",
            "Presolve removed 377 rows and 117 columns\n",
            "Presolve time: 0.00s\n",
            "Presolved: 61 rows, 62 columns, 228 nonzeros\n",
            "\n",
            "Iteration    Objective       Primal Inf.    Dual Inf.      Time\n",
            "       0    6.8453092e+00   3.256318e+01   0.000000e+00      0s\n",
            "      35    4.8820940e+00   0.000000e+00   0.000000e+00      0s\n",
            "\n",
            "Solved in 35 iterations and 0.01 seconds (0.00 work units)\n",
            "Optimal objective  4.882093968e+00\n"
          ]
        },
        {
          "output_type": "stream",
          "name": "stderr",
          "text": [
            "WARNING:pyomo.core:Implicitly replacing the Component attribute objective (type=<class 'pyomo.core.base.objective.ScalarObjective'>) on block unknown with a new Component (type=<class 'pyomo.core.base.objective.AbstractScalarObjective'>).\n",
            "This is usually indicative of a modelling error.\n",
            "To avoid this warning, use block.del_component() and block.add_component().\n"
          ]
        },
        {
          "output_type": "stream",
          "name": "stdout",
          "text": [
            "1\n",
            "1.530104120315606\n",
            "-1.659704120315606\n",
            "1.6155585246877688\n",
            "-1.4995585246877692\n",
            "Set parameter WLSAccessID\n",
            "Set parameter WLSSecret\n",
            "Set parameter LicenseID to value 2651433\n",
            "Academic license 2651433 - for non-commercial use only - registered to an___@student.uliege.be\n",
            "Read LP format model from file /tmp/tmpz8pb0b6w.pyomo.lp\n",
            "Reading time = 0.00 seconds\n",
            "x1: 438 rows, 179 columns, 808 nonzeros\n",
            "Gurobi Optimizer version 12.0.3 build v12.0.3rc0 (linux64 - \"Ubuntu 22.04.4 LTS\")\n",
            "\n",
            "CPU model: Intel(R) Xeon(R) CPU @ 2.20GHz, instruction set [SSE2|AVX|AVX2]\n",
            "Thread count: 1 physical cores, 2 logical processors, using up to 2 threads\n",
            "\n",
            "Optimize a model with 438 rows, 179 columns and 808 nonzeros\n",
            "Model fingerprint: 0x0b5a1701\n",
            "Coefficient statistics:\n",
            "  Matrix range     [5e-01, 2e+00]\n",
            "  Objective range  [1e+00, 1e+00]\n",
            "  Bounds range     [0e+00, 0e+00]\n",
            "  RHS range        [6e-02, 5e+01]\n",
            "Presolve removed 377 rows and 117 columns\n",
            "Presolve time: 0.00s\n",
            "Presolved: 61 rows, 62 columns, 228 nonzeros\n",
            "\n",
            "Iteration    Objective       Primal Inf.    Dual Inf.      Time\n",
            "       0    6.4953092e+00   3.256318e+01   0.000000e+00      0s\n",
            "      36    3.4728380e+00   0.000000e+00   0.000000e+00      0s\n",
            "\n",
            "Solved in 36 iterations and 0.00 seconds (0.00 work units)\n",
            "Optimal objective  3.472838000e+00\n"
          ]
        },
        {
          "output_type": "stream",
          "name": "stderr",
          "text": [
            "WARNING:pyomo.core:Implicitly replacing the Component attribute objective (type=<class 'pyomo.core.base.objective.ScalarObjective'>) on block unknown with a new Component (type=<class 'pyomo.core.base.objective.AbstractScalarObjective'>).\n",
            "This is usually indicative of a modelling error.\n",
            "To avoid this warning, use block.del_component() and block.add_component().\n"
          ]
        },
        {
          "output_type": "stream",
          "name": "stdout",
          "text": [
            "1.1\n",
            "1.4822464815235972\n",
            "-1.611846481523597\n",
            "1.626136554853152\n",
            "-1.611846481523597\n",
            "Set parameter WLSAccessID\n",
            "Set parameter WLSSecret\n",
            "Set parameter LicenseID to value 2651433\n",
            "Academic license 2651433 - for non-commercial use only - registered to an___@student.uliege.be\n",
            "Read LP format model from file /tmp/tmpxlkn7j2s.pyomo.lp\n",
            "Reading time = 0.00 seconds\n",
            "x1: 438 rows, 179 columns, 808 nonzeros\n",
            "Gurobi Optimizer version 12.0.3 build v12.0.3rc0 (linux64 - \"Ubuntu 22.04.4 LTS\")\n",
            "\n",
            "CPU model: Intel(R) Xeon(R) CPU @ 2.20GHz, instruction set [SSE2|AVX|AVX2]\n",
            "Thread count: 1 physical cores, 2 logical processors, using up to 2 threads\n",
            "\n",
            "Optimize a model with 438 rows, 179 columns and 808 nonzeros\n",
            "Model fingerprint: 0xf18adfc7\n",
            "Coefficient statistics:\n",
            "  Matrix range     [5e-01, 2e+00]\n",
            "  Objective range  [1e+00, 1e+00]\n",
            "  Bounds range     [0e+00, 0e+00]\n",
            "  RHS range        [6e-02, 5e+01]\n",
            "Presolve removed 377 rows and 117 columns\n",
            "Presolve time: 0.00s\n",
            "Presolved: 61 rows, 62 columns, 228 nonzeros\n",
            "\n",
            "Iteration    Objective       Primal Inf.    Dual Inf.      Time\n",
            "       0    5.7473859e+00   3.019247e+01   0.000000e+00      0s\n",
            "      44    3.1919997e+00   0.000000e+00   0.000000e+00      0s\n",
            "\n",
            "Solved in 44 iterations and 0.00 seconds (0.00 work units)\n",
            "Optimal objective  3.191999696e+00\n"
          ]
        },
        {
          "output_type": "stream",
          "name": "stderr",
          "text": [
            "WARNING:pyomo.core:Implicitly replacing the Component attribute objective (type=<class 'pyomo.core.base.objective.ScalarObjective'>) on block unknown with a new Component (type=<class 'pyomo.core.base.objective.AbstractScalarObjective'>).\n",
            "This is usually indicative of a modelling error.\n",
            "To avoid this warning, use block.del_component() and block.add_component().\n"
          ]
        },
        {
          "output_type": "stream",
          "name": "stdout",
          "text": [
            "1.2\n",
            "1.4822464815235972\n",
            "-1.611846481523597\n",
            "1.626136554853153\n",
            "-1.611846481523597\n",
            "Set parameter WLSAccessID\n",
            "Set parameter WLSSecret\n",
            "Set parameter LicenseID to value 2651433\n",
            "Academic license 2651433 - for non-commercial use only - registered to an___@student.uliege.be\n",
            "Read LP format model from file /tmp/tmpeo18oqdc.pyomo.lp\n",
            "Reading time = 0.00 seconds\n",
            "x1: 438 rows, 179 columns, 808 nonzeros\n",
            "Gurobi Optimizer version 12.0.3 build v12.0.3rc0 (linux64 - \"Ubuntu 22.04.4 LTS\")\n",
            "\n",
            "CPU model: Intel(R) Xeon(R) CPU @ 2.20GHz, instruction set [SSE2|AVX|AVX2]\n",
            "Thread count: 1 physical cores, 2 logical processors, using up to 2 threads\n",
            "\n",
            "Optimize a model with 438 rows, 179 columns and 808 nonzeros\n",
            "Model fingerprint: 0xbb27877c\n",
            "Coefficient statistics:\n",
            "  Matrix range     [5e-01, 2e+00]\n",
            "  Objective range  [1e+00, 1e+00]\n",
            "  Bounds range     [0e+00, 0e+00]\n",
            "  RHS range        [6e-02, 5e+01]\n",
            "Presolve removed 377 rows and 117 columns\n",
            "Presolve time: 0.00s\n",
            "Presolved: 61 rows, 62 columns, 228 nonzeros\n",
            "\n",
            "Iteration    Objective       Primal Inf.    Dual Inf.      Time\n",
            "       0    5.7473859e+00   3.019247e+01   0.000000e+00      0s\n",
            "      44    2.9111614e+00   0.000000e+00   0.000000e+00      0s\n",
            "\n",
            "Solved in 44 iterations and 0.01 seconds (0.00 work units)\n",
            "Optimal objective  2.911161392e+00\n"
          ]
        },
        {
          "output_type": "stream",
          "name": "stderr",
          "text": [
            "WARNING:pyomo.core:Implicitly replacing the Component attribute objective (type=<class 'pyomo.core.base.objective.ScalarObjective'>) on block unknown with a new Component (type=<class 'pyomo.core.base.objective.AbstractScalarObjective'>).\n",
            "This is usually indicative of a modelling error.\n",
            "To avoid this warning, use block.del_component() and block.add_component().\n"
          ]
        },
        {
          "output_type": "stream",
          "name": "stdout",
          "text": [
            "1.3\n",
            "1.4822464815235972\n",
            "-1.611846481523597\n",
            "1.626136554853153\n",
            "-1.611846481523597\n",
            "Set parameter WLSAccessID\n",
            "Set parameter WLSSecret\n",
            "Set parameter LicenseID to value 2651433\n",
            "Academic license 2651433 - for non-commercial use only - registered to an___@student.uliege.be\n",
            "Read LP format model from file /tmp/tmpcmdjv5mr.pyomo.lp\n",
            "Reading time = 0.00 seconds\n",
            "x1: 438 rows, 179 columns, 808 nonzeros\n",
            "Gurobi Optimizer version 12.0.3 build v12.0.3rc0 (linux64 - \"Ubuntu 22.04.4 LTS\")\n",
            "\n",
            "CPU model: Intel(R) Xeon(R) CPU @ 2.20GHz, instruction set [SSE2|AVX|AVX2]\n",
            "Thread count: 1 physical cores, 2 logical processors, using up to 2 threads\n",
            "\n",
            "Optimize a model with 438 rows, 179 columns and 808 nonzeros\n",
            "Model fingerprint: 0xf161c9dd\n",
            "Coefficient statistics:\n",
            "  Matrix range     [5e-01, 2e+00]\n",
            "  Objective range  [1e+00, 1e+00]\n",
            "  Bounds range     [0e+00, 0e+00]\n",
            "  RHS range        [6e-02, 5e+01]\n",
            "Presolve removed 377 rows and 117 columns\n",
            "Presolve time: 0.00s\n",
            "Presolved: 61 rows, 62 columns, 228 nonzeros\n",
            "\n",
            "Iteration    Objective       Primal Inf.    Dual Inf.      Time\n",
            "       0    5.7473859e+00   3.019247e+01   0.000000e+00      0s\n",
            "      44    2.6303231e+00   0.000000e+00   0.000000e+00      0s\n",
            "\n",
            "Solved in 44 iterations and 0.00 seconds (0.00 work units)\n",
            "Optimal objective  2.630323089e+00\n"
          ]
        },
        {
          "output_type": "stream",
          "name": "stderr",
          "text": [
            "WARNING:pyomo.core:Implicitly replacing the Component attribute objective (type=<class 'pyomo.core.base.objective.ScalarObjective'>) on block unknown with a new Component (type=<class 'pyomo.core.base.objective.AbstractScalarObjective'>).\n",
            "This is usually indicative of a modelling error.\n",
            "To avoid this warning, use block.del_component() and block.add_component().\n"
          ]
        },
        {
          "output_type": "stream",
          "name": "stdout",
          "text": [
            "1.4\n",
            "1.4822464815235972\n",
            "-1.611846481523597\n",
            "1.626136554853153\n",
            "-1.611846481523597\n",
            "Set parameter WLSAccessID\n",
            "Set parameter WLSSecret\n",
            "Set parameter LicenseID to value 2651433\n",
            "Academic license 2651433 - for non-commercial use only - registered to an___@student.uliege.be\n",
            "Read LP format model from file /tmp/tmpmookgtfg.pyomo.lp\n",
            "Reading time = 0.00 seconds\n",
            "x1: 438 rows, 179 columns, 808 nonzeros\n",
            "Gurobi Optimizer version 12.0.3 build v12.0.3rc0 (linux64 - \"Ubuntu 22.04.4 LTS\")\n",
            "\n",
            "CPU model: Intel(R) Xeon(R) CPU @ 2.20GHz, instruction set [SSE2|AVX|AVX2]\n",
            "Thread count: 1 physical cores, 2 logical processors, using up to 2 threads\n",
            "\n",
            "Optimize a model with 438 rows, 179 columns and 808 nonzeros\n",
            "Model fingerprint: 0xef556d24\n",
            "Coefficient statistics:\n",
            "  Matrix range     [5e-01, 2e+00]\n",
            "  Objective range  [1e+00, 1e+00]\n",
            "  Bounds range     [0e+00, 0e+00]\n",
            "  RHS range        [6e-02, 5e+01]\n",
            "Presolve removed 377 rows and 117 columns\n",
            "Presolve time: 0.00s\n",
            "Presolved: 61 rows, 62 columns, 228 nonzeros\n",
            "\n",
            "Iteration    Objective       Primal Inf.    Dual Inf.      Time\n",
            "       0    5.7473859e+00   3.019247e+01   0.000000e+00      0s\n",
            "      44    2.3494848e+00   0.000000e+00   0.000000e+00      0s\n",
            "\n",
            "Solved in 44 iterations and 0.00 seconds (0.00 work units)\n",
            "Optimal objective  2.349484785e+00\n"
          ]
        },
        {
          "output_type": "stream",
          "name": "stderr",
          "text": [
            "WARNING:pyomo.core:Implicitly replacing the Component attribute objective (type=<class 'pyomo.core.base.objective.ScalarObjective'>) on block unknown with a new Component (type=<class 'pyomo.core.base.objective.AbstractScalarObjective'>).\n",
            "This is usually indicative of a modelling error.\n",
            "To avoid this warning, use block.del_component() and block.add_component().\n"
          ]
        },
        {
          "output_type": "stream",
          "name": "stdout",
          "text": [
            "1.5\n",
            "1.4822464815235972\n",
            "-1.611846481523597\n",
            "1.626136554853153\n",
            "-1.611846481523597\n",
            "Set parameter WLSAccessID\n",
            "Set parameter WLSSecret\n",
            "Set parameter LicenseID to value 2651433\n",
            "Academic license 2651433 - for non-commercial use only - registered to an___@student.uliege.be\n",
            "Read LP format model from file /tmp/tmpx4apcm81.pyomo.lp\n",
            "Reading time = 0.00 seconds\n",
            "x1: 438 rows, 179 columns, 808 nonzeros\n",
            "Gurobi Optimizer version 12.0.3 build v12.0.3rc0 (linux64 - \"Ubuntu 22.04.4 LTS\")\n",
            "\n",
            "CPU model: Intel(R) Xeon(R) CPU @ 2.20GHz, instruction set [SSE2|AVX|AVX2]\n",
            "Thread count: 1 physical cores, 2 logical processors, using up to 2 threads\n",
            "\n",
            "Optimize a model with 438 rows, 179 columns and 808 nonzeros\n",
            "Model fingerprint: 0xf1159dee\n",
            "Coefficient statistics:\n",
            "  Matrix range     [5e-01, 2e+00]\n",
            "  Objective range  [1e+00, 2e+00]\n",
            "  Bounds range     [0e+00, 0e+00]\n",
            "  RHS range        [6e-02, 5e+01]\n",
            "Presolve removed 377 rows and 117 columns\n",
            "Presolve time: 0.00s\n",
            "Presolved: 61 rows, 62 columns, 228 nonzeros\n",
            "\n",
            "Iteration    Objective       Primal Inf.    Dual Inf.      Time\n",
            "       0    5.7473859e+00   3.019247e+01   0.000000e+00      0s\n",
            "      51    2.0686465e+00   0.000000e+00   0.000000e+00      0s\n",
            "\n",
            "Solved in 51 iterations and 0.00 seconds (0.00 work units)\n",
            "Optimal objective  2.068646482e+00\n",
            "1.6\n",
            "1.216740762410213\n",
            "-1.611846481523597\n",
            "0.9542286844772101\n",
            "-1.611846481523597\n"
          ]
        },
        {
          "output_type": "stream",
          "name": "stderr",
          "text": [
            "WARNING:pyomo.core:Implicitly replacing the Component attribute objective (type=<class 'pyomo.core.base.objective.ScalarObjective'>) on block unknown with a new Component (type=<class 'pyomo.core.base.objective.AbstractScalarObjective'>).\n",
            "This is usually indicative of a modelling error.\n",
            "To avoid this warning, use block.del_component() and block.add_component().\n"
          ]
        },
        {
          "output_type": "stream",
          "name": "stdout",
          "text": [
            "Set parameter WLSAccessID\n",
            "Set parameter WLSSecret\n",
            "Set parameter LicenseID to value 2651433\n",
            "Academic license 2651433 - for non-commercial use only - registered to an___@student.uliege.be\n",
            "Read LP format model from file /tmp/tmpvp8gqeor.pyomo.lp\n",
            "Reading time = 0.00 seconds\n",
            "x1: 438 rows, 179 columns, 808 nonzeros\n",
            "Gurobi Optimizer version 12.0.3 build v12.0.3rc0 (linux64 - \"Ubuntu 22.04.4 LTS\")\n",
            "\n",
            "CPU model: Intel(R) Xeon(R) CPU @ 2.20GHz, instruction set [SSE2|AVX|AVX2]\n",
            "Thread count: 1 physical cores, 2 logical processors, using up to 2 threads\n",
            "\n",
            "Optimize a model with 438 rows, 179 columns and 808 nonzeros\n",
            "Model fingerprint: 0xabd04381\n",
            "Coefficient statistics:\n",
            "  Matrix range     [5e-01, 2e+00]\n",
            "  Objective range  [1e+00, 2e+00]\n",
            "  Bounds range     [0e+00, 0e+00]\n",
            "  RHS range        [6e-02, 5e+01]\n",
            "Presolve removed 377 rows and 117 columns\n",
            "Presolve time: 0.00s\n",
            "Presolved: 61 rows, 62 columns, 228 nonzeros\n",
            "\n",
            "Iteration    Objective       Primal Inf.    Dual Inf.      Time\n",
            "       0    5.7473859e+00   3.019247e+01   0.000000e+00      0s\n",
            "      44    1.9101538e+00   0.000000e+00   0.000000e+00      0s\n",
            "\n",
            "Solved in 44 iterations and 0.00 seconds (0.00 work units)\n",
            "Optimal objective  1.910153814e+00\n"
          ]
        },
        {
          "output_type": "stream",
          "name": "stderr",
          "text": [
            "WARNING:pyomo.core:Implicitly replacing the Component attribute objective (type=<class 'pyomo.core.base.objective.ScalarObjective'>) on block unknown with a new Component (type=<class 'pyomo.core.base.objective.AbstractScalarObjective'>).\n",
            "This is usually indicative of a modelling error.\n",
            "To avoid this warning, use block.del_component() and block.add_component().\n"
          ]
        },
        {
          "output_type": "stream",
          "name": "stdout",
          "text": [
            "1.7\n",
            "0.825864057825354\n",
            "-1.611846481523597\n",
            "1.0590626128954934\n",
            "-1.611846481523597\n",
            "Set parameter WLSAccessID\n",
            "Set parameter WLSSecret\n",
            "Set parameter LicenseID to value 2651433\n",
            "Academic license 2651433 - for non-commercial use only - registered to an___@student.uliege.be\n",
            "Read LP format model from file /tmp/tmpr369al4s.pyomo.lp\n",
            "Reading time = 0.00 seconds\n",
            "x1: 438 rows, 179 columns, 808 nonzeros\n",
            "Gurobi Optimizer version 12.0.3 build v12.0.3rc0 (linux64 - \"Ubuntu 22.04.4 LTS\")\n",
            "\n",
            "CPU model: Intel(R) Xeon(R) CPU @ 2.20GHz, instruction set [SSE2|AVX|AVX2]\n",
            "Thread count: 1 physical cores, 2 logical processors, using up to 2 threads\n",
            "\n",
            "Optimize a model with 438 rows, 179 columns and 808 nonzeros\n",
            "Model fingerprint: 0x9023cc12\n",
            "Coefficient statistics:\n",
            "  Matrix range     [5e-01, 2e+00]\n",
            "  Objective range  [1e+00, 2e+00]\n",
            "  Bounds range     [0e+00, 0e+00]\n",
            "  RHS range        [6e-02, 5e+01]\n",
            "Presolve removed 377 rows and 117 columns\n",
            "Presolve time: 0.00s\n",
            "Presolved: 61 rows, 62 columns, 228 nonzeros\n",
            "\n",
            "Iteration    Objective       Primal Inf.    Dual Inf.      Time\n",
            "       0    5.7473859e+00   3.019247e+01   0.000000e+00      0s\n",
            "      44    1.7516611e+00   0.000000e+00   0.000000e+00      0s\n",
            "\n",
            "Solved in 44 iterations and 0.00 seconds (0.00 work units)\n",
            "Optimal objective  1.751661147e+00\n"
          ]
        },
        {
          "output_type": "stream",
          "name": "stderr",
          "text": [
            "WARNING:pyomo.core:Implicitly replacing the Component attribute objective (type=<class 'pyomo.core.base.objective.ScalarObjective'>) on block unknown with a new Component (type=<class 'pyomo.core.base.objective.AbstractScalarObjective'>).\n",
            "This is usually indicative of a modelling error.\n",
            "To avoid this warning, use block.del_component() and block.add_component().\n"
          ]
        },
        {
          "output_type": "stream",
          "name": "stdout",
          "text": [
            "1.8\n",
            "0.825864057825354\n",
            "-1.611846481523597\n",
            "1.0590626128954934\n",
            "-1.611846481523597\n",
            "Set parameter WLSAccessID\n",
            "Set parameter WLSSecret\n",
            "Set parameter LicenseID to value 2651433\n",
            "Academic license 2651433 - for non-commercial use only - registered to an___@student.uliege.be\n",
            "Read LP format model from file /tmp/tmpr1aiminz.pyomo.lp\n",
            "Reading time = 0.00 seconds\n",
            "x1: 438 rows, 179 columns, 808 nonzeros\n",
            "Gurobi Optimizer version 12.0.3 build v12.0.3rc0 (linux64 - \"Ubuntu 22.04.4 LTS\")\n",
            "\n",
            "CPU model: Intel(R) Xeon(R) CPU @ 2.20GHz, instruction set [SSE2|AVX|AVX2]\n",
            "Thread count: 1 physical cores, 2 logical processors, using up to 2 threads\n",
            "\n",
            "Optimize a model with 438 rows, 179 columns and 808 nonzeros\n",
            "Model fingerprint: 0xdbef0522\n",
            "Coefficient statistics:\n",
            "  Matrix range     [5e-01, 2e+00]\n",
            "  Objective range  [1e+00, 2e+00]\n",
            "  Bounds range     [0e+00, 0e+00]\n",
            "  RHS range        [6e-02, 5e+01]\n",
            "Presolve removed 377 rows and 117 columns\n",
            "Presolve time: 0.01s\n",
            "Presolved: 61 rows, 62 columns, 228 nonzeros\n",
            "\n",
            "Iteration    Objective       Primal Inf.    Dual Inf.      Time\n",
            "       0    5.7473859e+00   3.019247e+01   0.000000e+00      0s\n",
            "      46    1.5985490e+00   0.000000e+00   0.000000e+00      0s\n",
            "\n",
            "Solved in 46 iterations and 0.01 seconds (0.00 work units)\n",
            "Optimal objective  1.598548962e+00\n"
          ]
        },
        {
          "output_type": "stream",
          "name": "stderr",
          "text": [
            "WARNING:pyomo.core:Implicitly replacing the Component attribute objective (type=<class 'pyomo.core.base.objective.ScalarObjective'>) on block unknown with a new Component (type=<class 'pyomo.core.base.objective.AbstractScalarObjective'>).\n",
            "This is usually indicative of a modelling error.\n",
            "To avoid this warning, use block.del_component() and block.add_component().\n"
          ]
        },
        {
          "output_type": "stream",
          "name": "stdout",
          "text": [
            "1.9\n",
            "1.417298326623746\n",
            "-1.546898326623746\n",
            "0.34144648152360735\n",
            "-1.611846481523597\n",
            "Set parameter WLSAccessID\n",
            "Set parameter WLSSecret\n",
            "Set parameter LicenseID to value 2651433\n",
            "Academic license 2651433 - for non-commercial use only - registered to an___@student.uliege.be\n",
            "Read LP format model from file /tmp/tmp5wqqa3u8.pyomo.lp\n",
            "Reading time = 0.00 seconds\n",
            "x1: 438 rows, 179 columns, 808 nonzeros\n",
            "Gurobi Optimizer version 12.0.3 build v12.0.3rc0 (linux64 - \"Ubuntu 22.04.4 LTS\")\n",
            "\n",
            "CPU model: Intel(R) Xeon(R) CPU @ 2.20GHz, instruction set [SSE2|AVX|AVX2]\n",
            "Thread count: 1 physical cores, 2 logical processors, using up to 2 threads\n",
            "\n",
            "Optimize a model with 438 rows, 179 columns and 808 nonzeros\n",
            "Model fingerprint: 0xb6ac6ad1\n",
            "Coefficient statistics:\n",
            "  Matrix range     [5e-01, 2e+00]\n",
            "  Objective range  [1e+00, 2e+00]\n",
            "  Bounds range     [0e+00, 0e+00]\n",
            "  RHS range        [6e-02, 5e+01]\n",
            "Presolve removed 377 rows and 117 columns\n",
            "Presolve time: 0.00s\n",
            "Presolved: 61 rows, 62 columns, 228 nonzeros\n",
            "\n",
            "Iteration    Objective       Primal Inf.    Dual Inf.      Time\n",
            "       0    5.7473859e+00   3.019247e+01   0.000000e+00      0s\n",
            "      46    1.4526745e+00   0.000000e+00   0.000000e+00      0s\n",
            "\n",
            "Solved in 46 iterations and 0.00 seconds (0.00 work units)\n",
            "Optimal objective  1.452674481e+00\n"
          ]
        },
        {
          "output_type": "stream",
          "name": "stderr",
          "text": [
            "WARNING:pyomo.core:Implicitly replacing the Component attribute objective (type=<class 'pyomo.core.base.objective.ScalarObjective'>) on block unknown with a new Component (type=<class 'pyomo.core.base.objective.AbstractScalarObjective'>).\n",
            "This is usually indicative of a modelling error.\n",
            "To avoid this warning, use block.del_component() and block.add_component().\n"
          ]
        },
        {
          "output_type": "stream",
          "name": "stdout",
          "text": [
            "1.95\n",
            "1.417298326623746\n",
            "-1.546898326623746\n",
            "0.34144648152360735\n",
            "-1.611846481523597\n",
            "Set parameter WLSAccessID\n",
            "Set parameter WLSSecret\n",
            "Set parameter LicenseID to value 2651433\n",
            "Academic license 2651433 - for non-commercial use only - registered to an___@student.uliege.be\n",
            "Read LP format model from file /tmp/tmp78iufjdd.pyomo.lp\n",
            "Reading time = 0.00 seconds\n",
            "x1: 438 rows, 179 columns, 808 nonzeros\n",
            "Gurobi Optimizer version 12.0.3 build v12.0.3rc0 (linux64 - \"Ubuntu 22.04.4 LTS\")\n",
            "\n",
            "CPU model: Intel(R) Xeon(R) CPU @ 2.20GHz, instruction set [SSE2|AVX|AVX2]\n",
            "Thread count: 1 physical cores, 2 logical processors, using up to 2 threads\n",
            "\n",
            "Optimize a model with 438 rows, 179 columns and 808 nonzeros\n",
            "Model fingerprint: 0x47369c22\n",
            "Coefficient statistics:\n",
            "  Matrix range     [5e-01, 2e+00]\n",
            "  Objective range  [1e+00, 2e+00]\n",
            "  Bounds range     [0e+00, 0e+00]\n",
            "  RHS range        [6e-02, 5e+01]\n",
            "Presolve removed 377 rows and 117 columns\n",
            "Presolve time: 0.00s\n",
            "Presolved: 61 rows, 62 columns, 228 nonzeros\n",
            "\n",
            "Iteration    Objective       Primal Inf.    Dual Inf.      Time\n",
            "       0    5.7473859e+00   3.019247e+01   0.000000e+00      0s\n",
            "      46    1.3797372e+00   0.000000e+00   0.000000e+00      0s\n",
            "\n",
            "Solved in 46 iterations and 0.00 seconds (0.00 work units)\n",
            "Optimal objective  1.379737240e+00\n"
          ]
        },
        {
          "output_type": "stream",
          "name": "stderr",
          "text": [
            "WARNING:pyomo.core:Implicitly replacing the Component attribute objective (type=<class 'pyomo.core.base.objective.ScalarObjective'>) on block unknown with a new Component (type=<class 'pyomo.core.base.objective.AbstractScalarObjective'>).\n",
            "This is usually indicative of a modelling error.\n",
            "To avoid this warning, use block.del_component() and block.add_component().\n"
          ]
        },
        {
          "output_type": "stream",
          "name": "stdout",
          "text": [
            "2\n",
            "1.417298326623746\n",
            "-1.546898326623746\n",
            "0.34144648152360735\n",
            "-1.611846481523597\n",
            "Set parameter WLSAccessID\n",
            "Set parameter WLSSecret\n",
            "Set parameter LicenseID to value 2651433\n",
            "Academic license 2651433 - for non-commercial use only - registered to an___@student.uliege.be\n",
            "Read LP format model from file /tmp/tmpfxstpsmf.pyomo.lp\n",
            "Reading time = 0.00 seconds\n",
            "x1: 438 rows, 179 columns, 808 nonzeros\n",
            "Gurobi Optimizer version 12.0.3 build v12.0.3rc0 (linux64 - \"Ubuntu 22.04.4 LTS\")\n",
            "\n",
            "CPU model: Intel(R) Xeon(R) CPU @ 2.20GHz, instruction set [SSE2|AVX|AVX2]\n",
            "Thread count: 1 physical cores, 2 logical processors, using up to 2 threads\n",
            "\n",
            "Optimize a model with 438 rows, 179 columns and 808 nonzeros\n",
            "Model fingerprint: 0xfc9f978c\n",
            "Coefficient statistics:\n",
            "  Matrix range     [5e-01, 2e+00]\n",
            "  Objective range  [1e+00, 2e+00]\n",
            "  Bounds range     [0e+00, 0e+00]\n",
            "  RHS range        [6e-02, 5e+01]\n",
            "Presolve removed 377 rows and 117 columns\n",
            "Presolve time: 0.00s\n",
            "Presolved: 61 rows, 62 columns, 228 nonzeros\n",
            "\n",
            "Iteration    Objective       Primal Inf.    Dual Inf.      Time\n",
            "       0    5.7473859e+00   3.019247e+01   0.000000e+00      0s\n",
            "      44    1.3068000e+00   0.000000e+00   0.000000e+00      0s\n",
            "\n",
            "Solved in 44 iterations and 0.01 seconds (0.00 work units)\n",
            "Optimal objective  1.306800000e+00\n"
          ]
        },
        {
          "output_type": "stream",
          "name": "stderr",
          "text": [
            "WARNING:pyomo.core:Implicitly replacing the Component attribute objective (type=<class 'pyomo.core.base.objective.ScalarObjective'>) on block unknown with a new Component (type=<class 'pyomo.core.base.objective.AbstractScalarObjective'>).\n",
            "This is usually indicative of a modelling error.\n",
            "To avoid this warning, use block.del_component() and block.add_component().\n"
          ]
        },
        {
          "output_type": "stream",
          "name": "stdout",
          "text": [
            "2.05\n",
            "1.3181033908942634\n",
            "-1.611846481523597\n",
            "0.4406414172530795\n",
            "-1.546898326623746\n",
            "Set parameter WLSAccessID\n",
            "Set parameter WLSSecret\n",
            "Set parameter LicenseID to value 2651433\n",
            "Academic license 2651433 - for non-commercial use only - registered to an___@student.uliege.be\n",
            "Read LP format model from file /tmp/tmp46r0rvs9.pyomo.lp\n",
            "Reading time = 0.00 seconds\n",
            "x1: 438 rows, 179 columns, 808 nonzeros\n",
            "Gurobi Optimizer version 12.0.3 build v12.0.3rc0 (linux64 - \"Ubuntu 22.04.4 LTS\")\n",
            "\n",
            "CPU model: Intel(R) Xeon(R) CPU @ 2.20GHz, instruction set [SSE2|AVX|AVX2]\n",
            "Thread count: 1 physical cores, 2 logical processors, using up to 2 threads\n",
            "\n",
            "Optimize a model with 438 rows, 179 columns and 808 nonzeros\n",
            "Model fingerprint: 0xe47ac68b\n",
            "Coefficient statistics:\n",
            "  Matrix range     [5e-01, 2e+00]\n",
            "  Objective range  [1e+00, 2e+00]\n",
            "  Bounds range     [0e+00, 0e+00]\n",
            "  RHS range        [6e-02, 5e+01]\n",
            "Presolve removed 377 rows and 117 columns\n",
            "Presolve time: 0.00s\n",
            "Presolved: 61 rows, 62 columns, 228 nonzeros\n",
            "\n",
            "Iteration    Objective       Primal Inf.    Dual Inf.      Time\n",
            "       0    5.7473859e+00   3.019247e+01   0.000000e+00      0s\n",
            "      46    1.3068000e+00   0.000000e+00   0.000000e+00      0s\n",
            "\n",
            "Solved in 46 iterations and 0.00 seconds (0.00 work units)\n",
            "Optimal objective  1.306800000e+00\n"
          ]
        },
        {
          "output_type": "stream",
          "name": "stderr",
          "text": [
            "WARNING:pyomo.core:Implicitly replacing the Component attribute objective (type=<class 'pyomo.core.base.objective.ScalarObjective'>) on block unknown with a new Component (type=<class 'pyomo.core.base.objective.AbstractScalarObjective'>).\n",
            "This is usually indicative of a modelling error.\n",
            "To avoid this warning, use block.del_component() and block.add_component().\n"
          ]
        },
        {
          "output_type": "stream",
          "name": "stdout",
          "text": [
            "2.1\n",
            "0.45934041211806864\n",
            "-1.5406595878819334\n",
            "-0.1593404121180665\n",
            "-0.1593404121180665\n",
            "Set parameter WLSAccessID\n",
            "Set parameter WLSSecret\n",
            "Set parameter LicenseID to value 2651433\n",
            "Academic license 2651433 - for non-commercial use only - registered to an___@student.uliege.be\n",
            "Read LP format model from file /tmp/tmptleqiepi.pyomo.lp\n",
            "Reading time = 0.00 seconds\n",
            "x1: 438 rows, 179 columns, 808 nonzeros\n",
            "Gurobi Optimizer version 12.0.3 build v12.0.3rc0 (linux64 - \"Ubuntu 22.04.4 LTS\")\n",
            "\n",
            "CPU model: Intel(R) Xeon(R) CPU @ 2.20GHz, instruction set [SSE2|AVX|AVX2]\n",
            "Thread count: 1 physical cores, 2 logical processors, using up to 2 threads\n",
            "\n",
            "Optimize a model with 438 rows, 179 columns and 808 nonzeros\n",
            "Model fingerprint: 0xef978938\n",
            "Coefficient statistics:\n",
            "  Matrix range     [5e-01, 2e+00]\n",
            "  Objective range  [1e+00, 2e+00]\n",
            "  Bounds range     [0e+00, 0e+00]\n",
            "  RHS range        [6e-02, 5e+01]\n",
            "Presolve removed 377 rows and 117 columns\n",
            "Presolve time: 0.00s\n",
            "Presolved: 61 rows, 62 columns, 228 nonzeros\n",
            "\n",
            "Iteration    Objective       Primal Inf.    Dual Inf.      Time\n",
            "       0    5.7473859e+00   3.019247e+01   0.000000e+00      0s\n",
            "      46    1.3068000e+00   0.000000e+00   0.000000e+00      0s\n",
            "\n",
            "Solved in 46 iterations and 0.00 seconds (0.00 work units)\n",
            "Optimal objective  1.306800000e+00\n"
          ]
        },
        {
          "output_type": "stream",
          "name": "stderr",
          "text": [
            "WARNING:pyomo.core:Implicitly replacing the Component attribute objective (type=<class 'pyomo.core.base.objective.ScalarObjective'>) on block unknown with a new Component (type=<class 'pyomo.core.base.objective.AbstractScalarObjective'>).\n",
            "This is usually indicative of a modelling error.\n",
            "To avoid this warning, use block.del_component() and block.add_component().\n"
          ]
        },
        {
          "output_type": "stream",
          "name": "stdout",
          "text": [
            "2.2\n",
            "0.45934041211806864\n",
            "-1.5406595878819334\n",
            "-0.1593404121180665\n",
            "-0.1593404121180665\n",
            "Set parameter WLSAccessID\n",
            "Set parameter WLSSecret\n",
            "Set parameter LicenseID to value 2651433\n",
            "Academic license 2651433 - for non-commercial use only - registered to an___@student.uliege.be\n",
            "Read LP format model from file /tmp/tmpm7wmmteq.pyomo.lp\n",
            "Reading time = 0.00 seconds\n",
            "x1: 438 rows, 179 columns, 808 nonzeros\n",
            "Gurobi Optimizer version 12.0.3 build v12.0.3rc0 (linux64 - \"Ubuntu 22.04.4 LTS\")\n",
            "\n",
            "CPU model: Intel(R) Xeon(R) CPU @ 2.20GHz, instruction set [SSE2|AVX|AVX2]\n",
            "Thread count: 1 physical cores, 2 logical processors, using up to 2 threads\n",
            "\n",
            "Optimize a model with 438 rows, 179 columns and 808 nonzeros\n",
            "Model fingerprint: 0xb31b158e\n",
            "Coefficient statistics:\n",
            "  Matrix range     [5e-01, 2e+00]\n",
            "  Objective range  [1e+00, 2e+00]\n",
            "  Bounds range     [0e+00, 0e+00]\n",
            "  RHS range        [6e-02, 5e+01]\n",
            "Presolve removed 377 rows and 117 columns\n",
            "Presolve time: 0.00s\n",
            "Presolved: 61 rows, 62 columns, 228 nonzeros\n",
            "\n",
            "Iteration    Objective       Primal Inf.    Dual Inf.      Time\n",
            "       0    5.7473859e+00   3.019247e+01   0.000000e+00      0s\n",
            "      46    1.3068000e+00   0.000000e+00   0.000000e+00      0s\n",
            "\n",
            "Solved in 46 iterations and 0.00 seconds (0.00 work units)\n",
            "Optimal objective  1.306800000e+00\n"
          ]
        },
        {
          "output_type": "stream",
          "name": "stderr",
          "text": [
            "WARNING:pyomo.core:Implicitly replacing the Component attribute objective (type=<class 'pyomo.core.base.objective.ScalarObjective'>) on block unknown with a new Component (type=<class 'pyomo.core.base.objective.AbstractScalarObjective'>).\n",
            "This is usually indicative of a modelling error.\n",
            "To avoid this warning, use block.del_component() and block.add_component().\n"
          ]
        },
        {
          "output_type": "stream",
          "name": "stdout",
          "text": [
            "2.3\n",
            "0.45934041211806864\n",
            "-1.5406595878819334\n",
            "-0.1593404121180665\n",
            "-0.1593404121180665\n",
            "Set parameter WLSAccessID\n",
            "Set parameter WLSSecret\n",
            "Set parameter LicenseID to value 2651433\n",
            "Academic license 2651433 - for non-commercial use only - registered to an___@student.uliege.be\n",
            "Read LP format model from file /tmp/tmpr3kftm8q.pyomo.lp\n",
            "Reading time = 0.00 seconds\n",
            "x1: 438 rows, 179 columns, 808 nonzeros\n",
            "Gurobi Optimizer version 12.0.3 build v12.0.3rc0 (linux64 - \"Ubuntu 22.04.4 LTS\")\n",
            "\n",
            "CPU model: Intel(R) Xeon(R) CPU @ 2.20GHz, instruction set [SSE2|AVX|AVX2]\n",
            "Thread count: 1 physical cores, 2 logical processors, using up to 2 threads\n",
            "\n",
            "Optimize a model with 438 rows, 179 columns and 808 nonzeros\n",
            "Model fingerprint: 0x30072c98\n",
            "Coefficient statistics:\n",
            "  Matrix range     [5e-01, 2e+00]\n",
            "  Objective range  [1e+00, 2e+00]\n",
            "  Bounds range     [0e+00, 0e+00]\n",
            "  RHS range        [6e-02, 5e+01]\n",
            "Presolve removed 377 rows and 117 columns\n",
            "Presolve time: 0.00s\n",
            "Presolved: 61 rows, 62 columns, 228 nonzeros\n",
            "\n",
            "Iteration    Objective       Primal Inf.    Dual Inf.      Time\n",
            "       0    5.7473859e+00   3.019247e+01   0.000000e+00      0s\n",
            "      46    1.3068000e+00   0.000000e+00   0.000000e+00      0s\n",
            "\n",
            "Solved in 46 iterations and 0.01 seconds (0.00 work units)\n",
            "Optimal objective  1.306800000e+00\n",
            "2.4\n",
            "0.45934041211806864\n",
            "-1.5406595878819334\n",
            "-0.1593404121180665\n",
            "-0.1593404121180665\n"
          ]
        },
        {
          "output_type": "stream",
          "name": "stderr",
          "text": [
            "WARNING:pyomo.core:Implicitly replacing the Component attribute objective (type=<class 'pyomo.core.base.objective.ScalarObjective'>) on block unknown with a new Component (type=<class 'pyomo.core.base.objective.AbstractScalarObjective'>).\n",
            "This is usually indicative of a modelling error.\n",
            "To avoid this warning, use block.del_component() and block.add_component().\n"
          ]
        },
        {
          "output_type": "stream",
          "name": "stdout",
          "text": [
            "Set parameter WLSAccessID\n",
            "Set parameter WLSSecret\n",
            "Set parameter LicenseID to value 2651433\n",
            "Academic license 2651433 - for non-commercial use only - registered to an___@student.uliege.be\n",
            "Read LP format model from file /tmp/tmpinhu922z.pyomo.lp\n",
            "Reading time = 0.00 seconds\n",
            "x1: 438 rows, 179 columns, 808 nonzeros\n",
            "Gurobi Optimizer version 12.0.3 build v12.0.3rc0 (linux64 - \"Ubuntu 22.04.4 LTS\")\n",
            "\n",
            "CPU model: Intel(R) Xeon(R) CPU @ 2.20GHz, instruction set [SSE2|AVX|AVX2]\n",
            "Thread count: 1 physical cores, 2 logical processors, using up to 2 threads\n",
            "\n",
            "Optimize a model with 438 rows, 179 columns and 808 nonzeros\n",
            "Model fingerprint: 0x03b73404\n",
            "Coefficient statistics:\n",
            "  Matrix range     [5e-01, 2e+00]\n",
            "  Objective range  [1e+00, 2e+00]\n",
            "  Bounds range     [0e+00, 0e+00]\n",
            "  RHS range        [6e-02, 5e+01]\n",
            "Presolve removed 377 rows and 117 columns\n",
            "Presolve time: 0.00s\n",
            "Presolved: 61 rows, 62 columns, 228 nonzeros\n",
            "\n",
            "Iteration    Objective       Primal Inf.    Dual Inf.      Time\n",
            "       0    5.7473859e+00   3.019247e+01   0.000000e+00      0s\n",
            "      46    1.3068000e+00   0.000000e+00   0.000000e+00      0s\n",
            "\n",
            "Solved in 46 iterations and 0.01 seconds (0.00 work units)\n",
            "Optimal objective  1.306800000e+00\n",
            "2.5\n",
            "0.45934041211806864\n",
            "-1.5406595878819334\n",
            "-0.1593404121180665\n",
            "-0.1593404121180665\n"
          ]
        },
        {
          "output_type": "stream",
          "name": "stderr",
          "text": [
            "WARNING:pyomo.core:Implicitly replacing the Component attribute objective (type=<class 'pyomo.core.base.objective.ScalarObjective'>) on block unknown with a new Component (type=<class 'pyomo.core.base.objective.AbstractScalarObjective'>).\n",
            "This is usually indicative of a modelling error.\n",
            "To avoid this warning, use block.del_component() and block.add_component().\n"
          ]
        },
        {
          "output_type": "stream",
          "name": "stdout",
          "text": [
            "Set parameter WLSAccessID\n",
            "Set parameter WLSSecret\n",
            "Set parameter LicenseID to value 2651433\n",
            "Academic license 2651433 - for non-commercial use only - registered to an___@student.uliege.be\n",
            "Read LP format model from file /tmp/tmph_vz_mnn.pyomo.lp\n",
            "Reading time = 0.00 seconds\n",
            "x1: 438 rows, 179 columns, 808 nonzeros\n",
            "Gurobi Optimizer version 12.0.3 build v12.0.3rc0 (linux64 - \"Ubuntu 22.04.4 LTS\")\n",
            "\n",
            "CPU model: Intel(R) Xeon(R) CPU @ 2.20GHz, instruction set [SSE2|AVX|AVX2]\n",
            "Thread count: 1 physical cores, 2 logical processors, using up to 2 threads\n",
            "\n",
            "Optimize a model with 438 rows, 179 columns and 808 nonzeros\n",
            "Model fingerprint: 0x52f587f7\n",
            "Coefficient statistics:\n",
            "  Matrix range     [5e-01, 2e+00]\n",
            "  Objective range  [1e+00, 2e+00]\n",
            "  Bounds range     [0e+00, 0e+00]\n",
            "  RHS range        [6e-02, 5e+01]\n",
            "Presolve removed 377 rows and 117 columns\n",
            "Presolve time: 0.00s\n",
            "Presolved: 61 rows, 62 columns, 228 nonzeros\n",
            "\n",
            "Iteration    Objective       Primal Inf.    Dual Inf.      Time\n",
            "       0    5.7473859e+00   3.019247e+01   0.000000e+00      0s\n",
            "      46    1.3068000e+00   0.000000e+00   0.000000e+00      0s\n",
            "\n",
            "Solved in 46 iterations and 0.00 seconds (0.00 work units)\n",
            "Optimal objective  1.306800000e+00\n"
          ]
        },
        {
          "output_type": "stream",
          "name": "stderr",
          "text": [
            "WARNING:pyomo.core:Implicitly replacing the Component attribute objective (type=<class 'pyomo.core.base.objective.ScalarObjective'>) on block unknown with a new Component (type=<class 'pyomo.core.base.objective.AbstractScalarObjective'>).\n",
            "This is usually indicative of a modelling error.\n",
            "To avoid this warning, use block.del_component() and block.add_component().\n"
          ]
        },
        {
          "output_type": "stream",
          "name": "stdout",
          "text": [
            "2.6\n",
            "0.45934041211806864\n",
            "-1.5406595878819334\n",
            "-0.1593404121180665\n",
            "-0.1593404121180665\n",
            "Set parameter WLSAccessID\n",
            "Set parameter WLSSecret\n",
            "Set parameter LicenseID to value 2651433\n",
            "Academic license 2651433 - for non-commercial use only - registered to an___@student.uliege.be\n",
            "Read LP format model from file /tmp/tmp7lac77ia.pyomo.lp\n",
            "Reading time = 0.00 seconds\n",
            "x1: 438 rows, 179 columns, 808 nonzeros\n",
            "Gurobi Optimizer version 12.0.3 build v12.0.3rc0 (linux64 - \"Ubuntu 22.04.4 LTS\")\n",
            "\n",
            "CPU model: Intel(R) Xeon(R) CPU @ 2.20GHz, instruction set [SSE2|AVX|AVX2]\n",
            "Thread count: 1 physical cores, 2 logical processors, using up to 2 threads\n",
            "\n",
            "Optimize a model with 438 rows, 179 columns and 808 nonzeros\n",
            "Model fingerprint: 0x8a2a9112\n",
            "Coefficient statistics:\n",
            "  Matrix range     [5e-01, 2e+00]\n",
            "  Objective range  [1e+00, 3e+00]\n",
            "  Bounds range     [0e+00, 0e+00]\n",
            "  RHS range        [6e-02, 5e+01]\n",
            "Presolve removed 377 rows and 117 columns\n",
            "Presolve time: 0.00s\n",
            "Presolved: 61 rows, 62 columns, 228 nonzeros\n",
            "\n",
            "Iteration    Objective       Primal Inf.    Dual Inf.      Time\n",
            "       0    5.7473859e+00   3.019247e+01   0.000000e+00      0s\n",
            "      46    1.3068000e+00   0.000000e+00   0.000000e+00      0s\n",
            "\n",
            "Solved in 46 iterations and 0.00 seconds (0.00 work units)\n",
            "Optimal objective  1.306800000e+00\n",
            "2.7\n",
            "0.45934041211806864\n",
            "-1.5406595878819334\n",
            "-0.1593404121180665\n",
            "-0.1593404121180665\n"
          ]
        },
        {
          "output_type": "stream",
          "name": "stderr",
          "text": [
            "WARNING:pyomo.core:Implicitly replacing the Component attribute objective (type=<class 'pyomo.core.base.objective.ScalarObjective'>) on block unknown with a new Component (type=<class 'pyomo.core.base.objective.AbstractScalarObjective'>).\n",
            "This is usually indicative of a modelling error.\n",
            "To avoid this warning, use block.del_component() and block.add_component().\n"
          ]
        },
        {
          "output_type": "stream",
          "name": "stdout",
          "text": [
            "Set parameter WLSAccessID\n",
            "Set parameter WLSSecret\n",
            "Set parameter LicenseID to value 2651433\n",
            "Academic license 2651433 - for non-commercial use only - registered to an___@student.uliege.be\n",
            "Read LP format model from file /tmp/tmp92dgd2ke.pyomo.lp\n",
            "Reading time = 0.00 seconds\n",
            "x1: 438 rows, 179 columns, 808 nonzeros\n",
            "Gurobi Optimizer version 12.0.3 build v12.0.3rc0 (linux64 - \"Ubuntu 22.04.4 LTS\")\n",
            "\n",
            "CPU model: Intel(R) Xeon(R) CPU @ 2.20GHz, instruction set [SSE2|AVX|AVX2]\n",
            "Thread count: 1 physical cores, 2 logical processors, using up to 2 threads\n",
            "\n",
            "Optimize a model with 438 rows, 179 columns and 808 nonzeros\n",
            "Model fingerprint: 0xd2487cf2\n",
            "Coefficient statistics:\n",
            "  Matrix range     [5e-01, 2e+00]\n",
            "  Objective range  [1e+00, 3e+00]\n",
            "  Bounds range     [0e+00, 0e+00]\n",
            "  RHS range        [6e-02, 5e+01]\n",
            "Presolve removed 377 rows and 117 columns\n",
            "Presolve time: 0.00s\n",
            "Presolved: 61 rows, 62 columns, 228 nonzeros\n",
            "\n",
            "Iteration    Objective       Primal Inf.    Dual Inf.      Time\n",
            "       0    5.7473859e+00   3.019247e+01   0.000000e+00      0s\n",
            "      46    1.3068000e+00   0.000000e+00   0.000000e+00      0s\n",
            "\n",
            "Solved in 46 iterations and 0.00 seconds (0.00 work units)\n",
            "Optimal objective  1.306800000e+00\n"
          ]
        },
        {
          "output_type": "stream",
          "name": "stderr",
          "text": [
            "WARNING:pyomo.core:Implicitly replacing the Component attribute objective (type=<class 'pyomo.core.base.objective.ScalarObjective'>) on block unknown with a new Component (type=<class 'pyomo.core.base.objective.AbstractScalarObjective'>).\n",
            "This is usually indicative of a modelling error.\n",
            "To avoid this warning, use block.del_component() and block.add_component().\n"
          ]
        },
        {
          "output_type": "stream",
          "name": "stdout",
          "text": [
            "2.8\n",
            "0.45934041211806864\n",
            "-1.5406595878819334\n",
            "-0.1593404121180665\n",
            "-0.1593404121180665\n",
            "Set parameter WLSAccessID\n",
            "Set parameter WLSSecret\n",
            "Set parameter LicenseID to value 2651433\n",
            "Academic license 2651433 - for non-commercial use only - registered to an___@student.uliege.be\n",
            "Read LP format model from file /tmp/tmp89oa3jyr.pyomo.lp\n",
            "Reading time = 0.00 seconds\n",
            "x1: 438 rows, 179 columns, 808 nonzeros\n",
            "Gurobi Optimizer version 12.0.3 build v12.0.3rc0 (linux64 - \"Ubuntu 22.04.4 LTS\")\n",
            "\n",
            "CPU model: Intel(R) Xeon(R) CPU @ 2.20GHz, instruction set [SSE2|AVX|AVX2]\n",
            "Thread count: 1 physical cores, 2 logical processors, using up to 2 threads\n",
            "\n",
            "Optimize a model with 438 rows, 179 columns and 808 nonzeros\n",
            "Model fingerprint: 0xb9b5fd9c\n",
            "Coefficient statistics:\n",
            "  Matrix range     [5e-01, 2e+00]\n",
            "  Objective range  [1e+00, 3e+00]\n",
            "  Bounds range     [0e+00, 0e+00]\n",
            "  RHS range        [6e-02, 5e+01]\n",
            "Presolve removed 377 rows and 117 columns\n",
            "Presolve time: 0.00s\n",
            "Presolved: 61 rows, 62 columns, 228 nonzeros\n",
            "\n",
            "Iteration    Objective       Primal Inf.    Dual Inf.      Time\n",
            "       0    5.7473859e+00   3.019247e+01   0.000000e+00      0s\n",
            "      46    1.3068000e+00   0.000000e+00   0.000000e+00      0s\n",
            "\n",
            "Solved in 46 iterations and 0.00 seconds (0.00 work units)\n",
            "Optimal objective  1.306800000e+00\n"
          ]
        },
        {
          "output_type": "stream",
          "name": "stderr",
          "text": [
            "WARNING:pyomo.core:Implicitly replacing the Component attribute objective (type=<class 'pyomo.core.base.objective.ScalarObjective'>) on block unknown with a new Component (type=<class 'pyomo.core.base.objective.AbstractScalarObjective'>).\n",
            "This is usually indicative of a modelling error.\n",
            "To avoid this warning, use block.del_component() and block.add_component().\n"
          ]
        },
        {
          "output_type": "stream",
          "name": "stdout",
          "text": [
            "2.9\n",
            "0.45934041211806864\n",
            "-1.5406595878819334\n",
            "-0.1593404121180665\n",
            "-0.1593404121180665\n",
            "Set parameter WLSAccessID\n",
            "Set parameter WLSSecret\n",
            "Set parameter LicenseID to value 2651433\n",
            "Academic license 2651433 - for non-commercial use only - registered to an___@student.uliege.be\n",
            "Read LP format model from file /tmp/tmp52px2kp4.pyomo.lp\n",
            "Reading time = 0.00 seconds\n",
            "x1: 438 rows, 179 columns, 808 nonzeros\n",
            "Gurobi Optimizer version 12.0.3 build v12.0.3rc0 (linux64 - \"Ubuntu 22.04.4 LTS\")\n",
            "\n",
            "CPU model: Intel(R) Xeon(R) CPU @ 2.20GHz, instruction set [SSE2|AVX|AVX2]\n",
            "Thread count: 1 physical cores, 2 logical processors, using up to 2 threads\n",
            "\n",
            "Optimize a model with 438 rows, 179 columns and 808 nonzeros\n",
            "Model fingerprint: 0x1ff603ba\n",
            "Coefficient statistics:\n",
            "  Matrix range     [5e-01, 2e+00]\n",
            "  Objective range  [1e+00, 3e+00]\n",
            "  Bounds range     [0e+00, 0e+00]\n",
            "  RHS range        [6e-02, 5e+01]\n",
            "Presolve removed 377 rows and 117 columns\n",
            "Presolve time: 0.00s\n",
            "Presolved: 61 rows, 62 columns, 228 nonzeros\n",
            "\n",
            "Iteration    Objective       Primal Inf.    Dual Inf.      Time\n",
            "       0    5.7473859e+00   3.019247e+01   0.000000e+00      0s\n",
            "      46    1.3068000e+00   0.000000e+00   0.000000e+00      0s\n",
            "\n",
            "Solved in 46 iterations and 0.01 seconds (0.00 work units)\n",
            "Optimal objective  1.306800000e+00\n"
          ]
        },
        {
          "output_type": "stream",
          "name": "stderr",
          "text": [
            "WARNING:pyomo.core:Implicitly replacing the Component attribute objective (type=<class 'pyomo.core.base.objective.ScalarObjective'>) on block unknown with a new Component (type=<class 'pyomo.core.base.objective.AbstractScalarObjective'>).\n",
            "This is usually indicative of a modelling error.\n",
            "To avoid this warning, use block.del_component() and block.add_component().\n"
          ]
        },
        {
          "output_type": "stream",
          "name": "stdout",
          "text": [
            "3\n",
            "0.45934041211806864\n",
            "-1.5406595878819334\n",
            "-0.1593404121180665\n",
            "-0.1593404121180665\n",
            "Set parameter WLSAccessID\n",
            "Set parameter WLSSecret\n",
            "Set parameter LicenseID to value 2651433\n",
            "Academic license 2651433 - for non-commercial use only - registered to an___@student.uliege.be\n",
            "Read LP format model from file /tmp/tmpv28eapd1.pyomo.lp\n",
            "Reading time = 0.00 seconds\n",
            "x1: 438 rows, 179 columns, 808 nonzeros\n",
            "Gurobi Optimizer version 12.0.3 build v12.0.3rc0 (linux64 - \"Ubuntu 22.04.4 LTS\")\n",
            "\n",
            "CPU model: Intel(R) Xeon(R) CPU @ 2.20GHz, instruction set [SSE2|AVX|AVX2]\n",
            "Thread count: 1 physical cores, 2 logical processors, using up to 2 threads\n",
            "\n",
            "Optimize a model with 438 rows, 179 columns and 808 nonzeros\n",
            "Model fingerprint: 0xe91b3c80\n",
            "Coefficient statistics:\n",
            "  Matrix range     [5e-01, 2e+00]\n",
            "  Objective range  [1e+00, 3e+00]\n",
            "  Bounds range     [0e+00, 0e+00]\n",
            "  RHS range        [6e-02, 5e+01]\n",
            "Presolve removed 377 rows and 117 columns\n",
            "Presolve time: 0.00s\n",
            "Presolved: 61 rows, 62 columns, 228 nonzeros\n",
            "\n",
            "Iteration    Objective       Primal Inf.    Dual Inf.      Time\n",
            "       0    5.7473859e+00   3.019247e+01   0.000000e+00      0s\n",
            "      46    1.3068000e+00   0.000000e+00   0.000000e+00      0s\n",
            "\n",
            "Solved in 46 iterations and 0.01 seconds (0.00 work units)\n",
            "Optimal objective  1.306800000e+00\n"
          ]
        },
        {
          "output_type": "stream",
          "name": "stderr",
          "text": [
            "WARNING:pyomo.core:Implicitly replacing the Component attribute objective (type=<class 'pyomo.core.base.objective.ScalarObjective'>) on block unknown with a new Component (type=<class 'pyomo.core.base.objective.AbstractScalarObjective'>).\n",
            "This is usually indicative of a modelling error.\n",
            "To avoid this warning, use block.del_component() and block.add_component().\n"
          ]
        },
        {
          "output_type": "stream",
          "name": "stdout",
          "text": [
            "3.1\n",
            "0.45934041211806864\n",
            "-1.5406595878819334\n",
            "-0.1593404121180665\n",
            "-0.1593404121180665\n",
            "Set parameter WLSAccessID\n",
            "Set parameter WLSSecret\n",
            "Set parameter LicenseID to value 2651433\n",
            "Academic license 2651433 - for non-commercial use only - registered to an___@student.uliege.be\n",
            "Read LP format model from file /tmp/tmpz3ziaoe5.pyomo.lp\n",
            "Reading time = 0.00 seconds\n",
            "x1: 438 rows, 179 columns, 808 nonzeros\n",
            "Gurobi Optimizer version 12.0.3 build v12.0.3rc0 (linux64 - \"Ubuntu 22.04.4 LTS\")\n",
            "\n",
            "CPU model: Intel(R) Xeon(R) CPU @ 2.20GHz, instruction set [SSE2|AVX|AVX2]\n",
            "Thread count: 1 physical cores, 2 logical processors, using up to 2 threads\n",
            "\n",
            "Optimize a model with 438 rows, 179 columns and 808 nonzeros\n",
            "Model fingerprint: 0xdbc473c1\n",
            "Coefficient statistics:\n",
            "  Matrix range     [5e-01, 2e+00]\n",
            "  Objective range  [1e+00, 3e+00]\n",
            "  Bounds range     [0e+00, 0e+00]\n",
            "  RHS range        [6e-02, 5e+01]\n",
            "Presolve removed 377 rows and 117 columns\n",
            "Presolve time: 0.00s\n",
            "Presolved: 61 rows, 62 columns, 228 nonzeros\n",
            "\n",
            "Iteration    Objective       Primal Inf.    Dual Inf.      Time\n",
            "       0    5.7473859e+00   3.019247e+01   0.000000e+00      0s\n",
            "      46    1.3068000e+00   0.000000e+00   0.000000e+00      0s\n",
            "\n",
            "Solved in 46 iterations and 0.00 seconds (0.00 work units)\n",
            "Optimal objective  1.306800000e+00\n",
            "3.2"
          ]
        },
        {
          "output_type": "stream",
          "name": "stderr",
          "text": [
            "WARNING:pyomo.core:Implicitly replacing the Component attribute objective (type=<class 'pyomo.core.base.objective.ScalarObjective'>) on block unknown with a new Component (type=<class 'pyomo.core.base.objective.AbstractScalarObjective'>).\n",
            "This is usually indicative of a modelling error.\n",
            "To avoid this warning, use block.del_component() and block.add_component().\n"
          ]
        },
        {
          "output_type": "stream",
          "name": "stdout",
          "text": [
            "\n",
            "0.45934041211806864\n",
            "-1.5406595878819334\n",
            "-0.1593404121180665\n",
            "-0.1593404121180665\n",
            "Set parameter WLSAccessID\n",
            "Set parameter WLSSecret\n",
            "Set parameter LicenseID to value 2651433\n",
            "Academic license 2651433 - for non-commercial use only - registered to an___@student.uliege.be\n",
            "Read LP format model from file /tmp/tmpr8gnf2lo.pyomo.lp\n",
            "Reading time = 0.00 seconds\n",
            "x1: 438 rows, 179 columns, 808 nonzeros\n",
            "Gurobi Optimizer version 12.0.3 build v12.0.3rc0 (linux64 - \"Ubuntu 22.04.4 LTS\")\n",
            "\n",
            "CPU model: Intel(R) Xeon(R) CPU @ 2.20GHz, instruction set [SSE2|AVX|AVX2]\n",
            "Thread count: 1 physical cores, 2 logical processors, using up to 2 threads\n",
            "\n",
            "Optimize a model with 438 rows, 179 columns and 808 nonzeros\n",
            "Model fingerprint: 0xca6155b0\n",
            "Coefficient statistics:\n",
            "  Matrix range     [5e-01, 2e+00]\n",
            "  Objective range  [1e+00, 3e+00]\n",
            "  Bounds range     [0e+00, 0e+00]\n",
            "  RHS range        [6e-02, 5e+01]\n",
            "Presolve removed 377 rows and 117 columns\n",
            "Presolve time: 0.00s\n",
            "Presolved: 61 rows, 62 columns, 228 nonzeros\n",
            "\n",
            "Iteration    Objective       Primal Inf.    Dual Inf.      Time\n",
            "       0    5.7473859e+00   3.019247e+01   0.000000e+00      0s\n",
            "      46    1.3068000e+00   0.000000e+00   0.000000e+00      0s\n",
            "\n",
            "Solved in 46 iterations and 0.01 seconds (0.00 work units)\n",
            "Optimal objective  1.306800000e+00\n"
          ]
        }
      ],
      "source": [
        "A = [0.5,1,1.1,1.2,1.3,1.4,1.5,1.6,1.7,1.8,1.9,1.95,2,2.05,2.1,2.2,2.3,2.4,2.5,2.6,2.7,2.8,2.9,3,3.1,3.2]\n",
        "#A = range(-3, 26)\n",
        "beta = 1\n",
        "enveloppe_taille = []\n",
        "curtail = []\n",
        "close = []\n",
        "\n",
        "for alpha in A:\n",
        "  val = 0\n",
        "  print(alpha)\n",
        "  print(m.P_C_set[1,0].value)\n",
        "  print(m.P_C_set[1,1].value)\n",
        "\n",
        "  print(m.P_C_set[2,0].value)\n",
        "  print(m.P_C_set[2,1].value)\n",
        "  def objective_rule(m):\n",
        "    return  m.tot - alpha*m.O - beta * m.tot_bis\n",
        "  m.objective = pyo.Objective(rule=objective_rule, sense=pyo.maximize)\n",
        "  params = {\n",
        "    \"WLSACCESSID\": 'efa10779-150a-495c-ab62-6a20ff44c598',\n",
        "    \"WLSSECRET\": 'fa980d94-a6fd-4d7b-aa68-b0e19ddd2e84',\n",
        "    \"LICENSEID\": 2651433,\n",
        "           }\n",
        "  env = gp.Env(params=params)\n",
        "  solver = pyo.SolverFactory('gurobi', env= env)\n",
        "  results = solver.solve(m, tee=True)\n",
        "\n",
        "  # Check the termination condition before accessing results\n",
        "  if results.solver.termination_condition == pyo.TerminationCondition.optimal:\n",
        "      val = sum(abs(m.P_C_set[n,0].value) + abs(m.P_C_set[n,1].value) for n in m.children)\n",
        "      # Append optimal results to lists\n",
        "      curtail.append(m.O.value)\n",
        "      enveloppe_taille.append(m.tot.value)\n",
        "      close.append(m.tot_bis.value)\n",
        "\n",
        "  else:\n",
        "      # Append None for non-optimal results to maintain list length\n",
        "      curtail.append(None)\n",
        "      enveloppe_taille.append(None)\n",
        "      close.append(None)"
      ]
    },
    {
      "cell_type": "code",
      "execution_count": 406,
      "metadata": {
        "colab": {
          "base_uri": "https://localhost:8080/"
        },
        "id": "1NVontHX56qn",
        "outputId": "9147e0cf-2a9b-4585-bfe8-96e4db776e14"
      },
      "outputs": [
        {
          "output_type": "stream",
          "name": "stdout",
          "text": [
            "[6.30492529000675, 6.332075999423943, 6.332075999423944, 6.332075999423944, 6.332075999423944, 6.332075999423944, 5.394662409934617, 5.108619633768042, 5.108619633768042, 4.917489616294697, 4.917489616294697, 4.917489616294697, 4.917489616294686, 2.0000000000000018, 2.0000000000000018, 2.0000000000000018, 2.0000000000000018, 2.0000000000000018, 2.0000000000000018, 2.0000000000000018, 2.0000000000000018, 2.0000000000000018, 2.0000000000000018, 2.0000000000000018, 2.0000000000000018, 2.0000000000000018]\n",
            "[2.845662645003374, 2.8083830363767497, 2.80838303637675, 2.80838303637675, 2.80838303637675, 2.80838303637675, 1.8709694468874245, 1.5849266707208456, 1.5849266707208456, 1.458744808147343, 1.458744808147343, 1.458744808147343, 1.458744808147343, 0.0, 0.0, 0.0, 0.0, 0.0, 0.0, 0.0, 0.0, 0.0, 0.0, 0.0, 0.0, 0.0]\n",
            "[0.0, 0.05085496333522255, 0.05085496333522199, 0.05085496333522199, 0.05085496333522199, 0.05085496333522199, 0.5195617580798856, 0.6625831461631734, 0.6625831461631734, 0.6931999999999948, 0.6931999999999948, 0.6931999999999948, 0.6932000000000001, 0.6931999999999989, 0.6931999999999989, 0.6931999999999989, 0.6931999999999989, 0.6931999999999989, 0.6931999999999989, 0.6931999999999989, 0.6931999999999989, 0.6931999999999989, 0.6931999999999989, 0.6931999999999989, 0.6931999999999989, 0.6931999999999989]\n"
          ]
        }
      ],
      "source": [
        "print(enveloppe_taille)\n",
        "print(curtail)\n",
        "print(close)"
      ]
    },
    {
      "cell_type": "code",
      "execution_count": 407,
      "metadata": {
        "colab": {
          "base_uri": "https://localhost:8080/",
          "height": 542
        },
        "id": "aoa6t8W0-51-",
        "outputId": "3c18cdef-b1b0-4c29-fee3-cb848cb1d10c"
      },
      "outputs": [
        {
          "output_type": "display_data",
          "data": {
            "text/plain": [
              "<Figure size 1000x600 with 1 Axes>"
            ],
            "image/png": "[encoded data removed]"
          },
          "metadata": {}
        }
      ],
      "source": [
        "# Convert A to a numpy array for easier plotting\n",
        "alpha_values = np.array(A)\n",
        "\n",
        "# Convert lists to numpy arrays, replacing None with NaN for plotting\n",
        "enveloppe_taille_np = np.array(enveloppe_taille, dtype=float)\n",
        "curtail_np = np.array(curtail, dtype=float)\n",
        "close_np = np.array(close, dtype=float)\n",
        "\n",
        "\n",
        "plt.figure(figsize=(10, 6))\n",
        "\n",
        "# Plot enveloppe_taille vs alpha\n",
        "plt.plot(alpha_values, enveloppe_taille_np, marker='o', linestyle='-', label='Envelope Volume')\n",
        "\n",
        "# Plot curtail vs alpha\n",
        "plt.plot(alpha_values, curtail_np, marker='x', linestyle='--', label='Curtailment')\n",
        "\n",
        "# Plot close vs alpha\n",
        "plt.plot(alpha_values, close_np, marker='s', linestyle='-.', label='Deviation of the center of the envelope from DSO estimation')\n",
        "\n",
        "\n",
        "# Set x-axis to a logarithmic scale\n",
        "#plt.xscale('log')\n",
        "\n",
        "plt.xlabel('$\\\\alpha$')\n",
        "plt.ylabel('Value (per-unit)')\n",
        "#plt.title(f'Evolution of the volume of the envelope, curtailment and closeness to DSO estimation as a function of parameter Alpha (beta={beta})')\n",
        "plt.legend()\n",
        "plt.grid(True)\n",
        "\n",
        "# Save the plot as a PDF file\n",
        "plt.savefig('DOE_alloc_alpha.pdf')\n",
        "\n",
        "plt.show()"
      ]
    },
    {
      "cell_type": "code",
      "execution_count": 408,
      "metadata": {
        "colab": {
          "base_uri": "https://localhost:8080/"
        },
        "id": "Zd4uqbCig5UO",
        "outputId": "4c883348-03d4-425f-b7b9-2c1202cc4b7c"
      },
      "outputs": [
        {
          "output_type": "stream",
          "name": "stdout",
          "text": [
            "m.E[0,0,0].value: 0.0\n",
            "m.E[0,0,1].value: 0.0\n",
            "m.E[0,1,0].value: 0.0\n",
            "m.E[0,1,1].value: 0.0\n",
            "m.E[1,0,0].value: 0.0\n",
            "m.E[1,0,1].value: 0.0\n",
            "m.E[1,1,0].value: 0.0\n",
            "m.E[1,1,1].value: 0.0\n",
            "m.E[2,0,0].value: 0.0\n",
            "m.E[2,0,1].value: 0.0\n",
            "m.E[2,1,0].value: 0.0\n",
            "m.E[2,1,1].value: 0.0\n",
            "m.E[11,0,0].value: 0.2\n",
            "m.E[11,0,1].value: 0.2\n",
            "m.E[11,1,0].value: 0.2\n",
            "m.E[11,1,1].value: 0.2\n",
            "m.E[12,0,0].value: 0.5\n",
            "m.E[12,0,1].value: 0.5\n",
            "m.E[12,1,0].value: 0.5\n",
            "m.E[12,1,1].value: 0.5\n"
          ]
        }
      ],
      "source": [
        "for n in m.Nodes:\n",
        "  for vert_pow in m.i:\n",
        "    for vert_volt in m.j:\n",
        "      print(f\"m.E[{n},{vert_pow},{vert_volt}].value: {m.E[n,vert_pow,vert_volt].value}\")"
      ]
    },
    {
      "cell_type": "code",
      "execution_count": 351,
      "metadata": {
        "colab": {
          "base_uri": "https://localhost:8080/"
        },
        "id": "DbsjeDWToU6q",
        "outputId": "4b55d467-3b6b-4a96-a4e3-6526a64d34d7"
      },
      "outputs": [
        {
          "output_type": "execute_result",
          "data": {
            "text/plain": [
              "0.0"
            ]
          },
          "metadata": {},
          "execution_count": 351
        }
      ],
      "source": [
        "m.O.value"
      ]
    },
    {
      "cell_type": "code",
      "execution_count": 352,
      "metadata": {
        "colab": {
          "base_uri": "https://localhost:8080/"
        },
        "id": "NENTSxfa9uvF",
        "outputId": "7024a35d-96ef-40b9-c414-21eeff414a4a"
      },
      "outputs": [
        {
          "output_type": "stream",
          "name": "stdout",
          "text": [
            "0.1900875438604242\n",
            "0.19008754386042448\n"
          ]
        }
      ],
      "source": [
        "print(m.F[0,11,0,0].value)\n",
        "print(m.F[0,11,0,1].value)"
      ]
    },
    {
      "cell_type": "code",
      "execution_count": 409,
      "metadata": {
        "colab": {
          "base_uri": "https://localhost:8080/"
        },
        "id": "IkgOu2o19_zB",
        "outputId": "cbe01b8e-933a-4c6e-d935-0486d85567fe"
      },
      "outputs": [
        {
          "output_type": "stream",
          "name": "stdout",
          "text": [
            "0.45934041211806864\n",
            "-1.5406595878819334\n",
            "-0.1593404121180665\n",
            "-0.1593404121180665\n"
          ]
        }
      ],
      "source": [
        "print(m.P_C_set[1,0].value)\n",
        "print(m.P_C_set[1,1].value)\n",
        "\n",
        "print(m.P_C_set[2,0].value)\n",
        "print(m.P_C_set[2,1].value)"
      ]
    },
    {
      "cell_type": "code",
      "execution_count": 410,
      "metadata": {
        "colab": {
          "base_uri": "https://localhost:8080/"
        },
        "id": "CYApfTOsxcQq",
        "outputId": "e8277487-1109-45ec-d49d-201b4201029c"
      },
      "outputs": [
        {
          "output_type": "stream",
          "name": "stdout",
          "text": [
            "-17.476705310014484\n",
            "-17.64969529017499\n",
            "-17.819558568056525\n",
            "-17.87920862820313\n"
          ]
        }
      ],
      "source": [
        "print(m.theta[0,0,0].value)\n",
        "print(m.theta[0,0,1].value)\n",
        "\n",
        "print(m.theta[11,0,0].value)\n",
        "print(m.theta[11,0,1].value)"
      ]
    },
    {
      "cell_type": "code",
      "execution_count": 411,
      "metadata": {
        "colab": {
          "base_uri": "https://localhost:8080/"
        },
        "id": "_4ZROnYa5l-w",
        "outputId": "ef307039-b66c-4338-d37d-69e0ba8012cd"
      },
      "outputs": [
        {
          "output_type": "execute_result",
          "data": {
            "text/plain": [
              "0.0"
            ]
          },
          "metadata": {},
          "execution_count": 411
        }
      ],
      "source": [
        "\n",
        "m.O.value\n"
      ]
    },
    {
      "cell_type": "code",
      "execution_count": 412,
      "metadata": {
        "colab": {
          "base_uri": "https://localhost:8080/"
        },
        "id": "YFauH9aNTeF6",
        "outputId": "547a35f5-afe8-4c84-91fc-0d0817c395c2"
      },
      "outputs": [
        {
          "output_type": "execute_result",
          "data": {
            "text/plain": [
              "2.0000000000000018"
            ]
          },
          "metadata": {},
          "execution_count": 412
        }
      ],
      "source": [
        "m.aux[1].value"
      ]
    },
    {
      "cell_type": "code",
      "execution_count": 413,
      "metadata": {
        "colab": {
          "base_uri": "https://localhost:8080/"
        },
        "id": "39TFnzDwmiqq",
        "outputId": "b9bb8bb6-7661-4bce-90dc-00dc2c27191c"
      },
      "outputs": [
        {
          "output_type": "execute_result",
          "data": {
            "text/plain": [
              "0.45934041211806864"
            ]
          },
          "metadata": {},
          "execution_count": 413
        }
      ],
      "source": [
        "m.P_C_set[1,0].value"
      ]
    },
    {
      "cell_type": "code",
      "execution_count": 414,
      "metadata": {
        "colab": {
          "base_uri": "https://localhost:8080/"
        },
        "id": "Y15pFmytmlJF",
        "outputId": "73a47e54-a714-4014-a007-aaa2af088438"
      },
      "outputs": [
        {
          "output_type": "execute_result",
          "data": {
            "text/plain": [
              "-1.5406595878819334"
            ]
          },
          "metadata": {},
          "execution_count": 414
        }
      ],
      "source": [
        "m.P_C_set[1,1].value"
      ]
    },
    {
      "cell_type": "code",
      "execution_count": 315,
      "metadata": {
        "colab": {
          "base_uri": "https://localhost:8080/"
        },
        "id": "l7xR_m6vdLaj",
        "outputId": "f2bf0378-7de9-455a-8a47-1902862c896f"
      },
      "outputs": [
        {
          "output_type": "execute_result",
          "data": {
            "text/plain": [
              "0.43468082423608734"
            ]
          },
          "metadata": {},
          "execution_count": 315
        }
      ],
      "source": [
        "m.aux[2].value"
      ]
    },
    {
      "cell_type": "code",
      "execution_count": 359,
      "metadata": {
        "colab": {
          "base_uri": "https://localhost:8080/"
        },
        "id": "yCYL-7dT264A",
        "outputId": "26037ee4-d8a6-49d8-c318-f1ede54fdedf"
      },
      "outputs": [
        {
          "output_type": "execute_result",
          "data": {
            "text/plain": [
              "0"
            ]
          },
          "metadata": {},
          "execution_count": 359
        }
      ],
      "source": [
        "m.P[0].value"
      ]
    },
    {
      "cell_type": "code",
      "execution_count": 360,
      "metadata": {
        "colab": {
          "base_uri": "https://localhost:8080/"
        },
        "id": "bafVltiQb3l1",
        "outputId": "fd3898b9-ff86-47c4-99a7-feca515babfe"
      },
      "outputs": [
        {
          "output_type": "execute_result",
          "data": {
            "text/plain": [
              "0.9999999999999886"
            ]
          },
          "metadata": {},
          "execution_count": 360
        }
      ],
      "source": [
        "m.P_plus[0,0,1].value"
      ]
    },
    {
      "cell_type": "code",
      "execution_count": 318,
      "metadata": {
        "colab": {
          "base_uri": "https://localhost:8080/"
        },
        "id": "h3AgcpVV-f4W",
        "outputId": "a9c2cc7a-a2b9-4a91-da2a-ca52b323d6a5"
      },
      "outputs": [
        {
          "output_type": "execute_result",
          "data": {
            "text/plain": [
              "0.024659587881951245"
            ]
          },
          "metadata": {},
          "execution_count": 318
        }
      ],
      "source": [
        "m.P_minus[1,0,1].value"
      ]
    },
    {
      "cell_type": "code",
      "execution_count": 319,
      "metadata": {
        "colab": {
          "base_uri": "https://localhost:8080/"
        },
        "id": "xl7FypV1Tlrl",
        "outputId": "375ce59e-98f5-44ca-96ed-7120ae414be3"
      },
      "outputs": [
        {
          "output_type": "execute_result",
          "data": {
            "text/plain": [
              "0.27534041211804366"
            ]
          },
          "metadata": {},
          "execution_count": 319
        }
      ],
      "source": [
        "m.P_C_set[2,0].value"
      ]
    },
    {
      "cell_type": "code",
      "execution_count": 320,
      "metadata": {
        "colab": {
          "base_uri": "https://localhost:8080/"
        },
        "id": "5lCcyvYUTtwX",
        "outputId": "a13d479d-1e5a-43b1-e2e6-22495bf58862"
      },
      "outputs": [
        {
          "output_type": "execute_result",
          "data": {
            "text/plain": [
              "-1.5406595878819291"
            ]
          },
          "metadata": {},
          "execution_count": 320
        }
      ],
      "source": [
        "m.P_C_set[1,1].value"
      ]
    },
    {
      "cell_type": "code",
      "execution_count": 321,
      "metadata": {
        "colab": {
          "base_uri": "https://localhost:8080/"
        },
        "id": "Cz27heJDAltP",
        "outputId": "18185aa1-1fac-43a9-f855-7117b07af694"
      },
      "outputs": [
        {
          "output_type": "stream",
          "name": "stdout",
          "text": [
            "(0, 1)\n",
            "(0, 2)\n",
            "(0, 11)\n",
            "(0, 12)\n",
            "(1, 2)\n",
            "(11, 1)\n",
            "(12, 2)\n"
          ]
        }
      ],
      "source": [
        "for (u,v) in m.Lines:\n",
        "  print((u,v))"
      ]
    },
    {
      "cell_type": "code",
      "execution_count": 361,
      "metadata": {
        "colab": {
          "base_uri": "https://localhost:8080/"
        },
        "id": "uWWCqNgMmZ9T",
        "outputId": "c04bd78f-7d4a-45fe-b1bc-36cc934b9b2b"
      },
      "outputs": [
        {
          "output_type": "stream",
          "name": "stdout",
          "text": [
            "Flow on line (0, 1) for i=0, j=0: 0.344122497754622\n",
            "Flow on line (0, 1) for i=0, j=1: 0.3441224977546149\n",
            "Flow on line (0, 1) for i=1, j=0: -0.8059232407617986\n",
            "Flow on line (0, 1) for i=1, j=1: -0.8059232407617962\n",
            "Flow on line (0, 2) for i=0, j=0: 0.17566058087047848\n",
            "Flow on line (0, 2) for i=0, j=1: 0.17566058087047054\n",
            "Flow on line (0, 2) for i=1, j=0: -0.24867104581043795\n",
            "Flow on line (0, 2) for i=1, j=1: -0.24867104581043975\n",
            "Flow on line (0, 11) for i=0, j=0: 0.1900875438604242\n",
            "Flow on line (0, 11) for i=0, j=1: 0.19008754386042448\n",
            "Flow on line (0, 11) for i=1, j=0: -0.1208198079545477\n",
            "Flow on line (0, 11) for i=1, j=1: -0.12081980795454705\n",
            "Flow on line (0, 12) for i=0, j=0: 0.29012937751447787\n",
            "Flow on line (0, 12) for i=0, j=1: 0.29012937751447865\n",
            "Flow on line (0, 12) for i=1, j=0: 0.17541409452678422\n",
            "Flow on line (0, 12) for i=1, j=1: 0.1754140945267828\n",
            "Flow on line (1, 2) for i=0, j=0: -0.12513037050302245\n",
            "Flow on line (1, 2) for i=0, j=1: -0.12513037050302295\n",
            "Flow on line (1, 2) for i=1, j=0: 0.41391653916558724\n",
            "Flow on line (1, 2) for i=1, j=1: 0.4139165391655856\n",
            "Flow on line (1, 11) for i=0, j=0: 0.00991245613957581\n",
            "Flow on line (1, 11) for i=0, j=1: 0.009912456139575528\n",
            "Flow on line (1, 11) for i=1, j=0: 0.32081980795454773\n",
            "Flow on line (1, 11) for i=1, j=1: 0.32081980795454706\n",
            "Flow on line (2, 12) for i=0, j=0: 0.20987062248552213\n",
            "Flow on line (2, 12) for i=0, j=1: 0.20987062248552135\n",
            "Flow on line (2, 12) for i=1, j=0: 0.32458590547321575\n",
            "Flow on line (2, 12) for i=1, j=1: 0.3245859054732172\n"
          ]
        }
      ],
      "source": [
        "# Corrected loop structure to iterate over m.Lines\n",
        "for (u, v) in m.Lines:\n",
        "  for vert_pow in m.i:\n",
        "    for vert_volt in m.j:\n",
        "      print(f\"Flow on line ({u}, {v}) for i={vert_pow}, j={vert_volt}: {m.F[u, v, vert_pow, vert_volt].value}\")"
      ]
    },
    {
      "cell_type": "code",
      "execution_count": 363,
      "metadata": {
        "colab": {
          "base_uri": "https://localhost:8080/",
          "height": 859
        },
        "id": "d9217975",
        "outputId": "889f9396-526e-4eb1-a781-d06bdac40b0b"
      },
      "outputs": [
        {
          "output_type": "display_data",
          "data": {
            "text/plain": [
              "<Figure size 1200x800 with 1 Axes>"
            ],
            "image/png": "[encoded data removed]"
          },
          "metadata": {}
        }
      ],
      "source": [
        "def plot_power_flow(m, i, j):\n",
        "    pos = nx.get_node_attributes(G, 'pos')\n",
        "    # Use node indices as labels\n",
        "    labels = {}\n",
        "    label_colors = [] # This is for node colors, will remove this later if needed or set to default\n",
        "    # Use the defined children and parents sets from the model\n",
        "    children_nodes_set = m.children\n",
        "    parents_nodes_set = m.parents\n",
        "\n",
        "    for n in G.nodes():\n",
        "        label_text = f\"{n}\"\n",
        "        if n in parents_nodes_set:\n",
        "            # Display parent bounds using the global P_min and P_max parameters\n",
        "            label_text += f\"\\n[{P_min}, {P_max}]\"\n",
        "            # No specific color for label text here, use default\n",
        "            label_colors.append('steelblue') # Default node color based on previous plots\n",
        "        elif n in children_nodes_set:\n",
        "            # Display children interval with smaller value first\n",
        "            # Access P_C_set values - assuming P_C_set is defined and indexed by children and i\n",
        "            p_c_values = [m.P_C_set[n, 0].value, m.P_C_set[n, 1].value] # Assuming m.P_C_set is indexed by children and i\n",
        "            label_text += f\"\\n[{round(min(p_c_values), 4)}, {round(max(p_c_values), 4)}]\"\n",
        "            # We will try to color this text red when drawing labels\n",
        "            label_colors.append('steelblue') # Default node color\n",
        "        else:\n",
        "            label_colors.append('steelblue') # Default node color\n",
        "        labels[n] = label_text\n",
        "\n",
        "\n",
        "    plt.figure(figsize=(12, 8))\n",
        "\n",
        "    edge_colors = []\n",
        "    edge_labels = {}\n",
        "    # Create a list of edges with direction based on flow\n",
        "    directed_edges = []\n",
        "\n",
        "\n",
        "    for u, v in G.edges():\n",
        "        try:\n",
        "            # Get the flow value from the model\n",
        "            flow_value = m.F[u, v, i, j].value\n",
        "            if flow_value is not None:\n",
        "                edge_labels[(u, v)] = f\"{round(abs(flow_value), 4)}\" # Display absolute value\n",
        "                if flow_value > 0:\n",
        "                    edge_colors.append('blue')  # Positive flow (u to v) - Blue arrow\n",
        "                    directed_edges.append((u, v)) # Arrow from u to v\n",
        "                elif flow_value < 0:\n",
        "                    edge_colors.append('blue')  # Negative flow (v to u) - Still blue, but direction will be reversed\n",
        "                    directed_edges.append((v, u)) # Arrow from v to u (reverse direction)\n",
        "                else:\n",
        "                    edge_colors.append('gray') # No flow\n",
        "                    directed_edges.append((u, v)) # Still add edge for drawing, no specific direction\n",
        "            else:\n",
        "                edge_colors.append('gray') # No flow value\n",
        "                directed_edges.append((u, v)) # Still add edge for drawing, no specific direction\n",
        "        except Exception as e: # Catching the exception\n",
        "            print(f\"Error processing edge ({u}, {v}): {e}\")\n",
        "            edge_colors.append('gray') # Handle cases where edge might not be in m.F\n",
        "            directed_edges.append((u, v)) # Still add edge for drawing, no specific direction\n",
        "\n",
        "\n",
        "    # Create a directed graph for drawing purposes with correct edge directions\n",
        "    draw_graph = nx.DiGraph()\n",
        "    draw_graph.add_nodes_from(G.nodes(data=True))\n",
        "    draw_graph.add_edges_from(directed_edges)\n",
        "\n",
        "    # Draw the network\n",
        "    nx.draw(\n",
        "        draw_graph, pos,\n",
        "        with_labels=False, # Draw labels separately for color control\n",
        "        node_size=1200,\n",
        "        edge_color=edge_colors, # Use the calculated edge colors (now always blue or gray for non-zero flow)\n",
        "        edgecolors=\"black\", font_size=8,\n",
        "        alpha=0.85,\n",
        "        node_color = label_colors # Apply node colors\n",
        "    )\n",
        "\n",
        "    # Draw labels with different colors\n",
        "    for n in G.nodes():\n",
        "        x, y = pos[n]\n",
        "        text = labels[n]\n",
        "        if n in children_nodes_set:\n",
        "            plt.text(x, y - 0.1, text, fontsize=10, ha='center', va='top', color='red') # Color children interval red\n",
        "        elif n in parents_nodes_set:\n",
        "             plt.text(x, y + 0.1, text, fontsize=10, ha='center', va='bottom', color='black') # Color parent bounds black\n",
        "        else:\n",
        "             plt.text(x, y, text, fontsize=8, ha='center', va='center', color='black') # Default color for other labels\n",
        "\n",
        "\n",
        "    nx.draw_networkx_edge_labels(draw_graph, pos, edge_labels=edge_labels, font_size=7, label_pos=0.3) # Use draw_graph for edge labels\n",
        "\n",
        "    plt.title(f\"Power Flow (per-unit) for i={i}, j={j}, alpha = 3\")\n",
        "    plt.axis(\"equal\")\n",
        "    plt.show()\n",
        "\n",
        "# Example usage (assuming m, i=0, and j=0 are defined)\n",
        "plot_power_flow(m, 0, 1)"
      ]
    },
    {
      "cell_type": "code",
      "execution_count": 324,
      "metadata": {
        "colab": {
          "base_uri": "https://localhost:8080/",
          "height": 859
        },
        "id": "TUaG88qQmWYJ",
        "outputId": "9cd43c27-6524-45fe-dd00-3fff35d72b41"
      },
      "outputs": [
        {
          "output_type": "display_data",
          "data": {
            "text/plain": [
              "<Figure size 1200x800 with 1 Axes>"
            ],
            "image/png": "[encoded data removed]"
          },
          "metadata": {}
        }
      ],
      "source": [
        "def plot_current_flow(m, i, j):\n",
        "    pos = nx.get_node_attributes(G, 'pos')\n",
        "    # Use node indices as labels\n",
        "    labels = {n: n for n in G.nodes()}\n",
        "\n",
        "    plt.figure(figsize=(12, 8))\n",
        "\n",
        "    edge_colors = []\n",
        "    edge_labels = {}\n",
        "\n",
        "    for u, v in G.edges():\n",
        "        try:\n",
        "            # Get the current value from the model\n",
        "            current_value = m.I[u, v, i, j].value\n",
        "            if current_value is not None:\n",
        "                edge_labels[(u, v)] = f\"{round(current_value, 4)}\"\n",
        "                if current_value > 0:\n",
        "                    edge_colors.append('blue')  # Positive current flow\n",
        "                elif current_value < 0:\n",
        "                    edge_colors.append('red')  # Negative current flow\n",
        "                else:\n",
        "                    edge_colors.append('gray') # No current flow\n",
        "            else:\n",
        "                edge_colors.append('gray') # No current value\n",
        "        except:\n",
        "            edge_colors.append('gray') # Handle cases where edge might not be in m.I\n",
        "\n",
        "    nx.draw(\n",
        "        G, pos,\n",
        "        with_labels=True, labels=labels, # Set with_labels to True and pass node indices as labels\n",
        "        node_size=1200,\n",
        "        edge_color=edge_colors, # Use the calculated edge colors\n",
        "        edgecolors=\"black\", font_size=8,\n",
        "        alpha=0.85\n",
        "    )\n",
        "\n",
        "    nx.draw_networkx_edge_labels(G, pos, edge_labels=edge_labels, font_size=7, label_pos=0.3)\n",
        "\n",
        "    plt.title(f\"Current Flow (per-unit) for i={i}, j={j}\")\n",
        "    plt.axis(\"equal\")\n",
        "    plt.show()\n",
        "\n",
        "# Example usage (assuming m, i=0, and j=0 are defined)\n",
        "plot_current_flow(m, 0, 0)"
      ]
    },
    {
      "cell_type": "code",
      "execution_count": 415,
      "metadata": {
        "colab": {
          "base_uri": "https://localhost:8080/"
        },
        "id": "BR1XSwOjH7A6",
        "outputId": "a4283af9-7390-4916-e723-1253cb11ec5c"
      },
      "outputs": [
        {
          "output_type": "stream",
          "name": "stderr",
          "text": [
            "WARNING:pyomo.core:Implicitly replacing the Component attribute objective (type=<class 'pyomo.core.base.objective.ScalarObjective'>) on block unknown with a new Component (type=<class 'pyomo.core.base.objective.AbstractScalarObjective'>).\n",
            "This is usually indicative of a modelling error.\n",
            "To avoid this warning, use block.del_component() and block.add_component().\n"
          ]
        },
        {
          "output_type": "stream",
          "name": "stdout",
          "text": [
            "1.5\n",
            "Set parameter WLSAccessID\n",
            "Set parameter WLSSecret\n",
            "Set parameter LicenseID to value 2651433\n",
            "Academic license 2651433 - for non-commercial use only - registered to an___@student.uliege.be\n",
            "Read LP format model from file /tmp/tmpff9ohzb8.pyomo.lp\n",
            "Reading time = 0.00 seconds\n",
            "x1: 438 rows, 179 columns, 808 nonzeros\n",
            "Gurobi Optimizer version 12.0.3 build v12.0.3rc0 (linux64 - \"Ubuntu 22.04.4 LTS\")\n",
            "\n",
            "CPU model: Intel(R) Xeon(R) CPU @ 2.20GHz, instruction set [SSE2|AVX|AVX2]\n",
            "Thread count: 1 physical cores, 2 logical processors, using up to 2 threads\n",
            "\n",
            "Optimize a model with 438 rows, 179 columns and 808 nonzeros\n",
            "Model fingerprint: 0xecc73478\n",
            "Coefficient statistics:\n",
            "  Matrix range     [5e-01, 2e+00]\n",
            "  Objective range  [5e-01, 2e+00]\n",
            "  Bounds range     [0e+00, 0e+00]\n",
            "  RHS range        [6e-02, 5e+01]\n",
            "Presolve removed 377 rows and 117 columns\n",
            "Presolve time: 0.00s\n",
            "Presolved: 61 rows, 62 columns, 228 nonzeros\n",
            "\n",
            "Iteration    Objective       Primal Inf.    Dual Inf.      Time\n",
            "       0    5.7473859e+00   3.019247e+01   0.000000e+00      0s\n",
            "      44    2.3999381e+00   0.000000e+00   0.000000e+00      0s\n",
            "\n",
            "Solved in 44 iterations and 0.00 seconds (0.00 work units)\n",
            "Optimal objective  2.399938055e+00\n"
          ]
        },
        {
          "output_type": "stream",
          "name": "stderr",
          "text": [
            "WARNING:pyomo.core:Implicitly replacing the Component attribute objective (type=<class 'pyomo.core.base.objective.ScalarObjective'>) on block unknown with a new Component (type=<class 'pyomo.core.base.objective.AbstractScalarObjective'>).\n",
            "This is usually indicative of a modelling error.\n",
            "To avoid this warning, use block.del_component() and block.add_component().\n"
          ]
        },
        {
          "output_type": "stream",
          "name": "stdout",
          "text": [
            "1.5\n",
            "Set parameter WLSAccessID\n",
            "Set parameter WLSSecret\n",
            "Set parameter LicenseID to value 2651433\n",
            "Academic license 2651433 - for non-commercial use only - registered to an___@student.uliege.be\n",
            "Read LP format model from file /tmp/tmpebw24u4m.pyomo.lp\n",
            "Reading time = 0.00 seconds\n",
            "x1: 438 rows, 179 columns, 808 nonzeros\n",
            "Gurobi Optimizer version 12.0.3 build v12.0.3rc0 (linux64 - \"Ubuntu 22.04.4 LTS\")\n",
            "\n",
            "CPU model: Intel(R) Xeon(R) CPU @ 2.20GHz, instruction set [SSE2|AVX|AVX2]\n",
            "Thread count: 1 physical cores, 2 logical processors, using up to 2 threads\n",
            "\n",
            "Optimize a model with 438 rows, 179 columns and 808 nonzeros\n",
            "Model fingerprint: 0xcecfdf3e\n",
            "Coefficient statistics:\n",
            "  Matrix range     [5e-01, 2e+00]\n",
            "  Objective range  [6e-01, 2e+00]\n",
            "  Bounds range     [0e+00, 0e+00]\n",
            "  RHS range        [6e-02, 5e+01]\n",
            "Presolve removed 377 rows and 117 columns\n",
            "Presolve time: 0.00s\n",
            "Presolved: 61 rows, 62 columns, 228 nonzeros\n",
            "\n",
            "Iteration    Objective       Primal Inf.    Dual Inf.      Time\n",
            "       0    5.7473859e+00   3.019247e+01   0.000000e+00      0s\n",
            "      44    2.3336797e+00   0.000000e+00   0.000000e+00      0s\n",
            "\n",
            "Solved in 44 iterations and 0.01 seconds (0.00 work units)\n",
            "Optimal objective  2.333679740e+00\n"
          ]
        },
        {
          "output_type": "stream",
          "name": "stderr",
          "text": [
            "WARNING:pyomo.core:Implicitly replacing the Component attribute objective (type=<class 'pyomo.core.base.objective.ScalarObjective'>) on block unknown with a new Component (type=<class 'pyomo.core.base.objective.AbstractScalarObjective'>).\n",
            "This is usually indicative of a modelling error.\n",
            "To avoid this warning, use block.del_component() and block.add_component().\n"
          ]
        },
        {
          "output_type": "stream",
          "name": "stdout",
          "text": [
            "1.5\n",
            "Set parameter WLSAccessID\n",
            "Set parameter WLSSecret\n",
            "Set parameter LicenseID to value 2651433\n",
            "Academic license 2651433 - for non-commercial use only - registered to an___@student.uliege.be\n",
            "Read LP format model from file /tmp/tmpiouf3dbn.pyomo.lp\n",
            "Reading time = 0.00 seconds\n",
            "x1: 438 rows, 179 columns, 808 nonzeros\n",
            "Gurobi Optimizer version 12.0.3 build v12.0.3rc0 (linux64 - \"Ubuntu 22.04.4 LTS\")\n",
            "\n",
            "CPU model: Intel(R) Xeon(R) CPU @ 2.20GHz, instruction set [SSE2|AVX|AVX2]\n",
            "Thread count: 1 physical cores, 2 logical processors, using up to 2 threads\n",
            "\n",
            "Optimize a model with 438 rows, 179 columns and 808 nonzeros\n",
            "Model fingerprint: 0x369aa5e9\n",
            "Coefficient statistics:\n",
            "  Matrix range     [5e-01, 2e+00]\n",
            "  Objective range  [7e-01, 2e+00]\n",
            "  Bounds range     [0e+00, 0e+00]\n",
            "  RHS range        [6e-02, 5e+01]\n",
            "Presolve removed 377 rows and 117 columns\n",
            "Presolve time: 0.00s\n",
            "Presolved: 61 rows, 62 columns, 228 nonzeros\n",
            "\n",
            "Iteration    Objective       Primal Inf.    Dual Inf.      Time\n",
            "       0    5.7473859e+00   3.019247e+01   0.000000e+00      0s\n",
            "      44    2.2674214e+00   0.000000e+00   0.000000e+00      0s\n",
            "\n",
            "Solved in 44 iterations and 0.01 seconds (0.00 work units)\n",
            "Optimal objective  2.267421425e+00\n"
          ]
        },
        {
          "output_type": "stream",
          "name": "stderr",
          "text": [
            "WARNING:pyomo.core:Implicitly replacing the Component attribute objective (type=<class 'pyomo.core.base.objective.ScalarObjective'>) on block unknown with a new Component (type=<class 'pyomo.core.base.objective.AbstractScalarObjective'>).\n",
            "This is usually indicative of a modelling error.\n",
            "To avoid this warning, use block.del_component() and block.add_component().\n"
          ]
        },
        {
          "output_type": "stream",
          "name": "stdout",
          "text": [
            "1.5\n",
            "Set parameter WLSAccessID\n",
            "Set parameter WLSSecret\n",
            "Set parameter LicenseID to value 2651433\n",
            "Academic license 2651433 - for non-commercial use only - registered to an___@student.uliege.be\n",
            "Read LP format model from file /tmp/tmprdcti04o.pyomo.lp\n",
            "Reading time = 0.00 seconds\n",
            "x1: 438 rows, 179 columns, 808 nonzeros\n",
            "Gurobi Optimizer version 12.0.3 build v12.0.3rc0 (linux64 - \"Ubuntu 22.04.4 LTS\")\n",
            "\n",
            "CPU model: Intel(R) Xeon(R) CPU @ 2.20GHz, instruction set [SSE2|AVX|AVX2]\n",
            "Thread count: 1 physical cores, 2 logical processors, using up to 2 threads\n",
            "\n",
            "Optimize a model with 438 rows, 179 columns and 808 nonzeros\n",
            "Model fingerprint: 0x29d06e4b\n",
            "Coefficient statistics:\n",
            "  Matrix range     [5e-01, 2e+00]\n",
            "  Objective range  [8e-01, 2e+00]\n",
            "  Bounds range     [0e+00, 0e+00]\n",
            "  RHS range        [6e-02, 5e+01]\n",
            "Presolve removed 377 rows and 117 columns\n",
            "Presolve time: 0.00s\n",
            "Presolved: 61 rows, 62 columns, 228 nonzeros\n",
            "\n",
            "Iteration    Objective       Primal Inf.    Dual Inf.      Time\n",
            "       0    5.7473859e+00   3.019247e+01   0.000000e+00      0s\n",
            "      44    2.2011631e+00   0.000000e+00   0.000000e+00      0s\n",
            "\n",
            "Solved in 44 iterations and 0.00 seconds (0.00 work units)\n",
            "Optimal objective  2.201163111e+00\n"
          ]
        },
        {
          "output_type": "stream",
          "name": "stderr",
          "text": [
            "WARNING:pyomo.core:Implicitly replacing the Component attribute objective (type=<class 'pyomo.core.base.objective.ScalarObjective'>) on block unknown with a new Component (type=<class 'pyomo.core.base.objective.AbstractScalarObjective'>).\n",
            "This is usually indicative of a modelling error.\n",
            "To avoid this warning, use block.del_component() and block.add_component().\n"
          ]
        },
        {
          "output_type": "stream",
          "name": "stdout",
          "text": [
            "1.5\n",
            "Set parameter WLSAccessID\n",
            "Set parameter WLSSecret\n",
            "Set parameter LicenseID to value 2651433\n",
            "Academic license 2651433 - for non-commercial use only - registered to an___@student.uliege.be\n",
            "Read LP format model from file /tmp/tmpj1fmx1mp.pyomo.lp\n",
            "Reading time = 0.00 seconds\n",
            "x1: 438 rows, 179 columns, 808 nonzeros\n",
            "Gurobi Optimizer version 12.0.3 build v12.0.3rc0 (linux64 - \"Ubuntu 22.04.4 LTS\")\n",
            "\n",
            "CPU model: Intel(R) Xeon(R) CPU @ 2.20GHz, instruction set [SSE2|AVX|AVX2]\n",
            "Thread count: 1 physical cores, 2 logical processors, using up to 2 threads\n",
            "\n",
            "Optimize a model with 438 rows, 179 columns and 808 nonzeros\n",
            "Model fingerprint: 0xf12234bc\n",
            "Coefficient statistics:\n",
            "  Matrix range     [5e-01, 2e+00]\n",
            "  Objective range  [9e-01, 2e+00]\n",
            "  Bounds range     [0e+00, 0e+00]\n",
            "  RHS range        [6e-02, 5e+01]\n",
            "Presolve removed 377 rows and 117 columns\n",
            "Presolve time: 0.00s\n",
            "Presolved: 61 rows, 62 columns, 228 nonzeros\n",
            "\n",
            "Iteration    Objective       Primal Inf.    Dual Inf.      Time\n",
            "       0    5.7473859e+00   3.019247e+01   0.000000e+00      0s\n",
            "      44    2.1349048e+00   0.000000e+00   0.000000e+00      0s\n",
            "\n",
            "Solved in 44 iterations and 0.01 seconds (0.00 work units)\n",
            "Optimal objective  2.134904796e+00\n"
          ]
        },
        {
          "output_type": "stream",
          "name": "stderr",
          "text": [
            "WARNING:pyomo.core:Implicitly replacing the Component attribute objective (type=<class 'pyomo.core.base.objective.ScalarObjective'>) on block unknown with a new Component (type=<class 'pyomo.core.base.objective.AbstractScalarObjective'>).\n",
            "This is usually indicative of a modelling error.\n",
            "To avoid this warning, use block.del_component() and block.add_component().\n"
          ]
        },
        {
          "output_type": "stream",
          "name": "stdout",
          "text": [
            "1.5\n",
            "Set parameter WLSAccessID\n",
            "Set parameter WLSSecret\n",
            "Set parameter LicenseID to value 2651433\n",
            "Academic license 2651433 - for non-commercial use only - registered to an___@student.uliege.be\n",
            "Read LP format model from file /tmp/tmpeaozujjw.pyomo.lp\n",
            "Reading time = 0.00 seconds\n",
            "x1: 438 rows, 179 columns, 808 nonzeros\n",
            "Gurobi Optimizer version 12.0.3 build v12.0.3rc0 (linux64 - \"Ubuntu 22.04.4 LTS\")\n",
            "\n",
            "CPU model: Intel(R) Xeon(R) CPU @ 2.20GHz, instruction set [SSE2|AVX|AVX2]\n",
            "Thread count: 1 physical cores, 2 logical processors, using up to 2 threads\n",
            "\n",
            "Optimize a model with 438 rows, 179 columns and 808 nonzeros\n",
            "Model fingerprint: 0xf1159dee\n",
            "Coefficient statistics:\n",
            "  Matrix range     [5e-01, 2e+00]\n",
            "  Objective range  [1e+00, 2e+00]\n",
            "  Bounds range     [0e+00, 0e+00]\n",
            "  RHS range        [6e-02, 5e+01]\n",
            "Presolve removed 377 rows and 117 columns\n",
            "Presolve time: 0.00s\n",
            "Presolved: 61 rows, 62 columns, 228 nonzeros\n",
            "\n",
            "Iteration    Objective       Primal Inf.    Dual Inf.      Time\n",
            "       0    5.7473859e+00   3.019247e+01   0.000000e+00      0s\n",
            "      51    2.0686465e+00   0.000000e+00   0.000000e+00      0s\n",
            "\n",
            "Solved in 51 iterations and 0.01 seconds (0.00 work units)\n",
            "Optimal objective  2.068646482e+00\n"
          ]
        },
        {
          "output_type": "stream",
          "name": "stderr",
          "text": [
            "WARNING:pyomo.core:Implicitly replacing the Component attribute objective (type=<class 'pyomo.core.base.objective.ScalarObjective'>) on block unknown with a new Component (type=<class 'pyomo.core.base.objective.AbstractScalarObjective'>).\n",
            "This is usually indicative of a modelling error.\n",
            "To avoid this warning, use block.del_component() and block.add_component().\n"
          ]
        },
        {
          "output_type": "stream",
          "name": "stdout",
          "text": [
            "1.5\n",
            "Set parameter WLSAccessID\n",
            "Set parameter WLSSecret\n",
            "Set parameter LicenseID to value 2651433\n",
            "Academic license 2651433 - for non-commercial use only - registered to an___@student.uliege.be\n",
            "Read LP format model from file /tmp/tmp28kfek69.pyomo.lp\n",
            "Reading time = 0.00 seconds\n",
            "x1: 438 rows, 179 columns, 808 nonzeros\n",
            "Gurobi Optimizer version 12.0.3 build v12.0.3rc0 (linux64 - \"Ubuntu 22.04.4 LTS\")\n",
            "\n",
            "CPU model: Intel(R) Xeon(R) CPU @ 2.20GHz, instruction set [SSE2|AVX|AVX2]\n",
            "Thread count: 1 physical cores, 2 logical processors, using up to 2 threads\n",
            "\n",
            "Optimize a model with 438 rows, 179 columns and 808 nonzeros\n",
            "Model fingerprint: 0x6dfe4d24\n",
            "Coefficient statistics:\n",
            "  Matrix range     [5e-01, 2e+00]\n",
            "  Objective range  [1e+00, 2e+00]\n",
            "  Bounds range     [0e+00, 0e+00]\n",
            "  RHS range        [6e-02, 5e+01]\n",
            "Presolve removed 377 rows and 117 columns\n",
            "Presolve time: 0.00s\n",
            "Presolved: 61 rows, 62 columns, 228 nonzeros\n",
            "\n",
            "Iteration    Objective       Primal Inf.    Dual Inf.      Time\n",
            "       0    5.7473859e+00   3.019247e+01   0.000000e+00      0s\n",
            "      44    2.0635610e+00   0.000000e+00   0.000000e+00      0s\n",
            "\n",
            "Solved in 44 iterations and 0.01 seconds (0.00 work units)\n",
            "Optimal objective  2.063560985e+00\n"
          ]
        },
        {
          "output_type": "stream",
          "name": "stderr",
          "text": [
            "WARNING:pyomo.core:Implicitly replacing the Component attribute objective (type=<class 'pyomo.core.base.objective.ScalarObjective'>) on block unknown with a new Component (type=<class 'pyomo.core.base.objective.AbstractScalarObjective'>).\n",
            "This is usually indicative of a modelling error.\n",
            "To avoid this warning, use block.del_component() and block.add_component().\n"
          ]
        },
        {
          "output_type": "stream",
          "name": "stdout",
          "text": [
            "1.5\n",
            "Set parameter WLSAccessID\n",
            "Set parameter WLSSecret\n",
            "Set parameter LicenseID to value 2651433\n",
            "Academic license 2651433 - for non-commercial use only - registered to an___@student.uliege.be\n",
            "Read LP format model from file /tmp/tmph7ohk4o6.pyomo.lp\n",
            "Reading time = 0.00 seconds\n",
            "x1: 438 rows, 179 columns, 808 nonzeros\n",
            "Gurobi Optimizer version 12.0.3 build v12.0.3rc0 (linux64 - \"Ubuntu 22.04.4 LTS\")\n",
            "\n",
            "CPU model: Intel(R) Xeon(R) CPU @ 2.20GHz, instruction set [SSE2|AVX|AVX2]\n",
            "Thread count: 1 physical cores, 2 logical processors, using up to 2 threads\n",
            "\n",
            "Optimize a model with 438 rows, 179 columns and 808 nonzeros\n",
            "Model fingerprint: 0xb6e7e7ca\n",
            "Coefficient statistics:\n",
            "  Matrix range     [5e-01, 2e+00]\n",
            "  Objective range  [1e+00, 2e+00]\n",
            "  Bounds range     [0e+00, 0e+00]\n",
            "  RHS range        [6e-02, 5e+01]\n",
            "Presolve removed 377 rows and 117 columns\n",
            "Presolve time: 0.00s\n",
            "Presolved: 61 rows, 62 columns, 228 nonzeros\n",
            "\n",
            "Iteration    Objective       Primal Inf.    Dual Inf.      Time\n",
            "       0    5.7473859e+00   3.019247e+01   0.000000e+00      0s\n",
            "      44    2.0584755e+00   0.000000e+00   0.000000e+00      0s\n",
            "\n",
            "Solved in 44 iterations and 0.01 seconds (0.00 work units)\n",
            "Optimal objective  2.058475489e+00\n"
          ]
        },
        {
          "output_type": "stream",
          "name": "stderr",
          "text": [
            "WARNING:pyomo.core:Implicitly replacing the Component attribute objective (type=<class 'pyomo.core.base.objective.ScalarObjective'>) on block unknown with a new Component (type=<class 'pyomo.core.base.objective.AbstractScalarObjective'>).\n",
            "This is usually indicative of a modelling error.\n",
            "To avoid this warning, use block.del_component() and block.add_component().\n"
          ]
        },
        {
          "output_type": "stream",
          "name": "stdout",
          "text": [
            "1.5\n",
            "Set parameter WLSAccessID\n",
            "Set parameter WLSSecret\n",
            "Set parameter LicenseID to value 2651433\n",
            "Academic license 2651433 - for non-commercial use only - registered to an___@student.uliege.be\n",
            "Read LP format model from file /tmp/tmpvt6c13ta.pyomo.lp\n",
            "Reading time = 0.00 seconds\n",
            "x1: 438 rows, 179 columns, 808 nonzeros\n",
            "Gurobi Optimizer version 12.0.3 build v12.0.3rc0 (linux64 - \"Ubuntu 22.04.4 LTS\")\n",
            "\n",
            "CPU model: Intel(R) Xeon(R) CPU @ 2.20GHz, instruction set [SSE2|AVX|AVX2]\n",
            "Thread count: 1 physical cores, 2 logical processors, using up to 2 threads\n",
            "\n",
            "Optimize a model with 438 rows, 179 columns and 808 nonzeros\n",
            "Model fingerprint: 0x973ee4d9\n",
            "Coefficient statistics:\n",
            "  Matrix range     [5e-01, 2e+00]\n",
            "  Objective range  [1e+00, 2e+00]\n",
            "  Bounds range     [0e+00, 0e+00]\n",
            "  RHS range        [6e-02, 5e+01]\n",
            "Presolve removed 377 rows and 117 columns\n",
            "Presolve time: 0.00s\n",
            "Presolved: 61 rows, 62 columns, 228 nonzeros\n",
            "\n",
            "Iteration    Objective       Primal Inf.    Dual Inf.      Time\n",
            "       0    5.7473859e+00   3.019247e+01   0.000000e+00      0s\n",
            "      44    2.0533900e+00   0.000000e+00   0.000000e+00      0s\n",
            "\n",
            "Solved in 44 iterations and 0.00 seconds (0.00 work units)\n",
            "Optimal objective  2.053389993e+00\n"
          ]
        },
        {
          "output_type": "stream",
          "name": "stderr",
          "text": [
            "WARNING:pyomo.core:Implicitly replacing the Component attribute objective (type=<class 'pyomo.core.base.objective.ScalarObjective'>) on block unknown with a new Component (type=<class 'pyomo.core.base.objective.AbstractScalarObjective'>).\n",
            "This is usually indicative of a modelling error.\n",
            "To avoid this warning, use block.del_component() and block.add_component().\n"
          ]
        },
        {
          "output_type": "stream",
          "name": "stdout",
          "text": [
            "1.5\n",
            "Set parameter WLSAccessID\n",
            "Set parameter WLSSecret\n",
            "Set parameter LicenseID to value 2651433\n",
            "Academic license 2651433 - for non-commercial use only - registered to an___@student.uliege.be\n",
            "Read LP format model from file /tmp/tmpfsnppn3n.pyomo.lp\n",
            "Reading time = 0.00 seconds\n",
            "x1: 438 rows, 179 columns, 808 nonzeros\n",
            "Gurobi Optimizer version 12.0.3 build v12.0.3rc0 (linux64 - \"Ubuntu 22.04.4 LTS\")\n",
            "\n",
            "CPU model: Intel(R) Xeon(R) CPU @ 2.20GHz, instruction set [SSE2|AVX|AVX2]\n",
            "Thread count: 1 physical cores, 2 logical processors, using up to 2 threads\n",
            "\n",
            "Optimize a model with 438 rows, 179 columns and 808 nonzeros\n",
            "Model fingerprint: 0xe3ff5c57\n",
            "Coefficient statistics:\n",
            "  Matrix range     [5e-01, 2e+00]\n",
            "  Objective range  [1e+00, 2e+00]\n",
            "  Bounds range     [0e+00, 0e+00]\n",
            "  RHS range        [6e-02, 5e+01]\n",
            "Presolve removed 377 rows and 117 columns\n",
            "Presolve time: 0.00s\n",
            "Presolved: 61 rows, 62 columns, 228 nonzeros\n",
            "\n",
            "Iteration    Objective       Primal Inf.    Dual Inf.      Time\n",
            "       0    5.7473859e+00   3.019247e+01   0.000000e+00      0s\n",
            "      44    2.0483045e+00   0.000000e+00   0.000000e+00      0s\n",
            "\n",
            "Solved in 44 iterations and 0.00 seconds (0.00 work units)\n",
            "Optimal objective  2.048304496e+00\n",
            "1.5"
          ]
        },
        {
          "output_type": "stream",
          "name": "stderr",
          "text": [
            "WARNING:pyomo.core:Implicitly replacing the Component attribute objective (type=<class 'pyomo.core.base.objective.ScalarObjective'>) on block unknown with a new Component (type=<class 'pyomo.core.base.objective.AbstractScalarObjective'>).\n",
            "This is usually indicative of a modelling error.\n",
            "To avoid this warning, use block.del_component() and block.add_component().\n"
          ]
        },
        {
          "output_type": "stream",
          "name": "stdout",
          "text": [
            "\n",
            "Set parameter WLSAccessID\n",
            "Set parameter WLSSecret\n",
            "Set parameter LicenseID to value 2651433\n",
            "Academic license 2651433 - for non-commercial use only - registered to an___@student.uliege.be\n",
            "Read LP format model from file /tmp/tmp2fzts831.pyomo.lp\n",
            "Reading time = 0.00 seconds\n",
            "x1: 438 rows, 179 columns, 808 nonzeros\n",
            "Gurobi Optimizer version 12.0.3 build v12.0.3rc0 (linux64 - \"Ubuntu 22.04.4 LTS\")\n",
            "\n",
            "CPU model: Intel(R) Xeon(R) CPU @ 2.20GHz, instruction set [SSE2|AVX|AVX2]\n",
            "Thread count: 1 physical cores, 2 logical processors, using up to 2 threads\n",
            "\n",
            "Optimize a model with 438 rows, 179 columns and 808 nonzeros\n",
            "Model fingerprint: 0x5ff1ed38\n",
            "Coefficient statistics:\n",
            "  Matrix range     [5e-01, 2e+00]\n",
            "  Objective range  [1e+00, 2e+00]\n",
            "  Bounds range     [0e+00, 0e+00]\n",
            "  RHS range        [6e-02, 5e+01]\n",
            "Presolve removed 377 rows and 117 columns\n",
            "Presolve time: 0.00s\n",
            "Presolved: 61 rows, 62 columns, 228 nonzeros\n",
            "\n",
            "Iteration    Objective       Primal Inf.    Dual Inf.      Time\n",
            "       0    5.7473859e+00   3.019247e+01   0.000000e+00      0s\n",
            "      44    2.0432190e+00   0.000000e+00   0.000000e+00      0s\n",
            "\n",
            "Solved in 44 iterations and 0.01 seconds (0.00 work units)\n",
            "Optimal objective  2.043219000e+00\n",
            "1.5"
          ]
        },
        {
          "output_type": "stream",
          "name": "stderr",
          "text": [
            "WARNING:pyomo.core:Implicitly replacing the Component attribute objective (type=<class 'pyomo.core.base.objective.ScalarObjective'>) on block unknown with a new Component (type=<class 'pyomo.core.base.objective.AbstractScalarObjective'>).\n",
            "This is usually indicative of a modelling error.\n",
            "To avoid this warning, use block.del_component() and block.add_component().\n"
          ]
        },
        {
          "output_type": "stream",
          "name": "stdout",
          "text": [
            "\n",
            "Set parameter WLSAccessID\n",
            "Set parameter WLSSecret\n",
            "Set parameter LicenseID to value 2651433\n",
            "Academic license 2651433 - for non-commercial use only - registered to an___@student.uliege.be\n",
            "Read LP format model from file /tmp/tmpldiyb306.pyomo.lp\n",
            "Reading time = 0.00 seconds\n",
            "x1: 438 rows, 179 columns, 808 nonzeros\n",
            "Gurobi Optimizer version 12.0.3 build v12.0.3rc0 (linux64 - \"Ubuntu 22.04.4 LTS\")\n",
            "\n",
            "CPU model: Intel(R) Xeon(R) CPU @ 2.20GHz, instruction set [SSE2|AVX|AVX2]\n",
            "Thread count: 1 physical cores, 2 logical processors, using up to 2 threads\n",
            "\n",
            "Optimize a model with 438 rows, 179 columns and 808 nonzeros\n",
            "Model fingerprint: 0x706cb5e8\n",
            "Coefficient statistics:\n",
            "  Matrix range     [5e-01, 2e+00]\n",
            "  Objective range  [1e+00, 2e+00]\n",
            "  Bounds range     [0e+00, 0e+00]\n",
            "  RHS range        [6e-02, 5e+01]\n",
            "Presolve removed 377 rows and 117 columns\n",
            "Presolve time: 0.00s\n",
            "Presolved: 61 rows, 62 columns, 228 nonzeros\n",
            "\n",
            "Iteration    Objective       Primal Inf.    Dual Inf.      Time\n",
            "       0    5.7473859e+00   3.019247e+01   0.000000e+00      0s\n",
            "      44    2.0381335e+00   0.000000e+00   0.000000e+00      0s\n",
            "\n",
            "Solved in 44 iterations and 0.00 seconds (0.00 work units)\n",
            "Optimal objective  2.038133504e+00\n"
          ]
        },
        {
          "output_type": "stream",
          "name": "stderr",
          "text": [
            "WARNING:pyomo.core:Implicitly replacing the Component attribute objective (type=<class 'pyomo.core.base.objective.ScalarObjective'>) on block unknown with a new Component (type=<class 'pyomo.core.base.objective.AbstractScalarObjective'>).\n",
            "This is usually indicative of a modelling error.\n",
            "To avoid this warning, use block.del_component() and block.add_component().\n"
          ]
        },
        {
          "output_type": "stream",
          "name": "stdout",
          "text": [
            "1.5\n",
            "Set parameter WLSAccessID\n",
            "Set parameter WLSSecret\n",
            "Set parameter LicenseID to value 2651433\n",
            "Academic license 2651433 - for non-commercial use only - registered to an___@student.uliege.be\n",
            "Read LP format model from file /tmp/tmphhwpwfoi.pyomo.lp\n",
            "Reading time = 0.00 seconds\n",
            "x1: 438 rows, 179 columns, 808 nonzeros\n",
            "Gurobi Optimizer version 12.0.3 build v12.0.3rc0 (linux64 - \"Ubuntu 22.04.4 LTS\")\n",
            "\n",
            "CPU model: Intel(R) Xeon(R) CPU @ 2.20GHz, instruction set [SSE2|AVX|AVX2]\n",
            "Thread count: 1 physical cores, 2 logical processors, using up to 2 threads\n",
            "\n",
            "Optimize a model with 438 rows, 179 columns and 808 nonzeros\n",
            "Model fingerprint: 0x794882c7\n",
            "Coefficient statistics:\n",
            "  Matrix range     [5e-01, 2e+00]\n",
            "  Objective range  [1e+00, 2e+00]\n",
            "  Bounds range     [0e+00, 0e+00]\n",
            "  RHS range        [6e-02, 5e+01]\n",
            "Presolve removed 377 rows and 117 columns\n",
            "Presolve time: 0.00s\n",
            "Presolved: 61 rows, 62 columns, 228 nonzeros\n",
            "\n",
            "Iteration    Objective       Primal Inf.    Dual Inf.      Time\n",
            "       0    5.7473859e+00   3.019247e+01   0.000000e+00      0s\n",
            "      46    2.0364313e+00   0.000000e+00   0.000000e+00      0s\n",
            "\n",
            "Solved in 46 iterations and 0.00 seconds (0.00 work units)\n",
            "Optimal objective  2.036431323e+00\n"
          ]
        },
        {
          "output_type": "stream",
          "name": "stderr",
          "text": [
            "WARNING:pyomo.core:Implicitly replacing the Component attribute objective (type=<class 'pyomo.core.base.objective.ScalarObjective'>) on block unknown with a new Component (type=<class 'pyomo.core.base.objective.AbstractScalarObjective'>).\n",
            "This is usually indicative of a modelling error.\n",
            "To avoid this warning, use block.del_component() and block.add_component().\n"
          ]
        },
        {
          "output_type": "stream",
          "name": "stdout",
          "text": [
            "1.5\n",
            "Set parameter WLSAccessID\n",
            "Set parameter WLSSecret\n",
            "Set parameter LicenseID to value 2651433\n",
            "Academic license 2651433 - for non-commercial use only - registered to an___@student.uliege.be\n",
            "Read LP format model from file /tmp/tmp9iduedq6.pyomo.lp\n",
            "Reading time = 0.00 seconds\n",
            "x1: 438 rows, 179 columns, 808 nonzeros\n",
            "Gurobi Optimizer version 12.0.3 build v12.0.3rc0 (linux64 - \"Ubuntu 22.04.4 LTS\")\n",
            "\n",
            "CPU model: Intel(R) Xeon(R) CPU @ 2.20GHz, instruction set [SSE2|AVX|AVX2]\n",
            "Thread count: 1 physical cores, 2 logical processors, using up to 2 threads\n",
            "\n",
            "Optimize a model with 438 rows, 179 columns and 808 nonzeros\n",
            "Model fingerprint: 0xe86678f3\n",
            "Coefficient statistics:\n",
            "  Matrix range     [5e-01, 2e+00]\n",
            "  Objective range  [1e+00, 2e+00]\n",
            "  Bounds range     [0e+00, 0e+00]\n",
            "  RHS range        [6e-02, 5e+01]\n",
            "Presolve removed 377 rows and 117 columns\n",
            "Presolve time: 0.00s\n",
            "Presolved: 61 rows, 62 columns, 228 nonzeros\n",
            "\n",
            "Iteration    Objective       Primal Inf.    Dual Inf.      Time\n",
            "       0    5.7473859e+00   3.019247e+01   0.000000e+00      0s\n",
            "      46    2.0364313e+00   0.000000e+00   0.000000e+00      0s\n",
            "\n",
            "Solved in 46 iterations and 0.00 seconds (0.00 work units)\n",
            "Optimal objective  2.036431323e+00\n",
            "1.5"
          ]
        },
        {
          "output_type": "stream",
          "name": "stderr",
          "text": [
            "WARNING:pyomo.core:Implicitly replacing the Component attribute objective (type=<class 'pyomo.core.base.objective.ScalarObjective'>) on block unknown with a new Component (type=<class 'pyomo.core.base.objective.AbstractScalarObjective'>).\n",
            "This is usually indicative of a modelling error.\n",
            "To avoid this warning, use block.del_component() and block.add_component().\n"
          ]
        },
        {
          "output_type": "stream",
          "name": "stdout",
          "text": [
            "\n",
            "Set parameter WLSAccessID\n",
            "Set parameter WLSSecret\n",
            "Set parameter LicenseID to value 2651433\n",
            "Academic license 2651433 - for non-commercial use only - registered to an___@student.uliege.be\n",
            "Read LP format model from file /tmp/tmpzbb1cz4f.pyomo.lp\n",
            "Reading time = 0.00 seconds\n",
            "x1: 438 rows, 179 columns, 808 nonzeros\n",
            "Gurobi Optimizer version 12.0.3 build v12.0.3rc0 (linux64 - \"Ubuntu 22.04.4 LTS\")\n",
            "\n",
            "CPU model: Intel(R) Xeon(R) CPU @ 2.20GHz, instruction set [SSE2|AVX|AVX2]\n",
            "Thread count: 1 physical cores, 2 logical processors, using up to 2 threads\n",
            "\n",
            "Optimize a model with 438 rows, 179 columns and 808 nonzeros\n",
            "Model fingerprint: 0xc87780b4\n",
            "Coefficient statistics:\n",
            "  Matrix range     [5e-01, 2e+00]\n",
            "  Objective range  [1e+00, 2e+00]\n",
            "  Bounds range     [0e+00, 0e+00]\n",
            "  RHS range        [6e-02, 5e+01]\n",
            "Presolve removed 377 rows and 117 columns\n",
            "Presolve time: 0.00s\n",
            "Presolved: 61 rows, 62 columns, 228 nonzeros\n",
            "\n",
            "Iteration    Objective       Primal Inf.    Dual Inf.      Time\n",
            "       0    5.7473859e+00   3.019247e+01   0.000000e+00      0s\n",
            "      46    2.0364313e+00   0.000000e+00   0.000000e+00      0s\n",
            "\n",
            "Solved in 46 iterations and 0.00 seconds (0.00 work units)\n",
            "Optimal objective  2.036431323e+00\n"
          ]
        },
        {
          "output_type": "stream",
          "name": "stderr",
          "text": [
            "WARNING:pyomo.core:Implicitly replacing the Component attribute objective (type=<class 'pyomo.core.base.objective.ScalarObjective'>) on block unknown with a new Component (type=<class 'pyomo.core.base.objective.AbstractScalarObjective'>).\n",
            "This is usually indicative of a modelling error.\n",
            "To avoid this warning, use block.del_component() and block.add_component().\n"
          ]
        },
        {
          "output_type": "stream",
          "name": "stdout",
          "text": [
            "1.5\n",
            "Set parameter WLSAccessID\n",
            "Set parameter WLSSecret\n",
            "Set parameter LicenseID to value 2651433\n",
            "Academic license 2651433 - for non-commercial use only - registered to an___@student.uliege.be\n",
            "Read LP format model from file /tmp/tmpa6euqe34.pyomo.lp\n",
            "Reading time = 0.00 seconds\n",
            "x1: 438 rows, 179 columns, 808 nonzeros\n",
            "Gurobi Optimizer version 12.0.3 build v12.0.3rc0 (linux64 - \"Ubuntu 22.04.4 LTS\")\n",
            "\n",
            "CPU model: Intel(R) Xeon(R) CPU @ 2.20GHz, instruction set [SSE2|AVX|AVX2]\n",
            "Thread count: 1 physical cores, 2 logical processors, using up to 2 threads\n",
            "\n",
            "Optimize a model with 438 rows, 179 columns and 808 nonzeros\n",
            "Model fingerprint: 0x8b9b3f03\n",
            "Coefficient statistics:\n",
            "  Matrix range     [5e-01, 2e+00]\n",
            "  Objective range  [1e+00, 2e+00]\n",
            "  Bounds range     [0e+00, 0e+00]\n",
            "  RHS range        [6e-02, 5e+01]\n",
            "Presolve removed 377 rows and 117 columns\n",
            "Presolve time: 0.00s\n",
            "Presolved: 61 rows, 62 columns, 228 nonzeros\n",
            "\n",
            "Iteration    Objective       Primal Inf.    Dual Inf.      Time\n",
            "       0    5.7473859e+00   3.019247e+01   0.000000e+00      0s\n",
            "      46    2.0364313e+00   0.000000e+00   0.000000e+00      0s\n",
            "\n",
            "Solved in 46 iterations and 0.00 seconds (0.00 work units)\n",
            "Optimal objective  2.036431323e+00\n"
          ]
        },
        {
          "output_type": "stream",
          "name": "stderr",
          "text": [
            "WARNING:pyomo.core:Implicitly replacing the Component attribute objective (type=<class 'pyomo.core.base.objective.ScalarObjective'>) on block unknown with a new Component (type=<class 'pyomo.core.base.objective.AbstractScalarObjective'>).\n",
            "This is usually indicative of a modelling error.\n",
            "To avoid this warning, use block.del_component() and block.add_component().\n"
          ]
        },
        {
          "output_type": "stream",
          "name": "stdout",
          "text": [
            "1.5\n",
            "Set parameter WLSAccessID\n",
            "Set parameter WLSSecret\n",
            "Set parameter LicenseID to value 2651433\n",
            "Academic license 2651433 - for non-commercial use only - registered to an___@student.uliege.be\n",
            "Read LP format model from file /tmp/tmptkujb_l8.pyomo.lp\n",
            "Reading time = 0.00 seconds\n",
            "x1: 438 rows, 179 columns, 808 nonzeros\n",
            "Gurobi Optimizer version 12.0.3 build v12.0.3rc0 (linux64 - \"Ubuntu 22.04.4 LTS\")\n",
            "\n",
            "CPU model: Intel(R) Xeon(R) CPU @ 2.20GHz, instruction set [SSE2|AVX|AVX2]\n",
            "Thread count: 1 physical cores, 2 logical processors, using up to 2 threads\n",
            "\n",
            "Optimize a model with 438 rows, 179 columns and 808 nonzeros\n",
            "Model fingerprint: 0xb65964fa\n",
            "Coefficient statistics:\n",
            "  Matrix range     [5e-01, 2e+00]\n",
            "  Objective range  [1e+00, 2e+00]\n",
            "  Bounds range     [0e+00, 0e+00]\n",
            "  RHS range        [6e-02, 5e+01]\n",
            "Presolve removed 377 rows and 117 columns\n",
            "Presolve time: 0.00s\n",
            "Presolved: 61 rows, 62 columns, 228 nonzeros\n",
            "\n",
            "Iteration    Objective       Primal Inf.    Dual Inf.      Time\n",
            "       0    5.7473859e+00   3.019247e+01   0.000000e+00      0s\n",
            "      46    2.0364313e+00   0.000000e+00   0.000000e+00      0s\n",
            "\n",
            "Solved in 46 iterations and 0.00 seconds (0.00 work units)\n",
            "Optimal objective  2.036431323e+00\n"
          ]
        },
        {
          "output_type": "stream",
          "name": "stderr",
          "text": [
            "WARNING:pyomo.core:Implicitly replacing the Component attribute objective (type=<class 'pyomo.core.base.objective.ScalarObjective'>) on block unknown with a new Component (type=<class 'pyomo.core.base.objective.AbstractScalarObjective'>).\n",
            "This is usually indicative of a modelling error.\n",
            "To avoid this warning, use block.del_component() and block.add_component().\n"
          ]
        },
        {
          "output_type": "stream",
          "name": "stdout",
          "text": [
            "1.5\n",
            "Set parameter WLSAccessID\n",
            "Set parameter WLSSecret\n",
            "Set parameter LicenseID to value 2651433\n",
            "Academic license 2651433 - for non-commercial use only - registered to an___@student.uliege.be\n",
            "Read LP format model from file /tmp/tmp59op_ebf.pyomo.lp\n",
            "Reading time = 0.00 seconds\n",
            "x1: 438 rows, 179 columns, 808 nonzeros\n",
            "Gurobi Optimizer version 12.0.3 build v12.0.3rc0 (linux64 - \"Ubuntu 22.04.4 LTS\")\n",
            "\n",
            "CPU model: Intel(R) Xeon(R) CPU @ 2.20GHz, instruction set [SSE2|AVX|AVX2]\n",
            "Thread count: 1 physical cores, 2 logical processors, using up to 2 threads\n",
            "\n",
            "Optimize a model with 438 rows, 179 columns and 808 nonzeros\n",
            "Model fingerprint: 0x302528b5\n",
            "Coefficient statistics:\n",
            "  Matrix range     [5e-01, 2e+00]\n",
            "  Objective range  [1e+00, 2e+00]\n",
            "  Bounds range     [0e+00, 0e+00]\n",
            "  RHS range        [6e-02, 5e+01]\n",
            "Presolve removed 377 rows and 117 columns\n",
            "Presolve time: 0.00s\n",
            "Presolved: 61 rows, 62 columns, 228 nonzeros\n",
            "\n",
            "Iteration    Objective       Primal Inf.    Dual Inf.      Time\n",
            "       0    5.7473859e+00   3.019247e+01   0.000000e+00      0s\n",
            "      46    2.0364313e+00   0.000000e+00   0.000000e+00      0s\n",
            "\n",
            "Solved in 46 iterations and 0.00 seconds (0.00 work units)\n",
            "Optimal objective  2.036431323e+00\n"
          ]
        },
        {
          "output_type": "stream",
          "name": "stderr",
          "text": [
            "WARNING:pyomo.core:Implicitly replacing the Component attribute objective (type=<class 'pyomo.core.base.objective.ScalarObjective'>) on block unknown with a new Component (type=<class 'pyomo.core.base.objective.AbstractScalarObjective'>).\n",
            "This is usually indicative of a modelling error.\n",
            "To avoid this warning, use block.del_component() and block.add_component().\n"
          ]
        },
        {
          "output_type": "stream",
          "name": "stdout",
          "text": [
            "1.5\n",
            "Set parameter WLSAccessID\n",
            "Set parameter WLSSecret\n",
            "Set parameter LicenseID to value 2651433\n",
            "Academic license 2651433 - for non-commercial use only - registered to an___@student.uliege.be\n",
            "Read LP format model from file /tmp/tmpjfqn84o6.pyomo.lp\n",
            "Reading time = 0.00 seconds\n",
            "x1: 438 rows, 179 columns, 808 nonzeros\n",
            "Gurobi Optimizer version 12.0.3 build v12.0.3rc0 (linux64 - \"Ubuntu 22.04.4 LTS\")\n",
            "\n",
            "CPU model: Intel(R) Xeon(R) CPU @ 2.20GHz, instruction set [SSE2|AVX|AVX2]\n",
            "Thread count: 1 physical cores, 2 logical processors, using up to 2 threads\n",
            "\n",
            "Optimize a model with 438 rows, 179 columns and 808 nonzeros\n",
            "Model fingerprint: 0x47de1934\n",
            "Coefficient statistics:\n",
            "  Matrix range     [5e-01, 2e+00]\n",
            "  Objective range  [1e+00, 2e+00]\n",
            "  Bounds range     [0e+00, 0e+00]\n",
            "  RHS range        [6e-02, 5e+01]\n",
            "Presolve removed 377 rows and 117 columns\n",
            "Presolve time: 0.00s\n",
            "Presolved: 61 rows, 62 columns, 228 nonzeros\n",
            "\n",
            "Iteration    Objective       Primal Inf.    Dual Inf.      Time\n",
            "       0    5.7473859e+00   3.019247e+01   0.000000e+00      0s\n",
            "      46    2.0364313e+00   0.000000e+00   0.000000e+00      0s\n",
            "\n",
            "Solved in 46 iterations and 0.00 seconds (0.00 work units)\n",
            "Optimal objective  2.036431323e+00\n"
          ]
        },
        {
          "output_type": "stream",
          "name": "stderr",
          "text": [
            "WARNING:pyomo.core:Implicitly replacing the Component attribute objective (type=<class 'pyomo.core.base.objective.ScalarObjective'>) on block unknown with a new Component (type=<class 'pyomo.core.base.objective.AbstractScalarObjective'>).\n",
            "This is usually indicative of a modelling error.\n",
            "To avoid this warning, use block.del_component() and block.add_component().\n"
          ]
        },
        {
          "output_type": "stream",
          "name": "stdout",
          "text": [
            "1.5\n",
            "Set parameter WLSAccessID\n",
            "Set parameter WLSSecret\n",
            "Set parameter LicenseID to value 2651433\n",
            "Academic license 2651433 - for non-commercial use only - registered to an___@student.uliege.be\n",
            "Read LP format model from file /tmp/tmp3momtp0p.pyomo.lp\n",
            "Reading time = 0.00 seconds\n",
            "x1: 438 rows, 179 columns, 808 nonzeros\n",
            "Gurobi Optimizer version 12.0.3 build v12.0.3rc0 (linux64 - \"Ubuntu 22.04.4 LTS\")\n",
            "\n",
            "CPU model: Intel(R) Xeon(R) CPU @ 2.20GHz, instruction set [SSE2|AVX|AVX2]\n",
            "Thread count: 1 physical cores, 2 logical processors, using up to 2 threads\n",
            "\n",
            "Optimize a model with 438 rows, 179 columns and 808 nonzeros\n",
            "Model fingerprint: 0xf666440f\n",
            "Coefficient statistics:\n",
            "  Matrix range     [5e-01, 2e+00]\n",
            "  Objective range  [1e+00, 2e+00]\n",
            "  Bounds range     [0e+00, 0e+00]\n",
            "  RHS range        [6e-02, 5e+01]\n",
            "Presolve removed 377 rows and 117 columns\n",
            "Presolve time: 0.00s\n",
            "Presolved: 61 rows, 62 columns, 228 nonzeros\n",
            "\n",
            "Iteration    Objective       Primal Inf.    Dual Inf.      Time\n",
            "       0    5.7473859e+00   3.019247e+01   0.000000e+00      0s\n",
            "      46    2.0364313e+00   0.000000e+00   0.000000e+00      0s\n",
            "\n",
            "Solved in 46 iterations and 0.00 seconds (0.00 work units)\n",
            "Optimal objective  2.036431323e+00\n"
          ]
        },
        {
          "output_type": "stream",
          "name": "stderr",
          "text": [
            "WARNING:pyomo.core:Implicitly replacing the Component attribute objective (type=<class 'pyomo.core.base.objective.ScalarObjective'>) on block unknown with a new Component (type=<class 'pyomo.core.base.objective.AbstractScalarObjective'>).\n",
            "This is usually indicative of a modelling error.\n",
            "To avoid this warning, use block.del_component() and block.add_component().\n"
          ]
        },
        {
          "output_type": "stream",
          "name": "stdout",
          "text": [
            "1.5\n",
            "Set parameter WLSAccessID\n",
            "Set parameter WLSSecret\n",
            "Set parameter LicenseID to value 2651433\n",
            "Academic license 2651433 - for non-commercial use only - registered to an___@student.uliege.be\n",
            "Read LP format model from file /tmp/tmp75_b3jh0.pyomo.lp\n",
            "Reading time = 0.00 seconds\n",
            "x1: 438 rows, 179 columns, 808 nonzeros\n",
            "Gurobi Optimizer version 12.0.3 build v12.0.3rc0 (linux64 - \"Ubuntu 22.04.4 LTS\")\n",
            "\n",
            "CPU model: Intel(R) Xeon(R) CPU @ 2.20GHz, instruction set [SSE2|AVX|AVX2]\n",
            "Thread count: 1 physical cores, 2 logical processors, using up to 2 threads\n",
            "\n",
            "Optimize a model with 438 rows, 179 columns and 808 nonzeros\n",
            "Model fingerprint: 0xd7ae1e57\n",
            "Coefficient statistics:\n",
            "  Matrix range     [5e-01, 2e+00]\n",
            "  Objective range  [1e+00, 2e+00]\n",
            "  Bounds range     [0e+00, 0e+00]\n",
            "  RHS range        [6e-02, 5e+01]\n",
            "Presolve removed 377 rows and 117 columns\n",
            "Presolve time: 0.00s\n",
            "Presolved: 61 rows, 62 columns, 228 nonzeros\n",
            "\n",
            "Iteration    Objective       Primal Inf.    Dual Inf.      Time\n",
            "       0    5.7473859e+00   3.019247e+01   0.000000e+00      0s\n",
            "      46    2.0364313e+00   0.000000e+00   0.000000e+00      0s\n",
            "\n",
            "Solved in 46 iterations and 0.00 seconds (0.00 work units)\n",
            "Optimal objective  2.036431323e+00\n"
          ]
        },
        {
          "output_type": "stream",
          "name": "stderr",
          "text": [
            "WARNING:pyomo.core:Implicitly replacing the Component attribute objective (type=<class 'pyomo.core.base.objective.ScalarObjective'>) on block unknown with a new Component (type=<class 'pyomo.core.base.objective.AbstractScalarObjective'>).\n",
            "This is usually indicative of a modelling error.\n",
            "To avoid this warning, use block.del_component() and block.add_component().\n"
          ]
        },
        {
          "output_type": "stream",
          "name": "stdout",
          "text": [
            "1.5\n",
            "Set parameter WLSAccessID\n",
            "Set parameter WLSSecret\n",
            "Set parameter LicenseID to value 2651433\n",
            "Academic license 2651433 - for non-commercial use only - registered to an___@student.uliege.be\n",
            "Read LP format model from file /tmp/tmpir9j6i86.pyomo.lp\n",
            "Reading time = 0.00 seconds\n",
            "x1: 438 rows, 179 columns, 808 nonzeros\n",
            "Gurobi Optimizer version 12.0.3 build v12.0.3rc0 (linux64 - \"Ubuntu 22.04.4 LTS\")\n",
            "\n",
            "CPU model: Intel(R) Xeon(R) CPU @ 2.20GHz, instruction set [SSE2|AVX|AVX2]\n",
            "Thread count: 1 physical cores, 2 logical processors, using up to 2 threads\n",
            "\n",
            "Optimize a model with 438 rows, 179 columns and 808 nonzeros\n",
            "Model fingerprint: 0x8e46cd59\n",
            "Coefficient statistics:\n",
            "  Matrix range     [5e-01, 2e+00]\n",
            "  Objective range  [1e+00, 2e+00]\n",
            "  Bounds range     [0e+00, 0e+00]\n",
            "  RHS range        [6e-02, 5e+01]\n",
            "Presolve removed 377 rows and 117 columns\n",
            "Presolve time: 0.00s\n",
            "Presolved: 61 rows, 62 columns, 228 nonzeros\n",
            "\n",
            "Iteration    Objective       Primal Inf.    Dual Inf.      Time\n",
            "       0    5.7473859e+00   3.019247e+01   0.000000e+00      0s\n",
            "      46    2.0364313e+00   0.000000e+00   0.000000e+00      0s\n",
            "\n",
            "Solved in 46 iterations and 0.00 seconds (0.00 work units)\n",
            "Optimal objective  2.036431323e+00\n"
          ]
        },
        {
          "output_type": "stream",
          "name": "stderr",
          "text": [
            "WARNING:pyomo.core:Implicitly replacing the Component attribute objective (type=<class 'pyomo.core.base.objective.ScalarObjective'>) on block unknown with a new Component (type=<class 'pyomo.core.base.objective.AbstractScalarObjective'>).\n",
            "This is usually indicative of a modelling error.\n",
            "To avoid this warning, use block.del_component() and block.add_component().\n"
          ]
        },
        {
          "output_type": "stream",
          "name": "stdout",
          "text": [
            "1.5\n",
            "Set parameter WLSAccessID\n",
            "Set parameter WLSSecret\n",
            "Set parameter LicenseID to value 2651433\n",
            "Academic license 2651433 - for non-commercial use only - registered to an___@student.uliege.be\n",
            "Read LP format model from file /tmp/tmp4n8fheh7.pyomo.lp\n",
            "Reading time = 0.00 seconds\n",
            "x1: 438 rows, 179 columns, 808 nonzeros\n",
            "Gurobi Optimizer version 12.0.3 build v12.0.3rc0 (linux64 - \"Ubuntu 22.04.4 LTS\")\n",
            "\n",
            "CPU model: Intel(R) Xeon(R) CPU @ 2.20GHz, instruction set [SSE2|AVX|AVX2]\n",
            "Thread count: 1 physical cores, 2 logical processors, using up to 2 threads\n",
            "\n",
            "Optimize a model with 438 rows, 179 columns and 808 nonzeros\n",
            "Model fingerprint: 0x1df94a44\n",
            "Coefficient statistics:\n",
            "  Matrix range     [5e-01, 2e+00]\n",
            "  Objective range  [1e+00, 2e+00]\n",
            "  Bounds range     [0e+00, 0e+00]\n",
            "  RHS range        [6e-02, 5e+01]\n",
            "Presolve removed 377 rows and 117 columns\n",
            "Presolve time: 0.00s\n",
            "Presolved: 61 rows, 62 columns, 228 nonzeros\n",
            "\n",
            "Iteration    Objective       Primal Inf.    Dual Inf.      Time\n",
            "       0    5.7473859e+00   3.019247e+01   0.000000e+00      0s\n",
            "      46    2.0364313e+00   0.000000e+00   0.000000e+00      0s\n",
            "\n",
            "Solved in 46 iterations and 0.00 seconds (0.00 work units)\n",
            "Optimal objective  2.036431323e+00\n"
          ]
        },
        {
          "output_type": "stream",
          "name": "stderr",
          "text": [
            "WARNING:pyomo.core:Implicitly replacing the Component attribute objective (type=<class 'pyomo.core.base.objective.ScalarObjective'>) on block unknown with a new Component (type=<class 'pyomo.core.base.objective.AbstractScalarObjective'>).\n",
            "This is usually indicative of a modelling error.\n",
            "To avoid this warning, use block.del_component() and block.add_component().\n"
          ]
        },
        {
          "output_type": "stream",
          "name": "stdout",
          "text": [
            "1.5\n",
            "Set parameter WLSAccessID\n",
            "Set parameter WLSSecret\n",
            "Set parameter LicenseID to value 2651433\n",
            "Academic license 2651433 - for non-commercial use only - registered to an___@student.uliege.be\n",
            "Read LP format model from file /tmp/tmpe2jz8kvg.pyomo.lp\n",
            "Reading time = 0.00 seconds\n",
            "x1: 438 rows, 179 columns, 808 nonzeros\n",
            "Gurobi Optimizer version 12.0.3 build v12.0.3rc0 (linux64 - \"Ubuntu 22.04.4 LTS\")\n",
            "\n",
            "CPU model: Intel(R) Xeon(R) CPU @ 2.20GHz, instruction set [SSE2|AVX|AVX2]\n",
            "Thread count: 1 physical cores, 2 logical processors, using up to 2 threads\n",
            "\n",
            "Optimize a model with 438 rows, 179 columns and 808 nonzeros\n",
            "Model fingerprint: 0x9eca06ca\n",
            "Coefficient statistics:\n",
            "  Matrix range     [5e-01, 2e+00]\n",
            "  Objective range  [1e+00, 3e+00]\n",
            "  Bounds range     [0e+00, 0e+00]\n",
            "  RHS range        [6e-02, 5e+01]\n",
            "Presolve removed 377 rows and 117 columns\n",
            "Presolve time: 0.00s\n",
            "Presolved: 61 rows, 62 columns, 228 nonzeros\n",
            "\n",
            "Iteration    Objective       Primal Inf.    Dual Inf.      Time\n",
            "       0    5.7473859e+00   3.019247e+01   0.000000e+00      0s\n",
            "      46    2.0364313e+00   0.000000e+00   0.000000e+00      0s\n",
            "\n",
            "Solved in 46 iterations and 0.01 seconds (0.00 work units)\n",
            "Optimal objective  2.036431323e+00\n",
            "1.5"
          ]
        },
        {
          "output_type": "stream",
          "name": "stderr",
          "text": [
            "WARNING:pyomo.core:Implicitly replacing the Component attribute objective (type=<class 'pyomo.core.base.objective.ScalarObjective'>) on block unknown with a new Component (type=<class 'pyomo.core.base.objective.AbstractScalarObjective'>).\n",
            "This is usually indicative of a modelling error.\n",
            "To avoid this warning, use block.del_component() and block.add_component().\n"
          ]
        },
        {
          "output_type": "stream",
          "name": "stdout",
          "text": [
            "\n",
            "Set parameter WLSAccessID\n",
            "Set parameter WLSSecret\n",
            "Set parameter LicenseID to value 2651433\n",
            "Academic license 2651433 - for non-commercial use only - registered to an___@student.uliege.be\n",
            "Read LP format model from file /tmp/tmpa6w__b4j.pyomo.lp\n",
            "Reading time = 0.00 seconds\n",
            "x1: 438 rows, 179 columns, 808 nonzeros\n",
            "Gurobi Optimizer version 12.0.3 build v12.0.3rc0 (linux64 - \"Ubuntu 22.04.4 LTS\")\n",
            "\n",
            "CPU model: Intel(R) Xeon(R) CPU @ 2.20GHz, instruction set [SSE2|AVX|AVX2]\n",
            "Thread count: 1 physical cores, 2 logical processors, using up to 2 threads\n",
            "\n",
            "Optimize a model with 438 rows, 179 columns and 808 nonzeros\n",
            "Model fingerprint: 0x6a221b99\n",
            "Coefficient statistics:\n",
            "  Matrix range     [5e-01, 2e+00]\n",
            "  Objective range  [1e+00, 3e+00]\n",
            "  Bounds range     [0e+00, 0e+00]\n",
            "  RHS range        [6e-02, 5e+01]\n",
            "Presolve removed 377 rows and 117 columns\n",
            "Presolve time: 0.00s\n",
            "Presolved: 61 rows, 62 columns, 228 nonzeros\n",
            "\n",
            "Iteration    Objective       Primal Inf.    Dual Inf.      Time\n",
            "       0    5.7473859e+00   3.019247e+01   0.000000e+00      0s\n",
            "      46    2.0364313e+00   0.000000e+00   0.000000e+00      0s\n",
            "\n",
            "Solved in 46 iterations and 0.00 seconds (0.00 work units)\n",
            "Optimal objective  2.036431323e+00\n",
            "1.5"
          ]
        },
        {
          "output_type": "stream",
          "name": "stderr",
          "text": [
            "WARNING:pyomo.core:Implicitly replacing the Component attribute objective (type=<class 'pyomo.core.base.objective.ScalarObjective'>) on block unknown with a new Component (type=<class 'pyomo.core.base.objective.AbstractScalarObjective'>).\n",
            "This is usually indicative of a modelling error.\n",
            "To avoid this warning, use block.del_component() and block.add_component().\n"
          ]
        },
        {
          "output_type": "stream",
          "name": "stdout",
          "text": [
            "\n",
            "Set parameter WLSAccessID\n",
            "Set parameter WLSSecret\n",
            "Set parameter LicenseID to value 2651433\n",
            "Academic license 2651433 - for non-commercial use only - registered to an___@student.uliege.be\n",
            "Read LP format model from file /tmp/tmpj2pplckl.pyomo.lp\n",
            "Reading time = 0.00 seconds\n",
            "x1: 438 rows, 179 columns, 808 nonzeros\n",
            "Gurobi Optimizer version 12.0.3 build v12.0.3rc0 (linux64 - \"Ubuntu 22.04.4 LTS\")\n",
            "\n",
            "CPU model: Intel(R) Xeon(R) CPU @ 2.20GHz, instruction set [SSE2|AVX|AVX2]\n",
            "Thread count: 1 physical cores, 2 logical processors, using up to 2 threads\n",
            "\n",
            "Optimize a model with 438 rows, 179 columns and 808 nonzeros\n",
            "Model fingerprint: 0x77305d9e\n",
            "Coefficient statistics:\n",
            "  Matrix range     [5e-01, 2e+00]\n",
            "  Objective range  [1e+00, 3e+00]\n",
            "  Bounds range     [0e+00, 0e+00]\n",
            "  RHS range        [6e-02, 5e+01]\n",
            "Presolve removed 377 rows and 117 columns\n",
            "Presolve time: 0.00s\n",
            "Presolved: 61 rows, 62 columns, 228 nonzeros\n",
            "\n",
            "Iteration    Objective       Primal Inf.    Dual Inf.      Time\n",
            "       0    5.7473859e+00   3.019247e+01   0.000000e+00      0s\n",
            "      46    2.0364313e+00   0.000000e+00   0.000000e+00      0s\n",
            "\n",
            "Solved in 46 iterations and 0.00 seconds (0.00 work units)\n",
            "Optimal objective  2.036431323e+00\n"
          ]
        },
        {
          "output_type": "stream",
          "name": "stderr",
          "text": [
            "WARNING:pyomo.core:Implicitly replacing the Component attribute objective (type=<class 'pyomo.core.base.objective.ScalarObjective'>) on block unknown with a new Component (type=<class 'pyomo.core.base.objective.AbstractScalarObjective'>).\n",
            "This is usually indicative of a modelling error.\n",
            "To avoid this warning, use block.del_component() and block.add_component().\n"
          ]
        },
        {
          "output_type": "stream",
          "name": "stdout",
          "text": [
            "1.5\n",
            "Set parameter WLSAccessID\n",
            "Set parameter WLSSecret\n",
            "Set parameter LicenseID to value 2651433\n",
            "Academic license 2651433 - for non-commercial use only - registered to an___@student.uliege.be\n",
            "Read LP format model from file /tmp/tmp2m9tcfjf.pyomo.lp\n",
            "Reading time = 0.00 seconds\n",
            "x1: 438 rows, 179 columns, 808 nonzeros\n",
            "Gurobi Optimizer version 12.0.3 build v12.0.3rc0 (linux64 - \"Ubuntu 22.04.4 LTS\")\n",
            "\n",
            "CPU model: Intel(R) Xeon(R) CPU @ 2.20GHz, instruction set [SSE2|AVX|AVX2]\n",
            "Thread count: 1 physical cores, 2 logical processors, using up to 2 threads\n",
            "\n",
            "Optimize a model with 438 rows, 179 columns and 808 nonzeros\n",
            "Model fingerprint: 0x18a5c859\n",
            "Coefficient statistics:\n",
            "  Matrix range     [5e-01, 2e+00]\n",
            "  Objective range  [1e+00, 3e+00]\n",
            "  Bounds range     [0e+00, 0e+00]\n",
            "  RHS range        [6e-02, 5e+01]\n",
            "Presolve removed 377 rows and 117 columns\n",
            "Presolve time: 0.00s\n",
            "Presolved: 61 rows, 62 columns, 228 nonzeros\n",
            "\n",
            "Iteration    Objective       Primal Inf.    Dual Inf.      Time\n",
            "       0    5.7473859e+00   3.019247e+01   0.000000e+00      0s\n",
            "      46    2.0364313e+00   0.000000e+00   0.000000e+00      0s\n",
            "\n",
            "Solved in 46 iterations and 0.00 seconds (0.00 work units)\n",
            "Optimal objective  2.036431323e+00\n",
            "1.5\n"
          ]
        },
        {
          "output_type": "stream",
          "name": "stderr",
          "text": [
            "WARNING:pyomo.core:Implicitly replacing the Component attribute objective (type=<class 'pyomo.core.base.objective.ScalarObjective'>) on block unknown with a new Component (type=<class 'pyomo.core.base.objective.AbstractScalarObjective'>).\n",
            "This is usually indicative of a modelling error.\n",
            "To avoid this warning, use block.del_component() and block.add_component().\n"
          ]
        },
        {
          "output_type": "stream",
          "name": "stdout",
          "text": [
            "Set parameter WLSAccessID\n",
            "Set parameter WLSSecret\n",
            "Set parameter LicenseID to value 2651433\n",
            "Academic license 2651433 - for non-commercial use only - registered to an___@student.uliege.be\n",
            "Read LP format model from file /tmp/tmpm3aw4mph.pyomo.lp\n",
            "Reading time = 0.00 seconds\n",
            "x1: 438 rows, 179 columns, 808 nonzeros\n",
            "Gurobi Optimizer version 12.0.3 build v12.0.3rc0 (linux64 - \"Ubuntu 22.04.4 LTS\")\n",
            "\n",
            "CPU model: Intel(R) Xeon(R) CPU @ 2.20GHz, instruction set [SSE2|AVX|AVX2]\n",
            "Thread count: 1 physical cores, 2 logical processors, using up to 2 threads\n",
            "\n",
            "Optimize a model with 438 rows, 179 columns and 808 nonzeros\n",
            "Model fingerprint: 0x6aabc9ea\n",
            "Coefficient statistics:\n",
            "  Matrix range     [5e-01, 2e+00]\n",
            "  Objective range  [1e+00, 3e+00]\n",
            "  Bounds range     [0e+00, 0e+00]\n",
            "  RHS range        [6e-02, 5e+01]\n",
            "Presolve removed 377 rows and 117 columns\n",
            "Presolve time: 0.00s\n",
            "Presolved: 61 rows, 62 columns, 228 nonzeros\n",
            "\n",
            "Iteration    Objective       Primal Inf.    Dual Inf.      Time\n",
            "       0    5.7473859e+00   3.019247e+01   0.000000e+00      0s\n",
            "      46    2.0364313e+00   0.000000e+00   0.000000e+00      0s\n",
            "\n",
            "Solved in 46 iterations and 0.00 seconds (0.00 work units)\n",
            "Optimal objective  2.036431323e+00\n"
          ]
        }
      ],
      "source": [
        "B = [0.5,0.6,0.7,0.8,0.9,1,1.1,1.2,1.3,1.4,1.5,1.6,1.7,1.8,1.9,1.95,2,2.05,2.1,2.2,2.3,2.4,2.5,2.6,2.7,2.8,2.9,3]\n",
        "#A = range(-3, 26)\n",
        "alpha = 1.5\n",
        "enveloppe_taille = []\n",
        "curtail = []\n",
        "close = []\n",
        "\n",
        "for beta in B:\n",
        "  print(alpha)\n",
        "  def objective_rule(m):\n",
        "    return  m.tot - alpha*m.O - beta * m.tot_bis\n",
        "  m.objective = pyo.Objective(rule=objective_rule, sense=pyo.maximize)\n",
        "  params = {\n",
        "    \"WLSACCESSID\": 'efa10779-150a-495c-ab62-6a20ff44c598',\n",
        "    \"WLSSECRET\": 'fa980d94-a6fd-4d7b-aa68-b0e19ddd2e84',\n",
        "    \"LICENSEID\": 2651433,\n",
        "           }\n",
        "  env = gp.Env(params=params)\n",
        "  solver = pyo.SolverFactory('gurobi', env= env)\n",
        "  results = solver.solve(m, tee=True)\n",
        "\n",
        "  # Check the termination condition before accessing results\n",
        "  if results.solver.termination_condition == pyo.TerminationCondition.optimal:\n",
        "      curtail.append(m.O.value)\n",
        "      enveloppe_taille.append(m.tot.value)\n",
        "      close.append(m.tot_bis.value)\n",
        "\n",
        "  else:\n",
        "      # Append None for non-optimal results to maintain list length\n",
        "      curtail.append(None)\n",
        "      enveloppe_taille.append(None)\n",
        "      close.append(None)"
      ]
    },
    {
      "cell_type": "code",
      "execution_count": 365,
      "metadata": {
        "colab": {
          "base_uri": "https://localhost:8080/"
        },
        "id": "dxKCc8LwJUGm",
        "outputId": "5e55a320-e487-4ccc-f89e-9c760f2d4a9e"
      },
      "outputs": [
        {
          "output_type": "stream",
          "name": "stdout",
          "text": [
            "[5.108619633768047, 5.108619633768042, 5.108619633768042, 5.108619633768047, 5.108619633768047, 5.394662409934617, 6.332075999423944, 6.332075999423944, 6.332075999423944, 6.332075999423944, 6.332075999423944, 6.332075999423944, 6.304925290006747, 6.304925290006747, 6.304925290006747, 6.304925290006747, 6.304925290006747, 6.304925290006747, 6.304925290006747, 6.304925290006747, 6.304925290006747, 6.304925290006747, 6.304925290006747, 6.304925290006747, 6.304925290006747, 6.304925290006747, 6.304925290006747, 6.304925290006747]\n",
            "[1.5849266707208456, 1.5849266707208456, 1.5849266707208456, 1.5849266707208456, 1.5849266707208456, 1.8709694468874245, 2.80838303637675, 2.80838303637675, 2.80838303637675, 2.80838303637675, 2.80838303637675, 2.80838303637675, 2.845662645003374, 2.845662645003374, 2.845662645003374, 2.845662645003374, 2.845662645003374, 2.845662645003374, 2.845662645003374, 2.845662645003374, 2.845662645003374, 2.845662645003374, 2.845662645003374, 2.845662645003374, 2.845662645003374, 2.845662645003374, 2.845662645003374, 2.845662645003374]\n",
            "[0.6625831461631709, 0.6625831461631734, 0.6625831461631734, 0.6625831461631709, 0.6625831461631709, 0.5195617580798856, 0.05085496333522199, 0.05085496333522199, 0.05085496333522199, 0.05085496333522199, 0.05085496333522199, 0.05085496333522199, 0.0, 0.0, 0.0, 0.0, 0.0, 0.0, 0.0, 0.0, 0.0, 0.0, 0.0, 0.0, 0.0, 0.0, 0.0, 0.0]\n"
          ]
        }
      ],
      "source": [
        "print(enveloppe_taille)\n",
        "print(curtail)\n",
        "print(close)"
      ]
    },
    {
      "cell_type": "code",
      "execution_count": 366,
      "metadata": {
        "colab": {
          "base_uri": "https://localhost:8080/",
          "height": 546
        },
        "id": "Y8HCV6wXHo3R",
        "outputId": "8f371719-b099-4026-f2d4-a27c283eeb19"
      },
      "outputs": [
        {
          "output_type": "display_data",
          "data": {
            "text/plain": [
              "<Figure size 1000x600 with 1 Axes>"
            ],
            "image/png": "[encoded data removed]"
          },
          "metadata": {}
        }
      ],
      "source": [
        "# Convert A to a numpy array for easier plotting\n",
        "alpha_values = np.array(B)\n",
        "\n",
        "# Convert lists to numpy arrays, replacing None with NaN for plotting\n",
        "enveloppe_taille_np = np.array(enveloppe_taille, dtype=float)\n",
        "curtail_np = np.array(curtail, dtype=float)\n",
        "close_np = np.array(close, dtype=float)\n",
        "\n",
        "\n",
        "plt.figure(figsize=(10, 6))\n",
        "\n",
        "# Plot enveloppe_taille vs alpha\n",
        "plt.plot(alpha_values, enveloppe_taille_np, marker='o', linestyle='-', label='Envelope Volume')\n",
        "\n",
        "# Plot curtail vs alpha\n",
        "plt.plot(alpha_values, curtail_np, marker='x', linestyle='--', label='Curtailment')\n",
        "\n",
        "# Plot close vs alpha\n",
        "plt.plot(alpha_values, close_np, marker='s', linestyle='-.', label='Deviation of the center of the envelope from DSO estimation')\n",
        "\n",
        "\n",
        "# Set x-axis to a logarithmic scale\n",
        "#plt.xscale('log')\n",
        "\n",
        "# Save the plot as a PDF file\n",
        "\n",
        "\n",
        "plt.xlabel('$\\\\beta$')\n",
        "plt.ylabel('Value (per-unit)')\n",
        "#plt.title(f'Evolution of the volume of the envelope, curtailment and closeness to estimation as a function of parameter $\\\\beta$ ($\\\\alpha$ = 2)')\n",
        "plt.legend()\n",
        "plt.grid(True)\n",
        "plt.savefig('DOE_alloc_beta.pdf')\n",
        "\n",
        "plt.show()"
      ]
    },
    {
      "cell_type": "code",
      "execution_count": 427,
      "metadata": {
        "colab": {
          "base_uri": "https://localhost:8080/"
        },
        "id": "qU1Cx-BuMEEv",
        "outputId": "f923b079-2c24-4082-c056-67179aa782ca"
      },
      "outputs": [
        {
          "output_type": "stream",
          "name": "stderr",
          "text": [
            "WARNING:pyomo.core:Implicitly replacing the Component attribute objective (type=<class 'pyomo.core.base.objective.ScalarObjective'>) on block unknown with a new Component (type=<class 'pyomo.core.base.objective.AbstractScalarObjective'>).\n",
            "This is usually indicative of a modelling error.\n",
            "To avoid this warning, use block.del_component() and block.add_component().\n"
          ]
        },
        {
          "output_type": "stream",
          "name": "stdout",
          "text": [
            "2\n",
            "Set parameter WLSAccessID\n",
            "Set parameter WLSSecret\n",
            "Set parameter LicenseID to value 2651433\n",
            "Academic license 2651433 - for non-commercial use only - registered to an___@student.uliege.be\n",
            "Read LP format model from file /tmp/tmp0gp1z4k5.pyomo.lp\n",
            "Reading time = 0.00 seconds\n",
            "x1: 438 rows, 179 columns, 808 nonzeros\n",
            "Gurobi Optimizer version 12.0.3 build v12.0.3rc0 (linux64 - \"Ubuntu 22.04.4 LTS\")\n",
            "\n",
            "CPU model: Intel(R) Xeon(R) CPU @ 2.20GHz, instruction set [SSE2|AVX|AVX2]\n",
            "Thread count: 1 physical cores, 2 logical processors, using up to 2 threads\n",
            "\n",
            "Optimize a model with 438 rows, 179 columns and 808 nonzeros\n",
            "Model fingerprint: 0x208a1061\n",
            "Coefficient statistics:\n",
            "  Matrix range     [5e-01, 2e+00]\n",
            "  Objective range  [1e+00, 1e+02]\n",
            "  Bounds range     [0e+00, 0e+00]\n",
            "  RHS range        [6e-02, 5e+01]\n",
            "Presolve removed 377 rows and 117 columns\n",
            "Presolve time: 0.00s\n",
            "Presolved: 61 rows, 62 columns, 228 nonzeros\n",
            "\n",
            "Iteration    Objective       Primal Inf.    Dual Inf.      Time\n",
            "       0    5.7473859e+00   3.019247e+01   0.000000e+00      0s\n",
            "      51    6.1360000e-01   0.000000e+00   0.000000e+00      0s\n",
            "\n",
            "Solved in 51 iterations and 0.00 seconds (0.00 work units)\n",
            "Optimal objective  6.136000000e-01\n"
          ]
        }
      ],
      "source": [
        "beta = 100\n",
        "alpha = 2\n",
        "enveloppe_taille = []\n",
        "curtail = []\n",
        "close = []\n",
        "\n",
        "\n",
        "print(alpha)\n",
        "def objective_rule(m):\n",
        "  return  m.tot - alpha*m.O - beta * m.tot_bis\n",
        "m.objective = pyo.Objective(rule=objective_rule, sense=pyo.maximize)\n",
        "params = {\n",
        "    \"WLSACCESSID\": 'efa10779-150a-495c-ab62-6a20ff44c598',\n",
        "    \"WLSSECRET\": 'fa980d94-a6fd-4d7b-aa68-b0e19ddd2e84',\n",
        "    \"LICENSEID\": 2651433,\n",
        "           }\n",
        "env = gp.Env(params=params)\n",
        "solver = pyo.SolverFactory('gurobi', env= env)\n",
        "results = solver.solve(m, tee=True)\n",
        "\n",
        "  # Check the termination condition before accessing results\n",
        "if results.solver.termination_condition == pyo.TerminationCondition.optimal:\n",
        "  curtail.append(m.O.value)\n",
        "  enveloppe_taille.append(m.tot.value)\n",
        "  close.append(m.tot_bis.value)\n",
        "\n",
        "else:\n",
        "\n",
        "      # Append None for non-optimal results to maintain list length\n",
        "  curtail.append(None)\n",
        "  enveloppe_taille.append(None)\n",
        "  close.append(None)"
      ]
    },
    {
      "cell_type": "code",
      "execution_count": 428,
      "metadata": {
        "colab": {
          "base_uri": "https://localhost:8080/",
          "height": 564
        },
        "id": "b0aAheHEN-5_",
        "outputId": "69b6afba-bb5a-4bdf-82f5-897d425f62b2"
      },
      "outputs": [
        {
          "output_type": "display_data",
          "data": {
            "text/plain": [
              "<Figure size 500x600 with 1 Axes>"
            ],
            "image/png": "[encoded data removed]"
          },
          "metadata": {}
        }
      ],
      "source": [
        "import matplotlib.pyplot as plt\n",
        "import numpy as np\n",
        "\n",
        "# Extract data for plotting\n",
        "children_nodes = list(m.children)\n",
        "p_c_set_0_values = [m.P_C_set[n, 0].value for n in m.children]\n",
        "p_c_set_1_values = [m.P_C_set[n, 1].value for n in m.children]\n",
        "info_dso_values = [m.info_DSO_param[n] for n in m.children]\n",
        "\n",
        "# Create the plot\n",
        "plt.figure(figsize=(5, 6))\n",
        "\n",
        "# Adjust x_pos to control spacing (e.g., reduce the multiplier)\n",
        "x_pos = np.arange(len(children_nodes)) * 0.0005 # Reduced spacing by multiplying by 0.0005\n",
        "\n",
        "# Plot lines between P_C_set[n][0] and P_C_set[n][1] for each child node\n",
        "for i in range(len(children_nodes)):\n",
        "    plt.plot([x_pos[i], x_pos[i]], [p_c_set_1_values[i], p_c_set_0_values[i]], marker='o', linestyle='-', color='blue')\n",
        "\n",
        "# Plot only dots for info_DSO_param\n",
        "plt.plot(x_pos, info_dso_values, marker='s', linestyle='', label=f'DSO power demand estimation')\n",
        "\n",
        "# Create legend handles for the P_C_set endpoints\n",
        "# We plot invisible points with the desired labels to create legend entries\n",
        "plt.plot([], [], marker='o', linestyle='-', color='blue', label=f'Power envelope ($\\\\alpha$={alpha}, $\\\\beta$={beta})')\n",
        "\n",
        "\n",
        "plt.xticks(x_pos, children_nodes)\n",
        "plt.xlabel('Child Node Index')\n",
        "plt.ylabel('Value (per-unit)')\n",
        "plt.title('Comparison of P_C_set values and DSO estimation for Child Nodes')\n",
        "plt.legend(loc='upper left') # Move the legend to the upper left\n",
        "plt.grid(True)\n",
        "\n",
        "# Draw labels to the left of the points\n",
        "# for i, n in enumerate(children_nodes):\n",
        "#     # Label for the upper bound of the envelope\n",
        "#     plt.text(x_pos[i], p_c_set_0_values[i], f\"{round(p_c_set_0_values[i], 4)}\", fontsize=8, ha='center', va='bottom', color='red')\n",
        "#     # Label for the lower bound of the envelope\n",
        "#     plt.text(x_pos[i], p_c_set_1_values[i], f\"{round(p_c_set_1_values[i], 4)}\", fontsize=8, ha='center', va='top', color='red')\n",
        "#     # Label for the DSO estimation\n",
        "#     plt.text(x_pos[i], info_dso_values[i], f\"{round(info_dso_values[i], 4)}\", fontsize=8, ha='center', va='center', color='green')\n",
        "\n",
        "\n",
        "# Save the plot as a PDF file\n",
        "plt.savefig('child_nodes_envelopes.pdf')\n",
        "\n",
        "plt.show()"
      ]
    }
  ],
  "metadata": {
    "colab": {
      "provenance": []
    },
    "kernelspec": {
      "display_name": "Python 3",
      "name": "python3"
    },
    "language_info": {
      "name": "python"
    }
  },
  "nbformat": 4,
  "nbformat_minor": 0
}