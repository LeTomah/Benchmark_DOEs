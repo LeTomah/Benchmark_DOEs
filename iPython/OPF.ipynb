{
  "cells": [
    {
      "cell_type": "code",
      "execution_count": 1,
      "metadata": {
        "colab": {
          "base_uri": "https://localhost:8080/"
        },
        "id": "QGfrTCDFYVcc",
        "outputId": "e57e82cd-60c7-4c40-8e31-cf07535ed0bd"
      },
      "outputs": [
        {
          "output_type": "stream",
          "name": "stdout",
          "text": [
            "Requirement already satisfied: pyomo in /usr/local/lib/python3.11/dist-packages (6.9.2)\n",
            "Requirement already satisfied: ply in /usr/local/lib/python3.11/dist-packages (from pyomo) (3.11)\n",
            "--2025-08-08 08:13:22--  https://people.montefiore.uliege.be/cornelusse/utils/ampl.linux-intel64.zip\n",
            "Resolving people.montefiore.uliege.be (people.montefiore.uliege.be)... 139.165.57.148\n",
            "Connecting to people.montefiore.uliege.be (people.montefiore.uliege.be)|139.165.57.148|:443... connected.\n",
            "HTTP request sent, awaiting response... 200 OK\n",
            "Length: 17486900 (17M) [application/zip]\n",
            "Saving to: ‘ampl.linux-intel64.zip’\n",
            "\n",
            "ampl.linux-intel64. 100%[===================>]  16.68M  8.01MB/s    in 2.1s    \n",
            "\n",
            "2025-08-08 08:13:25 (8.01 MB/s) - ‘ampl.linux-intel64.zip’ saved [17486900/17486900]\n",
            "\n",
            "Archive:  /content/ampl.linux-intel64.zip\n",
            "   creating: ampl.linux-intel64/\n",
            "  inflating: __MACOSX/._ampl.linux-intel64  \n",
            "  inflating: ampl.linux-intel64/.DS_Store  \n",
            "  inflating: __MACOSX/ampl.linux-intel64/._.DS_Store  \n",
            "  inflating: ampl.linux-intel64/libOsiClp.so.1  \n",
            "  inflating: __MACOSX/ampl.linux-intel64/._libOsiClp.so.1  \n",
            "  inflating: ampl.linux-intel64/metadata.json  \n",
            "  inflating: __MACOSX/ampl.linux-intel64/._metadata.json  \n",
            "  inflating: ampl.linux-intel64/ipopt  \n",
            "  inflating: __MACOSX/ampl.linux-intel64/._ipopt  \n",
            "  inflating: ampl.linux-intel64/couenne  \n",
            "  inflating: __MACOSX/ampl.linux-intel64/._couenne  \n",
            "   creating: ampl.linux-intel64/docs/\n",
            "  inflating: __MACOSX/ampl.linux-intel64/._docs  \n",
            "  inflating: ampl.linux-intel64/coin-license.txt  \n",
            "  inflating: __MACOSX/ampl.linux-intel64/._coin-license.txt  \n",
            "  inflating: ampl.linux-intel64/cbc  \n",
            "  inflating: __MACOSX/ampl.linux-intel64/._cbc  \n",
            "  inflating: ampl.linux-intel64/libCoinUtils.so.3  \n",
            "  inflating: __MACOSX/ampl.linux-intel64/._libCoinUtils.so.3  \n",
            "  inflating: ampl.linux-intel64/libClpSolver.so.1  \n",
            "  inflating: __MACOSX/ampl.linux-intel64/._libClpSolver.so.1  \n",
            "  inflating: ampl.linux-intel64/libCbc.so.3  \n",
            "  inflating: __MACOSX/ampl.linux-intel64/._libCbc.so.3  \n",
            "  inflating: ampl.linux-intel64/libOsi.so.1  \n",
            "  inflating: __MACOSX/ampl.linux-intel64/._libOsi.so.1  \n",
            "  inflating: ampl.linux-intel64/bonmin  \n",
            "  inflating: __MACOSX/ampl.linux-intel64/._bonmin  \n",
            "  inflating: ampl.linux-intel64/libCbcSolver.so.3  \n",
            "  inflating: __MACOSX/ampl.linux-intel64/._libCbcSolver.so.3  \n",
            "  inflating: ampl.linux-intel64/libCgl.so.1  \n",
            "  inflating: __MACOSX/ampl.linux-intel64/._libCgl.so.1  \n",
            "  inflating: ampl.linux-intel64/libClp.so.1  \n",
            "  inflating: __MACOSX/ampl.linux-intel64/._libClp.so.1  \n",
            "  inflating: ampl.linux-intel64/coin-versions.txt  \n",
            "  inflating: __MACOSX/ampl.linux-intel64/._coin-versions.txt  \n",
            "  inflating: ampl.linux-intel64/docs/CHANGES.cbc.md  \n",
            "  inflating: __MACOSX/ampl.linux-intel64/docs/._CHANGES.cbc.md  \n",
            "  inflating: ampl.linux-intel64/docs/README.cbc.txt  \n",
            "  inflating: __MACOSX/ampl.linux-intel64/docs/._README.cbc.txt  \n"
          ]
        }
      ],
      "source": [
        "!pip install pyomo\n",
        "!wget https://people.montefiore.uliege.be/cornelusse/utils/ampl.linux-intel64.zip\n",
        "!unzip /content/ampl.linux-intel64.zip\n",
        "!chmod +x /content/ampl.linux-intel64/ipopt # To make sure it can be executed\n",
        "!chmod +x /content/ampl.linux-intel64/cbc # To make sure it can be executed"
      ]
    },
    {
      "cell_type": "code",
      "execution_count": 2,
      "metadata": {
        "colab": {
          "base_uri": "https://localhost:8080/"
        },
        "id": "LbyGibqGY4fo",
        "outputId": "7e485c0e-6a82-4e3e-9cc2-09e94f80d0af"
      },
      "outputs": [
        {
          "output_type": "stream",
          "name": "stdout",
          "text": [
            "Collecting pandapower\n",
            "  Downloading pandapower-3.1.2-py3-none-any.whl.metadata (8.6 kB)\n",
            "Requirement already satisfied: pandas>=1.0 in /usr/local/lib/python3.11/dist-packages (from pandapower) (2.2.2)\n",
            "Requirement already satisfied: networkx>=2.5 in /usr/local/lib/python3.11/dist-packages (from pandapower) (3.5)\n",
            "Requirement already satisfied: scipy in /usr/local/lib/python3.11/dist-packages (from pandapower) (1.16.1)\n",
            "Requirement already satisfied: numpy in /usr/local/lib/python3.11/dist-packages (from pandapower) (2.0.2)\n",
            "Requirement already satisfied: packaging in /usr/local/lib/python3.11/dist-packages (from pandapower) (25.0)\n",
            "Requirement already satisfied: tqdm in /usr/local/lib/python3.11/dist-packages (from pandapower) (4.67.1)\n",
            "Collecting deepdiff (from pandapower)\n",
            "  Downloading deepdiff-8.5.0-py3-none-any.whl.metadata (8.2 kB)\n",
            "Collecting geojson (from pandapower)\n",
            "  Downloading geojson-3.2.0-py3-none-any.whl.metadata (16 kB)\n",
            "Requirement already satisfied: lxml in /usr/local/lib/python3.11/dist-packages (from pandapower) (5.4.0)\n",
            "Requirement already satisfied: typing_extensions~=4.9 in /usr/local/lib/python3.11/dist-packages (from pandapower) (4.14.1)\n",
            "Requirement already satisfied: python-dateutil>=2.8.2 in /usr/local/lib/python3.11/dist-packages (from pandas>=1.0->pandapower) (2.9.0.post0)\n",
            "Requirement already satisfied: pytz>=2020.1 in /usr/local/lib/python3.11/dist-packages (from pandas>=1.0->pandapower) (2025.2)\n",
            "Requirement already satisfied: tzdata>=2022.7 in /usr/local/lib/python3.11/dist-packages (from pandas>=1.0->pandapower) (2025.2)\n",
            "Collecting orderly-set<6,>=5.4.1 (from deepdiff->pandapower)\n",
            "  Downloading orderly_set-5.5.0-py3-none-any.whl.metadata (6.6 kB)\n",
            "Requirement already satisfied: six>=1.5 in /usr/local/lib/python3.11/dist-packages (from python-dateutil>=2.8.2->pandas>=1.0->pandapower) (1.17.0)\n",
            "Downloading pandapower-3.1.2-py3-none-any.whl (5.4 MB)\n",
            "\u001b[2K   \u001b[90m━━━━━━━━━━━━━━━━━━━━━━━━━━━━━━━━━━━━━━━━\u001b[0m \u001b[32m5.4/5.4 MB\u001b[0m \u001b[31m76.2 MB/s\u001b[0m eta \u001b[36m0:00:00\u001b[0m\n",
            "\u001b[?25hDownloading deepdiff-8.5.0-py3-none-any.whl (85 kB)\n",
            "\u001b[2K   \u001b[90m━━━━━━━━━━━━━━━━━━━━━━━━━━━━━━━━━━━━━━━━\u001b[0m \u001b[32m85.1/85.1 kB\u001b[0m \u001b[31m8.3 MB/s\u001b[0m eta \u001b[36m0:00:00\u001b[0m\n",
            "\u001b[?25hDownloading geojson-3.2.0-py3-none-any.whl (15 kB)\n",
            "Downloading orderly_set-5.5.0-py3-none-any.whl (13 kB)\n",
            "Installing collected packages: orderly-set, geojson, deepdiff, pandapower\n",
            "Successfully installed deepdiff-8.5.0 geojson-3.2.0 orderly-set-5.5.0 pandapower-3.1.2\n"
          ]
        }
      ],
      "source": [
        "!pip install pandapower --upgrade"
      ]
    },
    {
      "cell_type": "code",
      "execution_count": 3,
      "metadata": {
        "colab": {
          "base_uri": "https://localhost:8080/"
        },
        "id": "-iPKRO96Y55g",
        "outputId": "922603ac-c587-4c8a-8654-1007997c4d92"
      },
      "outputs": [
        {
          "output_type": "stream",
          "name": "stdout",
          "text": [
            "Requirement already satisfied: networkx in /usr/local/lib/python3.11/dist-packages (3.5)\n"
          ]
        }
      ],
      "source": [
        "!pip install networkx"
      ]
    },
    {
      "cell_type": "code",
      "execution_count": 4,
      "metadata": {
        "id": "EPL5WGadZAxK",
        "colab": {
          "base_uri": "https://localhost:8080/"
        },
        "outputId": "9d3b5c2e-32be-48df-ffb1-52f2a9c736e1"
      },
      "outputs": [
        {
          "output_type": "stream",
          "name": "stdout",
          "text": [
            "Collecting gurobipy\n",
            "  Downloading gurobipy-12.0.3-cp311-cp311-manylinux2014_x86_64.manylinux_2_17_x86_64.whl.metadata (16 kB)\n",
            "Downloading gurobipy-12.0.3-cp311-cp311-manylinux2014_x86_64.manylinux_2_17_x86_64.whl (14.5 MB)\n",
            "\u001b[2K   \u001b[90m━━━━━━━━━━━━━━━━━━━━━━━━━━━━━━━━━━━━━━━━\u001b[0m \u001b[32m14.5/14.5 MB\u001b[0m \u001b[31m72.3 MB/s\u001b[0m eta \u001b[36m0:00:00\u001b[0m\n",
            "\u001b[?25hInstalling collected packages: gurobipy\n",
            "Successfully installed gurobipy-12.0.3\n"
          ]
        }
      ],
      "source": [
        "!pip install gurobipy  # install gurobipy, if not already installed"
      ]
    },
    {
      "cell_type": "code",
      "execution_count": 5,
      "metadata": {
        "id": "7E5MxejmZJUb"
      },
      "outputs": [],
      "source": [
        "import gurobipy as gp\n",
        "import time\n",
        "import pandas as pd\n",
        "import xarray as xr\n",
        "import networkx as nx\n",
        "import matplotlib.pyplot as plt\n",
        "import numpy as np\n",
        "from dataclasses import dataclass\n",
        "import pyomo.environ as pyo\n",
        "import math\n",
        "import pandapower as pp\n",
        "\n",
        "\n",
        "# Create a new graph\n",
        "G = nx.DiGraph()"
      ]
    },
    {
      "cell_type": "code",
      "execution_count": 6,
      "metadata": {
        "id": "0CffUDPBZT7m"
      },
      "outputs": [],
      "source": [
        "def create_network():\n",
        "\n",
        "    import pandapower as pp\n",
        "\n",
        "# Crée le réseau\n",
        "    net = pp.create_empty_network()\n",
        "\n",
        "# Bases\n",
        "    Pbase = 100  # MVA\n",
        "    Vbase_high = 110  # kV\n",
        "    Vbase_medium = 20  # kV\n",
        "    Vbase_low = 0.4  # kV\n",
        "\n",
        "# Buses\n",
        "    b0 = pp.create_bus(net, vn_kv=Vbase_high, name=\"Bus grid\", geodata=(0,10))\n",
        "    b1 = pp.create_bus(net, vn_kv=Vbase_high, name=\"DSO 1\", geodata=(5,12))\n",
        "    b2 = pp.create_bus(net, vn_kv=Vbase_high, name=\"DSO 2\", geodata=(5,8))\n",
        "    b3 = pp.create_bus(net, vn_kv=Vbase_medium, name=\"Bus MV_1\", geodata=(10,12))\n",
        "    b4 = pp.create_bus(net, vn_kv=Vbase_medium, name=\"Bus MV_2\", geodata=(10,8))\n",
        "    b5 = pp.create_bus(net, vn_kv=Vbase_low, name=\"Bus LV_1\", geodata=(15,12))\n",
        "    b6 = pp.create_bus(net, vn_kv=Vbase_low, name=\"Bus LV_2\", geodata=(15,8))\n",
        "    b7 = pp.create_bus(net, vn_kv=Vbase_medium, name=\"Bus éolien\", geodata=(10,14))\n",
        "    b8 = pp.create_bus(net, vn_kv=Vbase_medium, name=\"Bus industriel\", geodata=(10,10))\n",
        "    b9 = pp.create_bus(net, vn_kv=Vbase_low, name=\"Bus load\", geodata=(15,14))\n",
        "    b10 = pp.create_bus(net, vn_kv=Vbase_low, name=\"Bus PV\", geodata=(15,10))\n",
        "    b11 = pp.create_bus(net, vn_kv=Vbase_high, name=\"TSO 1\", geodata=(2,12))\n",
        "    b12 = pp.create_bus(net, vn_kv=Vbase_high, name=\"TSO 2\", geodata=(2,8))\n",
        "\n",
        "# Lignes\n",
        "    pp.create_line(net, b0, b1, length_km=12, std_type='149-AL1/24-ST1A 110.0', name=\"line1\")\n",
        "    pp.create_line(net, b1, b2, length_km=10, std_type='149-AL1/24-ST1A 110.0', name=\"line2\")\n",
        "    pp.create_line(net, b0, b2, length_km=10, std_type='149-AL1/24-ST1A 110.0', name=\"line3\")\n",
        "    pp.create_line(net, b3, b7, length_km=0.23, std_type='NA2XS2Y 1x185 RM/25 12/20 kV', name=\"line4\")\n",
        "    pp.create_line(net, b4, b8, length_km=0.3, std_type='NA2XS2Y 1x185 RM/25 12/20 kV', name=\"line5\")\n",
        "    pp.create_line(net, b5, b9, length_km=3, std_type='94-AL1/15-ST1A 0.4', name=\"line6\")\n",
        "    pp.create_line(net, b6, b10, length_km=0.45, std_type='94-AL1/15-ST1A 0.4', name=\"line7\")\n",
        "    pp.create_line(net, b0, b11, length_km=16, std_type='149-AL1/24-ST1A 110.0', name= 'line8')\n",
        "    pp.create_line(net, b11, b1, length_km=24, std_type='149-AL1/24-ST1A 110.0', name= 'line9')\n",
        "    pp.create_line(net, b0, b12, length_km=22, std_type='149-AL1/24-ST1A 110.0', name= 'line10')\n",
        "    pp.create_line(net, b12, b2, length_km=16, std_type='149-AL1/24-ST1A 110.0', name= 'line11')\n",
        "\n",
        "# Transformateurs\n",
        "    pp.create_transformer(net, b1, b3, std_type=\"25 MVA 110/20 kV\", name=\"TR_1\")\n",
        "    pp.create_transformer(net, b2, b4, std_type=\"25 MVA 110/20 kV\", name=\"TR_2\")\n",
        "    pp.create_transformer(net, b3, b5, std_type=\"0.4 MVA 20/0.4 kV\", name=\"TR_3\")\n",
        "    pp.create_transformer(net, b4, b6, std_type=\"0.4 MVA 20/0.4 kV\", name=\"TR_4\")\n",
        "\n",
        "# Éléments de bus\n",
        "    pp.create_ext_grid(net, bus=b0, vm_pu=1.00, name=\"Grid Connection\")\n",
        "    pp.create_load(net, bus=b9, p_mw=0.02, q_mvar=0.02, name=\"Residential Load\")\n",
        "    pp.create_gen(net, bus=b10, p_mw=0.2, vm_pu=1.00, name=\"PV\", max_q_mvar=200, min_q_mvar=0, max_p_mw=300, min_p_mw=0, controllable=False)\n",
        "    pp.create_gen(net, bus=b7, p_mw=6.5, vm_pu=1.0, name=\"Wind Turbine\", controllable=False)\n",
        "    pp.create_load(net, bus=b8, p_mw=6, q_mvar=1.8, name=\"Industry\")\n",
        "    pp.create_load(net, bus=b11, p_mw=20, q_mvar=9, name=\"Datacenter\")\n",
        "    pp.create_load(net, bus=b12, p_mw=50, q_mvar=24, name=\"Big industry\")\n",
        "\n",
        "# Donner accès à net\n",
        "    return net"
      ]
    },
    {
      "cell_type": "code",
      "execution_count": 121,
      "metadata": {
        "id": "TsDt-6_lZgNj"
      },
      "outputs": [],
      "source": [
        "def create_digraph():\n",
        "  net = create_network()\n",
        "\n",
        "  import json\n",
        "  import networkx as nx\n",
        "  import matplotlib.pyplot as plt\n",
        "# 1. Conversion du réseau Pandapower en DiGraph\n",
        "# ================================\n",
        "  G = nx.DiGraph()\n",
        "\n",
        "# Créer les positions à partir de la colonne \"geo\"\n",
        "  pos = {}\n",
        "  for idx, row in net.bus.iterrows():\n",
        "  # Extraire le champ 'geo' qui est une chaîne de caractères représentant un dictionnaire JSON\n",
        "      geo_data = row['geo']\n",
        "\n",
        "  # Convertir la chaîne JSON en un dictionnaire Python\n",
        "      geo_dict = json.loads(geo_data)\n",
        "\n",
        "  # Extraire la liste des coordonnées\n",
        "      coordinates = geo_dict[\"coordinates\"]\n",
        "\n",
        "  # Ajouter les coordonnées dans le dictionnaire pos\n",
        "      pos[idx] = tuple(coordinates)  # Assigner les coordonnées sous forme de tuple\n",
        "\n",
        "# Ajouter les nœuds (avec le nom comme label) and voltage\n",
        "  for idx, row in net.bus.iterrows():\n",
        "      G.add_node(idx, label=row[\"name\"], pos=pos[idx], vn_kv=row[\"vn_kv\"])\n",
        "\n",
        "\n",
        "# Ajouter les arêtes pour les lines\n",
        "  for _, row in net.line.iterrows():\n",
        "      G.add_edge(row[\"from_bus\"], row[\"to_bus\"], type=\"line\", name=row[\"name\"], length=row[\"length_km\"])\n",
        "\n",
        "# Ajouter les arêtes pour les transformateurs\n",
        "  for _, row in net.trafo.iterrows():\n",
        "      G.add_edge(row[\"hv_bus\"], row[\"lv_bus\"], type=\"trafo\", name=row[\"name\"])\n",
        "\n",
        "# Ajouter les générateurs et les charges comme attributs aux nœuds\n",
        "  for _, row in net.gen.iterrows():\n",
        "      G.nodes[row[\"bus\"]][\"type\"] = \"gen\"\n",
        "      G.nodes[row[\"bus\"]][\"gen_name\"] = row[\"name\"]\n",
        "      G.nodes[row[\"bus\"]][\"gen_power\"] = row[\"p_mw\"]\n",
        "\n",
        "  for _, row in net.load.iterrows():\n",
        "      G.nodes[row[\"bus\"]][\"type\"] = \"load\"\n",
        "      G.nodes[row[\"bus\"]][\"load_name\"] = row[\"name\"]\n",
        "      G.nodes[row[\"bus\"]][\"load_power\"] = row[\"p_mw\"]\n",
        "\n",
        "  for _, row in net.ext_grid.iterrows():\n",
        "      G.nodes[row[\"bus\"]][\"type\"] = \"ext_grid\"\n",
        "      G.nodes[row[\"bus\"]][\"grid_name\"] = row[\"name\"]\n",
        "\n",
        "# 2. Ajout des puissances consommées et injectées aux nœuds\n",
        "# ================================\n",
        "  nx.set_node_attributes(G, 0.0, \"P_load\")\n",
        "  nx.set_node_attributes(G, 0.0, \"P_gen\")\n",
        "\n",
        "# Charges\n",
        "  for _, row in net.load.iterrows():\n",
        "      G.nodes[row[\"bus\"]][\"P_load\"] += row[\"p_mw\"]\n",
        "      print(row)\n",
        "\n",
        "# Générateurs\n",
        "  for _, row in net.gen.iterrows():\n",
        "      G.nodes[row[\"bus\"]][\"P_gen\"] += row[\"p_mw\"]\n",
        "\n",
        "# Source externe\n",
        "  for _, row in net.ext_grid.iterrows():\n",
        "      G.nodes[row[\"bus\"]][\"P_gen\"] += 0  # grande valeur symbolique\n",
        "\n",
        "# Calculate P_net\n",
        "  for n in G.nodes:\n",
        "      G.nodes[n][\"P_net\"] = G.nodes[n][\"P_gen\"] - G.nodes[n][\"P_load\"]\n",
        "\n",
        "# Create subnetworks (NetworkX DiGraphs) from the main graph G\n",
        "  network1_buses = [0, 1, 2, 11,12]\n",
        "  network2_buses = [3, 7, 5, 9, 10]\n",
        "  network3_buses = [4, 8, 6]\n",
        "\n",
        "# Assign G1 to G and then add power attributes to nodes in G\n",
        "  #G = G.subgraph(network1_buses)\n",
        "\n",
        "  for n in G.nodes:\n",
        "      G.nodes[n][\"P\"] = G.nodes[n][\"P_net\"] # Assign P_net to 'P' attribute\n",
        "\n",
        "# 3. Préparer les couleurs des nœuds en fonction de P_net\n",
        "# ================================\n",
        "  node_colors = []\n",
        "  for n, data in G.nodes(data=True):\n",
        "      if data[\"P_net\"] > 0:\n",
        "          node_colors.append(\"green\")   # producteur\n",
        "      elif data[\"P_net\"] < 0:\n",
        "          node_colors.append(\"red\")     # consommateur\n",
        "      else:\n",
        "          node_colors.append(\"gray\")    # neutre\n",
        "\n",
        "# 4. Préparer les labels : Nom + P_net\n",
        "# ================================\n",
        "  labels = {n: f\"{data['label']}\\nP={round(data['P_net'],2)}MW\"\n",
        "            for n, data in G.nodes(data=True)}\n",
        "\n",
        "# 5. Function to plot the network\n",
        "# ================================\n",
        "  def plot_network():\n",
        "      pos = nx.get_node_attributes(G, 'pos')\n",
        "\n",
        "      plt.figure(figsize=(12, 8))\n",
        "      nx.draw(\n",
        "          G, pos,\n",
        "          with_labels=True, labels=labels,\n",
        "          node_size=1200, node_color=node_colors,\n",
        "          edgecolors=\"black\", font_size=8,\n",
        "          alpha=0.85\n",
        "          )\n",
        "\n",
        "  # Labels des arêtes (type ligne ou trafo)\n",
        "      edge_labels = nx.get_edge_attributes(G, 'type')\n",
        "      nx.draw_networkx_edge_labels(G, pos, edge_labels=edge_labels, font_size=7)\n",
        "\n",
        "      plt.title(\"Réseau électrique avec puissances (P_net)\")\n",
        "      plt.axis(\"equal\")\n",
        "      plt.show()\n",
        "\n",
        "\n",
        "  return G, plot_network()"
      ]
    },
    {
      "cell_type": "code",
      "execution_count": 145,
      "metadata": {
        "colab": {
          "base_uri": "https://localhost:8080/",
          "height": 1000
        },
        "id": "lsz4h9dHZcyD",
        "outputId": "77c0206c-72b9-4b87-f7f7-c0392d1a5f20"
      },
      "outputs": [
        {
          "output_type": "stream",
          "name": "stdout",
          "text": [
            "name               Residential Load\n",
            "bus                               9\n",
            "p_mw                           0.02\n",
            "q_mvar                         0.02\n",
            "const_z_percent                 0.0\n",
            "const_i_percent                 0.0\n",
            "sn_mva                          NaN\n",
            "scaling                         1.0\n",
            "in_service                     True\n",
            "type                            wye\n",
            "Name: 0, dtype: object\n",
            "name               Industry\n",
            "bus                       8\n",
            "p_mw                    6.0\n",
            "q_mvar                  1.8\n",
            "const_z_percent         0.0\n",
            "const_i_percent         0.0\n",
            "sn_mva                  NaN\n",
            "scaling                 1.0\n",
            "in_service             True\n",
            "type                    wye\n",
            "Name: 1, dtype: object\n",
            "name               Datacenter\n",
            "bus                        11\n",
            "p_mw                     20.0\n",
            "q_mvar                    9.0\n",
            "const_z_percent           0.0\n",
            "const_i_percent           0.0\n",
            "sn_mva                    NaN\n",
            "scaling                   1.0\n",
            "in_service               True\n",
            "type                      wye\n",
            "Name: 2, dtype: object\n",
            "name               Big industry\n",
            "bus                          12\n",
            "p_mw                       50.0\n",
            "q_mvar                     24.0\n",
            "const_z_percent             0.0\n",
            "const_i_percent             0.0\n",
            "sn_mva                      NaN\n",
            "scaling                     1.0\n",
            "in_service                 True\n",
            "type                        wye\n",
            "Name: 3, dtype: object\n"
          ]
        },
        {
          "output_type": "display_data",
          "data": {
            "text/plain": [
              "<Figure size 1200x800 with 1 Axes>"
            ],
            "image/png": "[encoded data removed]"
          },
          "metadata": {}
        },
        {
          "output_type": "stream",
          "name": "stdout",
          "text": [
            "Value of G.nodes[11]['P'] after updating G: -20.0\n"
          ]
        }
      ],
      "source": [
        "G, plot_func = create_digraph()\n",
        "print(f\"Value of G.nodes[11]['P'] after updating G: {G.nodes[11]['P']}\")"
      ]
    },
    {
      "cell_type": "code",
      "execution_count": 146,
      "metadata": {
        "colab": {
          "base_uri": "https://localhost:8080/",
          "height": 859
        },
        "id": "ed_Y54iGlEeI",
        "outputId": "716a7406-40d4-4505-c0ee-6751394ef9ce"
      },
      "outputs": [
        {
          "output_type": "display_data",
          "data": {
            "text/plain": [
              "<Figure size 1200x800 with 1 Axes>"
            ],
            "image/png": "[encoded data removed]"
          },
          "metadata": {}
        }
      ],
      "source": [
        "def plot_network(G):\n",
        "      pos = nx.get_node_attributes(G, 'pos')\n",
        "\n",
        "      plt.figure(figsize=(12, 8))\n",
        "      nx.draw(\n",
        "          G, pos,\n",
        "          with_labels=True,\n",
        "          node_size=1200,\n",
        "          edgecolors=\"black\", font_size=8,\n",
        "          alpha=0.85\n",
        "          )\n",
        "\n",
        "  # Labels des arêtes (type ligne ou trafo)\n",
        "      edge_labels = nx.get_edge_attributes(G, 'type')\n",
        "      nx.draw_networkx_edge_labels(G, pos, edge_labels=edge_labels, font_size=7)\n",
        "\n",
        "      plt.title(\"Réseau électrique avec puissances (P_net)\")\n",
        "      plt.axis(\"equal\")\n",
        "      plt.show()\n",
        "\n",
        "plot_network(G)"
      ]
    },
    {
      "cell_type": "code",
      "execution_count": 182,
      "metadata": {
        "colab": {
          "base_uri": "https://localhost:8080/"
        },
        "id": "fMwbxnNdbwH-",
        "outputId": "c4bc2c58-d652-4017-98c1-255b39575bf9"
      },
      "outputs": [
        {
          "output_type": "stream",
          "name": "stdout",
          "text": [
            "-20.0\n",
            "Base Power (S_base): 100 MVA\n",
            "Base Voltage (V_base_high): 110 kV\n"
          ]
        }
      ],
      "source": [
        "\n",
        "# Define base values for the per-unit system\n",
        "s_base = 100  # MVA\n",
        "v_base_high = 110 # kV (From the create_network function)\n",
        "\n",
        "print(G.nodes[11]['P'])\n",
        "print(f\"Base Power (S_base): {s_base} MVA\")\n",
        "print(f\"Base Voltage (V_base_high): {v_base_high} kV\")"
      ]
    },
    {
      "cell_type": "code",
      "execution_count": 177,
      "metadata": {
        "colab": {
          "base_uri": "https://localhost:8080/"
        },
        "id": "j53BsRWZb9Qg",
        "outputId": "510193e7-fa3b-4007-8e1d-4461f754fd16"
      },
      "outputs": [
        {
          "output_type": "execute_result",
          "data": {
            "text/plain": [
              "0.053851648071345036"
            ]
          },
          "metadata": {},
          "execution_count": 177
        }
      ],
      "source": [
        "def length (i, j):\n",
        "    xi, yi = G.nodes[i]['pos']\n",
        "    xj, yj = G.nodes[j]['pos']\n",
        "    return (math.hypot(xi - xj, yi - yj))*10/1000  # distance euclidienne, *10/1000 (pixel/km)\n",
        "length(0, 1)"
      ]
    },
    {
      "cell_type": "code",
      "execution_count": 178,
      "metadata": {
        "colab": {
          "base_uri": "https://localhost:8080/"
        },
        "id": "R07l_GXmjVhK",
        "outputId": "8cbac905-137c-4b48-8890-4f06c6d50924"
      },
      "outputs": [
        {
          "output_type": "stream",
          "name": "stdout",
          "text": [
            "6e-06\n"
          ]
        }
      ],
      "source": [
        "#Calculate the susceptance of each line in Siemens per km\n",
        "for u, v in G.edges():\n",
        "    G[u][v]['b'] = length(u,v)* 200*10**-6\n",
        "\n",
        "print(G[u-1][v-1]['b'])"
      ]
    },
    {
      "cell_type": "code",
      "execution_count": 179,
      "metadata": {
        "id": "QfiKPOwejiQ3"
      },
      "outputs": [],
      "source": [
        "#Constant definition\n",
        "V_min = 0\n",
        "V_max = 100\n",
        "\n",
        "I_min = -50\n",
        "I_max = 50\n",
        "\n",
        "\n",
        "P_min = -1000\n",
        "P_max = 1000\n",
        "\n",
        "theta_min = -200\n",
        "theta_max = 200\n",
        "\n",
        "\n",
        "alpha = 1000\n"
      ]
    },
    {
      "cell_type": "code",
      "source": [
        "def get_node_voltage_kv(node_index):\n",
        "  \"\"\"\n",
        "  Returns the voltage (vn_kv) for a given node index from the graph.\n",
        "\n",
        "  Args:\n",
        "    node_index: The index of the node in the graph.\n",
        "\n",
        "  Returns:\n",
        "    The voltage in kV for the specified node.\n",
        "  \"\"\"\n",
        "  # Assuming 'G' is the NetworkX DiGraph object created earlier\n",
        "  # Access the 'vn_kv' attribute for the given node_index\n",
        "  return G.nodes[node_index]['vn_kv']\n",
        "\n",
        "# Example usage:\n",
        "# To get the voltage for node 0:\n",
        "# voltage_node_0 = get_node_voltage_kv(0)\n",
        "# print(f\"Voltage at node 0: {voltage_node_0} kV\")\n",
        "\n",
        "# To get the voltage for node 3:\n",
        "voltage_node_3 = get_node_voltage_kv(0)\n",
        "print(f\"Voltage at node 3: {voltage_node_3} kV\")"
      ],
      "metadata": {
        "colab": {
          "base_uri": "https://localhost:8080/"
        },
        "id": "3hJJTZQQsHHx",
        "outputId": "bd261565-144a-4213-96a1-58d736a816ff"
      },
      "execution_count": 180,
      "outputs": [
        {
          "output_type": "stream",
          "name": "stdout",
          "text": [
            "Voltage at node 3: 110.0 kV\n"
          ]
        }
      ]
    },
    {
      "cell_type": "code",
      "execution_count": 183,
      "metadata": {
        "colab": {
          "base_uri": "https://localhost:8080/"
        },
        "id": "07q_jJUiinf_",
        "outputId": "e7a6d5ab-2484-43dc-8de0-5911f9b8b03c"
      },
      "outputs": [
        {
          "output_type": "stream",
          "name": "stdout",
          "text": [
            "Base Power (S_base): 100 MVA\n",
            "Base Voltage (V_base_high): 110 kV\n",
            "0.2\n",
            "Converted power values (P) in G and m.P to per-unit.\n",
            "Converted susceptance values (b) in G edges to per-unit.\n",
            "Voltage and Current bounds assumed to be already in per-unit.\n"
          ]
        }
      ],
      "source": [
        "m = pyo.ConcreteModel()\n",
        "# Define base values for the per-unit system\n",
        "s_base = 100  # MVA\n",
        "v_base_high = 110 # kV (From the create_network function)\n",
        "\n",
        "print(f\"Base Power (S_base): {s_base} MVA\")\n",
        "print(f\"Base Voltage (V_base_high): {v_base_high} kV\")\n",
        "\n",
        "m.Nodes = pyo.Set(initialize= [b for b in G.nodes])\n",
        "m.Lines = pyo.Set(initialize= [l for l in G.edges])\n",
        "m.i = pyo.Set(initialize=[0, 1]) # Initialize m.i with two generic elements\n",
        "m.j = pyo.Set(initialize= [0, 1])\n",
        "m.children = pyo.Set(initialize= [1, 2])\n",
        "m.parents = pyo.Set(initialize = [0])\n",
        "\n",
        "m.P = pyo.Param(m.Nodes, initialize = {n: G.nodes[n].get('P') for n in G.nodes}, domain = pyo.Reals, mutable=True) # Make P mutable\n",
        "\n",
        "\n",
        "# Variables principales\n",
        "m.F = pyo.Var(m.Lines, m.i, m.j, domain=pyo.Reals)     # active power flow through lines\n",
        "m.I = pyo.Var(m.Lines,  m.i, m.j, domain=pyo.Reals)  # current flowing through lines\n",
        "m.theta = pyo.Var(m.Nodes,  m.i, m.j, domain=pyo.Reals)  # phase angle of the voltage\n",
        "m.V = pyo.Var(m.Nodes, m.i, m.j, domain=pyo.NonNegativeReals)  # voltage magnitude at each node\n",
        "m.E = pyo.Var(m.Nodes, m.i, m.j, domain=pyo.Reals) #net power injection/consumption\n",
        "m.P_plus = pyo.Var(m.parents, m.i, m.j, domain=pyo.Reals) #power entering the operational graph\n",
        "m.P_minus = pyo.Var(m.children, m.i, m.j, domain=pyo.Reals) #power leaving the operational graph\n",
        "\n",
        "m.P_C_set = pyo.Var(m.children, m.i, domain=pyo.Reals) #vertices of the power envelope at each child node\n",
        "\n",
        "#m.P_C_min = pyo.Var(m.children, m.i, m.j, domain=pyo.Reals)\n",
        "#m.P_C_max = pyo.Var(m.children, m.i, m.j,  domain=pyo.Reals)\n",
        "\n",
        "m.V_P = pyo.Param(m.j, initialize = {0: 0.9, 1: 1.1}, domain =pyo.NonNegativeReals)\n",
        "\n",
        "m.O = pyo.Var(domain= pyo.NonNegativeReals)\n",
        "\n",
        "for u in G.nodes():\n",
        "  if G.nodes[u].get('P', 0.0) / s_base == 0:\n",
        "    m.P[u] = 0.001\n",
        "  else:\n",
        "    G.nodes[u]['P_pu'] = G.nodes[u].get('P', 0.0) / s_base\n",
        "    m.P[u] = - G.nodes[u]['P_pu']\n",
        "\n",
        "\"\"\"# Convert P parameter to per-unit\n",
        "for n in G.nodes:\n",
        "    # Assuming P is in MW, convert to per-unit\n",
        "    G.nodes[n]['P'] = G.nodes[n].get('P', 0.0) / s_base\n",
        "    m.P[n] = G.nodes[n]['P']\"\"\"\n",
        "\n",
        "\n",
        "# Convert susceptance 'b' on edges to per-unit\n",
        "for u, v in G.edges():\n",
        "    # Assuming 'b' is in Siemens/km, convert to per-unit\n",
        "    # b_pu = b_actual * (V_base^2 / S_base)\n",
        "    # V_base is assumed to be v_base_high (110 kV)\n",
        "    G[u][v]['b_pu'] = G[u][v].get('b', 0.0) * (get_node_voltage_kv(u)**2 / s_base)\n",
        "print(m.P[11].value)\n",
        "print(\"Converted power values (P) in G and m.P to per-unit.\")\n",
        "print(\"Converted susceptance values (b) in G edges to per-unit.\")\n",
        "print(\"Voltage and Current bounds assumed to be already in per-unit.\")"
      ]
    },
    {
      "cell_type": "code",
      "source": [
        "for n in G.nodes:\n",
        "  print(m.P[n].value)\n",
        "m.P[1].value\n"
      ],
      "metadata": {
        "colab": {
          "base_uri": "https://localhost:8080/"
        },
        "id": "1tUFkVhBIp_x",
        "outputId": "9a1d5d0b-b787-47cb-cb0c-98ad4901db0b"
      },
      "execution_count": 184,
      "outputs": [
        {
          "output_type": "stream",
          "name": "stdout",
          "text": [
            "0.001\n",
            "0.001\n",
            "0.001\n",
            "0.001\n",
            "0.001\n",
            "0.001\n",
            "0.001\n",
            "-0.065\n",
            "0.06\n",
            "0.0002\n",
            "-0.002\n",
            "0.2\n",
            "0.5\n"
          ]
        },
        {
          "output_type": "execute_result",
          "data": {
            "text/plain": [
              "0.001"
            ]
          },
          "metadata": {},
          "execution_count": 184
        }
      ]
    },
    {
      "cell_type": "code",
      "execution_count": 185,
      "metadata": {
        "id": "lmnxCzo_aFST"
      },
      "outputs": [],
      "source": [
        "# Auxiliary variable for the absolute value of E (already defined as per-unit)\n",
        "m.z = pyo.Var(m.Nodes, m.i, m.j, domain=pyo.NonNegativeReals)\n",
        "\n",
        "m.curt = pyo.Var(m.Nodes, m.i, m.j, domain=pyo.Reals)\n",
        "\n",
        "def curtailment_def_rule(m,n, vert_pow, vert_volt):\n",
        "\n",
        "  return m.curt[n, vert_pow, vert_volt] == m.P[n] - m.E[n, vert_pow, vert_volt]\n",
        "\n",
        "m.curt_def = pyo.Constraint(m.Nodes, m.i, m.j, rule=curtailment_def_rule)\n",
        "# Constraints to define the absolute value (already defined for per-unit E)\n",
        "def abs_E_pos_rule(m, n, vert_pow, vert_volt):\n",
        "    return m.z[n, vert_pow, vert_volt] >= m.curt[n, vert_pow, vert_volt]\n",
        "m.abs_E_pos = pyo.Constraint(m.Nodes, m.i, m.j, rule=abs_E_pos_rule)\n",
        "\n",
        "def abs_E_neg_rule(m, n, vert_pow, vert_volt):\n",
        "    return m.z[n, vert_pow, vert_volt] >= -m.curt[n, vert_pow, vert_volt]\n",
        "m.abs_E_neg = pyo.Constraint(m.Nodes, m.i, m.j, rule=abs_E_neg_rule)\n",
        "\n",
        "def upper_bound_rule(m, vert_pow, vert_volt):\n",
        "    # m.z is per-unit, m.O is per-unit\n",
        "    return sum(m.z[n, vert_pow, vert_volt] for n in m.Nodes) <= m.O\n",
        "\n",
        "m.upper_bound = pyo.Constraint(m.i, m.j, rule=upper_bound_rule)\n",
        "\n",
        "# Current magnitude constraint (I_min, I_max are assumed per-unit)\n",
        "def current_bounds_rule(m, i, j, vert_pow, vert_volt):\n",
        "    # m.I is per-unit current\n",
        "    return pyo.inequality(I_min, m.I[i,j, vert_pow, vert_volt], I_max)\n",
        "m.CurrentBounds = pyo.Constraint(m.Lines, m.i, m.j, rule=current_bounds_rule)\n",
        "\n",
        "\n",
        "\n",
        "def dc_power_flow_rule(m, i, j, vert_pow, vert_volt):\n",
        "    return m.F[i, j, vert_pow, vert_volt] == - G[i][j]['b_pu'] * (\n",
        "        m.theta[i, vert_pow, vert_volt] - m.theta[j, vert_pow, vert_volt]\n",
        "    )\n",
        "\n",
        "m.DCFlow = pyo.Constraint(m.Lines, m.i, m.j, rule=dc_power_flow_rule)\n",
        "\n",
        "\n",
        "def current_def_rule(m, n, i, j, vert_pow, vert_volt):\n",
        "    # This constraint relates per-unit current, per-unit voltage, and per-unit power flow.\n",
        "    # In per-unit, P_pu = V_pu * I_pu. This is correct.\n",
        "    return m.I[i,j, vert_pow, vert_volt] * 1 == m.F[i,j, vert_pow, vert_volt]\n",
        "\n",
        "m.current_def = pyo.Constraint(m.Nodes, m.Lines, m.i, m.j, rule=current_def_rule)\n",
        "\n",
        "\n",
        "\n",
        "def nodes_balance(m, n, vert_pow, vert_volt):\n",
        "    inflow = sum(m.F[k, n, vert_pow, vert_volt] for k in G.predecessors(n) if (k, n) in m.Lines)\n",
        "    outflow = sum(m.F[n, j, vert_pow, vert_volt] for j in G.successors(n) if (n, j) in m.Lines)\n",
        "    if n in m.parents:\n",
        "      return inflow - outflow - m.P_plus[n, vert_pow, vert_volt] ==  m.E[n, vert_pow, vert_volt]\n",
        "\n",
        "\n",
        "    else:\n",
        "      return inflow - outflow ==  m.E[n,vert_pow,vert_volt]\n",
        "\n",
        "m.nodes_balance = pyo.Constraint(m.Nodes, m.i, m.j, rule=nodes_balance)\n",
        "\n",
        "\n",
        "def parent_power_constraint_rule(m, parent, vert_pow, vert_volt):\n",
        "    # m.P_plus is per-unit power entering the operational graph\n",
        "    return pyo.inequality(P_min, m.P_plus[parent, vert_pow, vert_volt], P_max)\n",
        "\n",
        "m.parent_power_constraint = pyo.Constraint(m.parents, m.i, m.j, rule=parent_power_constraint_rule)\n",
        "\n",
        "\n",
        "\n",
        "def objective_rule(m):\n",
        "  #somme = 0\n",
        "  #somme = sum(m.t[child, i] for child in m.children for i in m.i)\n",
        "  somme = 0\n",
        "  somme = sum(m.P_plus[parent, i, j] for parent in m.parents for i in m.i for j in m.j)\n",
        "  return  - alpha * m.O + somme\n",
        "\n",
        "m.objective = pyo.Objective(rule=objective_rule, sense=pyo.maximize)"
      ]
    },
    {
      "cell_type": "code",
      "execution_count": 186,
      "metadata": {
        "colab": {
          "base_uri": "https://localhost:8080/"
        },
        "id": "-mZTkvu9jn1c",
        "outputId": "fbffd2b7-cfaf-4618-b2be-dc7bd85c46dd"
      },
      "outputs": [
        {
          "output_type": "stream",
          "name": "stdout",
          "text": [
            "Set parameter WLSAccessID\n",
            "Set parameter WLSSecret\n",
            "Set parameter LicenseID to value 2651433\n",
            "Academic license 2651433 - for non-commercial use only - registered to an___@student.uliege.be\n",
            "Read LP format model from file /tmp/tmp6y4ot065.pyomo.lp\n",
            "Reading time = 0.00 seconds\n",
            "x1: 1180 rows, 333 columns, 2412 nonzeros\n",
            "Gurobi Optimizer version 12.0.3 build v12.0.3rc0 (linux64 - \"Ubuntu 22.04.4 LTS\")\n",
            "\n",
            "CPU model: AMD EPYC 7B12, instruction set [SSE2|AVX|AVX2]\n",
            "Thread count: 1 physical cores, 2 logical processors, using up to 2 threads\n",
            "\n",
            "Optimize a model with 1180 rows, 333 columns and 2412 nonzeros\n",
            "Model fingerprint: 0xb5cf2f1a\n",
            "Coefficient statistics:\n",
            "  Matrix range     [6e-09, 1e+00]\n",
            "  Objective range  [1e+00, 1e+03]\n",
            "  Bounds range     [0e+00, 0e+00]\n",
            "  RHS range        [2e-04, 1e+03]\n",
            "Presolve removed 1060 rows and 216 columns\n",
            "Presolve time: 0.00s\n",
            "Presolved: 120 rows, 117 columns, 444 nonzeros\n",
            "\n",
            "Iteration    Objective       Primal Inf.    Dual Inf.      Time\n",
            "       0    4.0000000e+03   7.414064e+02   0.000000e+00      0s\n",
            "      56   -2.8008000e+00   0.000000e+00   0.000000e+00      0s\n",
            "\n",
            "Solved in 56 iterations and 0.00 seconds (0.00 work units)\n",
            "Optimal objective -2.800800000e+00\n",
            "Solver terminated with condition: optimal\n",
            "\n",
            "Problem: \n",
            "- Name: x1\n",
            "  Lower bound: -2.8008\n",
            "  Upper bound: -2.8008\n",
            "  Number of objectives: 1\n",
            "  Number of constraints: 1180\n",
            "  Number of variables: 333\n",
            "  Number of binary variables: 0\n",
            "  Number of integer variables: 0\n",
            "  Number of continuous variables: 333\n",
            "  Number of nonzeros: 2412\n",
            "  Sense: maximize\n",
            "Solver: \n",
            "- Status: ok\n",
            "  Return code: 0\n",
            "  Message: Model was solved to optimality (subject to tolerances), and an optimal solution is available.\n",
            "  Termination condition: optimal\n",
            "  Termination message: Model was solved to optimality (subject to tolerances), and an optimal solution is available.\n",
            "  Wall time: 0.0036919116973876953\n",
            "  Error rc: 0\n",
            "Solution: \n",
            "- number of solutions: 0\n",
            "  number of solutions displayed: 0\n",
            "\n"
          ]
        }
      ],
      "source": [
        "# Résolution\n",
        "# -------------------------\n",
        "# Create an environment with your WLS license\n",
        "params = {\n",
        "    \"WLSACCESSID\": 'efa10779-150a-495c-ab62-6a20ff44c598',\n",
        "    \"WLSSECRET\": 'fa980d94-a6fd-4d7b-aa68-b0e19ddd2e84',\n",
        "    \"LICENSEID\": 2651433,\n",
        "}\n",
        "env = gp.Env(params=params)\n",
        "solver = pyo.SolverFactory('gurobi', env= env)\n",
        "\n",
        "# Solve the model\n",
        "results = solver.solve(m, tee=True)\n",
        "\n",
        "# Check the termination condition\n",
        "if results.solver.termination_condition == pyo.TerminationCondition.infeasible:\n",
        "    print(\"The model is infeasible.\")\n",
        "elif results.solver.termination_condition == pyo.TerminationCondition.unbounded:\n",
        "    print(\"The model is unbounded.\")\n",
        "elif results.solver.termination_condition == pyo.TerminationCondition.infeasibleOrUnbounded:\n",
        "    print(\"The model is infeasible or unbounded.\")\n",
        "else:\n",
        "    print(\"Solver terminated with condition:\", results.solver.termination_condition)\n",
        "    # Print the results (optional, but good practice)\n",
        "    print(results)"
      ]
    },
    {
      "cell_type": "code",
      "execution_count": 187,
      "metadata": {
        "colab": {
          "base_uri": "https://localhost:8080/"
        },
        "id": "Zd4uqbCig5UO",
        "outputId": "57e4721a-1c25-4b86-cfd6-a536a6c30826"
      },
      "outputs": [
        {
          "output_type": "stream",
          "name": "stdout",
          "text": [
            "0.001\n",
            "0.001\n",
            "0.2\n",
            "0.2\n",
            "0.5\n",
            "0.5\n"
          ]
        }
      ],
      "source": [
        "print(m.E[0,0,0].value)\n",
        "print(m.E[0,0,1].value)\n",
        "\n",
        "print(m.E[11,0,0].value)\n",
        "print(m.E[11,0,1].value)\n",
        "\n",
        "print(m.E[12,0,0].value)\n",
        "print(m.E[12,0,1].value)"
      ]
    },
    {
      "cell_type": "code",
      "source": [
        "print(m.F[0,11,0,0].value)\n",
        "print(m.F[0,11,0,1].value)"
      ],
      "metadata": {
        "colab": {
          "base_uri": "https://localhost:8080/"
        },
        "id": "NENTSxfa9uvF",
        "outputId": "2fa714a7-47ea-46c6-97a8-820782fd52bb"
      },
      "execution_count": 188,
      "outputs": [
        {
          "output_type": "stream",
          "name": "stdout",
          "text": [
            "0.1217125574976038\n",
            "0.1217125574976038\n"
          ]
        }
      ]
    },
    {
      "cell_type": "code",
      "source": [],
      "metadata": {
        "id": "IkgOu2o19_zB"
      },
      "execution_count": 49,
      "outputs": []
    },
    {
      "cell_type": "code",
      "source": [
        "print(m.theta[0,0,0].value)\n",
        "print(m.theta[0,0,1].value)\n",
        "\n",
        "print(m.theta[11,0,0].value)\n",
        "print(m.theta[11,0,1].value)"
      ],
      "metadata": {
        "colab": {
          "base_uri": "https://localhost:8080/"
        },
        "id": "CYApfTOsxcQq",
        "outputId": "f58ed2f8-2f51-4846-a477-60959992e8fe"
      },
      "execution_count": 189,
      "outputs": [
        {
          "output_type": "stream",
          "name": "stdout",
          "text": [
            "0.0\n",
            "0.0\n",
            "177.81771645064714\n",
            "177.81771645064714\n"
          ]
        }
      ]
    },
    {
      "cell_type": "code",
      "execution_count": 190,
      "metadata": {
        "colab": {
          "base_uri": "https://localhost:8080/"
        },
        "id": "_4ZROnYa5l-w",
        "outputId": "6c5a9773-7044-4b34-e740-9f9c0390b50c"
      },
      "outputs": [
        {
          "output_type": "execute_result",
          "data": {
            "text/plain": [
              "0.0"
            ]
          },
          "metadata": {},
          "execution_count": 190
        }
      ],
      "source": [
        "\n",
        "m.O.value\n"
      ]
    },
    {
      "cell_type": "code",
      "source": [
        "m.P[0].value"
      ],
      "metadata": {
        "colab": {
          "base_uri": "https://localhost:8080/"
        },
        "id": "yCYL-7dT264A",
        "outputId": "458c693d-dbb3-4930-d6a2-85e911927575"
      },
      "execution_count": 173,
      "outputs": [
        {
          "output_type": "execute_result",
          "data": {
            "text/plain": [
              "0.001"
            ]
          },
          "metadata": {},
          "execution_count": 173
        }
      ]
    },
    {
      "cell_type": "code",
      "source": [
        "m.P_plus[0,0,1].value"
      ],
      "metadata": {
        "colab": {
          "base_uri": "https://localhost:8080/"
        },
        "id": "bafVltiQb3l1",
        "outputId": "e5574335-d555-424c-c006-0d338b8975e2"
      },
      "execution_count": 191,
      "outputs": [
        {
          "output_type": "execute_result",
          "data": {
            "text/plain": [
              "-0.7002"
            ]
          },
          "metadata": {},
          "execution_count": 191
        }
      ]
    },
    {
      "cell_type": "code",
      "source": [
        "for (u,v) in m.Lines:\n",
        "  print((u,v))"
      ],
      "metadata": {
        "colab": {
          "base_uri": "https://localhost:8080/"
        },
        "id": "Cz27heJDAltP",
        "outputId": "cd191613-3742-4aa5-fcb0-5859fecfeb17"
      },
      "execution_count": 118,
      "outputs": [
        {
          "output_type": "stream",
          "name": "stdout",
          "text": [
            "(0, 1)\n",
            "(0, 2)\n",
            "(0, 11)\n",
            "(0, 12)\n",
            "(1, 2)\n",
            "(11, 1)\n",
            "(12, 2)\n"
          ]
        }
      ]
    },
    {
      "cell_type": "code",
      "source": [
        "# Corrected loop structure to iterate over m.Lines\n",
        "for (u, v) in m.Lines:\n",
        "  for vert_pow in m.i:\n",
        "    for vert_volt in m.j:\n",
        "      if m.F[u, v, vert_pow, vert_volt].value != 0.0:\n",
        "        print(f\"Flow on line ({u}, {v}) for i={vert_pow}, j={vert_volt}: {m.F[u, v, vert_pow, vert_volt].value}\")\n",
        "\n",
        "# Access a specific flow value using correct indexing\n",
        "if m.F[5, 9, 0, 0].value is not None:\n",
        "    print(f\"Flow on line (5, 9) for i=0, j=0: {m.F[0, 2, 0, 0].value}\")\n",
        "else:\n",
        "    print(\"Flow on line (0, 2) for i=0, j=0 is None.\")\n",
        "\n",
        "if m.F[11, 1, 0, 0].value is not None:\n",
        "    print(f\"Flow on line (11, 1) for i=0, j=0: {m.F[0, 2, 0, 0].value}\")\n",
        "else:\n",
        "    print(\"Flow on line (11, 1) for i=0, j=0 is None.\")\n",
        "\n",
        "print(G.nodes[11]['P_pu'])"
      ],
      "metadata": {
        "colab": {
          "base_uri": "https://localhost:8080/"
        },
        "id": "uWWCqNgMmZ9T",
        "outputId": "e93b7d02-9fcd-4869-8811-cbcece4ad0af"
      },
      "execution_count": 193,
      "outputs": [
        {
          "output_type": "stream",
          "name": "stdout",
          "text": [
            "Flow on line (0, 1) for i=0, j=0: 0.09120354544088473\n",
            "Flow on line (0, 1) for i=0, j=1: 0.09120354544088473\n",
            "Flow on line (0, 1) for i=1, j=0: 0.09120354544088473\n",
            "Flow on line (0, 1) for i=1, j=1: 0.09120354544088473\n",
            "Flow on line (0, 2) for i=0, j=0: 0.1917931774585315\n",
            "Flow on line (0, 2) for i=0, j=1: 0.1917931774585315\n",
            "Flow on line (0, 2) for i=1, j=0: 0.1917931774585315\n",
            "Flow on line (0, 2) for i=1, j=1: 0.1917931774585315\n",
            "Flow on line (0, 11) for i=0, j=0: 0.1217125574976038\n",
            "Flow on line (0, 11) for i=0, j=1: 0.1217125574976038\n",
            "Flow on line (0, 11) for i=1, j=0: 0.1217125574976038\n",
            "Flow on line (0, 11) for i=1, j=1: 0.1217125574976038\n",
            "Flow on line (0, 12) for i=0, j=0: 0.29449071960298\n",
            "Flow on line (0, 12) for i=0, j=1: 0.29449071960298\n",
            "Flow on line (0, 12) for i=1, j=0: 0.29449071960298\n",
            "Flow on line (0, 12) for i=1, j=1: 0.29449071960298\n",
            "Flow on line (1, 2) for i=0, j=0: 0.07471610293848849\n",
            "Flow on line (1, 2) for i=0, j=1: 0.07471610293848849\n",
            "Flow on line (1, 2) for i=1, j=0: 0.07471610293848849\n",
            "Flow on line (1, 2) for i=1, j=1: 0.07471610293848849\n",
            "Flow on line (1, 3) for i=0, j=0: -0.0628\n",
            "Flow on line (1, 3) for i=0, j=1: -0.0628\n",
            "Flow on line (1, 3) for i=1, j=0: -0.0628\n",
            "Flow on line (1, 3) for i=1, j=1: -0.0628\n",
            "Flow on line (2, 4) for i=0, j=0: 0.06\n",
            "Flow on line (2, 4) for i=0, j=1: 0.06\n",
            "Flow on line (2, 4) for i=1, j=0: 0.06\n",
            "Flow on line (2, 4) for i=1, j=1: 0.06\n",
            "Flow on line (3, 7) for i=0, j=0: -0.065\n",
            "Flow on line (3, 7) for i=0, j=1: -0.065\n",
            "Flow on line (3, 7) for i=1, j=0: -0.065\n",
            "Flow on line (3, 7) for i=1, j=1: -0.065\n",
            "Flow on line (3, 5) for i=0, j=0: 0.0012000000000000001\n",
            "Flow on line (3, 5) for i=0, j=1: 0.0012000000000000001\n",
            "Flow on line (3, 5) for i=1, j=0: 0.0012000000000000001\n",
            "Flow on line (3, 5) for i=1, j=1: 0.0012000000000000001\n",
            "Flow on line (4, 8) for i=0, j=0: 0.06\n",
            "Flow on line (4, 8) for i=0, j=1: 0.06\n",
            "Flow on line (4, 8) for i=1, j=0: 0.06\n",
            "Flow on line (4, 8) for i=1, j=1: 0.06\n",
            "Flow on line (4, 6) for i=0, j=0: -0.001\n",
            "Flow on line (4, 6) for i=0, j=1: -0.001\n",
            "Flow on line (4, 6) for i=1, j=0: -0.001\n",
            "Flow on line (4, 6) for i=1, j=1: -0.001\n",
            "Flow on line (5, 9) for i=0, j=0: 0.0002\n",
            "Flow on line (5, 9) for i=0, j=1: 0.0002\n",
            "Flow on line (5, 9) for i=1, j=0: 0.0002\n",
            "Flow on line (5, 9) for i=1, j=1: 0.0002\n",
            "Flow on line (6, 10) for i=0, j=0: -0.002\n",
            "Flow on line (6, 10) for i=0, j=1: -0.002\n",
            "Flow on line (6, 10) for i=1, j=0: -0.002\n",
            "Flow on line (6, 10) for i=1, j=1: -0.002\n",
            "Flow on line (11, 1) for i=0, j=0: -0.0782874425023962\n",
            "Flow on line (11, 1) for i=0, j=1: -0.0782874425023962\n",
            "Flow on line (11, 1) for i=1, j=0: -0.0782874425023962\n",
            "Flow on line (11, 1) for i=1, j=1: -0.0782874425023962\n",
            "Flow on line (12, 2) for i=0, j=0: -0.20550928039702\n",
            "Flow on line (12, 2) for i=0, j=1: -0.20550928039702\n",
            "Flow on line (12, 2) for i=1, j=0: -0.20550928039702\n",
            "Flow on line (12, 2) for i=1, j=1: -0.20550928039702\n",
            "Flow on line (5, 9) for i=0, j=0: 0.1917931774585315\n",
            "Flow on line (11, 1) for i=0, j=0: 0.1917931774585315\n",
            "-0.2\n"
          ]
        }
      ]
    },
    {
      "cell_type": "code",
      "metadata": {
        "colab": {
          "base_uri": "https://localhost:8080/",
          "height": 859
        },
        "id": "d9217975",
        "outputId": "3c7ff308-827f-4416-f0db-941b80f5ce30"
      },
      "source": [
        "def plot_power_flow(m, i, j):\n",
        "    pos = nx.get_node_attributes(G, 'pos')\n",
        "    # Use node indices as labels\n",
        "    labels = {n: n for n in G.nodes()}\n",
        "\n",
        "    plt.figure(figsize=(12, 8))\n",
        "\n",
        "    edge_colors = []\n",
        "    edge_labels = {}\n",
        "\n",
        "    for u, v in G.edges():\n",
        "        try:\n",
        "            # Correct the sign of the flow value for plotting\n",
        "            flow_value = m.F[u, v, i, j].value\n",
        "            if flow_value is not None:\n",
        "                edge_labels[(u, v)] = f\"{round(flow_value, 4)}\"\n",
        "                if flow_value > 0:\n",
        "                    edge_colors.append('blue')  # Positive flow (now correctly represents flow from u to v)\n",
        "                elif flow_value < 0:\n",
        "                    edge_colors.append('red')  # Negative (reverse) flow (now correctly represents flow from v to u)\n",
        "                else:\n",
        "                    edge_colors.append('gray') # No flow\n",
        "            else:\n",
        "                edge_colors.append('gray') # No flow value\n",
        "        except:\n",
        "            edge_colors.append('gray') # Handle cases where edge might not be in m.F\n",
        "\n",
        "    nx.draw(\n",
        "        G, pos,\n",
        "        with_labels=True, labels=labels, # Set with_labels to True and pass node indices as labels\n",
        "        node_size=1200,\n",
        "        edge_color=edge_colors, # Use the calculated edge colors\n",
        "        edgecolors=\"black\", font_size=8,\n",
        "        alpha=0.85\n",
        "    )\n",
        "\n",
        "    nx.draw_networkx_edge_labels(G, pos, edge_labels=edge_labels, font_size=7, label_pos=0.3)\n",
        "\n",
        "    plt.title(f\"Power Flow (per-unit) for i={i}, j={j}\")\n",
        "    plt.axis(\"equal\")\n",
        "    plt.show()\n",
        "\n",
        "# Example usage (assuming m, i=0, and j=0 are defined)\n",
        "plot_power_flow(m, 0, 0)"
      ],
      "execution_count": 192,
      "outputs": [
        {
          "output_type": "display_data",
          "data": {
            "text/plain": [
              "<Figure size 1200x800 with 1 Axes>"
            ],
            "image/png": "[encoded data removed]"
          },
          "metadata": {}
        }
      ]
    }
  ],
  "metadata": {
    "colab": {
      "provenance": []
    },
    "kernelspec": {
      "display_name": "Python 3",
      "name": "python3"
    },
    "language_info": {
      "name": "python"
    }
  },
  "nbformat": 4,
  "nbformat_minor": 0
}
