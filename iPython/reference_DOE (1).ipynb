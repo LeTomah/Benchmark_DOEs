{
  "cells": [
    {
      "cell_type": "code",
      "execution_count": null,
      "metadata": {
        "colab": {
          "base_uri": "https://localhost:8080/"
        },
        "id": "QGfrTCDFYVcc",
        "outputId": "6b8cd121-67b2-4bde-b26f-6fdb298b7162"
      },
      "outputs": [
        {
          "output_type": "stream",
          "name": "stdout",
          "text": [
            "Requirement already satisfied: pyomo in /usr/local/lib/python3.11/dist-packages (6.9.3)\n",
            "Requirement already satisfied: ply in /usr/local/lib/python3.11/dist-packages (from pyomo) (3.11)\n",
            "--2025-08-15 09:08:13--  https://people.montefiore.uliege.be/cornelusse/utils/ampl.linux-intel64.zip\n",
            "Resolving people.montefiore.uliege.be (people.montefiore.uliege.be)... 139.165.57.148\n",
            "Connecting to people.montefiore.uliege.be (people.montefiore.uliege.be)|139.165.57.148|:443... connected.\n",
            "HTTP request sent, awaiting response... 200 OK\n",
            "Length: 17486900 (17M) [application/zip]\n",
            "Saving to: ‘ampl.linux-intel64.zip’\n",
            "\n",
            "ampl.linux-intel64. 100%[===================>]  16.68M  12.5MB/s    in 1.3s    \n",
            "\n",
            "2025-08-15 09:08:16 (12.5 MB/s) - ‘ampl.linux-intel64.zip’ saved [17486900/17486900]\n",
            "\n",
            "Archive:  /content/ampl.linux-intel64.zip\n",
            "   creating: ampl.linux-intel64/\n",
            "  inflating: __MACOSX/._ampl.linux-intel64  \n",
            "  inflating: ampl.linux-intel64/.DS_Store  \n",
            "  inflating: __MACOSX/ampl.linux-intel64/._.DS_Store  \n",
            "  inflating: ampl.linux-intel64/libOsiClp.so.1  \n",
            "  inflating: __MACOSX/ampl.linux-intel64/._libOsiClp.so.1  \n",
            "  inflating: ampl.linux-intel64/metadata.json  \n",
            "  inflating: __MACOSX/ampl.linux-intel64/._metadata.json  \n",
            "  inflating: ampl.linux-intel64/ipopt  \n",
            "  inflating: __MACOSX/ampl.linux-intel64/._ipopt  \n",
            "  inflating: ampl.linux-intel64/couenne  \n",
            "  inflating: __MACOSX/ampl.linux-intel64/._couenne  \n",
            "   creating: ampl.linux-intel64/docs/\n",
            "  inflating: __MACOSX/ampl.linux-intel64/._docs  \n",
            "  inflating: ampl.linux-intel64/coin-license.txt  \n",
            "  inflating: __MACOSX/ampl.linux-intel64/._coin-license.txt  \n",
            "  inflating: ampl.linux-intel64/cbc  \n",
            "  inflating: __MACOSX/ampl.linux-intel64/._cbc  \n",
            "  inflating: ampl.linux-intel64/libCoinUtils.so.3  \n",
            "  inflating: __MACOSX/ampl.linux-intel64/._libCoinUtils.so.3  \n",
            "  inflating: ampl.linux-intel64/libClpSolver.so.1  \n",
            "  inflating: __MACOSX/ampl.linux-intel64/._libClpSolver.so.1  \n",
            "  inflating: ampl.linux-intel64/libCbc.so.3  \n",
            "  inflating: __MACOSX/ampl.linux-intel64/._libCbc.so.3  \n",
            "  inflating: ampl.linux-intel64/libOsi.so.1  \n",
            "  inflating: __MACOSX/ampl.linux-intel64/._libOsi.so.1  \n",
            "  inflating: ampl.linux-intel64/bonmin  \n",
            "  inflating: __MACOSX/ampl.linux-intel64/._bonmin  \n",
            "  inflating: ampl.linux-intel64/libCbcSolver.so.3  \n",
            "  inflating: __MACOSX/ampl.linux-intel64/._libCbcSolver.so.3  \n",
            "  inflating: ampl.linux-intel64/libCgl.so.1  \n",
            "  inflating: __MACOSX/ampl.linux-intel64/._libCgl.so.1  \n",
            "  inflating: ampl.linux-intel64/libClp.so.1  \n",
            "  inflating: __MACOSX/ampl.linux-intel64/._libClp.so.1  \n",
            "  inflating: ampl.linux-intel64/coin-versions.txt  \n",
            "  inflating: __MACOSX/ampl.linux-intel64/._coin-versions.txt  \n",
            "  inflating: ampl.linux-intel64/docs/CHANGES.cbc.md  \n",
            "  inflating: __MACOSX/ampl.linux-intel64/docs/._CHANGES.cbc.md  \n",
            "  inflating: ampl.linux-intel64/docs/README.cbc.txt  \n",
            "  inflating: __MACOSX/ampl.linux-intel64/docs/._README.cbc.txt  \n"
          ]
        }
      ],
      "source": [
        "!pip install pyomo\n",
        "!wget https://people.montefiore.uliege.be/cornelusse/utils/ampl.linux-intel64.zip\n",
        "!unzip /content/ampl.linux-intel64.zip\n",
        "!chmod +x /content/ampl.linux-intel64/ipopt # To make sure it can be executed\n",
        "!chmod +x /content/ampl.linux-intel64/cbc # To make sure it can be executed"
      ]
    },
    {
      "cell_type": "code",
      "execution_count": null,
      "metadata": {
        "colab": {
          "base_uri": "https://localhost:8080/"
        },
        "id": "LbyGibqGY4fo",
        "outputId": "203ebc19-5748-457d-8560-2bdaf4922a34"
      },
      "outputs": [
        {
          "output_type": "stream",
          "name": "stdout",
          "text": [
            "Collecting pandapower\n",
            "  Downloading pandapower-3.1.2-py3-none-any.whl.metadata (8.6 kB)\n",
            "Requirement already satisfied: pandas>=1.0 in /usr/local/lib/python3.11/dist-packages (from pandapower) (2.2.2)\n",
            "Requirement already satisfied: networkx>=2.5 in /usr/local/lib/python3.11/dist-packages (from pandapower) (3.5)\n",
            "Requirement already satisfied: scipy in /usr/local/lib/python3.11/dist-packages (from pandapower) (1.16.1)\n",
            "Requirement already satisfied: numpy in /usr/local/lib/python3.11/dist-packages (from pandapower) (2.0.2)\n",
            "Requirement already satisfied: packaging in /usr/local/lib/python3.11/dist-packages (from pandapower) (25.0)\n",
            "Requirement already satisfied: tqdm in /usr/local/lib/python3.11/dist-packages (from pandapower) (4.67.1)\n",
            "Collecting deepdiff (from pandapower)\n",
            "  Downloading deepdiff-8.6.0-py3-none-any.whl.metadata (8.3 kB)\n",
            "Collecting geojson (from pandapower)\n",
            "  Downloading geojson-3.2.0-py3-none-any.whl.metadata (16 kB)\n",
            "Requirement already satisfied: lxml in /usr/local/lib/python3.11/dist-packages (from pandapower) (5.4.0)\n",
            "Requirement already satisfied: typing_extensions~=4.9 in /usr/local/lib/python3.11/dist-packages (from pandapower) (4.14.1)\n",
            "Requirement already satisfied: python-dateutil>=2.8.2 in /usr/local/lib/python3.11/dist-packages (from pandas>=1.0->pandapower) (2.9.0.post0)\n",
            "Requirement already satisfied: pytz>=2020.1 in /usr/local/lib/python3.11/dist-packages (from pandas>=1.0->pandapower) (2025.2)\n",
            "Requirement already satisfied: tzdata>=2022.7 in /usr/local/lib/python3.11/dist-packages (from pandas>=1.0->pandapower) (2025.2)\n",
            "Collecting orderly-set<6,>=5.4.1 (from deepdiff->pandapower)\n",
            "  Downloading orderly_set-5.5.0-py3-none-any.whl.metadata (6.6 kB)\n",
            "Requirement already satisfied: six>=1.5 in /usr/local/lib/python3.11/dist-packages (from python-dateutil>=2.8.2->pandas>=1.0->pandapower) (1.17.0)\n",
            "Downloading pandapower-3.1.2-py3-none-any.whl (5.4 MB)\n",
            "\u001b[2K   \u001b[90m━━━━━━━━━━━━━━━━━━━━━━━━━━━━━━━━━━━━━━━━\u001b[0m \u001b[32m5.4/5.4 MB\u001b[0m \u001b[31m41.2 MB/s\u001b[0m eta \u001b[36m0:00:00\u001b[0m\n",
            "\u001b[?25hDownloading deepdiff-8.6.0-py3-none-any.whl (91 kB)\n",
            "\u001b[2K   \u001b[90m━━━━━━━━━━━━━━━━━━━━━━━━━━━━━━━━━━━━━━━━\u001b[0m \u001b[32m91.1/91.1 kB\u001b[0m \u001b[31m6.4 MB/s\u001b[0m eta \u001b[36m0:00:00\u001b[0m\n",
            "\u001b[?25hDownloading geojson-3.2.0-py3-none-any.whl (15 kB)\n",
            "Downloading orderly_set-5.5.0-py3-none-any.whl (13 kB)\n",
            "Installing collected packages: orderly-set, geojson, deepdiff, pandapower\n",
            "Successfully installed deepdiff-8.6.0 geojson-3.2.0 orderly-set-5.5.0 pandapower-3.1.2\n"
          ]
        }
      ],
      "source": [
        "!pip install pandapower --upgrade"
      ]
    },
    {
      "cell_type": "code",
      "execution_count": null,
      "metadata": {
        "colab": {
          "base_uri": "https://localhost:8080/"
        },
        "id": "-iPKRO96Y55g",
        "outputId": "17ffd223-ef8d-433a-9e34-f7a66e18fc5c"
      },
      "outputs": [
        {
          "output_type": "stream",
          "name": "stdout",
          "text": [
            "Requirement already satisfied: networkx in /usr/local/lib/python3.11/dist-packages (3.5)\n"
          ]
        }
      ],
      "source": [
        "!pip install networkx"
      ]
    },
    {
      "cell_type": "code",
      "execution_count": null,
      "metadata": {
        "id": "EPL5WGadZAxK",
        "colab": {
          "base_uri": "https://localhost:8080/"
        },
        "outputId": "8ee739b2-9e34-4d78-80f9-d5e14f6796d2"
      },
      "outputs": [
        {
          "output_type": "stream",
          "name": "stdout",
          "text": [
            "Collecting gurobipy\n",
            "  Downloading gurobipy-12.0.3-cp311-cp311-manylinux2014_x86_64.manylinux_2_17_x86_64.whl.metadata (16 kB)\n",
            "Downloading gurobipy-12.0.3-cp311-cp311-manylinux2014_x86_64.manylinux_2_17_x86_64.whl (14.5 MB)\n",
            "\u001b[2K   \u001b[90m━━━━━━━━━━━━━━━━━━━━━━━━━━━━━━━━━━━━━━━━\u001b[0m \u001b[32m14.5/14.5 MB\u001b[0m \u001b[31m58.5 MB/s\u001b[0m eta \u001b[36m0:00:00\u001b[0m\n",
            "\u001b[?25hInstalling collected packages: gurobipy\n",
            "Successfully installed gurobipy-12.0.3\n"
          ]
        }
      ],
      "source": [
        "!pip install gurobipy  # install gurobipy, if not already installed"
      ]
    },
    {
      "cell_type": "code",
      "execution_count": null,
      "metadata": {
        "id": "7E5MxejmZJUb"
      },
      "outputs": [],
      "source": [
        "import gurobipy as gp\n",
        "import time\n",
        "import pandas as pd\n",
        "import xarray as xr\n",
        "import networkx as nx\n",
        "import matplotlib.pyplot as plt\n",
        "import numpy as np\n",
        "from dataclasses import dataclass\n",
        "import pyomo.environ as pyo\n",
        "import math\n",
        "import pandapower as pp\n",
        "\n",
        "\n",
        "# Create a new graph\n",
        "G = nx.DiGraph()"
      ]
    },
    {
      "cell_type": "code",
      "execution_count": null,
      "metadata": {
        "id": "0CffUDPBZT7m"
      },
      "outputs": [],
      "source": [
        "def create_network():\n",
        "\n",
        "    import pandapower as pp\n",
        "\n",
        "# Crée le réseau\n",
        "    net = pp.create_empty_network()\n",
        "\n",
        "# Bases\n",
        "    Pbase = 100  # MVA\n",
        "    Vbase_high = 110  # kV\n",
        "    Vbase_medium = 20  # kV\n",
        "    Vbase_low = 0.4  # kV\n",
        "\n",
        "# Buses\n",
        "    b0 = pp.create_bus(net, vn_kv=Vbase_high, name=\"Bus grid\", geodata=(0,10))\n",
        "    b1 = pp.create_bus(net, vn_kv=Vbase_high, name=\"DSO 1\", geodata=(5,12))\n",
        "    b2 = pp.create_bus(net, vn_kv=Vbase_high, name=\"DSO 2\", geodata=(5,8))\n",
        "    b3 = pp.create_bus(net, vn_kv=Vbase_medium, name=\"Bus MV_1\", geodata=(10,12))\n",
        "    b4 = pp.create_bus(net, vn_kv=Vbase_medium, name=\"Bus MV_2\", geodata=(10,8))\n",
        "    b5 = pp.create_bus(net, vn_kv=Vbase_low, name=\"Bus LV_1\", geodata=(15,12))\n",
        "    b6 = pp.create_bus(net, vn_kv=Vbase_low, name=\"Bus LV_2\", geodata=(15,8))\n",
        "    b7 = pp.create_bus(net, vn_kv=Vbase_medium, name=\"Bus éolien\", geodata=(10,14))\n",
        "    b8 = pp.create_bus(net, vn_kv=Vbase_medium, name=\"Bus industriel\", geodata=(10,10))\n",
        "    b9 = pp.create_bus(net, vn_kv=Vbase_low, name=\"Bus load\", geodata=(15,14))\n",
        "    b10 = pp.create_bus(net, vn_kv=Vbase_low, name=\"Bus PV\", geodata=(15,10))\n",
        "    b11 = pp.create_bus(net, vn_kv=Vbase_high, name=\"TSO 1\", geodata=(2,12))\n",
        "    b12 = pp.create_bus(net, vn_kv=Vbase_high, name=\"TSO 2\", geodata=(2,8))\n",
        "\n",
        "# Lignes\n",
        "    pp.create_line(net, b0, b1, length_km=12, std_type='149-AL1/24-ST1A 110.0', name=\"line1\")\n",
        "    pp.create_line(net, b1, b2, length_km=10, std_type='149-AL1/24-ST1A 110.0', name=\"line2\")\n",
        "    pp.create_line(net, b0, b2, length_km=10, std_type='149-AL1/24-ST1A 110.0', name=\"line3\")\n",
        "    pp.create_line(net, b3, b7, length_km=0.23, std_type='NA2XS2Y 1x185 RM/25 12/20 kV', name=\"line4\")\n",
        "    pp.create_line(net, b4, b8, length_km=0.3, std_type='NA2XS2Y 1x185 RM/25 12/20 kV', name=\"line5\")\n",
        "    pp.create_line(net, b5, b9, length_km=3, std_type='94-AL1/15-ST1A 0.4', name=\"line6\")\n",
        "    pp.create_line(net, b6, b10, length_km=0.45, std_type='94-AL1/15-ST1A 0.4', name=\"line7\")\n",
        "    pp.create_line(net, b0, b11, length_km=16, std_type='149-AL1/24-ST1A 110.0', name= 'line8')\n",
        "    pp.create_line(net, b11, b1, length_km=24, std_type='149-AL1/24-ST1A 110.0', name= 'line9')\n",
        "    pp.create_line(net, b0, b12, length_km=22, std_type='149-AL1/24-ST1A 110.0', name= 'line10')\n",
        "    pp.create_line(net, b12, b2, length_km=16, std_type='149-AL1/24-ST1A 110.0', name= 'line11')\n",
        "\n",
        "# Transformateurs\n",
        "    pp.create_transformer(net, b1, b3, std_type=\"25 MVA 110/20 kV\", name=\"TR_1\")\n",
        "    pp.create_transformer(net, b2, b4, std_type=\"25 MVA 110/20 kV\", name=\"TR_2\")\n",
        "    pp.create_transformer(net, b3, b5, std_type=\"0.4 MVA 20/0.4 kV\", name=\"TR_3\")\n",
        "    pp.create_transformer(net, b4, b6, std_type=\"0.4 MVA 20/0.4 kV\", name=\"TR_4\")\n",
        "\n",
        "# Éléments de bus\n",
        "    pp.create_ext_grid(net, bus=b0, vm_pu=1.00, name=\"Grid Connection\")\n",
        "    pp.create_load(net, bus=b9, p_mw=0.02, q_mvar=0.02, name=\"Residential Load\")\n",
        "    pp.create_gen(net, bus=b10, p_mw=0.2, vm_pu=1.00, name=\"PV\", max_q_mvar=200, min_q_mvar=0, max_p_mw=300, min_p_mw=0, controllable=False)\n",
        "    pp.create_gen(net, bus=b7, p_mw=6.5, vm_pu=1.0, name=\"Wind Turbine\", controllable=False)\n",
        "    pp.create_load(net, bus=b8, p_mw=6, q_mvar=1.8, name=\"Industry\")\n",
        "    pp.create_load(net, bus=b11, p_mw=20, q_mvar=9, name=\"Datacenter\")\n",
        "    pp.create_load(net, bus=b12, p_mw=50, q_mvar=24, name=\"Big industry\")\n",
        "\n",
        "# Donner accès à net\n",
        "    return net"
      ]
    },
    {
      "cell_type": "code",
      "execution_count": null,
      "metadata": {
        "id": "TsDt-6_lZgNj"
      },
      "outputs": [],
      "source": [
        "def create_digraph():\n",
        "  net = create_network()\n",
        "\n",
        "  import json\n",
        "  import networkx as nx\n",
        "  import matplotlib.pyplot as plt\n",
        "# 1. Conversion du réseau Pandapower en DiGraph\n",
        "# ================================\n",
        "  G = nx.DiGraph()\n",
        "\n",
        "# Créer les positions à partir de la colonne \"geo\"\n",
        "  pos = {}\n",
        "  for idx, row in net.bus.iterrows():\n",
        "  # Extraire le champ 'geo' qui est une chaîne de caractères représentant un dictionnaire JSON\n",
        "      geo_data = row['geo']\n",
        "\n",
        "  # Convertir la chaîne JSON en un dictionnaire Python\n",
        "      geo_dict = json.loads(geo_data)\n",
        "\n",
        "  # Extraire la liste des coordonnées\n",
        "      coordinates = geo_dict[\"coordinates\"]\n",
        "\n",
        "  # Ajouter les coordonnées dans le dictionnaire pos\n",
        "      pos[idx] = tuple(coordinates)  # Assigner les coordonnées sous forme de tuple\n",
        "\n",
        "# Ajouter les nœuds (avec le nom comme label) and voltage\n",
        "  for idx, row in net.bus.iterrows():\n",
        "      G.add_node(idx, label=row[\"name\"], pos=pos[idx], vn_kv=row[\"vn_kv\"])\n",
        "\n",
        "\n",
        "# Ajouter les arêtes pour les lines\n",
        "  for _, row in net.line.iterrows():\n",
        "      G.add_edge(row[\"from_bus\"], row[\"to_bus\"], type=\"line\", name=row[\"name\"], length=row[\"length_km\"], std_type=row[\"std_type\"])\n",
        "\n",
        "# Ajouter les arêtes pour les transformateurs\n",
        "  for _, row in net.trafo.iterrows():\n",
        "      G.add_edge(row[\"hv_bus\"], row[\"lv_bus\"], type=\"trafo\", name=row[\"name\"], std_type = None)\n",
        "\n",
        "# Ajouter les générateurs et les charges comme attributs aux nœuds\n",
        "  for _, row in net.gen.iterrows():\n",
        "      G.nodes[row[\"bus\"]][\"type\"] = \"gen\"\n",
        "      G.nodes[row[\"bus\"]][\"gen_name\"] = row[\"name\"]\n",
        "      G.nodes[row[\"bus\"]][\"gen_power\"] = row[\"p_mw\"]\n",
        "\n",
        "  for _, row in net.load.iterrows():\n",
        "      G.nodes[row[\"bus\"]][\"type\"] = \"load\"\n",
        "      G.nodes[row[\"bus\"]][\"load_name\"] = row[\"name\"]\n",
        "      G.nodes[row[\"bus\"]][\"load_power\"] = row[\"p_mw\"]\n",
        "\n",
        "  for _, row in net.ext_grid.iterrows():\n",
        "      G.nodes[row[\"bus\"]][\"type\"] = \"ext_grid\"\n",
        "      G.nodes[row[\"bus\"]][\"grid_name\"] = row[\"name\"]\n",
        "\n",
        "# 2. Ajout des puissances consommées et injectées aux nœuds\n",
        "# ================================\n",
        "  nx.set_node_attributes(G, 0.0, \"P_load\")\n",
        "  nx.set_node_attributes(G, 0.0, \"P_gen\")\n",
        "\n",
        "# Charges\n",
        "  for _, row in net.load.iterrows():\n",
        "      G.nodes[row[\"bus\"]][\"P_load\"] += row[\"p_mw\"]\n",
        "      print(row)\n",
        "\n",
        "# Générateurs\n",
        "  for _, row in net.gen.iterrows():\n",
        "      G.nodes[row[\"bus\"]][\"P_gen\"] += row[\"p_mw\"]\n",
        "\n",
        "# Source externe\n",
        "  for _, row in net.ext_grid.iterrows():\n",
        "      G.nodes[row[\"bus\"]][\"P_gen\"] += 0\n",
        "\n",
        "# Calculate P_net\n",
        "  for n in G.nodes:\n",
        "      G.nodes[n][\"P_net\"] = G.nodes[n][\"P_gen\"] - G.nodes[n][\"P_load\"]\n",
        "\n",
        "# Create subnetworks (NetworkX DiGraphs) from the main graph G\n",
        "  network1_buses = [0, 1, 2, 11,12]\n",
        "  network2_buses = [3, 7, 5, 9, 10]\n",
        "  network3_buses = [4, 8, 6]\n",
        "\n",
        "# Assign G1 to G and then add power attributes to nodes in G\n",
        "  #G = G.subgraph(network1_buses)\n",
        "\n",
        "  for n in G.nodes:\n",
        "      G.nodes[n][\"P\"] = G.nodes[n][\"P_net\"] # Assign P_net to 'P' attribute\n",
        "\n",
        "# 3. Préparer les couleurs des nœuds en fonction de P_net\n",
        "# ================================\n",
        "  node_colors = []\n",
        "  for n, data in G.nodes(data=True):\n",
        "      if data[\"P_net\"] > 0:\n",
        "          node_colors.append(\"green\")   # producteur\n",
        "      elif data[\"P_net\"] < 0:\n",
        "          node_colors.append(\"red\")     # consommateur\n",
        "      else:\n",
        "          node_colors.append(\"gray\")    # neutre\n",
        "\n",
        "# 4. Préparer les labels : Nom + P_net\n",
        "# ================================\n",
        "  labels = {n: f\"{data['label']}\\nP={round(data['P_net'],2)}MW\"\n",
        "            for n, data in G.nodes(data=True)}\n",
        "\n",
        "# 5. Function to plot the network\n",
        "# ================================\n",
        "  def plot_network():\n",
        "      pos = nx.get_node_attributes(G, 'pos')\n",
        "\n",
        "      plt.figure(figsize=(12, 8))\n",
        "      nx.draw(\n",
        "          G, pos,\n",
        "          with_labels=True, labels=labels,\n",
        "          node_size=1200, node_color=node_colors,\n",
        "          edgecolors=\"black\", font_size=8,\n",
        "          alpha=0.85\n",
        "          )\n",
        "\n",
        "  # Labels des arêtes (type ligne ou trafo)\n",
        "      edge_labels = nx.get_edge_attributes(G, 'type')\n",
        "      nx.draw_networkx_edge_labels(G, pos, edge_labels=edge_labels, font_size=7)\n",
        "\n",
        "      plt.title(\"Réseau électrique avec puissances (P_net)\")\n",
        "      plt.axis(\"equal\")\n",
        "      plt.show()\n",
        "\n",
        "\n",
        "  return G, plot_network()"
      ]
    },
    {
      "cell_type": "code",
      "execution_count": null,
      "metadata": {
        "colab": {
          "base_uri": "https://localhost:8080/",
          "height": 1000
        },
        "id": "lsz4h9dHZcyD",
        "outputId": "cba85a05-4c1d-4d8f-af77-2f7d65ffa976"
      },
      "outputs": [
        {
          "output_type": "stream",
          "name": "stdout",
          "text": [
            "name               Residential Load\n",
            "bus                               9\n",
            "p_mw                           0.02\n",
            "q_mvar                         0.02\n",
            "const_z_percent                 0.0\n",
            "const_i_percent                 0.0\n",
            "sn_mva                          NaN\n",
            "scaling                         1.0\n",
            "in_service                     True\n",
            "type                            wye\n",
            "Name: 0, dtype: object\n",
            "name               Industry\n",
            "bus                       8\n",
            "p_mw                    6.0\n",
            "q_mvar                  1.8\n",
            "const_z_percent         0.0\n",
            "const_i_percent         0.0\n",
            "sn_mva                  NaN\n",
            "scaling                 1.0\n",
            "in_service             True\n",
            "type                    wye\n",
            "Name: 1, dtype: object\n",
            "name               Datacenter\n",
            "bus                        11\n",
            "p_mw                     20.0\n",
            "q_mvar                    9.0\n",
            "const_z_percent           0.0\n",
            "const_i_percent           0.0\n",
            "sn_mva                    NaN\n",
            "scaling                   1.0\n",
            "in_service               True\n",
            "type                      wye\n",
            "Name: 2, dtype: object\n",
            "name               Big industry\n",
            "bus                          12\n",
            "p_mw                       50.0\n",
            "q_mvar                     24.0\n",
            "const_z_percent             0.0\n",
            "const_i_percent             0.0\n",
            "sn_mva                      NaN\n",
            "scaling                     1.0\n",
            "in_service                 True\n",
            "type                        wye\n",
            "Name: 3, dtype: object\n"
          ]
        },
        {
          "output_type": "display_data",
          "data": {
            "text/plain": [
              "<Figure size 1200x800 with 1 Axes>"
            ],
            "image/png": "[encoded data removed]"
          },
          "metadata": {}
        },
        {
          "output_type": "stream",
          "name": "stdout",
          "text": [
            "Value of G.nodes[11]['P'] after updating G: -20.0\n"
          ]
        }
      ],
      "source": [
        "G, plot_func = create_digraph()\n",
        "print(f\"Value of G.nodes[11]['P'] after updating G: {G.nodes[11]['P']}\")"
      ]
    },
    {
      "cell_type": "code",
      "execution_count": null,
      "metadata": {
        "colab": {
          "base_uri": "https://localhost:8080/",
          "height": 785
        },
        "id": "ed_Y54iGlEeI",
        "outputId": "89a6d498-6649-4d18-d092-ffa04d17aec8"
      },
      "outputs": [
        {
          "output_type": "display_data",
          "data": {
            "text/plain": [
              "<Figure size 1200x800 with 1 Axes>"
            ],
            "image/png": "[encoded data removed]"
          },
          "metadata": {}
        }
      ],
      "source": [
        "def plot_network(G):\n",
        "      pos = nx.get_node_attributes(G, 'pos')\n",
        "\n",
        "      plt.figure(figsize=(12, 8))\n",
        "      nx.draw(\n",
        "          G, pos,\n",
        "          with_labels=True,\n",
        "          node_size=1200,\n",
        "          edgecolors=\"black\", font_size=8,\n",
        "          alpha=0.85\n",
        "          )\n",
        "\n",
        "  # Labels des arêtes (type ligne ou trafo)\n",
        "      edge_labels = nx.get_edge_attributes(G, 'type')\n",
        "      nx.draw_networkx_edge_labels(G, pos, edge_labels=edge_labels, font_size=7)\n",
        "\n",
        "      plt.title(\"Réseau électrique avec puissances (P_net)\")\n",
        "      plt.axis(\"equal\")\n",
        "      plt.show()\n",
        "\n",
        "plot_network(G)"
      ]
    },
    {
      "cell_type": "code",
      "execution_count": null,
      "metadata": {
        "colab": {
          "base_uri": "https://localhost:8080/"
        },
        "id": "fMwbxnNdbwH-",
        "outputId": "2ee538af-095e-4ab0-a5e1-61501ecad434"
      },
      "outputs": [
        {
          "output_type": "stream",
          "name": "stdout",
          "text": [
            "Base Power (S_base): 100 MVA\n",
            "Base Voltage (V_base_high): 110 kV\n",
            "Base Current (I_base_high): 0.524863881081478 kA\n",
            "Base Impedance (Z_base_high): 121.0 ohms\n",
            "Base Susceptance (B_base_high): 0.008264462809917356 Siemens\n"
          ]
        }
      ],
      "source": [
        "# Define base values for the per-unit system\n",
        "s_base = 100  # MVA\n",
        "\n",
        "\n",
        "v_base_high = 110 # kV (From the create_network function)\n",
        "\n",
        "# Calculate base current (I_base)\n",
        "# S_base = V_base * I_base (for single phase, or sqrt(3)*V_base*I_base for three phase)\n",
        "# Assuming three-phase system: I_base = S_base / (sqrt(3) * V_base)\n",
        "i_base_high = s_base / (math.sqrt(3) * v_base_high) # kA\n",
        "\n",
        "# Calculate base impedance (Z_base)\n",
        "# Z_base = V_base^2 / S_base\n",
        "z_base_high = v_base_high**2 / s_base # ohms\n",
        "\n",
        "# Calculate base susceptance (B_base)\n",
        "# B_base = 1 / Z_base = S_base / V_base^2\n",
        "b_base_high = s_base / v_base_high**2 # Siemens\n",
        "\n",
        "print(f\"Base Power (S_base): {s_base} MVA\")\n",
        "print(f\"Base Voltage (V_base_high): {v_base_high} kV\")\n",
        "print(f\"Base Current (I_base_high): {i_base_high} kA\")\n",
        "print(f\"Base Impedance (Z_base_high): {z_base_high} ohms\")\n",
        "print(f\"Base Susceptance (B_base_high): {b_base_high} Siemens\")"
      ]
    },
    {
      "cell_type": "code",
      "source": [
        "# Define the maximum current in kA\n",
        "I_max_kA = 0.47\n",
        "\n",
        "# Get the base current in kA from the previous calculation\n",
        "# Assuming i_base_high is the relevant base current for the lines in the model\n",
        "I_base_kA = i_base_high\n",
        "\n",
        "# Calculate the upper bound for current in per-unit\n",
        "I_max_pu = I_max_kA / I_base_kA\n",
        "\n",
        "# The lower bound for current is the negative of the upper bound, assuming symmetrical limits\n",
        "I_min_pu = -I_max_pu\n",
        "\n",
        "print(f\"Maximum Current (kA): {I_max_kA}\")\n",
        "print(f\"Base Current (kA): {I_base_kA}\")\n",
        "print(f\"Upper bound for current (per-unit): {I_max_pu}\")\n",
        "print(f\"Lower bound for current (per-unit): {I_min_pu}\")\n",
        "\n",
        "# Update the Pyomo model's bounds if they are defined globally or need to be updated\n",
        "# Assuming I_min and I_max are global variables used in the Pyomo model definition\n",
        "I_min = I_min_pu\n",
        "I_max = I_max_pu\n",
        "\n",
        "print(\"\\nUpdated global current bounds (per-unit):\")\n",
        "print(f\"I_min: {I_min}\")\n",
        "print(f\"I_max: {I_max}\")"
      ],
      "metadata": {
        "colab": {
          "base_uri": "https://localhost:8080/"
        },
        "id": "zYD3uPFbZhkR",
        "outputId": "989bb668-0d7e-4f01-82a1-bebf8f90fded"
      },
      "execution_count": null,
      "outputs": [
        {
          "output_type": "stream",
          "name": "stdout",
          "text": [
            "Maximum Current (kA): 0.47\n",
            "Base Current (kA): 0.524863881081478\n",
            "Upper bound for current (per-unit): 0.8954702675131095\n",
            "Lower bound for current (per-unit): -0.8954702675131095\n",
            "\n",
            "Updated global current bounds (per-unit):\n",
            "I_min: -0.8954702675131095\n",
            "I_max: 0.8954702675131095\n"
          ]
        }
      ]
    },
    {
      "cell_type": "code",
      "source": [
        "def calculate_current_bounds(line_type, v_base):\n",
        "    \"\"\"\n",
        "    Calculates the upper and lower bounds for current in per-unit\n",
        "    based on the line type's maximum current capacity.\n",
        "\n",
        "    Args:\n",
        "        line_type (str): The type of the transmission line.\n",
        "        i_base_kA (float): The base current in kA for the system.\n",
        "\n",
        "    Returns:\n",
        "        tuple: A tuple containing (I_min_pu, I_max_pu).\n",
        "               Returns (None, None) if the line type is not found.\n",
        "    \"\"\"\n",
        "    # Define a dictionary mapping line types to their maximum current capacity in kA\n",
        "    # NOTE: This is a placeholder. You should populate this dictionary\n",
        "    # with the actual maximum current capacities for your line types.\n",
        "    i_base_kA = s_base / (math.sqrt(3) * v_base) # kA\n",
        "\n",
        "\n",
        "    line_type_max_current_kA = {\n",
        "        '149-AL1/24-ST1A 110.0': 0.47, # Example value for 110 kV lines\n",
        "        'NA2XS2Y 1x185 RM/25 12/20 kV': 0.3, # Example value for 20 kV lines\n",
        "        '94-AL1/15-ST1A 0.4': 0.15 # Example value for 0.4 kV lines\n",
        "    }\n",
        "\n",
        "    if line_type in line_type_max_current_kA:\n",
        "        I_max_kA = line_type_max_current_kA[line_type]\n",
        "\n",
        "        # Calculate the upper bound for current in per-unit\n",
        "        I_max_pu = I_max_kA / i_base_kA\n",
        "\n",
        "        # The lower bound for current is the negative of the upper bound\n",
        "        I_min_pu = -I_max_pu\n",
        "\n",
        "        return I_min_pu, I_max_pu, i_base_kA\n",
        "\n",
        "    elif line_type == None:\n",
        "        return -1000, 1000\n",
        "    else:\n",
        "        return None, None\n",
        "\n",
        "# Example usage (assuming i_base_high is already defined):\n",
        "line1_type = '149-AL1/24-ST1A 110.0'\n",
        "I_min_line1, I_max_line1, i_base_kA = calculate_current_bounds(line1_type, i_base_high)\n",
        "\n",
        "# line4_type = 'NA2XS2Y 1x185 RM/25 12/20 kV'\n",
        "# I_min_line4, I_max_line4 = calculate_current_bounds(line4_type, i_base_high)\n",
        "# print(f\"\\nCurrent bounds for {line4_type}: [{I_min_line4}, {I_max_line4}]\")"
      ],
      "metadata": {
        "id": "2-rr_L1RhTYm"
      },
      "execution_count": null,
      "outputs": []
    },
    {
      "cell_type": "code",
      "execution_count": null,
      "metadata": {
        "colab": {
          "base_uri": "https://localhost:8080/"
        },
        "id": "j53BsRWZb9Qg",
        "outputId": "0f6c2aaf-3500-40e7-f9a6-c14ef49eb9db"
      },
      "outputs": [
        {
          "output_type": "execute_result",
          "data": {
            "text/plain": [
              "0.053851648071345036"
            ]
          },
          "metadata": {},
          "execution_count": 13
        }
      ],
      "source": [
        "def length (i, j):\n",
        "    xi, yi = G.nodes[i]['pos']\n",
        "    xj, yj = G.nodes[j]['pos']\n",
        "    return (math.hypot(xi - xj, yi - yj))*10/1000  # distance euclidienne, *10/1000 (pixel/km)\n",
        "length(0, 1)"
      ]
    },
    {
      "cell_type": "code",
      "execution_count": null,
      "metadata": {
        "colab": {
          "base_uri": "https://localhost:8080/"
        },
        "id": "R07l_GXmjVhK",
        "outputId": "6be38543-2cc6-4de7-a4d3-a31cfdde67b6"
      },
      "outputs": [
        {
          "output_type": "stream",
          "name": "stdout",
          "text": [
            "0.010770329614269008\n",
            "0.010770329614269008\n",
            "0.005656854249492381\n",
            "0.005656854249492381\n",
            "0.008\n",
            "0.009999999999999998\n",
            "0.009999999999999998\n",
            "0.004\n",
            "0.009999999999999998\n",
            "0.004\n",
            "0.009999999999999998\n",
            "0.004\n",
            "0.004\n",
            "0.006\n",
            "0.006\n"
          ]
        }
      ],
      "source": [
        "#Calculate the susceptance of each line in Siemens per km\n",
        "strange = 1000\n",
        "for u, v in G.edges():\n",
        "    G[u][v]['b'] = length(u,v)* 200*10**-6 *strange\n",
        "    print(G[u][v]['b'])\n"
      ]
    },
    {
      "cell_type": "code",
      "execution_count": null,
      "metadata": {
        "id": "QfiKPOwejiQ3"
      },
      "outputs": [],
      "source": [
        "#Constant definition\n",
        "V_min = 0.9\n",
        "V_max = 1.1\n",
        "\n",
        "\n",
        "P_min = -1.5\n",
        "P_max = 1.5\n",
        "\n",
        "theta_min = -180\n",
        "theta_max = 180\n",
        "\n",
        "\n",
        "alpha = 1\n"
      ]
    },
    {
      "cell_type": "code",
      "source": [
        "def get_base_node_voltage_kv(node_index):\n",
        "  \"\"\"\n",
        "  Returns the voltage (vn_kv) for a given node index from the graph.\n",
        "\n",
        "  Args:\n",
        "    node_index: The index of the node in the graph.\n",
        "\n",
        "  Returns:\n",
        "    The voltage in kV for the specified node.\n",
        "  \"\"\"\n",
        "  # Assuming 'G' is the NetworkX DiGraph object created earlier\n",
        "  # Access the 'vn_kv' attribute for the given node_index\n",
        "  return G.nodes[node_index]['vn_kv']\n",
        "\n",
        "# Example usage:\n",
        "# To get the voltage for node 0:\n",
        "# voltage_node_0 = get_node_voltage_kv(0)\n",
        "# print(f\"Voltage at node 0: {voltage_node_0} kV\")\n",
        "\n",
        "# To get the voltage for node 3:\n",
        "voltage_node_3 = get_base_node_voltage_kv(0)\n",
        "print(f\"Voltage at node 3: {voltage_node_3} kV\")"
      ],
      "metadata": {
        "colab": {
          "base_uri": "https://localhost:8080/"
        },
        "id": "3hJJTZQQsHHx",
        "outputId": "ca9fd13c-3453-4e65-a0e1-ebc8d5f7dcd6"
      },
      "execution_count": null,
      "outputs": [
        {
          "output_type": "stream",
          "name": "stdout",
          "text": [
            "Voltage at node 3: 110.0 kV\n"
          ]
        }
      ]
    },
    {
      "cell_type": "code",
      "source": [
        "m = pyo.ConcreteModel()\n",
        "# Define base values for the per-unit system\n",
        "s_base = 100  # MVA\n",
        "v_base_high = 110 # kV (From the create_network function)\n",
        "\n",
        "m.Nodes = pyo.Set(initialize= [b for b in G.nodes])\n",
        "m.Lines = pyo.Set(initialize= [l for l in G.edges])\n",
        "m.i = pyo.Set(initialize=[0, 1]) # Initialize m.i with two generic elements\n",
        "m.j = pyo.Set(initialize= [0, 1])\n",
        "#m.children = pyo.Set(initialize= [1, 2])\n",
        "m.parents = pyo.Set(initialize = [0])\n",
        "\n",
        "m.P = pyo.Param(m.Nodes, initialize = {n: - G.nodes[n].get('P') for n in G.nodes}, domain = pyo.Reals, mutable=True) # Make P mutable\n",
        "\n",
        "m.I_min = pyo.Param(m.Lines, initialize = {(i,j): calculate_current_bounds(G.edges[i,j][\"std_type\"], get_base_node_voltage_kv(i))[0] for (i,j) in m.Lines}, domain = pyo.Reals)\n",
        "m.I_max = pyo.Param(m.Lines, initialize = {(i,j): calculate_current_bounds(G.edges[i,j][\"std_type\"], get_base_node_voltage_kv(i))[1] for (i,j) in m.Lines}, domain = pyo.Reals)\n",
        "\n",
        "print(m.I_min[(0,1)])\n",
        "print(m.I_max[(0,1)])\n",
        "\n",
        "# Variables principales\n",
        "m.F = pyo.Var(m.Lines, m.i, m.j, domain=pyo.Reals)     # active power flow through lines\n",
        "m.I = pyo.Var(m.Lines,  m.i, m.j, domain=pyo.Reals)  # current flowing through lines\n",
        "m.theta = pyo.Var(m.Nodes,  m.i, m.j, domain=pyo.Reals)  # phase angle of the voltage\n",
        "m.V = pyo.Var(m.Nodes, m.i, m.j, domain=pyo.NonNegativeReals)  # voltage magnitude at each node\n",
        "m.E = pyo.Var(m.Nodes, m.i, m.j, domain=pyo.Reals) #net power injection/consumption\n",
        "m.P_plus = pyo.Var(m.parents, m.i, m.j, domain=pyo.Reals) #power entering the operational graph\n",
        "#m.P_minus = pyo.Var(m.children, m.i, m.j, domain=pyo.Reals) #power leaving the operational graph\n",
        "\n",
        "#m.P_C_set = pyo.Var(m.children, m.i, domain=pyo.Reals) #vertices of the power envelope at each child node\n",
        "\n",
        "#m.P_C_min = pyo.Var(m.children, m.i, m.j, domain=pyo.Reals)\n",
        "#m.P_C_max = pyo.Var(m.children, m.i, m.j,  domain=pyo.Reals)\n",
        "\n",
        "m.V_P = pyo.Param(m.j, initialize = {0: 0.9, 1: 1.1}, domain =pyo.NonNegativeReals)\n",
        "\n",
        "m.O = pyo.Var(domain= pyo.NonNegativeReals)\n",
        "\n",
        "for u in G.nodes():\n",
        "  if G.nodes[u].get('P', 0.0) == 0:\n",
        "    m.P[u] = 0\n",
        "  else:\n",
        "    G.nodes[u]['P_pu'] = G.nodes[u].get('P', 0.0) / s_base\n",
        "    m.P[u] = - G.nodes[u]['P_pu']\n",
        "\n",
        "\"\"\"# Convert P parameter to per-unit\n",
        "for n in G.nodes:\n",
        "    # Assuming P is in MW, convert to per-unit\n",
        "    G.nodes[n]['P'] = G.nodes[n].get('P', 0.0) / s_base\n",
        "    m.P[n] = G.nodes[n]['P']\"\"\"\n",
        "\n",
        "\n",
        "# Convert susceptance 'b' on edges to per-unit\n",
        "for u, v in G.edges():\n",
        "    # Assuming 'b' is in Siemens/km, convert to per-unit\n",
        "    # b_pu = b_actual * (V_base^2 / S_base)\n",
        "    # V_base is assumed to be v_base_high (110 kV)\n",
        "    G[u][v]['b_pu'] = G[u][v].get('b', 0.0) * (get_base_node_voltage_kv(u)**2 / s_base)\n",
        "    print(G[u][v]['b_pu'])"
      ],
      "metadata": {
        "colab": {
          "base_uri": "https://localhost:8080/"
        },
        "id": "HTqnXtXvSvfm",
        "outputId": "84456f08-080e-4a43-ad3c-152e9c117e9e"
      },
      "execution_count": null,
      "outputs": [
        {
          "output_type": "stream",
          "name": "stdout",
          "text": [
            "-0.8954702675131095\n",
            "0.8954702675131095\n",
            "1.30320988332655\n",
            "1.30320988332655\n",
            "0.6844793641885781\n",
            "0.6844793641885781\n",
            "0.968\n",
            "1.2099999999999997\n",
            "1.2099999999999997\n",
            "0.016\n",
            "0.039999999999999994\n",
            "0.016\n",
            "0.039999999999999994\n",
            "6.400000000000001e-06\n",
            "6.400000000000001e-06\n",
            "0.726\n",
            "0.726\n"
          ]
        }
      ]
    },
    {
      "cell_type": "code",
      "source": [
        "for n in G.nodes:\n",
        "  print(m.P[n].value)\n",
        "m.P[1].value\n"
      ],
      "metadata": {
        "colab": {
          "base_uri": "https://localhost:8080/"
        },
        "id": "V5tKjSt7wHAo",
        "outputId": "4748df59-c90e-487b-db18-4a218e2f9409"
      },
      "execution_count": null,
      "outputs": [
        {
          "output_type": "stream",
          "name": "stdout",
          "text": [
            "0\n",
            "0\n",
            "0\n",
            "0\n",
            "0\n",
            "0\n",
            "0\n",
            "-0.065\n",
            "0.06\n",
            "0.0002\n",
            "-0.002\n",
            "0.2\n",
            "0.5\n"
          ]
        },
        {
          "output_type": "execute_result",
          "data": {
            "text/plain": [
              "0"
            ]
          },
          "metadata": {},
          "execution_count": 18
        }
      ]
    },
    {
      "cell_type": "code",
      "source": [
        "\n",
        "\n",
        "# Auxiliary variable for the absolute value of E (already defined as per-unit)\n",
        "m.z = pyo.Var(m.Nodes, m.i, m.j, domain=pyo.NonNegativeReals)\n",
        "\n",
        "m.curt = pyo.Var(m.Nodes, m.i, m.j, domain=pyo.Reals)\n",
        "\n",
        "def curtailment_def_rule(m,n, vert_pow, vert_volt):\n",
        "\n",
        "  return m.curt[n, vert_pow, vert_volt] == m.P[n] - m.E[n, vert_pow, vert_volt]\n",
        "\n",
        "m.curt_def = pyo.Constraint(m.Nodes, m.i, m.j, rule=curtailment_def_rule)\n",
        "# Constraints to define the absolute value (already defined for per-unit E)\n",
        "def abs_E_pos_rule(m, n, vert_pow, vert_volt):\n",
        "    return m.z[n, vert_pow, vert_volt] >= m.curt[n, vert_pow, vert_volt]\n",
        "m.abs_E_pos = pyo.Constraint(m.Nodes, m.i, m.j, rule=abs_E_pos_rule)\n",
        "\n",
        "def abs_E_neg_rule(m, n, vert_pow, vert_volt):\n",
        "    return m.z[n, vert_pow, vert_volt] >= -m.curt[n, vert_pow, vert_volt]\n",
        "m.abs_E_neg = pyo.Constraint(m.Nodes, m.i, m.j, rule=abs_E_neg_rule)\n",
        "\n",
        "def upper_bound_rule(m, vert_pow, vert_volt):\n",
        "    # m.z is per-unit, m.O is per-unit\n",
        "    return sum(m.z[n, vert_pow, vert_volt] for n in m.Nodes) <= m.O\n",
        "\n",
        "m.upper_bound = pyo.Constraint(m.i, m.j, rule=upper_bound_rule)\n",
        "\n",
        "# Current magnitude constraint (I_min, I_max are assumed per-unit)\n",
        "def current_bounds_rule(m, i, j, vert_pow, vert_volt):\n",
        "    # m.I is per-unit current\n",
        "    return pyo.inequality(-1, m.I[i,j, vert_pow, vert_volt], 1)\n",
        "m.CurrentBounds = pyo.Constraint(m.Lines, m.i, m.j, rule=current_bounds_rule)\n",
        "\n",
        "def phase_constr_rule(m,n, vert_pow, vert_volt):\n",
        "    return pyo.inequality(theta_min*2, m.theta[n, vert_pow, vert_volt], theta_max*2)\n",
        "\n",
        "m.phaseConstr = pyo.Constraint(m.Nodes, m.i, m.j, rule=phase_constr_rule)\n",
        "\n",
        "def dc_power_flow_rule(m, i, j, vert_pow, vert_volt):\n",
        "    return m.F[i, j, vert_pow, vert_volt] == m.V_P[vert_volt]**2 *(G[i][j]['b_pu'] * (\n",
        "        m.theta[i, vert_pow, vert_volt] - m.theta[j, vert_pow, vert_volt])\n",
        "    )\n",
        "\n",
        "m.DCFlow = pyo.Constraint(m.Lines, m.i, m.j, rule=dc_power_flow_rule)\n",
        "\n",
        "\n",
        "def current_def_rule(m, n, i, j, vert_pow, vert_volt):\n",
        "    # This constraint relates per-unit current, per-unit voltage, and per-unit power flow.\n",
        "    # In per-unit, P_pu = V_pu * I_pu. This is correct.\n",
        "    return m.I[i,j, vert_pow, vert_volt] * m.V_P[vert_volt] == m.F[i,j, vert_pow, vert_volt]\n",
        "\n",
        "m.current_def = pyo.Constraint(m.Nodes, m.Lines, m.i, m.j, rule=current_def_rule)\n",
        "\n",
        "\n",
        "\n",
        "def nodes_balance(m, n, vert_pow, vert_volt):\n",
        "    inflow = sum(m.F[k, n, vert_pow, vert_volt] for k in G.predecessors(n) if (k, n) in m.Lines)\n",
        "    outflow = sum(m.F[n, j, vert_pow, vert_volt] for j in G.successors(n) if (n, j) in m.Lines)\n",
        "    if n in m.parents:\n",
        "      return inflow - outflow  ==  m.E[n, vert_pow, vert_volt] - m.P_plus[n, vert_pow, vert_volt]\n",
        "\n",
        "    else:\n",
        "      return inflow - outflow ==  m.E[n,vert_pow,vert_volt]\n",
        "\n",
        "m.nodes_balance = pyo.Constraint(m.Nodes, m.i, m.j, rule=nodes_balance)\n",
        "\n",
        "\n",
        "def parent_power_constraint_rule(m, parent, vert_pow, vert_volt):\n",
        "    # m.P_plus is per-unit power entering the operational graph\n",
        "    return pyo.inequality(-2, m.P_plus[parent, vert_pow, vert_volt], 2)\n",
        "\n",
        "m.parent_power_constraint = pyo.Constraint(m.parents, m.i, m.j, rule=parent_power_constraint_rule)\n",
        "\n",
        "#Constant voltage assumption\n",
        "def voltage_constr_rule(m, n, vert_pow, vert_volt):\n",
        "    return m.V[n, vert_pow, vert_volt] == m.V_P[vert_volt]\n",
        "\n",
        "m.voltageConstr = pyo.Constraint(m.Nodes, m.i, m.j, rule=voltage_constr_rule)\n",
        "\n",
        "\n",
        "\n",
        "\n",
        "def test_rule(m):\n",
        "  return m.O == 0\n",
        "m.test = pyo.Constraint(rule=test_rule)\n",
        "\"\"\"# Auxiliary variables for the L1 norm of P_C_set\n",
        "m.abs_P_C_set = pyo.Var(m.children, domain=pyo.NonNegativeReals)\n",
        "\n",
        "# Constraints to linearize the L1 norm of P_C_set\n",
        "def abs_P_C_set_pos_rule(m, n):\n",
        "    return m.abs_P_C_set[n] >= m.aux[n]\n",
        "m.abs_P_C_set_pos = pyo.Constraint(m.children, rule=abs_P_C_set_pos_rule)\n",
        "\n",
        "def abs_P_C_set_neg_rule(m, n):\n",
        "    return m.abs_P_C_set[n] >= -m.aux[n]\n",
        "m.abs_P_C_set_neg = pyo.Constraint(m.children, rule=abs_P_C_set_neg_rule)\"\"\""
      ],
      "metadata": {
        "colab": {
          "base_uri": "https://localhost:8080/",
          "height": 90
        },
        "id": "1mMmPNdfXW3S",
        "outputId": "0fc9b219-43cd-4b88-da0e-4f9ebc15a4bb"
      },
      "execution_count": null,
      "outputs": [
        {
          "output_type": "execute_result",
          "data": {
            "text/plain": [
              "'# Auxiliary variables for the L1 norm of P_C_set\\nm.abs_P_C_set = pyo.Var(m.children, domain=pyo.NonNegativeReals)\\n\\n# Constraints to linearize the L1 norm of P_C_set\\ndef abs_P_C_set_pos_rule(m, n):\\n    return m.abs_P_C_set[n] >= m.aux[n]\\nm.abs_P_C_set_pos = pyo.Constraint(m.children, rule=abs_P_C_set_pos_rule)\\n\\ndef abs_P_C_set_neg_rule(m, n):\\n    return m.abs_P_C_set[n] >= -m.aux[n]\\nm.abs_P_C_set_neg = pyo.Constraint(m.children, rule=abs_P_C_set_neg_rule)'"
            ],
            "application/vnd.google.colaboratory.intrinsic+json": {
              "type": "string"
            }
          },
          "metadata": {},
          "execution_count": 19
        }
      ]
    },
    {
      "cell_type": "code",
      "source": [
        "def objective_rule(m):\n",
        "  return   - alpha*m.O\n",
        "\n",
        "m.objective = pyo.Objective(rule=objective_rule, sense=pyo.maximize)"
      ],
      "metadata": {
        "id": "fNuKQeakZ4lL"
      },
      "execution_count": null,
      "outputs": []
    },
    {
      "cell_type": "code",
      "source": [
        "# Résolution\n",
        "# -------------------------\n",
        "# Create an environment with your WLS license\n",
        "params = {\n",
        "    \"WLSACCESSID\": 'efa10779-150a-495c-ab62-6a20ff44c598',\n",
        "    \"WLSSECRET\": 'fa980d94-a6fd-4d7b-aa68-b0e19ddd2e84',\n",
        "    \"LICENSEID\": 2651433,\n",
        "}\n",
        "env = gp.Env(params=params)\n",
        "solver = pyo.SolverFactory('gurobi', env= env)\n",
        "\n",
        "# Solve the model\n",
        "results = solver.solve(m, tee=True)\n",
        "\n",
        "# Check the termination condition\n",
        "if results.solver.termination_condition == pyo.TerminationCondition.infeasible:\n",
        "    print(\"The model is infeasible.\")\n",
        "elif results.solver.termination_condition == pyo.TerminationCondition.unbounded:\n",
        "    print(\"The model is unbounded.\")\n",
        "elif results.solver.termination_condition == pyo.TerminationCondition.infeasibleOrUnbounded:\n",
        "    print(\"The model is infeasible or unbounded.\")\n",
        "else:\n",
        "    print(\"Solver terminated with condition:\", results.solver.termination_condition)\n",
        "    # Print the results (optional, but good practice)\n",
        "    print(results)"
      ],
      "metadata": {
        "colab": {
          "base_uri": "https://localhost:8080/"
        },
        "id": "CPLDPtvVZ99x",
        "outputId": "a2d4f758-d480-45d8-9585-9152acaa85fb"
      },
      "execution_count": null,
      "outputs": [
        {
          "output_type": "stream",
          "name": "stdout",
          "text": [
            "Set parameter WLSAccessID\n",
            "Set parameter WLSSecret\n",
            "Set parameter LicenseID to value 2651433\n",
            "Academic license 2651433 - for non-commercial use only - registered to an___@student.uliege.be\n",
            "Read LP format model from file /tmp/tmpivgsyds6.pyomo.lp\n",
            "Reading time = 0.00 seconds\n",
            "x1: 1337 rows, 385 columns, 2569 nonzeros\n",
            "Gurobi Optimizer version 12.0.3 build v12.0.3rc0 (linux64 - \"Ubuntu 22.04.4 LTS\")\n",
            "\n",
            "CPU model: Intel(R) Xeon(R) CPU @ 2.20GHz, instruction set [SSE2|AVX|AVX2]\n",
            "Thread count: 1 physical cores, 2 logical processors, using up to 2 threads\n",
            "\n",
            "Optimize a model with 1337 rows, 385 columns and 2569 nonzeros\n",
            "Model fingerprint: 0xafcb6dfb\n",
            "Coefficient statistics:\n",
            "  Matrix range     [5e-06, 2e+00]\n",
            "  Objective range  [1e+00, 1e+00]\n",
            "  Bounds range     [0e+00, 0e+00]\n",
            "  RHS range        [2e-04, 4e+02]\n",
            "Presolve removed 1317 rows and 365 columns\n",
            "Presolve time: 0.01s\n",
            "Presolved: 20 rows, 20 columns, 60 nonzeros\n",
            "\n",
            "Iteration    Objective       Primal Inf.    Dual Inf.      Time\n",
            "       0   -0.0000000e+00   1.714665e+01   0.000000e+00      0s\n",
            "      16   -0.0000000e+00   0.000000e+00   0.000000e+00      0s\n",
            "\n",
            "Solved in 16 iterations and 0.01 seconds (0.00 work units)\n",
            "Optimal objective -0.000000000e+00\n",
            "Solver terminated with condition: optimal\n",
            "\n",
            "Problem: \n",
            "- Name: x1\n",
            "  Lower bound: -0.0\n",
            "  Upper bound: -0.0\n",
            "  Number of objectives: 1\n",
            "  Number of constraints: 1337\n",
            "  Number of variables: 385\n",
            "  Number of binary variables: 0\n",
            "  Number of integer variables: 0\n",
            "  Number of continuous variables: 385\n",
            "  Number of nonzeros: 2569\n",
            "  Sense: maximize\n",
            "Solver: \n",
            "- Status: ok\n",
            "  Return code: 0\n",
            "  Message: Model was solved to optimality (subject to tolerances), and an optimal solution is available.\n",
            "  Termination condition: optimal\n",
            "  Termination message: Model was solved to optimality (subject to tolerances), and an optimal solution is available.\n",
            "  Wall time: 0.010509967803955078\n",
            "  Error rc: 0\n",
            "Solution: \n",
            "- number of solutions: 0\n",
            "  number of solutions displayed: 0\n",
            "\n"
          ]
        }
      ]
    },
    {
      "cell_type": "code",
      "source": [
        "info_DSO_node1 = m.F[1, 3, 0, 0].value\n",
        "info_DSO_node2 = m.F[2, 4, 0, 0].value\n",
        "print(info_DSO_node1)\n",
        "print(info_DSO_node2)\n",
        "\n",
        "info_DSO = [info_DSO_node1, info_DSO_node2]"
      ],
      "metadata": {
        "colab": {
          "base_uri": "https://localhost:8080/"
        },
        "id": "LPlIiVKqnpPE",
        "outputId": "c5a26f13-8048-4233-ed51-8cf856ae8a11"
      },
      "execution_count": null,
      "outputs": [
        {
          "output_type": "stream",
          "name": "stdout",
          "text": [
            "-0.0648\n",
            "0.057999999999999996\n"
          ]
        }
      ]
    },
    {
      "cell_type": "code",
      "source": [
        "print(m.theta[0,0,1].value)\n",
        "print(G[0][11]['b_pu'])"
      ],
      "metadata": {
        "colab": {
          "base_uri": "https://localhost:8080/"
        },
        "id": "0CyMv1hMcsOd",
        "outputId": "a2e5c352-8097-45eb-9c0b-0fe65232240e"
      },
      "execution_count": null,
      "outputs": [
        {
          "output_type": "stream",
          "name": "stdout",
          "text": [
            "101.8539599998032\n",
            "0.6844793641885781\n"
          ]
        }
      ]
    },
    {
      "cell_type": "code",
      "source": [
        "def plot_power_flow(m, i, j):\n",
        "    pos = nx.get_node_attributes(G, 'pos')\n",
        "    # Use node indices as labels\n",
        "    labels = {}\n",
        "    label_colors = [] # This is for node colors, will remove this later if needed or set to default\n",
        "    for n in G.nodes():\n",
        "        label_text = f\"{n}\"\n",
        "        if n in m.parents:\n",
        "            # Display parent bounds using the global P_min and P_max parameters\n",
        "            label_text += f\"\\n[{P_min}, {P_max}]\"\n",
        "            # No specific color for label text here, use default\n",
        "            label_colors.append('steelblue') # Default node color based on previous plots\n",
        "        else:\n",
        "            label_colors.append('steelblue') # Default node color\n",
        "        labels[n] = label_text\n",
        "\n",
        "\n",
        "    plt.figure(figsize=(12, 8))\n",
        "\n",
        "    edge_colors = []\n",
        "    edge_labels = {}\n",
        "\n",
        "    for u, v in G.edges():\n",
        "        try:\n",
        "            # Correct the sign of the flow value for plotting\n",
        "            flow_value = m.F[u, v, i, j].value\n",
        "            if flow_value is not None:\n",
        "                edge_labels[(u, v)] = f\"{round(flow_value, 4)}\"\n",
        "                if flow_value > 0:\n",
        "                    edge_colors.append('blue')  # Positive flow (now correctly represents flow from u to v)\n",
        "                elif flow_value < 0:\n",
        "                    edge_colors.append('red')  # Negative (reverse) flow (now correctly represents flow from v to u)\n",
        "                else:\n",
        "                    edge_colors.append('gray') # No flow\n",
        "            else:\n",
        "                edge_colors.append('gray') # No flow value\n",
        "        except:\n",
        "            edge_colors.append('gray') # Handle cases where edge might not be in m.F\n",
        "\n",
        "    # Draw the network\n",
        "    nx.draw(\n",
        "        G, pos,\n",
        "        with_labels=False, # Draw labels separately for color control\n",
        "        node_size=1200,\n",
        "        edge_color=edge_colors, # Use the calculated edge colors\n",
        "        edgecolors=\"black\", font_size=8,\n",
        "        alpha=0.85,\n",
        "        node_color = label_colors # Apply node colors\n",
        "    )\n",
        "\n",
        "    # Draw labels with different colors\n",
        "    for n in G.nodes():\n",
        "        x, y = pos[n]\n",
        "        text = labels[n]\n",
        "        if n in m.parents:\n",
        "             plt.text(x, y + 0.1, text, fontsize=10, ha='center', va='bottom', color='black') # Color parent bounds black\n",
        "        else:\n",
        "             plt.text(x, y, text, fontsize=8, ha='center', va='center', color='black') # Default color for other labels\n",
        "\n",
        "\n",
        "    nx.draw_networkx_edge_labels(G, pos, edge_labels=edge_labels, font_size=7, label_pos=0.3)\n",
        "\n",
        "    plt.title(f\"Power Flow (per-unit) for i={i}, j={j}\")\n",
        "    plt.axis(\"equal\")\n",
        "    plt.show()\n",
        "\n",
        "# Example usage (assuming m, i=0, and j=0 are defined)\n",
        "plot_power_flow(m, 0, 1)"
      ],
      "metadata": {
        "colab": {
          "base_uri": "https://localhost:8080/",
          "height": 785
        },
        "id": "0qDf5fn1aZur",
        "outputId": "752f92e0-0ccc-4270-db84-818d15c23320"
      },
      "execution_count": null,
      "outputs": [
        {
          "output_type": "display_data",
          "data": {
            "text/plain": [
              "<Figure size 1200x800 with 1 Axes>"
            ],
            "image/png": "[encoded data removed]"
          },
          "metadata": {}
        }
      ]
    },
    {
      "cell_type": "code",
      "source": [
        "def create_network():\n",
        "\n",
        "    import pandapower as pp\n",
        "\n",
        "# Crée le réseau\n",
        "    net = pp.create_empty_network()\n",
        "\n",
        "# Bases\n",
        "    Pbase = 100  # MVA\n",
        "    Vbase_high = 110  # kV\n",
        "    Vbase_medium = 20  # kV\n",
        "    Vbase_low = 0.4  # kV\n",
        "\n",
        "# Buses\n",
        "    b0 = pp.create_bus(net, vn_kv=Vbase_high, name=\"Bus grid\", geodata=(0,10))\n",
        "    b1 = pp.create_bus(net, vn_kv=Vbase_high, name=\"DSO 1\", geodata=(5,12))\n",
        "    b2 = pp.create_bus(net, vn_kv=Vbase_high, name=\"DSO 2\", geodata=(5,8))\n",
        "    b3 = pp.create_bus(net, vn_kv=Vbase_medium, name=\"Bus MV_1\", geodata=(10,12))\n",
        "    b4 = pp.create_bus(net, vn_kv=Vbase_medium, name=\"Bus MV_2\", geodata=(10,8))\n",
        "    b5 = pp.create_bus(net, vn_kv=Vbase_low, name=\"Bus LV_1\", geodata=(15,12))\n",
        "    b6 = pp.create_bus(net, vn_kv=Vbase_low, name=\"Bus LV_2\", geodata=(15,8))\n",
        "    b7 = pp.create_bus(net, vn_kv=Vbase_medium, name=\"Bus éolien\", geodata=(10,14))\n",
        "    b8 = pp.create_bus(net, vn_kv=Vbase_medium, name=\"Bus industriel\", geodata=(10,10))\n",
        "    b9 = pp.create_bus(net, vn_kv=Vbase_low, name=\"Bus load\", geodata=(15,14))\n",
        "    b10 = pp.create_bus(net, vn_kv=Vbase_low, name=\"Bus PV\", geodata=(15,10))\n",
        "    b11 = pp.create_bus(net, vn_kv=Vbase_high, name=\"TSO 1\", geodata=(2,12))\n",
        "    b12 = pp.create_bus(net, vn_kv=Vbase_high, name=\"TSO 2\", geodata=(2,8))\n",
        "\n",
        "# Lignes\n",
        "    pp.create_line(net, b0, b1, length_km=12, std_type='149-AL1/24-ST1A 110.0', name=\"line1\")\n",
        "    pp.create_line(net, b1, b2, length_km=10, std_type='149-AL1/24-ST1A 110.0', name=\"line2\")\n",
        "    pp.create_line(net, b0, b2, length_km=10, std_type='149-AL1/24-ST1A 110.0', name=\"line3\")\n",
        "    pp.create_line(net, b3, b7, length_km=0.23, std_type='NA2XS2Y 1x185 RM/25 12/20 kV', name=\"line4\")\n",
        "    pp.create_line(net, b4, b8, length_km=0.3, std_type='NA2XS2Y 1x185 RM/25 12/20 kV', name=\"line5\")\n",
        "    pp.create_line(net, b5, b9, length_km=3, std_type='94-AL1/15-ST1A 0.4', name=\"line6\")\n",
        "    pp.create_line(net, b6, b10, length_km=0.45, std_type='94-AL1/15-ST1A 0.4', name=\"line7\")\n",
        "    pp.create_line(net, b0, b11, length_km=16, std_type='149-AL1/24-ST1A 110.0', name= 'line8')\n",
        "    pp.create_line(net, b11, b1, length_km=24, std_type='149-AL1/24-ST1A 110.0', name= 'line9')\n",
        "    pp.create_line(net, b0, b12, length_km=22, std_type='149-AL1/24-ST1A 110.0', name= 'line10')\n",
        "    pp.create_line(net, b12, b2, length_km=16, std_type='149-AL1/24-ST1A 110.0', name= 'line11')\n",
        "\n",
        "# Transformateurs\n",
        "    pp.create_transformer(net, b1, b3, std_type=\"25 MVA 110/20 kV\", name=\"TR_1\")\n",
        "    pp.create_transformer(net, b2, b4, std_type=\"25 MVA 110/20 kV\", name=\"TR_2\")\n",
        "    pp.create_transformer(net, b3, b5, std_type=\"0.4 MVA 20/0.4 kV\", name=\"TR_3\")\n",
        "    pp.create_transformer(net, b4, b6, std_type=\"0.4 MVA 20/0.4 kV\", name=\"TR_4\")\n",
        "\n",
        "# Éléments de bus\n",
        "    pp.create_ext_grid(net, bus=b0, vm_pu=1.00, name=\"Grid Connection\")\n",
        "    pp.create_load(net, bus=b9, p_mw=0.02, q_mvar=0.02, name=\"Residential Load\")\n",
        "    pp.create_gen(net, bus=b10, p_mw=0.2, vm_pu=1.00, name=\"PV\", max_q_mvar=200, min_q_mvar=0, max_p_mw=300, min_p_mw=0, controllable=False)\n",
        "    pp.create_gen(net, bus=b7, p_mw=6.5, vm_pu=1.0, name=\"Wind Turbine\", controllable=False)\n",
        "    pp.create_load(net, bus=b8, p_mw=6, q_mvar=1.8, name=\"Industry\")\n",
        "    pp.create_load(net, bus=b11, p_mw=20, q_mvar=9, name=\"Datacenter\")\n",
        "    pp.create_load(net, bus=b12, p_mw=50, q_mvar=24, name=\"Big industry\")\n",
        "\n",
        "# Donner accès à net\n",
        "    return net"
      ],
      "metadata": {
        "id": "UQqMSiRKOB_3"
      },
      "execution_count": null,
      "outputs": []
    },
    {
      "cell_type": "code",
      "source": [
        "def create_digraph():\n",
        "  net = create_network()\n",
        "\n",
        "  import json\n",
        "  import networkx as nx\n",
        "  import matplotlib.pyplot as plt\n",
        "# 1. Conversion du réseau Pandapower en DiGraph\n",
        "# ================================\n",
        "  G = nx.DiGraph()\n",
        "\n",
        "# Créer les positions à partir de la colonne \"geo\"\n",
        "  pos = {}\n",
        "  for idx, row in net.bus.iterrows():\n",
        "  # Extraire le champ 'geo' qui est une chaîne de caractères représentant un dictionnaire JSON\n",
        "      geo_data = row['geo']\n",
        "\n",
        "  # Convertir la chaîne JSON en un dictionnaire Python\n",
        "      geo_dict = json.loads(geo_data)\n",
        "\n",
        "  # Extraire la liste des coordonnées\n",
        "      coordinates = geo_dict[\"coordinates\"]\n",
        "\n",
        "  # Ajouter les coordonnées dans le dictionnaire pos\n",
        "      pos[idx] = tuple(coordinates)  # Assigner les coordonnées sous forme de tuple\n",
        "\n",
        "# Ajouter les nœuds (avec le nom comme label) and voltage\n",
        "  for idx, row in net.bus.iterrows():\n",
        "      G.add_node(idx, label=row[\"name\"], pos=pos[idx], vn_kv=row[\"vn_kv\"])\n",
        "\n",
        "\n",
        "# Ajouter les arêtes pour les lines\n",
        "  for _, row in net.line.iterrows():\n",
        "      G.add_edge(row[\"from_bus\"], row[\"to_bus\"], type=\"line\", name=row[\"name\"], length=row[\"length_km\"], std_type=row[\"std_type\"])\n",
        "\n",
        "# Ajouter les arêtes pour les transformateurs\n",
        "  for _, row in net.trafo.iterrows():\n",
        "      G.add_edge(row[\"hv_bus\"], row[\"lv_bus\"], type=\"trafo\", name=row[\"name\"], std_type = None)\n",
        "\n",
        "# Ajouter les générateurs et les charges comme attributs aux nœuds\n",
        "  for _, row in net.gen.iterrows():\n",
        "      G.nodes[row[\"bus\"]][\"type\"] = \"gen\"\n",
        "      G.nodes[row[\"bus\"]][\"gen_name\"] = row[\"name\"]\n",
        "      G.nodes[row[\"bus\"]][\"gen_power\"] = row[\"p_mw\"]\n",
        "\n",
        "  for _, row in net.load.iterrows():\n",
        "      G.nodes[row[\"bus\"]][\"type\"] = \"load\"\n",
        "      G.nodes[row[\"bus\"]][\"load_name\"] = row[\"name\"]\n",
        "      G.nodes[row[\"bus\"]][\"load_power\"] = row[\"p_mw\"]\n",
        "\n",
        "  for _, row in net.ext_grid.iterrows():\n",
        "      G.nodes[row[\"bus\"]][\"type\"] = \"ext_grid\"\n",
        "      G.nodes[row[\"bus\"]][\"grid_name\"] = row[\"name\"]\n",
        "\n",
        "# 2. Ajout des puissances consommées et injectées aux nœuds\n",
        "# ================================\n",
        "  nx.set_node_attributes(G, 0.0, \"P_load\")\n",
        "  nx.set_node_attributes(G, 0.0, \"P_gen\")\n",
        "\n",
        "# Charges\n",
        "  for _, row in net.load.iterrows():\n",
        "      G.nodes[row[\"bus\"]][\"P_load\"] += row[\"p_mw\"]\n",
        "      print(row)\n",
        "\n",
        "# Générateurs\n",
        "  for _, row in net.gen.iterrows():\n",
        "      G.nodes[row[\"bus\"]][\"P_gen\"] += row[\"p_mw\"]\n",
        "\n",
        "# Source externe\n",
        "  for _, row in net.ext_grid.iterrows():\n",
        "      G.nodes[row[\"bus\"]][\"P_gen\"] += 0\n",
        "\n",
        "# Calculate P_net\n",
        "  for n in G.nodes:\n",
        "      G.nodes[n][\"P_net\"] = G.nodes[n][\"P_gen\"] - G.nodes[n][\"P_load\"]\n",
        "\n",
        "# Create subnetworks (NetworkX DiGraphs) from the main graph G\n",
        "  network1_buses = [0, 1, 2, 11,12]\n",
        "  network2_buses = [3, 7, 5, 9, 10]\n",
        "  network3_buses = [4, 8, 6]\n",
        "\n",
        "# Assign G1 to G and then add power attributes to nodes in G\n",
        "  G = G.subgraph(network1_buses)\n",
        "\n",
        "  for n in G.nodes:\n",
        "      G.nodes[n][\"P\"] = G.nodes[n][\"P_net\"] # Assign P_net to 'P' attribute\n",
        "\n",
        "# 3. Préparer les couleurs des nœuds en fonction de P_net\n",
        "# ================================\n",
        "  node_colors = []\n",
        "  for n, data in G.nodes(data=True):\n",
        "      if data[\"P_net\"] > 0:\n",
        "          node_colors.append(\"green\")   # producteur\n",
        "      elif data[\"P_net\"] < 0:\n",
        "          node_colors.append(\"red\")     # consommateur\n",
        "      else:\n",
        "          node_colors.append(\"gray\")    # neutre\n",
        "\n",
        "# 4. Préparer les labels : Nom + P_net\n",
        "# ================================\n",
        "  labels = {n: f\"{data['label']}\\nP={round(data['P_net'],2)}MW\"\n",
        "            for n, data in G.nodes(data=True)}\n",
        "\n",
        "# 5. Function to plot the network\n",
        "# ================================\n",
        "  def plot_network():\n",
        "      pos = nx.get_node_attributes(G, 'pos')\n",
        "\n",
        "      plt.figure(figsize=(12, 8))\n",
        "      nx.draw(\n",
        "          G, pos,\n",
        "          with_labels=True, labels=labels,\n",
        "          node_size=1200, node_color=node_colors,\n",
        "          edgecolors=\"black\", font_size=8,\n",
        "          alpha=0.85\n",
        "          )\n",
        "\n",
        "  # Labels des arêtes (type ligne ou trafo)\n",
        "      edge_labels = nx.get_edge_attributes(G, 'type')\n",
        "      nx.draw_networkx_edge_labels(G, pos, edge_labels=edge_labels, font_size=7)\n",
        "\n",
        "      plt.title(\"Réseau électrique avec puissances (P_net)\")\n",
        "      plt.axis(\"equal\")\n",
        "      plt.show()\n",
        "\n",
        "\n",
        "  return G, plot_network()"
      ],
      "metadata": {
        "id": "L2tSLt42fckE"
      },
      "execution_count": null,
      "outputs": []
    },
    {
      "cell_type": "code",
      "source": [
        "G, plot_func = create_digraph()"
      ],
      "metadata": {
        "colab": {
          "base_uri": "https://localhost:8080/",
          "height": 1000
        },
        "id": "tnfnysf3g7Km",
        "outputId": "7fde7f01-b1c8-4df1-8c4c-72c2f4bac505"
      },
      "execution_count": null,
      "outputs": [
        {
          "output_type": "stream",
          "name": "stdout",
          "text": [
            "name               Residential Load\n",
            "bus                               9\n",
            "p_mw                           0.02\n",
            "q_mvar                         0.02\n",
            "const_z_percent                 0.0\n",
            "const_i_percent                 0.0\n",
            "sn_mva                          NaN\n",
            "scaling                         1.0\n",
            "in_service                     True\n",
            "type                            wye\n",
            "Name: 0, dtype: object\n",
            "name               Industry\n",
            "bus                       8\n",
            "p_mw                    6.0\n",
            "q_mvar                  1.8\n",
            "const_z_percent         0.0\n",
            "const_i_percent         0.0\n",
            "sn_mva                  NaN\n",
            "scaling                 1.0\n",
            "in_service             True\n",
            "type                    wye\n",
            "Name: 1, dtype: object\n",
            "name               Datacenter\n",
            "bus                        11\n",
            "p_mw                     20.0\n",
            "q_mvar                    9.0\n",
            "const_z_percent           0.0\n",
            "const_i_percent           0.0\n",
            "sn_mva                    NaN\n",
            "scaling                   1.0\n",
            "in_service               True\n",
            "type                      wye\n",
            "Name: 2, dtype: object\n",
            "name               Big industry\n",
            "bus                          12\n",
            "p_mw                       50.0\n",
            "q_mvar                     24.0\n",
            "const_z_percent             0.0\n",
            "const_i_percent             0.0\n",
            "sn_mva                      NaN\n",
            "scaling                     1.0\n",
            "in_service                 True\n",
            "type                        wye\n",
            "Name: 3, dtype: object\n"
          ]
        },
        {
          "output_type": "display_data",
          "data": {
            "text/plain": [
              "<Figure size 1200x800 with 1 Axes>"
            ],
            "image/png": "[encoded data removed]"
          },
          "metadata": {}
        }
      ]
    },
    {
      "cell_type": "code",
      "source": [
        "#Calculate the susceptance of each line in Siemens per km\n",
        "strange = 1000\n",
        "for u, v in G.edges():\n",
        "    G[u][v]['b'] = length(u,v)* 200*10**-6 *strange\n",
        "    print(G[u][v]['b'])"
      ],
      "metadata": {
        "colab": {
          "base_uri": "https://localhost:8080/"
        },
        "id": "4joTAruugLdr",
        "outputId": "fc051958-5027-4967-e9bb-5203660de3bb"
      },
      "execution_count": null,
      "outputs": [
        {
          "output_type": "stream",
          "name": "stdout",
          "text": [
            "0.010770329614269008\n",
            "0.010770329614269008\n",
            "0.005656854249492381\n",
            "0.005656854249492381\n",
            "0.008\n",
            "0.006\n",
            "0.006\n"
          ]
        }
      ]
    },
    {
      "cell_type": "code",
      "source": [
        "# Convert susceptance 'b' on edges to per-unit\n",
        "for u, v in G.edges():\n",
        "    # Assuming 'b' is in Siemens/km, convert to per-unit\n",
        "    # b_pu = b_actual * (V_base^2 / S_base)\n",
        "    # V_base is assumed to be v_base_high (110 kV)\n",
        "    G[u][v]['b_pu'] = G[u][v].get('b', 0.0) * (get_base_node_voltage_kv(u)**2 / s_base)\n",
        "    print(G[u][v]['b_pu'])"
      ],
      "metadata": {
        "id": "xWiNeivwgrD6",
        "colab": {
          "base_uri": "https://localhost:8080/"
        },
        "outputId": "ef734d7f-cfaa-4e9f-8bfd-735a93369a34"
      },
      "execution_count": null,
      "outputs": [
        {
          "output_type": "stream",
          "name": "stdout",
          "text": [
            "1.30320988332655\n",
            "1.30320988332655\n",
            "0.6844793641885781\n",
            "0.6844793641885781\n",
            "0.968\n",
            "0.726\n",
            "0.726\n"
          ]
        }
      ]
    },
    {
      "cell_type": "code",
      "execution_count": null,
      "metadata": {
        "colab": {
          "base_uri": "https://localhost:8080/"
        },
        "id": "07q_jJUiinf_",
        "outputId": "ca8ce8aa-512e-456b-c9ab-464219a49d01"
      },
      "outputs": [
        {
          "output_type": "stream",
          "name": "stdout",
          "text": [
            "-0.8954702675131095\n",
            "0.8954702675131095\n",
            "1.30320988332655\n",
            "1.30320988332655\n",
            "0.6844793641885781\n",
            "0.6844793641885781\n",
            "0.968\n",
            "0.726\n",
            "0.726\n"
          ]
        }
      ],
      "source": [
        "m = pyo.ConcreteModel()\n",
        "# Define base values for the per-unit system\n",
        "s_base = 100  # MVA\n",
        "v_base_high = 110 # kV (From the create_network function)\n",
        "\n",
        "m.Nodes = pyo.Set(initialize= [b for b in G.nodes])\n",
        "m.Lines = pyo.Set(initialize= [l for l in G.edges])\n",
        "m.i = pyo.Set(initialize=[0, 1]) # Initialize m.i with two generic elements\n",
        "m.j = pyo.Set(initialize= [0, 1])\n",
        "m.children = pyo.Set(initialize= [1, 2])\n",
        "m.parents = pyo.Set(initialize = [0])\n",
        "\n",
        "m.P = pyo.Param(m.Nodes, initialize = {n: - G.nodes[n].get('P') for n in G.nodes}, domain = pyo.Reals, mutable=True) # Make P mutable\n",
        "m.P_absolute_value = pyo.Param(m.Nodes, initialize = {n: abs(m.P[n]) for n in G.nodes}, domain = pyo.NonNegativeReals) # Make P mutable\n",
        "\n",
        "m.info_DSO_param = pyo.Param(m.children, initialize = {n: info_DSO[n-1] for n in m.children}, domain = pyo.Reals) # Renamed parameter and adjusted index for list\n",
        "\n",
        "m.I_min = pyo.Param(m.Lines, initialize = {(i,j): calculate_current_bounds(G.edges[i,j][\"std_type\"], get_base_node_voltage_kv(i))[0] for (i,j) in m.Lines}, domain = pyo.Reals)\n",
        "m.I_max = pyo.Param(m.Lines, initialize = {(i,j): calculate_current_bounds(G.edges[i,j][\"std_type\"], get_base_node_voltage_kv(i))[1] for (i,j) in m.Lines}, domain = pyo.Reals)\n",
        "\n",
        "print(m.I_min[(0,1)])\n",
        "print(m.I_max[(0,1)])\n",
        "\n",
        "# Variables principales\n",
        "m.F = pyo.Var(m.Lines, m.i, m.j, domain=pyo.Reals)     # active power flow through lines\n",
        "m.I = pyo.Var(m.Lines,  m.i, m.j, domain=pyo.Reals)  # current flowing through lines\n",
        "m.theta = pyo.Var(m.Nodes,  m.i, m.j, domain=pyo.Reals)  # phase angle of the voltage\n",
        "m.V = pyo.Var(m.Nodes, m.i, m.j, domain=pyo.NonNegativeReals)  # voltage magnitude at each node\n",
        "m.E = pyo.Var(m.Nodes, m.i, m.j, domain=pyo.Reals) #net power injection/consumption\n",
        "m.P_plus = pyo.Var(m.parents, m.i, m.j, domain=pyo.Reals) #power entering the operational graph\n",
        "m.P_minus = pyo.Var(m.children, m.i, m.j, domain=pyo.Reals) #power leaving the operational graph\n",
        "\n",
        "m.P_C_set = pyo.Var(m.children, m.i, domain=pyo.Reals) #vertices of the power envelope at each child node\n",
        "\n",
        "#m.P_C_min = pyo.Var(m.children, m.i, m.j, domain=pyo.Reals)\n",
        "#m.P_C_max = pyo.Var(m.children, m.i, m.j,  domain=pyo.Reals)\n",
        "\n",
        "m.V_P = pyo.Param(m.j, initialize = {0: 0.9, 1: 1.1}, domain =pyo.NonNegativeReals)\n",
        "\n",
        "m.O = pyo.Var(domain= pyo.NonNegativeReals)\n",
        "m.tot = pyo.Var(domain= pyo.Reals)\n",
        "m.aux = pyo.Var(m.children, domain=pyo.Reals)\n",
        "m.diff_DSO = pyo.Var(m.children, domain=pyo.NonNegativeReals)\n",
        "\n",
        "for u in G.nodes():\n",
        "  if G.nodes[u].get('P', 0.0) / s_base == 0:\n",
        "    m.P[u] = 0\n",
        "  else:\n",
        "    G.nodes[u]['P_pu'] = G.nodes[u].get('P', 0.0) / s_base\n",
        "    m.P[u] = - G.nodes[u]['P_pu']\n",
        "\n",
        "\"\"\"# Convert P parameter to per-unit\n",
        "for n in G.nodes:\n",
        "    # Assuming P is in MW, convert to per-unit\n",
        "    G.nodes[n]['P'] = G.nodes[n].get('P', 0.0) / s_base\n",
        "    m.P[n] = G.nodes[n]['P']\"\"\"\n",
        "\n",
        "\n",
        "# Convert susceptance 'b' on edges to per-unit\n",
        "for u, v in G.edges():\n",
        "    # Assuming 'b' is in Siemens/km, convert to per-unit\n",
        "    # b_pu = b_actual * (V_base^2 / S_base)\n",
        "    # V_base is assumed to be v_base_high (110 kV)\n",
        "    G[u][v]['b_pu'] = G[u][v].get('b', 0.0) * (get_base_node_voltage_kv(u)**2 / s_base)\n",
        "\n",
        "    print(G[u][v]['b_pu'])"
      ]
    },
    {
      "cell_type": "code",
      "source": [
        "for n in G.nodes:\n",
        "  print(m.P[n].value)\n",
        "m.P[1].value\n"
      ],
      "metadata": {
        "colab": {
          "base_uri": "https://localhost:8080/"
        },
        "id": "1tUFkVhBIp_x",
        "outputId": "b183d589-e777-4eb3-82f4-4ee6fa229ea0"
      },
      "execution_count": null,
      "outputs": [
        {
          "output_type": "stream",
          "name": "stdout",
          "text": [
            "0\n",
            "0\n",
            "0\n",
            "0.2\n",
            "0.5\n"
          ]
        },
        {
          "output_type": "execute_result",
          "data": {
            "text/plain": [
              "0"
            ]
          },
          "metadata": {},
          "execution_count": 31
        }
      ]
    },
    {
      "cell_type": "code",
      "execution_count": null,
      "metadata": {
        "id": "lmnxCzo_aFST",
        "colab": {
          "base_uri": "https://localhost:8080/",
          "height": 1000
        },
        "outputId": "4c58b259-4de6-4ae4-94b6-eade43e24450"
      },
      "outputs": [
        {
          "output_type": "stream",
          "name": "stderr",
          "text": [
            "WARNING:pyomo.core:Implicitly replacing the Component attribute worst_case (type=<class 'pyomo.core.base.constraint.IndexedConstraint'>) on block unknown with a new Component (type=<class 'pyomo.core.base.constraint.IndexedConstraint'>).\n",
            "This is usually indicative of a modelling error.\n",
            "To avoid this warning, use block.del_component() and block.add_component().\n",
            "WARNING:pyomo.core:Implicitly replacing the Component attribute z (type=<class 'pyomo.core.base.var.IndexedVar'>) on block unknown with a new Component (type=<class 'pyomo.core.base.var.IndexedVar'>).\n",
            "This is usually indicative of a modelling error.\n",
            "To avoid this warning, use block.del_component() and block.add_component().\n",
            "WARNING:pyomo.core:Implicitly replacing the Component attribute curt (type=<class 'pyomo.core.base.var.IndexedVar'>) on block unknown with a new Component (type=<class 'pyomo.core.base.var.IndexedVar'>).\n",
            "This is usually indicative of a modelling error.\n",
            "To avoid this warning, use block.del_component() and block.add_component().\n",
            "WARNING:pyomo.core:Implicitly replacing the Component attribute curt_def (type=<class 'pyomo.core.base.constraint.IndexedConstraint'>) on block unknown with a new Component (type=<class 'pyomo.core.base.constraint.IndexedConstraint'>).\n",
            "This is usually indicative of a modelling error.\n",
            "To avoid this warning, use block.del_component() and block.add_component().\n",
            "WARNING:pyomo.core:Implicitly replacing the Component attribute abs_E_pos (type=<class 'pyomo.core.base.constraint.IndexedConstraint'>) on block unknown with a new Component (type=<class 'pyomo.core.base.constraint.IndexedConstraint'>).\n",
            "This is usually indicative of a modelling error.\n",
            "To avoid this warning, use block.del_component() and block.add_component().\n",
            "WARNING:pyomo.core:Implicitly replacing the Component attribute abs_E_neg (type=<class 'pyomo.core.base.constraint.IndexedConstraint'>) on block unknown with a new Component (type=<class 'pyomo.core.base.constraint.IndexedConstraint'>).\n",
            "This is usually indicative of a modelling error.\n",
            "To avoid this warning, use block.del_component() and block.add_component().\n",
            "WARNING:pyomo.core:Implicitly replacing the Component attribute upper_bound (type=<class 'pyomo.core.base.constraint.IndexedConstraint'>) on block unknown with a new Component (type=<class 'pyomo.core.base.constraint.IndexedConstraint'>).\n",
            "This is usually indicative of a modelling error.\n",
            "To avoid this warning, use block.del_component() and block.add_component().\n",
            "WARNING:pyomo.core:Implicitly replacing the Component attribute CurrentBounds (type=<class 'pyomo.core.base.constraint.IndexedConstraint'>) on block unknown with a new Component (type=<class 'pyomo.core.base.constraint.IndexedConstraint'>).\n",
            "This is usually indicative of a modelling error.\n",
            "To avoid this warning, use block.del_component() and block.add_component().\n",
            "WARNING:pyomo.core:Implicitly replacing the Component attribute phaseConstr (type=<class 'pyomo.core.base.constraint.IndexedConstraint'>) on block unknown with a new Component (type=<class 'pyomo.core.base.constraint.IndexedConstraint'>).\n",
            "This is usually indicative of a modelling error.\n",
            "To avoid this warning, use block.del_component() and block.add_component().\n",
            "WARNING:pyomo.core:Implicitly replacing the Component attribute DCFlow (type=<class 'pyomo.core.base.constraint.IndexedConstraint'>) on block unknown with a new Component (type=<class 'pyomo.core.base.constraint.IndexedConstraint'>).\n",
            "This is usually indicative of a modelling error.\n",
            "To avoid this warning, use block.del_component() and block.add_component().\n",
            "WARNING:pyomo.core:Implicitly replacing the Component attribute current_def (type=<class 'pyomo.core.base.constraint.IndexedConstraint'>) on block unknown with a new Component (type=<class 'pyomo.core.base.constraint.IndexedConstraint'>).\n",
            "This is usually indicative of a modelling error.\n",
            "To avoid this warning, use block.del_component() and block.add_component().\n",
            "WARNING:pyomo.core:Implicitly replacing the Component attribute nodes_balance (type=<class 'pyomo.core.base.constraint.IndexedConstraint'>) on block unknown with a new Component (type=<class 'pyomo.core.base.constraint.IndexedConstraint'>).\n",
            "This is usually indicative of a modelling error.\n",
            "To avoid this warning, use block.del_component() and block.add_component().\n",
            "WARNING:pyomo.core:Implicitly replacing the Component attribute parent_power_constraint (type=<class 'pyomo.core.base.constraint.IndexedConstraint'>) on block unknown with a new Component (type=<class 'pyomo.core.base.constraint.IndexedConstraint'>).\n",
            "This is usually indicative of a modelling error.\n",
            "To avoid this warning, use block.del_component() and block.add_component().\n",
            "WARNING:pyomo.core:Implicitly replacing the Component attribute voltageConstr (type=<class 'pyomo.core.base.constraint.IndexedConstraint'>) on block unknown with a new Component (type=<class 'pyomo.core.base.constraint.IndexedConstraint'>).\n",
            "This is usually indicative of a modelling error.\n",
            "To avoid this warning, use block.del_component() and block.add_component().\n",
            "WARNING:pyomo.core:Implicitly replacing the Component attribute children_voltage (type=<class 'pyomo.core.base.constraint.IndexedConstraint'>) on block unknown with a new Component (type=<class 'pyomo.core.base.constraint.IndexedConstraint'>).\n",
            "This is usually indicative of a modelling error.\n",
            "To avoid this warning, use block.del_component() and block.add_component().\n",
            "WARNING:pyomo.core:Implicitly replacing the Component attribute aux_constraint (type=<class 'pyomo.core.base.constraint.IndexedConstraint'>) on block unknown with a new Component (type=<class 'pyomo.core.base.constraint.IndexedConstraint'>).\n",
            "This is usually indicative of a modelling error.\n",
            "To avoid this warning, use block.del_component() and block.add_component().\n",
            "WARNING:pyomo.core:Implicitly replacing the Component attribute logical_constraint (type=<class 'pyomo.core.base.constraint.IndexedConstraint'>) on block unknown with a new Component (type=<class 'pyomo.core.base.constraint.IndexedConstraint'>).\n",
            "This is usually indicative of a modelling error.\n",
            "To avoid this warning, use block.del_component() and block.add_component().\n",
            "WARNING:pyomo.core:Implicitly replacing the Component attribute tot_constraint (type=<class 'pyomo.core.base.constraint.ScalarConstraint'>) on block unknown with a new Component (type=<class 'pyomo.core.base.constraint.AbstractScalarConstraint'>).\n",
            "This is usually indicative of a modelling error.\n",
            "To avoid this warning, use block.del_component() and block.add_component().\n",
            "WARNING:pyomo.core:Implicitly replacing the Component attribute diff_DSO_constraint (type=<class 'pyomo.core.base.constraint.IndexedConstraint'>) on block unknown with a new Component (type=<class 'pyomo.core.base.constraint.IndexedConstraint'>).\n",
            "This is usually indicative of a modelling error.\n",
            "To avoid this warning, use block.del_component() and block.add_component().\n",
            "WARNING:pyomo.core:Implicitly replacing the Component attribute diff_bis_dso_constraint (type=<class 'pyomo.core.base.constraint.IndexedConstraint'>) on block unknown with a new Component (type=<class 'pyomo.core.base.constraint.IndexedConstraint'>).\n",
            "This is usually indicative of a modelling error.\n",
            "To avoid this warning, use block.del_component() and block.add_component().\n",
            "WARNING:pyomo.core:Implicitly replacing the Component attribute abs_diff_DSO (type=<class 'pyomo.core.base.var.IndexedVar'>) on block unknown with a new Component (type=<class 'pyomo.core.base.var.IndexedVar'>).\n",
            "This is usually indicative of a modelling error.\n",
            "To avoid this warning, use block.del_component() and block.add_component().\n",
            "WARNING:pyomo.core:Implicitly replacing the Component attribute tot_bis (type=<class 'pyomo.core.base.var.ScalarVar'>) on block unknown with a new Component (type=<class 'pyomo.core.base.var.AbstractScalarVar'>).\n",
            "This is usually indicative of a modelling error.\n",
            "To avoid this warning, use block.del_component() and block.add_component().\n",
            "WARNING:pyomo.core:Implicitly replacing the Component attribute tot_bis_constraint (type=<class 'pyomo.core.base.constraint.ScalarConstraint'>) on block unknown with a new Component (type=<class 'pyomo.core.base.constraint.AbstractScalarConstraint'>).\n",
            "This is usually indicative of a modelling error.\n",
            "To avoid this warning, use block.del_component() and block.add_component().\n",
            "WARNING:pyomo.core:Implicitly replacing the Component attribute net_power_constr (type=<class 'pyomo.core.base.constraint.IndexedConstraint'>) on block unknown with a new Component (type=<class 'pyomo.core.base.constraint.IndexedConstraint'>).\n",
            "This is usually indicative of a modelling error.\n",
            "To avoid this warning, use block.del_component() and block.add_component().\n"
          ]
        },
        {
          "output_type": "execute_result",
          "data": {
            "text/plain": [
              "'# Auxiliary variables for the L1 norm of P_C_set\\nm.abs_P_C_set = pyo.Var(m.children, domain=pyo.NonNegativeReals)\\n\\n# Constraints to linearize the L1 norm of P_C_set\\ndef abs_P_C_set_pos_rule(m, n):\\n    return m.abs_P_C_set[n] >= m.aux[n]\\nm.abs_P_C_set_pos = pyo.Constraint(m.children, rule=abs_P_C_set_pos_rule)\\n\\ndef abs_P_C_set_neg_rule(m, n):\\n    return m.abs_P_C_set[n] >= -m.aux[n]\\nm.abs_P_C_set_neg = pyo.Constraint(m.children, rule=abs_P_C_set_neg_rule)'"
            ],
            "application/vnd.google.colaboratory.intrinsic+json": {
              "type": "string"
            }
          },
          "metadata": {},
          "execution_count": 89
        }
      ],
      "source": [
        "#Children nodes consumption\n",
        "def worst_case_children(m, n, vert_pow, vert_volt):\n",
        "  return m.P_C_set[n, vert_pow] == m.P_minus[n, vert_pow, vert_volt]\n",
        "m.worst_case = pyo.Constraint(m.children, m.i, m.j, rule=worst_case_children)\n",
        "\n",
        "\n",
        "# Auxiliary variable for the absolute value of E (already defined as per-unit)\n",
        "m.z = pyo.Var(m.Nodes, m.i, m.j, domain=pyo.NonNegativeReals)\n",
        "\n",
        "m.curt = pyo.Var(m.Nodes, m.i, m.j, domain=pyo.Reals)\n",
        "\n",
        "def curtailment_def_rule(m,n, vert_pow, vert_volt):\n",
        "\n",
        "  return m.curt[n, vert_pow, vert_volt] == m.P[n] - m.E[n, vert_pow, vert_volt]\n",
        "\n",
        "m.curt_def = pyo.Constraint(m.Nodes, m.i, m.j, rule=curtailment_def_rule)\n",
        "# Constraints to define the absolute value (already defined for per-unit E)\n",
        "def abs_E_pos_rule(m, n, vert_pow, vert_volt):\n",
        "    return m.z[n, vert_pow, vert_volt] >= m.curt[n, vert_pow, vert_volt]\n",
        "m.abs_E_pos = pyo.Constraint(m.Nodes, m.i, m.j, rule=abs_E_pos_rule)\n",
        "\n",
        "def abs_E_neg_rule(m, n, vert_pow, vert_volt):\n",
        "    return m.z[n, vert_pow, vert_volt] >= -m.curt[n, vert_pow, vert_volt]\n",
        "m.abs_E_neg = pyo.Constraint(m.Nodes, m.i, m.j, rule=abs_E_neg_rule)\n",
        "\n",
        "def upper_bound_rule(m, vert_pow, vert_volt):\n",
        "    # m.z is per-unit, m.O is per-unit\n",
        "    return sum(m.z[n, vert_pow, vert_volt] for n in m.Nodes) <= m.O\n",
        "\n",
        "m.upper_bound = pyo.Constraint(m.i, m.j, rule=upper_bound_rule)\n",
        "\n",
        "# Current magnitude constraint (I_min, I_max are assumed per-unit)\n",
        "def current_bounds_rule(m, i, j, vert_pow, vert_volt):\n",
        "    # m.I is per-unit current\n",
        "    return pyo.inequality(m.I_min[(i,j)], m.I[i,j, vert_pow, vert_volt], m.I_max[(i,j)])\n",
        "m.CurrentBounds = pyo.Constraint(m.Lines, m.i, m.j, rule=current_bounds_rule)\n",
        "\n",
        "def phase_constr_rule(m,n, vert_pow, vert_volt):\n",
        "    return pyo.inequality(theta_min/10, m.theta[n, vert_pow, vert_volt], theta_max/10)\n",
        "\n",
        "m.phaseConstr = pyo.Constraint(m.Nodes, m.i, m.j, rule=phase_constr_rule)\n",
        "\n",
        "def dc_power_flow_rule(m, i, j, vert_pow, vert_volt):\n",
        "    return m.F[i, j, vert_pow, vert_volt] == m.V_P[vert_volt]**2 *(G[i][j]['b_pu'] * (\n",
        "        m.theta[i, vert_pow, vert_volt] - m.theta[j, vert_pow, vert_volt])\n",
        "    )\n",
        "\n",
        "m.DCFlow = pyo.Constraint(m.Lines, m.i, m.j, rule=dc_power_flow_rule)\n",
        "\n",
        "\n",
        "def current_def_rule(m, n, i, j, vert_pow, vert_volt):\n",
        "    # This constraint relates per-unit current, per-unit voltage, and per-unit power flow.\n",
        "    # In per-unit, P_pu = V_pu * I_pu. This is correct.\n",
        "    return m.I[i,j, vert_pow, vert_volt] * m.V_P[vert_volt] == m.F[i,j, vert_pow, vert_volt]\n",
        "\n",
        "m.current_def = pyo.Constraint(m.Nodes, m.Lines, m.i, m.j, rule=current_def_rule)\n",
        "\n",
        "\n",
        "\n",
        "def nodes_balance(m, n, vert_pow, vert_volt):\n",
        "    inflow = sum(m.F[k, n, vert_pow, vert_volt] for k in G.predecessors(n) if (k, n) in m.Lines)\n",
        "    outflow = sum(m.F[n, j, vert_pow, vert_volt] for j in G.successors(n) if (n, j) in m.Lines)\n",
        "    if n in m.parents:\n",
        "      return inflow - outflow  ==  m.E[n, vert_pow, vert_volt] - m.P_plus[n, vert_pow, vert_volt]\n",
        "\n",
        "    if n in m.children:\n",
        "      return inflow - outflow  ==  m.E[n, vert_pow, vert_volt] + m.P_minus[n, vert_pow, vert_volt]\n",
        "\n",
        "    else:\n",
        "      return inflow - outflow ==  m.E[n,vert_pow,vert_volt]\n",
        "\n",
        "m.nodes_balance = pyo.Constraint(m.Nodes, m.i, m.j, rule=nodes_balance)\n",
        "\n",
        "\n",
        "def parent_power_constraint_rule(m, parent, vert_pow, vert_volt):\n",
        "    # m.P_plus is per-unit power entering the operational graph\n",
        "    return pyo.inequality(-1, m.P_plus[parent, vert_pow, vert_volt],1)\n",
        "\n",
        "m.parent_power_constraint = pyo.Constraint(m.parents, m.i, m.j, rule=parent_power_constraint_rule)\n",
        "\n",
        "\n",
        "#Constant voltage assumption\n",
        "def voltage_constr_rule(m, n, vert_pow, vert_volt):\n",
        "    return m.V[n, vert_pow, vert_volt] == m.V_P[vert_volt]\n",
        "\n",
        "m.voltageConstr = pyo.Constraint(m.Nodes, m.i, m.j, rule=voltage_constr_rule)\n",
        "\n",
        "def children_voltage_rule(m, children, vert_pow, vert_volt):\n",
        "    return pyo.inequality(V_min, m.V[children, vert_pow, vert_volt], V_max)\n",
        "\n",
        "m.children_voltage = pyo.Constraint(m.children, m.i, m.j, rule=children_voltage_rule)\n",
        "\n",
        "\n",
        "\n",
        "def aux_constraint_rule(m, n):\n",
        "  return m.aux[n] == m.P_C_set[n, 0] - m.P_C_set[n, 1]\n",
        "m.aux_constraint = pyo.Constraint(m.children, rule=aux_constraint_rule)\n",
        "\n",
        "def logical_constraint_rule(m, n):\n",
        "  return m.P_C_set[n, 0] >= m.P_C_set[n, 1]\n",
        "m.logical_constraint = pyo.Constraint(m.children, rule=logical_constraint_rule)\n",
        "\n",
        "\"\"\"def info_DSO_min_rule(m,n):\n",
        "  return m.P_C_set[n,1] <= m.info_DSO_param[n]\n",
        "m.info_DSO_min = pyo.Constraint(m.children, rule=info_DSO_min_rule)\n",
        "\n",
        "def info_DSO_max_rule(m,n):\n",
        "  return m.P_C_set[n,0] >= m.info_DSO_param[n]\n",
        "m.info_DSO_max = pyo.Constraint(m.children, rule=info_DSO_max_rule)\"\"\"\n",
        "\n",
        "def tot_rule(m):\n",
        "  return m.tot == sum(m.aux[n] for n in m.children)\n",
        "m.tot_constraint = pyo.Constraint(rule=tot_rule)\n",
        "\n",
        "def diff_DSO_rule(m,n):\n",
        "  return - m.diff_DSO[n] <= (m.P_C_set[n,0] + m.P_C_set[n,1])/2 - m.info_DSO_param[n]\n",
        "m.diff_DSO_constraint = pyo.Constraint(m.children, rule=diff_DSO_rule)\n",
        "\n",
        "def diff_bis_dso_rule(m,n):\n",
        "  return (m.P_C_set[n,0] + m.P_C_set[n,1])/2 - m.info_DSO_param[n] <= m.diff_DSO[n]\n",
        "m.diff_bis_dso_constraint = pyo.Constraint(m.children, rule=diff_bis_dso_rule)\n",
        "\n",
        "\n",
        "m.abs_diff_DSO = pyo.Var(m.children, domain=pyo.NonNegativeReals)\n",
        "\"\"\"def abs_different_rule(m, n):\n",
        "    return  m.abs_diff_DSO[n] >= -m.diff_DSO[n]\n",
        "m.abs_different = pyo.Constraint(m.children, rule=abs_different_rule)\n",
        "\n",
        "def abs_different_bis_rule(m, n):\n",
        "    return  m.abs_diff_DSO[n] >= m.diff_DSO[n]\n",
        "m.abs_different = pyo.Constraint(m.children, rule=abs_different_rule)\"\"\"\n",
        "\n",
        "m.tot_bis = pyo.Var(domain=pyo.Reals)\n",
        "def tot_bis_rule(m):\n",
        "  return m.tot_bis == sum(m.diff_DSO[n] for n in m.children)\n",
        "m.tot_bis_constraint = pyo.Constraint(rule=tot_bis_rule)\n",
        "\n",
        "def net_power_constr_rule(m,n, vert_pow, vert_volt):\n",
        "  return pyo.inequality(- m.P_absolute_value[n], m.E[n, vert_pow, vert_volt], m.P_absolute_value[n])\n",
        "\n",
        "m.net_power_constr = pyo.Constraint(m.Nodes, m.i, m.j, rule=net_power_constr_rule)\n",
        "\n",
        "\n",
        "\"\"\"# Auxiliary variables for the L1 norm of P_C_set\n",
        "m.abs_P_C_set = pyo.Var(m.children, domain=pyo.NonNegativeReals)\n",
        "\n",
        "# Constraints to linearize the L1 norm of P_C_set\n",
        "def abs_P_C_set_pos_rule(m, n):\n",
        "    return m.abs_P_C_set[n] >= m.aux[n]\n",
        "m.abs_P_C_set_pos = pyo.Constraint(m.children, rule=abs_P_C_set_pos_rule)\n",
        "\n",
        "def abs_P_C_set_neg_rule(m, n):\n",
        "    return m.abs_P_C_set[n] >= -m.aux[n]\n",
        "m.abs_P_C_set_neg = pyo.Constraint(m.children, rule=abs_P_C_set_neg_rule)\"\"\""
      ]
    },
    {
      "cell_type": "code",
      "execution_count": null,
      "metadata": {
        "colab": {
          "base_uri": "https://localhost:8080/"
        },
        "id": "-mZTkvu9jn1c",
        "outputId": "dbf684fa-52a8-4af3-90d8-bd985a64dc06"
      },
      "outputs": [
        {
          "output_type": "stream",
          "name": "stderr",
          "text": [
            "WARNING:pyomo.core:Implicitly replacing the Component attribute objective (type=<class 'pyomo.core.base.objective.ScalarObjective'>) on block unknown with a new Component (type=<class 'pyomo.core.base.objective.AbstractScalarObjective'>).\n",
            "This is usually indicative of a modelling error.\n",
            "To avoid this warning, use block.del_component() and block.add_component().\n"
          ]
        },
        {
          "output_type": "stream",
          "name": "stdout",
          "text": [
            "0.5\n",
            "1.5301041203156065\n",
            "-1.6597041203156064\n",
            "1.6155585246877673\n",
            "-1.4995585246877674\n",
            "Set parameter WLSAccessID\n",
            "Set parameter WLSSecret\n",
            "Set parameter LicenseID to value 2651433\n",
            "Academic license 2651433 - for non-commercial use only - registered to an___@student.uliege.be\n",
            "Read LP format model from file /tmp/tmp8nst3ky_.pyomo.lp\n",
            "Reading time = 0.00 seconds\n",
            "x1: 438 rows, 179 columns, 808 nonzeros\n",
            "Gurobi Optimizer version 12.0.3 build v12.0.3rc0 (linux64 - \"Ubuntu 22.04.4 LTS\")\n",
            "\n",
            "CPU model: Intel(R) Xeon(R) CPU @ 2.20GHz, instruction set [SSE2|AVX|AVX2]\n",
            "Thread count: 1 physical cores, 2 logical processors, using up to 2 threads\n",
            "\n",
            "Optimize a model with 438 rows, 179 columns and 808 nonzeros\n",
            "Model fingerprint: 0x266b79ea\n",
            "Coefficient statistics:\n",
            "  Matrix range     [5e-01, 2e+00]\n",
            "  Objective range  [5e-01, 1e+00]\n",
            "  Bounds range     [0e+00, 0e+00]\n",
            "  RHS range        [6e-02, 5e+01]\n",
            "Presolve removed 377 rows and 117 columns\n",
            "Presolve time: 0.00s\n",
            "Presolved: 61 rows, 62 columns, 228 nonzeros\n",
            "\n",
            "Iteration    Objective       Primal Inf.    Dual Inf.      Time\n",
            "       0    6.8453092e+00   2.645647e+01   0.000000e+00      0s\n",
            "      37    4.8820940e+00   0.000000e+00   0.000000e+00      0s\n",
            "\n",
            "Solved in 37 iterations and 0.00 seconds (0.00 work units)\n",
            "Optimal objective  4.882093968e+00\n"
          ]
        },
        {
          "output_type": "stream",
          "name": "stderr",
          "text": [
            "WARNING:pyomo.core:Implicitly replacing the Component attribute objective (type=<class 'pyomo.core.base.objective.ScalarObjective'>) on block unknown with a new Component (type=<class 'pyomo.core.base.objective.AbstractScalarObjective'>).\n",
            "This is usually indicative of a modelling error.\n",
            "To avoid this warning, use block.del_component() and block.add_component().\n"
          ]
        },
        {
          "output_type": "stream",
          "name": "stdout",
          "text": [
            "1\n",
            "1.5301041203156058\n",
            "-1.6597041203156058\n",
            "1.615558524687769\n",
            "-1.4995585246877692\n",
            "Set parameter WLSAccessID\n",
            "Set parameter WLSSecret\n",
            "Set parameter LicenseID to value 2651433\n",
            "Academic license 2651433 - for non-commercial use only - registered to an___@student.uliege.be\n",
            "Read LP format model from file /tmp/tmpc1p92o1i.pyomo.lp\n",
            "Reading time = 0.00 seconds\n",
            "x1: 438 rows, 179 columns, 808 nonzeros\n",
            "Gurobi Optimizer version 12.0.3 build v12.0.3rc0 (linux64 - \"Ubuntu 22.04.4 LTS\")\n",
            "\n",
            "CPU model: Intel(R) Xeon(R) CPU @ 2.20GHz, instruction set [SSE2|AVX|AVX2]\n",
            "Thread count: 1 physical cores, 2 logical processors, using up to 2 threads\n",
            "\n",
            "Optimize a model with 438 rows, 179 columns and 808 nonzeros\n",
            "Model fingerprint: 0xa2cf959a\n",
            "Coefficient statistics:\n",
            "  Matrix range     [5e-01, 2e+00]\n",
            "  Objective range  [1e+00, 1e+00]\n",
            "  Bounds range     [0e+00, 0e+00]\n",
            "  RHS range        [6e-02, 5e+01]\n",
            "Presolve removed 377 rows and 117 columns\n",
            "Presolve time: 0.01s\n",
            "Presolved: 61 rows, 62 columns, 228 nonzeros\n",
            "\n",
            "Iteration    Objective       Primal Inf.    Dual Inf.      Time\n",
            "       0    6.4953092e+00   3.789123e+01   0.000000e+00      0s\n",
            "      38    3.4728380e+00   0.000000e+00   0.000000e+00      0s\n",
            "\n",
            "Solved in 38 iterations and 0.01 seconds (0.00 work units)\n",
            "Optimal objective  3.472838000e+00\n"
          ]
        },
        {
          "output_type": "stream",
          "name": "stderr",
          "text": [
            "WARNING:pyomo.core:Implicitly replacing the Component attribute objective (type=<class 'pyomo.core.base.objective.ScalarObjective'>) on block unknown with a new Component (type=<class 'pyomo.core.base.objective.AbstractScalarObjective'>).\n",
            "This is usually indicative of a modelling error.\n",
            "To avoid this warning, use block.del_component() and block.add_component().\n"
          ]
        },
        {
          "output_type": "stream",
          "name": "stdout",
          "text": [
            "1.1\n",
            "1.4822464815235972\n",
            "-1.611846481523597\n",
            "1.626136554853152\n",
            "-1.611846481523597\n",
            "Set parameter WLSAccessID\n",
            "Set parameter WLSSecret\n",
            "Set parameter LicenseID to value 2651433\n",
            "Academic license 2651433 - for non-commercial use only - registered to an___@student.uliege.be\n",
            "Read LP format model from file /tmp/tmp1nxj73kn.pyomo.lp\n",
            "Reading time = 0.00 seconds\n",
            "x1: 438 rows, 179 columns, 808 nonzeros\n",
            "Gurobi Optimizer version 12.0.3 build v12.0.3rc0 (linux64 - \"Ubuntu 22.04.4 LTS\")\n",
            "\n",
            "CPU model: Intel(R) Xeon(R) CPU @ 2.20GHz, instruction set [SSE2|AVX|AVX2]\n",
            "Thread count: 1 physical cores, 2 logical processors, using up to 2 threads\n",
            "\n",
            "Optimize a model with 438 rows, 179 columns and 808 nonzeros\n",
            "Model fingerprint: 0x5d519b97\n",
            "Coefficient statistics:\n",
            "  Matrix range     [5e-01, 2e+00]\n",
            "  Objective range  [1e+00, 1e+00]\n",
            "  Bounds range     [0e+00, 0e+00]\n",
            "  RHS range        [6e-02, 5e+01]\n",
            "Presolve removed 377 rows and 117 columns\n",
            "Presolve time: 0.00s\n",
            "Presolved: 61 rows, 62 columns, 228 nonzeros\n",
            "\n",
            "Iteration    Objective       Primal Inf.    Dual Inf.      Time\n",
            "       0    5.7473859e+00   2.114846e+01   0.000000e+00      0s\n",
            "      39    3.1919997e+00   0.000000e+00   0.000000e+00      0s\n",
            "\n",
            "Solved in 39 iterations and 0.00 seconds (0.00 work units)\n",
            "Optimal objective  3.191999696e+00\n"
          ]
        },
        {
          "output_type": "stream",
          "name": "stderr",
          "text": [
            "WARNING:pyomo.core:Implicitly replacing the Component attribute objective (type=<class 'pyomo.core.base.objective.ScalarObjective'>) on block unknown with a new Component (type=<class 'pyomo.core.base.objective.AbstractScalarObjective'>).\n",
            "This is usually indicative of a modelling error.\n",
            "To avoid this warning, use block.del_component() and block.add_component().\n"
          ]
        },
        {
          "output_type": "stream",
          "name": "stdout",
          "text": [
            "1.2\n",
            "1.4822464815235972\n",
            "-1.611846481523597\n",
            "1.626136554853153\n",
            "-1.611846481523597\n",
            "Set parameter WLSAccessID\n",
            "Set parameter WLSSecret\n",
            "Set parameter LicenseID to value 2651433\n",
            "Academic license 2651433 - for non-commercial use only - registered to an___@student.uliege.be\n",
            "Read LP format model from file /tmp/tmpd5_bvy7w.pyomo.lp\n",
            "Reading time = 0.00 seconds\n",
            "x1: 438 rows, 179 columns, 808 nonzeros\n",
            "Gurobi Optimizer version 12.0.3 build v12.0.3rc0 (linux64 - \"Ubuntu 22.04.4 LTS\")\n",
            "\n",
            "CPU model: Intel(R) Xeon(R) CPU @ 2.20GHz, instruction set [SSE2|AVX|AVX2]\n",
            "Thread count: 1 physical cores, 2 logical processors, using up to 2 threads\n",
            "\n",
            "Optimize a model with 438 rows, 179 columns and 808 nonzeros\n",
            "Model fingerprint: 0xf25a5962\n",
            "Coefficient statistics:\n",
            "  Matrix range     [5e-01, 2e+00]\n",
            "  Objective range  [1e+00, 1e+00]\n",
            "  Bounds range     [0e+00, 0e+00]\n",
            "  RHS range        [6e-02, 5e+01]\n",
            "Presolve removed 377 rows and 117 columns\n",
            "Presolve time: 0.00s\n",
            "Presolved: 61 rows, 62 columns, 228 nonzeros\n",
            "\n",
            "Iteration    Objective       Primal Inf.    Dual Inf.      Time\n",
            "       0    5.7473859e+00   2.114846e+01   0.000000e+00      0s\n",
            "      39    2.9111614e+00   0.000000e+00   0.000000e+00      0s\n",
            "\n",
            "Solved in 39 iterations and 0.00 seconds (0.00 work units)\n",
            "Optimal objective  2.911161392e+00\n"
          ]
        },
        {
          "output_type": "stream",
          "name": "stderr",
          "text": [
            "WARNING:pyomo.core:Implicitly replacing the Component attribute objective (type=<class 'pyomo.core.base.objective.ScalarObjective'>) on block unknown with a new Component (type=<class 'pyomo.core.base.objective.AbstractScalarObjective'>).\n",
            "This is usually indicative of a modelling error.\n",
            "To avoid this warning, use block.del_component() and block.add_component().\n"
          ]
        },
        {
          "output_type": "stream",
          "name": "stdout",
          "text": [
            "1.3\n",
            "1.4822464815235972\n",
            "-1.611846481523597\n",
            "1.626136554853153\n",
            "-1.611846481523597\n",
            "Set parameter WLSAccessID\n",
            "Set parameter WLSSecret\n",
            "Set parameter LicenseID to value 2651433\n",
            "Academic license 2651433 - for non-commercial use only - registered to an___@student.uliege.be\n",
            "Read LP format model from file /tmp/tmp5axig9he.pyomo.lp\n",
            "Reading time = 0.00 seconds\n",
            "x1: 438 rows, 179 columns, 808 nonzeros\n",
            "Gurobi Optimizer version 12.0.3 build v12.0.3rc0 (linux64 - \"Ubuntu 22.04.4 LTS\")\n",
            "\n",
            "CPU model: Intel(R) Xeon(R) CPU @ 2.20GHz, instruction set [SSE2|AVX|AVX2]\n",
            "Thread count: 1 physical cores, 2 logical processors, using up to 2 threads\n",
            "\n",
            "Optimize a model with 438 rows, 179 columns and 808 nonzeros\n",
            "Model fingerprint: 0xe85cc952\n",
            "Coefficient statistics:\n",
            "  Matrix range     [5e-01, 2e+00]\n",
            "  Objective range  [1e+00, 1e+00]\n",
            "  Bounds range     [0e+00, 0e+00]\n",
            "  RHS range        [6e-02, 5e+01]\n",
            "Presolve removed 377 rows and 117 columns\n",
            "Presolve time: 0.00s\n",
            "Presolved: 61 rows, 62 columns, 228 nonzeros\n",
            "\n",
            "Iteration    Objective       Primal Inf.    Dual Inf.      Time\n",
            "       0    5.7473859e+00   2.114846e+01   0.000000e+00      0s\n",
            "      39    2.6303231e+00   0.000000e+00   0.000000e+00      0s\n",
            "\n",
            "Solved in 39 iterations and 0.00 seconds (0.00 work units)\n",
            "Optimal objective  2.630323089e+00\n"
          ]
        },
        {
          "output_type": "stream",
          "name": "stderr",
          "text": [
            "WARNING:pyomo.core:Implicitly replacing the Component attribute objective (type=<class 'pyomo.core.base.objective.ScalarObjective'>) on block unknown with a new Component (type=<class 'pyomo.core.base.objective.AbstractScalarObjective'>).\n",
            "This is usually indicative of a modelling error.\n",
            "To avoid this warning, use block.del_component() and block.add_component().\n"
          ]
        },
        {
          "output_type": "stream",
          "name": "stdout",
          "text": [
            "1.4\n",
            "1.4822464815235972\n",
            "-1.611846481523597\n",
            "1.626136554853153\n",
            "-1.611846481523597\n",
            "Set parameter WLSAccessID\n",
            "Set parameter WLSSecret\n",
            "Set parameter LicenseID to value 2651433\n",
            "Academic license 2651433 - for non-commercial use only - registered to an___@student.uliege.be\n",
            "Read LP format model from file /tmp/tmpl20ponmr.pyomo.lp\n",
            "Reading time = 0.00 seconds\n",
            "x1: 438 rows, 179 columns, 808 nonzeros\n",
            "Gurobi Optimizer version 12.0.3 build v12.0.3rc0 (linux64 - \"Ubuntu 22.04.4 LTS\")\n",
            "\n",
            "CPU model: Intel(R) Xeon(R) CPU @ 2.20GHz, instruction set [SSE2|AVX|AVX2]\n",
            "Thread count: 1 physical cores, 2 logical processors, using up to 2 threads\n",
            "\n",
            "Optimize a model with 438 rows, 179 columns and 808 nonzeros\n",
            "Model fingerprint: 0x70b2d72e\n",
            "Coefficient statistics:\n",
            "  Matrix range     [5e-01, 2e+00]\n",
            "  Objective range  [1e+00, 1e+00]\n",
            "  Bounds range     [0e+00, 0e+00]\n",
            "  RHS range        [6e-02, 5e+01]\n",
            "Presolve removed 377 rows and 117 columns\n",
            "Presolve time: 0.00s\n",
            "Presolved: 61 rows, 62 columns, 228 nonzeros\n",
            "\n",
            "Iteration    Objective       Primal Inf.    Dual Inf.      Time\n",
            "       0    5.7473859e+00   2.114846e+01   0.000000e+00      0s\n",
            "      39    2.3494848e+00   0.000000e+00   0.000000e+00      0s\n",
            "\n",
            "Solved in 39 iterations and 0.00 seconds (0.00 work units)\n",
            "Optimal objective  2.349484785e+00\n",
            "1.5\n",
            "1.4822464815235972\n",
            "-1.611846481523597\n",
            "1.626136554853153\n",
            "-1.611846481523597\n"
          ]
        },
        {
          "output_type": "stream",
          "name": "stderr",
          "text": [
            "WARNING:pyomo.core:Implicitly replacing the Component attribute objective (type=<class 'pyomo.core.base.objective.ScalarObjective'>) on block unknown with a new Component (type=<class 'pyomo.core.base.objective.AbstractScalarObjective'>).\n",
            "This is usually indicative of a modelling error.\n",
            "To avoid this warning, use block.del_component() and block.add_component().\n"
          ]
        },
        {
          "output_type": "stream",
          "name": "stdout",
          "text": [
            "Set parameter WLSAccessID\n",
            "Set parameter WLSSecret\n",
            "Set parameter LicenseID to value 2651433\n",
            "Academic license 2651433 - for non-commercial use only - registered to an___@student.uliege.be\n",
            "Read LP format model from file /tmp/tmpg2uakd_z.pyomo.lp\n",
            "Reading time = 0.00 seconds\n",
            "x1: 438 rows, 179 columns, 808 nonzeros\n",
            "Gurobi Optimizer version 12.0.3 build v12.0.3rc0 (linux64 - \"Ubuntu 22.04.4 LTS\")\n",
            "\n",
            "CPU model: Intel(R) Xeon(R) CPU @ 2.20GHz, instruction set [SSE2|AVX|AVX2]\n",
            "Thread count: 1 physical cores, 2 logical processors, using up to 2 threads\n",
            "\n",
            "Optimize a model with 438 rows, 179 columns and 808 nonzeros\n",
            "Model fingerprint: 0xb5185362\n",
            "Coefficient statistics:\n",
            "  Matrix range     [5e-01, 2e+00]\n",
            "  Objective range  [1e+00, 2e+00]\n",
            "  Bounds range     [0e+00, 0e+00]\n",
            "  RHS range        [6e-02, 5e+01]\n",
            "Presolve removed 377 rows and 117 columns\n",
            "Presolve time: 0.00s\n",
            "Presolved: 61 rows, 62 columns, 228 nonzeros\n",
            "\n",
            "Iteration    Objective       Primal Inf.    Dual Inf.      Time\n",
            "       0    5.7473859e+00   2.114846e+01   0.000000e+00      0s\n",
            "      41    2.0686465e+00   0.000000e+00   0.000000e+00      0s\n",
            "\n",
            "Solved in 41 iterations and 0.00 seconds (0.00 work units)\n",
            "Optimal objective  2.068646482e+00\n"
          ]
        },
        {
          "output_type": "stream",
          "name": "stderr",
          "text": [
            "WARNING:pyomo.core:Implicitly replacing the Component attribute objective (type=<class 'pyomo.core.base.objective.ScalarObjective'>) on block unknown with a new Component (type=<class 'pyomo.core.base.objective.AbstractScalarObjective'>).\n",
            "This is usually indicative of a modelling error.\n",
            "To avoid this warning, use block.del_component() and block.add_component().\n"
          ]
        },
        {
          "output_type": "stream",
          "name": "stdout",
          "text": [
            "1.6\n",
            "1.2083004821946999\n",
            "-1.611846481523597\n",
            "0.937417079706004\n",
            "-1.611846481523597\n",
            "Set parameter WLSAccessID\n",
            "Set parameter WLSSecret\n",
            "Set parameter LicenseID to value 2651433\n",
            "Academic license 2651433 - for non-commercial use only - registered to an___@student.uliege.be\n",
            "Read LP format model from file /tmp/tmp2xoq5h90.pyomo.lp\n",
            "Reading time = 0.00 seconds\n",
            "x1: 438 rows, 179 columns, 808 nonzeros\n",
            "Gurobi Optimizer version 12.0.3 build v12.0.3rc0 (linux64 - \"Ubuntu 22.04.4 LTS\")\n",
            "\n",
            "CPU model: Intel(R) Xeon(R) CPU @ 2.20GHz, instruction set [SSE2|AVX|AVX2]\n",
            "Thread count: 1 physical cores, 2 logical processors, using up to 2 threads\n",
            "\n",
            "Optimize a model with 438 rows, 179 columns and 808 nonzeros\n",
            "Model fingerprint: 0xbacfc07e\n",
            "Coefficient statistics:\n",
            "  Matrix range     [5e-01, 2e+00]\n",
            "  Objective range  [1e+00, 2e+00]\n",
            "  Bounds range     [0e+00, 0e+00]\n",
            "  RHS range        [6e-02, 5e+01]\n",
            "Presolve removed 377 rows and 117 columns\n",
            "Presolve time: 0.00s\n",
            "Presolved: 61 rows, 62 columns, 228 nonzeros\n",
            "\n",
            "Iteration    Objective       Primal Inf.    Dual Inf.      Time\n",
            "       0    5.7473859e+00   2.114846e+01   0.000000e+00      0s\n",
            "      37    1.9101538e+00   0.000000e+00   0.000000e+00      0s\n",
            "\n",
            "Solved in 37 iterations and 0.01 seconds (0.00 work units)\n",
            "Optimal objective  1.910153814e+00\n"
          ]
        },
        {
          "output_type": "stream",
          "name": "stderr",
          "text": [
            "WARNING:pyomo.core:Implicitly replacing the Component attribute objective (type=<class 'pyomo.core.base.objective.ScalarObjective'>) on block unknown with a new Component (type=<class 'pyomo.core.base.objective.AbstractScalarObjective'>).\n",
            "This is usually indicative of a modelling error.\n",
            "To avoid this warning, use block.del_component() and block.add_component().\n"
          ]
        },
        {
          "output_type": "stream",
          "name": "stdout",
          "text": [
            "1.7\n",
            "1.2822994863523702\n",
            "-1.611846481523597\n",
            "0.6026271843684753\n",
            "-1.611846481523597\n",
            "Set parameter WLSAccessID\n",
            "Set parameter WLSSecret\n",
            "Set parameter LicenseID to value 2651433\n",
            "Academic license 2651433 - for non-commercial use only - registered to an___@student.uliege.be\n",
            "Read LP format model from file /tmp/tmppjci6gpt.pyomo.lp\n",
            "Reading time = 0.00 seconds\n",
            "x1: 438 rows, 179 columns, 808 nonzeros\n",
            "Gurobi Optimizer version 12.0.3 build v12.0.3rc0 (linux64 - \"Ubuntu 22.04.4 LTS\")\n",
            "\n",
            "CPU model: Intel(R) Xeon(R) CPU @ 2.20GHz, instruction set [SSE2|AVX|AVX2]\n",
            "Thread count: 1 physical cores, 2 logical processors, using up to 2 threads\n",
            "\n",
            "Optimize a model with 438 rows, 179 columns and 808 nonzeros\n",
            "Model fingerprint: 0xd91a13a2\n",
            "Coefficient statistics:\n",
            "  Matrix range     [5e-01, 2e+00]\n",
            "  Objective range  [1e+00, 2e+00]\n",
            "  Bounds range     [0e+00, 0e+00]\n",
            "  RHS range        [6e-02, 5e+01]\n",
            "Presolve removed 377 rows and 117 columns\n",
            "Presolve time: 0.00s\n",
            "Presolved: 61 rows, 62 columns, 228 nonzeros\n",
            "\n",
            "Iteration    Objective       Primal Inf.    Dual Inf.      Time\n",
            "       0    5.7473859e+00   2.114846e+01   0.000000e+00      0s\n",
            "      37    1.7516611e+00   0.000000e+00   0.000000e+00      0s\n",
            "\n",
            "Solved in 37 iterations and 0.00 seconds (0.00 work units)\n",
            "Optimal objective  1.751661147e+00\n"
          ]
        },
        {
          "output_type": "stream",
          "name": "stderr",
          "text": [
            "WARNING:pyomo.core:Implicitly replacing the Component attribute objective (type=<class 'pyomo.core.base.objective.ScalarObjective'>) on block unknown with a new Component (type=<class 'pyomo.core.base.objective.AbstractScalarObjective'>).\n",
            "This is usually indicative of a modelling error.\n",
            "To avoid this warning, use block.del_component() and block.add_component().\n"
          ]
        },
        {
          "output_type": "stream",
          "name": "stdout",
          "text": [
            "1.8\n",
            "1.2822994863523702\n",
            "-1.611846481523597\n",
            "0.6026271843684753\n",
            "-1.611846481523597\n",
            "Set parameter WLSAccessID\n",
            "Set parameter WLSSecret\n",
            "Set parameter LicenseID to value 2651433\n",
            "Academic license 2651433 - for non-commercial use only - registered to an___@student.uliege.be\n",
            "Read LP format model from file /tmp/tmpa5vayhov.pyomo.lp\n",
            "Reading time = 0.00 seconds\n",
            "x1: 438 rows, 179 columns, 808 nonzeros\n",
            "Gurobi Optimizer version 12.0.3 build v12.0.3rc0 (linux64 - \"Ubuntu 22.04.4 LTS\")\n",
            "\n",
            "CPU model: Intel(R) Xeon(R) CPU @ 2.20GHz, instruction set [SSE2|AVX|AVX2]\n",
            "Thread count: 1 physical cores, 2 logical processors, using up to 2 threads\n",
            "\n",
            "Optimize a model with 438 rows, 179 columns and 808 nonzeros\n",
            "Model fingerprint: 0x881f734a\n",
            "Coefficient statistics:\n",
            "  Matrix range     [5e-01, 2e+00]\n",
            "  Objective range  [1e+00, 2e+00]\n",
            "  Bounds range     [0e+00, 0e+00]\n",
            "  RHS range        [6e-02, 5e+01]\n",
            "Presolve removed 377 rows and 117 columns\n",
            "Presolve time: 0.00s\n",
            "Presolved: 61 rows, 62 columns, 228 nonzeros\n",
            "\n",
            "Iteration    Objective       Primal Inf.    Dual Inf.      Time\n",
            "       0    5.7473859e+00   2.114846e+01   0.000000e+00      0s\n",
            "      37    1.5985490e+00   0.000000e+00   0.000000e+00      0s\n",
            "\n",
            "Solved in 37 iterations and 0.00 seconds (0.00 work units)\n",
            "Optimal objective  1.598548962e+00\n"
          ]
        },
        {
          "output_type": "stream",
          "name": "stderr",
          "text": [
            "WARNING:pyomo.core:Implicitly replacing the Component attribute objective (type=<class 'pyomo.core.base.objective.ScalarObjective'>) on block unknown with a new Component (type=<class 'pyomo.core.base.objective.AbstractScalarObjective'>).\n",
            "This is usually indicative of a modelling error.\n",
            "To avoid this warning, use block.del_component() and block.add_component().\n"
          ]
        },
        {
          "output_type": "stream",
          "name": "stdout",
          "text": [
            "1.9\n",
            "1.318103390894259\n",
            "-1.5468983266237573\n",
            "0.4406414172531058\n",
            "-1.611846481523597\n",
            "Set parameter WLSAccessID\n",
            "Set parameter WLSSecret\n",
            "Set parameter LicenseID to value 2651433\n",
            "Academic license 2651433 - for non-commercial use only - registered to an___@student.uliege.be\n",
            "Read LP format model from file /tmp/tmpz8pxbnt0.pyomo.lp\n",
            "Reading time = 0.00 seconds\n",
            "x1: 438 rows, 179 columns, 808 nonzeros\n",
            "Gurobi Optimizer version 12.0.3 build v12.0.3rc0 (linux64 - \"Ubuntu 22.04.4 LTS\")\n",
            "\n",
            "CPU model: Intel(R) Xeon(R) CPU @ 2.20GHz, instruction set [SSE2|AVX|AVX2]\n",
            "Thread count: 1 physical cores, 2 logical processors, using up to 2 threads\n",
            "\n",
            "Optimize a model with 438 rows, 179 columns and 808 nonzeros\n",
            "Model fingerprint: 0xf8b3222d\n",
            "Coefficient statistics:\n",
            "  Matrix range     [5e-01, 2e+00]\n",
            "  Objective range  [1e+00, 2e+00]\n",
            "  Bounds range     [0e+00, 0e+00]\n",
            "  RHS range        [6e-02, 5e+01]\n",
            "Presolve removed 377 rows and 117 columns\n",
            "Presolve time: 0.00s\n",
            "Presolved: 61 rows, 62 columns, 228 nonzeros\n",
            "\n",
            "Iteration    Objective       Primal Inf.    Dual Inf.      Time\n",
            "       0    5.7473859e+00   2.114846e+01   0.000000e+00      0s\n",
            "      37    1.4526745e+00   0.000000e+00   0.000000e+00      0s\n",
            "\n",
            "Solved in 37 iterations and 0.01 seconds (0.00 work units)\n",
            "Optimal objective  1.452674481e+00\n",
            "1.95"
          ]
        },
        {
          "output_type": "stream",
          "name": "stderr",
          "text": [
            "WARNING:pyomo.core:Implicitly replacing the Component attribute objective (type=<class 'pyomo.core.base.objective.ScalarObjective'>) on block unknown with a new Component (type=<class 'pyomo.core.base.objective.AbstractScalarObjective'>).\n",
            "This is usually indicative of a modelling error.\n",
            "To avoid this warning, use block.del_component() and block.add_component().\n"
          ]
        },
        {
          "output_type": "stream",
          "name": "stdout",
          "text": [
            "\n",
            "1.318103390894259\n",
            "-1.5468983266237573\n",
            "0.4406414172531058\n",
            "-1.611846481523597\n",
            "Set parameter WLSAccessID\n",
            "Set parameter WLSSecret\n",
            "Set parameter LicenseID to value 2651433\n",
            "Academic license 2651433 - for non-commercial use only - registered to an___@student.uliege.be\n",
            "Read LP format model from file /tmp/tmpx0gwgh9j.pyomo.lp\n",
            "Reading time = 0.00 seconds\n",
            "x1: 438 rows, 179 columns, 808 nonzeros\n",
            "Gurobi Optimizer version 12.0.3 build v12.0.3rc0 (linux64 - \"Ubuntu 22.04.4 LTS\")\n",
            "\n",
            "CPU model: Intel(R) Xeon(R) CPU @ 2.20GHz, instruction set [SSE2|AVX|AVX2]\n",
            "Thread count: 1 physical cores, 2 logical processors, using up to 2 threads\n",
            "\n",
            "Optimize a model with 438 rows, 179 columns and 808 nonzeros\n",
            "Model fingerprint: 0xb86f85e8\n",
            "Coefficient statistics:\n",
            "  Matrix range     [5e-01, 2e+00]\n",
            "  Objective range  [1e+00, 2e+00]\n",
            "  Bounds range     [0e+00, 0e+00]\n",
            "  RHS range        [6e-02, 5e+01]\n",
            "Presolve removed 377 rows and 117 columns\n",
            "Presolve time: 0.00s\n",
            "Presolved: 61 rows, 62 columns, 228 nonzeros\n",
            "\n",
            "Iteration    Objective       Primal Inf.    Dual Inf.      Time\n",
            "       0    5.7473859e+00   2.114846e+01   0.000000e+00      0s\n",
            "      37    1.3797372e+00   0.000000e+00   0.000000e+00      0s\n",
            "\n",
            "Solved in 37 iterations and 0.00 seconds (0.00 work units)\n",
            "Optimal objective  1.379737240e+00\n",
            "2"
          ]
        },
        {
          "output_type": "stream",
          "name": "stderr",
          "text": [
            "WARNING:pyomo.core:Implicitly replacing the Component attribute objective (type=<class 'pyomo.core.base.objective.ScalarObjective'>) on block unknown with a new Component (type=<class 'pyomo.core.base.objective.AbstractScalarObjective'>).\n",
            "This is usually indicative of a modelling error.\n",
            "To avoid this warning, use block.del_component() and block.add_component().\n"
          ]
        },
        {
          "output_type": "stream",
          "name": "stdout",
          "text": [
            "\n",
            "1.318103390894259\n",
            "-1.5468983266237573\n",
            "0.4406414172531058\n",
            "-1.611846481523597\n",
            "Set parameter WLSAccessID\n",
            "Set parameter WLSSecret\n",
            "Set parameter LicenseID to value 2651433\n",
            "Academic license 2651433 - for non-commercial use only - registered to an___@student.uliege.be\n",
            "Read LP format model from file /tmp/tmpmkwwz31y.pyomo.lp\n",
            "Reading time = 0.00 seconds\n",
            "x1: 438 rows, 179 columns, 808 nonzeros\n",
            "Gurobi Optimizer version 12.0.3 build v12.0.3rc0 (linux64 - \"Ubuntu 22.04.4 LTS\")\n",
            "\n",
            "CPU model: Intel(R) Xeon(R) CPU @ 2.20GHz, instruction set [SSE2|AVX|AVX2]\n",
            "Thread count: 1 physical cores, 2 logical processors, using up to 2 threads\n",
            "\n",
            "Optimize a model with 438 rows, 179 columns and 808 nonzeros\n",
            "Model fingerprint: 0x55c4e6f2\n",
            "Coefficient statistics:\n",
            "  Matrix range     [5e-01, 2e+00]\n",
            "  Objective range  [1e+00, 2e+00]\n",
            "  Bounds range     [0e+00, 0e+00]\n",
            "  RHS range        [6e-02, 5e+01]\n",
            "Presolve removed 377 rows and 117 columns\n",
            "Presolve time: 0.00s\n",
            "Presolved: 61 rows, 62 columns, 228 nonzeros\n",
            "\n",
            "Iteration    Objective       Primal Inf.    Dual Inf.      Time\n",
            "       0    5.7473859e+00   2.114846e+01   0.000000e+00      0s\n",
            "      36    1.3068000e+00   0.000000e+00   0.000000e+00      0s\n",
            "\n",
            "Solved in 36 iterations and 0.00 seconds (0.00 work units)\n",
            "Optimal objective  1.306800000e+00\n"
          ]
        },
        {
          "output_type": "stream",
          "name": "stderr",
          "text": [
            "WARNING:pyomo.core:Implicitly replacing the Component attribute objective (type=<class 'pyomo.core.base.objective.ScalarObjective'>) on block unknown with a new Component (type=<class 'pyomo.core.base.objective.AbstractScalarObjective'>).\n",
            "This is usually indicative of a modelling error.\n",
            "To avoid this warning, use block.del_component() and block.add_component().\n"
          ]
        },
        {
          "output_type": "stream",
          "name": "stdout",
          "text": [
            "2.05\n",
            "1.3181033908942652\n",
            "-1.5468983266237464\n",
            "0.44064141725307837\n",
            "-1.611846481523597\n",
            "Set parameter WLSAccessID\n",
            "Set parameter WLSSecret\n",
            "Set parameter LicenseID to value 2651433\n",
            "Academic license 2651433 - for non-commercial use only - registered to an___@student.uliege.be\n",
            "Read LP format model from file /tmp/tmpdj62jysx.pyomo.lp\n",
            "Reading time = 0.00 seconds\n",
            "x1: 438 rows, 179 columns, 808 nonzeros\n",
            "Gurobi Optimizer version 12.0.3 build v12.0.3rc0 (linux64 - \"Ubuntu 22.04.4 LTS\")\n",
            "\n",
            "CPU model: Intel(R) Xeon(R) CPU @ 2.20GHz, instruction set [SSE2|AVX|AVX2]\n",
            "Thread count: 1 physical cores, 2 logical processors, using up to 2 threads\n",
            "\n",
            "Optimize a model with 438 rows, 179 columns and 808 nonzeros\n",
            "Model fingerprint: 0xf8ef1393\n",
            "Coefficient statistics:\n",
            "  Matrix range     [5e-01, 2e+00]\n",
            "  Objective range  [1e+00, 2e+00]\n",
            "  Bounds range     [0e+00, 0e+00]\n",
            "  RHS range        [6e-02, 5e+01]\n",
            "Presolve removed 377 rows and 117 columns\n",
            "Presolve time: 0.00s\n",
            "Presolved: 61 rows, 62 columns, 228 nonzeros\n",
            "\n",
            "Iteration    Objective       Primal Inf.    Dual Inf.      Time\n",
            "       0    5.7473859e+00   2.114846e+01   0.000000e+00      0s\n",
            "      42    1.3068000e+00   0.000000e+00   0.000000e+00      0s\n",
            "\n",
            "Solved in 42 iterations and 0.01 seconds (0.00 work units)\n",
            "Optimal objective  1.306800000e+00\n"
          ]
        },
        {
          "output_type": "stream",
          "name": "stderr",
          "text": [
            "WARNING:pyomo.core:Implicitly replacing the Component attribute objective (type=<class 'pyomo.core.base.objective.ScalarObjective'>) on block unknown with a new Component (type=<class 'pyomo.core.base.objective.AbstractScalarObjective'>).\n",
            "This is usually indicative of a modelling error.\n",
            "To avoid this warning, use block.del_component() and block.add_component().\n"
          ]
        },
        {
          "output_type": "stream",
          "name": "stdout",
          "text": [
            "2.1\n",
            "0.024659587881951245\n",
            "-1.5406595878819291\n",
            "0.27534041211804366\n",
            "-0.15934041211804367\n",
            "Set parameter WLSAccessID\n",
            "Set parameter WLSSecret\n",
            "Set parameter LicenseID to value 2651433\n",
            "Academic license 2651433 - for non-commercial use only - registered to an___@student.uliege.be\n",
            "Read LP format model from file /tmp/tmpkt4rjiqs.pyomo.lp\n",
            "Reading time = 0.00 seconds\n",
            "x1: 438 rows, 179 columns, 808 nonzeros\n",
            "Gurobi Optimizer version 12.0.3 build v12.0.3rc0 (linux64 - \"Ubuntu 22.04.4 LTS\")\n",
            "\n",
            "CPU model: Intel(R) Xeon(R) CPU @ 2.20GHz, instruction set [SSE2|AVX|AVX2]\n",
            "Thread count: 1 physical cores, 2 logical processors, using up to 2 threads\n",
            "\n",
            "Optimize a model with 438 rows, 179 columns and 808 nonzeros\n",
            "Model fingerprint: 0x6d06729e\n",
            "Coefficient statistics:\n",
            "  Matrix range     [5e-01, 2e+00]\n",
            "  Objective range  [1e+00, 2e+00]\n",
            "  Bounds range     [0e+00, 0e+00]\n",
            "  RHS range        [6e-02, 5e+01]\n",
            "Presolve removed 377 rows and 117 columns\n",
            "Presolve time: 0.01s\n",
            "Presolved: 61 rows, 62 columns, 228 nonzeros\n",
            "\n",
            "Iteration    Objective       Primal Inf.    Dual Inf.      Time\n",
            "       0    5.7473859e+00   2.114846e+01   0.000000e+00      0s\n",
            "      42    1.3068000e+00   0.000000e+00   0.000000e+00      0s\n",
            "\n",
            "Solved in 42 iterations and 0.01 seconds (0.00 work units)\n",
            "Optimal objective  1.306800000e+00\n"
          ]
        },
        {
          "output_type": "stream",
          "name": "stderr",
          "text": [
            "WARNING:pyomo.core:Implicitly replacing the Component attribute objective (type=<class 'pyomo.core.base.objective.ScalarObjective'>) on block unknown with a new Component (type=<class 'pyomo.core.base.objective.AbstractScalarObjective'>).\n",
            "This is usually indicative of a modelling error.\n",
            "To avoid this warning, use block.del_component() and block.add_component().\n"
          ]
        },
        {
          "output_type": "stream",
          "name": "stdout",
          "text": [
            "2.2\n",
            "0.024659587881951245\n",
            "-1.5406595878819291\n",
            "0.27534041211804366\n",
            "-0.15934041211804367\n",
            "Set parameter WLSAccessID\n",
            "Set parameter WLSSecret\n",
            "Set parameter LicenseID to value 2651433\n",
            "Academic license 2651433 - for non-commercial use only - registered to an___@student.uliege.be\n",
            "Read LP format model from file /tmp/tmp_d5xzwb7.pyomo.lp\n",
            "Reading time = 0.00 seconds\n",
            "x1: 438 rows, 179 columns, 808 nonzeros\n",
            "Gurobi Optimizer version 12.0.3 build v12.0.3rc0 (linux64 - \"Ubuntu 22.04.4 LTS\")\n",
            "\n",
            "CPU model: Intel(R) Xeon(R) CPU @ 2.20GHz, instruction set [SSE2|AVX|AVX2]\n",
            "Thread count: 1 physical cores, 2 logical processors, using up to 2 threads\n",
            "\n",
            "Optimize a model with 438 rows, 179 columns and 808 nonzeros\n",
            "Model fingerprint: 0xfe6b0f50\n",
            "Coefficient statistics:\n",
            "  Matrix range     [5e-01, 2e+00]\n",
            "  Objective range  [1e+00, 2e+00]\n",
            "  Bounds range     [0e+00, 0e+00]\n",
            "  RHS range        [6e-02, 5e+01]\n",
            "Presolve removed 377 rows and 117 columns\n",
            "Presolve time: 0.00s\n",
            "Presolved: 61 rows, 62 columns, 228 nonzeros\n",
            "\n",
            "Iteration    Objective       Primal Inf.    Dual Inf.      Time\n",
            "       0    5.7473859e+00   2.114846e+01   0.000000e+00      0s\n",
            "      42    1.3068000e+00   0.000000e+00   0.000000e+00      0s\n",
            "\n",
            "Solved in 42 iterations and 0.00 seconds (0.00 work units)\n",
            "Optimal objective  1.306800000e+00\n",
            "2.3\n",
            "0.024659587881951245\n",
            "-1.5406595878819291\n",
            "0.27534041211804366\n",
            "-0.15934041211804367\n"
          ]
        },
        {
          "output_type": "stream",
          "name": "stderr",
          "text": [
            "WARNING:pyomo.core:Implicitly replacing the Component attribute objective (type=<class 'pyomo.core.base.objective.ScalarObjective'>) on block unknown with a new Component (type=<class 'pyomo.core.base.objective.AbstractScalarObjective'>).\n",
            "This is usually indicative of a modelling error.\n",
            "To avoid this warning, use block.del_component() and block.add_component().\n"
          ]
        },
        {
          "output_type": "stream",
          "name": "stdout",
          "text": [
            "Set parameter WLSAccessID\n",
            "Set parameter WLSSecret\n",
            "Set parameter LicenseID to value 2651433\n",
            "Academic license 2651433 - for non-commercial use only - registered to an___@student.uliege.be\n",
            "Read LP format model from file /tmp/tmpp_0ja_4c.pyomo.lp\n",
            "Reading time = 0.00 seconds\n",
            "x1: 438 rows, 179 columns, 808 nonzeros\n",
            "Gurobi Optimizer version 12.0.3 build v12.0.3rc0 (linux64 - \"Ubuntu 22.04.4 LTS\")\n",
            "\n",
            "CPU model: Intel(R) Xeon(R) CPU @ 2.20GHz, instruction set [SSE2|AVX|AVX2]\n",
            "Thread count: 1 physical cores, 2 logical processors, using up to 2 threads\n",
            "\n",
            "Optimize a model with 438 rows, 179 columns and 808 nonzeros\n",
            "Model fingerprint: 0x17b32408\n",
            "Coefficient statistics:\n",
            "  Matrix range     [5e-01, 2e+00]\n",
            "  Objective range  [1e+00, 2e+00]\n",
            "  Bounds range     [0e+00, 0e+00]\n",
            "  RHS range        [6e-02, 5e+01]\n",
            "Presolve removed 377 rows and 117 columns\n",
            "Presolve time: 0.00s\n",
            "Presolved: 61 rows, 62 columns, 228 nonzeros\n",
            "\n",
            "Iteration    Objective       Primal Inf.    Dual Inf.      Time\n",
            "       0    5.7473859e+00   2.114846e+01   0.000000e+00      0s\n",
            "      42    1.3068000e+00   0.000000e+00   0.000000e+00      0s\n",
            "\n",
            "Solved in 42 iterations and 0.01 seconds (0.00 work units)\n",
            "Optimal objective  1.306800000e+00\n",
            "2.4\n",
            "0.024659587881951245\n",
            "-1.5406595878819291\n",
            "0.27534041211804366\n",
            "-0.15934041211804367\n"
          ]
        },
        {
          "output_type": "stream",
          "name": "stderr",
          "text": [
            "WARNING:pyomo.core:Implicitly replacing the Component attribute objective (type=<class 'pyomo.core.base.objective.ScalarObjective'>) on block unknown with a new Component (type=<class 'pyomo.core.base.objective.AbstractScalarObjective'>).\n",
            "This is usually indicative of a modelling error.\n",
            "To avoid this warning, use block.del_component() and block.add_component().\n"
          ]
        },
        {
          "output_type": "stream",
          "name": "stdout",
          "text": [
            "Set parameter WLSAccessID\n",
            "Set parameter WLSSecret\n",
            "Set parameter LicenseID to value 2651433\n",
            "Academic license 2651433 - for non-commercial use only - registered to an___@student.uliege.be\n",
            "Read LP format model from file /tmp/tmpcwgi9amr.pyomo.lp\n",
            "Reading time = 0.00 seconds\n",
            "x1: 438 rows, 179 columns, 808 nonzeros\n",
            "Gurobi Optimizer version 12.0.3 build v12.0.3rc0 (linux64 - \"Ubuntu 22.04.4 LTS\")\n",
            "\n",
            "CPU model: Intel(R) Xeon(R) CPU @ 2.20GHz, instruction set [SSE2|AVX|AVX2]\n",
            "Thread count: 1 physical cores, 2 logical processors, using up to 2 threads\n",
            "\n",
            "Optimize a model with 438 rows, 179 columns and 808 nonzeros\n",
            "Model fingerprint: 0xc4dcbe59\n",
            "Coefficient statistics:\n",
            "  Matrix range     [5e-01, 2e+00]\n",
            "  Objective range  [1e+00, 2e+00]\n",
            "  Bounds range     [0e+00, 0e+00]\n",
            "  RHS range        [6e-02, 5e+01]\n",
            "Presolve removed 377 rows and 117 columns\n",
            "Presolve time: 0.00s\n",
            "Presolved: 61 rows, 62 columns, 228 nonzeros\n",
            "\n",
            "Iteration    Objective       Primal Inf.    Dual Inf.      Time\n",
            "       0    5.7473859e+00   2.114846e+01   0.000000e+00      0s\n",
            "      42    1.3068000e+00   0.000000e+00   0.000000e+00      0s\n",
            "\n",
            "Solved in 42 iterations and 0.01 seconds (0.00 work units)\n",
            "Optimal objective  1.306800000e+00\n",
            "2.5"
          ]
        },
        {
          "output_type": "stream",
          "name": "stderr",
          "text": [
            "WARNING:pyomo.core:Implicitly replacing the Component attribute objective (type=<class 'pyomo.core.base.objective.ScalarObjective'>) on block unknown with a new Component (type=<class 'pyomo.core.base.objective.AbstractScalarObjective'>).\n",
            "This is usually indicative of a modelling error.\n",
            "To avoid this warning, use block.del_component() and block.add_component().\n"
          ]
        },
        {
          "output_type": "stream",
          "name": "stdout",
          "text": [
            "\n",
            "0.024659587881951245\n",
            "-1.5406595878819291\n",
            "0.27534041211804366\n",
            "-0.15934041211804367\n",
            "Set parameter WLSAccessID\n",
            "Set parameter WLSSecret\n",
            "Set parameter LicenseID to value 2651433\n",
            "Academic license 2651433 - for non-commercial use only - registered to an___@student.uliege.be\n",
            "Read LP format model from file /tmp/tmpueki2tif.pyomo.lp\n",
            "Reading time = 0.00 seconds\n",
            "x1: 438 rows, 179 columns, 808 nonzeros\n",
            "Gurobi Optimizer version 12.0.3 build v12.0.3rc0 (linux64 - \"Ubuntu 22.04.4 LTS\")\n",
            "\n",
            "CPU model: Intel(R) Xeon(R) CPU @ 2.20GHz, instruction set [SSE2|AVX|AVX2]\n",
            "Thread count: 1 physical cores, 2 logical processors, using up to 2 threads\n",
            "\n",
            "Optimize a model with 438 rows, 179 columns and 808 nonzeros\n",
            "Model fingerprint: 0xaddd197a\n",
            "Coefficient statistics:\n",
            "  Matrix range     [5e-01, 2e+00]\n",
            "  Objective range  [1e+00, 2e+00]\n",
            "  Bounds range     [0e+00, 0e+00]\n",
            "  RHS range        [6e-02, 5e+01]\n",
            "Presolve removed 377 rows and 117 columns\n",
            "Presolve time: 0.00s\n",
            "Presolved: 61 rows, 62 columns, 228 nonzeros\n",
            "\n",
            "Iteration    Objective       Primal Inf.    Dual Inf.      Time\n",
            "       0    5.7473859e+00   2.114846e+01   0.000000e+00      0s\n",
            "      42    1.3068000e+00   0.000000e+00   0.000000e+00      0s\n",
            "\n",
            "Solved in 42 iterations and 0.00 seconds (0.00 work units)\n",
            "Optimal objective  1.306800000e+00\n"
          ]
        },
        {
          "output_type": "stream",
          "name": "stderr",
          "text": [
            "WARNING:pyomo.core:Implicitly replacing the Component attribute objective (type=<class 'pyomo.core.base.objective.ScalarObjective'>) on block unknown with a new Component (type=<class 'pyomo.core.base.objective.AbstractScalarObjective'>).\n",
            "This is usually indicative of a modelling error.\n",
            "To avoid this warning, use block.del_component() and block.add_component().\n"
          ]
        },
        {
          "output_type": "stream",
          "name": "stdout",
          "text": [
            "2.6\n",
            "0.024659587881951245\n",
            "-1.5406595878819291\n",
            "0.27534041211804366\n",
            "-0.15934041211804367\n",
            "Set parameter WLSAccessID\n",
            "Set parameter WLSSecret\n",
            "Set parameter LicenseID to value 2651433\n",
            "Academic license 2651433 - for non-commercial use only - registered to an___@student.uliege.be\n",
            "Read LP format model from file /tmp/tmpznqk2_29.pyomo.lp\n",
            "Reading time = 0.00 seconds\n",
            "x1: 438 rows, 179 columns, 808 nonzeros\n",
            "Gurobi Optimizer version 12.0.3 build v12.0.3rc0 (linux64 - \"Ubuntu 22.04.4 LTS\")\n",
            "\n",
            "CPU model: Intel(R) Xeon(R) CPU @ 2.20GHz, instruction set [SSE2|AVX|AVX2]\n",
            "Thread count: 1 physical cores, 2 logical processors, using up to 2 threads\n",
            "\n",
            "Optimize a model with 438 rows, 179 columns and 808 nonzeros\n",
            "Model fingerprint: 0x67e542e9\n",
            "Coefficient statistics:\n",
            "  Matrix range     [5e-01, 2e+00]\n",
            "  Objective range  [1e+00, 3e+00]\n",
            "  Bounds range     [0e+00, 0e+00]\n",
            "  RHS range        [6e-02, 5e+01]\n",
            "Presolve removed 377 rows and 117 columns\n",
            "Presolve time: 0.00s\n",
            "Presolved: 61 rows, 62 columns, 228 nonzeros\n",
            "\n",
            "Iteration    Objective       Primal Inf.    Dual Inf.      Time\n",
            "       0    5.7473859e+00   2.114846e+01   0.000000e+00      0s\n",
            "      42    1.3068000e+00   0.000000e+00   0.000000e+00      0s\n",
            "\n",
            "Solved in 42 iterations and 0.00 seconds (0.00 work units)\n",
            "Optimal objective  1.306800000e+00\n"
          ]
        },
        {
          "output_type": "stream",
          "name": "stderr",
          "text": [
            "WARNING:pyomo.core:Implicitly replacing the Component attribute objective (type=<class 'pyomo.core.base.objective.ScalarObjective'>) on block unknown with a new Component (type=<class 'pyomo.core.base.objective.AbstractScalarObjective'>).\n",
            "This is usually indicative of a modelling error.\n",
            "To avoid this warning, use block.del_component() and block.add_component().\n"
          ]
        },
        {
          "output_type": "stream",
          "name": "stdout",
          "text": [
            "2.7\n",
            "0.024659587881951245\n",
            "-1.5406595878819291\n",
            "0.27534041211804366\n",
            "-0.15934041211804367\n",
            "Set parameter WLSAccessID\n",
            "Set parameter WLSSecret\n",
            "Set parameter LicenseID to value 2651433\n",
            "Academic license 2651433 - for non-commercial use only - registered to an___@student.uliege.be\n",
            "Read LP format model from file /tmp/tmprx4_ghl_.pyomo.lp\n",
            "Reading time = 0.00 seconds\n",
            "x1: 438 rows, 179 columns, 808 nonzeros\n",
            "Gurobi Optimizer version 12.0.3 build v12.0.3rc0 (linux64 - \"Ubuntu 22.04.4 LTS\")\n",
            "\n",
            "CPU model: Intel(R) Xeon(R) CPU @ 2.20GHz, instruction set [SSE2|AVX|AVX2]\n",
            "Thread count: 1 physical cores, 2 logical processors, using up to 2 threads\n",
            "\n",
            "Optimize a model with 438 rows, 179 columns and 808 nonzeros\n",
            "Model fingerprint: 0xbd15191d\n",
            "Coefficient statistics:\n",
            "  Matrix range     [5e-01, 2e+00]\n",
            "  Objective range  [1e+00, 3e+00]\n",
            "  Bounds range     [0e+00, 0e+00]\n",
            "  RHS range        [6e-02, 5e+01]\n",
            "Presolve removed 377 rows and 117 columns\n",
            "Presolve time: 0.00s\n",
            "Presolved: 61 rows, 62 columns, 228 nonzeros\n",
            "\n",
            "Iteration    Objective       Primal Inf.    Dual Inf.      Time\n",
            "       0    5.7473859e+00   2.114846e+01   0.000000e+00      0s\n",
            "      42    1.3068000e+00   0.000000e+00   0.000000e+00      0s\n",
            "\n",
            "Solved in 42 iterations and 0.01 seconds (0.00 work units)\n",
            "Optimal objective  1.306800000e+00\n",
            "2.8"
          ]
        },
        {
          "output_type": "stream",
          "name": "stderr",
          "text": [
            "WARNING:pyomo.core:Implicitly replacing the Component attribute objective (type=<class 'pyomo.core.base.objective.ScalarObjective'>) on block unknown with a new Component (type=<class 'pyomo.core.base.objective.AbstractScalarObjective'>).\n",
            "This is usually indicative of a modelling error.\n",
            "To avoid this warning, use block.del_component() and block.add_component().\n"
          ]
        },
        {
          "output_type": "stream",
          "name": "stdout",
          "text": [
            "\n",
            "0.024659587881951245\n",
            "-1.5406595878819291\n",
            "0.27534041211804366\n",
            "-0.15934041211804367\n",
            "Set parameter WLSAccessID\n",
            "Set parameter WLSSecret\n",
            "Set parameter LicenseID to value 2651433\n",
            "Academic license 2651433 - for non-commercial use only - registered to an___@student.uliege.be\n",
            "Read LP format model from file /tmp/tmpytt3mrck.pyomo.lp\n",
            "Reading time = 0.00 seconds\n",
            "x1: 438 rows, 179 columns, 808 nonzeros\n",
            "Gurobi Optimizer version 12.0.3 build v12.0.3rc0 (linux64 - \"Ubuntu 22.04.4 LTS\")\n",
            "\n",
            "CPU model: Intel(R) Xeon(R) CPU @ 2.20GHz, instruction set [SSE2|AVX|AVX2]\n",
            "Thread count: 1 physical cores, 2 logical processors, using up to 2 threads\n",
            "\n",
            "Optimize a model with 438 rows, 179 columns and 808 nonzeros\n",
            "Model fingerprint: 0x022ab4e4\n",
            "Coefficient statistics:\n",
            "  Matrix range     [5e-01, 2e+00]\n",
            "  Objective range  [1e+00, 3e+00]\n",
            "  Bounds range     [0e+00, 0e+00]\n",
            "  RHS range        [6e-02, 5e+01]\n",
            "Presolve removed 377 rows and 117 columns\n",
            "Presolve time: 0.00s\n",
            "Presolved: 61 rows, 62 columns, 228 nonzeros\n",
            "\n",
            "Iteration    Objective       Primal Inf.    Dual Inf.      Time\n",
            "       0    5.7473859e+00   2.114846e+01   0.000000e+00      0s\n",
            "      42    1.3068000e+00   0.000000e+00   0.000000e+00      0s\n",
            "\n",
            "Solved in 42 iterations and 0.00 seconds (0.00 work units)\n",
            "Optimal objective  1.306800000e+00\n",
            "2.9"
          ]
        },
        {
          "output_type": "stream",
          "name": "stderr",
          "text": [
            "WARNING:pyomo.core:Implicitly replacing the Component attribute objective (type=<class 'pyomo.core.base.objective.ScalarObjective'>) on block unknown with a new Component (type=<class 'pyomo.core.base.objective.AbstractScalarObjective'>).\n",
            "This is usually indicative of a modelling error.\n",
            "To avoid this warning, use block.del_component() and block.add_component().\n"
          ]
        },
        {
          "output_type": "stream",
          "name": "stdout",
          "text": [
            "\n",
            "0.024659587881951245\n",
            "-1.5406595878819291\n",
            "0.27534041211804366\n",
            "-0.15934041211804367\n",
            "Set parameter WLSAccessID\n",
            "Set parameter WLSSecret\n",
            "Set parameter LicenseID to value 2651433\n",
            "Academic license 2651433 - for non-commercial use only - registered to an___@student.uliege.be\n",
            "Read LP format model from file /tmp/tmpzoxc5gw4.pyomo.lp\n",
            "Reading time = 0.00 seconds\n",
            "x1: 438 rows, 179 columns, 808 nonzeros\n",
            "Gurobi Optimizer version 12.0.3 build v12.0.3rc0 (linux64 - \"Ubuntu 22.04.4 LTS\")\n",
            "\n",
            "CPU model: Intel(R) Xeon(R) CPU @ 2.20GHz, instruction set [SSE2|AVX|AVX2]\n",
            "Thread count: 1 physical cores, 2 logical processors, using up to 2 threads\n",
            "\n",
            "Optimize a model with 438 rows, 179 columns and 808 nonzeros\n",
            "Model fingerprint: 0x0478c6fd\n",
            "Coefficient statistics:\n",
            "  Matrix range     [5e-01, 2e+00]\n",
            "  Objective range  [1e+00, 3e+00]\n",
            "  Bounds range     [0e+00, 0e+00]\n",
            "  RHS range        [6e-02, 5e+01]\n",
            "Presolve removed 377 rows and 117 columns\n",
            "Presolve time: 0.00s\n",
            "Presolved: 61 rows, 62 columns, 228 nonzeros\n",
            "\n",
            "Iteration    Objective       Primal Inf.    Dual Inf.      Time\n",
            "       0    5.7473859e+00   2.114846e+01   0.000000e+00      0s\n",
            "      42    1.3068000e+00   0.000000e+00   0.000000e+00      0s\n",
            "\n",
            "Solved in 42 iterations and 0.00 seconds (0.00 work units)\n",
            "Optimal objective  1.306800000e+00\n"
          ]
        },
        {
          "output_type": "stream",
          "name": "stderr",
          "text": [
            "WARNING:pyomo.core:Implicitly replacing the Component attribute objective (type=<class 'pyomo.core.base.objective.ScalarObjective'>) on block unknown with a new Component (type=<class 'pyomo.core.base.objective.AbstractScalarObjective'>).\n",
            "This is usually indicative of a modelling error.\n",
            "To avoid this warning, use block.del_component() and block.add_component().\n"
          ]
        },
        {
          "output_type": "stream",
          "name": "stdout",
          "text": [
            "3\n",
            "0.024659587881951245\n",
            "-1.5406595878819291\n",
            "0.27534041211804366\n",
            "-0.15934041211804367\n",
            "Set parameter WLSAccessID\n",
            "Set parameter WLSSecret\n",
            "Set parameter LicenseID to value 2651433\n",
            "Academic license 2651433 - for non-commercial use only - registered to an___@student.uliege.be\n",
            "Read LP format model from file /tmp/tmpqvmwij0f.pyomo.lp\n",
            "Reading time = 0.00 seconds\n",
            "x1: 438 rows, 179 columns, 808 nonzeros\n",
            "Gurobi Optimizer version 12.0.3 build v12.0.3rc0 (linux64 - \"Ubuntu 22.04.4 LTS\")\n",
            "\n",
            "CPU model: Intel(R) Xeon(R) CPU @ 2.20GHz, instruction set [SSE2|AVX|AVX2]\n",
            "Thread count: 1 physical cores, 2 logical processors, using up to 2 threads\n",
            "\n",
            "Optimize a model with 438 rows, 179 columns and 808 nonzeros\n",
            "Model fingerprint: 0xc26fa8c2\n",
            "Coefficient statistics:\n",
            "  Matrix range     [5e-01, 2e+00]\n",
            "  Objective range  [1e+00, 3e+00]\n",
            "  Bounds range     [0e+00, 0e+00]\n",
            "  RHS range        [6e-02, 5e+01]\n",
            "Presolve removed 377 rows and 117 columns\n",
            "Presolve time: 0.00s\n",
            "Presolved: 61 rows, 62 columns, 228 nonzeros\n",
            "\n",
            "Iteration    Objective       Primal Inf.    Dual Inf.      Time\n",
            "       0    5.7473859e+00   2.114846e+01   0.000000e+00      0s\n",
            "      42    1.3068000e+00   0.000000e+00   0.000000e+00      0s\n",
            "\n",
            "Solved in 42 iterations and 0.01 seconds (0.00 work units)\n",
            "Optimal objective  1.306800000e+00\n",
            "3.1"
          ]
        },
        {
          "output_type": "stream",
          "name": "stderr",
          "text": [
            "WARNING:pyomo.core:Implicitly replacing the Component attribute objective (type=<class 'pyomo.core.base.objective.ScalarObjective'>) on block unknown with a new Component (type=<class 'pyomo.core.base.objective.AbstractScalarObjective'>).\n",
            "This is usually indicative of a modelling error.\n",
            "To avoid this warning, use block.del_component() and block.add_component().\n"
          ]
        },
        {
          "output_type": "stream",
          "name": "stdout",
          "text": [
            "\n",
            "0.024659587881951245\n",
            "-1.5406595878819291\n",
            "0.27534041211804366\n",
            "-0.15934041211804367\n",
            "Set parameter WLSAccessID\n",
            "Set parameter WLSSecret\n",
            "Set parameter LicenseID to value 2651433\n",
            "Academic license 2651433 - for non-commercial use only - registered to an___@student.uliege.be\n",
            "Read LP format model from file /tmp/tmpiljp126e.pyomo.lp\n",
            "Reading time = 0.00 seconds\n",
            "x1: 438 rows, 179 columns, 808 nonzeros\n",
            "Gurobi Optimizer version 12.0.3 build v12.0.3rc0 (linux64 - \"Ubuntu 22.04.4 LTS\")\n",
            "\n",
            "CPU model: Intel(R) Xeon(R) CPU @ 2.20GHz, instruction set [SSE2|AVX|AVX2]\n",
            "Thread count: 1 physical cores, 2 logical processors, using up to 2 threads\n",
            "\n",
            "Optimize a model with 438 rows, 179 columns and 808 nonzeros\n",
            "Model fingerprint: 0xdd57de0f\n",
            "Coefficient statistics:\n",
            "  Matrix range     [5e-01, 2e+00]\n",
            "  Objective range  [1e+00, 3e+00]\n",
            "  Bounds range     [0e+00, 0e+00]\n",
            "  RHS range        [6e-02, 5e+01]\n",
            "Presolve removed 377 rows and 117 columns\n",
            "Presolve time: 0.00s\n",
            "Presolved: 61 rows, 62 columns, 228 nonzeros\n",
            "\n",
            "Iteration    Objective       Primal Inf.    Dual Inf.      Time\n",
            "       0    5.7473859e+00   2.114846e+01   0.000000e+00      0s\n",
            "      42    1.3068000e+00   0.000000e+00   0.000000e+00      0s\n",
            "\n",
            "Solved in 42 iterations and 0.00 seconds (0.00 work units)\n",
            "Optimal objective  1.306800000e+00\n",
            "3.2"
          ]
        },
        {
          "output_type": "stream",
          "name": "stderr",
          "text": [
            "WARNING:pyomo.core:Implicitly replacing the Component attribute objective (type=<class 'pyomo.core.base.objective.ScalarObjective'>) on block unknown with a new Component (type=<class 'pyomo.core.base.objective.AbstractScalarObjective'>).\n",
            "This is usually indicative of a modelling error.\n",
            "To avoid this warning, use block.del_component() and block.add_component().\n"
          ]
        },
        {
          "output_type": "stream",
          "name": "stdout",
          "text": [
            "\n",
            "0.024659587881951245\n",
            "-1.5406595878819291\n",
            "0.27534041211804366\n",
            "-0.15934041211804367\n",
            "Set parameter WLSAccessID\n",
            "Set parameter WLSSecret\n",
            "Set parameter LicenseID to value 2651433\n",
            "Academic license 2651433 - for non-commercial use only - registered to an___@student.uliege.be\n",
            "Read LP format model from file /tmp/tmp9j804te6.pyomo.lp\n",
            "Reading time = 0.00 seconds\n",
            "x1: 438 rows, 179 columns, 808 nonzeros\n",
            "Gurobi Optimizer version 12.0.3 build v12.0.3rc0 (linux64 - \"Ubuntu 22.04.4 LTS\")\n",
            "\n",
            "CPU model: Intel(R) Xeon(R) CPU @ 2.20GHz, instruction set [SSE2|AVX|AVX2]\n",
            "Thread count: 1 physical cores, 2 logical processors, using up to 2 threads\n",
            "\n",
            "Optimize a model with 438 rows, 179 columns and 808 nonzeros\n",
            "Model fingerprint: 0x148c2c30\n",
            "Coefficient statistics:\n",
            "  Matrix range     [5e-01, 2e+00]\n",
            "  Objective range  [1e+00, 3e+00]\n",
            "  Bounds range     [0e+00, 0e+00]\n",
            "  RHS range        [6e-02, 5e+01]\n",
            "Presolve removed 377 rows and 117 columns\n",
            "Presolve time: 0.00s\n",
            "Presolved: 61 rows, 62 columns, 228 nonzeros\n",
            "\n",
            "Iteration    Objective       Primal Inf.    Dual Inf.      Time\n",
            "       0    5.7473859e+00   2.114846e+01   0.000000e+00      0s\n",
            "      42    1.3068000e+00   0.000000e+00   0.000000e+00      0s\n",
            "\n",
            "Solved in 42 iterations and 0.01 seconds (0.00 work units)\n",
            "Optimal objective  1.306800000e+00\n"
          ]
        }
      ],
      "source": [
        "A = [0.5,1,1.1,1.2,1.3,1.4,1.5,1.6,1.7,1.8,1.9,1.95,2,2.05,2.1,2.2,2.3,2.4,2.5,2.6,2.7,2.8,2.9,3,3.1,3.2]\n",
        "#A = range(-3, 26)\n",
        "beta = 1\n",
        "enveloppe_taille = []\n",
        "curtail = []\n",
        "close = []\n",
        "\n",
        "for alpha in A:\n",
        "  val = 0\n",
        "  print(alpha)\n",
        "  print(m.P_C_set[1,0].value)\n",
        "  print(m.P_C_set[1,1].value)\n",
        "\n",
        "  print(m.P_C_set[2,0].value)\n",
        "  print(m.P_C_set[2,1].value)\n",
        "  def objective_rule(m):\n",
        "    return  m.tot - alpha*m.O - beta * m.tot_bis\n",
        "  m.objective = pyo.Objective(rule=objective_rule, sense=pyo.maximize)\n",
        "  params = {\n",
        "    \"WLSACCESSID\": 'efa10779-150a-495c-ab62-6a20ff44c598',\n",
        "    \"WLSSECRET\": 'fa980d94-a6fd-4d7b-aa68-b0e19ddd2e84',\n",
        "    \"LICENSEID\": 2651433,\n",
        "           }\n",
        "  env = gp.Env(params=params)\n",
        "  solver = pyo.SolverFactory('gurobi', env= env)\n",
        "  results = solver.solve(m, tee=True)\n",
        "\n",
        "  # Check the termination condition before accessing results\n",
        "  if results.solver.termination_condition == pyo.TerminationCondition.optimal:\n",
        "      val = sum(abs(m.P_C_set[n,0].value) + abs(m.P_C_set[n,1].value) for n in m.children)\n",
        "      # Append optimal results to lists\n",
        "      curtail.append(m.O.value)\n",
        "      enveloppe_taille.append(m.tot.value)\n",
        "      close.append(m.tot_bis.value)\n",
        "\n",
        "  else:\n",
        "      # Append None for non-optimal results to maintain list length\n",
        "      curtail.append(None)\n",
        "      enveloppe_taille.append(None)\n",
        "      close.append(None)"
      ]
    },
    {
      "cell_type": "code",
      "source": [
        "print(enveloppe_taille)\n",
        "print(curtail)\n",
        "print(close)"
      ],
      "metadata": {
        "colab": {
          "base_uri": "https://localhost:8080/"
        },
        "id": "1NVontHX56qn",
        "outputId": "8e3f66f5-4c98-4376-816e-aceae1a594cd"
      },
      "execution_count": null,
      "outputs": [
        {
          "output_type": "stream",
          "name": "stdout",
          "text": [
            "[6.30492529000675, 6.332075999423943, 6.332075999423944, 6.332075999423944, 6.332075999423944, 6.332075999423944, 5.369410524947899, 5.10861963376804, 5.10861963376804, 4.917489616294719, 4.917489616294719, 4.917489616294719, 4.917489616294687, 1.9999999999999678, 1.9999999999999678, 1.9999999999999678, 1.9999999999999678, 1.9999999999999678, 1.9999999999999678, 1.9999999999999678, 1.9999999999999678, 1.9999999999999678, 1.9999999999999678, 1.9999999999999678, 1.9999999999999678, 1.9999999999999678]\n",
            "[2.845662645003375, 2.8083830363767497, 2.80838303637675, 2.80838303637675, 2.80838303637675, 2.80838303637675, 1.8457175619007082, 1.5849266707208456, 1.5849266707208456, 1.4587448081473648, 1.4587448081473648, 1.4587448081473648, 1.4587448081473438, 0.0, 0.0, 0.0, 0.0, 0.0, 0.0, 0.0, 0.0, 0.0, 0.0, 0.0, 0.0, 0.0]\n",
            "[0.0, 0.05085496333522255, 0.05085496333522199, 0.05085496333522199, 0.05085496333522199, 0.05085496333522199, 0.5321877005732452, 0.6625831461631744, 0.6625831461631744, 0.6931999999999948, 0.6931999999999948, 0.6931999999999948, 0.6931999999999999, 0.6931999999999889, 0.6931999999999889, 0.6931999999999889, 0.6931999999999889, 0.6931999999999889, 0.6931999999999889, 0.6931999999999889, 0.6931999999999889, 0.6931999999999889, 0.6931999999999889, 0.6931999999999889, 0.6931999999999889, 0.6931999999999889]\n"
          ]
        }
      ]
    },
    {
      "cell_type": "code",
      "source": [
        "# Convert A to a numpy array for easier plotting\n",
        "alpha_values = np.array(A)\n",
        "\n",
        "# Convert lists to numpy arrays, replacing None with NaN for plotting\n",
        "enveloppe_taille_np = np.array(enveloppe_taille, dtype=float)\n",
        "curtail_np = np.array(curtail, dtype=float)\n",
        "close_np = np.array(close, dtype=float)\n",
        "\n",
        "\n",
        "plt.figure(figsize=(10, 6))\n",
        "\n",
        "# Plot enveloppe_taille vs alpha\n",
        "plt.plot(alpha_values, enveloppe_taille_np, marker='o', linestyle='-', label='Envelope Volume')\n",
        "\n",
        "# Plot curtail vs alpha\n",
        "plt.plot(alpha_values, curtail_np, marker='x', linestyle='--', label='Curtailment')\n",
        "\n",
        "# Plot close vs alpha\n",
        "plt.plot(alpha_values, close_np, marker='s', linestyle='-.', label='Deviation of the center of the envelope from DSO estimation')\n",
        "\n",
        "\n",
        "# Set x-axis to a logarithmic scale\n",
        "#plt.xscale('log')\n",
        "\n",
        "plt.xlabel('$\\\\alpha$')\n",
        "plt.ylabel('Value (per-unit)')\n",
        "#plt.title(f'Evolution of the volume of the envelope, curtailment and closeness to DSO estimation as a function of parameter Alpha (beta={beta})')\n",
        "plt.legend()\n",
        "plt.grid(True)\n",
        "\n",
        "# Save the plot as a PDF file\n",
        "plt.savefig('DOE_alloc_alpha.pdf')\n",
        "\n",
        "plt.show()"
      ],
      "metadata": {
        "colab": {
          "base_uri": "https://localhost:8080/",
          "height": 542
        },
        "id": "aoa6t8W0-51-",
        "outputId": "c0ea0ce5-ae9e-440a-a26e-ec6b2a17efe8"
      },
      "execution_count": null,
      "outputs": [
        {
          "output_type": "display_data",
          "data": {
            "text/plain": [
              "<Figure size 1000x600 with 1 Axes>"
            ],
            "image/png": "[encoded data removed]"
          },
          "metadata": {}
        }
      ]
    },
    {
      "cell_type": "code",
      "execution_count": null,
      "metadata": {
        "colab": {
          "base_uri": "https://localhost:8080/"
        },
        "id": "Zd4uqbCig5UO",
        "outputId": "76156023-4c40-4703-db25-fdced8f3f7f8"
      },
      "outputs": [
        {
          "output_type": "stream",
          "name": "stdout",
          "text": [
            "m.E[0,0,0].value: 0.0\n",
            "m.E[0,0,1].value: 0.0\n",
            "m.E[0,1,0].value: 0.0\n",
            "m.E[0,1,1].value: 0.0\n",
            "m.E[1,0,0].value: 0.0\n",
            "m.E[1,0,1].value: 0.0\n",
            "m.E[1,1,0].value: 0.0\n",
            "m.E[1,1,1].value: 0.0\n",
            "m.E[2,0,0].value: 0.0\n",
            "m.E[2,0,1].value: 0.0\n",
            "m.E[2,1,0].value: 0.0\n",
            "m.E[2,1,1].value: 0.0\n",
            "m.E[11,0,0].value: 0.2\n",
            "m.E[11,0,1].value: 0.2\n",
            "m.E[11,1,0].value: 0.2\n",
            "m.E[11,1,1].value: 0.20000000000000107\n",
            "m.E[12,0,0].value: 0.5\n",
            "m.E[12,0,1].value: 0.5\n",
            "m.E[12,1,0].value: 0.5\n",
            "m.E[12,1,1].value: 0.5\n"
          ]
        }
      ],
      "source": [
        "for n in m.Nodes:\n",
        "  for vert_pow in m.i:\n",
        "    for vert_volt in m.j:\n",
        "      print(f\"m.E[{n},{vert_pow},{vert_volt}].value: {m.E[n,vert_pow,vert_volt].value}\")"
      ]
    },
    {
      "cell_type": "code",
      "source": [
        "m.O.value"
      ],
      "metadata": {
        "colab": {
          "base_uri": "https://localhost:8080/"
        },
        "id": "DbsjeDWToU6q",
        "outputId": "88c7ed0c-5554-4121-afd0-f4f62e3c50cb"
      },
      "execution_count": null,
      "outputs": [
        {
          "output_type": "execute_result",
          "data": {
            "text/plain": [
              "0.0"
            ]
          },
          "metadata": {},
          "execution_count": 37
        }
      ]
    },
    {
      "cell_type": "code",
      "source": [
        "print(m.F[0,11,0,0].value)\n",
        "print(m.F[0,11,0,1].value)"
      ],
      "metadata": {
        "colab": {
          "base_uri": "https://localhost:8080/"
        },
        "id": "NENTSxfa9uvF",
        "outputId": "8f58ab7b-4c6c-4978-856a-3d0772a9777d"
      },
      "execution_count": null,
      "outputs": [
        {
          "output_type": "stream",
          "name": "stdout",
          "text": [
            "0.20757292252888693\n",
            "0.20757292252888387\n"
          ]
        }
      ]
    },
    {
      "cell_type": "code",
      "source": [
        "print(m.P_C_set[1,0].value)\n",
        "print(m.P_C_set[1,1].value)\n",
        "\n",
        "print(m.P_C_set[2,0].value)\n",
        "print(m.P_C_set[2,1].value)"
      ],
      "metadata": {
        "id": "IkgOu2o19_zB",
        "colab": {
          "base_uri": "https://localhost:8080/"
        },
        "outputId": "50ccc847-6b71-4cfa-d31a-5984975ca470"
      },
      "execution_count": null,
      "outputs": [
        {
          "output_type": "stream",
          "name": "stdout",
          "text": [
            "0.024659587881951245\n",
            "-1.5406595878819291\n",
            "0.27534041211804366\n",
            "-0.15934041211804367\n"
          ]
        }
      ]
    },
    {
      "cell_type": "code",
      "source": [
        "print(m.theta[0,0,0].value)\n",
        "print(m.theta[0,0,1].value)\n",
        "\n",
        "print(m.theta[11,0,0].value)\n",
        "print(m.theta[11,0,1].value)"
      ],
      "metadata": {
        "colab": {
          "base_uri": "https://localhost:8080/"
        },
        "id": "CYApfTOsxcQq",
        "outputId": "6c7cee14-6946-47f5-852b-cf4257d564fd"
      },
      "execution_count": null,
      "outputs": [
        {
          "output_type": "stream",
          "name": "stdout",
          "text": [
            "-17.399796418012752\n",
            "-17.598210825281264\n",
            "-17.665740784053057\n",
            "-17.77623969841568\n"
          ]
        }
      ]
    },
    {
      "cell_type": "code",
      "execution_count": null,
      "metadata": {
        "colab": {
          "base_uri": "https://localhost:8080/"
        },
        "id": "_4ZROnYa5l-w",
        "outputId": "da23caaf-3b8f-4678-8bb9-7f94bb21a659"
      },
      "outputs": [
        {
          "output_type": "execute_result",
          "data": {
            "text/plain": [
              "0.0"
            ]
          },
          "metadata": {},
          "execution_count": 95
        }
      ],
      "source": [
        "\n",
        "m.O.value\n"
      ]
    },
    {
      "cell_type": "code",
      "source": [
        "m.aux[1].value"
      ],
      "metadata": {
        "colab": {
          "base_uri": "https://localhost:8080/"
        },
        "id": "YFauH9aNTeF6",
        "outputId": "dbfbfdcd-ad87-4bf8-b279-5288bc24f689"
      },
      "execution_count": null,
      "outputs": [
        {
          "output_type": "execute_result",
          "data": {
            "text/plain": [
              "1.5653191757638805"
            ]
          },
          "metadata": {},
          "execution_count": 96
        }
      ]
    },
    {
      "cell_type": "code",
      "source": [
        "m.P_C_set[1,0].value"
      ],
      "metadata": {
        "colab": {
          "base_uri": "https://localhost:8080/"
        },
        "id": "39TFnzDwmiqq",
        "outputId": "abd8d10c-7cac-43b5-b0aa-fe6c87bcaa22"
      },
      "execution_count": null,
      "outputs": [
        {
          "output_type": "execute_result",
          "data": {
            "text/plain": [
              "1.2222970454791735"
            ]
          },
          "metadata": {},
          "execution_count": 43
        }
      ]
    },
    {
      "cell_type": "code",
      "source": [
        "m.P_C_set[1,1].value"
      ],
      "metadata": {
        "colab": {
          "base_uri": "https://localhost:8080/"
        },
        "id": "Y15pFmytmlJF",
        "outputId": "46a8274c-2b9f-4f3e-9e4c-6c75f4c76ffe"
      },
      "execution_count": null,
      "outputs": [
        {
          "output_type": "execute_result",
          "data": {
            "text/plain": [
              "-1.7678814577507405"
            ]
          },
          "metadata": {},
          "execution_count": 44
        }
      ]
    },
    {
      "cell_type": "code",
      "source": [
        "m.aux[2].value"
      ],
      "metadata": {
        "colab": {
          "base_uri": "https://localhost:8080/"
        },
        "id": "l7xR_m6vdLaj",
        "outputId": "24ec440c-f14d-4936-cfb1-d0d7133f746b"
      },
      "execution_count": null,
      "outputs": [
        {
          "output_type": "execute_result",
          "data": {
            "text/plain": [
              "-2.9901785032299224"
            ]
          },
          "metadata": {},
          "execution_count": 45
        }
      ]
    },
    {
      "cell_type": "code",
      "source": [
        "m.P[0].value"
      ],
      "metadata": {
        "colab": {
          "base_uri": "https://localhost:8080/"
        },
        "id": "yCYL-7dT264A",
        "outputId": "1863a315-096e-411e-ecc9-28fa4d487bdf"
      },
      "execution_count": null,
      "outputs": [
        {
          "output_type": "execute_result",
          "data": {
            "text/plain": [
              "0"
            ]
          },
          "metadata": {},
          "execution_count": 46
        }
      ]
    },
    {
      "cell_type": "code",
      "source": [
        "m.P_plus[0,0,1].value"
      ],
      "metadata": {
        "colab": {
          "base_uri": "https://localhost:8080/"
        },
        "id": "bafVltiQb3l1",
        "outputId": "5ed2ef9c-adff-44e1-f237-8f05c3882864"
      },
      "execution_count": null,
      "outputs": [
        {
          "output_type": "execute_result",
          "data": {
            "text/plain": [
              "0.0"
            ]
          },
          "metadata": {},
          "execution_count": 47
        }
      ]
    },
    {
      "cell_type": "code",
      "source": [
        "m.P_minus[1,0,1].value"
      ],
      "metadata": {
        "colab": {
          "base_uri": "https://localhost:8080/"
        },
        "id": "h3AgcpVV-f4W",
        "outputId": "2c3f1c3e-cc54-4251-88e7-707014c85b72"
      },
      "execution_count": null,
      "outputs": [
        {
          "output_type": "execute_result",
          "data": {
            "text/plain": [
              "1.2222970454791735"
            ]
          },
          "metadata": {},
          "execution_count": 48
        }
      ]
    },
    {
      "cell_type": "code",
      "source": [
        "m.P_C_set[2,0].value"
      ],
      "metadata": {
        "colab": {
          "base_uri": "https://localhost:8080/"
        },
        "id": "xl7FypV1Tlrl",
        "outputId": "e15725bf-3e1c-41de-a3a0-a8b933f6ccc5"
      },
      "execution_count": null,
      "outputs": [
        {
          "output_type": "execute_result",
          "data": {
            "text/plain": [
              "-1.9222970454791763"
            ]
          },
          "metadata": {},
          "execution_count": 49
        }
      ]
    },
    {
      "cell_type": "code",
      "source": [
        "m.P_C_set[1,1].value"
      ],
      "metadata": {
        "colab": {
          "base_uri": "https://localhost:8080/"
        },
        "id": "5lCcyvYUTtwX",
        "outputId": "936074ba-b735-42a6-f839-f7467e94b468"
      },
      "execution_count": null,
      "outputs": [
        {
          "output_type": "execute_result",
          "data": {
            "text/plain": [
              "-1.7678814577507405"
            ]
          },
          "metadata": {},
          "execution_count": 50
        }
      ]
    },
    {
      "cell_type": "code",
      "source": [
        "for (u,v) in m.Lines:\n",
        "  print((u,v))"
      ],
      "metadata": {
        "colab": {
          "base_uri": "https://localhost:8080/"
        },
        "id": "Cz27heJDAltP",
        "outputId": "d772dfde-1a3d-4e78-9332-09acae257ba1"
      },
      "execution_count": null,
      "outputs": [
        {
          "output_type": "stream",
          "name": "stdout",
          "text": [
            "(0, 1)\n",
            "(0, 2)\n",
            "(0, 11)\n",
            "(0, 12)\n",
            "(1, 2)\n",
            "(11, 1)\n",
            "(12, 2)\n"
          ]
        }
      ]
    },
    {
      "cell_type": "code",
      "source": [
        "# Corrected loop structure to iterate over m.Lines\n",
        "for (u, v) in m.Lines:\n",
        "  for vert_pow in m.i:\n",
        "    for vert_volt in m.j:\n",
        "      print(f\"Flow on line ({u}, {v}) for i={vert_pow}, j={vert_volt}: {m.F[u, v, vert_pow, vert_volt].value}\")"
      ],
      "metadata": {
        "id": "uWWCqNgMmZ9T",
        "colab": {
          "base_uri": "https://localhost:8080/"
        },
        "outputId": "90831a7c-1f9f-4a08-f969-8044951f66b0"
      },
      "execution_count": null,
      "outputs": [
        {
          "output_type": "stream",
          "name": "stdout",
          "text": [
            "Flow on line (0, 1) for i=0, j=0: 0.40880088218849053\n",
            "Flow on line (0, 1) for i=0, j=1: 0.40880088218849764\n",
            "Flow on line (0, 1) for i=1, j=0: -0.6762064861620627\n",
            "Flow on line (0, 1) for i=1, j=1: -0.6762064861620637\n",
            "Flow on line (0, 2) for i=0, j=0: -0.6762064861620646\n",
            "Flow on line (0, 2) for i=0, j=1: -0.6762064861620661\n",
            "Flow on line (0, 2) for i=1, j=0: 0.40880088218849364\n",
            "Flow on line (0, 2) for i=1, j=1: 0.40880088218849187\n",
            "Flow on line (0, 11) for i=0, j=0: 0.20757292252888693\n",
            "Flow on line (0, 11) for i=0, j=1: 0.20757292252888387\n",
            "Flow on line (0, 11) for i=1, j=0: -0.08575173082688536\n",
            "Flow on line (0, 11) for i=1, j=1: -0.08575173082688255\n",
            "Flow on line (0, 12) for i=0, j=0: 0.05983268144468681\n",
            "Flow on line (0, 12) for i=0, j=1: 0.05983268144468955\n",
            "Flow on line (0, 12) for i=1, j=0: 0.353157334800454\n",
            "Flow on line (0, 12) for i=1, j=1: 0.3531573348004545\n",
            "Flow on line (1, 2) for i=0, j=0: -0.8059232407617986\n",
            "Flow on line (1, 2) for i=0, j=1: -0.8059232407617933\n",
            "Flow on line (1, 2) for i=1, j=0: 0.8059232407617986\n",
            "Flow on line (1, 2) for i=1, j=1: 0.8059232407617998\n",
            "Flow on line (11, 1) for i=0, j=0: 0.007572922528884973\n",
            "Flow on line (11, 1) for i=0, j=1: 0.007572922528883863\n",
            "Flow on line (11, 1) for i=1, j=0: -0.2857517308268793\n",
            "Flow on line (11, 1) for i=1, j=1: -0.28575173082688254\n",
            "Flow on line (12, 2) for i=0, j=0: -0.4401673185553132\n",
            "Flow on line (12, 2) for i=0, j=1: -0.44016731855531044\n",
            "Flow on line (12, 2) for i=1, j=0: -0.14684266519954597\n",
            "Flow on line (12, 2) for i=1, j=1: -0.14684266519954547\n"
          ]
        }
      ]
    },
    {
      "cell_type": "code",
      "metadata": {
        "colab": {
          "base_uri": "https://localhost:8080/",
          "height": 785
        },
        "id": "d9217975",
        "outputId": "23b007a0-8aaa-49e4-ba96-cc066ba9fac8"
      },
      "source": [
        "def plot_power_flow(m, i, j):\n",
        "    pos = nx.get_node_attributes(G, 'pos')\n",
        "    # Use node indices as labels\n",
        "    labels = {}\n",
        "    label_colors = [] # This is for node colors, will remove this later if needed or set to default\n",
        "    for n in G.nodes():\n",
        "        label_text = f\"{n}\"\n",
        "        if n in m.parents:\n",
        "            # Display parent bounds using the global P_min and P_max parameters\n",
        "            label_text += f\"\\n[{P_min/3}, {P_max/3}]\"\n",
        "            # No specific color for label text here, use default\n",
        "            label_colors.append('steelblue') # Default node color based on previous plots\n",
        "        elif n in m.children:\n",
        "            # Display children interval with smaller value first\n",
        "            p_c_values = [m.P_C_set[n, 0].value, m.P_C_set[n, 1].value]\n",
        "            label_text += f\"\\n[{round(min(p_c_values), 4)}, {round(max(p_c_values), 4)}]\"\n",
        "            # We will try to color this text red when drawing labels\n",
        "            label_colors.append('steelblue') # Default node color\n",
        "        else:\n",
        "            label_colors.append('steelblue') # Default node color\n",
        "        labels[n] = label_text\n",
        "\n",
        "\n",
        "    plt.figure(figsize=(12, 8))\n",
        "\n",
        "    edge_colors = []\n",
        "    edge_labels = {}\n",
        "\n",
        "    for u, v in G.edges():\n",
        "        try:\n",
        "            # Correct the sign of the flow value for plotting\n",
        "            flow_value = m.F[u, v, i, j].value\n",
        "            if flow_value is not None:\n",
        "                edge_labels[(u, v)] = f\"{round(flow_value, 4)}\"\n",
        "                if flow_value > 0:\n",
        "                    edge_colors.append('blue')  # Positive flow (now correctly represents flow from u to v)\n",
        "                elif flow_value < 0:\n",
        "                    edge_colors.append('red')  # Negative (reverse) flow (now correctly represents flow from v to u)\n",
        "                else:\n",
        "                    edge_colors.append('gray') # No flow\n",
        "            else:\n",
        "                edge_colors.append('gray') # No flow value\n",
        "        except:\n",
        "            edge_colors.append('gray') # Handle cases where edge might not be in m.F\n",
        "\n",
        "    # Draw the network\n",
        "    nx.draw(\n",
        "        G, pos,\n",
        "        with_labels=False, # Draw labels separately for color control\n",
        "        node_size=1200,\n",
        "        edge_color=edge_colors, # Use the calculated edge colors\n",
        "        edgecolors=\"black\", font_size=8,\n",
        "        alpha=0.85,\n",
        "        node_color = label_colors # Apply node colors\n",
        "    )\n",
        "\n",
        "    # Draw labels with different colors\n",
        "    for n in G.nodes():\n",
        "        x, y = pos[n]\n",
        "        text = labels[n]\n",
        "        if n in m.children:\n",
        "            plt.text(x, y - 0.1, text, fontsize=10, ha='center', va='top', color='red') # Color children interval red\n",
        "        elif n in m.parents:\n",
        "             plt.text(x, y + 0.1, text, fontsize=10, ha='center', va='bottom', color='black') # Color parent bounds black\n",
        "        else:\n",
        "             plt.text(x, y, text, fontsize=8, ha='center', va='center', color='black') # Default color for other labels\n",
        "\n",
        "\n",
        "    nx.draw_networkx_edge_labels(G, pos, edge_labels=edge_labels, font_size=7, label_pos=0.3)\n",
        "\n",
        "    plt.title(f\"Power Flow (per-unit) for i={i}, j={j}, alpha = 3\")\n",
        "    plt.axis(\"equal\")\n",
        "    plt.show()\n",
        "\n",
        "# Example usage (assuming m, i=0, and j=0 are defined)\n",
        "plot_power_flow(m, 0, 1)"
      ],
      "execution_count": null,
      "outputs": [
        {
          "output_type": "display_data",
          "data": {
            "text/plain": [
              "<Figure size 1200x800 with 1 Axes>"
            ],
            "image/png": "[encoded data removed]"
          },
          "metadata": {}
        }
      ]
    },
    {
      "cell_type": "code",
      "source": [
        "def plot_current_flow(m, i, j):\n",
        "    pos = nx.get_node_attributes(G, 'pos')\n",
        "    # Use node indices as labels\n",
        "    labels = {n: n for n in G.nodes()}\n",
        "\n",
        "    plt.figure(figsize=(12, 8))\n",
        "\n",
        "    edge_colors = []\n",
        "    edge_labels = {}\n",
        "\n",
        "    for u, v in G.edges():\n",
        "        try:\n",
        "            # Get the current value from the model\n",
        "            current_value = m.I[u, v, i, j].value\n",
        "            if current_value is not None:\n",
        "                edge_labels[(u, v)] = f\"{round(current_value, 4)}\"\n",
        "                if current_value > 0:\n",
        "                    edge_colors.append('blue')  # Positive current flow\n",
        "                elif current_value < 0:\n",
        "                    edge_colors.append('red')  # Negative current flow\n",
        "                else:\n",
        "                    edge_colors.append('gray') # No current flow\n",
        "            else:\n",
        "                edge_colors.append('gray') # No current value\n",
        "        except:\n",
        "            edge_colors.append('gray') # Handle cases where edge might not be in m.I\n",
        "\n",
        "    nx.draw(\n",
        "        G, pos,\n",
        "        with_labels=True, labels=labels, # Set with_labels to True and pass node indices as labels\n",
        "        node_size=1200,\n",
        "        edge_color=edge_colors, # Use the calculated edge colors\n",
        "        edgecolors=\"black\", font_size=8,\n",
        "        alpha=0.85\n",
        "    )\n",
        "\n",
        "    nx.draw_networkx_edge_labels(G, pos, edge_labels=edge_labels, font_size=7, label_pos=0.3)\n",
        "\n",
        "    plt.title(f\"Current Flow (per-unit) for i={i}, j={j}\")\n",
        "    plt.axis(\"equal\")\n",
        "    plt.show()\n",
        "\n",
        "# Example usage (assuming m, i=0, and j=0 are defined)\n",
        "plot_current_flow(m, 0, 0)"
      ],
      "metadata": {
        "colab": {
          "base_uri": "https://localhost:8080/",
          "height": 785
        },
        "id": "TUaG88qQmWYJ",
        "outputId": "3a7f40af-5a5a-4d6c-c7ff-d5c10710d502"
      },
      "execution_count": null,
      "outputs": [
        {
          "output_type": "display_data",
          "data": {
            "text/plain": [
              "<Figure size 1200x800 with 1 Axes>"
            ],
            "image/png": "[encoded data removed]"
          },
          "metadata": {}
        }
      ]
    },
    {
      "cell_type": "code",
      "source": [
        "B = [0.5,0.6,0.7,0.8,0.9,1,1.1,1.2,1.3,1.4,1.5,1.6,1.7,1.8,1.9,1.95,2,2.05,2.1,2.2,2.3,2.4,2.5,2.6,2.7,2.8,2.9,3]\n",
        "#A = range(-3, 26)\n",
        "alpha = 1.5\n",
        "enveloppe_taille = []\n",
        "curtail = []\n",
        "close = []\n",
        "\n",
        "for beta in B:\n",
        "  print(alpha)\n",
        "  def objective_rule(m):\n",
        "    return  m.tot - alpha*m.O - beta * m.tot_bis\n",
        "  m.objective = pyo.Objective(rule=objective_rule, sense=pyo.maximize)\n",
        "  params = {\n",
        "    \"WLSACCESSID\": 'efa10779-150a-495c-ab62-6a20ff44c598',\n",
        "    \"WLSSECRET\": 'fa980d94-a6fd-4d7b-aa68-b0e19ddd2e84',\n",
        "    \"LICENSEID\": 2651433,\n",
        "           }\n",
        "  env = gp.Env(params=params)\n",
        "  solver = pyo.SolverFactory('gurobi', env= env)\n",
        "  results = solver.solve(m, tee=True)\n",
        "\n",
        "  # Check the termination condition before accessing results\n",
        "  if results.solver.termination_condition == pyo.TerminationCondition.optimal:\n",
        "      curtail.append(m.O.value)\n",
        "      enveloppe_taille.append(m.tot.value)\n",
        "      close.append(m.tot_bis.value)\n",
        "\n",
        "  else:\n",
        "      # Append None for non-optimal results to maintain list length\n",
        "      curtail.append(None)\n",
        "      enveloppe_taille.append(None)\n",
        "      close.append(None)"
      ],
      "metadata": {
        "colab": {
          "base_uri": "https://localhost:8080/"
        },
        "id": "BR1XSwOjH7A6",
        "outputId": "b10f6033-6009-487b-f1e4-37d90daebc10"
      },
      "execution_count": null,
      "outputs": [
        {
          "output_type": "stream",
          "name": "stderr",
          "text": [
            "WARNING:pyomo.core:Implicitly replacing the Component attribute objective (type=<class 'pyomo.core.base.objective.ScalarObjective'>) on block unknown with a new Component (type=<class 'pyomo.core.base.objective.AbstractScalarObjective'>).\n",
            "This is usually indicative of a modelling error.\n",
            "To avoid this warning, use block.del_component() and block.add_component().\n"
          ]
        },
        {
          "output_type": "stream",
          "name": "stdout",
          "text": [
            "1.5\n",
            "Set parameter WLSAccessID\n",
            "Set parameter WLSSecret\n",
            "Set parameter LicenseID to value 2651433\n",
            "Academic license 2651433 - for non-commercial use only - registered to an___@student.uliege.be\n",
            "Read LP format model from file /tmp/tmpo781164l.pyomo.lp\n",
            "Reading time = 0.00 seconds\n",
            "x1: 438 rows, 179 columns, 808 nonzeros\n",
            "Gurobi Optimizer version 12.0.3 build v12.0.3rc0 (linux64 - \"Ubuntu 22.04.4 LTS\")\n",
            "\n",
            "CPU model: Intel(R) Xeon(R) CPU @ 2.20GHz, instruction set [SSE2|AVX|AVX2]\n",
            "Thread count: 1 physical cores, 2 logical processors, using up to 2 threads\n",
            "\n",
            "Optimize a model with 438 rows, 179 columns and 808 nonzeros\n",
            "Model fingerprint: 0x6478af50\n",
            "Coefficient statistics:\n",
            "  Matrix range     [5e-01, 2e+00]\n",
            "  Objective range  [5e-01, 2e+00]\n",
            "  Bounds range     [0e+00, 0e+00]\n",
            "  RHS range        [6e-02, 5e+01]\n",
            "Presolve removed 377 rows and 117 columns\n",
            "Presolve time: 0.00s\n",
            "Presolved: 61 rows, 62 columns, 228 nonzeros\n",
            "\n",
            "Iteration    Objective       Primal Inf.    Dual Inf.      Time\n",
            "       0    5.7473859e+00   2.114846e+01   0.000000e+00      0s\n",
            "      37    2.3999381e+00   0.000000e+00   0.000000e+00      0s\n",
            "\n",
            "Solved in 37 iterations and 0.00 seconds (0.00 work units)\n",
            "Optimal objective  2.399938055e+00\n"
          ]
        },
        {
          "output_type": "stream",
          "name": "stderr",
          "text": [
            "WARNING:pyomo.core:Implicitly replacing the Component attribute objective (type=<class 'pyomo.core.base.objective.ScalarObjective'>) on block unknown with a new Component (type=<class 'pyomo.core.base.objective.AbstractScalarObjective'>).\n",
            "This is usually indicative of a modelling error.\n",
            "To avoid this warning, use block.del_component() and block.add_component().\n"
          ]
        },
        {
          "output_type": "stream",
          "name": "stdout",
          "text": [
            "1.5\n",
            "Set parameter WLSAccessID\n",
            "Set parameter WLSSecret\n",
            "Set parameter LicenseID to value 2651433\n",
            "Academic license 2651433 - for non-commercial use only - registered to an___@student.uliege.be\n",
            "Read LP format model from file /tmp/tmpl5kqkyk5.pyomo.lp\n",
            "Reading time = 0.00 seconds\n",
            "x1: 438 rows, 179 columns, 808 nonzeros\n",
            "Gurobi Optimizer version 12.0.3 build v12.0.3rc0 (linux64 - \"Ubuntu 22.04.4 LTS\")\n",
            "\n",
            "CPU model: Intel(R) Xeon(R) CPU @ 2.20GHz, instruction set [SSE2|AVX|AVX2]\n",
            "Thread count: 1 physical cores, 2 logical processors, using up to 2 threads\n",
            "\n",
            "Optimize a model with 438 rows, 179 columns and 808 nonzeros\n",
            "Model fingerprint: 0x4adb080e\n",
            "Coefficient statistics:\n",
            "  Matrix range     [5e-01, 2e+00]\n",
            "  Objective range  [6e-01, 2e+00]\n",
            "  Bounds range     [0e+00, 0e+00]\n",
            "  RHS range        [6e-02, 5e+01]\n",
            "Presolve removed 377 rows and 117 columns\n",
            "Presolve time: 0.01s\n",
            "Presolved: 61 rows, 62 columns, 228 nonzeros\n",
            "\n",
            "Iteration    Objective       Primal Inf.    Dual Inf.      Time\n",
            "       0    5.7473859e+00   2.114846e+01   0.000000e+00      0s\n",
            "      37    2.3336797e+00   0.000000e+00   0.000000e+00      0s\n",
            "\n",
            "Solved in 37 iterations and 0.01 seconds (0.00 work units)\n",
            "Optimal objective  2.333679740e+00\n"
          ]
        },
        {
          "output_type": "stream",
          "name": "stderr",
          "text": [
            "WARNING:pyomo.core:Implicitly replacing the Component attribute objective (type=<class 'pyomo.core.base.objective.ScalarObjective'>) on block unknown with a new Component (type=<class 'pyomo.core.base.objective.AbstractScalarObjective'>).\n",
            "This is usually indicative of a modelling error.\n",
            "To avoid this warning, use block.del_component() and block.add_component().\n"
          ]
        },
        {
          "output_type": "stream",
          "name": "stdout",
          "text": [
            "1.5\n",
            "Set parameter WLSAccessID\n",
            "Set parameter WLSSecret\n",
            "Set parameter LicenseID to value 2651433\n",
            "Academic license 2651433 - for non-commercial use only - registered to an___@student.uliege.be\n",
            "Read LP format model from file /tmp/tmp1m0osle6.pyomo.lp\n",
            "Reading time = 0.00 seconds\n",
            "x1: 438 rows, 179 columns, 808 nonzeros\n",
            "Gurobi Optimizer version 12.0.3 build v12.0.3rc0 (linux64 - \"Ubuntu 22.04.4 LTS\")\n",
            "\n",
            "CPU model: Intel(R) Xeon(R) CPU @ 2.20GHz, instruction set [SSE2|AVX|AVX2]\n",
            "Thread count: 1 physical cores, 2 logical processors, using up to 2 threads\n",
            "\n",
            "Optimize a model with 438 rows, 179 columns and 808 nonzeros\n",
            "Model fingerprint: 0xdc49362c\n",
            "Coefficient statistics:\n",
            "  Matrix range     [5e-01, 2e+00]\n",
            "  Objective range  [7e-01, 2e+00]\n",
            "  Bounds range     [0e+00, 0e+00]\n",
            "  RHS range        [6e-02, 5e+01]\n",
            "Presolve removed 377 rows and 117 columns\n",
            "Presolve time: 0.00s\n",
            "Presolved: 61 rows, 62 columns, 228 nonzeros\n",
            "\n",
            "Iteration    Objective       Primal Inf.    Dual Inf.      Time\n",
            "       0    5.7473859e+00   2.114846e+01   0.000000e+00      0s\n",
            "      37    2.2674214e+00   0.000000e+00   0.000000e+00      0s\n",
            "\n",
            "Solved in 37 iterations and 0.00 seconds (0.00 work units)\n",
            "Optimal objective  2.267421425e+00\n"
          ]
        },
        {
          "output_type": "stream",
          "name": "stderr",
          "text": [
            "WARNING:pyomo.core:Implicitly replacing the Component attribute objective (type=<class 'pyomo.core.base.objective.ScalarObjective'>) on block unknown with a new Component (type=<class 'pyomo.core.base.objective.AbstractScalarObjective'>).\n",
            "This is usually indicative of a modelling error.\n",
            "To avoid this warning, use block.del_component() and block.add_component().\n"
          ]
        },
        {
          "output_type": "stream",
          "name": "stdout",
          "text": [
            "1.5\n",
            "Set parameter WLSAccessID\n",
            "Set parameter WLSSecret\n",
            "Set parameter LicenseID to value 2651433\n",
            "Academic license 2651433 - for non-commercial use only - registered to an___@student.uliege.be\n",
            "Read LP format model from file /tmp/tmph7cszqql.pyomo.lp\n",
            "Reading time = 0.00 seconds\n",
            "x1: 438 rows, 179 columns, 808 nonzeros\n",
            "Gurobi Optimizer version 12.0.3 build v12.0.3rc0 (linux64 - \"Ubuntu 22.04.4 LTS\")\n",
            "\n",
            "CPU model: Intel(R) Xeon(R) CPU @ 2.20GHz, instruction set [SSE2|AVX|AVX2]\n",
            "Thread count: 1 physical cores, 2 logical processors, using up to 2 threads\n",
            "\n",
            "Optimize a model with 438 rows, 179 columns and 808 nonzeros\n",
            "Model fingerprint: 0x5b8bdbec\n",
            "Coefficient statistics:\n",
            "  Matrix range     [5e-01, 2e+00]\n",
            "  Objective range  [8e-01, 2e+00]\n",
            "  Bounds range     [0e+00, 0e+00]\n",
            "  RHS range        [6e-02, 5e+01]\n",
            "Presolve removed 377 rows and 117 columns\n",
            "Presolve time: 0.00s\n",
            "Presolved: 61 rows, 62 columns, 228 nonzeros\n",
            "\n",
            "Iteration    Objective       Primal Inf.    Dual Inf.      Time\n",
            "       0    5.7473859e+00   2.114846e+01   0.000000e+00      0s\n",
            "      37    2.2011631e+00   0.000000e+00   0.000000e+00      0s\n",
            "\n",
            "Solved in 37 iterations and 0.01 seconds (0.00 work units)\n",
            "Optimal objective  2.201163111e+00\n",
            "1.5"
          ]
        },
        {
          "output_type": "stream",
          "name": "stderr",
          "text": [
            "WARNING:pyomo.core:Implicitly replacing the Component attribute objective (type=<class 'pyomo.core.base.objective.ScalarObjective'>) on block unknown with a new Component (type=<class 'pyomo.core.base.objective.AbstractScalarObjective'>).\n",
            "This is usually indicative of a modelling error.\n",
            "To avoid this warning, use block.del_component() and block.add_component().\n"
          ]
        },
        {
          "output_type": "stream",
          "name": "stdout",
          "text": [
            "\n",
            "Set parameter WLSAccessID\n",
            "Set parameter WLSSecret\n",
            "Set parameter LicenseID to value 2651433\n",
            "Academic license 2651433 - for non-commercial use only - registered to an___@student.uliege.be\n",
            "Read LP format model from file /tmp/tmpy92xhznp.pyomo.lp\n",
            "Reading time = 0.00 seconds\n",
            "x1: 438 rows, 179 columns, 808 nonzeros\n",
            "Gurobi Optimizer version 12.0.3 build v12.0.3rc0 (linux64 - \"Ubuntu 22.04.4 LTS\")\n",
            "\n",
            "CPU model: Intel(R) Xeon(R) CPU @ 2.20GHz, instruction set [SSE2|AVX|AVX2]\n",
            "Thread count: 1 physical cores, 2 logical processors, using up to 2 threads\n",
            "\n",
            "Optimize a model with 438 rows, 179 columns and 808 nonzeros\n",
            "Model fingerprint: 0xf4f54d0d\n",
            "Coefficient statistics:\n",
            "  Matrix range     [5e-01, 2e+00]\n",
            "  Objective range  [9e-01, 2e+00]\n",
            "  Bounds range     [0e+00, 0e+00]\n",
            "  RHS range        [6e-02, 5e+01]\n",
            "Presolve removed 377 rows and 117 columns\n",
            "Presolve time: 0.00s\n",
            "Presolved: 61 rows, 62 columns, 228 nonzeros\n",
            "\n",
            "Iteration    Objective       Primal Inf.    Dual Inf.      Time\n",
            "       0    5.7473859e+00   2.114846e+01   0.000000e+00      0s\n",
            "      37    2.1349048e+00   0.000000e+00   0.000000e+00      0s\n",
            "\n",
            "Solved in 37 iterations and 0.00 seconds (0.00 work units)\n",
            "Optimal objective  2.134904796e+00\n"
          ]
        },
        {
          "output_type": "stream",
          "name": "stderr",
          "text": [
            "WARNING:pyomo.core:Implicitly replacing the Component attribute objective (type=<class 'pyomo.core.base.objective.ScalarObjective'>) on block unknown with a new Component (type=<class 'pyomo.core.base.objective.AbstractScalarObjective'>).\n",
            "This is usually indicative of a modelling error.\n",
            "To avoid this warning, use block.del_component() and block.add_component().\n"
          ]
        },
        {
          "output_type": "stream",
          "name": "stdout",
          "text": [
            "1.5\n",
            "Set parameter WLSAccessID\n",
            "Set parameter WLSSecret\n",
            "Set parameter LicenseID to value 2651433\n",
            "Academic license 2651433 - for non-commercial use only - registered to an___@student.uliege.be\n",
            "Read LP format model from file /tmp/tmp7afi8e8y.pyomo.lp\n",
            "Reading time = 0.00 seconds\n",
            "x1: 438 rows, 179 columns, 808 nonzeros\n",
            "Gurobi Optimizer version 12.0.3 build v12.0.3rc0 (linux64 - \"Ubuntu 22.04.4 LTS\")\n",
            "\n",
            "CPU model: Intel(R) Xeon(R) CPU @ 2.20GHz, instruction set [SSE2|AVX|AVX2]\n",
            "Thread count: 1 physical cores, 2 logical processors, using up to 2 threads\n",
            "\n",
            "Optimize a model with 438 rows, 179 columns and 808 nonzeros\n",
            "Model fingerprint: 0xb5185362\n",
            "Coefficient statistics:\n",
            "  Matrix range     [5e-01, 2e+00]\n",
            "  Objective range  [1e+00, 2e+00]\n",
            "  Bounds range     [0e+00, 0e+00]\n",
            "  RHS range        [6e-02, 5e+01]\n",
            "Presolve removed 377 rows and 117 columns\n",
            "Presolve time: 0.00s\n",
            "Presolved: 61 rows, 62 columns, 228 nonzeros\n",
            "\n",
            "Iteration    Objective       Primal Inf.    Dual Inf.      Time\n",
            "       0    5.7473859e+00   2.114846e+01   0.000000e+00      0s\n",
            "      41    2.0686465e+00   0.000000e+00   0.000000e+00      0s\n",
            "\n",
            "Solved in 41 iterations and 0.01 seconds (0.00 work units)\n",
            "Optimal objective  2.068646482e+00\n",
            "1.5"
          ]
        },
        {
          "output_type": "stream",
          "name": "stderr",
          "text": [
            "WARNING:pyomo.core:Implicitly replacing the Component attribute objective (type=<class 'pyomo.core.base.objective.ScalarObjective'>) on block unknown with a new Component (type=<class 'pyomo.core.base.objective.AbstractScalarObjective'>).\n",
            "This is usually indicative of a modelling error.\n",
            "To avoid this warning, use block.del_component() and block.add_component().\n"
          ]
        },
        {
          "output_type": "stream",
          "name": "stdout",
          "text": [
            "\n",
            "Set parameter WLSAccessID\n",
            "Set parameter WLSSecret\n",
            "Set parameter LicenseID to value 2651433\n",
            "Academic license 2651433 - for non-commercial use only - registered to an___@student.uliege.be\n",
            "Read LP format model from file /tmp/tmpgapn2lyf.pyomo.lp\n",
            "Reading time = 0.00 seconds\n",
            "x1: 438 rows, 179 columns, 808 nonzeros\n",
            "Gurobi Optimizer version 12.0.3 build v12.0.3rc0 (linux64 - \"Ubuntu 22.04.4 LTS\")\n",
            "\n",
            "CPU model: Intel(R) Xeon(R) CPU @ 2.20GHz, instruction set [SSE2|AVX|AVX2]\n",
            "Thread count: 1 physical cores, 2 logical processors, using up to 2 threads\n",
            "\n",
            "Optimize a model with 438 rows, 179 columns and 808 nonzeros\n",
            "Model fingerprint: 0x358c069a\n",
            "Coefficient statistics:\n",
            "  Matrix range     [5e-01, 2e+00]\n",
            "  Objective range  [1e+00, 2e+00]\n",
            "  Bounds range     [0e+00, 0e+00]\n",
            "  RHS range        [6e-02, 5e+01]\n",
            "Presolve removed 377 rows and 117 columns\n",
            "Presolve time: 0.00s\n",
            "Presolved: 61 rows, 62 columns, 228 nonzeros\n",
            "\n",
            "Iteration    Objective       Primal Inf.    Dual Inf.      Time\n",
            "       0    5.7473859e+00   2.114846e+01   0.000000e+00      0s\n",
            "      39    2.0635610e+00   0.000000e+00   0.000000e+00      0s\n",
            "\n",
            "Solved in 39 iterations and 0.00 seconds (0.00 work units)\n",
            "Optimal objective  2.063560985e+00\n"
          ]
        },
        {
          "output_type": "stream",
          "name": "stderr",
          "text": [
            "WARNING:pyomo.core:Implicitly replacing the Component attribute objective (type=<class 'pyomo.core.base.objective.ScalarObjective'>) on block unknown with a new Component (type=<class 'pyomo.core.base.objective.AbstractScalarObjective'>).\n",
            "This is usually indicative of a modelling error.\n",
            "To avoid this warning, use block.del_component() and block.add_component().\n"
          ]
        },
        {
          "output_type": "stream",
          "name": "stdout",
          "text": [
            "1.5\n",
            "Set parameter WLSAccessID\n",
            "Set parameter WLSSecret\n",
            "Set parameter LicenseID to value 2651433\n",
            "Academic license 2651433 - for non-commercial use only - registered to an___@student.uliege.be\n",
            "Read LP format model from file /tmp/tmp3oxx5dpv.pyomo.lp\n",
            "Reading time = 0.00 seconds\n",
            "x1: 438 rows, 179 columns, 808 nonzeros\n",
            "Gurobi Optimizer version 12.0.3 build v12.0.3rc0 (linux64 - \"Ubuntu 22.04.4 LTS\")\n",
            "\n",
            "CPU model: Intel(R) Xeon(R) CPU @ 2.20GHz, instruction set [SSE2|AVX|AVX2]\n",
            "Thread count: 1 physical cores, 2 logical processors, using up to 2 threads\n",
            "\n",
            "Optimize a model with 438 rows, 179 columns and 808 nonzeros\n",
            "Model fingerprint: 0xd02364b9\n",
            "Coefficient statistics:\n",
            "  Matrix range     [5e-01, 2e+00]\n",
            "  Objective range  [1e+00, 2e+00]\n",
            "  Bounds range     [0e+00, 0e+00]\n",
            "  RHS range        [6e-02, 5e+01]\n",
            "Presolve removed 377 rows and 117 columns\n",
            "Presolve time: 0.00s\n",
            "Presolved: 61 rows, 62 columns, 228 nonzeros\n",
            "\n",
            "Iteration    Objective       Primal Inf.    Dual Inf.      Time\n",
            "       0    5.7473859e+00   2.114846e+01   0.000000e+00      0s\n",
            "      39    2.0584755e+00   0.000000e+00   0.000000e+00      0s\n",
            "\n",
            "Solved in 39 iterations and 0.01 seconds (0.00 work units)\n",
            "Optimal objective  2.058475489e+00\n"
          ]
        },
        {
          "output_type": "stream",
          "name": "stderr",
          "text": [
            "WARNING:pyomo.core:Implicitly replacing the Component attribute objective (type=<class 'pyomo.core.base.objective.ScalarObjective'>) on block unknown with a new Component (type=<class 'pyomo.core.base.objective.AbstractScalarObjective'>).\n",
            "This is usually indicative of a modelling error.\n",
            "To avoid this warning, use block.del_component() and block.add_component().\n"
          ]
        },
        {
          "output_type": "stream",
          "name": "stdout",
          "text": [
            "1.5\n",
            "Set parameter WLSAccessID\n",
            "Set parameter WLSSecret\n",
            "Set parameter LicenseID to value 2651433\n",
            "Academic license 2651433 - for non-commercial use only - registered to an___@student.uliege.be\n",
            "Read LP format model from file /tmp/tmpxk1wm5jm.pyomo.lp\n",
            "Reading time = 0.00 seconds\n",
            "x1: 438 rows, 179 columns, 808 nonzeros\n",
            "Gurobi Optimizer version 12.0.3 build v12.0.3rc0 (linux64 - \"Ubuntu 22.04.4 LTS\")\n",
            "\n",
            "CPU model: Intel(R) Xeon(R) CPU @ 2.20GHz, instruction set [SSE2|AVX|AVX2]\n",
            "Thread count: 1 physical cores, 2 logical processors, using up to 2 threads\n",
            "\n",
            "Optimize a model with 438 rows, 179 columns and 808 nonzeros\n",
            "Model fingerprint: 0x63d4c188\n",
            "Coefficient statistics:\n",
            "  Matrix range     [5e-01, 2e+00]\n",
            "  Objective range  [1e+00, 2e+00]\n",
            "  Bounds range     [0e+00, 0e+00]\n",
            "  RHS range        [6e-02, 5e+01]\n",
            "Presolve removed 377 rows and 117 columns\n",
            "Presolve time: 0.00s\n",
            "Presolved: 61 rows, 62 columns, 228 nonzeros\n",
            "\n",
            "Iteration    Objective       Primal Inf.    Dual Inf.      Time\n",
            "       0    5.7473859e+00   2.114846e+01   0.000000e+00      0s\n",
            "      39    2.0533900e+00   0.000000e+00   0.000000e+00      0s\n",
            "\n",
            "Solved in 39 iterations and 0.00 seconds (0.00 work units)\n",
            "Optimal objective  2.053389993e+00\n"
          ]
        },
        {
          "output_type": "stream",
          "name": "stderr",
          "text": [
            "WARNING:pyomo.core:Implicitly replacing the Component attribute objective (type=<class 'pyomo.core.base.objective.ScalarObjective'>) on block unknown with a new Component (type=<class 'pyomo.core.base.objective.AbstractScalarObjective'>).\n",
            "This is usually indicative of a modelling error.\n",
            "To avoid this warning, use block.del_component() and block.add_component().\n"
          ]
        },
        {
          "output_type": "stream",
          "name": "stdout",
          "text": [
            "1.5\n",
            "Set parameter WLSAccessID\n",
            "Set parameter WLSSecret\n",
            "Set parameter LicenseID to value 2651433\n",
            "Academic license 2651433 - for non-commercial use only - registered to an___@student.uliege.be\n",
            "Read LP format model from file /tmp/tmpog09nt7q.pyomo.lp\n",
            "Reading time = 0.00 seconds\n",
            "x1: 438 rows, 179 columns, 808 nonzeros\n",
            "Gurobi Optimizer version 12.0.3 build v12.0.3rc0 (linux64 - \"Ubuntu 22.04.4 LTS\")\n",
            "\n",
            "CPU model: Intel(R) Xeon(R) CPU @ 2.20GHz, instruction set [SSE2|AVX|AVX2]\n",
            "Thread count: 1 physical cores, 2 logical processors, using up to 2 threads\n",
            "\n",
            "Optimize a model with 438 rows, 179 columns and 808 nonzeros\n",
            "Model fingerprint: 0x89d2e2e3\n",
            "Coefficient statistics:\n",
            "  Matrix range     [5e-01, 2e+00]\n",
            "  Objective range  [1e+00, 2e+00]\n",
            "  Bounds range     [0e+00, 0e+00]\n",
            "  RHS range        [6e-02, 5e+01]\n",
            "Presolve removed 377 rows and 117 columns\n",
            "Presolve time: 0.00s\n",
            "Presolved: 61 rows, 62 columns, 228 nonzeros\n",
            "\n",
            "Iteration    Objective       Primal Inf.    Dual Inf.      Time\n",
            "       0    5.7473859e+00   2.114846e+01   0.000000e+00      0s\n",
            "      39    2.0483045e+00   0.000000e+00   0.000000e+00      0s\n",
            "\n",
            "Solved in 39 iterations and 0.00 seconds (0.00 work units)\n",
            "Optimal objective  2.048304496e+00\n"
          ]
        },
        {
          "output_type": "stream",
          "name": "stderr",
          "text": [
            "WARNING:pyomo.core:Implicitly replacing the Component attribute objective (type=<class 'pyomo.core.base.objective.ScalarObjective'>) on block unknown with a new Component (type=<class 'pyomo.core.base.objective.AbstractScalarObjective'>).\n",
            "This is usually indicative of a modelling error.\n",
            "To avoid this warning, use block.del_component() and block.add_component().\n"
          ]
        },
        {
          "output_type": "stream",
          "name": "stdout",
          "text": [
            "1.5\n",
            "Set parameter WLSAccessID\n",
            "Set parameter WLSSecret\n",
            "Set parameter LicenseID to value 2651433\n",
            "Academic license 2651433 - for non-commercial use only - registered to an___@student.uliege.be\n",
            "Read LP format model from file /tmp/tmpcvsiuauv.pyomo.lp\n",
            "Reading time = 0.00 seconds\n",
            "x1: 438 rows, 179 columns, 808 nonzeros\n",
            "Gurobi Optimizer version 12.0.3 build v12.0.3rc0 (linux64 - \"Ubuntu 22.04.4 LTS\")\n",
            "\n",
            "CPU model: Intel(R) Xeon(R) CPU @ 2.20GHz, instruction set [SSE2|AVX|AVX2]\n",
            "Thread count: 1 physical cores, 2 logical processors, using up to 2 threads\n",
            "\n",
            "Optimize a model with 438 rows, 179 columns and 808 nonzeros\n",
            "Model fingerprint: 0x72213866\n",
            "Coefficient statistics:\n",
            "  Matrix range     [5e-01, 2e+00]\n",
            "  Objective range  [1e+00, 2e+00]\n",
            "  Bounds range     [0e+00, 0e+00]\n",
            "  RHS range        [6e-02, 5e+01]\n",
            "Presolve removed 377 rows and 117 columns\n",
            "Presolve time: 0.00s\n",
            "Presolved: 61 rows, 62 columns, 228 nonzeros\n",
            "\n",
            "Iteration    Objective       Primal Inf.    Dual Inf.      Time\n",
            "       0    5.7473859e+00   2.114846e+01   0.000000e+00      0s\n",
            "      39    2.0432190e+00   0.000000e+00   0.000000e+00      0s\n",
            "\n",
            "Solved in 39 iterations and 0.00 seconds (0.00 work units)\n",
            "Optimal objective  2.043219000e+00\n",
            "1.5"
          ]
        },
        {
          "output_type": "stream",
          "name": "stderr",
          "text": [
            "WARNING:pyomo.core:Implicitly replacing the Component attribute objective (type=<class 'pyomo.core.base.objective.ScalarObjective'>) on block unknown with a new Component (type=<class 'pyomo.core.base.objective.AbstractScalarObjective'>).\n",
            "This is usually indicative of a modelling error.\n",
            "To avoid this warning, use block.del_component() and block.add_component().\n"
          ]
        },
        {
          "output_type": "stream",
          "name": "stdout",
          "text": [
            "\n",
            "Set parameter WLSAccessID\n",
            "Set parameter WLSSecret\n",
            "Set parameter LicenseID to value 2651433\n",
            "Academic license 2651433 - for non-commercial use only - registered to an___@student.uliege.be\n",
            "Read LP format model from file /tmp/tmpqrrqy7bl.pyomo.lp\n",
            "Reading time = 0.00 seconds\n",
            "x1: 438 rows, 179 columns, 808 nonzeros\n",
            "Gurobi Optimizer version 12.0.3 build v12.0.3rc0 (linux64 - \"Ubuntu 22.04.4 LTS\")\n",
            "\n",
            "CPU model: Intel(R) Xeon(R) CPU @ 2.20GHz, instruction set [SSE2|AVX|AVX2]\n",
            "Thread count: 1 physical cores, 2 logical processors, using up to 2 threads\n",
            "\n",
            "Optimize a model with 438 rows, 179 columns and 808 nonzeros\n",
            "Model fingerprint: 0x1fac2f03\n",
            "Coefficient statistics:\n",
            "  Matrix range     [5e-01, 2e+00]\n",
            "  Objective range  [1e+00, 2e+00]\n",
            "  Bounds range     [0e+00, 0e+00]\n",
            "  RHS range        [6e-02, 5e+01]\n",
            "Presolve removed 377 rows and 117 columns\n",
            "Presolve time: 0.00s\n",
            "Presolved: 61 rows, 62 columns, 228 nonzeros\n",
            "\n",
            "Iteration    Objective       Primal Inf.    Dual Inf.      Time\n",
            "       0    5.7473859e+00   2.114846e+01   0.000000e+00      0s\n",
            "      39    2.0381335e+00   0.000000e+00   0.000000e+00      0s\n",
            "\n",
            "Solved in 39 iterations and 0.00 seconds (0.00 work units)\n",
            "Optimal objective  2.038133504e+00\n",
            "1.5"
          ]
        },
        {
          "output_type": "stream",
          "name": "stderr",
          "text": [
            "WARNING:pyomo.core:Implicitly replacing the Component attribute objective (type=<class 'pyomo.core.base.objective.ScalarObjective'>) on block unknown with a new Component (type=<class 'pyomo.core.base.objective.AbstractScalarObjective'>).\n",
            "This is usually indicative of a modelling error.\n",
            "To avoid this warning, use block.del_component() and block.add_component().\n"
          ]
        },
        {
          "output_type": "stream",
          "name": "stdout",
          "text": [
            "\n",
            "Set parameter WLSAccessID\n",
            "Set parameter WLSSecret\n",
            "Set parameter LicenseID to value 2651433\n",
            "Academic license 2651433 - for non-commercial use only - registered to an___@student.uliege.be\n",
            "Read LP format model from file /tmp/tmplnbs8k97.pyomo.lp\n",
            "Reading time = 0.00 seconds\n",
            "x1: 438 rows, 179 columns, 808 nonzeros\n",
            "Gurobi Optimizer version 12.0.3 build v12.0.3rc0 (linux64 - \"Ubuntu 22.04.4 LTS\")\n",
            "\n",
            "CPU model: Intel(R) Xeon(R) CPU @ 2.20GHz, instruction set [SSE2|AVX|AVX2]\n",
            "Thread count: 1 physical cores, 2 logical processors, using up to 2 threads\n",
            "\n",
            "Optimize a model with 438 rows, 179 columns and 808 nonzeros\n",
            "Model fingerprint: 0x4089b7b1\n",
            "Coefficient statistics:\n",
            "  Matrix range     [5e-01, 2e+00]\n",
            "  Objective range  [1e+00, 2e+00]\n",
            "  Bounds range     [0e+00, 0e+00]\n",
            "  RHS range        [6e-02, 5e+01]\n",
            "Presolve removed 377 rows and 117 columns\n",
            "Presolve time: 0.00s\n",
            "Presolved: 61 rows, 62 columns, 228 nonzeros\n",
            "\n",
            "Iteration    Objective       Primal Inf.    Dual Inf.      Time\n",
            "       0    5.7473859e+00   2.114846e+01   0.000000e+00      0s\n",
            "      39    2.0364313e+00   0.000000e+00   0.000000e+00      0s\n",
            "\n",
            "Solved in 39 iterations and 0.00 seconds (0.00 work units)\n",
            "Optimal objective  2.036431323e+00\n"
          ]
        },
        {
          "output_type": "stream",
          "name": "stderr",
          "text": [
            "WARNING:pyomo.core:Implicitly replacing the Component attribute objective (type=<class 'pyomo.core.base.objective.ScalarObjective'>) on block unknown with a new Component (type=<class 'pyomo.core.base.objective.AbstractScalarObjective'>).\n",
            "This is usually indicative of a modelling error.\n",
            "To avoid this warning, use block.del_component() and block.add_component().\n"
          ]
        },
        {
          "output_type": "stream",
          "name": "stdout",
          "text": [
            "1.5\n",
            "Set parameter WLSAccessID\n",
            "Set parameter WLSSecret\n",
            "Set parameter LicenseID to value 2651433\n",
            "Academic license 2651433 - for non-commercial use only - registered to an___@student.uliege.be\n",
            "Read LP format model from file /tmp/tmpzhxdb2cv.pyomo.lp\n",
            "Reading time = 0.00 seconds\n",
            "x1: 438 rows, 179 columns, 808 nonzeros\n",
            "Gurobi Optimizer version 12.0.3 build v12.0.3rc0 (linux64 - \"Ubuntu 22.04.4 LTS\")\n",
            "\n",
            "CPU model: Intel(R) Xeon(R) CPU @ 2.20GHz, instruction set [SSE2|AVX|AVX2]\n",
            "Thread count: 1 physical cores, 2 logical processors, using up to 2 threads\n",
            "\n",
            "Optimize a model with 438 rows, 179 columns and 808 nonzeros\n",
            "Model fingerprint: 0x0343b114\n",
            "Coefficient statistics:\n",
            "  Matrix range     [5e-01, 2e+00]\n",
            "  Objective range  [1e+00, 2e+00]\n",
            "  Bounds range     [0e+00, 0e+00]\n",
            "  RHS range        [6e-02, 5e+01]\n",
            "Presolve removed 377 rows and 117 columns\n",
            "Presolve time: 0.00s\n",
            "Presolved: 61 rows, 62 columns, 228 nonzeros\n",
            "\n",
            "Iteration    Objective       Primal Inf.    Dual Inf.      Time\n",
            "       0    5.7473859e+00   2.114846e+01   0.000000e+00      0s\n",
            "      39    2.0364313e+00   0.000000e+00   0.000000e+00      0s\n",
            "\n",
            "Solved in 39 iterations and 0.00 seconds (0.00 work units)\n",
            "Optimal objective  2.036431323e+00\n"
          ]
        },
        {
          "output_type": "stream",
          "name": "stderr",
          "text": [
            "WARNING:pyomo.core:Implicitly replacing the Component attribute objective (type=<class 'pyomo.core.base.objective.ScalarObjective'>) on block unknown with a new Component (type=<class 'pyomo.core.base.objective.AbstractScalarObjective'>).\n",
            "This is usually indicative of a modelling error.\n",
            "To avoid this warning, use block.del_component() and block.add_component().\n"
          ]
        },
        {
          "output_type": "stream",
          "name": "stdout",
          "text": [
            "1.5\n",
            "Set parameter WLSAccessID\n",
            "Set parameter WLSSecret\n",
            "Set parameter LicenseID to value 2651433\n",
            "Academic license 2651433 - for non-commercial use only - registered to an___@student.uliege.be\n",
            "Read LP format model from file /tmp/tmpxe3s0_ce.pyomo.lp\n",
            "Reading time = 0.00 seconds\n",
            "x1: 438 rows, 179 columns, 808 nonzeros\n",
            "Gurobi Optimizer version 12.0.3 build v12.0.3rc0 (linux64 - \"Ubuntu 22.04.4 LTS\")\n",
            "\n",
            "CPU model: Intel(R) Xeon(R) CPU @ 2.20GHz, instruction set [SSE2|AVX|AVX2]\n",
            "Thread count: 1 physical cores, 2 logical processors, using up to 2 threads\n",
            "\n",
            "Optimize a model with 438 rows, 179 columns and 808 nonzeros\n",
            "Model fingerprint: 0xb558f371\n",
            "Coefficient statistics:\n",
            "  Matrix range     [5e-01, 2e+00]\n",
            "  Objective range  [1e+00, 2e+00]\n",
            "  Bounds range     [0e+00, 0e+00]\n",
            "  RHS range        [6e-02, 5e+01]\n",
            "Presolve removed 377 rows and 117 columns\n",
            "Presolve time: 0.00s\n",
            "Presolved: 61 rows, 62 columns, 228 nonzeros\n",
            "\n",
            "Iteration    Objective       Primal Inf.    Dual Inf.      Time\n",
            "       0    5.7473859e+00   2.114846e+01   0.000000e+00      0s\n",
            "      39    2.0364313e+00   0.000000e+00   0.000000e+00      0s\n",
            "\n",
            "Solved in 39 iterations and 0.00 seconds (0.00 work units)\n",
            "Optimal objective  2.036431323e+00\n"
          ]
        },
        {
          "output_type": "stream",
          "name": "stderr",
          "text": [
            "WARNING:pyomo.core:Implicitly replacing the Component attribute objective (type=<class 'pyomo.core.base.objective.ScalarObjective'>) on block unknown with a new Component (type=<class 'pyomo.core.base.objective.AbstractScalarObjective'>).\n",
            "This is usually indicative of a modelling error.\n",
            "To avoid this warning, use block.del_component() and block.add_component().\n"
          ]
        },
        {
          "output_type": "stream",
          "name": "stdout",
          "text": [
            "1.5\n",
            "Set parameter WLSAccessID\n",
            "Set parameter WLSSecret\n",
            "Set parameter LicenseID to value 2651433\n",
            "Academic license 2651433 - for non-commercial use only - registered to an___@student.uliege.be\n",
            "Read LP format model from file /tmp/tmpbfeppmk8.pyomo.lp\n",
            "Reading time = 0.00 seconds\n",
            "x1: 438 rows, 179 columns, 808 nonzeros\n",
            "Gurobi Optimizer version 12.0.3 build v12.0.3rc0 (linux64 - \"Ubuntu 22.04.4 LTS\")\n",
            "\n",
            "CPU model: Intel(R) Xeon(R) CPU @ 2.20GHz, instruction set [SSE2|AVX|AVX2]\n",
            "Thread count: 1 physical cores, 2 logical processors, using up to 2 threads\n",
            "\n",
            "Optimize a model with 438 rows, 179 columns and 808 nonzeros\n",
            "Model fingerprint: 0xbff46afb\n",
            "Coefficient statistics:\n",
            "  Matrix range     [5e-01, 2e+00]\n",
            "  Objective range  [1e+00, 2e+00]\n",
            "  Bounds range     [0e+00, 0e+00]\n",
            "  RHS range        [6e-02, 5e+01]\n",
            "Presolve removed 377 rows and 117 columns\n",
            "Presolve time: 0.00s\n",
            "Presolved: 61 rows, 62 columns, 228 nonzeros\n",
            "\n",
            "Iteration    Objective       Primal Inf.    Dual Inf.      Time\n",
            "       0    5.7473859e+00   2.114846e+01   0.000000e+00      0s\n",
            "      39    2.0364313e+00   0.000000e+00   0.000000e+00      0s\n",
            "\n",
            "Solved in 39 iterations and 0.00 seconds (0.00 work units)\n",
            "Optimal objective  2.036431323e+00\n"
          ]
        },
        {
          "output_type": "stream",
          "name": "stderr",
          "text": [
            "WARNING:pyomo.core:Implicitly replacing the Component attribute objective (type=<class 'pyomo.core.base.objective.ScalarObjective'>) on block unknown with a new Component (type=<class 'pyomo.core.base.objective.AbstractScalarObjective'>).\n",
            "This is usually indicative of a modelling error.\n",
            "To avoid this warning, use block.del_component() and block.add_component().\n"
          ]
        },
        {
          "output_type": "stream",
          "name": "stdout",
          "text": [
            "1.5\n",
            "Set parameter WLSAccessID\n",
            "Set parameter WLSSecret\n",
            "Set parameter LicenseID to value 2651433\n",
            "Academic license 2651433 - for non-commercial use only - registered to an___@student.uliege.be\n",
            "Read LP format model from file /tmp/tmpwhy4eel0.pyomo.lp\n",
            "Reading time = 0.00 seconds\n",
            "x1: 438 rows, 179 columns, 808 nonzeros\n",
            "Gurobi Optimizer version 12.0.3 build v12.0.3rc0 (linux64 - \"Ubuntu 22.04.4 LTS\")\n",
            "\n",
            "CPU model: Intel(R) Xeon(R) CPU @ 2.20GHz, instruction set [SSE2|AVX|AVX2]\n",
            "Thread count: 1 physical cores, 2 logical processors, using up to 2 threads\n",
            "\n",
            "Optimize a model with 438 rows, 179 columns and 808 nonzeros\n",
            "Model fingerprint: 0x7d5e3e84\n",
            "Coefficient statistics:\n",
            "  Matrix range     [5e-01, 2e+00]\n",
            "  Objective range  [1e+00, 2e+00]\n",
            "  Bounds range     [0e+00, 0e+00]\n",
            "  RHS range        [6e-02, 5e+01]\n",
            "Presolve removed 377 rows and 117 columns\n",
            "Presolve time: 0.00s\n",
            "Presolved: 61 rows, 62 columns, 228 nonzeros\n",
            "\n",
            "Iteration    Objective       Primal Inf.    Dual Inf.      Time\n",
            "       0    5.7473859e+00   2.114846e+01   0.000000e+00      0s\n",
            "      39    2.0364313e+00   0.000000e+00   0.000000e+00      0s\n",
            "\n",
            "Solved in 39 iterations and 0.00 seconds (0.00 work units)\n",
            "Optimal objective  2.036431323e+00\n"
          ]
        },
        {
          "output_type": "stream",
          "name": "stderr",
          "text": [
            "WARNING:pyomo.core:Implicitly replacing the Component attribute objective (type=<class 'pyomo.core.base.objective.ScalarObjective'>) on block unknown with a new Component (type=<class 'pyomo.core.base.objective.AbstractScalarObjective'>).\n",
            "This is usually indicative of a modelling error.\n",
            "To avoid this warning, use block.del_component() and block.add_component().\n"
          ]
        },
        {
          "output_type": "stream",
          "name": "stdout",
          "text": [
            "1.5\n",
            "Set parameter WLSAccessID\n",
            "Set parameter WLSSecret\n",
            "Set parameter LicenseID to value 2651433\n",
            "Academic license 2651433 - for non-commercial use only - registered to an___@student.uliege.be\n",
            "Read LP format model from file /tmp/tmpyx_08be1.pyomo.lp\n",
            "Reading time = 0.00 seconds\n",
            "x1: 438 rows, 179 columns, 808 nonzeros\n",
            "Gurobi Optimizer version 12.0.3 build v12.0.3rc0 (linux64 - \"Ubuntu 22.04.4 LTS\")\n",
            "\n",
            "CPU model: Intel(R) Xeon(R) CPU @ 2.20GHz, instruction set [SSE2|AVX|AVX2]\n",
            "Thread count: 1 physical cores, 2 logical processors, using up to 2 threads\n",
            "\n",
            "Optimize a model with 438 rows, 179 columns and 808 nonzeros\n",
            "Model fingerprint: 0x76205d6b\n",
            "Coefficient statistics:\n",
            "  Matrix range     [5e-01, 2e+00]\n",
            "  Objective range  [1e+00, 2e+00]\n",
            "  Bounds range     [0e+00, 0e+00]\n",
            "  RHS range        [6e-02, 5e+01]\n",
            "Presolve removed 377 rows and 117 columns\n",
            "Presolve time: 0.00s\n",
            "Presolved: 61 rows, 62 columns, 228 nonzeros\n",
            "\n",
            "Iteration    Objective       Primal Inf.    Dual Inf.      Time\n",
            "       0    5.7473859e+00   2.114846e+01   0.000000e+00      0s\n",
            "      39    2.0364313e+00   0.000000e+00   0.000000e+00      0s\n",
            "\n",
            "Solved in 39 iterations and 0.00 seconds (0.00 work units)\n",
            "Optimal objective  2.036431323e+00\n"
          ]
        },
        {
          "output_type": "stream",
          "name": "stderr",
          "text": [
            "WARNING:pyomo.core:Implicitly replacing the Component attribute objective (type=<class 'pyomo.core.base.objective.ScalarObjective'>) on block unknown with a new Component (type=<class 'pyomo.core.base.objective.AbstractScalarObjective'>).\n",
            "This is usually indicative of a modelling error.\n",
            "To avoid this warning, use block.del_component() and block.add_component().\n"
          ]
        },
        {
          "output_type": "stream",
          "name": "stdout",
          "text": [
            "1.5\n",
            "Set parameter WLSAccessID\n",
            "Set parameter WLSSecret\n",
            "Set parameter LicenseID to value 2651433\n",
            "Academic license 2651433 - for non-commercial use only - registered to an___@student.uliege.be\n",
            "Read LP format model from file /tmp/tmp6r7l2239.pyomo.lp\n",
            "Reading time = 0.00 seconds\n",
            "x1: 438 rows, 179 columns, 808 nonzeros\n",
            "Gurobi Optimizer version 12.0.3 build v12.0.3rc0 (linux64 - \"Ubuntu 22.04.4 LTS\")\n",
            "\n",
            "CPU model: Intel(R) Xeon(R) CPU @ 2.20GHz, instruction set [SSE2|AVX|AVX2]\n",
            "Thread count: 1 physical cores, 2 logical processors, using up to 2 threads\n",
            "\n",
            "Optimize a model with 438 rows, 179 columns and 808 nonzeros\n",
            "Model fingerprint: 0x7b5e8f52\n",
            "Coefficient statistics:\n",
            "  Matrix range     [5e-01, 2e+00]\n",
            "  Objective range  [1e+00, 2e+00]\n",
            "  Bounds range     [0e+00, 0e+00]\n",
            "  RHS range        [6e-02, 5e+01]\n",
            "Presolve removed 377 rows and 117 columns\n",
            "Presolve time: 0.00s\n",
            "Presolved: 61 rows, 62 columns, 228 nonzeros\n",
            "\n",
            "Iteration    Objective       Primal Inf.    Dual Inf.      Time\n",
            "       0    5.7473859e+00   2.114846e+01   0.000000e+00      0s\n",
            "      39    2.0364313e+00   0.000000e+00   0.000000e+00      0s\n",
            "\n",
            "Solved in 39 iterations and 0.00 seconds (0.00 work units)\n",
            "Optimal objective  2.036431323e+00\n"
          ]
        },
        {
          "output_type": "stream",
          "name": "stderr",
          "text": [
            "WARNING:pyomo.core:Implicitly replacing the Component attribute objective (type=<class 'pyomo.core.base.objective.ScalarObjective'>) on block unknown with a new Component (type=<class 'pyomo.core.base.objective.AbstractScalarObjective'>).\n",
            "This is usually indicative of a modelling error.\n",
            "To avoid this warning, use block.del_component() and block.add_component().\n"
          ]
        },
        {
          "output_type": "stream",
          "name": "stdout",
          "text": [
            "1.5\n",
            "Set parameter WLSAccessID\n",
            "Set parameter WLSSecret\n",
            "Set parameter LicenseID to value 2651433\n",
            "Academic license 2651433 - for non-commercial use only - registered to an___@student.uliege.be\n",
            "Read LP format model from file /tmp/tmpl602g8hy.pyomo.lp\n",
            "Reading time = 0.00 seconds\n",
            "x1: 438 rows, 179 columns, 808 nonzeros\n",
            "Gurobi Optimizer version 12.0.3 build v12.0.3rc0 (linux64 - \"Ubuntu 22.04.4 LTS\")\n",
            "\n",
            "CPU model: Intel(R) Xeon(R) CPU @ 2.20GHz, instruction set [SSE2|AVX|AVX2]\n",
            "Thread count: 1 physical cores, 2 logical processors, using up to 2 threads\n",
            "\n",
            "Optimize a model with 438 rows, 179 columns and 808 nonzeros\n",
            "Model fingerprint: 0x9ca9a7f3\n",
            "Coefficient statistics:\n",
            "  Matrix range     [5e-01, 2e+00]\n",
            "  Objective range  [1e+00, 2e+00]\n",
            "  Bounds range     [0e+00, 0e+00]\n",
            "  RHS range        [6e-02, 5e+01]\n",
            "Presolve removed 377 rows and 117 columns\n",
            "Presolve time: 0.00s\n",
            "Presolved: 61 rows, 62 columns, 228 nonzeros\n",
            "\n",
            "Iteration    Objective       Primal Inf.    Dual Inf.      Time\n",
            "       0    5.7473859e+00   2.114846e+01   0.000000e+00      0s\n",
            "      39    2.0364313e+00   0.000000e+00   0.000000e+00      0s\n",
            "\n",
            "Solved in 39 iterations and 0.00 seconds (0.00 work units)\n",
            "Optimal objective  2.036431323e+00\n",
            "1.5"
          ]
        },
        {
          "output_type": "stream",
          "name": "stderr",
          "text": [
            "WARNING:pyomo.core:Implicitly replacing the Component attribute objective (type=<class 'pyomo.core.base.objective.ScalarObjective'>) on block unknown with a new Component (type=<class 'pyomo.core.base.objective.AbstractScalarObjective'>).\n",
            "This is usually indicative of a modelling error.\n",
            "To avoid this warning, use block.del_component() and block.add_component().\n"
          ]
        },
        {
          "output_type": "stream",
          "name": "stdout",
          "text": [
            "\n",
            "Set parameter WLSAccessID\n",
            "Set parameter WLSSecret\n",
            "Set parameter LicenseID to value 2651433\n",
            "Academic license 2651433 - for non-commercial use only - registered to an___@student.uliege.be\n",
            "Read LP format model from file /tmp/tmp8qgwbmu8.pyomo.lp\n",
            "Reading time = 0.00 seconds\n",
            "x1: 438 rows, 179 columns, 808 nonzeros\n",
            "Gurobi Optimizer version 12.0.3 build v12.0.3rc0 (linux64 - \"Ubuntu 22.04.4 LTS\")\n",
            "\n",
            "CPU model: Intel(R) Xeon(R) CPU @ 2.20GHz, instruction set [SSE2|AVX|AVX2]\n",
            "Thread count: 1 physical cores, 2 logical processors, using up to 2 threads\n",
            "\n",
            "Optimize a model with 438 rows, 179 columns and 808 nonzeros\n",
            "Model fingerprint: 0xed4ce1c7\n",
            "Coefficient statistics:\n",
            "  Matrix range     [5e-01, 2e+00]\n",
            "  Objective range  [1e+00, 2e+00]\n",
            "  Bounds range     [0e+00, 0e+00]\n",
            "  RHS range        [6e-02, 5e+01]\n",
            "Presolve removed 377 rows and 117 columns\n",
            "Presolve time: 0.00s\n",
            "Presolved: 61 rows, 62 columns, 228 nonzeros\n",
            "\n",
            "Iteration    Objective       Primal Inf.    Dual Inf.      Time\n",
            "       0    5.7473859e+00   2.114846e+01   0.000000e+00      0s\n",
            "      39    2.0364313e+00   0.000000e+00   0.000000e+00      0s\n",
            "\n",
            "Solved in 39 iterations and 0.00 seconds (0.00 work units)\n",
            "Optimal objective  2.036431323e+00\n"
          ]
        },
        {
          "output_type": "stream",
          "name": "stderr",
          "text": [
            "WARNING:pyomo.core:Implicitly replacing the Component attribute objective (type=<class 'pyomo.core.base.objective.ScalarObjective'>) on block unknown with a new Component (type=<class 'pyomo.core.base.objective.AbstractScalarObjective'>).\n",
            "This is usually indicative of a modelling error.\n",
            "To avoid this warning, use block.del_component() and block.add_component().\n"
          ]
        },
        {
          "output_type": "stream",
          "name": "stdout",
          "text": [
            "1.5\n",
            "Set parameter WLSAccessID\n",
            "Set parameter WLSSecret\n",
            "Set parameter LicenseID to value 2651433\n",
            "Academic license 2651433 - for non-commercial use only - registered to an___@student.uliege.be\n",
            "Read LP format model from file /tmp/tmpt3s1q4fo.pyomo.lp\n",
            "Reading time = 0.00 seconds\n",
            "x1: 438 rows, 179 columns, 808 nonzeros\n",
            "Gurobi Optimizer version 12.0.3 build v12.0.3rc0 (linux64 - \"Ubuntu 22.04.4 LTS\")\n",
            "\n",
            "CPU model: Intel(R) Xeon(R) CPU @ 2.20GHz, instruction set [SSE2|AVX|AVX2]\n",
            "Thread count: 1 physical cores, 2 logical processors, using up to 2 threads\n",
            "\n",
            "Optimize a model with 438 rows, 179 columns and 808 nonzeros\n",
            "Model fingerprint: 0x3dc597e1\n",
            "Coefficient statistics:\n",
            "  Matrix range     [5e-01, 2e+00]\n",
            "  Objective range  [1e+00, 2e+00]\n",
            "  Bounds range     [0e+00, 0e+00]\n",
            "  RHS range        [6e-02, 5e+01]\n",
            "Presolve removed 377 rows and 117 columns\n",
            "Presolve time: 0.00s\n",
            "Presolved: 61 rows, 62 columns, 228 nonzeros\n",
            "\n",
            "Iteration    Objective       Primal Inf.    Dual Inf.      Time\n",
            "       0    5.7473859e+00   2.114846e+01   0.000000e+00      0s\n",
            "      39    2.0364313e+00   0.000000e+00   0.000000e+00      0s\n",
            "\n",
            "Solved in 39 iterations and 0.00 seconds (0.00 work units)\n",
            "Optimal objective  2.036431323e+00\n"
          ]
        },
        {
          "output_type": "stream",
          "name": "stderr",
          "text": [
            "WARNING:pyomo.core:Implicitly replacing the Component attribute objective (type=<class 'pyomo.core.base.objective.ScalarObjective'>) on block unknown with a new Component (type=<class 'pyomo.core.base.objective.AbstractScalarObjective'>).\n",
            "This is usually indicative of a modelling error.\n",
            "To avoid this warning, use block.del_component() and block.add_component().\n"
          ]
        },
        {
          "output_type": "stream",
          "name": "stdout",
          "text": [
            "1.5\n",
            "Set parameter WLSAccessID\n",
            "Set parameter WLSSecret\n",
            "Set parameter LicenseID to value 2651433\n",
            "Academic license 2651433 - for non-commercial use only - registered to an___@student.uliege.be\n",
            "Read LP format model from file /tmp/tmp04s0x1zd.pyomo.lp\n",
            "Reading time = 0.00 seconds\n",
            "x1: 438 rows, 179 columns, 808 nonzeros\n",
            "Gurobi Optimizer version 12.0.3 build v12.0.3rc0 (linux64 - \"Ubuntu 22.04.4 LTS\")\n",
            "\n",
            "CPU model: Intel(R) Xeon(R) CPU @ 2.20GHz, instruction set [SSE2|AVX|AVX2]\n",
            "Thread count: 1 physical cores, 2 logical processors, using up to 2 threads\n",
            "\n",
            "Optimize a model with 438 rows, 179 columns and 808 nonzeros\n",
            "Model fingerprint: 0x868f1b14\n",
            "Coefficient statistics:\n",
            "  Matrix range     [5e-01, 2e+00]\n",
            "  Objective range  [1e+00, 2e+00]\n",
            "  Bounds range     [0e+00, 0e+00]\n",
            "  RHS range        [6e-02, 5e+01]\n",
            "Presolve removed 377 rows and 117 columns\n",
            "Presolve time: 0.00s\n",
            "Presolved: 61 rows, 62 columns, 228 nonzeros\n",
            "\n",
            "Iteration    Objective       Primal Inf.    Dual Inf.      Time\n",
            "       0    5.7473859e+00   2.114846e+01   0.000000e+00      0s\n",
            "      39    2.0364313e+00   0.000000e+00   0.000000e+00      0s\n",
            "\n",
            "Solved in 39 iterations and 0.00 seconds (0.00 work units)\n",
            "Optimal objective  2.036431323e+00\n"
          ]
        },
        {
          "output_type": "stream",
          "name": "stderr",
          "text": [
            "WARNING:pyomo.core:Implicitly replacing the Component attribute objective (type=<class 'pyomo.core.base.objective.ScalarObjective'>) on block unknown with a new Component (type=<class 'pyomo.core.base.objective.AbstractScalarObjective'>).\n",
            "This is usually indicative of a modelling error.\n",
            "To avoid this warning, use block.del_component() and block.add_component().\n"
          ]
        },
        {
          "output_type": "stream",
          "name": "stdout",
          "text": [
            "1.5\n",
            "Set parameter WLSAccessID\n",
            "Set parameter WLSSecret\n",
            "Set parameter LicenseID to value 2651433\n",
            "Academic license 2651433 - for non-commercial use only - registered to an___@student.uliege.be\n",
            "Read LP format model from file /tmp/tmp99v_pgr7.pyomo.lp\n",
            "Reading time = 0.00 seconds\n",
            "x1: 438 rows, 179 columns, 808 nonzeros\n",
            "Gurobi Optimizer version 12.0.3 build v12.0.3rc0 (linux64 - \"Ubuntu 22.04.4 LTS\")\n",
            "\n",
            "CPU model: Intel(R) Xeon(R) CPU @ 2.20GHz, instruction set [SSE2|AVX|AVX2]\n",
            "Thread count: 1 physical cores, 2 logical processors, using up to 2 threads\n",
            "\n",
            "Optimize a model with 438 rows, 179 columns and 808 nonzeros\n",
            "Model fingerprint: 0x7a4bfbdf\n",
            "Coefficient statistics:\n",
            "  Matrix range     [5e-01, 2e+00]\n",
            "  Objective range  [1e+00, 3e+00]\n",
            "  Bounds range     [0e+00, 0e+00]\n",
            "  RHS range        [6e-02, 5e+01]\n",
            "Presolve removed 377 rows and 117 columns\n",
            "Presolve time: 0.00s\n",
            "Presolved: 61 rows, 62 columns, 228 nonzeros\n",
            "\n",
            "Iteration    Objective       Primal Inf.    Dual Inf.      Time\n",
            "       0    5.7473859e+00   2.114846e+01   0.000000e+00      0s\n",
            "      39    2.0364313e+00   0.000000e+00   0.000000e+00      0s\n",
            "\n",
            "Solved in 39 iterations and 0.00 seconds (0.00 work units)\n",
            "Optimal objective  2.036431323e+00\n"
          ]
        },
        {
          "output_type": "stream",
          "name": "stderr",
          "text": [
            "WARNING:pyomo.core:Implicitly replacing the Component attribute objective (type=<class 'pyomo.core.base.objective.ScalarObjective'>) on block unknown with a new Component (type=<class 'pyomo.core.base.objective.AbstractScalarObjective'>).\n",
            "This is usually indicative of a modelling error.\n",
            "To avoid this warning, use block.del_component() and block.add_component().\n"
          ]
        },
        {
          "output_type": "stream",
          "name": "stdout",
          "text": [
            "1.5\n",
            "Set parameter WLSAccessID\n",
            "Set parameter WLSSecret\n",
            "Set parameter LicenseID to value 2651433\n",
            "Academic license 2651433 - for non-commercial use only - registered to an___@student.uliege.be\n",
            "Read LP format model from file /tmp/tmpk6c9cz20.pyomo.lp\n",
            "Reading time = 0.00 seconds\n",
            "x1: 438 rows, 179 columns, 808 nonzeros\n",
            "Gurobi Optimizer version 12.0.3 build v12.0.3rc0 (linux64 - \"Ubuntu 22.04.4 LTS\")\n",
            "\n",
            "CPU model: Intel(R) Xeon(R) CPU @ 2.20GHz, instruction set [SSE2|AVX|AVX2]\n",
            "Thread count: 1 physical cores, 2 logical processors, using up to 2 threads\n",
            "\n",
            "Optimize a model with 438 rows, 179 columns and 808 nonzeros\n",
            "Model fingerprint: 0x2dd082b6\n",
            "Coefficient statistics:\n",
            "  Matrix range     [5e-01, 2e+00]\n",
            "  Objective range  [1e+00, 3e+00]\n",
            "  Bounds range     [0e+00, 0e+00]\n",
            "  RHS range        [6e-02, 5e+01]\n",
            "Presolve removed 377 rows and 117 columns\n",
            "Presolve time: 0.00s\n",
            "Presolved: 61 rows, 62 columns, 228 nonzeros\n",
            "\n",
            "Iteration    Objective       Primal Inf.    Dual Inf.      Time\n",
            "       0    5.7473859e+00   2.114846e+01   0.000000e+00      0s\n",
            "      39    2.0364313e+00   0.000000e+00   0.000000e+00      0s\n",
            "\n",
            "Solved in 39 iterations and 0.00 seconds (0.00 work units)\n",
            "Optimal objective  2.036431323e+00\n"
          ]
        },
        {
          "output_type": "stream",
          "name": "stderr",
          "text": [
            "WARNING:pyomo.core:Implicitly replacing the Component attribute objective (type=<class 'pyomo.core.base.objective.ScalarObjective'>) on block unknown with a new Component (type=<class 'pyomo.core.base.objective.AbstractScalarObjective'>).\n",
            "This is usually indicative of a modelling error.\n",
            "To avoid this warning, use block.del_component() and block.add_component().\n"
          ]
        },
        {
          "output_type": "stream",
          "name": "stdout",
          "text": [
            "1.5\n",
            "Set parameter WLSAccessID\n",
            "Set parameter WLSSecret\n",
            "Set parameter LicenseID to value 2651433\n",
            "Academic license 2651433 - for non-commercial use only - registered to an___@student.uliege.be\n",
            "Read LP format model from file /tmp/tmprxucizj8.pyomo.lp\n",
            "Reading time = 0.00 seconds\n",
            "x1: 438 rows, 179 columns, 808 nonzeros\n",
            "Gurobi Optimizer version 12.0.3 build v12.0.3rc0 (linux64 - \"Ubuntu 22.04.4 LTS\")\n",
            "\n",
            "CPU model: Intel(R) Xeon(R) CPU @ 2.20GHz, instruction set [SSE2|AVX|AVX2]\n",
            "Thread count: 1 physical cores, 2 logical processors, using up to 2 threads\n",
            "\n",
            "Optimize a model with 438 rows, 179 columns and 808 nonzeros\n",
            "Model fingerprint: 0xb4e56665\n",
            "Coefficient statistics:\n",
            "  Matrix range     [5e-01, 2e+00]\n",
            "  Objective range  [1e+00, 3e+00]\n",
            "  Bounds range     [0e+00, 0e+00]\n",
            "  RHS range        [6e-02, 5e+01]\n",
            "Presolve removed 377 rows and 117 columns\n",
            "Presolve time: 0.00s\n",
            "Presolved: 61 rows, 62 columns, 228 nonzeros\n",
            "\n",
            "Iteration    Objective       Primal Inf.    Dual Inf.      Time\n",
            "       0    5.7473859e+00   2.114846e+01   0.000000e+00      0s\n",
            "      39    2.0364313e+00   0.000000e+00   0.000000e+00      0s\n",
            "\n",
            "Solved in 39 iterations and 0.00 seconds (0.00 work units)\n",
            "Optimal objective  2.036431323e+00\n",
            "1.5\n"
          ]
        },
        {
          "output_type": "stream",
          "name": "stderr",
          "text": [
            "WARNING:pyomo.core:Implicitly replacing the Component attribute objective (type=<class 'pyomo.core.base.objective.ScalarObjective'>) on block unknown with a new Component (type=<class 'pyomo.core.base.objective.AbstractScalarObjective'>).\n",
            "This is usually indicative of a modelling error.\n",
            "To avoid this warning, use block.del_component() and block.add_component().\n"
          ]
        },
        {
          "output_type": "stream",
          "name": "stdout",
          "text": [
            "Set parameter WLSAccessID\n",
            "Set parameter WLSSecret\n",
            "Set parameter LicenseID to value 2651433\n",
            "Academic license 2651433 - for non-commercial use only - registered to an___@student.uliege.be\n",
            "Read LP format model from file /tmp/tmpdxvdob5v.pyomo.lp\n",
            "Reading time = 0.00 seconds\n",
            "x1: 438 rows, 179 columns, 808 nonzeros\n",
            "Gurobi Optimizer version 12.0.3 build v12.0.3rc0 (linux64 - \"Ubuntu 22.04.4 LTS\")\n",
            "\n",
            "CPU model: Intel(R) Xeon(R) CPU @ 2.20GHz, instruction set [SSE2|AVX|AVX2]\n",
            "Thread count: 1 physical cores, 2 logical processors, using up to 2 threads\n",
            "\n",
            "Optimize a model with 438 rows, 179 columns and 808 nonzeros\n",
            "Model fingerprint: 0x29275e8a\n",
            "Coefficient statistics:\n",
            "  Matrix range     [5e-01, 2e+00]\n",
            "  Objective range  [1e+00, 3e+00]\n",
            "  Bounds range     [0e+00, 0e+00]\n",
            "  RHS range        [6e-02, 5e+01]\n",
            "Presolve removed 377 rows and 117 columns\n",
            "Presolve time: 0.00s\n",
            "Presolved: 61 rows, 62 columns, 228 nonzeros\n",
            "\n",
            "Iteration    Objective       Primal Inf.    Dual Inf.      Time\n",
            "       0    5.7473859e+00   2.114846e+01   0.000000e+00      0s\n",
            "      39    2.0364313e+00   0.000000e+00   0.000000e+00      0s\n",
            "\n",
            "Solved in 39 iterations and 0.00 seconds (0.00 work units)\n",
            "Optimal objective  2.036431323e+00\n"
          ]
        },
        {
          "output_type": "stream",
          "name": "stderr",
          "text": [
            "WARNING:pyomo.core:Implicitly replacing the Component attribute objective (type=<class 'pyomo.core.base.objective.ScalarObjective'>) on block unknown with a new Component (type=<class 'pyomo.core.base.objective.AbstractScalarObjective'>).\n",
            "This is usually indicative of a modelling error.\n",
            "To avoid this warning, use block.del_component() and block.add_component().\n"
          ]
        },
        {
          "output_type": "stream",
          "name": "stdout",
          "text": [
            "1.5\n",
            "Set parameter WLSAccessID\n",
            "Set parameter WLSSecret\n",
            "Set parameter LicenseID to value 2651433\n",
            "Academic license 2651433 - for non-commercial use only - registered to an___@student.uliege.be\n",
            "Read LP format model from file /tmp/tmp4i8ii95l.pyomo.lp\n",
            "Reading time = 0.00 seconds\n",
            "x1: 438 rows, 179 columns, 808 nonzeros\n",
            "Gurobi Optimizer version 12.0.3 build v12.0.3rc0 (linux64 - \"Ubuntu 22.04.4 LTS\")\n",
            "\n",
            "CPU model: Intel(R) Xeon(R) CPU @ 2.20GHz, instruction set [SSE2|AVX|AVX2]\n",
            "Thread count: 1 physical cores, 2 logical processors, using up to 2 threads\n",
            "\n",
            "Optimize a model with 438 rows, 179 columns and 808 nonzeros\n",
            "Model fingerprint: 0x295b6444\n",
            "Coefficient statistics:\n",
            "  Matrix range     [5e-01, 2e+00]\n",
            "  Objective range  [1e+00, 3e+00]\n",
            "  Bounds range     [0e+00, 0e+00]\n",
            "  RHS range        [6e-02, 5e+01]\n",
            "Presolve removed 377 rows and 117 columns\n",
            "Presolve time: 0.00s\n",
            "Presolved: 61 rows, 62 columns, 228 nonzeros\n",
            "\n",
            "Iteration    Objective       Primal Inf.    Dual Inf.      Time\n",
            "       0    5.7473859e+00   2.114846e+01   0.000000e+00      0s\n",
            "      39    2.0364313e+00   0.000000e+00   0.000000e+00      0s\n",
            "\n",
            "Solved in 39 iterations and 0.00 seconds (0.00 work units)\n",
            "Optimal objective  2.036431323e+00\n"
          ]
        }
      ]
    },
    {
      "cell_type": "code",
      "source": [
        "print(enveloppe_taille)\n",
        "print(curtail)\n",
        "print(close)"
      ],
      "metadata": {
        "colab": {
          "base_uri": "https://localhost:8080/"
        },
        "id": "dxKCc8LwJUGm",
        "outputId": "cc4cf740-9281-4347-f7e9-5f2bfdd8e1c2"
      },
      "execution_count": null,
      "outputs": [
        {
          "output_type": "stream",
          "name": "stdout",
          "text": [
            "[5.10861963376804, 5.10861963376804, 5.10861963376804, 5.10861963376804, 5.10861963376804, 5.369410524947899, 6.332075999423944, 6.332075999423944, 6.332075999423944, 6.332075999423944, 6.332075999423944, 6.332075999423944, 6.304925290006747, 6.304925290006747, 6.304925290006747, 6.304925290006747, 6.304925290006747, 6.304925290006747, 6.304925290006747, 6.304925290006747, 6.304925290006747, 6.304925290006747, 6.304925290006747, 6.304925290006747, 6.304925290006747, 6.304925290006747, 6.304925290006747, 6.304925290006747]\n",
            "[1.5849266707208456, 1.5849266707208456, 1.5849266707208456, 1.5849266707208456, 1.5849266707208456, 1.8457175619007082, 2.80838303637675, 2.80838303637675, 2.80838303637675, 2.80838303637675, 2.80838303637675, 2.80838303637675, 2.845662645003374, 2.845662645003374, 2.845662645003374, 2.845662645003374, 2.845662645003374, 2.845662645003374, 2.845662645003374, 2.845662645003374, 2.845662645003374, 2.845662645003374, 2.845662645003374, 2.845662645003374, 2.845662645003374, 2.845662645003374, 2.845662645003374, 2.845662645003374]\n",
            "[0.6625831461631744, 0.6625831461631744, 0.6625831461631744, 0.6625831461631744, 0.6625831461631744, 0.5321877005732452, 0.05085496333522199, 0.05085496333522199, 0.05085496333522199, 0.05085496333522199, 0.05085496333522199, 0.05085496333522199, 0.0, 0.0, 0.0, 0.0, 0.0, 0.0, 0.0, 0.0, 0.0, 0.0, 0.0, 0.0, 0.0, 0.0, 0.0, 0.0]\n"
          ]
        }
      ]
    },
    {
      "cell_type": "code",
      "source": [
        "# Convert A to a numpy array for easier plotting\n",
        "alpha_values = np.array(B)\n",
        "\n",
        "# Convert lists to numpy arrays, replacing None with NaN for plotting\n",
        "enveloppe_taille_np = np.array(enveloppe_taille, dtype=float)\n",
        "curtail_np = np.array(curtail, dtype=float)\n",
        "close_np = np.array(close, dtype=float)\n",
        "\n",
        "\n",
        "plt.figure(figsize=(10, 6))\n",
        "\n",
        "# Plot enveloppe_taille vs alpha\n",
        "plt.plot(alpha_values, enveloppe_taille_np, marker='o', linestyle='-', label='Envelope Volume')\n",
        "\n",
        "# Plot curtail vs alpha\n",
        "plt.plot(alpha_values, curtail_np, marker='x', linestyle='--', label='Curtailment')\n",
        "\n",
        "# Plot close vs alpha\n",
        "plt.plot(alpha_values, close_np, marker='s', linestyle='-.', label='Deviation of the center of the envelope from DSO estimation')\n",
        "\n",
        "\n",
        "# Set x-axis to a logarithmic scale\n",
        "#plt.xscale('log')\n",
        "\n",
        "# Save the plot as a PDF file\n",
        "\n",
        "\n",
        "plt.xlabel('$\\\\beta$')\n",
        "plt.ylabel('Value (per-unit)')\n",
        "#plt.title(f'Evolution of the volume of the envelope, curtailment and closeness to estimation as a function of parameter $\\\\beta$ ($\\\\alpha$ = 2)')\n",
        "plt.legend()\n",
        "plt.grid(True)\n",
        "plt.savefig('DOE_alloc_beta.pdf')\n",
        "\n",
        "plt.show()"
      ],
      "metadata": {
        "colab": {
          "base_uri": "https://localhost:8080/",
          "height": 546
        },
        "id": "Y8HCV6wXHo3R",
        "outputId": "06fa8dbc-4187-4a20-d3d2-65546fa31dae"
      },
      "execution_count": null,
      "outputs": [
        {
          "output_type": "display_data",
          "data": {
            "text/plain": [
              "<Figure size 1000x600 with 1 Axes>"
            ],
            "image/png": "[encoded data removed]"
          },
          "metadata": {}
        }
      ]
    },
    {
      "cell_type": "code",
      "source": [
        "beta = 1\n",
        "alpha = 1.5\n",
        "enveloppe_taille = []\n",
        "curtail = []\n",
        "close = []\n",
        "\n",
        "\n",
        "print(alpha)\n",
        "def objective_rule(m):\n",
        "  return  m.tot - alpha*m.O - beta * m.tot_bis\n",
        "m.objective = pyo.Objective(rule=objective_rule, sense=pyo.maximize)\n",
        "params = {\n",
        "    \"WLSACCESSID\": 'efa10779-150a-495c-ab62-6a20ff44c598',\n",
        "    \"WLSSECRET\": 'fa980d94-a6fd-4d7b-aa68-b0e19ddd2e84',\n",
        "    \"LICENSEID\": 2651433,\n",
        "           }\n",
        "env = gp.Env(params=params)\n",
        "solver = pyo.SolverFactory('gurobi', env= env)\n",
        "results = solver.solve(m, tee=True)\n",
        "\n",
        "  # Check the termination condition before accessing results\n",
        "if results.solver.termination_condition == pyo.TerminationCondition.optimal:\n",
        "  curtail.append(m.O.value)\n",
        "  enveloppe_taille.append(m.tot.value)\n",
        "  close.append(m.tot_bis.value)\n",
        "\n",
        "else:\n",
        "\n",
        "      # Append None for non-optimal results to maintain list length\n",
        "  curtail.append(None)\n",
        "  enveloppe_taille.append(None)\n",
        "  close.append(None)"
      ],
      "metadata": {
        "id": "qU1Cx-BuMEEv",
        "colab": {
          "base_uri": "https://localhost:8080/"
        },
        "outputId": "64f0ea81-f41e-4139-dc9e-d99e4f10707b"
      },
      "execution_count": null,
      "outputs": [
        {
          "output_type": "stream",
          "name": "stderr",
          "text": [
            "WARNING:pyomo.core:Implicitly replacing the Component attribute objective (type=<class 'pyomo.core.base.objective.ScalarObjective'>) on block unknown with a new Component (type=<class 'pyomo.core.base.objective.AbstractScalarObjective'>).\n",
            "This is usually indicative of a modelling error.\n",
            "To avoid this warning, use block.del_component() and block.add_component().\n"
          ]
        },
        {
          "output_type": "stream",
          "name": "stdout",
          "text": [
            "1.5\n",
            "Set parameter WLSAccessID\n",
            "Set parameter WLSSecret\n",
            "Set parameter LicenseID to value 2651433\n",
            "Academic license 2651433 - for non-commercial use only - registered to an___@student.uliege.be\n",
            "Read LP format model from file /tmp/tmp55vdo04j.pyomo.lp\n",
            "Reading time = 0.00 seconds\n",
            "x1: 438 rows, 179 columns, 808 nonzeros\n",
            "Gurobi Optimizer version 12.0.3 build v12.0.3rc0 (linux64 - \"Ubuntu 22.04.4 LTS\")\n",
            "\n",
            "CPU model: Intel(R) Xeon(R) CPU @ 2.20GHz, instruction set [SSE2|AVX|AVX2]\n",
            "Thread count: 1 physical cores, 2 logical processors, using up to 2 threads\n",
            "\n",
            "Optimize a model with 438 rows, 179 columns and 808 nonzeros\n",
            "Model fingerprint: 0xb5185362\n",
            "Coefficient statistics:\n",
            "  Matrix range     [5e-01, 2e+00]\n",
            "  Objective range  [1e+00, 2e+00]\n",
            "  Bounds range     [0e+00, 0e+00]\n",
            "  RHS range        [6e-02, 5e+01]\n",
            "Presolve removed 377 rows and 117 columns\n",
            "Presolve time: 0.01s\n",
            "Presolved: 61 rows, 62 columns, 228 nonzeros\n",
            "\n",
            "Iteration    Objective       Primal Inf.    Dual Inf.      Time\n",
            "       0    5.7473859e+00   2.114846e+01   0.000000e+00      0s\n",
            "      41    2.0686465e+00   0.000000e+00   0.000000e+00      0s\n",
            "\n",
            "Solved in 41 iterations and 0.01 seconds (0.00 work units)\n",
            "Optimal objective  2.068646482e+00\n"
          ]
        }
      ]
    },
    {
      "cell_type": "code",
      "source": [
        "import matplotlib.pyplot as plt\n",
        "import numpy as np\n",
        "\n",
        "# Extract data for plotting\n",
        "children_nodes = list(m.children)\n",
        "p_c_set_0_values = [m.P_C_set[n, 0].value for n in m.children]\n",
        "p_c_set_1_values = [m.P_C_set[n, 1].value for n in m.children]\n",
        "info_dso_values = [m.info_DSO_param[n] for n in m.children]\n",
        "\n",
        "# Create the plot\n",
        "plt.figure(figsize=(5, 6))\n",
        "\n",
        "# Adjust x_pos to control spacing (e.g., reduce the multiplier)\n",
        "x_pos = np.arange(len(children_nodes)) * 0.0005 # Reduced spacing by multiplying by 0.0005\n",
        "\n",
        "# Plot lines between P_C_set[n][0] and P_C_set[n][1] for each child node\n",
        "for i in range(len(children_nodes)):\n",
        "    plt.plot([x_pos[i], x_pos[i]], [p_c_set_1_values[i], p_c_set_0_values[i]], marker='o', linestyle='-', color='blue')\n",
        "\n",
        "# Plot only dots for info_DSO_param\n",
        "plt.plot(x_pos, info_dso_values, marker='s', linestyle='', label='DSO power demand estimation', color='green')\n",
        "\n",
        "# Create legend handles for the P_C_set endpoints\n",
        "# We plot invisible points with the desired labels to create legend entries\n",
        "plt.plot([], [], marker='o', linestyle='-', color='blue', label='Power envelope')\n",
        "\n",
        "\n",
        "plt.xticks(x_pos, children_nodes)\n",
        "plt.xlabel('Child Node Index')\n",
        "plt.ylabel('Value (per-unit)')\n",
        "#plt.title('Comparison of P_C_set values and DSO estimation for Child Nodes')\n",
        "plt.legend()\n",
        "plt.grid(True)\n",
        "\n",
        "# Save the plot as a PDF file\n",
        "plt.savefig('child_nodes_envelopes.pdf')\n",
        "\n",
        "plt.show()"
      ],
      "metadata": {
        "colab": {
          "base_uri": "https://localhost:8080/",
          "height": 542
        },
        "id": "b0aAheHEN-5_",
        "outputId": "a9db5918-e425-4d5f-e6b5-f71f2c13fe8f"
      },
      "execution_count": null,
      "outputs": [
        {
          "output_type": "display_data",
          "data": {
            "text/plain": [
              "<Figure size 500x600 with 1 Axes>"
            ],
            "image/png": "[encoded data removed]"
          },
          "metadata": {}
        }
      ]
    }
  ],
  "metadata": {
    "colab": {
      "provenance": []
    },
    "kernelspec": {
      "display_name": "Python 3",
      "name": "python3"
    },
    "language_info": {
      "name": "python"
    }
  },
  "nbformat": 4,
  "nbformat_minor": 0
}