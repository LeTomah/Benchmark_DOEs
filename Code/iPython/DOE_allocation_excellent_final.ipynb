{
  "cells": [
    {
      "cell_type": "code",
      "execution_count": 1,
      "metadata": {
        "colab": {
          "base_uri": "https://localhost:8080/"
        },
        "id": "QGfrTCDFYVcc",
        "outputId": "31565938-191f-4ed0-f421-4269a3b12e57"
      },
      "outputs": [
        {
          "output_type": "stream",
          "name": "stdout",
          "text": [
            "Requirement already satisfied: pyomo in /usr/local/lib/python3.11/dist-packages (6.9.2)\n",
            "Requirement already satisfied: ply in /usr/local/lib/python3.11/dist-packages (from pyomo) (3.11)\n",
            "--2025-08-12 15:25:15--  https://people.montefiore.uliege.be/cornelusse/utils/ampl.linux-intel64.zip\n",
            "Resolving people.montefiore.uliege.be (people.montefiore.uliege.be)... 139.165.57.148\n",
            "Connecting to people.montefiore.uliege.be (people.montefiore.uliege.be)|139.165.57.148|:443... connected.\n",
            "HTTP request sent, awaiting response... 200 OK\n",
            "Length: 17486900 (17M) [application/zip]\n",
            "Saving to: ‘ampl.linux-intel64.zip.1’\n",
            "\n",
            "ampl.linux-intel64. 100%[===================>]  16.68M  14.8MB/s    in 1.1s    \n",
            "\n",
            "2025-08-12 15:25:17 (14.8 MB/s) - ‘ampl.linux-intel64.zip.1’ saved [17486900/17486900]\n",
            "\n",
            "Archive:  /content/ampl.linux-intel64.zip\n",
            "replace __MACOSX/._ampl.linux-intel64? [y]es, [n]o, [A]ll, [N]one, [r]ename: "
          ]
        }
      ],
      "source": [
        "!pip install pyomo\n",
        "!wget https://people.montefiore.uliege.be/cornelusse/utils/ampl.linux-intel64.zip\n",
        "!unzip /content/ampl.linux-intel64.zip\n",
        "!chmod +x /content/ampl.linux-intel64/ipopt # To make sure it can be executed\n",
        "!chmod +x /content/ampl.linux-intel64/cbc # To make sure it can be executed"
      ]
    },
    {
      "cell_type": "code",
      "execution_count": 2,
      "metadata": {
        "colab": {
          "base_uri": "https://localhost:8080/"
        },
        "id": "LbyGibqGY4fo",
        "outputId": "b15c6af5-376b-4562-d74d-1366bce4c3a0"
      },
      "outputs": [
        {
          "output_type": "stream",
          "name": "stdout",
          "text": [
            "Requirement already satisfied: pandapower in /usr/local/lib/python3.11/dist-packages (3.1.2)\n",
            "Requirement already satisfied: pandas>=1.0 in /usr/local/lib/python3.11/dist-packages (from pandapower) (2.2.2)\n",
            "Requirement already satisfied: networkx>=2.5 in /usr/local/lib/python3.11/dist-packages (from pandapower) (3.5)\n",
            "Requirement already satisfied: scipy in /usr/local/lib/python3.11/dist-packages (from pandapower) (1.16.1)\n",
            "Requirement already satisfied: numpy in /usr/local/lib/python3.11/dist-packages (from pandapower) (2.0.2)\n",
            "Requirement already satisfied: packaging in /usr/local/lib/python3.11/dist-packages (from pandapower) (25.0)\n",
            "Requirement already satisfied: tqdm in /usr/local/lib/python3.11/dist-packages (from pandapower) (4.67.1)\n",
            "Requirement already satisfied: deepdiff in /usr/local/lib/python3.11/dist-packages (from pandapower) (8.6.0)\n",
            "Requirement already satisfied: geojson in /usr/local/lib/python3.11/dist-packages (from pandapower) (3.2.0)\n",
            "Requirement already satisfied: lxml in /usr/local/lib/python3.11/dist-packages (from pandapower) (5.4.0)\n",
            "Requirement already satisfied: typing_extensions~=4.9 in /usr/local/lib/python3.11/dist-packages (from pandapower) (4.14.1)\n",
            "Requirement already satisfied: python-dateutil>=2.8.2 in /usr/local/lib/python3.11/dist-packages (from pandas>=1.0->pandapower) (2.9.0.post0)\n",
            "Requirement already satisfied: pytz>=2020.1 in /usr/local/lib/python3.11/dist-packages (from pandas>=1.0->pandapower) (2025.2)\n",
            "Requirement already satisfied: tzdata>=2022.7 in /usr/local/lib/python3.11/dist-packages (from pandas>=1.0->pandapower) (2025.2)\n",
            "Requirement already satisfied: orderly-set<6,>=5.4.1 in /usr/local/lib/python3.11/dist-packages (from deepdiff->pandapower) (5.5.0)\n",
            "Requirement already satisfied: six>=1.5 in /usr/local/lib/python3.11/dist-packages (from python-dateutil>=2.8.2->pandas>=1.0->pandapower) (1.17.0)\n"
          ]
        }
      ],
      "source": [
        "!pip install pandapower --upgrade"
      ]
    },
    {
      "cell_type": "code",
      "execution_count": 3,
      "metadata": {
        "colab": {
          "base_uri": "https://localhost:8080/"
        },
        "id": "-iPKRO96Y55g",
        "outputId": "02c7e5a4-a613-4e91-ba38-f536f50c4a42"
      },
      "outputs": [
        {
          "output_type": "stream",
          "name": "stdout",
          "text": [
            "Requirement already satisfied: networkx in /usr/local/lib/python3.11/dist-packages (3.5)\n"
          ]
        }
      ],
      "source": [
        "!pip install networkx"
      ]
    },
    {
      "cell_type": "code",
      "execution_count": 4,
      "metadata": {
        "id": "EPL5WGadZAxK",
        "colab": {
          "base_uri": "https://localhost:8080/"
        },
        "outputId": "38d26a39-2880-4e52-8036-fb0965cc3b0b"
      },
      "outputs": [
        {
          "output_type": "stream",
          "name": "stdout",
          "text": [
            "Requirement already satisfied: gurobipy in /usr/local/lib/python3.11/dist-packages (12.0.3)\n"
          ]
        }
      ],
      "source": [
        "!pip install gurobipy  # install gurobipy, if not already installed"
      ]
    },
    {
      "cell_type": "code",
      "execution_count": 113,
      "metadata": {
        "id": "7E5MxejmZJUb"
      },
      "outputs": [],
      "source": [
        "import gurobipy as gp\n",
        "import time\n",
        "import pandas as pd\n",
        "import xarray as xr\n",
        "import networkx as nx\n",
        "import matplotlib.pyplot as plt\n",
        "import numpy as np\n",
        "from dataclasses import dataclass\n",
        "import pyomo.environ as pyo\n",
        "import math\n",
        "import pandapower as pp\n",
        "\n",
        "\n",
        "# Create a new graph\n",
        "G = nx.DiGraph()"
      ]
    },
    {
      "cell_type": "code",
      "execution_count": 114,
      "metadata": {
        "id": "0CffUDPBZT7m"
      },
      "outputs": [],
      "source": [
        "def create_network():\n",
        "\n",
        "    import pandapower as pp\n",
        "\n",
        "# Crée le réseau\n",
        "    net = pp.create_empty_network()\n",
        "\n",
        "# Bases\n",
        "    Pbase = 100  # MVA\n",
        "    Vbase_high = 110  # kV\n",
        "    Vbase_medium = 20  # kV\n",
        "    Vbase_low = 0.4  # kV\n",
        "\n",
        "# Buses\n",
        "    b0 = pp.create_bus(net, vn_kv=Vbase_high, name=\"Bus grid\", geodata=(0,10))\n",
        "    b1 = pp.create_bus(net, vn_kv=Vbase_high, name=\"DSO 1\", geodata=(5,12))\n",
        "    b2 = pp.create_bus(net, vn_kv=Vbase_high, name=\"DSO 2\", geodata=(5,8))\n",
        "    b3 = pp.create_bus(net, vn_kv=Vbase_medium, name=\"Bus MV_1\", geodata=(10,12))\n",
        "    b4 = pp.create_bus(net, vn_kv=Vbase_medium, name=\"Bus MV_2\", geodata=(10,8))\n",
        "    b5 = pp.create_bus(net, vn_kv=Vbase_low, name=\"Bus LV_1\", geodata=(15,12))\n",
        "    b6 = pp.create_bus(net, vn_kv=Vbase_low, name=\"Bus LV_2\", geodata=(15,8))\n",
        "    b7 = pp.create_bus(net, vn_kv=Vbase_medium, name=\"Bus éolien\", geodata=(10,14))\n",
        "    b8 = pp.create_bus(net, vn_kv=Vbase_medium, name=\"Bus industriel\", geodata=(10,10))\n",
        "    b9 = pp.create_bus(net, vn_kv=Vbase_low, name=\"Bus load\", geodata=(15,14))\n",
        "    b10 = pp.create_bus(net, vn_kv=Vbase_low, name=\"Bus PV\", geodata=(15,10))\n",
        "    b11 = pp.create_bus(net, vn_kv=Vbase_high, name=\"TSO 1\", geodata=(2,12))\n",
        "    b12 = pp.create_bus(net, vn_kv=Vbase_high, name=\"TSO 2\", geodata=(2,8))\n",
        "\n",
        "# Lignes\n",
        "    pp.create_line(net, b0, b1, length_km=12, std_type='149-AL1/24-ST1A 110.0', name=\"line1\")\n",
        "    pp.create_line(net, b1, b2, length_km=10, std_type='149-AL1/24-ST1A 110.0', name=\"line2\")\n",
        "    pp.create_line(net, b0, b2, length_km=10, std_type='149-AL1/24-ST1A 110.0', name=\"line3\")\n",
        "    pp.create_line(net, b3, b7, length_km=0.23, std_type='NA2XS2Y 1x185 RM/25 12/20 kV', name=\"line4\")\n",
        "    pp.create_line(net, b4, b8, length_km=0.3, std_type='NA2XS2Y 1x185 RM/25 12/20 kV', name=\"line5\")\n",
        "    pp.create_line(net, b5, b9, length_km=3, std_type='94-AL1/15-ST1A 0.4', name=\"line6\")\n",
        "    pp.create_line(net, b6, b10, length_km=0.45, std_type='94-AL1/15-ST1A 0.4', name=\"line7\")\n",
        "    pp.create_line(net, b0, b11, length_km=16, std_type='149-AL1/24-ST1A 110.0', name= 'line8')\n",
        "    pp.create_line(net, b11, b1, length_km=24, std_type='149-AL1/24-ST1A 110.0', name= 'line9')\n",
        "    pp.create_line(net, b0, b12, length_km=22, std_type='149-AL1/24-ST1A 110.0', name= 'line10')\n",
        "    pp.create_line(net, b12, b2, length_km=16, std_type='149-AL1/24-ST1A 110.0', name= 'line11')\n",
        "\n",
        "# Transformateurs\n",
        "    pp.create_transformer(net, b1, b3, std_type=\"25 MVA 110/20 kV\", name=\"TR_1\")\n",
        "    pp.create_transformer(net, b2, b4, std_type=\"25 MVA 110/20 kV\", name=\"TR_2\")\n",
        "    pp.create_transformer(net, b3, b5, std_type=\"0.4 MVA 20/0.4 kV\", name=\"TR_3\")\n",
        "    pp.create_transformer(net, b4, b6, std_type=\"0.4 MVA 20/0.4 kV\", name=\"TR_4\")\n",
        "\n",
        "# Éléments de bus\n",
        "    pp.create_ext_grid(net, bus=b0, vm_pu=1.00, name=\"Grid Connection\")\n",
        "    pp.create_load(net, bus=b9, p_mw=0.02, q_mvar=0.02, name=\"Residential Load\")\n",
        "    pp.create_gen(net, bus=b10, p_mw=0.2, vm_pu=1.00, name=\"PV\", max_q_mvar=200, min_q_mvar=0, max_p_mw=300, min_p_mw=0, controllable=False)\n",
        "    pp.create_gen(net, bus=b7, p_mw=6.5, vm_pu=1.0, name=\"Wind Turbine\", controllable=False)\n",
        "    pp.create_load(net, bus=b8, p_mw=6, q_mvar=1.8, name=\"Industry\")\n",
        "    pp.create_load(net, bus=b11, p_mw=20, q_mvar=9, name=\"Datacenter\")\n",
        "    pp.create_load(net, bus=b12, p_mw=50, q_mvar=24, name=\"Big industry\")\n",
        "\n",
        "# Donner accès à net\n",
        "    return net"
      ]
    },
    {
      "cell_type": "code",
      "execution_count": 115,
      "metadata": {
        "id": "TsDt-6_lZgNj"
      },
      "outputs": [],
      "source": [
        "def create_digraph():\n",
        "  net = create_network()\n",
        "\n",
        "  import json\n",
        "  import networkx as nx\n",
        "  import matplotlib.pyplot as plt\n",
        "# 1. Conversion du réseau Pandapower en DiGraph\n",
        "# ================================\n",
        "  G = nx.DiGraph()\n",
        "\n",
        "# Créer les positions à partir de la colonne \"geo\"\n",
        "  pos = {}\n",
        "  for idx, row in net.bus.iterrows():\n",
        "  # Extraire le champ 'geo' qui est une chaîne de caractères représentant un dictionnaire JSON\n",
        "      geo_data = row['geo']\n",
        "\n",
        "  # Convertir la chaîne JSON en un dictionnaire Python\n",
        "      geo_dict = json.loads(geo_data)\n",
        "\n",
        "  # Extraire la liste des coordonnées\n",
        "      coordinates = geo_dict[\"coordinates\"]\n",
        "\n",
        "  # Ajouter les coordonnées dans le dictionnaire pos\n",
        "      pos[idx] = tuple(coordinates)  # Assigner les coordonnées sous forme de tuple\n",
        "\n",
        "# Ajouter les nœuds (avec le nom comme label) and voltage\n",
        "  for idx, row in net.bus.iterrows():\n",
        "      G.add_node(idx, label=row[\"name\"], pos=pos[idx], vn_kv=row[\"vn_kv\"])\n",
        "\n",
        "\n",
        "# Ajouter les arêtes pour les lines\n",
        "  for _, row in net.line.iterrows():\n",
        "      G.add_edge(row[\"from_bus\"], row[\"to_bus\"], type=\"line\", name=row[\"name\"], length=row[\"length_km\"], std_type=row[\"std_type\"])\n",
        "\n",
        "# Ajouter les arêtes pour les transformateurs\n",
        "  for _, row in net.trafo.iterrows():\n",
        "      G.add_edge(row[\"hv_bus\"], row[\"lv_bus\"], type=\"trafo\", name=row[\"name\"], std_type = None)\n",
        "\n",
        "# Ajouter les générateurs et les charges comme attributs aux nœuds\n",
        "  for _, row in net.gen.iterrows():\n",
        "      G.nodes[row[\"bus\"]][\"type\"] = \"gen\"\n",
        "      G.nodes[row[\"bus\"]][\"gen_name\"] = row[\"name\"]\n",
        "      G.nodes[row[\"bus\"]][\"gen_power\"] = row[\"p_mw\"]\n",
        "\n",
        "  for _, row in net.load.iterrows():\n",
        "      G.nodes[row[\"bus\"]][\"type\"] = \"load\"\n",
        "      G.nodes[row[\"bus\"]][\"load_name\"] = row[\"name\"]\n",
        "      G.nodes[row[\"bus\"]][\"load_power\"] = row[\"p_mw\"]\n",
        "\n",
        "  for _, row in net.ext_grid.iterrows():\n",
        "      G.nodes[row[\"bus\"]][\"type\"] = \"ext_grid\"\n",
        "      G.nodes[row[\"bus\"]][\"grid_name\"] = row[\"name\"]\n",
        "\n",
        "# 2. Ajout des puissances consommées et injectées aux nœuds\n",
        "# ================================\n",
        "  nx.set_node_attributes(G, 0.0, \"P_load\")\n",
        "  nx.set_node_attributes(G, 0.0, \"P_gen\")\n",
        "\n",
        "# Charges\n",
        "  for _, row in net.load.iterrows():\n",
        "      G.nodes[row[\"bus\"]][\"P_load\"] += row[\"p_mw\"]\n",
        "      print(row)\n",
        "\n",
        "# Générateurs\n",
        "  for _, row in net.gen.iterrows():\n",
        "      G.nodes[row[\"bus\"]][\"P_gen\"] += row[\"p_mw\"]\n",
        "\n",
        "# Source externe\n",
        "  for _, row in net.ext_grid.iterrows():\n",
        "      G.nodes[row[\"bus\"]][\"P_gen\"] += 0\n",
        "\n",
        "# Calculate P_net\n",
        "  for n in G.nodes:\n",
        "      G.nodes[n][\"P_net\"] = G.nodes[n][\"P_gen\"] - G.nodes[n][\"P_load\"]\n",
        "\n",
        "# Create subnetworks (NetworkX DiGraphs) from the main graph G\n",
        "  network1_buses = [0, 1, 2, 11,12]\n",
        "  network2_buses = [3, 7, 5, 9, 10]\n",
        "  network3_buses = [4, 8, 6]\n",
        "\n",
        "# Assign G1 to G and then add power attributes to nodes in G\n",
        "  #G = G.subgraph(network1_buses)\n",
        "\n",
        "  for n in G.nodes:\n",
        "      G.nodes[n][\"P\"] = G.nodes[n][\"P_net\"] # Assign P_net to 'P' attribute\n",
        "\n",
        "# 3. Préparer les couleurs des nœuds en fonction de P_net\n",
        "# ================================\n",
        "  node_colors = []\n",
        "  for n, data in G.nodes(data=True):\n",
        "      if data[\"P_net\"] > 0:\n",
        "          node_colors.append(\"green\")   # producteur\n",
        "      elif data[\"P_net\"] < 0:\n",
        "          node_colors.append(\"red\")     # consommateur\n",
        "      else:\n",
        "          node_colors.append(\"gray\")    # neutre\n",
        "\n",
        "# 4. Préparer les labels : Nom + P_net\n",
        "# ================================\n",
        "  labels = {n: f\"{data['label']}\\nP={round(data['P_net'],2)}MW\"\n",
        "            for n, data in G.nodes(data=True)}\n",
        "\n",
        "# 5. Function to plot the network\n",
        "# ================================\n",
        "  def plot_network():\n",
        "      pos = nx.get_node_attributes(G, 'pos')\n",
        "\n",
        "      plt.figure(figsize=(12, 8))\n",
        "      nx.draw(\n",
        "          G, pos,\n",
        "          with_labels=True, labels=labels,\n",
        "          node_size=1200, node_color=node_colors,\n",
        "          edgecolors=\"black\", font_size=8,\n",
        "          alpha=0.85\n",
        "          )\n",
        "\n",
        "  # Labels des arêtes (type ligne ou trafo)\n",
        "      edge_labels = nx.get_edge_attributes(G, 'type')\n",
        "      nx.draw_networkx_edge_labels(G, pos, edge_labels=edge_labels, font_size=7)\n",
        "\n",
        "      plt.title(\"Réseau électrique avec puissances (P_net)\")\n",
        "      plt.axis(\"equal\")\n",
        "      plt.show()\n",
        "\n",
        "\n",
        "  return G, plot_network()"
      ]
    },
    {
      "cell_type": "code",
      "execution_count": 116,
      "metadata": {
        "colab": {
          "base_uri": "https://localhost:8080/",
          "height": 1000
        },
        "id": "lsz4h9dHZcyD",
        "outputId": "14a864ee-4d08-427b-c807-734d6bdac9cb"
      },
      "outputs": [
        {
          "output_type": "stream",
          "name": "stdout",
          "text": [
            "name               Residential Load\n",
            "bus                               9\n",
            "p_mw                           0.02\n",
            "q_mvar                         0.02\n",
            "const_z_percent                 0.0\n",
            "const_i_percent                 0.0\n",
            "sn_mva                          NaN\n",
            "scaling                         1.0\n",
            "in_service                     True\n",
            "type                            wye\n",
            "Name: 0, dtype: object\n",
            "name               Industry\n",
            "bus                       8\n",
            "p_mw                    6.0\n",
            "q_mvar                  1.8\n",
            "const_z_percent         0.0\n",
            "const_i_percent         0.0\n",
            "sn_mva                  NaN\n",
            "scaling                 1.0\n",
            "in_service             True\n",
            "type                    wye\n",
            "Name: 1, dtype: object\n",
            "name               Datacenter\n",
            "bus                        11\n",
            "p_mw                     20.0\n",
            "q_mvar                    9.0\n",
            "const_z_percent           0.0\n",
            "const_i_percent           0.0\n",
            "sn_mva                    NaN\n",
            "scaling                   1.0\n",
            "in_service               True\n",
            "type                      wye\n",
            "Name: 2, dtype: object\n",
            "name               Big industry\n",
            "bus                          12\n",
            "p_mw                       50.0\n",
            "q_mvar                     24.0\n",
            "const_z_percent             0.0\n",
            "const_i_percent             0.0\n",
            "sn_mva                      NaN\n",
            "scaling                     1.0\n",
            "in_service                 True\n",
            "type                        wye\n",
            "Name: 3, dtype: object\n"
          ]
        },
        {
          "output_type": "display_data",
          "data": {
            "text/plain": [
              "<Figure size 1200x800 with 1 Axes>"
            ],
            "image/png": "[encoded data removed]"
          },
          "metadata": {}
        },
        {
          "output_type": "stream",
          "name": "stdout",
          "text": [
            "Value of G.nodes[11]['P'] after updating G: -20.0\n"
          ]
        }
      ],
      "source": [
        "G, plot_func = create_digraph()\n",
        "print(f\"Value of G.nodes[11]['P'] after updating G: {G.nodes[11]['P']}\")"
      ]
    },
    {
      "cell_type": "code",
      "execution_count": 117,
      "metadata": {
        "colab": {
          "base_uri": "https://localhost:8080/",
          "height": 859
        },
        "id": "ed_Y54iGlEeI",
        "outputId": "d51a65a7-2ebd-404a-c897-09bac0243640"
      },
      "outputs": [
        {
          "output_type": "display_data",
          "data": {
            "text/plain": [
              "<Figure size 1200x800 with 1 Axes>"
            ],
            "image/png": "[encoded data removed]"
          },
          "metadata": {}
        }
      ],
      "source": [
        "def plot_network(G):\n",
        "      pos = nx.get_node_attributes(G, 'pos')\n",
        "\n",
        "      plt.figure(figsize=(12, 8))\n",
        "      nx.draw(\n",
        "          G, pos,\n",
        "          with_labels=True,\n",
        "          node_size=1200,\n",
        "          edgecolors=\"black\", font_size=8,\n",
        "          alpha=0.85\n",
        "          )\n",
        "\n",
        "  # Labels des arêtes (type ligne ou trafo)\n",
        "      edge_labels = nx.get_edge_attributes(G, 'type')\n",
        "      nx.draw_networkx_edge_labels(G, pos, edge_labels=edge_labels, font_size=7)\n",
        "\n",
        "      plt.title(\"Réseau électrique avec puissances (P_net)\")\n",
        "      plt.axis(\"equal\")\n",
        "      plt.show()\n",
        "\n",
        "plot_network(G)"
      ]
    },
    {
      "cell_type": "code",
      "execution_count": 118,
      "metadata": {
        "colab": {
          "base_uri": "https://localhost:8080/"
        },
        "id": "fMwbxnNdbwH-",
        "outputId": "7de62d0f-873a-4286-b04f-07b72916e1a1"
      },
      "outputs": [
        {
          "output_type": "stream",
          "name": "stdout",
          "text": [
            "Base Power (S_base): 100 MVA\n",
            "Base Voltage (V_base_high): 110 kV\n",
            "Base Current (I_base_high): 0.524863881081478 kA\n",
            "Base Impedance (Z_base_high): 121.0 ohms\n",
            "Base Susceptance (B_base_high): 0.008264462809917356 Siemens\n"
          ]
        }
      ],
      "source": [
        "# Define base values for the per-unit system\n",
        "s_base = 100  # MVA\n",
        "\n",
        "\n",
        "v_base_high = 110 # kV (From the create_network function)\n",
        "\n",
        "# Calculate base current (I_base)\n",
        "# S_base = V_base * I_base (for single phase, or sqrt(3)*V_base*I_base for three phase)\n",
        "# Assuming three-phase system: I_base = S_base / (sqrt(3) * V_base)\n",
        "i_base_high = s_base / (math.sqrt(3) * v_base_high) # kA\n",
        "\n",
        "# Calculate base impedance (Z_base)\n",
        "# Z_base = V_base^2 / S_base\n",
        "z_base_high = v_base_high**2 / s_base # ohms\n",
        "\n",
        "# Calculate base susceptance (B_base)\n",
        "# B_base = 1 / Z_base = S_base / V_base^2\n",
        "b_base_high = s_base / v_base_high**2 # Siemens\n",
        "\n",
        "print(f\"Base Power (S_base): {s_base} MVA\")\n",
        "print(f\"Base Voltage (V_base_high): {v_base_high} kV\")\n",
        "print(f\"Base Current (I_base_high): {i_base_high} kA\")\n",
        "print(f\"Base Impedance (Z_base_high): {z_base_high} ohms\")\n",
        "print(f\"Base Susceptance (B_base_high): {b_base_high} Siemens\")"
      ]
    },
    {
      "cell_type": "code",
      "source": [
        "# Define the maximum current in kA\n",
        "I_max_kA = 0.47\n",
        "\n",
        "# Get the base current in kA from the previous calculation\n",
        "# Assuming i_base_high is the relevant base current for the lines in the model\n",
        "I_base_kA = i_base_high\n",
        "\n",
        "# Calculate the upper bound for current in per-unit\n",
        "I_max_pu = I_max_kA / I_base_kA\n",
        "\n",
        "# The lower bound for current is the negative of the upper bound, assuming symmetrical limits\n",
        "I_min_pu = -I_max_pu\n",
        "\n",
        "print(f\"Maximum Current (kA): {I_max_kA}\")\n",
        "print(f\"Base Current (kA): {I_base_kA}\")\n",
        "print(f\"Upper bound for current (per-unit): {I_max_pu}\")\n",
        "print(f\"Lower bound for current (per-unit): {I_min_pu}\")\n",
        "\n",
        "# Update the Pyomo model's bounds if they are defined globally or need to be updated\n",
        "# Assuming I_min and I_max are global variables used in the Pyomo model definition\n",
        "I_min = I_min_pu\n",
        "I_max = I_max_pu\n",
        "\n",
        "print(\"\\nUpdated global current bounds (per-unit):\")\n",
        "print(f\"I_min: {I_min}\")\n",
        "print(f\"I_max: {I_max}\")"
      ],
      "metadata": {
        "colab": {
          "base_uri": "https://localhost:8080/"
        },
        "id": "zYD3uPFbZhkR",
        "outputId": "0b3e9777-e34e-4571-cad4-b747d1883a58"
      },
      "execution_count": 119,
      "outputs": [
        {
          "output_type": "stream",
          "name": "stdout",
          "text": [
            "Maximum Current (kA): 0.47\n",
            "Base Current (kA): 0.524863881081478\n",
            "Upper bound for current (per-unit): 0.8954702675131095\n",
            "Lower bound for current (per-unit): -0.8954702675131095\n",
            "\n",
            "Updated global current bounds (per-unit):\n",
            "I_min: -0.8954702675131095\n",
            "I_max: 0.8954702675131095\n"
          ]
        }
      ]
    },
    {
      "cell_type": "code",
      "source": [
        "def calculate_current_bounds(line_type, v_base):\n",
        "    \"\"\"\n",
        "    Calculates the upper and lower bounds for current in per-unit\n",
        "    based on the line type's maximum current capacity.\n",
        "\n",
        "    Args:\n",
        "        line_type (str): The type of the transmission line.\n",
        "        i_base_kA (float): The base current in kA for the system.\n",
        "\n",
        "    Returns:\n",
        "        tuple: A tuple containing (I_min_pu, I_max_pu).\n",
        "               Returns (None, None) if the line type is not found.\n",
        "    \"\"\"\n",
        "    # Define a dictionary mapping line types to their maximum current capacity in kA\n",
        "    # NOTE: This is a placeholder. You should populate this dictionary\n",
        "    # with the actual maximum current capacities for your line types.\n",
        "    i_base_kA = s_base / (math.sqrt(3) * v_base) # kA\n",
        "\n",
        "\n",
        "    line_type_max_current_kA = {\n",
        "        '149-AL1/24-ST1A 110.0': 0.47, # Example value for 110 kV lines\n",
        "        'NA2XS2Y 1x185 RM/25 12/20 kV': 0.3, # Example value for 20 kV lines\n",
        "        '94-AL1/15-ST1A 0.4': 0.15 # Example value for 0.4 kV lines\n",
        "    }\n",
        "\n",
        "    if line_type in line_type_max_current_kA:\n",
        "        I_max_kA = line_type_max_current_kA[line_type]\n",
        "\n",
        "        # Calculate the upper bound for current in per-unit\n",
        "        I_max_pu = I_max_kA / i_base_kA\n",
        "\n",
        "        # The lower bound for current is the negative of the upper bound\n",
        "        I_min_pu = -I_max_pu\n",
        "\n",
        "        return I_min_pu, I_max_pu, i_base_kA\n",
        "\n",
        "    elif line_type == None:\n",
        "        return -1000, 1000\n",
        "    else:\n",
        "        return None, None\n",
        "\n",
        "# Example usage (assuming i_base_high is already defined):\n",
        "line1_type = '149-AL1/24-ST1A 110.0'\n",
        "I_min_line1, I_max_line1, i_base_kA = calculate_current_bounds(line1_type, i_base_high)\n",
        "\n",
        "# line4_type = 'NA2XS2Y 1x185 RM/25 12/20 kV'\n",
        "# I_min_line4, I_max_line4 = calculate_current_bounds(line4_type, i_base_high)\n",
        "# print(f\"\\nCurrent bounds for {line4_type}: [{I_min_line4}, {I_max_line4}]\")"
      ],
      "metadata": {
        "id": "2-rr_L1RhTYm"
      },
      "execution_count": 120,
      "outputs": []
    },
    {
      "cell_type": "code",
      "execution_count": 121,
      "metadata": {
        "colab": {
          "base_uri": "https://localhost:8080/"
        },
        "id": "j53BsRWZb9Qg",
        "outputId": "0785e495-abc0-48c8-cb64-0f4453e3ceb7"
      },
      "outputs": [
        {
          "output_type": "execute_result",
          "data": {
            "text/plain": [
              "0.053851648071345036"
            ]
          },
          "metadata": {},
          "execution_count": 121
        }
      ],
      "source": [
        "def length (i, j):\n",
        "    xi, yi = G.nodes[i]['pos']\n",
        "    xj, yj = G.nodes[j]['pos']\n",
        "    return (math.hypot(xi - xj, yi - yj))*10/1000  # distance euclidienne, *10/1000 (pixel/km)\n",
        "length(0, 1)"
      ]
    },
    {
      "cell_type": "code",
      "execution_count": 122,
      "metadata": {
        "colab": {
          "base_uri": "https://localhost:8080/"
        },
        "id": "R07l_GXmjVhK",
        "outputId": "21cc94a8-7ade-4385-d21a-21c14dbd9790"
      },
      "outputs": [
        {
          "output_type": "stream",
          "name": "stdout",
          "text": [
            "0.010770329614269008\n",
            "0.010770329614269008\n",
            "0.005656854249492381\n",
            "0.005656854249492381\n",
            "0.008\n",
            "0.009999999999999998\n",
            "0.009999999999999998\n",
            "0.004\n",
            "0.009999999999999998\n",
            "0.004\n",
            "0.009999999999999998\n",
            "0.004\n",
            "0.004\n",
            "0.006\n",
            "0.006\n"
          ]
        }
      ],
      "source": [
        "#Calculate the susceptance of each line in Siemens per km\n",
        "strange = 1000\n",
        "for u, v in G.edges():\n",
        "    G[u][v]['b'] = length(u,v)* 200*10**-6 *strange\n",
        "    print(G[u][v]['b'])\n"
      ]
    },
    {
      "cell_type": "code",
      "execution_count": 124,
      "metadata": {
        "id": "QfiKPOwejiQ3"
      },
      "outputs": [],
      "source": [
        "#Constant definition\n",
        "V_min = 0.9\n",
        "V_max = 1.1\n",
        "\n",
        "\n",
        "P_min = -1.5\n",
        "P_max = 1.5\n",
        "\n",
        "theta_min = -180\n",
        "theta_max = 180\n",
        "\n",
        "\n",
        "alpha = 1\n"
      ]
    },
    {
      "cell_type": "code",
      "source": [
        "def get_base_node_voltage_kv(node_index):\n",
        "  \"\"\"\n",
        "  Returns the voltage (vn_kv) for a given node index from the graph.\n",
        "\n",
        "  Args:\n",
        "    node_index: The index of the node in the graph.\n",
        "\n",
        "  Returns:\n",
        "    The voltage in kV for the specified node.\n",
        "  \"\"\"\n",
        "  # Assuming 'G' is the NetworkX DiGraph object created earlier\n",
        "  # Access the 'vn_kv' attribute for the given node_index\n",
        "  return G.nodes[node_index]['vn_kv']\n",
        "\n",
        "# Example usage:\n",
        "# To get the voltage for node 0:\n",
        "# voltage_node_0 = get_node_voltage_kv(0)\n",
        "# print(f\"Voltage at node 0: {voltage_node_0} kV\")\n",
        "\n",
        "# To get the voltage for node 3:\n",
        "voltage_node_3 = get_base_node_voltage_kv(0)\n",
        "print(f\"Voltage at node 3: {voltage_node_3} kV\")"
      ],
      "metadata": {
        "colab": {
          "base_uri": "https://localhost:8080/"
        },
        "id": "3hJJTZQQsHHx",
        "outputId": "b7706305-9617-4887-f4a6-8a71b581a7b2"
      },
      "execution_count": 125,
      "outputs": [
        {
          "output_type": "stream",
          "name": "stdout",
          "text": [
            "Voltage at node 3: 110.0 kV\n"
          ]
        }
      ]
    },
    {
      "cell_type": "code",
      "source": [
        "m = pyo.ConcreteModel()\n",
        "# Define base values for the per-unit system\n",
        "s_base = 100  # MVA\n",
        "v_base_high = 110 # kV (From the create_network function)\n",
        "\n",
        "m.Nodes = pyo.Set(initialize= [b for b in G.nodes])\n",
        "m.Lines = pyo.Set(initialize= [l for l in G.edges])\n",
        "m.i = pyo.Set(initialize=[0, 1]) # Initialize m.i with two generic elements\n",
        "m.j = pyo.Set(initialize= [0, 1])\n",
        "#m.children = pyo.Set(initialize= [1, 2])\n",
        "m.parents = pyo.Set(initialize = [0])\n",
        "\n",
        "m.P = pyo.Param(m.Nodes, initialize = {n: - G.nodes[n].get('P') for n in G.nodes}, domain = pyo.Reals, mutable=True) # Make P mutable\n",
        "\n",
        "m.I_min = pyo.Param(m.Lines, initialize = {(i,j): calculate_current_bounds(G.edges[i,j][\"std_type\"], get_base_node_voltage_kv(i))[0] for (i,j) in m.Lines}, domain = pyo.Reals)\n",
        "m.I_max = pyo.Param(m.Lines, initialize = {(i,j): calculate_current_bounds(G.edges[i,j][\"std_type\"], get_base_node_voltage_kv(i))[1] for (i,j) in m.Lines}, domain = pyo.Reals)\n",
        "\n",
        "print(m.I_min[(0,1)])\n",
        "print(m.I_max[(0,1)])\n",
        "\n",
        "# Variables principales\n",
        "m.F = pyo.Var(m.Lines, m.i, m.j, domain=pyo.Reals)     # active power flow through lines\n",
        "m.I = pyo.Var(m.Lines,  m.i, m.j, domain=pyo.Reals)  # current flowing through lines\n",
        "m.theta = pyo.Var(m.Nodes,  m.i, m.j, domain=pyo.Reals)  # phase angle of the voltage\n",
        "m.V = pyo.Var(m.Nodes, m.i, m.j, domain=pyo.NonNegativeReals)  # voltage magnitude at each node\n",
        "m.E = pyo.Var(m.Nodes, m.i, m.j, domain=pyo.Reals) #net power injection/consumption\n",
        "m.P_plus = pyo.Var(m.parents, m.i, m.j, domain=pyo.Reals) #power entering the operational graph\n",
        "#m.P_minus = pyo.Var(m.children, m.i, m.j, domain=pyo.Reals) #power leaving the operational graph\n",
        "\n",
        "#m.P_C_set = pyo.Var(m.children, m.i, domain=pyo.Reals) #vertices of the power envelope at each child node\n",
        "\n",
        "#m.P_C_min = pyo.Var(m.children, m.i, m.j, domain=pyo.Reals)\n",
        "#m.P_C_max = pyo.Var(m.children, m.i, m.j,  domain=pyo.Reals)\n",
        "\n",
        "m.V_P = pyo.Param(m.j, initialize = {0: 0.9, 1: 1.1}, domain =pyo.NonNegativeReals)\n",
        "\n",
        "m.O = pyo.Var(domain= pyo.NonNegativeReals)\n",
        "\n",
        "for u in G.nodes():\n",
        "  if G.nodes[u].get('P', 0.0) == 0:\n",
        "    m.P[u] = 0\n",
        "  else:\n",
        "    G.nodes[u]['P_pu'] = G.nodes[u].get('P', 0.0) / s_base\n",
        "    m.P[u] = - G.nodes[u]['P_pu']\n",
        "\n",
        "\"\"\"# Convert P parameter to per-unit\n",
        "for n in G.nodes:\n",
        "    # Assuming P is in MW, convert to per-unit\n",
        "    G.nodes[n]['P'] = G.nodes[n].get('P', 0.0) / s_base\n",
        "    m.P[n] = G.nodes[n]['P']\"\"\"\n",
        "\n",
        "\n",
        "# Convert susceptance 'b' on edges to per-unit\n",
        "for u, v in G.edges():\n",
        "    # Assuming 'b' is in Siemens/km, convert to per-unit\n",
        "    # b_pu = b_actual * (V_base^2 / S_base)\n",
        "    # V_base is assumed to be v_base_high (110 kV)\n",
        "    G[u][v]['b_pu'] = G[u][v].get('b', 0.0) * (get_base_node_voltage_kv(u)**2 / s_base)\n",
        "    print(G[u][v]['b_pu'])"
      ],
      "metadata": {
        "colab": {
          "base_uri": "https://localhost:8080/"
        },
        "id": "HTqnXtXvSvfm",
        "outputId": "0407124e-aa8f-4fb5-d256-1f9f0c878d91"
      },
      "execution_count": 126,
      "outputs": [
        {
          "output_type": "stream",
          "name": "stdout",
          "text": [
            "-0.8954702675131095\n",
            "0.8954702675131095\n",
            "1.30320988332655\n",
            "1.30320988332655\n",
            "0.6844793641885781\n",
            "0.6844793641885781\n",
            "0.968\n",
            "1.2099999999999997\n",
            "1.2099999999999997\n",
            "0.016\n",
            "0.039999999999999994\n",
            "0.016\n",
            "0.039999999999999994\n",
            "6.400000000000001e-06\n",
            "6.400000000000001e-06\n",
            "0.726\n",
            "0.726\n"
          ]
        }
      ]
    },
    {
      "cell_type": "code",
      "source": [
        "for n in G.nodes:\n",
        "  print(m.P[n].value)\n",
        "m.P[1].value\n"
      ],
      "metadata": {
        "colab": {
          "base_uri": "https://localhost:8080/"
        },
        "id": "V5tKjSt7wHAo",
        "outputId": "91431bd1-9983-4403-8a5a-8373b57cb283"
      },
      "execution_count": 127,
      "outputs": [
        {
          "output_type": "stream",
          "name": "stdout",
          "text": [
            "0\n",
            "0\n",
            "0\n",
            "0\n",
            "0\n",
            "0\n",
            "0\n",
            "-0.065\n",
            "0.06\n",
            "0.0002\n",
            "-0.002\n",
            "0.2\n",
            "0.5\n"
          ]
        },
        {
          "output_type": "execute_result",
          "data": {
            "text/plain": [
              "0"
            ]
          },
          "metadata": {},
          "execution_count": 127
        }
      ]
    },
    {
      "cell_type": "code",
      "source": [
        "\n",
        "\n",
        "# Auxiliary variable for the absolute value of E (already defined as per-unit)\n",
        "m.z = pyo.Var(m.Nodes, m.i, m.j, domain=pyo.NonNegativeReals)\n",
        "\n",
        "m.curt = pyo.Var(m.Nodes, m.i, m.j, domain=pyo.Reals)\n",
        "\n",
        "def curtailment_def_rule(m,n, vert_pow, vert_volt):\n",
        "\n",
        "  return m.curt[n, vert_pow, vert_volt] == m.P[n] - m.E[n, vert_pow, vert_volt]\n",
        "\n",
        "m.curt_def = pyo.Constraint(m.Nodes, m.i, m.j, rule=curtailment_def_rule)\n",
        "# Constraints to define the absolute value (already defined for per-unit E)\n",
        "def abs_E_pos_rule(m, n, vert_pow, vert_volt):\n",
        "    return m.z[n, vert_pow, vert_volt] >= m.curt[n, vert_pow, vert_volt]\n",
        "m.abs_E_pos = pyo.Constraint(m.Nodes, m.i, m.j, rule=abs_E_pos_rule)\n",
        "\n",
        "def abs_E_neg_rule(m, n, vert_pow, vert_volt):\n",
        "    return m.z[n, vert_pow, vert_volt] >= -m.curt[n, vert_pow, vert_volt]\n",
        "m.abs_E_neg = pyo.Constraint(m.Nodes, m.i, m.j, rule=abs_E_neg_rule)\n",
        "\n",
        "def upper_bound_rule(m, vert_pow, vert_volt):\n",
        "    # m.z is per-unit, m.O is per-unit\n",
        "    return sum(m.z[n, vert_pow, vert_volt] for n in m.Nodes) <= m.O\n",
        "\n",
        "m.upper_bound = pyo.Constraint(m.i, m.j, rule=upper_bound_rule)\n",
        "\n",
        "# Current magnitude constraint (I_min, I_max are assumed per-unit)\n",
        "def current_bounds_rule(m, i, j, vert_pow, vert_volt):\n",
        "    # m.I is per-unit current\n",
        "    return pyo.inequality(-1, m.I[i,j, vert_pow, vert_volt], 1)\n",
        "m.CurrentBounds = pyo.Constraint(m.Lines, m.i, m.j, rule=current_bounds_rule)\n",
        "\n",
        "def phase_constr_rule(m,n, vert_pow, vert_volt):\n",
        "    return pyo.inequality(theta_min*2, m.theta[n, vert_pow, vert_volt], theta_max*2)\n",
        "\n",
        "m.phaseConstr = pyo.Constraint(m.Nodes, m.i, m.j, rule=phase_constr_rule)\n",
        "\n",
        "def dc_power_flow_rule(m, i, j, vert_pow, vert_volt):\n",
        "    return m.F[i, j, vert_pow, vert_volt] == m.V_P[vert_volt]**2 *(G[i][j]['b_pu'] * (\n",
        "        m.theta[i, vert_pow, vert_volt] - m.theta[j, vert_pow, vert_volt])\n",
        "    )\n",
        "\n",
        "m.DCFlow = pyo.Constraint(m.Lines, m.i, m.j, rule=dc_power_flow_rule)\n",
        "\n",
        "\n",
        "def current_def_rule(m, n, i, j, vert_pow, vert_volt):\n",
        "    # This constraint relates per-unit current, per-unit voltage, and per-unit power flow.\n",
        "    # In per-unit, P_pu = V_pu * I_pu. This is correct.\n",
        "    return m.I[i,j, vert_pow, vert_volt] * m.V_P[vert_volt] == m.F[i,j, vert_pow, vert_volt]\n",
        "\n",
        "m.current_def = pyo.Constraint(m.Nodes, m.Lines, m.i, m.j, rule=current_def_rule)\n",
        "\n",
        "\n",
        "\n",
        "def nodes_balance(m, n, vert_pow, vert_volt):\n",
        "    inflow = sum(m.F[k, n, vert_pow, vert_volt] for k in G.predecessors(n) if (k, n) in m.Lines)\n",
        "    outflow = sum(m.F[n, j, vert_pow, vert_volt] for j in G.successors(n) if (n, j) in m.Lines)\n",
        "    if n in m.parents:\n",
        "      return inflow - outflow  ==  m.E[n, vert_pow, vert_volt] - m.P_plus[n, vert_pow, vert_volt]\n",
        "\n",
        "    else:\n",
        "      return inflow - outflow ==  m.E[n,vert_pow,vert_volt]\n",
        "\n",
        "m.nodes_balance = pyo.Constraint(m.Nodes, m.i, m.j, rule=nodes_balance)\n",
        "\n",
        "\n",
        "def parent_power_constraint_rule(m, parent, vert_pow, vert_volt):\n",
        "    # m.P_plus is per-unit power entering the operational graph\n",
        "    return pyo.inequality(-2, m.P_plus[parent, vert_pow, vert_volt], 2)\n",
        "\n",
        "m.parent_power_constraint = pyo.Constraint(m.parents, m.i, m.j, rule=parent_power_constraint_rule)\n",
        "\n",
        "#Constant voltage assumption\n",
        "def voltage_constr_rule(m, n, vert_pow, vert_volt):\n",
        "    return m.V[n, vert_pow, vert_volt] == m.V_P[vert_volt]\n",
        "\n",
        "m.voltageConstr = pyo.Constraint(m.Nodes, m.i, m.j, rule=voltage_constr_rule)\n",
        "\n",
        "\n",
        "\n",
        "\n",
        "def test_rule(m):\n",
        "  return m.O == 0\n",
        "m.test = pyo.Constraint(rule=test_rule)\n",
        "\"\"\"# Auxiliary variables for the L1 norm of P_C_set\n",
        "m.abs_P_C_set = pyo.Var(m.children, domain=pyo.NonNegativeReals)\n",
        "\n",
        "# Constraints to linearize the L1 norm of P_C_set\n",
        "def abs_P_C_set_pos_rule(m, n):\n",
        "    return m.abs_P_C_set[n] >= m.aux[n]\n",
        "m.abs_P_C_set_pos = pyo.Constraint(m.children, rule=abs_P_C_set_pos_rule)\n",
        "\n",
        "def abs_P_C_set_neg_rule(m, n):\n",
        "    return m.abs_P_C_set[n] >= -m.aux[n]\n",
        "m.abs_P_C_set_neg = pyo.Constraint(m.children, rule=abs_P_C_set_neg_rule)\"\"\""
      ],
      "metadata": {
        "colab": {
          "base_uri": "https://localhost:8080/",
          "height": 72
        },
        "id": "1mMmPNdfXW3S",
        "outputId": "99838661-9a94-4c16-af9c-4415b2e9bd6a"
      },
      "execution_count": 128,
      "outputs": [
        {
          "output_type": "execute_result",
          "data": {
            "text/plain": [
              "'# Auxiliary variables for the L1 norm of P_C_set\\nm.abs_P_C_set = pyo.Var(m.children, domain=pyo.NonNegativeReals)\\n\\n# Constraints to linearize the L1 norm of P_C_set\\ndef abs_P_C_set_pos_rule(m, n):\\n    return m.abs_P_C_set[n] >= m.aux[n]\\nm.abs_P_C_set_pos = pyo.Constraint(m.children, rule=abs_P_C_set_pos_rule)\\n\\ndef abs_P_C_set_neg_rule(m, n):\\n    return m.abs_P_C_set[n] >= -m.aux[n]\\nm.abs_P_C_set_neg = pyo.Constraint(m.children, rule=abs_P_C_set_neg_rule)'"
            ],
            "application/vnd.google.colaboratory.intrinsic+json": {
              "type": "string"
            }
          },
          "metadata": {},
          "execution_count": 128
        }
      ]
    },
    {
      "cell_type": "code",
      "source": [
        "def objective_rule(m):\n",
        "  return   - alpha*m.O\n",
        "\n",
        "m.objective = pyo.Objective(rule=objective_rule, sense=pyo.maximize)"
      ],
      "metadata": {
        "id": "fNuKQeakZ4lL"
      },
      "execution_count": 129,
      "outputs": []
    },
    {
      "cell_type": "code",
      "source": [
        "# Résolution\n",
        "# -------------------------\n",
        "# Create an environment with your WLS license\n",
        "params = {\n",
        "    \"WLSACCESSID\": 'efa10779-150a-495c-ab62-6a20ff44c598',\n",
        "    \"WLSSECRET\": 'fa980d94-a6fd-4d7b-aa68-b0e19ddd2e84',\n",
        "    \"LICENSEID\": 2651433,\n",
        "}\n",
        "env = gp.Env(params=params)\n",
        "solver = pyo.SolverFactory('gurobi', env= env)\n",
        "\n",
        "# Solve the model\n",
        "results = solver.solve(m, tee=True)\n",
        "\n",
        "# Check the termination condition\n",
        "if results.solver.termination_condition == pyo.TerminationCondition.infeasible:\n",
        "    print(\"The model is infeasible.\")\n",
        "elif results.solver.termination_condition == pyo.TerminationCondition.unbounded:\n",
        "    print(\"The model is unbounded.\")\n",
        "elif results.solver.termination_condition == pyo.TerminationCondition.infeasibleOrUnbounded:\n",
        "    print(\"The model is infeasible or unbounded.\")\n",
        "else:\n",
        "    print(\"Solver terminated with condition:\", results.solver.termination_condition)\n",
        "    # Print the results (optional, but good practice)\n",
        "    print(results)"
      ],
      "metadata": {
        "colab": {
          "base_uri": "https://localhost:8080/"
        },
        "id": "CPLDPtvVZ99x",
        "outputId": "72f61e1f-47b6-4a10-ac99-b4b5fd4a8654"
      },
      "execution_count": 130,
      "outputs": [
        {
          "output_type": "stream",
          "name": "stdout",
          "text": [
            "Set parameter WLSAccessID\n",
            "Set parameter WLSSecret\n",
            "Set parameter LicenseID to value 2651433\n",
            "Academic license 2651433 - for non-commercial use only - registered to an___@student.uliege.be\n",
            "Read LP format model from file /tmp/tmpbfse0c0n.pyomo.lp\n",
            "Reading time = 0.00 seconds\n",
            "x1: 1337 rows, 385 columns, 2569 nonzeros\n",
            "Gurobi Optimizer version 12.0.3 build v12.0.3rc0 (linux64 - \"Ubuntu 22.04.4 LTS\")\n",
            "\n",
            "CPU model: Intel(R) Xeon(R) CPU @ 2.20GHz, instruction set [SSE2|AVX|AVX2]\n",
            "Thread count: 1 physical cores, 2 logical processors, using up to 2 threads\n",
            "\n",
            "Optimize a model with 1337 rows, 385 columns and 2569 nonzeros\n",
            "Model fingerprint: 0xafcb6dfb\n",
            "Coefficient statistics:\n",
            "  Matrix range     [5e-06, 2e+00]\n",
            "  Objective range  [1e+00, 1e+00]\n",
            "  Bounds range     [0e+00, 0e+00]\n",
            "  RHS range        [2e-04, 4e+02]\n",
            "Presolve removed 1317 rows and 365 columns\n",
            "Presolve time: 0.00s\n",
            "Presolved: 20 rows, 20 columns, 60 nonzeros\n",
            "\n",
            "Iteration    Objective       Primal Inf.    Dual Inf.      Time\n",
            "       0   -0.0000000e+00   1.714665e+01   0.000000e+00      0s\n",
            "      16   -0.0000000e+00   0.000000e+00   0.000000e+00      0s\n",
            "\n",
            "Solved in 16 iterations and 0.01 seconds (0.00 work units)\n",
            "Optimal objective -0.000000000e+00\n",
            "Solver terminated with condition: optimal\n",
            "\n",
            "Problem: \n",
            "- Name: x1\n",
            "  Lower bound: -0.0\n",
            "  Upper bound: -0.0\n",
            "  Number of objectives: 1\n",
            "  Number of constraints: 1337\n",
            "  Number of variables: 385\n",
            "  Number of binary variables: 0\n",
            "  Number of integer variables: 0\n",
            "  Number of continuous variables: 385\n",
            "  Number of nonzeros: 2569\n",
            "  Sense: maximize\n",
            "Solver: \n",
            "- Status: ok\n",
            "  Return code: 0\n",
            "  Message: Model was solved to optimality (subject to tolerances), and an optimal solution is available.\n",
            "  Termination condition: optimal\n",
            "  Termination message: Model was solved to optimality (subject to tolerances), and an optimal solution is available.\n",
            "  Wall time: 0.005269050598144531\n",
            "  Error rc: 0\n",
            "Solution: \n",
            "- number of solutions: 0\n",
            "  number of solutions displayed: 0\n",
            "\n"
          ]
        }
      ]
    },
    {
      "cell_type": "code",
      "source": [
        "info_DSO_node1 = m.F[1, 3, 0, 0].value\n",
        "info_DSO_node2 = m.F[2, 4, 0, 0].value\n",
        "print(info_DSO_node1)\n",
        "print(info_DSO_node2)\n",
        "\n",
        "info_DSO = [info_DSO_node1, info_DSO_node2]"
      ],
      "metadata": {
        "colab": {
          "base_uri": "https://localhost:8080/"
        },
        "id": "LPlIiVKqnpPE",
        "outputId": "b709d69f-5cab-43e4-d553-56a52e0c8b7c"
      },
      "execution_count": 131,
      "outputs": [
        {
          "output_type": "stream",
          "name": "stdout",
          "text": [
            "-0.0648\n",
            "0.057999999999999996\n"
          ]
        }
      ]
    },
    {
      "cell_type": "code",
      "source": [
        "print(m.theta[0,0,1].value)\n",
        "print(G[0][11]['b_pu'])"
      ],
      "metadata": {
        "colab": {
          "base_uri": "https://localhost:8080/"
        },
        "id": "0CyMv1hMcsOd",
        "outputId": "4d18e56d-ec9d-42b3-a47a-e63d0ab21b1c"
      },
      "execution_count": 132,
      "outputs": [
        {
          "output_type": "stream",
          "name": "stdout",
          "text": [
            "101.8539599998032\n",
            "0.6844793641885781\n"
          ]
        }
      ]
    },
    {
      "cell_type": "code",
      "source": [
        "def plot_power_flow(m, i, j):\n",
        "    pos = nx.get_node_attributes(G, 'pos')\n",
        "    # Use node indices as labels\n",
        "    labels = {}\n",
        "    label_colors = [] # This is for node colors, will remove this later if needed or set to default\n",
        "    for n in G.nodes():\n",
        "        label_text = f\"{n}\"\n",
        "        if n in m.parents:\n",
        "            # Display parent bounds using the global P_min and P_max parameters\n",
        "            label_text += f\"\\n[{P_min}, {P_max}]\"\n",
        "            # No specific color for label text here, use default\n",
        "            label_colors.append('steelblue') # Default node color based on previous plots\n",
        "        else:\n",
        "            label_colors.append('steelblue') # Default node color\n",
        "        labels[n] = label_text\n",
        "\n",
        "\n",
        "    plt.figure(figsize=(12, 8))\n",
        "\n",
        "    edge_colors = []\n",
        "    edge_labels = {}\n",
        "\n",
        "    for u, v in G.edges():\n",
        "        try:\n",
        "            # Correct the sign of the flow value for plotting\n",
        "            flow_value = m.F[u, v, i, j].value\n",
        "            if flow_value is not None:\n",
        "                edge_labels[(u, v)] = f\"{round(flow_value, 4)}\"\n",
        "                if flow_value > 0:\n",
        "                    edge_colors.append('blue')  # Positive flow (now correctly represents flow from u to v)\n",
        "                elif flow_value < 0:\n",
        "                    edge_colors.append('red')  # Negative (reverse) flow (now correctly represents flow from v to u)\n",
        "                else:\n",
        "                    edge_colors.append('gray') # No flow\n",
        "            else:\n",
        "                edge_colors.append('gray') # No flow value\n",
        "        except:\n",
        "            edge_colors.append('gray') # Handle cases where edge might not be in m.F\n",
        "\n",
        "    # Draw the network\n",
        "    nx.draw(\n",
        "        G, pos,\n",
        "        with_labels=False, # Draw labels separately for color control\n",
        "        node_size=1200,\n",
        "        edge_color=edge_colors, # Use the calculated edge colors\n",
        "        edgecolors=\"black\", font_size=8,\n",
        "        alpha=0.85,\n",
        "        node_color = label_colors # Apply node colors\n",
        "    )\n",
        "\n",
        "    # Draw labels with different colors\n",
        "    for n in G.nodes():\n",
        "        x, y = pos[n]\n",
        "        text = labels[n]\n",
        "        if n in m.parents:\n",
        "             plt.text(x, y + 0.1, text, fontsize=10, ha='center', va='bottom', color='black') # Color parent bounds black\n",
        "        else:\n",
        "             plt.text(x, y, text, fontsize=8, ha='center', va='center', color='black') # Default color for other labels\n",
        "\n",
        "\n",
        "    nx.draw_networkx_edge_labels(G, pos, edge_labels=edge_labels, font_size=7, label_pos=0.3)\n",
        "\n",
        "    plt.title(f\"Power Flow (per-unit) for i={i}, j={j}\")\n",
        "    plt.axis(\"equal\")\n",
        "    plt.show()\n",
        "\n",
        "# Example usage (assuming m, i=0, and j=0 are defined)\n",
        "plot_power_flow(m, 0, 1)"
      ],
      "metadata": {
        "colab": {
          "base_uri": "https://localhost:8080/",
          "height": 859
        },
        "id": "0qDf5fn1aZur",
        "outputId": "64648d19-c74b-4efb-c9e2-7f337f36dd89"
      },
      "execution_count": 133,
      "outputs": [
        {
          "output_type": "display_data",
          "data": {
            "text/plain": [
              "<Figure size 1200x800 with 1 Axes>"
            ],
            "image/png": "[encoded data removed]"
          },
          "metadata": {}
        }
      ]
    },
    {
      "cell_type": "code",
      "source": [
        "def create_network():\n",
        "\n",
        "    import pandapower as pp\n",
        "\n",
        "# Crée le réseau\n",
        "    net = pp.create_empty_network()\n",
        "\n",
        "# Bases\n",
        "    Pbase = 100  # MVA\n",
        "    Vbase_high = 110  # kV\n",
        "    Vbase_medium = 20  # kV\n",
        "    Vbase_low = 0.4  # kV\n",
        "\n",
        "# Buses\n",
        "    b0 = pp.create_bus(net, vn_kv=Vbase_high, name=\"Bus grid\", geodata=(0,10))\n",
        "    b1 = pp.create_bus(net, vn_kv=Vbase_high, name=\"DSO 1\", geodata=(5,12))\n",
        "    b2 = pp.create_bus(net, vn_kv=Vbase_high, name=\"DSO 2\", geodata=(5,8))\n",
        "    b3 = pp.create_bus(net, vn_kv=Vbase_medium, name=\"Bus MV_1\", geodata=(10,12))\n",
        "    b4 = pp.create_bus(net, vn_kv=Vbase_medium, name=\"Bus MV_2\", geodata=(10,8))\n",
        "    b5 = pp.create_bus(net, vn_kv=Vbase_low, name=\"Bus LV_1\", geodata=(15,12))\n",
        "    b6 = pp.create_bus(net, vn_kv=Vbase_low, name=\"Bus LV_2\", geodata=(15,8))\n",
        "    b7 = pp.create_bus(net, vn_kv=Vbase_medium, name=\"Bus éolien\", geodata=(10,14))\n",
        "    b8 = pp.create_bus(net, vn_kv=Vbase_medium, name=\"Bus industriel\", geodata=(10,10))\n",
        "    b9 = pp.create_bus(net, vn_kv=Vbase_low, name=\"Bus load\", geodata=(15,14))\n",
        "    b10 = pp.create_bus(net, vn_kv=Vbase_low, name=\"Bus PV\", geodata=(15,10))\n",
        "    b11 = pp.create_bus(net, vn_kv=Vbase_high, name=\"TSO 1\", geodata=(2,12))\n",
        "    b12 = pp.create_bus(net, vn_kv=Vbase_high, name=\"TSO 2\", geodata=(2,8))\n",
        "\n",
        "# Lignes\n",
        "    pp.create_line(net, b0, b1, length_km=12, std_type='149-AL1/24-ST1A 110.0', name=\"line1\")\n",
        "    pp.create_line(net, b1, b2, length_km=10, std_type='149-AL1/24-ST1A 110.0', name=\"line2\")\n",
        "    pp.create_line(net, b0, b2, length_km=10, std_type='149-AL1/24-ST1A 110.0', name=\"line3\")\n",
        "    pp.create_line(net, b3, b7, length_km=0.23, std_type='NA2XS2Y 1x185 RM/25 12/20 kV', name=\"line4\")\n",
        "    pp.create_line(net, b4, b8, length_km=0.3, std_type='NA2XS2Y 1x185 RM/25 12/20 kV', name=\"line5\")\n",
        "    pp.create_line(net, b5, b9, length_km=3, std_type='94-AL1/15-ST1A 0.4', name=\"line6\")\n",
        "    pp.create_line(net, b6, b10, length_km=0.45, std_type='94-AL1/15-ST1A 0.4', name=\"line7\")\n",
        "    pp.create_line(net, b0, b11, length_km=16, std_type='149-AL1/24-ST1A 110.0', name= 'line8')\n",
        "    pp.create_line(net, b11, b1, length_km=24, std_type='149-AL1/24-ST1A 110.0', name= 'line9')\n",
        "    pp.create_line(net, b0, b12, length_km=22, std_type='149-AL1/24-ST1A 110.0', name= 'line10')\n",
        "    pp.create_line(net, b12, b2, length_km=16, std_type='149-AL1/24-ST1A 110.0', name= 'line11')\n",
        "\n",
        "# Transformateurs\n",
        "    pp.create_transformer(net, b1, b3, std_type=\"25 MVA 110/20 kV\", name=\"TR_1\")\n",
        "    pp.create_transformer(net, b2, b4, std_type=\"25 MVA 110/20 kV\", name=\"TR_2\")\n",
        "    pp.create_transformer(net, b3, b5, std_type=\"0.4 MVA 20/0.4 kV\", name=\"TR_3\")\n",
        "    pp.create_transformer(net, b4, b6, std_type=\"0.4 MVA 20/0.4 kV\", name=\"TR_4\")\n",
        "\n",
        "# Éléments de bus\n",
        "    pp.create_ext_grid(net, bus=b0, vm_pu=1.00, name=\"Grid Connection\")\n",
        "    pp.create_load(net, bus=b9, p_mw=0.02, q_mvar=0.02, name=\"Residential Load\")\n",
        "    pp.create_gen(net, bus=b10, p_mw=0.2, vm_pu=1.00, name=\"PV\", max_q_mvar=200, min_q_mvar=0, max_p_mw=300, min_p_mw=0, controllable=False)\n",
        "    pp.create_gen(net, bus=b7, p_mw=6.5, vm_pu=1.0, name=\"Wind Turbine\", controllable=False)\n",
        "    pp.create_load(net, bus=b8, p_mw=6, q_mvar=1.8, name=\"Industry\")\n",
        "    pp.create_load(net, bus=b11, p_mw=20, q_mvar=9, name=\"Datacenter\")\n",
        "    pp.create_load(net, bus=b12, p_mw=50, q_mvar=24, name=\"Big industry\")\n",
        "\n",
        "# Donner accès à net\n",
        "    return net"
      ],
      "metadata": {
        "id": "UQqMSiRKOB_3"
      },
      "execution_count": 134,
      "outputs": []
    },
    {
      "cell_type": "code",
      "source": [
        "def create_digraph():\n",
        "  net = create_network()\n",
        "\n",
        "  import json\n",
        "  import networkx as nx\n",
        "  import matplotlib.pyplot as plt\n",
        "# 1. Conversion du réseau Pandapower en DiGraph\n",
        "# ================================\n",
        "  G = nx.DiGraph()\n",
        "\n",
        "# Créer les positions à partir de la colonne \"geo\"\n",
        "  pos = {}\n",
        "  for idx, row in net.bus.iterrows():\n",
        "  # Extraire le champ 'geo' qui est une chaîne de caractères représentant un dictionnaire JSON\n",
        "      geo_data = row['geo']\n",
        "\n",
        "  # Convertir la chaîne JSON en un dictionnaire Python\n",
        "      geo_dict = json.loads(geo_data)\n",
        "\n",
        "  # Extraire la liste des coordonnées\n",
        "      coordinates = geo_dict[\"coordinates\"]\n",
        "\n",
        "  # Ajouter les coordonnées dans le dictionnaire pos\n",
        "      pos[idx] = tuple(coordinates)  # Assigner les coordonnées sous forme de tuple\n",
        "\n",
        "# Ajouter les nœuds (avec le nom comme label) and voltage\n",
        "  for idx, row in net.bus.iterrows():\n",
        "      G.add_node(idx, label=row[\"name\"], pos=pos[idx], vn_kv=row[\"vn_kv\"])\n",
        "\n",
        "\n",
        "# Ajouter les arêtes pour les lines\n",
        "  for _, row in net.line.iterrows():\n",
        "      G.add_edge(row[\"from_bus\"], row[\"to_bus\"], type=\"line\", name=row[\"name\"], length=row[\"length_km\"], std_type=row[\"std_type\"])\n",
        "\n",
        "# Ajouter les arêtes pour les transformateurs\n",
        "  for _, row in net.trafo.iterrows():\n",
        "      G.add_edge(row[\"hv_bus\"], row[\"lv_bus\"], type=\"trafo\", name=row[\"name\"], std_type = None)\n",
        "\n",
        "# Ajouter les générateurs et les charges comme attributs aux nœuds\n",
        "  for _, row in net.gen.iterrows():\n",
        "      G.nodes[row[\"bus\"]][\"type\"] = \"gen\"\n",
        "      G.nodes[row[\"bus\"]][\"gen_name\"] = row[\"name\"]\n",
        "      G.nodes[row[\"bus\"]][\"gen_power\"] = row[\"p_mw\"]\n",
        "\n",
        "  for _, row in net.load.iterrows():\n",
        "      G.nodes[row[\"bus\"]][\"type\"] = \"load\"\n",
        "      G.nodes[row[\"bus\"]][\"load_name\"] = row[\"name\"]\n",
        "      G.nodes[row[\"bus\"]][\"load_power\"] = row[\"p_mw\"]\n",
        "\n",
        "  for _, row in net.ext_grid.iterrows():\n",
        "      G.nodes[row[\"bus\"]][\"type\"] = \"ext_grid\"\n",
        "      G.nodes[row[\"bus\"]][\"grid_name\"] = row[\"name\"]\n",
        "\n",
        "# 2. Ajout des puissances consommées et injectées aux nœuds\n",
        "# ================================\n",
        "  nx.set_node_attributes(G, 0.0, \"P_load\")\n",
        "  nx.set_node_attributes(G, 0.0, \"P_gen\")\n",
        "\n",
        "# Charges\n",
        "  for _, row in net.load.iterrows():\n",
        "      G.nodes[row[\"bus\"]][\"P_load\"] += row[\"p_mw\"]\n",
        "      print(row)\n",
        "\n",
        "# Générateurs\n",
        "  for _, row in net.gen.iterrows():\n",
        "      G.nodes[row[\"bus\"]][\"P_gen\"] += row[\"p_mw\"]\n",
        "\n",
        "# Source externe\n",
        "  for _, row in net.ext_grid.iterrows():\n",
        "      G.nodes[row[\"bus\"]][\"P_gen\"] += 0\n",
        "\n",
        "# Calculate P_net\n",
        "  for n in G.nodes:\n",
        "      G.nodes[n][\"P_net\"] = G.nodes[n][\"P_gen\"] - G.nodes[n][\"P_load\"]\n",
        "\n",
        "# Create subnetworks (NetworkX DiGraphs) from the main graph G\n",
        "  network1_buses = [0, 1, 2, 11,12]\n",
        "  network2_buses = [3, 7, 5, 9, 10]\n",
        "  network3_buses = [4, 8, 6]\n",
        "\n",
        "# Assign G1 to G and then add power attributes to nodes in G\n",
        "  G = G.subgraph(network1_buses)\n",
        "\n",
        "  for n in G.nodes:\n",
        "      G.nodes[n][\"P\"] = G.nodes[n][\"P_net\"] # Assign P_net to 'P' attribute\n",
        "\n",
        "# 3. Préparer les couleurs des nœuds en fonction de P_net\n",
        "# ================================\n",
        "  node_colors = []\n",
        "  for n, data in G.nodes(data=True):\n",
        "      if data[\"P_net\"] > 0:\n",
        "          node_colors.append(\"green\")   # producteur\n",
        "      elif data[\"P_net\"] < 0:\n",
        "          node_colors.append(\"red\")     # consommateur\n",
        "      else:\n",
        "          node_colors.append(\"gray\")    # neutre\n",
        "\n",
        "# 4. Préparer les labels : Nom + P_net\n",
        "# ================================\n",
        "  labels = {n: f\"{data['label']}\\nP={round(data['P_net'],2)}MW\"\n",
        "            for n, data in G.nodes(data=True)}\n",
        "\n",
        "# 5. Function to plot the network\n",
        "# ================================\n",
        "  def plot_network():\n",
        "      pos = nx.get_node_attributes(G, 'pos')\n",
        "\n",
        "      plt.figure(figsize=(12, 8))\n",
        "      nx.draw(\n",
        "          G, pos,\n",
        "          with_labels=True, labels=labels,\n",
        "          node_size=1200, node_color=node_colors,\n",
        "          edgecolors=\"black\", font_size=8,\n",
        "          alpha=0.85\n",
        "          )\n",
        "\n",
        "  # Labels des arêtes (type ligne ou trafo)\n",
        "      edge_labels = nx.get_edge_attributes(G, 'type')\n",
        "      nx.draw_networkx_edge_labels(G, pos, edge_labels=edge_labels, font_size=7)\n",
        "\n",
        "      plt.title(\"Réseau électrique avec puissances (P_net)\")\n",
        "      plt.axis(\"equal\")\n",
        "      plt.show()\n",
        "\n",
        "\n",
        "  return G, plot_network()"
      ],
      "metadata": {
        "id": "L2tSLt42fckE"
      },
      "execution_count": 135,
      "outputs": []
    },
    {
      "cell_type": "code",
      "source": [
        "G, plot_func = create_digraph()"
      ],
      "metadata": {
        "colab": {
          "base_uri": "https://localhost:8080/",
          "height": 1000
        },
        "id": "tnfnysf3g7Km",
        "outputId": "a6872326-47c9-4ac1-f632-6da05e435cde"
      },
      "execution_count": 136,
      "outputs": [
        {
          "output_type": "stream",
          "name": "stdout",
          "text": [
            "name               Residential Load\n",
            "bus                               9\n",
            "p_mw                           0.02\n",
            "q_mvar                         0.02\n",
            "const_z_percent                 0.0\n",
            "const_i_percent                 0.0\n",
            "sn_mva                          NaN\n",
            "scaling                         1.0\n",
            "in_service                     True\n",
            "type                            wye\n",
            "Name: 0, dtype: object\n",
            "name               Industry\n",
            "bus                       8\n",
            "p_mw                    6.0\n",
            "q_mvar                  1.8\n",
            "const_z_percent         0.0\n",
            "const_i_percent         0.0\n",
            "sn_mva                  NaN\n",
            "scaling                 1.0\n",
            "in_service             True\n",
            "type                    wye\n",
            "Name: 1, dtype: object\n",
            "name               Datacenter\n",
            "bus                        11\n",
            "p_mw                     20.0\n",
            "q_mvar                    9.0\n",
            "const_z_percent           0.0\n",
            "const_i_percent           0.0\n",
            "sn_mva                    NaN\n",
            "scaling                   1.0\n",
            "in_service               True\n",
            "type                      wye\n",
            "Name: 2, dtype: object\n",
            "name               Big industry\n",
            "bus                          12\n",
            "p_mw                       50.0\n",
            "q_mvar                     24.0\n",
            "const_z_percent             0.0\n",
            "const_i_percent             0.0\n",
            "sn_mva                      NaN\n",
            "scaling                     1.0\n",
            "in_service                 True\n",
            "type                        wye\n",
            "Name: 3, dtype: object\n"
          ]
        },
        {
          "output_type": "display_data",
          "data": {
            "text/plain": [
              "<Figure size 1200x800 with 1 Axes>"
            ],
            "image/png": "[encoded data removed]"
          },
          "metadata": {}
        }
      ]
    },
    {
      "cell_type": "code",
      "source": [
        "#Calculate the susceptance of each line in Siemens per km\n",
        "strange = 1000\n",
        "for u, v in G.edges():\n",
        "    G[u][v]['b'] = length(u,v)* 200*10**-6 *strange\n",
        "    print(G[u][v]['b'])"
      ],
      "metadata": {
        "colab": {
          "base_uri": "https://localhost:8080/"
        },
        "id": "4joTAruugLdr",
        "outputId": "12e5ad63-9311-49b6-cbbb-b51dd2f68787"
      },
      "execution_count": 137,
      "outputs": [
        {
          "output_type": "stream",
          "name": "stdout",
          "text": [
            "0.010770329614269008\n",
            "0.010770329614269008\n",
            "0.005656854249492381\n",
            "0.005656854249492381\n",
            "0.008\n",
            "0.006\n",
            "0.006\n"
          ]
        }
      ]
    },
    {
      "cell_type": "code",
      "source": [
        "# Convert susceptance 'b' on edges to per-unit\n",
        "for u, v in G.edges():\n",
        "    # Assuming 'b' is in Siemens/km, convert to per-unit\n",
        "    # b_pu = b_actual * (V_base^2 / S_base)\n",
        "    # V_base is assumed to be v_base_high (110 kV)\n",
        "    G[u][v]['b_pu'] = G[u][v].get('b', 0.0) * (get_base_node_voltage_kv(u)**2 / s_base)\n",
        "    print(G[u][v]['b_pu'])"
      ],
      "metadata": {
        "id": "xWiNeivwgrD6",
        "colab": {
          "base_uri": "https://localhost:8080/"
        },
        "outputId": "8f9b5783-0255-4fdf-b5cc-12b3b1079e5f"
      },
      "execution_count": 138,
      "outputs": [
        {
          "output_type": "stream",
          "name": "stdout",
          "text": [
            "1.30320988332655\n",
            "1.30320988332655\n",
            "0.6844793641885781\n",
            "0.6844793641885781\n",
            "0.968\n",
            "0.726\n",
            "0.726\n"
          ]
        }
      ]
    },
    {
      "cell_type": "code",
      "execution_count": 139,
      "metadata": {
        "colab": {
          "base_uri": "https://localhost:8080/"
        },
        "id": "07q_jJUiinf_",
        "outputId": "90869daa-c963-4e8f-b05f-fe28956054c3"
      },
      "outputs": [
        {
          "output_type": "stream",
          "name": "stdout",
          "text": [
            "-0.8954702675131095\n",
            "0.8954702675131095\n",
            "1.30320988332655\n",
            "1.30320988332655\n",
            "0.6844793641885781\n",
            "0.6844793641885781\n",
            "0.968\n",
            "0.726\n",
            "0.726\n"
          ]
        }
      ],
      "source": [
        "m = pyo.ConcreteModel()\n",
        "# Define base values for the per-unit system\n",
        "s_base = 100  # MVA\n",
        "v_base_high = 110 # kV (From the create_network function)\n",
        "\n",
        "m.Nodes = pyo.Set(initialize= [b for b in G.nodes])\n",
        "m.Lines = pyo.Set(initialize= [l for l in G.edges])\n",
        "m.i = pyo.Set(initialize=[0, 1]) # Initialize m.i with two generic elements\n",
        "m.j = pyo.Set(initialize= [0, 1])\n",
        "m.children = pyo.Set(initialize= [1, 2])\n",
        "m.parents = pyo.Set(initialize = [0])\n",
        "\n",
        "m.P = pyo.Param(m.Nodes, initialize = {n: - G.nodes[n].get('P') for n in G.nodes}, domain = pyo.Reals, mutable=True) # Make P mutable\n",
        "\n",
        "m.info_DSO_param = pyo.Param(m.children, initialize = {n: info_DSO[n-1] for n in m.children}, domain = pyo.Reals) # Renamed parameter and adjusted index for list\n",
        "\n",
        "m.I_min = pyo.Param(m.Lines, initialize = {(i,j): calculate_current_bounds(G.edges[i,j][\"std_type\"], get_base_node_voltage_kv(i))[0] for (i,j) in m.Lines}, domain = pyo.Reals)\n",
        "m.I_max = pyo.Param(m.Lines, initialize = {(i,j): calculate_current_bounds(G.edges[i,j][\"std_type\"], get_base_node_voltage_kv(i))[1] for (i,j) in m.Lines}, domain = pyo.Reals)\n",
        "\n",
        "print(m.I_min[(0,1)])\n",
        "print(m.I_max[(0,1)])\n",
        "\n",
        "# Variables principales\n",
        "m.F = pyo.Var(m.Lines, m.i, m.j, domain=pyo.Reals)     # active power flow through lines\n",
        "m.I = pyo.Var(m.Lines,  m.i, m.j, domain=pyo.Reals)  # current flowing through lines\n",
        "m.theta = pyo.Var(m.Nodes,  m.i, m.j, domain=pyo.Reals)  # phase angle of the voltage\n",
        "m.V = pyo.Var(m.Nodes, m.i, m.j, domain=pyo.NonNegativeReals)  # voltage magnitude at each node\n",
        "m.E = pyo.Var(m.Nodes, m.i, m.j, domain=pyo.Reals) #net power injection/consumption\n",
        "m.P_plus = pyo.Var(m.parents, m.i, m.j, domain=pyo.Reals) #power entering the operational graph\n",
        "m.P_minus = pyo.Var(m.children, m.i, m.j, domain=pyo.Reals) #power leaving the operational graph\n",
        "\n",
        "m.P_C_set = pyo.Var(m.children, m.i, domain=pyo.Reals) #vertices of the power envelope at each child node\n",
        "\n",
        "#m.P_C_min = pyo.Var(m.children, m.i, m.j, domain=pyo.Reals)\n",
        "#m.P_C_max = pyo.Var(m.children, m.i, m.j,  domain=pyo.Reals)\n",
        "\n",
        "m.V_P = pyo.Param(m.j, initialize = {0: 0.9, 1: 1.1}, domain =pyo.NonNegativeReals)\n",
        "\n",
        "m.O = pyo.Var(domain= pyo.NonNegativeReals)\n",
        "m.tot = pyo.Var(domain= pyo.Reals)\n",
        "m.aux = pyo.Var(m.children, domain=pyo.Reals)\n",
        "\n",
        "\n",
        "for u in G.nodes():\n",
        "  if G.nodes[u].get('P', 0.0) / s_base == 0:\n",
        "    m.P[u] = 0\n",
        "  else:\n",
        "    G.nodes[u]['P_pu'] = G.nodes[u].get('P', 0.0) / s_base\n",
        "    m.P[u] = - G.nodes[u]['P_pu']\n",
        "\n",
        "\"\"\"# Convert P parameter to per-unit\n",
        "for n in G.nodes:\n",
        "    # Assuming P is in MW, convert to per-unit\n",
        "    G.nodes[n]['P'] = G.nodes[n].get('P', 0.0) / s_base\n",
        "    m.P[n] = G.nodes[n]['P']\"\"\"\n",
        "\n",
        "\n",
        "# Convert susceptance 'b' on edges to per-unit\n",
        "for u, v in G.edges():\n",
        "    # Assuming 'b' is in Siemens/km, convert to per-unit\n",
        "    # b_pu = b_actual * (V_base^2 / S_base)\n",
        "    # V_base is assumed to be v_base_high (110 kV)\n",
        "    G[u][v]['b_pu'] = G[u][v].get('b', 0.0) * (get_base_node_voltage_kv(u)**2 / s_base)\n",
        "\n",
        "    print(G[u][v]['b_pu'])"
      ]
    },
    {
      "cell_type": "code",
      "source": [
        "for n in G.nodes:\n",
        "  print(m.P[n].value)\n",
        "m.P[1].value\n"
      ],
      "metadata": {
        "colab": {
          "base_uri": "https://localhost:8080/"
        },
        "id": "1tUFkVhBIp_x",
        "outputId": "697c0eb5-9e24-4a5b-8272-1a122dd4b3d7"
      },
      "execution_count": 140,
      "outputs": [
        {
          "output_type": "stream",
          "name": "stdout",
          "text": [
            "0\n",
            "0\n",
            "0\n",
            "0.2\n",
            "0.5\n"
          ]
        },
        {
          "output_type": "execute_result",
          "data": {
            "text/plain": [
              "0"
            ]
          },
          "metadata": {},
          "execution_count": 140
        }
      ]
    },
    {
      "cell_type": "code",
      "execution_count": 142,
      "metadata": {
        "id": "lmnxCzo_aFST",
        "colab": {
          "base_uri": "https://localhost:8080/",
          "height": 1000
        },
        "outputId": "6bcbb620-f4bd-40b3-abe5-d7acc38e94af"
      },
      "outputs": [
        {
          "output_type": "stream",
          "name": "stderr",
          "text": [
            "WARNING:pyomo.core:Implicitly replacing the Component attribute worst_case (type=<class 'pyomo.core.base.constraint.IndexedConstraint'>) on block unknown with a new Component (type=<class 'pyomo.core.base.constraint.IndexedConstraint'>).\n",
            "This is usually indicative of a modelling error.\n",
            "To avoid this warning, use block.del_component() and block.add_component().\n",
            "WARNING:pyomo.core:Implicitly replacing the Component attribute z (type=<class 'pyomo.core.base.var.IndexedVar'>) on block unknown with a new Component (type=<class 'pyomo.core.base.var.IndexedVar'>).\n",
            "This is usually indicative of a modelling error.\n",
            "To avoid this warning, use block.del_component() and block.add_component().\n",
            "WARNING:pyomo.core:Implicitly replacing the Component attribute curt (type=<class 'pyomo.core.base.var.IndexedVar'>) on block unknown with a new Component (type=<class 'pyomo.core.base.var.IndexedVar'>).\n",
            "This is usually indicative of a modelling error.\n",
            "To avoid this warning, use block.del_component() and block.add_component().\n",
            "WARNING:pyomo.core:Implicitly replacing the Component attribute curt_def (type=<class 'pyomo.core.base.constraint.IndexedConstraint'>) on block unknown with a new Component (type=<class 'pyomo.core.base.constraint.IndexedConstraint'>).\n",
            "This is usually indicative of a modelling error.\n",
            "To avoid this warning, use block.del_component() and block.add_component().\n",
            "WARNING:pyomo.core:Implicitly replacing the Component attribute abs_E_pos (type=<class 'pyomo.core.base.constraint.IndexedConstraint'>) on block unknown with a new Component (type=<class 'pyomo.core.base.constraint.IndexedConstraint'>).\n",
            "This is usually indicative of a modelling error.\n",
            "To avoid this warning, use block.del_component() and block.add_component().\n",
            "WARNING:pyomo.core:Implicitly replacing the Component attribute abs_E_neg (type=<class 'pyomo.core.base.constraint.IndexedConstraint'>) on block unknown with a new Component (type=<class 'pyomo.core.base.constraint.IndexedConstraint'>).\n",
            "This is usually indicative of a modelling error.\n",
            "To avoid this warning, use block.del_component() and block.add_component().\n",
            "WARNING:pyomo.core:Implicitly replacing the Component attribute upper_bound (type=<class 'pyomo.core.base.constraint.IndexedConstraint'>) on block unknown with a new Component (type=<class 'pyomo.core.base.constraint.IndexedConstraint'>).\n",
            "This is usually indicative of a modelling error.\n",
            "To avoid this warning, use block.del_component() and block.add_component().\n",
            "WARNING:pyomo.core:Implicitly replacing the Component attribute CurrentBounds (type=<class 'pyomo.core.base.constraint.IndexedConstraint'>) on block unknown with a new Component (type=<class 'pyomo.core.base.constraint.IndexedConstraint'>).\n",
            "This is usually indicative of a modelling error.\n",
            "To avoid this warning, use block.del_component() and block.add_component().\n",
            "WARNING:pyomo.core:Implicitly replacing the Component attribute phaseConstr (type=<class 'pyomo.core.base.constraint.IndexedConstraint'>) on block unknown with a new Component (type=<class 'pyomo.core.base.constraint.IndexedConstraint'>).\n",
            "This is usually indicative of a modelling error.\n",
            "To avoid this warning, use block.del_component() and block.add_component().\n",
            "WARNING:pyomo.core:Implicitly replacing the Component attribute DCFlow (type=<class 'pyomo.core.base.constraint.IndexedConstraint'>) on block unknown with a new Component (type=<class 'pyomo.core.base.constraint.IndexedConstraint'>).\n",
            "This is usually indicative of a modelling error.\n",
            "To avoid this warning, use block.del_component() and block.add_component().\n",
            "WARNING:pyomo.core:Implicitly replacing the Component attribute current_def (type=<class 'pyomo.core.base.constraint.IndexedConstraint'>) on block unknown with a new Component (type=<class 'pyomo.core.base.constraint.IndexedConstraint'>).\n",
            "This is usually indicative of a modelling error.\n",
            "To avoid this warning, use block.del_component() and block.add_component().\n",
            "WARNING:pyomo.core:Implicitly replacing the Component attribute nodes_balance (type=<class 'pyomo.core.base.constraint.IndexedConstraint'>) on block unknown with a new Component (type=<class 'pyomo.core.base.constraint.IndexedConstraint'>).\n",
            "This is usually indicative of a modelling error.\n",
            "To avoid this warning, use block.del_component() and block.add_component().\n",
            "WARNING:pyomo.core:Implicitly replacing the Component attribute parent_power_constraint (type=<class 'pyomo.core.base.constraint.IndexedConstraint'>) on block unknown with a new Component (type=<class 'pyomo.core.base.constraint.IndexedConstraint'>).\n",
            "This is usually indicative of a modelling error.\n",
            "To avoid this warning, use block.del_component() and block.add_component().\n",
            "WARNING:pyomo.core:Implicitly replacing the Component attribute voltageConstr (type=<class 'pyomo.core.base.constraint.IndexedConstraint'>) on block unknown with a new Component (type=<class 'pyomo.core.base.constraint.IndexedConstraint'>).\n",
            "This is usually indicative of a modelling error.\n",
            "To avoid this warning, use block.del_component() and block.add_component().\n",
            "WARNING:pyomo.core:Implicitly replacing the Component attribute children_voltage (type=<class 'pyomo.core.base.constraint.IndexedConstraint'>) on block unknown with a new Component (type=<class 'pyomo.core.base.constraint.IndexedConstraint'>).\n",
            "This is usually indicative of a modelling error.\n",
            "To avoid this warning, use block.del_component() and block.add_component().\n",
            "WARNING:pyomo.core:Implicitly replacing the Component attribute aux_constraint (type=<class 'pyomo.core.base.constraint.IndexedConstraint'>) on block unknown with a new Component (type=<class 'pyomo.core.base.constraint.IndexedConstraint'>).\n",
            "This is usually indicative of a modelling error.\n",
            "To avoid this warning, use block.del_component() and block.add_component().\n",
            "WARNING:pyomo.core:Implicitly replacing the Component attribute info_DSO_min (type=<class 'pyomo.core.base.constraint.IndexedConstraint'>) on block unknown with a new Component (type=<class 'pyomo.core.base.constraint.IndexedConstraint'>).\n",
            "This is usually indicative of a modelling error.\n",
            "To avoid this warning, use block.del_component() and block.add_component().\n",
            "WARNING:pyomo.core:Implicitly replacing the Component attribute info_DSO_max (type=<class 'pyomo.core.base.constraint.IndexedConstraint'>) on block unknown with a new Component (type=<class 'pyomo.core.base.constraint.IndexedConstraint'>).\n",
            "This is usually indicative of a modelling error.\n",
            "To avoid this warning, use block.del_component() and block.add_component().\n",
            "WARNING:pyomo.core:Implicitly replacing the Component attribute tot_constraint (type=<class 'pyomo.core.base.constraint.ScalarConstraint'>) on block unknown with a new Component (type=<class 'pyomo.core.base.constraint.AbstractScalarConstraint'>).\n",
            "This is usually indicative of a modelling error.\n",
            "To avoid this warning, use block.del_component() and block.add_component().\n"
          ]
        },
        {
          "output_type": "execute_result",
          "data": {
            "text/plain": [
              "'# Auxiliary variables for the L1 norm of P_C_set\\nm.abs_P_C_set = pyo.Var(m.children, domain=pyo.NonNegativeReals)\\n\\n# Constraints to linearize the L1 norm of P_C_set\\ndef abs_P_C_set_pos_rule(m, n):\\n    return m.abs_P_C_set[n] >= m.aux[n]\\nm.abs_P_C_set_pos = pyo.Constraint(m.children, rule=abs_P_C_set_pos_rule)\\n\\ndef abs_P_C_set_neg_rule(m, n):\\n    return m.abs_P_C_set[n] >= -m.aux[n]\\nm.abs_P_C_set_neg = pyo.Constraint(m.children, rule=abs_P_C_set_neg_rule)'"
            ],
            "application/vnd.google.colaboratory.intrinsic+json": {
              "type": "string"
            }
          },
          "metadata": {},
          "execution_count": 142
        }
      ],
      "source": [
        "#Children nodes consumption\n",
        "def worst_case_children(m, n, vert_pow, vert_volt):\n",
        "  return m.P_C_set[n, vert_pow] == m.P_minus[n, vert_pow, vert_volt]\n",
        "m.worst_case = pyo.Constraint(m.children, m.i, m.j, rule=worst_case_children)\n",
        "\n",
        "\n",
        "# Auxiliary variable for the absolute value of E (already defined as per-unit)\n",
        "m.z = pyo.Var(m.Nodes, m.i, m.j, domain=pyo.NonNegativeReals)\n",
        "\n",
        "m.curt = pyo.Var(m.Nodes, m.i, m.j, domain=pyo.Reals)\n",
        "\n",
        "def curtailment_def_rule(m,n, vert_pow, vert_volt):\n",
        "\n",
        "  return m.curt[n, vert_pow, vert_volt] == m.P[n] - m.E[n, vert_pow, vert_volt]\n",
        "\n",
        "m.curt_def = pyo.Constraint(m.Nodes, m.i, m.j, rule=curtailment_def_rule)\n",
        "# Constraints to define the absolute value (already defined for per-unit E)\n",
        "def abs_E_pos_rule(m, n, vert_pow, vert_volt):\n",
        "    return m.z[n, vert_pow, vert_volt] >= m.curt[n, vert_pow, vert_volt]\n",
        "m.abs_E_pos = pyo.Constraint(m.Nodes, m.i, m.j, rule=abs_E_pos_rule)\n",
        "\n",
        "def abs_E_neg_rule(m, n, vert_pow, vert_volt):\n",
        "    return m.z[n, vert_pow, vert_volt] >= -m.curt[n, vert_pow, vert_volt]\n",
        "m.abs_E_neg = pyo.Constraint(m.Nodes, m.i, m.j, rule=abs_E_neg_rule)\n",
        "\n",
        "def upper_bound_rule(m, vert_pow, vert_volt):\n",
        "    # m.z is per-unit, m.O is per-unit\n",
        "    return sum(m.z[n, vert_pow, vert_volt] for n in m.Nodes) <= m.O\n",
        "\n",
        "m.upper_bound = pyo.Constraint(m.i, m.j, rule=upper_bound_rule)\n",
        "\n",
        "# Current magnitude constraint (I_min, I_max are assumed per-unit)\n",
        "def current_bounds_rule(m, i, j, vert_pow, vert_volt):\n",
        "    # m.I is per-unit current\n",
        "    return pyo.inequality(m.I_min[(i,j)], m.I[i,j, vert_pow, vert_volt], m.I_max[(i,j)])\n",
        "m.CurrentBounds = pyo.Constraint(m.Lines, m.i, m.j, rule=current_bounds_rule)\n",
        "\n",
        "def phase_constr_rule(m,n, vert_pow, vert_volt):\n",
        "    return pyo.inequality(theta_min/10, m.theta[n, vert_pow, vert_volt], theta_max/10)\n",
        "\n",
        "m.phaseConstr = pyo.Constraint(m.Nodes, m.i, m.j, rule=phase_constr_rule)\n",
        "\n",
        "def dc_power_flow_rule(m, i, j, vert_pow, vert_volt):\n",
        "    return m.F[i, j, vert_pow, vert_volt] == m.V_P[vert_volt]**2 *(G[i][j]['b_pu'] * (\n",
        "        m.theta[i, vert_pow, vert_volt] - m.theta[j, vert_pow, vert_volt])\n",
        "    )\n",
        "\n",
        "m.DCFlow = pyo.Constraint(m.Lines, m.i, m.j, rule=dc_power_flow_rule)\n",
        "\n",
        "\n",
        "def current_def_rule(m, n, i, j, vert_pow, vert_volt):\n",
        "    # This constraint relates per-unit current, per-unit voltage, and per-unit power flow.\n",
        "    # In per-unit, P_pu = V_pu * I_pu. This is correct.\n",
        "    return m.I[i,j, vert_pow, vert_volt] * m.V_P[vert_volt] == m.F[i,j, vert_pow, vert_volt]\n",
        "\n",
        "m.current_def = pyo.Constraint(m.Nodes, m.Lines, m.i, m.j, rule=current_def_rule)\n",
        "\n",
        "\n",
        "\n",
        "def nodes_balance(m, n, vert_pow, vert_volt):\n",
        "    inflow = sum(m.F[k, n, vert_pow, vert_volt] for k in G.predecessors(n) if (k, n) in m.Lines)\n",
        "    outflow = sum(m.F[n, j, vert_pow, vert_volt] for j in G.successors(n) if (n, j) in m.Lines)\n",
        "    if n in m.parents:\n",
        "      return inflow - outflow  ==  m.E[n, vert_pow, vert_volt] - m.P_plus[n, vert_pow, vert_volt]\n",
        "\n",
        "    if n in m.children:\n",
        "      return inflow - outflow  ==  m.E[n, vert_pow, vert_volt] + m.P_minus[n, vert_pow, vert_volt]\n",
        "\n",
        "    else:\n",
        "      return inflow - outflow ==  m.E[n,vert_pow,vert_volt]\n",
        "\n",
        "m.nodes_balance = pyo.Constraint(m.Nodes, m.i, m.j, rule=nodes_balance)\n",
        "\n",
        "\n",
        "def parent_power_constraint_rule(m, parent, vert_pow, vert_volt):\n",
        "    # m.P_plus is per-unit power entering the operational graph\n",
        "    return pyo.inequality(0, m.P_plus[parent, vert_pow, vert_volt], P_max)\n",
        "\n",
        "m.parent_power_constraint = pyo.Constraint(m.parents, m.i, m.j, rule=parent_power_constraint_rule)\n",
        "\n",
        "def parent_power_constraint_rule2(m, parent, vert_pow, vert_volt):\n",
        "    # m.P_plus is per-unit power entering the operational graph\n",
        "    return pyo.inequality(P_min, m.P_minus[parent, vert_pow, vert_volt], P_max)\n",
        "\n",
        "m.parent_power_constraint2 = pyo.Constraint(m.children, m.i, m.j, rule=parent_power_constraint_rule2)\n",
        "\n",
        "#Constant voltage assumption\n",
        "def voltage_constr_rule(m, n, vert_pow, vert_volt):\n",
        "    return m.V[n, vert_pow, vert_volt] == m.V_P[vert_volt]\n",
        "\n",
        "m.voltageConstr = pyo.Constraint(m.Nodes, m.i, m.j, rule=voltage_constr_rule)\n",
        "\n",
        "def children_voltage_rule(m, children, vert_pow, vert_volt):\n",
        "    return pyo.inequality(V_min, m.V[children, vert_pow, vert_volt], V_max)\n",
        "\n",
        "m.children_voltage = pyo.Constraint(m.children, m.i, m.j, rule=children_voltage_rule)\n",
        "\n",
        "\n",
        "\n",
        "def aux_constraint_rule(m, n):\n",
        "  return m.aux[n] == m.P_C_set[n, 0] - m.P_C_set[n, 1]\n",
        "m.aux_constraint = pyo.Constraint(m.children, rule=aux_constraint_rule)\n",
        "\n",
        "\n",
        "def info_DSO_min_rule(m,n):\n",
        "  return m.P_C_set[n,1] <= m.info_DSO_param[n]\n",
        "m.info_DSO_min = pyo.Constraint(m.children, rule=info_DSO_min_rule)\n",
        "\n",
        "def info_DSO_max_rule(m,n):\n",
        "  return m.P_C_set[n,0] >= m.info_DSO_param[n]\n",
        "m.info_DSO_max = pyo.Constraint(m.children, rule=info_DSO_max_rule)\n",
        "\n",
        "def tot_rule(m):\n",
        "  return m.tot == sum(m.aux[n] for n in m.children)\n",
        "m.tot_constraint = pyo.Constraint(rule=tot_rule)\n",
        "\n",
        "\"\"\"# Auxiliary variables for the L1 norm of P_C_set\n",
        "m.abs_P_C_set = pyo.Var(m.children, domain=pyo.NonNegativeReals)\n",
        "\n",
        "# Constraints to linearize the L1 norm of P_C_set\n",
        "def abs_P_C_set_pos_rule(m, n):\n",
        "    return m.abs_P_C_set[n] >= m.aux[n]\n",
        "m.abs_P_C_set_pos = pyo.Constraint(m.children, rule=abs_P_C_set_pos_rule)\n",
        "\n",
        "def abs_P_C_set_neg_rule(m, n):\n",
        "    return m.abs_P_C_set[n] >= -m.aux[n]\n",
        "m.abs_P_C_set_neg = pyo.Constraint(m.children, rule=abs_P_C_set_neg_rule)\"\"\""
      ]
    },
    {
      "cell_type": "code",
      "execution_count": 162,
      "metadata": {
        "colab": {
          "base_uri": "https://localhost:8080/"
        },
        "id": "-mZTkvu9jn1c",
        "outputId": "30649b2a-4e55-4822-8356-6fe1b7eb9e91"
      },
      "outputs": [
        {
          "output_type": "stream",
          "name": "stderr",
          "text": [
            "WARNING:pyomo.core:Implicitly replacing the Component attribute objective (type=<class 'pyomo.core.base.objective.ScalarObjective'>) on block unknown with a new Component (type=<class 'pyomo.core.base.objective.ScalarObjective'>).\n",
            "This is usually indicative of a modelling error.\n",
            "To avoid this warning, use block.del_component() and block.add_component().\n"
          ]
        },
        {
          "output_type": "stream",
          "name": "stdout",
          "text": [
            "0.5\n",
            "Set parameter WLSAccessID\n",
            "Set parameter WLSSecret\n",
            "Set parameter LicenseID to value 2651433\n",
            "Academic license 2651433 - for non-commercial use only - registered to an___@student.uliege.be\n",
            "Read LP format model from file /tmp/tmpr4cowccr.pyomo.lp\n",
            "Reading time = 0.00 seconds\n",
            "x1: 423 rows, 176 columns, 781 nonzeros\n",
            "Gurobi Optimizer version 12.0.3 build v12.0.3rc0 (linux64 - \"Ubuntu 22.04.4 LTS\")\n",
            "\n",
            "CPU model: Intel(R) Xeon(R) CPU @ 2.20GHz, instruction set [SSE2|AVX|AVX2]\n",
            "Thread count: 1 physical cores, 2 logical processors, using up to 2 threads\n",
            "\n",
            "Optimize a model with 423 rows, 176 columns and 781 nonzeros\n",
            "Model fingerprint: 0x1c93533c\n",
            "Coefficient statistics:\n",
            "  Matrix range     [6e-01, 2e+00]\n",
            "  Objective range  [5e-01, 1e+00]\n",
            "  Bounds range     [0e+00, 0e+00]\n",
            "  RHS range        [6e-02, 2e+01]\n",
            "Presolve removed 352 rows and 100 columns\n",
            "Presolve time: 0.00s\n",
            "Presolved: 71 rows, 76 columns, 290 nonzeros\n",
            "\n",
            "Iteration    Objective       Primal Inf.    Dual Inf.      Time\n",
            "       0    5.7618465e+00   3.713636e+01   0.000000e+00      0s\n",
            "      54    4.8500000e+00   0.000000e+00   0.000000e+00      0s\n",
            "\n",
            "Solved in 54 iterations and 0.00 seconds (0.00 work units)\n",
            "Optimal objective  4.850000000e+00\n"
          ]
        },
        {
          "output_type": "stream",
          "name": "stderr",
          "text": [
            "WARNING:pyomo.core:Implicitly replacing the Component attribute objective (type=<class 'pyomo.core.base.objective.ScalarObjective'>) on block unknown with a new Component (type=<class 'pyomo.core.base.objective.ScalarObjective'>).\n",
            "This is usually indicative of a modelling error.\n",
            "To avoid this warning, use block.del_component() and block.add_component().\n"
          ]
        },
        {
          "output_type": "stream",
          "name": "stdout",
          "text": [
            "1\n",
            "Set parameter WLSAccessID\n",
            "Set parameter WLSSecret\n",
            "Set parameter LicenseID to value 2651433\n",
            "Academic license 2651433 - for non-commercial use only - registered to an___@student.uliege.be\n",
            "Read LP format model from file /tmp/tmpp121s0u9.pyomo.lp\n",
            "Reading time = 0.00 seconds\n",
            "x1: 423 rows, 176 columns, 781 nonzeros\n",
            "Gurobi Optimizer version 12.0.3 build v12.0.3rc0 (linux64 - \"Ubuntu 22.04.4 LTS\")\n",
            "\n",
            "CPU model: Intel(R) Xeon(R) CPU @ 2.20GHz, instruction set [SSE2|AVX|AVX2]\n",
            "Thread count: 1 physical cores, 2 logical processors, using up to 2 threads\n",
            "\n",
            "Optimize a model with 423 rows, 176 columns and 781 nonzeros\n",
            "Model fingerprint: 0x512b6ede\n",
            "Coefficient statistics:\n",
            "  Matrix range     [6e-01, 2e+00]\n",
            "  Objective range  [1e+00, 1e+00]\n",
            "  Bounds range     [0e+00, 0e+00]\n",
            "  RHS range        [6e-02, 2e+01]\n",
            "Presolve removed 352 rows and 100 columns\n",
            "Presolve time: 0.00s\n",
            "Presolved: 71 rows, 76 columns, 290 nonzeros\n",
            "\n",
            "Iteration    Objective       Primal Inf.    Dual Inf.      Time\n",
            "       0    5.5236930e+00   5.335361e+01   0.000000e+00      0s\n",
            "      61    3.7000000e+00   0.000000e+00   0.000000e+00      0s\n",
            "\n",
            "Solved in 61 iterations and 0.00 seconds (0.00 work units)\n",
            "Optimal objective  3.700000000e+00\n"
          ]
        },
        {
          "output_type": "stream",
          "name": "stderr",
          "text": [
            "WARNING:pyomo.core:Implicitly replacing the Component attribute objective (type=<class 'pyomo.core.base.objective.ScalarObjective'>) on block unknown with a new Component (type=<class 'pyomo.core.base.objective.ScalarObjective'>).\n",
            "This is usually indicative of a modelling error.\n",
            "To avoid this warning, use block.del_component() and block.add_component().\n"
          ]
        },
        {
          "output_type": "stream",
          "name": "stdout",
          "text": [
            "1.1\n",
            "Set parameter WLSAccessID\n",
            "Set parameter WLSSecret\n",
            "Set parameter LicenseID to value 2651433\n",
            "Academic license 2651433 - for non-commercial use only - registered to an___@student.uliege.be\n",
            "Read LP format model from file /tmp/tmpt7m45kuo.pyomo.lp\n",
            "Reading time = 0.00 seconds\n",
            "x1: 423 rows, 176 columns, 781 nonzeros\n",
            "Gurobi Optimizer version 12.0.3 build v12.0.3rc0 (linux64 - \"Ubuntu 22.04.4 LTS\")\n",
            "\n",
            "CPU model: Intel(R) Xeon(R) CPU @ 2.20GHz, instruction set [SSE2|AVX|AVX2]\n",
            "Thread count: 1 physical cores, 2 logical processors, using up to 2 threads\n",
            "\n",
            "Optimize a model with 423 rows, 176 columns and 781 nonzeros\n",
            "Model fingerprint: 0xfc04bbd9\n",
            "Coefficient statistics:\n",
            "  Matrix range     [6e-01, 2e+00]\n",
            "  Objective range  [1e+00, 1e+00]\n",
            "  Bounds range     [0e+00, 0e+00]\n",
            "  RHS range        [6e-02, 2e+01]\n",
            "Presolve removed 352 rows and 100 columns\n",
            "Presolve time: 0.00s\n",
            "Presolved: 71 rows, 76 columns, 290 nonzeros\n",
            "\n",
            "Iteration    Objective       Primal Inf.    Dual Inf.      Time\n",
            "       0    5.5236930e+00   3.146651e+01   0.000000e+00      0s\n",
            "      55    3.4800000e+00   0.000000e+00   0.000000e+00      0s\n",
            "\n",
            "Solved in 55 iterations and 0.00 seconds (0.00 work units)\n",
            "Optimal objective  3.480000000e+00\n"
          ]
        },
        {
          "output_type": "stream",
          "name": "stderr",
          "text": [
            "WARNING:pyomo.core:Implicitly replacing the Component attribute objective (type=<class 'pyomo.core.base.objective.ScalarObjective'>) on block unknown with a new Component (type=<class 'pyomo.core.base.objective.ScalarObjective'>).\n",
            "This is usually indicative of a modelling error.\n",
            "To avoid this warning, use block.del_component() and block.add_component().\n"
          ]
        },
        {
          "output_type": "stream",
          "name": "stdout",
          "text": [
            "1.2\n",
            "Set parameter WLSAccessID\n",
            "Set parameter WLSSecret\n",
            "Set parameter LicenseID to value 2651433\n",
            "Academic license 2651433 - for non-commercial use only - registered to an___@student.uliege.be\n",
            "Read LP format model from file /tmp/tmpqfy6l7h3.pyomo.lp\n",
            "Reading time = 0.00 seconds\n",
            "x1: 423 rows, 176 columns, 781 nonzeros\n",
            "Gurobi Optimizer version 12.0.3 build v12.0.3rc0 (linux64 - \"Ubuntu 22.04.4 LTS\")\n",
            "\n",
            "CPU model: Intel(R) Xeon(R) CPU @ 2.20GHz, instruction set [SSE2|AVX|AVX2]\n",
            "Thread count: 1 physical cores, 2 logical processors, using up to 2 threads\n",
            "\n",
            "Optimize a model with 423 rows, 176 columns and 781 nonzeros\n",
            "Model fingerprint: 0x66dc92c5\n",
            "Coefficient statistics:\n",
            "  Matrix range     [6e-01, 2e+00]\n",
            "  Objective range  [1e+00, 1e+00]\n",
            "  Bounds range     [0e+00, 0e+00]\n",
            "  RHS range        [6e-02, 2e+01]\n",
            "Presolve removed 352 rows and 100 columns\n",
            "Presolve time: 0.00s\n",
            "Presolved: 71 rows, 76 columns, 290 nonzeros\n",
            "\n",
            "Iteration    Objective       Primal Inf.    Dual Inf.      Time\n",
            "       0    5.5236930e+00   3.146651e+01   0.000000e+00      0s\n",
            "      55    3.2600000e+00   0.000000e+00   0.000000e+00      0s\n",
            "\n",
            "Solved in 55 iterations and 0.00 seconds (0.00 work units)\n",
            "Optimal objective  3.260000000e+00\n"
          ]
        },
        {
          "output_type": "stream",
          "name": "stderr",
          "text": [
            "WARNING:pyomo.core:Implicitly replacing the Component attribute objective (type=<class 'pyomo.core.base.objective.ScalarObjective'>) on block unknown with a new Component (type=<class 'pyomo.core.base.objective.ScalarObjective'>).\n",
            "This is usually indicative of a modelling error.\n",
            "To avoid this warning, use block.del_component() and block.add_component().\n"
          ]
        },
        {
          "output_type": "stream",
          "name": "stdout",
          "text": [
            "1.3\n",
            "Set parameter WLSAccessID\n",
            "Set parameter WLSSecret\n",
            "Set parameter LicenseID to value 2651433\n",
            "Academic license 2651433 - for non-commercial use only - registered to an___@student.uliege.be\n",
            "Read LP format model from file /tmp/tmp1zswhwnd.pyomo.lp\n",
            "Reading time = 0.00 seconds\n",
            "x1: 423 rows, 176 columns, 781 nonzeros\n",
            "Gurobi Optimizer version 12.0.3 build v12.0.3rc0 (linux64 - \"Ubuntu 22.04.4 LTS\")\n",
            "\n",
            "CPU model: Intel(R) Xeon(R) CPU @ 2.20GHz, instruction set [SSE2|AVX|AVX2]\n",
            "Thread count: 1 physical cores, 2 logical processors, using up to 2 threads\n",
            "\n",
            "Optimize a model with 423 rows, 176 columns and 781 nonzeros\n",
            "Model fingerprint: 0xcd29968f\n",
            "Coefficient statistics:\n",
            "  Matrix range     [6e-01, 2e+00]\n",
            "  Objective range  [1e+00, 1e+00]\n",
            "  Bounds range     [0e+00, 0e+00]\n",
            "  RHS range        [6e-02, 2e+01]\n",
            "Presolve removed 352 rows and 100 columns\n",
            "Presolve time: 0.00s\n",
            "Presolved: 71 rows, 76 columns, 290 nonzeros\n",
            "\n",
            "Iteration    Objective       Primal Inf.    Dual Inf.      Time\n",
            "       0    5.5236930e+00   3.146651e+01   0.000000e+00      0s\n",
            "      55    3.0400000e+00   0.000000e+00   0.000000e+00      0s\n",
            "\n",
            "Solved in 55 iterations and 0.00 seconds (0.00 work units)\n",
            "Optimal objective  3.040000000e+00\n",
            "1.4"
          ]
        },
        {
          "output_type": "stream",
          "name": "stderr",
          "text": [
            "WARNING:pyomo.core:Implicitly replacing the Component attribute objective (type=<class 'pyomo.core.base.objective.ScalarObjective'>) on block unknown with a new Component (type=<class 'pyomo.core.base.objective.ScalarObjective'>).\n",
            "This is usually indicative of a modelling error.\n",
            "To avoid this warning, use block.del_component() and block.add_component().\n"
          ]
        },
        {
          "output_type": "stream",
          "name": "stdout",
          "text": [
            "\n",
            "Set parameter WLSAccessID\n",
            "Set parameter WLSSecret\n",
            "Set parameter LicenseID to value 2651433\n",
            "Academic license 2651433 - for non-commercial use only - registered to an___@student.uliege.be\n",
            "Read LP format model from file /tmp/tmphy92zl9w.pyomo.lp\n",
            "Reading time = 0.00 seconds\n",
            "x1: 423 rows, 176 columns, 781 nonzeros\n",
            "Gurobi Optimizer version 12.0.3 build v12.0.3rc0 (linux64 - \"Ubuntu 22.04.4 LTS\")\n",
            "\n",
            "CPU model: Intel(R) Xeon(R) CPU @ 2.20GHz, instruction set [SSE2|AVX|AVX2]\n",
            "Thread count: 1 physical cores, 2 logical processors, using up to 2 threads\n",
            "\n",
            "Optimize a model with 423 rows, 176 columns and 781 nonzeros\n",
            "Model fingerprint: 0xec3c0998\n",
            "Coefficient statistics:\n",
            "  Matrix range     [6e-01, 2e+00]\n",
            "  Objective range  [1e+00, 1e+00]\n",
            "  Bounds range     [0e+00, 0e+00]\n",
            "  RHS range        [6e-02, 2e+01]\n",
            "Presolve removed 352 rows and 100 columns\n",
            "Presolve time: 0.00s\n",
            "Presolved: 71 rows, 76 columns, 290 nonzeros\n",
            "\n",
            "Iteration    Objective       Primal Inf.    Dual Inf.      Time\n",
            "       0    5.5236930e+00   3.146651e+01   0.000000e+00      0s\n",
            "      55    2.8200000e+00   0.000000e+00   0.000000e+00      0s\n",
            "\n",
            "Solved in 55 iterations and 0.00 seconds (0.00 work units)\n",
            "Optimal objective  2.820000000e+00\n",
            "1.5"
          ]
        },
        {
          "output_type": "stream",
          "name": "stderr",
          "text": [
            "WARNING:pyomo.core:Implicitly replacing the Component attribute objective (type=<class 'pyomo.core.base.objective.ScalarObjective'>) on block unknown with a new Component (type=<class 'pyomo.core.base.objective.ScalarObjective'>).\n",
            "This is usually indicative of a modelling error.\n",
            "To avoid this warning, use block.del_component() and block.add_component().\n"
          ]
        },
        {
          "output_type": "stream",
          "name": "stdout",
          "text": [
            "\n",
            "Set parameter WLSAccessID\n",
            "Set parameter WLSSecret\n",
            "Set parameter LicenseID to value 2651433\n",
            "Academic license 2651433 - for non-commercial use only - registered to an___@student.uliege.be\n",
            "Read LP format model from file /tmp/tmpx9f3qu5y.pyomo.lp\n",
            "Reading time = 0.00 seconds\n",
            "x1: 423 rows, 176 columns, 781 nonzeros\n",
            "Gurobi Optimizer version 12.0.3 build v12.0.3rc0 (linux64 - \"Ubuntu 22.04.4 LTS\")\n",
            "\n",
            "CPU model: Intel(R) Xeon(R) CPU @ 2.20GHz, instruction set [SSE2|AVX|AVX2]\n",
            "Thread count: 1 physical cores, 2 logical processors, using up to 2 threads\n",
            "\n",
            "Optimize a model with 423 rows, 176 columns and 781 nonzeros\n",
            "Model fingerprint: 0x852dd035\n",
            "Coefficient statistics:\n",
            "  Matrix range     [6e-01, 2e+00]\n",
            "  Objective range  [1e+00, 2e+00]\n",
            "  Bounds range     [0e+00, 0e+00]\n",
            "  RHS range        [6e-02, 2e+01]\n",
            "Presolve removed 352 rows and 100 columns\n",
            "Presolve time: 0.00s\n",
            "Presolved: 71 rows, 76 columns, 290 nonzeros\n",
            "\n",
            "Iteration    Objective       Primal Inf.    Dual Inf.      Time\n",
            "       0    5.5236930e+00   3.146651e+01   0.000000e+00      0s\n",
            "      55    2.6000000e+00   0.000000e+00   0.000000e+00      0s\n",
            "\n",
            "Solved in 55 iterations and 0.00 seconds (0.00 work units)\n",
            "Optimal objective  2.600000000e+00\n"
          ]
        },
        {
          "output_type": "stream",
          "name": "stderr",
          "text": [
            "WARNING:pyomo.core:Implicitly replacing the Component attribute objective (type=<class 'pyomo.core.base.objective.ScalarObjective'>) on block unknown with a new Component (type=<class 'pyomo.core.base.objective.ScalarObjective'>).\n",
            "This is usually indicative of a modelling error.\n",
            "To avoid this warning, use block.del_component() and block.add_component().\n"
          ]
        },
        {
          "output_type": "stream",
          "name": "stdout",
          "text": [
            "1.6\n",
            "Set parameter WLSAccessID\n",
            "Set parameter WLSSecret\n",
            "Set parameter LicenseID to value 2651433\n",
            "Academic license 2651433 - for non-commercial use only - registered to an___@student.uliege.be\n",
            "Read LP format model from file /tmp/tmpp0mo8eq2.pyomo.lp\n",
            "Reading time = 0.00 seconds\n",
            "x1: 423 rows, 176 columns, 781 nonzeros\n",
            "Gurobi Optimizer version 12.0.3 build v12.0.3rc0 (linux64 - \"Ubuntu 22.04.4 LTS\")\n",
            "\n",
            "CPU model: Intel(R) Xeon(R) CPU @ 2.20GHz, instruction set [SSE2|AVX|AVX2]\n",
            "Thread count: 1 physical cores, 2 logical processors, using up to 2 threads\n",
            "\n",
            "Optimize a model with 423 rows, 176 columns and 781 nonzeros\n",
            "Model fingerprint: 0x6039aa14\n",
            "Coefficient statistics:\n",
            "  Matrix range     [6e-01, 2e+00]\n",
            "  Objective range  [1e+00, 2e+00]\n",
            "  Bounds range     [0e+00, 0e+00]\n",
            "  RHS range        [6e-02, 2e+01]\n",
            "Presolve removed 352 rows and 100 columns\n",
            "Presolve time: 0.00s\n",
            "Presolved: 71 rows, 76 columns, 290 nonzeros\n",
            "\n",
            "Iteration    Objective       Primal Inf.    Dual Inf.      Time\n",
            "       0    5.5236930e+00   3.146651e+01   0.000000e+00      0s\n",
            "      55    2.3800000e+00   0.000000e+00   0.000000e+00      0s\n",
            "\n",
            "Solved in 55 iterations and 0.00 seconds (0.00 work units)\n",
            "Optimal objective  2.380000000e+00\n"
          ]
        },
        {
          "output_type": "stream",
          "name": "stderr",
          "text": [
            "WARNING:pyomo.core:Implicitly replacing the Component attribute objective (type=<class 'pyomo.core.base.objective.ScalarObjective'>) on block unknown with a new Component (type=<class 'pyomo.core.base.objective.ScalarObjective'>).\n",
            "This is usually indicative of a modelling error.\n",
            "To avoid this warning, use block.del_component() and block.add_component().\n"
          ]
        },
        {
          "output_type": "stream",
          "name": "stdout",
          "text": [
            "1.7\n",
            "Set parameter WLSAccessID\n",
            "Set parameter WLSSecret\n",
            "Set parameter LicenseID to value 2651433\n",
            "Academic license 2651433 - for non-commercial use only - registered to an___@student.uliege.be\n",
            "Read LP format model from file /tmp/tmp88i51k8p.pyomo.lp\n",
            "Reading time = 0.00 seconds\n",
            "x1: 423 rows, 176 columns, 781 nonzeros\n",
            "Gurobi Optimizer version 12.0.3 build v12.0.3rc0 (linux64 - \"Ubuntu 22.04.4 LTS\")\n",
            "\n",
            "CPU model: Intel(R) Xeon(R) CPU @ 2.20GHz, instruction set [SSE2|AVX|AVX2]\n",
            "Thread count: 1 physical cores, 2 logical processors, using up to 2 threads\n",
            "\n",
            "Optimize a model with 423 rows, 176 columns and 781 nonzeros\n",
            "Model fingerprint: 0x783793e6\n",
            "Coefficient statistics:\n",
            "  Matrix range     [6e-01, 2e+00]\n",
            "  Objective range  [1e+00, 2e+00]\n",
            "  Bounds range     [0e+00, 0e+00]\n",
            "  RHS range        [6e-02, 2e+01]\n",
            "Presolve removed 352 rows and 100 columns\n",
            "Presolve time: 0.00s\n",
            "Presolved: 71 rows, 76 columns, 290 nonzeros\n",
            "\n",
            "Iteration    Objective       Primal Inf.    Dual Inf.      Time\n",
            "       0    5.5236930e+00   3.146651e+01   0.000000e+00      0s\n",
            "      55    2.1600000e+00   0.000000e+00   0.000000e+00      0s\n",
            "\n",
            "Solved in 55 iterations and 0.00 seconds (0.00 work units)\n",
            "Optimal objective  2.160000000e+00\n",
            "1.8\n"
          ]
        },
        {
          "output_type": "stream",
          "name": "stderr",
          "text": [
            "WARNING:pyomo.core:Implicitly replacing the Component attribute objective (type=<class 'pyomo.core.base.objective.ScalarObjective'>) on block unknown with a new Component (type=<class 'pyomo.core.base.objective.ScalarObjective'>).\n",
            "This is usually indicative of a modelling error.\n",
            "To avoid this warning, use block.del_component() and block.add_component().\n"
          ]
        },
        {
          "output_type": "stream",
          "name": "stdout",
          "text": [
            "Set parameter WLSAccessID\n",
            "Set parameter WLSSecret\n",
            "Set parameter LicenseID to value 2651433\n",
            "Academic license 2651433 - for non-commercial use only - registered to an___@student.uliege.be\n",
            "Read LP format model from file /tmp/tmp51a5dao6.pyomo.lp\n",
            "Reading time = 0.00 seconds\n",
            "x1: 423 rows, 176 columns, 781 nonzeros\n",
            "Gurobi Optimizer version 12.0.3 build v12.0.3rc0 (linux64 - \"Ubuntu 22.04.4 LTS\")\n",
            "\n",
            "CPU model: Intel(R) Xeon(R) CPU @ 2.20GHz, instruction set [SSE2|AVX|AVX2]\n",
            "Thread count: 1 physical cores, 2 logical processors, using up to 2 threads\n",
            "\n",
            "Optimize a model with 423 rows, 176 columns and 781 nonzeros\n",
            "Model fingerprint: 0xdd1c7cec\n",
            "Coefficient statistics:\n",
            "  Matrix range     [6e-01, 2e+00]\n",
            "  Objective range  [1e+00, 2e+00]\n",
            "  Bounds range     [0e+00, 0e+00]\n",
            "  RHS range        [6e-02, 2e+01]\n",
            "Presolve removed 352 rows and 100 columns\n",
            "Presolve time: 0.00s\n",
            "Presolved: 71 rows, 76 columns, 290 nonzeros\n",
            "\n",
            "Iteration    Objective       Primal Inf.    Dual Inf.      Time\n",
            "       0    5.5236930e+00   3.146651e+01   0.000000e+00      0s\n",
            "      55    1.9400000e+00   0.000000e+00   0.000000e+00      0s\n",
            "\n",
            "Solved in 55 iterations and 0.00 seconds (0.00 work units)\n",
            "Optimal objective  1.940000000e+00\n"
          ]
        },
        {
          "output_type": "stream",
          "name": "stderr",
          "text": [
            "WARNING:pyomo.core:Implicitly replacing the Component attribute objective (type=<class 'pyomo.core.base.objective.ScalarObjective'>) on block unknown with a new Component (type=<class 'pyomo.core.base.objective.ScalarObjective'>).\n",
            "This is usually indicative of a modelling error.\n",
            "To avoid this warning, use block.del_component() and block.add_component().\n"
          ]
        },
        {
          "output_type": "stream",
          "name": "stdout",
          "text": [
            "1.9\n",
            "Set parameter WLSAccessID\n",
            "Set parameter WLSSecret\n",
            "Set parameter LicenseID to value 2651433\n",
            "Academic license 2651433 - for non-commercial use only - registered to an___@student.uliege.be\n",
            "Read LP format model from file /tmp/tmp1khwy_6e.pyomo.lp\n",
            "Reading time = 0.00 seconds\n",
            "x1: 423 rows, 176 columns, 781 nonzeros\n",
            "Gurobi Optimizer version 12.0.3 build v12.0.3rc0 (linux64 - \"Ubuntu 22.04.4 LTS\")\n",
            "\n",
            "CPU model: Intel(R) Xeon(R) CPU @ 2.20GHz, instruction set [SSE2|AVX|AVX2]\n",
            "Thread count: 1 physical cores, 2 logical processors, using up to 2 threads\n",
            "\n",
            "Optimize a model with 423 rows, 176 columns and 781 nonzeros\n",
            "Model fingerprint: 0x00674208\n",
            "Coefficient statistics:\n",
            "  Matrix range     [6e-01, 2e+00]\n",
            "  Objective range  [1e+00, 2e+00]\n",
            "  Bounds range     [0e+00, 0e+00]\n",
            "  RHS range        [6e-02, 2e+01]\n",
            "Presolve removed 352 rows and 100 columns\n",
            "Presolve time: 0.00s\n",
            "Presolved: 71 rows, 76 columns, 290 nonzeros\n",
            "\n",
            "Iteration    Objective       Primal Inf.    Dual Inf.      Time\n",
            "       0    5.5236930e+00   3.146651e+01   0.000000e+00      0s\n",
            "      55    1.7200000e+00   0.000000e+00   0.000000e+00      0s\n",
            "\n",
            "Solved in 55 iterations and 0.00 seconds (0.00 work units)\n",
            "Optimal objective  1.720000000e+00\n",
            "1.95"
          ]
        },
        {
          "output_type": "stream",
          "name": "stderr",
          "text": [
            "WARNING:pyomo.core:Implicitly replacing the Component attribute objective (type=<class 'pyomo.core.base.objective.ScalarObjective'>) on block unknown with a new Component (type=<class 'pyomo.core.base.objective.ScalarObjective'>).\n",
            "This is usually indicative of a modelling error.\n",
            "To avoid this warning, use block.del_component() and block.add_component().\n"
          ]
        },
        {
          "output_type": "stream",
          "name": "stdout",
          "text": [
            "\n",
            "Set parameter WLSAccessID\n",
            "Set parameter WLSSecret\n",
            "Set parameter LicenseID to value 2651433\n",
            "Academic license 2651433 - for non-commercial use only - registered to an___@student.uliege.be\n",
            "Read LP format model from file /tmp/tmph5wxpibg.pyomo.lp\n",
            "Reading time = 0.00 seconds\n",
            "x1: 423 rows, 176 columns, 781 nonzeros\n",
            "Gurobi Optimizer version 12.0.3 build v12.0.3rc0 (linux64 - \"Ubuntu 22.04.4 LTS\")\n",
            "\n",
            "CPU model: Intel(R) Xeon(R) CPU @ 2.20GHz, instruction set [SSE2|AVX|AVX2]\n",
            "Thread count: 1 physical cores, 2 logical processors, using up to 2 threads\n",
            "\n",
            "Optimize a model with 423 rows, 176 columns and 781 nonzeros\n",
            "Model fingerprint: 0xcb7ff9f4\n",
            "Coefficient statistics:\n",
            "  Matrix range     [6e-01, 2e+00]\n",
            "  Objective range  [1e+00, 2e+00]\n",
            "  Bounds range     [0e+00, 0e+00]\n",
            "  RHS range        [6e-02, 2e+01]\n",
            "Presolve removed 352 rows and 100 columns\n",
            "Presolve time: 0.00s\n",
            "Presolved: 71 rows, 76 columns, 290 nonzeros\n",
            "\n",
            "Iteration    Objective       Primal Inf.    Dual Inf.      Time\n",
            "       0    5.5236930e+00   3.146651e+01   0.000000e+00      0s\n",
            "      55    1.6100000e+00   0.000000e+00   0.000000e+00      0s\n",
            "\n",
            "Solved in 55 iterations and 0.00 seconds (0.00 work units)\n",
            "Optimal objective  1.610000000e+00\n"
          ]
        },
        {
          "output_type": "stream",
          "name": "stderr",
          "text": [
            "WARNING:pyomo.core:Implicitly replacing the Component attribute objective (type=<class 'pyomo.core.base.objective.ScalarObjective'>) on block unknown with a new Component (type=<class 'pyomo.core.base.objective.ScalarObjective'>).\n",
            "This is usually indicative of a modelling error.\n",
            "To avoid this warning, use block.del_component() and block.add_component().\n"
          ]
        },
        {
          "output_type": "stream",
          "name": "stdout",
          "text": [
            "2\n",
            "Set parameter WLSAccessID\n",
            "Set parameter WLSSecret\n",
            "Set parameter LicenseID to value 2651433\n",
            "Academic license 2651433 - for non-commercial use only - registered to an___@student.uliege.be\n",
            "Read LP format model from file /tmp/tmps11s26ke.pyomo.lp\n",
            "Reading time = 0.00 seconds\n",
            "x1: 423 rows, 176 columns, 781 nonzeros\n",
            "Gurobi Optimizer version 12.0.3 build v12.0.3rc0 (linux64 - \"Ubuntu 22.04.4 LTS\")\n",
            "\n",
            "CPU model: Intel(R) Xeon(R) CPU @ 2.20GHz, instruction set [SSE2|AVX|AVX2]\n",
            "Thread count: 1 physical cores, 2 logical processors, using up to 2 threads\n",
            "\n",
            "Optimize a model with 423 rows, 176 columns and 781 nonzeros\n",
            "Model fingerprint: 0x8bcfbe3c\n",
            "Coefficient statistics:\n",
            "  Matrix range     [6e-01, 2e+00]\n",
            "  Objective range  [1e+00, 2e+00]\n",
            "  Bounds range     [0e+00, 0e+00]\n",
            "  RHS range        [6e-02, 2e+01]\n",
            "Presolve removed 352 rows and 100 columns\n",
            "Presolve time: 0.00s\n",
            "Presolved: 71 rows, 76 columns, 290 nonzeros\n",
            "\n",
            "Iteration    Objective       Primal Inf.    Dual Inf.      Time\n",
            "       0    5.5236930e+00   3.146651e+01   0.000000e+00      0s\n",
            "      59    1.5000000e+00   0.000000e+00   0.000000e+00      0s\n",
            "\n",
            "Solved in 59 iterations and 0.00 seconds (0.00 work units)\n",
            "Optimal objective  1.500000000e+00\n"
          ]
        },
        {
          "output_type": "stream",
          "name": "stderr",
          "text": [
            "WARNING:pyomo.core:Implicitly replacing the Component attribute objective (type=<class 'pyomo.core.base.objective.ScalarObjective'>) on block unknown with a new Component (type=<class 'pyomo.core.base.objective.ScalarObjective'>).\n",
            "This is usually indicative of a modelling error.\n",
            "To avoid this warning, use block.del_component() and block.add_component().\n"
          ]
        },
        {
          "output_type": "stream",
          "name": "stdout",
          "text": [
            "2.05\n",
            "Set parameter WLSAccessID\n",
            "Set parameter WLSSecret\n",
            "Set parameter LicenseID to value 2651433\n",
            "Academic license 2651433 - for non-commercial use only - registered to an___@student.uliege.be\n",
            "Read LP format model from file /tmp/tmpptf6vhk7.pyomo.lp\n",
            "Reading time = 0.00 seconds\n",
            "x1: 423 rows, 176 columns, 781 nonzeros\n",
            "Gurobi Optimizer version 12.0.3 build v12.0.3rc0 (linux64 - \"Ubuntu 22.04.4 LTS\")\n",
            "\n",
            "CPU model: Intel(R) Xeon(R) CPU @ 2.20GHz, instruction set [SSE2|AVX|AVX2]\n",
            "Thread count: 1 physical cores, 2 logical processors, using up to 2 threads\n",
            "\n",
            "Optimize a model with 423 rows, 176 columns and 781 nonzeros\n",
            "Model fingerprint: 0x7385afc6\n",
            "Coefficient statistics:\n",
            "  Matrix range     [6e-01, 2e+00]\n",
            "  Objective range  [1e+00, 2e+00]\n",
            "  Bounds range     [0e+00, 0e+00]\n",
            "  RHS range        [6e-02, 2e+01]\n",
            "Presolve removed 352 rows and 100 columns\n",
            "Presolve time: 0.00s\n",
            "Presolved: 71 rows, 76 columns, 290 nonzeros\n",
            "\n",
            "Iteration    Objective       Primal Inf.    Dual Inf.      Time\n",
            "       0    5.5236930e+00   3.146651e+01   0.000000e+00      0s\n",
            "      52    1.5000000e+00   0.000000e+00   0.000000e+00      0s\n",
            "\n",
            "Solved in 52 iterations and 0.00 seconds (0.00 work units)\n",
            "Optimal objective  1.500000000e+00\n"
          ]
        },
        {
          "output_type": "stream",
          "name": "stderr",
          "text": [
            "WARNING:pyomo.core:Implicitly replacing the Component attribute objective (type=<class 'pyomo.core.base.objective.ScalarObjective'>) on block unknown with a new Component (type=<class 'pyomo.core.base.objective.ScalarObjective'>).\n",
            "This is usually indicative of a modelling error.\n",
            "To avoid this warning, use block.del_component() and block.add_component().\n"
          ]
        },
        {
          "output_type": "stream",
          "name": "stdout",
          "text": [
            "2.1\n",
            "Set parameter WLSAccessID\n",
            "Set parameter WLSSecret\n",
            "Set parameter LicenseID to value 2651433\n",
            "Academic license 2651433 - for non-commercial use only - registered to an___@student.uliege.be\n",
            "Read LP format model from file /tmp/tmpe1ux5pnf.pyomo.lp\n",
            "Reading time = 0.00 seconds\n",
            "x1: 423 rows, 176 columns, 781 nonzeros\n",
            "Gurobi Optimizer version 12.0.3 build v12.0.3rc0 (linux64 - \"Ubuntu 22.04.4 LTS\")\n",
            "\n",
            "CPU model: Intel(R) Xeon(R) CPU @ 2.20GHz, instruction set [SSE2|AVX|AVX2]\n",
            "Thread count: 1 physical cores, 2 logical processors, using up to 2 threads\n",
            "\n",
            "Optimize a model with 423 rows, 176 columns and 781 nonzeros\n",
            "Model fingerprint: 0xde3cc6db\n",
            "Coefficient statistics:\n",
            "  Matrix range     [6e-01, 2e+00]\n",
            "  Objective range  [1e+00, 2e+00]\n",
            "  Bounds range     [0e+00, 0e+00]\n",
            "  RHS range        [6e-02, 2e+01]\n",
            "Presolve removed 352 rows and 100 columns\n",
            "Presolve time: 0.01s\n",
            "Presolved: 71 rows, 76 columns, 290 nonzeros\n",
            "\n",
            "Iteration    Objective       Primal Inf.    Dual Inf.      Time\n",
            "       0    5.5236930e+00   3.146651e+01   0.000000e+00      0s\n",
            "      52    1.5000000e+00   0.000000e+00   0.000000e+00      0s\n",
            "\n",
            "Solved in 52 iterations and 0.01 seconds (0.00 work units)\n",
            "Optimal objective  1.500000000e+00\n",
            "2.2\n"
          ]
        },
        {
          "output_type": "stream",
          "name": "stderr",
          "text": [
            "WARNING:pyomo.core:Implicitly replacing the Component attribute objective (type=<class 'pyomo.core.base.objective.ScalarObjective'>) on block unknown with a new Component (type=<class 'pyomo.core.base.objective.ScalarObjective'>).\n",
            "This is usually indicative of a modelling error.\n",
            "To avoid this warning, use block.del_component() and block.add_component().\n"
          ]
        },
        {
          "output_type": "stream",
          "name": "stdout",
          "text": [
            "Set parameter WLSAccessID\n",
            "Set parameter WLSSecret\n",
            "Set parameter LicenseID to value 2651433\n",
            "Academic license 2651433 - for non-commercial use only - registered to an___@student.uliege.be\n",
            "Read LP format model from file /tmp/tmp7tdnrh1c.pyomo.lp\n",
            "Reading time = 0.00 seconds\n",
            "x1: 423 rows, 176 columns, 781 nonzeros\n",
            "Gurobi Optimizer version 12.0.3 build v12.0.3rc0 (linux64 - \"Ubuntu 22.04.4 LTS\")\n",
            "\n",
            "CPU model: Intel(R) Xeon(R) CPU @ 2.20GHz, instruction set [SSE2|AVX|AVX2]\n",
            "Thread count: 1 physical cores, 2 logical processors, using up to 2 threads\n",
            "\n",
            "Optimize a model with 423 rows, 176 columns and 781 nonzeros\n",
            "Model fingerprint: 0xf8bff583\n",
            "Coefficient statistics:\n",
            "  Matrix range     [6e-01, 2e+00]\n",
            "  Objective range  [1e+00, 2e+00]\n",
            "  Bounds range     [0e+00, 0e+00]\n",
            "  RHS range        [6e-02, 2e+01]\n",
            "Presolve removed 352 rows and 100 columns\n",
            "Presolve time: 0.00s\n",
            "Presolved: 71 rows, 76 columns, 290 nonzeros\n",
            "\n",
            "Iteration    Objective       Primal Inf.    Dual Inf.      Time\n",
            "       0    5.5236930e+00   3.146651e+01   0.000000e+00      0s\n",
            "      52    1.5000000e+00   0.000000e+00   0.000000e+00      0s\n",
            "\n",
            "Solved in 52 iterations and 0.00 seconds (0.00 work units)\n",
            "Optimal objective  1.500000000e+00\n"
          ]
        },
        {
          "output_type": "stream",
          "name": "stderr",
          "text": [
            "WARNING:pyomo.core:Implicitly replacing the Component attribute objective (type=<class 'pyomo.core.base.objective.ScalarObjective'>) on block unknown with a new Component (type=<class 'pyomo.core.base.objective.ScalarObjective'>).\n",
            "This is usually indicative of a modelling error.\n",
            "To avoid this warning, use block.del_component() and block.add_component().\n"
          ]
        },
        {
          "output_type": "stream",
          "name": "stdout",
          "text": [
            "2.3\n",
            "Set parameter WLSAccessID\n",
            "Set parameter WLSSecret\n",
            "Set parameter LicenseID to value 2651433\n",
            "Academic license 2651433 - for non-commercial use only - registered to an___@student.uliege.be\n",
            "Read LP format model from file /tmp/tmpei8n_p_c.pyomo.lp\n",
            "Reading time = 0.00 seconds\n",
            "x1: 423 rows, 176 columns, 781 nonzeros\n",
            "Gurobi Optimizer version 12.0.3 build v12.0.3rc0 (linux64 - \"Ubuntu 22.04.4 LTS\")\n",
            "\n",
            "CPU model: Intel(R) Xeon(R) CPU @ 2.20GHz, instruction set [SSE2|AVX|AVX2]\n",
            "Thread count: 1 physical cores, 2 logical processors, using up to 2 threads\n",
            "\n",
            "Optimize a model with 423 rows, 176 columns and 781 nonzeros\n",
            "Model fingerprint: 0x1fc813fc\n",
            "Coefficient statistics:\n",
            "  Matrix range     [6e-01, 2e+00]\n",
            "  Objective range  [1e+00, 2e+00]\n",
            "  Bounds range     [0e+00, 0e+00]\n",
            "  RHS range        [6e-02, 2e+01]\n",
            "Presolve removed 352 rows and 100 columns\n",
            "Presolve time: 0.00s\n",
            "Presolved: 71 rows, 76 columns, 290 nonzeros\n",
            "\n",
            "Iteration    Objective       Primal Inf.    Dual Inf.      Time\n",
            "       0    5.5236930e+00   3.146651e+01   0.000000e+00      0s\n",
            "      52    1.5000000e+00   0.000000e+00   0.000000e+00      0s\n",
            "\n",
            "Solved in 52 iterations and 0.00 seconds (0.00 work units)\n",
            "Optimal objective  1.500000000e+00\n"
          ]
        },
        {
          "output_type": "stream",
          "name": "stderr",
          "text": [
            "WARNING:pyomo.core:Implicitly replacing the Component attribute objective (type=<class 'pyomo.core.base.objective.ScalarObjective'>) on block unknown with a new Component (type=<class 'pyomo.core.base.objective.ScalarObjective'>).\n",
            "This is usually indicative of a modelling error.\n",
            "To avoid this warning, use block.del_component() and block.add_component().\n"
          ]
        },
        {
          "output_type": "stream",
          "name": "stdout",
          "text": [
            "2.4\n",
            "Set parameter WLSAccessID\n",
            "Set parameter WLSSecret\n",
            "Set parameter LicenseID to value 2651433\n",
            "Academic license 2651433 - for non-commercial use only - registered to an___@student.uliege.be\n",
            "Read LP format model from file /tmp/tmpyug2gvos.pyomo.lp\n",
            "Reading time = 0.00 seconds\n",
            "x1: 423 rows, 176 columns, 781 nonzeros\n",
            "Gurobi Optimizer version 12.0.3 build v12.0.3rc0 (linux64 - \"Ubuntu 22.04.4 LTS\")\n",
            "\n",
            "CPU model: Intel(R) Xeon(R) CPU @ 2.20GHz, instruction set [SSE2|AVX|AVX2]\n",
            "Thread count: 1 physical cores, 2 logical processors, using up to 2 threads\n",
            "\n",
            "Optimize a model with 423 rows, 176 columns and 781 nonzeros\n",
            "Model fingerprint: 0x5e385c57\n",
            "Coefficient statistics:\n",
            "  Matrix range     [6e-01, 2e+00]\n",
            "  Objective range  [1e+00, 2e+00]\n",
            "  Bounds range     [0e+00, 0e+00]\n",
            "  RHS range        [6e-02, 2e+01]\n",
            "Presolve removed 352 rows and 100 columns\n",
            "Presolve time: 0.00s\n",
            "Presolved: 71 rows, 76 columns, 290 nonzeros\n",
            "\n",
            "Iteration    Objective       Primal Inf.    Dual Inf.      Time\n",
            "       0    5.5236930e+00   3.146651e+01   0.000000e+00      0s\n",
            "      52    1.5000000e+00   0.000000e+00   0.000000e+00      0s\n",
            "\n",
            "Solved in 52 iterations and 0.00 seconds (0.00 work units)\n",
            "Optimal objective  1.500000000e+00\n",
            "2.5\n"
          ]
        },
        {
          "output_type": "stream",
          "name": "stderr",
          "text": [
            "WARNING:pyomo.core:Implicitly replacing the Component attribute objective (type=<class 'pyomo.core.base.objective.ScalarObjective'>) on block unknown with a new Component (type=<class 'pyomo.core.base.objective.ScalarObjective'>).\n",
            "This is usually indicative of a modelling error.\n",
            "To avoid this warning, use block.del_component() and block.add_component().\n"
          ]
        },
        {
          "output_type": "stream",
          "name": "stdout",
          "text": [
            "Set parameter WLSAccessID\n",
            "Set parameter WLSSecret\n",
            "Set parameter LicenseID to value 2651433\n",
            "Academic license 2651433 - for non-commercial use only - registered to an___@student.uliege.be\n",
            "Read LP format model from file /tmp/tmpscedkkbd.pyomo.lp\n",
            "Reading time = 0.00 seconds\n",
            "x1: 423 rows, 176 columns, 781 nonzeros\n",
            "Gurobi Optimizer version 12.0.3 build v12.0.3rc0 (linux64 - \"Ubuntu 22.04.4 LTS\")\n",
            "\n",
            "CPU model: Intel(R) Xeon(R) CPU @ 2.20GHz, instruction set [SSE2|AVX|AVX2]\n",
            "Thread count: 1 physical cores, 2 logical processors, using up to 2 threads\n",
            "\n",
            "Optimize a model with 423 rows, 176 columns and 781 nonzeros\n",
            "Model fingerprint: 0xf9da414b\n",
            "Coefficient statistics:\n",
            "  Matrix range     [6e-01, 2e+00]\n",
            "  Objective range  [1e+00, 2e+00]\n",
            "  Bounds range     [0e+00, 0e+00]\n",
            "  RHS range        [6e-02, 2e+01]\n",
            "Presolve removed 352 rows and 100 columns\n",
            "Presolve time: 0.00s\n",
            "Presolved: 71 rows, 76 columns, 290 nonzeros\n",
            "\n",
            "Iteration    Objective       Primal Inf.    Dual Inf.      Time\n",
            "       0    5.5236930e+00   3.146651e+01   0.000000e+00      0s\n",
            "      52    1.5000000e+00   0.000000e+00   0.000000e+00      0s\n",
            "\n",
            "Solved in 52 iterations and 0.00 seconds (0.00 work units)\n",
            "Optimal objective  1.500000000e+00\n"
          ]
        },
        {
          "output_type": "stream",
          "name": "stderr",
          "text": [
            "WARNING:pyomo.core:Implicitly replacing the Component attribute objective (type=<class 'pyomo.core.base.objective.ScalarObjective'>) on block unknown with a new Component (type=<class 'pyomo.core.base.objective.ScalarObjective'>).\n",
            "This is usually indicative of a modelling error.\n",
            "To avoid this warning, use block.del_component() and block.add_component().\n"
          ]
        },
        {
          "output_type": "stream",
          "name": "stdout",
          "text": [
            "2.6\n",
            "Set parameter WLSAccessID\n",
            "Set parameter WLSSecret\n",
            "Set parameter LicenseID to value 2651433\n",
            "Academic license 2651433 - for non-commercial use only - registered to an___@student.uliege.be\n",
            "Read LP format model from file /tmp/tmpc_z4cono.pyomo.lp\n",
            "Reading time = 0.00 seconds\n",
            "x1: 423 rows, 176 columns, 781 nonzeros\n",
            "Gurobi Optimizer version 12.0.3 build v12.0.3rc0 (linux64 - \"Ubuntu 22.04.4 LTS\")\n",
            "\n",
            "CPU model: Intel(R) Xeon(R) CPU @ 2.20GHz, instruction set [SSE2|AVX|AVX2]\n",
            "Thread count: 1 physical cores, 2 logical processors, using up to 2 threads\n",
            "\n",
            "Optimize a model with 423 rows, 176 columns and 781 nonzeros\n",
            "Model fingerprint: 0x551ef68e\n",
            "Coefficient statistics:\n",
            "  Matrix range     [6e-01, 2e+00]\n",
            "  Objective range  [1e+00, 3e+00]\n",
            "  Bounds range     [0e+00, 0e+00]\n",
            "  RHS range        [6e-02, 2e+01]\n",
            "Presolve removed 352 rows and 100 columns\n",
            "Presolve time: 0.00s\n",
            "Presolved: 71 rows, 76 columns, 290 nonzeros\n",
            "\n",
            "Iteration    Objective       Primal Inf.    Dual Inf.      Time\n",
            "       0    5.5236930e+00   3.146651e+01   0.000000e+00      0s\n",
            "      52    1.5000000e+00   0.000000e+00   0.000000e+00      0s\n",
            "\n",
            "Solved in 52 iterations and 0.00 seconds (0.00 work units)\n",
            "Optimal objective  1.500000000e+00\n"
          ]
        },
        {
          "output_type": "stream",
          "name": "stderr",
          "text": [
            "WARNING:pyomo.core:Implicitly replacing the Component attribute objective (type=<class 'pyomo.core.base.objective.ScalarObjective'>) on block unknown with a new Component (type=<class 'pyomo.core.base.objective.ScalarObjective'>).\n",
            "This is usually indicative of a modelling error.\n",
            "To avoid this warning, use block.del_component() and block.add_component().\n"
          ]
        },
        {
          "output_type": "stream",
          "name": "stdout",
          "text": [
            "2.7\n",
            "Set parameter WLSAccessID\n",
            "Set parameter WLSSecret\n",
            "Set parameter LicenseID to value 2651433\n",
            "Academic license 2651433 - for non-commercial use only - registered to an___@student.uliege.be\n",
            "Read LP format model from file /tmp/tmpwl18lbr8.pyomo.lp\n",
            "Reading time = 0.00 seconds\n",
            "x1: 423 rows, 176 columns, 781 nonzeros\n",
            "Gurobi Optimizer version 12.0.3 build v12.0.3rc0 (linux64 - \"Ubuntu 22.04.4 LTS\")\n",
            "\n",
            "CPU model: Intel(R) Xeon(R) CPU @ 2.20GHz, instruction set [SSE2|AVX|AVX2]\n",
            "Thread count: 1 physical cores, 2 logical processors, using up to 2 threads\n",
            "\n",
            "Optimize a model with 423 rows, 176 columns and 781 nonzeros\n",
            "Model fingerprint: 0x2d419484\n",
            "Coefficient statistics:\n",
            "  Matrix range     [6e-01, 2e+00]\n",
            "  Objective range  [1e+00, 3e+00]\n",
            "  Bounds range     [0e+00, 0e+00]\n",
            "  RHS range        [6e-02, 2e+01]\n",
            "Presolve removed 352 rows and 100 columns\n",
            "Presolve time: 0.00s\n",
            "Presolved: 71 rows, 76 columns, 290 nonzeros\n",
            "\n",
            "Iteration    Objective       Primal Inf.    Dual Inf.      Time\n",
            "       0    5.5236930e+00   3.146651e+01   0.000000e+00      0s\n",
            "      52    1.5000000e+00   0.000000e+00   0.000000e+00      0s\n",
            "\n",
            "Solved in 52 iterations and 0.00 seconds (0.00 work units)\n",
            "Optimal objective  1.500000000e+00\n"
          ]
        },
        {
          "output_type": "stream",
          "name": "stderr",
          "text": [
            "WARNING:pyomo.core:Implicitly replacing the Component attribute objective (type=<class 'pyomo.core.base.objective.ScalarObjective'>) on block unknown with a new Component (type=<class 'pyomo.core.base.objective.ScalarObjective'>).\n",
            "This is usually indicative of a modelling error.\n",
            "To avoid this warning, use block.del_component() and block.add_component().\n"
          ]
        },
        {
          "output_type": "stream",
          "name": "stdout",
          "text": [
            "2.8\n",
            "Set parameter WLSAccessID\n",
            "Set parameter WLSSecret\n",
            "Set parameter LicenseID to value 2651433\n",
            "Academic license 2651433 - for non-commercial use only - registered to an___@student.uliege.be\n",
            "Read LP format model from file /tmp/tmpwx9gmd1t.pyomo.lp\n",
            "Reading time = 0.00 seconds\n",
            "x1: 423 rows, 176 columns, 781 nonzeros\n",
            "Gurobi Optimizer version 12.0.3 build v12.0.3rc0 (linux64 - \"Ubuntu 22.04.4 LTS\")\n",
            "\n",
            "CPU model: Intel(R) Xeon(R) CPU @ 2.20GHz, instruction set [SSE2|AVX|AVX2]\n",
            "Thread count: 1 physical cores, 2 logical processors, using up to 2 threads\n",
            "\n",
            "Optimize a model with 423 rows, 176 columns and 781 nonzeros\n",
            "Model fingerprint: 0xb4eaccd0\n",
            "Coefficient statistics:\n",
            "  Matrix range     [6e-01, 2e+00]\n",
            "  Objective range  [1e+00, 3e+00]\n",
            "  Bounds range     [0e+00, 0e+00]\n",
            "  RHS range        [6e-02, 2e+01]\n",
            "Presolve removed 352 rows and 100 columns\n",
            "Presolve time: 0.00s\n",
            "Presolved: 71 rows, 76 columns, 290 nonzeros\n",
            "\n",
            "Iteration    Objective       Primal Inf.    Dual Inf.      Time\n",
            "       0    5.5236930e+00   3.146651e+01   0.000000e+00      0s\n",
            "      52    1.5000000e+00   0.000000e+00   0.000000e+00      0s\n",
            "\n",
            "Solved in 52 iterations and 0.00 seconds (0.00 work units)\n",
            "Optimal objective  1.500000000e+00\n",
            "2.9\n"
          ]
        },
        {
          "output_type": "stream",
          "name": "stderr",
          "text": [
            "WARNING:pyomo.core:Implicitly replacing the Component attribute objective (type=<class 'pyomo.core.base.objective.ScalarObjective'>) on block unknown with a new Component (type=<class 'pyomo.core.base.objective.ScalarObjective'>).\n",
            "This is usually indicative of a modelling error.\n",
            "To avoid this warning, use block.del_component() and block.add_component().\n"
          ]
        },
        {
          "output_type": "stream",
          "name": "stdout",
          "text": [
            "Set parameter WLSAccessID\n",
            "Set parameter WLSSecret\n",
            "Set parameter LicenseID to value 2651433\n",
            "Academic license 2651433 - for non-commercial use only - registered to an___@student.uliege.be\n",
            "Read LP format model from file /tmp/tmpuq6af85r.pyomo.lp\n",
            "Reading time = 0.00 seconds\n",
            "x1: 423 rows, 176 columns, 781 nonzeros\n",
            "Gurobi Optimizer version 12.0.3 build v12.0.3rc0 (linux64 - \"Ubuntu 22.04.4 LTS\")\n",
            "\n",
            "CPU model: Intel(R) Xeon(R) CPU @ 2.20GHz, instruction set [SSE2|AVX|AVX2]\n",
            "Thread count: 1 physical cores, 2 logical processors, using up to 2 threads\n",
            "\n",
            "Optimize a model with 423 rows, 176 columns and 781 nonzeros\n",
            "Model fingerprint: 0x35a7acfb\n",
            "Coefficient statistics:\n",
            "  Matrix range     [6e-01, 2e+00]\n",
            "  Objective range  [1e+00, 3e+00]\n",
            "  Bounds range     [0e+00, 0e+00]\n",
            "  RHS range        [6e-02, 2e+01]\n",
            "Presolve removed 352 rows and 100 columns\n",
            "Presolve time: 0.00s\n",
            "Presolved: 71 rows, 76 columns, 290 nonzeros\n",
            "\n",
            "Iteration    Objective       Primal Inf.    Dual Inf.      Time\n",
            "       0    5.5236930e+00   3.146651e+01   0.000000e+00      0s\n",
            "      52    1.5000000e+00   0.000000e+00   0.000000e+00      0s\n",
            "\n",
            "Solved in 52 iterations and 0.00 seconds (0.00 work units)\n",
            "Optimal objective  1.500000000e+00\n"
          ]
        },
        {
          "output_type": "stream",
          "name": "stderr",
          "text": [
            "WARNING:pyomo.core:Implicitly replacing the Component attribute objective (type=<class 'pyomo.core.base.objective.ScalarObjective'>) on block unknown with a new Component (type=<class 'pyomo.core.base.objective.ScalarObjective'>).\n",
            "This is usually indicative of a modelling error.\n",
            "To avoid this warning, use block.del_component() and block.add_component().\n"
          ]
        },
        {
          "output_type": "stream",
          "name": "stdout",
          "text": [
            "3\n",
            "Set parameter WLSAccessID\n",
            "Set parameter WLSSecret\n",
            "Set parameter LicenseID to value 2651433\n",
            "Academic license 2651433 - for non-commercial use only - registered to an___@student.uliege.be\n",
            "Read LP format model from file /tmp/tmp77f1wpic.pyomo.lp\n",
            "Reading time = 0.00 seconds\n",
            "x1: 423 rows, 176 columns, 781 nonzeros\n",
            "Gurobi Optimizer version 12.0.3 build v12.0.3rc0 (linux64 - \"Ubuntu 22.04.4 LTS\")\n",
            "\n",
            "CPU model: Intel(R) Xeon(R) CPU @ 2.20GHz, instruction set [SSE2|AVX|AVX2]\n",
            "Thread count: 1 physical cores, 2 logical processors, using up to 2 threads\n",
            "\n",
            "Optimize a model with 423 rows, 176 columns and 781 nonzeros\n",
            "Model fingerprint: 0xad9733f5\n",
            "Coefficient statistics:\n",
            "  Matrix range     [6e-01, 2e+00]\n",
            "  Objective range  [1e+00, 3e+00]\n",
            "  Bounds range     [0e+00, 0e+00]\n",
            "  RHS range        [6e-02, 2e+01]\n",
            "Presolve removed 352 rows and 100 columns\n",
            "Presolve time: 0.00s\n",
            "Presolved: 71 rows, 76 columns, 290 nonzeros\n",
            "\n",
            "Iteration    Objective       Primal Inf.    Dual Inf.      Time\n",
            "       0    5.5236930e+00   3.146651e+01   0.000000e+00      0s\n",
            "      52    1.5000000e+00   0.000000e+00   0.000000e+00      0s\n",
            "\n",
            "Solved in 52 iterations and 0.00 seconds (0.00 work units)\n",
            "Optimal objective  1.500000000e+00\n"
          ]
        },
        {
          "output_type": "stream",
          "name": "stderr",
          "text": [
            "WARNING:pyomo.core:Implicitly replacing the Component attribute objective (type=<class 'pyomo.core.base.objective.ScalarObjective'>) on block unknown with a new Component (type=<class 'pyomo.core.base.objective.ScalarObjective'>).\n",
            "This is usually indicative of a modelling error.\n",
            "To avoid this warning, use block.del_component() and block.add_component().\n"
          ]
        },
        {
          "output_type": "stream",
          "name": "stdout",
          "text": [
            "3.1\n",
            "Set parameter WLSAccessID\n",
            "Set parameter WLSSecret\n",
            "Set parameter LicenseID to value 2651433\n",
            "Academic license 2651433 - for non-commercial use only - registered to an___@student.uliege.be\n",
            "Read LP format model from file /tmp/tmpbx54jxvi.pyomo.lp\n",
            "Reading time = 0.00 seconds\n",
            "x1: 423 rows, 176 columns, 781 nonzeros\n",
            "Gurobi Optimizer version 12.0.3 build v12.0.3rc0 (linux64 - \"Ubuntu 22.04.4 LTS\")\n",
            "\n",
            "CPU model: Intel(R) Xeon(R) CPU @ 2.20GHz, instruction set [SSE2|AVX|AVX2]\n",
            "Thread count: 1 physical cores, 2 logical processors, using up to 2 threads\n",
            "\n",
            "Optimize a model with 423 rows, 176 columns and 781 nonzeros\n",
            "Model fingerprint: 0xdb610309\n",
            "Coefficient statistics:\n",
            "  Matrix range     [6e-01, 2e+00]\n",
            "  Objective range  [1e+00, 3e+00]\n",
            "  Bounds range     [0e+00, 0e+00]\n",
            "  RHS range        [6e-02, 2e+01]\n",
            "Presolve removed 352 rows and 100 columns\n",
            "Presolve time: 0.00s\n",
            "Presolved: 71 rows, 76 columns, 290 nonzeros\n",
            "\n",
            "Iteration    Objective       Primal Inf.    Dual Inf.      Time\n",
            "       0    5.5236930e+00   3.146651e+01   0.000000e+00      0s\n",
            "      51    1.5000000e+00   0.000000e+00   0.000000e+00      0s\n",
            "\n",
            "Solved in 51 iterations and 0.00 seconds (0.00 work units)\n",
            "Optimal objective  1.500000000e+00\n"
          ]
        },
        {
          "output_type": "stream",
          "name": "stderr",
          "text": [
            "WARNING:pyomo.core:Implicitly replacing the Component attribute objective (type=<class 'pyomo.core.base.objective.ScalarObjective'>) on block unknown with a new Component (type=<class 'pyomo.core.base.objective.ScalarObjective'>).\n",
            "This is usually indicative of a modelling error.\n",
            "To avoid this warning, use block.del_component() and block.add_component().\n"
          ]
        },
        {
          "output_type": "stream",
          "name": "stdout",
          "text": [
            "3.2\n",
            "Set parameter WLSAccessID\n",
            "Set parameter WLSSecret\n",
            "Set parameter LicenseID to value 2651433\n",
            "Academic license 2651433 - for non-commercial use only - registered to an___@student.uliege.be\n",
            "Read LP format model from file /tmp/tmpq7l3tjxl.pyomo.lp\n",
            "Reading time = 0.00 seconds\n",
            "x1: 423 rows, 176 columns, 781 nonzeros\n",
            "Gurobi Optimizer version 12.0.3 build v12.0.3rc0 (linux64 - \"Ubuntu 22.04.4 LTS\")\n",
            "\n",
            "CPU model: Intel(R) Xeon(R) CPU @ 2.20GHz, instruction set [SSE2|AVX|AVX2]\n",
            "Thread count: 1 physical cores, 2 logical processors, using up to 2 threads\n",
            "\n",
            "Optimize a model with 423 rows, 176 columns and 781 nonzeros\n",
            "Model fingerprint: 0xb867ee51\n",
            "Coefficient statistics:\n",
            "  Matrix range     [6e-01, 2e+00]\n",
            "  Objective range  [1e+00, 3e+00]\n",
            "  Bounds range     [0e+00, 0e+00]\n",
            "  RHS range        [6e-02, 2e+01]\n",
            "Presolve removed 352 rows and 100 columns\n",
            "Presolve time: 0.00s\n",
            "Presolved: 71 rows, 76 columns, 290 nonzeros\n",
            "\n",
            "Iteration    Objective       Primal Inf.    Dual Inf.      Time\n",
            "       0    5.5236930e+00   3.146651e+01   0.000000e+00      0s\n",
            "      51    1.5000000e+00   0.000000e+00   0.000000e+00      0s\n",
            "\n",
            "Solved in 51 iterations and 0.00 seconds (0.00 work units)\n",
            "Optimal objective  1.500000000e+00\n"
          ]
        }
      ],
      "source": [
        "A = [0.5,1,1.1,1.2,1.3,1.4,1.5,1.6,1.7,1.8,1.9,1.95,2,2.05,2.1,2.2,2.3,2.4,2.5,2.6,2.7,2.8,2.9,3,3.1,3.2]\n",
        "#A = range(-3, 26)\n",
        "\n",
        "enveloppe_taille = []\n",
        "curtail = []\n",
        "\n",
        "for alpha in A:\n",
        "  print(alpha)\n",
        "  def objective_rule(m):\n",
        "    return  m.tot - alpha*m.O\n",
        "  m.objective = pyo.Objective(rule=objective_rule, sense=pyo.maximize)\n",
        "  params = {\n",
        "    \"WLSACCESSID\": 'efa10779-150a-495c-ab62-6a20ff44c598',\n",
        "    \"WLSSECRET\": 'fa980d94-a6fd-4d7b-aa68-b0e19ddd2e84',\n",
        "    \"LICENSEID\": 2651433,\n",
        "           }\n",
        "  env = gp.Env(params=params)\n",
        "  solver = pyo.SolverFactory('gurobi', env= env)\n",
        "  results = solver.solve(m, tee=True)\n",
        "\n",
        "  # Check the termination condition before accessing results\n",
        "  if results.solver.termination_condition == pyo.TerminationCondition.optimal:\n",
        "      curtail.append(m.O.value)\n",
        "      enveloppe_taille.append(m.tot.value)\n",
        "  else:\n",
        "      # Append None or some indicator for non-optimal results\n",
        "      curtail.append(None)\n",
        "      enveloppe_taille.append(None)"
      ]
    },
    {
      "cell_type": "code",
      "source": [
        "print(enveloppe_taille)\n",
        "print(curtail)"
      ],
      "metadata": {
        "colab": {
          "base_uri": "https://localhost:8080/"
        },
        "id": "1NVontHX56qn",
        "outputId": "21a437eb-a7df-498d-e499-5764b42c4bd0"
      },
      "execution_count": 163,
      "outputs": [
        {
          "output_type": "stream",
          "name": "stdout",
          "text": [
            "[6.0, 6.0, 5.900000000000006, 5.900000000000006, 5.900000000000006, 5.900000000000006, 5.900000000000006, 5.900000000000006, 5.900000000000006, 5.900000000000006, 5.900000000000006, 5.900000000000006, 4.4328800213666835, 1.4999999999999947, 1.4999999999999947, 1.4999999999999947, 1.4999999999999947, 1.4999999999999947, 1.4999999999999947, 1.4999999999999947, 1.4999999999999947, 1.4999999999999947, 1.4999999999999947, 1.4999999999999947, 1.5000000000000173, 1.5000000000000173]\n",
            "[2.299999999999999, 2.3, 2.2, 2.2, 2.2, 2.2, 2.2, 2.2, 2.2, 2.2, 2.2, 2.2, 1.466440010683345, 0.0, 0.0, 0.0, 0.0, 0.0, 0.0, 0.0, 0.0, 0.0, 0.0, 0.0, 0.0, 0.0]\n"
          ]
        }
      ]
    },
    {
      "cell_type": "code",
      "source": [
        "import matplotlib.pyplot as plt\n",
        "import numpy as np\n",
        "\n",
        "# Convert A to a numpy array for easier plotting\n",
        "alpha_values = np.array(A)\n",
        "\n",
        "# Convert lists to numpy arrays, replacing None with NaN for plotting\n",
        "enveloppe_taille_np = np.array(enveloppe_taille, dtype=float)\n",
        "curtail_np = np.array(curtail, dtype=float)\n",
        "\n",
        "\n",
        "plt.figure(figsize=(10, 6))\n",
        "\n",
        "# Plot enveloppe_taille vs alpha\n",
        "plt.plot(alpha_values, enveloppe_taille_np, marker='o', linestyle='-', label='Envelope Volume')\n",
        "\n",
        "# Plot curtail vs alpha\n",
        "plt.plot(alpha_values, curtail_np, marker='x', linestyle='--', label='Curtailment')\n",
        "\n",
        "# Set x-axis to a logarithmic scale\n",
        "#plt.xscale('log')\n",
        "\n",
        "plt.xlabel('Alpha')\n",
        "plt.ylabel('Value (per-unit)')\n",
        "plt.title('Evolution of the volume of the envelope and curtailment as a function of parameter Alpha')\n",
        "plt.legend()\n",
        "plt.grid(True)\n",
        "plt.show()"
      ],
      "metadata": {
        "colab": {
          "base_uri": "https://localhost:8080/",
          "height": 564
        },
        "id": "aoa6t8W0-51-",
        "outputId": "7327d9f6-c577-4ee4-be25-f21885cd2881"
      },
      "execution_count": 165,
      "outputs": [
        {
          "output_type": "display_data",
          "data": {
            "text/plain": [
              "<Figure size 1000x600 with 1 Axes>"
            ],
            "image/png": "[encoded data removed]"
          },
          "metadata": {}
        }
      ]
    },
    {
      "cell_type": "code",
      "execution_count": 77,
      "metadata": {
        "colab": {
          "base_uri": "https://localhost:8080/"
        },
        "id": "Zd4uqbCig5UO",
        "outputId": "967834c9-1f0f-4625-c43f-8719d0c26a83"
      },
      "outputs": [
        {
          "output_type": "stream",
          "name": "stdout",
          "text": [
            "0.0\n",
            "0.0\n",
            "0.2\n",
            "0.2\n",
            "0.5\n",
            "0.5\n"
          ]
        }
      ],
      "source": [
        "print(m.E[0,0,0].value)\n",
        "print(m.E[0,0,1].value)\n",
        "\n",
        "print(m.E[11,0,0].value)\n",
        "print(m.E[11,0,1].value)\n",
        "\n",
        "print(m.E[12,0,0].value)\n",
        "print(m.E[12,0,1].value)"
      ]
    },
    {
      "cell_type": "code",
      "source": [
        "print(m.F[0,11,0,0].value)\n",
        "print(m.F[0,11,0,1].value)"
      ],
      "metadata": {
        "colab": {
          "base_uri": "https://localhost:8080/"
        },
        "id": "NENTSxfa9uvF",
        "outputId": "3ad90da6-42c1-48cf-b7c9-023dbd0487ef"
      },
      "execution_count": 42,
      "outputs": [
        {
          "output_type": "stream",
          "name": "stdout",
          "text": [
            "0.1673502687026484\n",
            "0.16735026870263192\n"
          ]
        }
      ]
    },
    {
      "cell_type": "code",
      "source": [
        "print(m.P_C_set[1,0].value)\n",
        "print(m.P_C_set[1,1].value)\n",
        "\n",
        "print(m.P_C_set[2,0].value)\n",
        "print(m.P_C_set[2,1].value)"
      ],
      "metadata": {
        "id": "IkgOu2o19_zB",
        "colab": {
          "base_uri": "https://localhost:8080/"
        },
        "outputId": "c1a94a83-072d-4c97-8248-7b751a0e962b"
      },
      "execution_count": 78,
      "outputs": [
        {
          "output_type": "stream",
          "name": "stdout",
          "text": [
            "-0.0648\n",
            "-0.7972793616382904\n",
            "0.8648000000000142\n",
            "-1.4027206383617208\n"
          ]
        }
      ]
    },
    {
      "cell_type": "code",
      "source": [
        "print(m.theta[0,0,0].value)\n",
        "print(m.theta[0,0,1].value)\n",
        "\n",
        "print(m.theta[11,0,0].value)\n",
        "print(m.theta[11,0,1].value)"
      ],
      "metadata": {
        "colab": {
          "base_uri": "https://localhost:8080/"
        },
        "id": "CYApfTOsxcQq",
        "outputId": "eeb4e605-9ec9-40fe-e65c-251828d615e2"
      },
      "execution_count": 44,
      "outputs": [
        {
          "output_type": "stream",
          "name": "stdout",
          "text": [
            "-179.24377539400172\n",
            "-179.49376699929044\n",
            "-179.54561834327484\n",
            "-179.6958271554154\n"
          ]
        }
      ]
    },
    {
      "cell_type": "code",
      "execution_count": 166,
      "metadata": {
        "colab": {
          "base_uri": "https://localhost:8080/"
        },
        "id": "_4ZROnYa5l-w",
        "outputId": "288c8485-ed59-4376-8232-9de127b3c5c5"
      },
      "outputs": [
        {
          "output_type": "execute_result",
          "data": {
            "text/plain": [
              "0.0"
            ]
          },
          "metadata": {},
          "execution_count": 166
        }
      ],
      "source": [
        "\n",
        "m.O.value\n"
      ]
    },
    {
      "cell_type": "code",
      "source": [
        "m.aux[1].value"
      ],
      "metadata": {
        "colab": {
          "base_uri": "https://localhost:8080/"
        },
        "id": "YFauH9aNTeF6",
        "outputId": "c3f54846-28ba-464e-dd24-49cd60d8587d"
      },
      "execution_count": 46,
      "outputs": [
        {
          "output_type": "execute_result",
          "data": {
            "text/plain": [
              "0.7324793616382904"
            ]
          },
          "metadata": {},
          "execution_count": 46
        }
      ]
    },
    {
      "cell_type": "code",
      "source": [
        "m.P_C_set[1,0].value"
      ],
      "metadata": {
        "colab": {
          "base_uri": "https://localhost:8080/"
        },
        "id": "39TFnzDwmiqq",
        "outputId": "96b7a040-3b00-40d3-8be7-c6bb01c80575"
      },
      "execution_count": 54,
      "outputs": [
        {
          "output_type": "execute_result",
          "data": {
            "text/plain": [
              "-0.0648"
            ]
          },
          "metadata": {},
          "execution_count": 54
        }
      ]
    },
    {
      "cell_type": "code",
      "source": [
        "m.P_C_set[1,1].value"
      ],
      "metadata": {
        "colab": {
          "base_uri": "https://localhost:8080/"
        },
        "id": "Y15pFmytmlJF",
        "outputId": "5f075b8f-596b-4494-ff7a-ba2711c9395f"
      },
      "execution_count": 53,
      "outputs": [
        {
          "output_type": "execute_result",
          "data": {
            "text/plain": [
              "-0.7972793616382904"
            ]
          },
          "metadata": {},
          "execution_count": 53
        }
      ]
    },
    {
      "cell_type": "code",
      "source": [
        "m.aux[2].value"
      ],
      "metadata": {
        "colab": {
          "base_uri": "https://localhost:8080/"
        },
        "id": "l7xR_m6vdLaj",
        "outputId": "91dea29b-a1c0-4a10-c0b3-29ced25a2b92"
      },
      "execution_count": 52,
      "outputs": [
        {
          "output_type": "execute_result",
          "data": {
            "text/plain": [
              "2.2675206383617352"
            ]
          },
          "metadata": {},
          "execution_count": 52
        }
      ]
    },
    {
      "cell_type": "code",
      "source": [
        "m.P[0].value"
      ],
      "metadata": {
        "colab": {
          "base_uri": "https://localhost:8080/"
        },
        "id": "yCYL-7dT264A",
        "outputId": "da2c55fa-0344-4ff0-c8d6-0b7c3fe3e616"
      },
      "execution_count": 51,
      "outputs": [
        {
          "output_type": "execute_result",
          "data": {
            "text/plain": [
              "0"
            ]
          },
          "metadata": {},
          "execution_count": 51
        }
      ]
    },
    {
      "cell_type": "code",
      "source": [
        "m.P_plus[0,0,1].value"
      ],
      "metadata": {
        "colab": {
          "base_uri": "https://localhost:8080/"
        },
        "id": "bafVltiQb3l1",
        "outputId": "02890517-5645-4ac2-bd26-e4ac9081141f"
      },
      "execution_count": 50,
      "outputs": [
        {
          "output_type": "execute_result",
          "data": {
            "text/plain": [
              "1.5"
            ]
          },
          "metadata": {},
          "execution_count": 50
        }
      ]
    },
    {
      "cell_type": "code",
      "source": [
        "m.P_minus[1,0,1].value"
      ],
      "metadata": {
        "colab": {
          "base_uri": "https://localhost:8080/"
        },
        "id": "h3AgcpVV-f4W",
        "outputId": "cc6117a3-c583-4d5c-d1d6-a4e098ac7a34"
      },
      "execution_count": 49,
      "outputs": [
        {
          "output_type": "execute_result",
          "data": {
            "text/plain": [
              "-0.0648"
            ]
          },
          "metadata": {},
          "execution_count": 49
        }
      ]
    },
    {
      "cell_type": "code",
      "source": [
        "m.P_C_set[2,0].value"
      ],
      "metadata": {
        "colab": {
          "base_uri": "https://localhost:8080/"
        },
        "id": "xl7FypV1Tlrl",
        "outputId": "4068b87a-9b3f-4f32-f131-d4478f2a8c8b"
      },
      "execution_count": 48,
      "outputs": [
        {
          "output_type": "execute_result",
          "data": {
            "text/plain": [
              "0.8648000000000142"
            ]
          },
          "metadata": {},
          "execution_count": 48
        }
      ]
    },
    {
      "cell_type": "code",
      "source": [
        "m.P_C_set[1,1].value"
      ],
      "metadata": {
        "colab": {
          "base_uri": "https://localhost:8080/"
        },
        "id": "5lCcyvYUTtwX",
        "outputId": "ef963523-7b06-4c07-c892-8e0d54a0cecd"
      },
      "execution_count": 47,
      "outputs": [
        {
          "output_type": "execute_result",
          "data": {
            "text/plain": [
              "-0.7972793616382904"
            ]
          },
          "metadata": {},
          "execution_count": 47
        }
      ]
    },
    {
      "cell_type": "code",
      "source": [
        "for (u,v) in m.Lines:\n",
        "  print((u,v))"
      ],
      "metadata": {
        "colab": {
          "base_uri": "https://localhost:8080/"
        },
        "id": "Cz27heJDAltP",
        "outputId": "20daf1a1-056c-4620-a31d-3c6fd082249c"
      },
      "execution_count": 55,
      "outputs": [
        {
          "output_type": "stream",
          "name": "stdout",
          "text": [
            "(0, 1)\n",
            "(0, 2)\n",
            "(0, 11)\n",
            "(0, 12)\n",
            "(1, 2)\n",
            "(11, 1)\n",
            "(12, 2)\n"
          ]
        }
      ]
    },
    {
      "cell_type": "code",
      "source": [
        "# Corrected loop structure to iterate over m.Lines\n",
        "for (u, v) in m.Lines:\n",
        "  for vert_pow in m.i:\n",
        "    for vert_volt in m.j:\n",
        "      print(f\"Flow on line ({u}, {v}) for i={vert_pow}, j={vert_volt}: {m.F[u, v, vert_pow, vert_volt].value}\")"
      ],
      "metadata": {
        "id": "uWWCqNgMmZ9T"
      },
      "execution_count": null,
      "outputs": []
    },
    {
      "cell_type": "code",
      "metadata": {
        "colab": {
          "base_uri": "https://localhost:8080/",
          "height": 859
        },
        "id": "d9217975",
        "outputId": "efb13622-c291-4a2b-d44b-f945677c2f26"
      },
      "source": [
        "def plot_power_flow(m, i, j):\n",
        "    pos = nx.get_node_attributes(G, 'pos')\n",
        "    # Use node indices as labels\n",
        "    labels = {}\n",
        "    label_colors = [] # This is for node colors, will remove this later if needed or set to default\n",
        "    for n in G.nodes():\n",
        "        label_text = f\"{n}\"\n",
        "        if n in m.parents:\n",
        "            # Display parent bounds using the global P_min and P_max parameters\n",
        "            label_text += f\"\\n[{P_min}, {P_max}]\"\n",
        "            # No specific color for label text here, use default\n",
        "            label_colors.append('steelblue') # Default node color based on previous plots\n",
        "        elif n in m.children:\n",
        "            # Display children interval with smaller value first\n",
        "            p_c_values = [m.P_C_set[n, 0].value, m.P_C_set[n, 1].value]\n",
        "            label_text += f\"\\n[{round(min(p_c_values), 4)}, {round(max(p_c_values), 4)}]\"\n",
        "            # We will try to color this text red when drawing labels\n",
        "            label_colors.append('steelblue') # Default node color\n",
        "        else:\n",
        "            label_colors.append('steelblue') # Default node color\n",
        "        labels[n] = label_text\n",
        "\n",
        "\n",
        "    plt.figure(figsize=(12, 8))\n",
        "\n",
        "    edge_colors = []\n",
        "    edge_labels = {}\n",
        "\n",
        "    for u, v in G.edges():\n",
        "        try:\n",
        "            # Correct the sign of the flow value for plotting\n",
        "            flow_value = m.F[u, v, i, j].value\n",
        "            if flow_value is not None:\n",
        "                edge_labels[(u, v)] = f\"{round(flow_value, 4)}\"\n",
        "                if flow_value > 0:\n",
        "                    edge_colors.append('blue')  # Positive flow (now correctly represents flow from u to v)\n",
        "                elif flow_value < 0:\n",
        "                    edge_colors.append('red')  # Negative (reverse) flow (now correctly represents flow from v to u)\n",
        "                else:\n",
        "                    edge_colors.append('gray') # No flow\n",
        "            else:\n",
        "                edge_colors.append('gray') # No flow value\n",
        "        except:\n",
        "            edge_colors.append('gray') # Handle cases where edge might not be in m.F\n",
        "\n",
        "    # Draw the network\n",
        "    nx.draw(\n",
        "        G, pos,\n",
        "        with_labels=False, # Draw labels separately for color control\n",
        "        node_size=1200,\n",
        "        edge_color=edge_colors, # Use the calculated edge colors\n",
        "        edgecolors=\"black\", font_size=8,\n",
        "        alpha=0.85,\n",
        "        node_color = label_colors # Apply node colors\n",
        "    )\n",
        "\n",
        "    # Draw labels with different colors\n",
        "    for n in G.nodes():\n",
        "        x, y = pos[n]\n",
        "        text = labels[n]\n",
        "        if n in m.children:\n",
        "            plt.text(x, y - 0.1, text, fontsize=10, ha='center', va='top', color='red') # Color children interval red\n",
        "        elif n in m.parents:\n",
        "             plt.text(x, y + 0.1, text, fontsize=10, ha='center', va='bottom', color='black') # Color parent bounds black\n",
        "        else:\n",
        "             plt.text(x, y, text, fontsize=8, ha='center', va='center', color='black') # Default color for other labels\n",
        "\n",
        "\n",
        "    nx.draw_networkx_edge_labels(G, pos, edge_labels=edge_labels, font_size=7, label_pos=0.3)\n",
        "\n",
        "    plt.title(f\"Power Flow (per-unit) for i={i}, j={j}, alpha = 3\")\n",
        "    plt.axis(\"equal\")\n",
        "    plt.show()\n",
        "\n",
        "# Example usage (assuming m, i=0, and j=0 are defined)\n",
        "plot_power_flow(m, 0, 1)"
      ],
      "execution_count": 169,
      "outputs": [
        {
          "output_type": "display_data",
          "data": {
            "text/plain": [
              "<Figure size 1200x800 with 1 Axes>"
            ],
            "image/png": "[encoded data removed]"
          },
          "metadata": {}
        }
      ]
    },
    {
      "cell_type": "code",
      "source": [
        "def plot_current_flow(m, i, j):\n",
        "    pos = nx.get_node_attributes(G, 'pos')\n",
        "    # Use node indices as labels\n",
        "    labels = {n: n for n in G.nodes()}\n",
        "\n",
        "    plt.figure(figsize=(12, 8))\n",
        "\n",
        "    edge_colors = []\n",
        "    edge_labels = {}\n",
        "\n",
        "    for u, v in G.edges():\n",
        "        try:\n",
        "            # Get the current value from the model\n",
        "            current_value = m.I[u, v, i, j].value\n",
        "            if current_value is not None:\n",
        "                edge_labels[(u, v)] = f\"{round(current_value, 4)}\"\n",
        "                if current_value > 0:\n",
        "                    edge_colors.append('blue')  # Positive current flow\n",
        "                elif current_value < 0:\n",
        "                    edge_colors.append('red')  # Negative current flow\n",
        "                else:\n",
        "                    edge_colors.append('gray') # No current flow\n",
        "            else:\n",
        "                edge_colors.append('gray') # No current value\n",
        "        except:\n",
        "            edge_colors.append('gray') # Handle cases where edge might not be in m.I\n",
        "\n",
        "    nx.draw(\n",
        "        G, pos,\n",
        "        with_labels=True, labels=labels, # Set with_labels to True and pass node indices as labels\n",
        "        node_size=1200,\n",
        "        edge_color=edge_colors, # Use the calculated edge colors\n",
        "        edgecolors=\"black\", font_size=8,\n",
        "        alpha=0.85\n",
        "    )\n",
        "\n",
        "    nx.draw_networkx_edge_labels(G, pos, edge_labels=edge_labels, font_size=7, label_pos=0.3)\n",
        "\n",
        "    plt.title(f\"Current Flow (per-unit) for i={i}, j={j}\")\n",
        "    plt.axis(\"equal\")\n",
        "    plt.show()\n",
        "\n",
        "# Example usage (assuming m, i=0, and j=0 are defined)\n",
        "plot_current_flow(m, 0, 0)"
      ],
      "metadata": {
        "colab": {
          "base_uri": "https://localhost:8080/",
          "height": 859
        },
        "id": "TUaG88qQmWYJ",
        "outputId": "01521c19-90cd-4b7d-98c5-ba9e3ce6e62f"
      },
      "execution_count": 167,
      "outputs": [
        {
          "output_type": "display_data",
          "data": {
            "text/plain": [
              "<Figure size 1200x800 with 1 Axes>"
            ],
            "image/png": "[encoded data removed]"
          },
          "metadata": {}
        }
      ]
    }
  ],
  "metadata": {
    "colab": {
      "provenance": []
    },
    "kernelspec": {
      "display_name": "Python 3",
      "name": "python3"
    },
    "language_info": {
      "name": "python"
    }
  },
  "nbformat": 4,
  "nbformat_minor": 0
}