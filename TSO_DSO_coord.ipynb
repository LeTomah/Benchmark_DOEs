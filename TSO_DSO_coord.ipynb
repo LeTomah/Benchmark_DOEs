
    {
      "cell_type": "code",
      "source": [
        "import gurobipy as gp\n",
        "import time\n",
        "import pandas as pd\n",
        "import xarray as xr\n",
        "import networkx as nx\n",
        "import matplotlib.pyplot as plt\n",
        "import numpy as np\n",
        "from dataclasses import dataclass\n",
        "import pyomo.environ as pyo\n",
        "import math\n",
        "import pandapower as pp\n",
        "\n",
        "\n",
        "# Create a new graph\n",
        "G = nx.DiGraph()"
      ],
      "metadata": {
        "id": "7E5MxejmZJUb"
      },
      "execution_count": 5,
      "outputs": []
    },
    {
      "cell_type": "code",
      "source": [
        "def create_network():\n",
        "\n",
        "    import pandapower as pp\n",
        "\n",
        "# Crée le réseau\n",
        "    net = pp.create_empty_network()\n",
        "\n",
        "# Bases\n",
        "    Pbase = 100  # MVA\n",
        "    Vbase_high = 110  # kV\n",
        "    Vbase_medium = 20  # kV\n",
        "    Vbase_low = 0.4  # kV\n",
        "\n",
        "# Buses\n",
        "    b0 = pp.create_bus(net, vn_kv=Vbase_high, name=\"Bus grid\", geodata=(0,10))\n",
        "    b1 = pp.create_bus(net, vn_kv=Vbase_high, name=\"DSO 1\", geodata=(5,12))\n",
        "    b2 = pp.create_bus(net, vn_kv=Vbase_high, name=\"DSO 2\", geodata=(5,8))\n",
        "    b3 = pp.create_bus(net, vn_kv=Vbase_medium, name=\"Bus MV_1\", geodata=(10,12))\n",
        "    b4 = pp.create_bus(net, vn_kv=Vbase_medium, name=\"Bus MV_2\", geodata=(10,8))\n",
        "    b5 = pp.create_bus(net, vn_kv=Vbase_low, name=\"Bus LV_1\", geodata=(15,12))\n",
        "    b6 = pp.create_bus(net, vn_kv=Vbase_low, name=\"Bus LV_2\", geodata=(15,8))\n",
        "    b7 = pp.create_bus(net, vn_kv=Vbase_medium, name=\"Bus éolien\", geodata=(10,14))\n",
        "    b8 = pp.create_bus(net, vn_kv=Vbase_medium, name=\"Bus industriel\", geodata=(10,10))\n",
        "    b9 = pp.create_bus(net, vn_kv=Vbase_low, name=\"Bus load\", geodata=(15,14))\n",
        "    b10 = pp.create_bus(net, vn_kv=Vbase_low, name=\"Bus PV\", geodata=(15,10))\n",
        "    b11 = pp.create_bus(net, vn_kv=Vbase_high, name=\"TSO 1\", geodata=(2,12))\n",
        "    b12 = pp.create_bus(net, vn_kv=Vbase_high, name=\"TSO 2\", geodata=(2,8))\n",
        "\n",
        "# Lignes\n",
        "    pp.create_line(net, b0, b1, length_km=12, std_type='149-AL1/24-ST1A 110.0', name=\"line1\")\n",
        "    pp.create_line(net, b1, b2, length_km=10, std_type='149-AL1/24-ST1A 110.0', name=\"line2\")\n",
        "    pp.create_line(net, b0, b2, length_km=10, std_type='149-AL1/24-ST1A 110.0', name=\"line3\")\n",
        "    pp.create_line(net, b3, b7, length_km=0.23, std_type='NA2XS2Y 1x185 RM/25 12/20 kV', name=\"line4\")\n",
        "    pp.create_line(net, b4, b8, length_km=0.3, std_type='NA2XS2Y 1x185 RM/25 12/20 kV', name=\"line5\")\n",
        "    pp.create_line(net, b5, b9, length_km=3, std_type='94-AL1/15-ST1A 0.4', name=\"line6\")\n",
        "    pp.create_line(net, b6, b10, length_km=0.45, std_type='94-AL1/15-ST1A 0.4', name=\"line7\")\n",
        "    pp.create_line(net, b0, b11, length_km=16, std_type='149-AL1/24-ST1A 110.0', name= 'line8')\n",
        "    pp.create_line(net, b11, b1, length_km=24, std_type='149-AL1/24-ST1A 110.0', name= 'line9')\n",
        "    pp.create_line(net, b0, b12, length_km=22, std_type='149-AL1/24-ST1A 110.0', name= 'line10')\n",
        "    pp.create_line(net, b12, b2, length_km=16, std_type='149-AL1/24-ST1A 110.0', name= 'line11')\n",
        "\n",
        "# Transformateurs\n",
        "    pp.create_transformer(net, b1, b3, std_type=\"25 MVA 110/20 kV\", name=\"TR_1\")\n",
        "    pp.create_transformer(net, b2, b4, std_type=\"25 MVA 110/20 kV\", name=\"TR_2\")\n",
        "    pp.create_transformer(net, b3, b5, std_type=\"0.4 MVA 20/0.4 kV\", name=\"TR_3\")\n",
        "    pp.create_transformer(net, b4, b6, std_type=\"0.4 MVA 20/0.4 kV\", name=\"TR_4\")\n",
        "\n",
        "# Éléments de bus\n",
        "    pp.create_ext_grid(net, bus=b0, vm_pu=1.00, name=\"Grid Connection\")\n",
        "    pp.create_load(net, bus=b9, p_mw=0.02, q_mvar=0.02, name=\"Residential Load\")\n",
        "    pp.create_gen(net, bus=b10, p_mw=0.2, vm_pu=1.00, name=\"PV\", max_q_mvar=200, min_q_mvar=0, max_p_mw=300, min_p_mw=0, controllable=False)\n",
        "    pp.create_gen(net, bus=b7, p_mw=6.5, vm_pu=1.0, name=\"Wind Turbine\", controllable=False)\n",
        "    pp.create_load(net, bus=b8, p_mw=6, q_mvar=1.8, name=\"Industry\")\n",
        "    pp.create_load(net, bus=b11, p_mw=20, q_mvar=9, name=\"Datacenter\")\n",
        "    pp.create_load(net, bus=b12, p_mw=50, q_mvar=24, name=\"Big industry\")\n",
        "\n",
        "# Donner accès à net\n",
        "    return net"
      ],
      "metadata": {
        "id": "0CffUDPBZT7m"
      },
      "execution_count": null,
      "outputs": []
    },
    {
      "cell_type": "code",
      "source": [
        "def create_digraph():\n",
        "  net = create_network()\n",
        "\n",
        "  import json\n",
        "  import networkx as nx\n",
        "  import matplotlib.pyplot as plt\n",
        "# 1. Conversion du réseau Pandapower en DiGraph\n",
        "# ================================\n",
        "  G = nx.DiGraph()\n",
        "\n",
        "# Créer les positions à partir de la colonne \"geo\"\n",
        "  pos = {}\n",
        "  for idx, row in net.bus.iterrows():\n",
        "  # Extraire le champ 'geo' qui est une chaîne de caractères représentant un dictionnaire JSON\n",
        "      geo_data = row['geo']\n",
        "\n",
        "  # Convertir la chaîne JSON en un dictionnaire Python\n",
        "      geo_dict = json.loads(geo_data)\n",
        "\n",
        "  # Extraire la liste des coordonnées\n",
        "      coordinates = geo_dict[\"coordinates\"]\n",
        "\n",
        "  # Ajouter les coordonnées dans le dictionnaire pos\n",
        "      pos[idx] = tuple(coordinates)  # Assigner les coordonnées sous forme de tuple\n",
        "\n",
        "# Ajouter les nœuds (avec le nom comme label)\n",
        "  for idx, row in net.bus.iterrows():\n",
        "      G.add_node(idx, label=row[\"name\"], pos=pos[idx])\n",
        "\n",
        "# Ajouter les arêtes pour les lignes\n",
        "  for _, row in net.line.iterrows():\n",
        "      G.add_edge(row[\"from_bus\"], row[\"to_bus\"], type=\"line\", name=row[\"name\"], length=row[\"length_km\"])\n",
        "\n",
        "# Ajouter les arêtes pour les transformateurs\n",
        "  for _, row in net.trafo.iterrows():\n",
        "      G.add_edge(row[\"hv_bus\"], row[\"lv_bus\"], type=\"trafo\", name=row[\"name\"])\n",
        "\n",
        "# Ajouter les générateurs et les charges comme attributs aux nœuds\n",
        "  for _, row in net.gen.iterrows():\n",
        "      G.nodes[row[\"bus\"]][\"type\"] = \"gen\"\n",
        "      G.nodes[row[\"bus\"]][\"gen_name\"] = row[\"name\"]\n",
        "      G.nodes[row[\"bus\"]][\"gen_power\"] = row[\"p_mw\"]\n",
        "\n",
        "  for _, row in net.load.iterrows():\n",
        "      G.nodes[row[\"bus\"]][\"type\"] = \"load\"\n",
        "      G.nodes[row[\"bus\"]][\"load_name\"] = row[\"name\"]\n",
        "      G.nodes[row[\"bus\"]][\"load_power\"] = row[\"p_mw\"]\n",
        "\n",
        "  for _, row in net.ext_grid.iterrows():\n",
        "      G.nodes[row[\"bus\"]][\"type\"] = \"ext_grid\"\n",
        "      G.nodes[row[\"bus\"]][\"grid_name\"] = row[\"name\"]\n",
        "\n",
        "# 2. Ajout des puissances consommées et injectées aux nœuds\n",
        "# ================================\n",
        "  nx.set_node_attributes(G, 0.0, \"P_load\")\n",
        "  nx.set_node_attributes(G, 0.0, \"P_gen\")\n",
        "\n",
        "# Charges\n",
        "  for _, row in net.load.iterrows():\n",
        "      G.nodes[row[\"bus\"]][\"P_load\"] += row[\"p_mw\"]\n",
        "      print(row)\n",
        "\n",
        "# Générateurs\n",
        "  for _, row in net.gen.iterrows():\n",
        "      G.nodes[row[\"bus\"]][\"P_gen\"] += row[\"p_mw\"]\n",
        "\n",
        "# Source externe\n",
        "  for _, row in net.ext_grid.iterrows():\n",
        "      G.nodes[row[\"bus\"]][\"P_gen\"] += 999.0  # grande valeur symbolique\n",
        "\n",
        "# Calcul de P_net\n",
        "  for n in G.nodes:\n",
        "      G.nodes[n][\"P_net\"] = G.nodes[n][\"P_gen\"] - G.nodes[n][\"P_load\"]\n",
        "\n",
        "# 3. Préparer les couleurs des nœuds en fonction de P_net\n",
        "# ================================\n",
        "  node_colors = []\n",
        "  for n, data in G.nodes(data=True):\n",
        "      if data[\"P_net\"] > 0:\n",
        "          node_colors.append(\"green\")   # producteur\n",
        "      elif data[\"P_net\"] < 0:\n",
        "          node_colors.append(\"red\")     # consommateur\n",
        "      else:\n",
        "          node_colors.append(\"gray\")    # neutre\n",
        "\n",
        "# 4. Préparer les labels : Nom + P_net\n",
        "# ================================\n",
        "  labels = {n: f\"{data['label']}\\nP={round(data['P_net'],2)}MW\"\n",
        "            for n, data in G.nodes(data=True)}\n",
        "\n",
        "# 5. Fonction d'affichage\n",
        "# ================================\n",
        "  def plot_network():\n",
        "      pos = nx.get_node_attributes(G, 'pos')\n",
        "\n",
        "      plt.figure(figsize=(12, 8))\n",
        "      nx.draw(\n",
        "          G, pos,\n",
        "          with_labels=True, labels=labels,\n",
        "          node_size=1200, node_color=node_colors,\n",
        "          edgecolors=\"black\", font_size=8,\n",
        "          alpha=0.85\n",
        "          )\n",
        "\n",
        "  # Labels des arêtes (type ligne ou trafo)\n",
        "      edge_labels = nx.get_edge_attributes(G, 'type')\n",
        "      nx.draw_networkx_edge_labels(G, pos, edge_labels=edge_labels, font_size=7)\n",
        "\n",
        "      plt.title(\"Réseau électrique avec puissances (P_net)\")\n",
        "      plt.axis(\"equal\")\n",
        "      plt.show()\n",
        "\n",
        "  return G, plot_network()"
      ],
      "metadata": {
        "id": "TsDt-6_lZgNj"
      },
      "execution_count": null,
      "outputs": []
    },
    {
      "cell_type": "code",
      "source": [
        "G = create_digraph()[0]"
      ],
      "metadata": {
        "colab": {
          "base_uri": "https://localhost:8080/",
          "height": 1000
        },
        "id": "lsz4h9dHZcyD",
        "outputId": "59e2cc6a-3559-49b0-c609-a279b7d52b2f"
      },
      "execution_count": null,
      "outputs": [
        {
          "output_type": "stream",
          "name": "stdout",
          "text": [
            "name               Residential Load\n",
            "bus                               9\n",
            "p_mw                           0.02\n",
            "q_mvar                         0.02\n",
            "const_z_percent                 0.0\n",
            "const_i_percent                 0.0\n",
            "sn_mva                          NaN\n",
            "scaling                         1.0\n",
            "in_service                     True\n",
            "type                            wye\n",
            "Name: 0, dtype: object\n",
            "name               Industry\n",
            "bus                       8\n",
            "p_mw                    6.0\n",
            "q_mvar                  1.8\n",
            "const_z_percent         0.0\n",
            "const_i_percent         0.0\n",
            "sn_mva                  NaN\n",
            "scaling                 1.0\n",
            "in_service             True\n",
            "type                    wye\n",
            "Name: 1, dtype: object\n",
            "name               Datacenter\n",
            "bus                        11\n",
            "p_mw                     20.0\n",
            "q_mvar                    9.0\n",
            "const_z_percent           0.0\n",
            "const_i_percent           0.0\n",
            "sn_mva                    NaN\n",
            "scaling                   1.0\n",
            "in_service               True\n",
            "type                      wye\n",
            "Name: 2, dtype: object\n",
            "name               Big industry\n",
            "bus                          12\n",
            "p_mw                       50.0\n",
            "q_mvar                     24.0\n",
            "const_z_percent             0.0\n",
            "const_i_percent             0.0\n",
            "sn_mva                      NaN\n",
            "scaling                     1.0\n",
            "in_service                 True\n",
            "type                        wye\n",
            "Name: 3, dtype: object\n"
          ]
        },
        {
          "output_type": "display_data",
          "data": {
            "text/plain": [
              "<Figure size 1200x800 with 1 Axes>"
            ],
            "image/png": "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\n"
          },
          "metadata": {}
        }
      ]
    },
    {
      "cell_type": "code",
      "source": [
        "# Define the buses for each sub-network (using the same lists as before)\n",
        "network1_buses = [0, 1, 2, 11,12]\n",
        "network2_buses = [3, 7, 5, 9, 10]\n",
        "network3_buses = [4, 8, 6]\n",
        "\n",
        "# Create subnetworks (NetworkX DiGraphs) from the main graph G\n",
        "G1 = G.subgraph(network1_buses)\n",
        "G2 = G.subgraph(network2_buses)\n",
        "G3 = G.subgraph(network3_buses)\n",
        "\n",
        "# You can optionally print information about the new graphs or plot them\n",
        "print(\"DiGraph for Network 1:\")\n",
        "print(G1)\n",
        "print(\"\\nDiGraph for Network 2:\")\n",
        "print(G2)\n",
        "print(\"\\nDiGraph for Network 3:\")\n",
        "print(G3)\n",
        "\n",
        "G = G1"
      ],
      "metadata": {
        "colab": {
          "base_uri": "https://localhost:8080/"
        },
        "id": "tQikmJk5Z4Dt",
        "outputId": "f575768a-0e5f-44c5-b64b-b91473058eb3"
      },
      "execution_count": null,
      "outputs": [
        {
          "output_type": "stream",
          "name": "stdout",
          "text": [
            "DiGraph for Network 1:\n",
            "DiGraph with 5 nodes and 7 edges\n",
            "\n",
            "DiGraph for Network 2:\n",
            "DiGraph with 5 nodes and 3 edges\n",
            "\n",
            "DiGraph for Network 3:\n",
            "DiGraph with 3 nodes and 2 edges\n"
          ]
        }
      ]
    },
    {
      "cell_type": "code",
      "source": [
        "def plot_network(G):\n",
        "      pos = nx.get_node_attributes(G, 'pos')\n",
        "\n",
        "      plt.figure(figsize=(12, 8))\n",
        "      nx.draw(\n",
        "          G, pos,\n",
        "          with_labels=True,\n",
        "          node_size=1200,\n",
        "          edgecolors=\"black\", font_size=8,\n",
        "          alpha=0.85\n",
        "          )\n",
        "\n",
        "  # Labels des arêtes (type ligne ou trafo)\n",
        "      edge_labels = nx.get_edge_attributes(G, 'type')\n",
        "      nx.draw_networkx_edge_labels(G, pos, edge_labels=edge_labels, font_size=7)\n",
        "\n",
        "      plt.title(\"Réseau électrique avec puissances (P_net)\")\n",
        "      plt.axis(\"equal\")\n",
        "      plt.show()\n",
        "\n",
        "plot_network(G1)"
      ],
      "metadata": {
        "colab": {
          "base_uri": "https://localhost:8080/",
          "height": 859
        },
        "id": "ed_Y54iGlEeI",
        "outputId": "f69f2ee3-404a-4c52-c42a-1b0c35b3e610"
      },
      "execution_count": null,
      "outputs": [
        {
          "output_type": "display_data",
          "data": {
            "text/plain": [
              "<Figure size 1200x800 with 1 Axes>"
            ],
            "image/png": "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\n"
          },
          "metadata": {}
        }
      ]
    },
    {
      "cell_type": "code",
      "source": [
        "m = pyo.ConcreteModel()\n",
        "# Define base values for the per-unit system\n",
        "s_base = 100  # MVA\n",
        "v_base_high = 110 # kV (From the create_network function)\n",
        "\n",
        "print(f\"Base Power (S_base): {s_base} MVA\")\n",
        "print(f\"Base Voltage (V_base_high): {v_base_high} kV\")"
      ],
      "metadata": {
        "colab": {
          "base_uri": "https://localhost:8080/"
        },
        "id": "fMwbxnNdbwH-",
        "outputId": "13aec0c4-547d-45d6-afcd-fcdaf51e7594"
      },
      "execution_count": null,
      "outputs": [
        {
          "output_type": "stream",
          "name": "stdout",
          "text": [
            "Base Power (S_base): 100 MVA\n",
            "Base Voltage (V_base_high): 110 kV\n"
          ]
        }
      ]
    },
    {
      "cell_type": "code",
      "source": [
        "def length (i, j):\n",
        "    xi, yi = G.nodes[i]['pos']\n",
        "    xj, yj = G.nodes[j]['pos']\n",
        "    return (math.hypot(xi - xj, yi - yj))*10/1000  # distance euclidienne, *10/1000 (pixel/km)\n",
        "length(0, 1)"
      ],
      "metadata": {
        "colab": {
          "base_uri": "https://localhost:8080/"
        },
        "id": "j53BsRWZb9Qg",
        "outputId": "dc000da5-3597-4aac-a04d-709c1f5f6412"
      },
      "execution_count": null,
      "outputs": [
        {
          "output_type": "execute_result",
          "data": {
            "text/plain": [
              "0.053851648071345036"
            ]
          },
          "metadata": {},
          "execution_count": 70
        }
      ]
    },
    {
      "cell_type": "code",
      "source": [
        "#Calculate the susceptance of each line in Siemens per km\n",
        "for u, v in G.edges():\n",
        "    G[u][v]['b'] = length(u,v)* 200*10**-6\n",
        "\n",
        "print(G[u-1][v-1]['b'])"
      ],
      "metadata": {
        "colab": {
          "base_uri": "https://localhost:8080/"
        },
        "id": "R07l_GXmjVhK",
        "outputId": "5f742956-7f43-4581-feac-17644725cb50"
      },
      "execution_count": null,
      "outputs": [
        {
          "output_type": "stream",
          "name": "stdout",
          "text": [
            "6e-06\n"
          ]
        }
      ]
    },
    {
      "cell_type": "code",
      "source": [
        "#Constant definition\n",
        "V_min = 0.8\n",
        "V_max = 1.2\n",
        "\n",
        "I_min = 0.8\n",
        "I_max = 1.2\n",
        "\n",
        "theta_min = -np.pi\n",
        "theta_max = np.pi\n",
        "\n",
        "\n",
        "alpha =1\n"
      ],
      "metadata": {
        "id": "QfiKPOwejiQ3"
      },
      "execution_count": null,
      "outputs": []
    },
    {
      "cell_type": "code",
      "source": [
        "import numpy as np\n",
        "\n",
        "def compute_PTDF(G, ref_bus=None):\n",
        "    \"\"\"\n",
        "    Compute PTDF matrix using branch susceptance diagonal and incidence matrix.\n",
        "\n",
        "    Parameters:\n",
        "        G (networkx.DiGraph): Graph with 'b' (susceptance) on edges.\n",
        "        ref_bus (str): Slack bus node label. If None, first node is slack.\n",
        "\n",
        "    Returns:\n",
        "        PTDF (np.ndarray): PTDF matrix of shape (num_branches, num_buses)\n",
        "        node_list (List[str]): Ordered list of nodes\n",
        "        edge_list (List[tuple]): Ordered list of edges\n",
        "    \"\"\"\n",
        "\n",
        "    # Get nodes and edges\n",
        "    node_list = list(G.nodes())\n",
        "    edge_list = list(G.edges())\n",
        "    n = len(node_list)\n",
        "    m = len(edge_list)\n",
        "\n",
        "    # Build incidence matrix (rows: edges, columns: nodes)\n",
        "    A = np.zeros((m, n))\n",
        "    node_index = {node: i for i, node in enumerate(node_list)}\n",
        "\n",
        "    for idx, (u, v) in enumerate(edge_list):\n",
        "        A[idx, node_index[u]] = 1\n",
        "        A[idx, node_index[v]] = -1\n",
        "\n",
        "    # Slack bus\n",
        "    if ref_bus is None:\n",
        "        ref_bus = node_list[0]\n",
        "    slack_idx = node_index[ref_bus]\n",
        "\n",
        "    # Remove slack bus column from A\n",
        "    A_red = np.delete(A, slack_idx, axis=1)  # shape (m, n-1)\n",
        "\n",
        "    # Branch susceptance diagonal matrix Bd\n",
        "    b_values = np.array([G[u][v].get('b', 2.0) for u, v in edge_list])\n",
        "    Bd = np.diag(b_values)  # shape (m, m)\n",
        "\n",
        "    # Compute PTDF\n",
        "    At = A_red.T               # (n-1, m)\n",
        "    AtBd = At @ Bd             # (n-1, m)\n",
        "    AtBdA = AtBd @ A_red       # (n-1, n-1)\n",
        "\n",
        "    AtBdA_inv = np.linalg.inv(AtBdA)  # (n-1, n-1)\n",
        "\n",
        "    PTDF_red = Bd @ A_red @ AtBdA_inv  # (m, n-1)\n",
        "\n",
        "    # Insert zero column for slack bus back into PTDF matrix\n",
        "    PTDF = np.insert(PTDF_red, slack_idx, 0, axis=1)  # shape (m, n)\n",
        "\n",
        "    return PTDF, node_list, edge_list\n",
        "\n",
        "\n",
        "PTDF, node_list, edge_list = compute_PTDF(G1, ref_bus= 0)\n",
        "node_to_idx = {node: i for i, node in enumerate(node_list)}\n",
        "edge_to_idx = {edge: i for i, edge in enumerate(edge_list)}\n",
        "\n",
        "print(PTDF)"
      ],
      "metadata": {
        "colab": {
          "base_uri": "https://localhost:8080/"
        },
        "id": "FFgFLTSIjWdO",
        "outputId": "b5dc84a1-45e2-4bb9-e6a5-114edb189d15"
      },
      "execution_count": null,
      "outputs": [
        {
          "output_type": "stream",
          "name": "stdout",
          "text": [
            "[[ 0.         -0.57502287 -0.21216581 -0.29597498 -0.1092057 ]\n",
            " [ 0.         -0.21216581 -0.57502287 -0.1092057  -0.29597498]\n",
            " [ 0.         -0.15545368 -0.05735764 -0.56529628 -0.02952305]\n",
            " [ 0.         -0.05735764 -0.15545368 -0.02952305 -0.56529628]\n",
            " [ 0.          0.26952345 -0.26952345  0.13872874 -0.13872874]\n",
            " [ 0.         -0.15545368 -0.05735764  0.43470372 -0.02952305]\n",
            " [ 0.         -0.05735764 -0.15545368 -0.02952305  0.43470372]]\n"
          ]
        }
      ]
    },
    {
      "cell_type": "code",
      "source": [
        "m.Nodes = pyo.Set(initialize= [b for b in G.nodes])\n",
        "m.Lines = pyo.Set(initialize= [l for l in G.edges])\n",
        "m.i = pyo.Set(initialize=[])\n",
        "m.j = pyo.Set(initialize= [0.9, 1.1])\n",
        "m.children = pyo.Set(initialize= [1, 2])\n",
        "m.parents = pyo.Set(initialize = [0])\n",
        "\n",
        "\n",
        "m.P = pyo.Param(m.Nodes, initialize = {n: G.nodes[n].get('P', 0.0) for n in G.nodes}, domain = pyo.Reals, mutable=True) # Make P mutable\n",
        "\n",
        "\n",
        "# Convert P parameter to per-unit\n",
        "for n in G.nodes:\n",
        "    # Assuming P is in MW, convert to per-unit\n",
        "    G.nodes[n]['P'] = G.nodes[n].get('P', 0.0) / s_base\n",
        "    m.P[n] = G.nodes[n]['P']\n",
        "\n",
        "# Convert susceptance 'b' on edges to per-unit\n",
        "for u, v in G.edges():\n",
        "    # Assuming 'b' is in Siemens/km, convert to per-unit\n",
        "    # b_pu = b_actual * (V_base^2 / S_base)\n",
        "    # V_base is assumed to be v_base_high (110 kV)\n",
        "    G[u][v]['b'] = G[u][v].get('b', 0.0) * (v_base_high**2 / s_base)\n",
        "\n",
        "print(\"Converted power values (P) in G and m.P to per-unit.\")\n",
        "print(\"Converted susceptance values (b) in G edges to per-unit.\")"
      ],
      "metadata": {
        "colab": {
          "base_uri": "https://localhost:8080/"
        },
        "id": "07q_jJUiinf_",
        "outputId": "14048e46-9710-4a79-a8aa-7f4faf105947"
      },
      "execution_count": null,
      "outputs": [
        {
          "output_type": "stream",
          "name": "stdout",
          "text": [
            "Converted power values (P) in G and m.P to per-unit.\n",
            "Converted susceptance values (b) in G edges to per-unit.\n"
          ]
        }
      ]
    },
    {
      "cell_type": "code",
      "source": [
        "\n",
        "\n",
        "# Variables principales\n",
        "m.F = pyo.Var(m.Lines, m.i, m.j, domain=pyo.Reals)     # active power flow through lines\n",
        "m.I = pyo.Var(m.Lines,  m.i, m.j, domain=pyo.Reals)  # current flowing through lines\n",
        "m.theta = pyo.Var(m.Nodes,  m.i, m.j, domain=pyo.Reals)  # phase angle of the voltage\n",
        "m.V = pyo.Var(m.Nodes, m.i, m.j, domain=pyo.NonNegativeReals)  # voltage magnitude at each node\n",
        "m.E = pyo.Var(m.Nodes, m.i, m.j, domain=pyo.Reals) #net power injection/consumption\n",
        "m.P_plus = pyo.Var(m.parents, m.i, m.j, domain=pyo.Reals) #power entering the operational graph\n",
        "m.P_minus = pyo.Var(m.children, m.i, m.j, domain=pyo.Reals) #power leaving the operational graph\n",
        "\n",
        "m.P_C_set = pyo.Var(m.children, m.i, domain=pyo.Reals) #vertices of the power envelope at each child node\n",
        "\n",
        "#m.P_C_min = pyo.Var(m.children, m.i, m.j, domain=pyo.Reals)\n",
        "#m.P_C_max = pyo.Var(m.children, m.i, m.j,  domain=pyo.Reals)\n",
        "\n",
        "m.V_P = pyo.Param(m.j, domain =pyo.NonNegativeReals)\n",
        "\n",
        "\n",
        "m.O = pyo.Var(domain = pyo.Reals)\n",
        "\n",
        "# Convert P parameter to per-unit\n",
        "for n in G.nodes:\n",
        "    # Assuming P is in MW, convert to per-unit\n",
        "    G.nodes[n]['P'] = G.nodes[n].get('P', 0.0) / s_base\n",
        "    m.P[n] = G.nodes[n]['P']\n",
        "\n",
        "# Convert susceptance 'b' on edges to per-unit\n",
        "for u, v in G.edges():\n",
        "    # Assuming 'b' is in Siemens/km, convert to per-unit\n",
        "    # b_pu = b_actual * (V_base^2 / S_base)\n",
        "    # V_base is assumed to be v_base_high (110 kV)\n",
        "    G[u][v]['b'] = G[u][v].get('b', 0.0) * (v_base_high**2 / s_base)\n",
        "\n",
        "# V_min and V_max are likely already in per-unit, so no conversion needed.\n",
        "# I_min and I_max are likely already in per-unit, so no conversion needed.\n",
        "\n",
        "print(\"Converted power values (P) in G and m.P to per-unit.\")\n",
        "print(\"Converted susceptance values (b) in G edges to per-unit.\")\n",
        "print(\"Voltage and Current bounds assumed to be already in per-unit.\")"
      ],
      "metadata": {
        "colab": {
          "base_uri": "https://localhost:8080/"
        },
        "id": "OiWxmHe0b_1C",
        "outputId": "597345e9-2335-41ed-db96-89a24bf9198d"
      },
      "execution_count": null,
      "outputs": [
        {
          "output_type": "stream",
          "name": "stdout",
          "text": [
            "Converted power values (P) in G and m.P to per-unit.\n",
            "Converted susceptance values (b) in G edges to per-unit.\n",
            "Voltage and Current bounds assumed to be already in per-unit.\n"
          ]
        }
      ]
    },
    {
      "cell_type": "code",
      "source": [
        "# Children nodes consumption\n",
        "def worst_case_children(m, n, vert_pow, vert_volt):\n",
        "  # m.P_C_set and m.P_minus are already defined as per-unit power variables\n",
        "  return m.P_C_set[n, vert_pow] == m.P_minus[n, vert_pow, vert_volt]\n",
        "m.worst_case = pyo.Constraint(m.children, m.i, m.j, rule=worst_case_children)\n",
        "\n",
        "# Auxiliary variable for the absolute value of E (already defined as per-unit)\n",
        "m.z = pyo.Var(m.Nodes, m.i, m.j, domain=pyo.NonNegativeReals)\n",
        "\n",
        "# Constraints to define the absolute value (already defined for per-unit E)\n",
        "def abs_E_pos_rule(m, n, vert_pow, vert_volt):\n",
        "    return m.z[n, vert_pow, vert_volt] >= m.E[n, vert_pow, vert_volt]\n",
        "m.abs_E_pos = pyo.Constraint(m.Nodes, m.i, m.j, rule=abs_E_pos_rule)\n",
        "\n",
        "def abs_E_neg_rule(m, n, vert_pow, vert_volt):\n",
        "    return m.z[n, vert_pow, vert_volt] >= -m.E[n, vert_pow, vert_volt]\n",
        "m.abs_E_neg = pyo.Constraint(m.Nodes, m.i, m.j, rule=abs_E_neg_rule)\n",
        "\n",
        "def upper_bound_rule(m, vert_pow, vert_volt):\n",
        "    # m.z is per-unit, m.O is per-unit\n",
        "    return sum(m.z[n, vert_pow, vert_volt] for n in m.Nodes) <= m.O\n",
        "\n",
        "m.upper_bound = pyo.Constraint(m.i, m.j, rule=upper_bound_rule)\n",
        "\n",
        "# Current magnitude constraint (I_min, I_max are assumed per-unit)\n",
        "def current_bounds_rule(m, i, j, vert_pow, vert_volt):\n",
        "    # m.I is per-unit current\n",
        "    return pyo.inequality(I_min, m.I[i,j, vert_pow, vert_volt], I_max)\n",
        "m.CurrentBounds = pyo.Constraint(m.Lines, m.i, m.j, rule=current_bounds_rule)\n",
        "\n",
        "\n",
        "#Constant voltage assumption (V_P is per-unit)\n",
        "def voltage_constr_rule(m, n, vert_pow, vert_volt):\n",
        "    # m.V is per-unit voltage\n",
        "    return m.V[n, vert_pow, vert_volt] == m.V_P[vert_volt]\n",
        "\n",
        "m.voltageConstr = pyo.Constraint(m.Nodes, m.i, m.j, rule=voltage_constr_rule)\n",
        "\n",
        "# Neighbor mapping: find all neighbors for each node n (already defined)\n",
        "# def neighbors_init(m, n):\n",
        "#     return [neighbor for (i, neighbor) in m.Lines if i == n]\n",
        "# m.Neighbors = pyo.Set(m.Nodes, initialize=neighbors_init)\n",
        "\n",
        "\n",
        "def En_constraint_rule(m, n, vert_pow, vert_volt):\n",
        "    # m.E is per-unit power injection/consumption\n",
        "    # m.V_P is per-unit voltage\n",
        "    # G[n][neighbor]['b'] is per-unit susceptance\n",
        "    # m.theta is in radians (angle difference) - no conversion needed\n",
        "    # The equation P = V^2 * B * d_theta is valid in per-unit\n",
        "    return m.E[n, vert_pow, vert_volt] == m.V_P[vert_volt]**2 * sum(\n",
        "        G[n][neighbor]['b'] * (m.theta[neighbor, vert_pow, vert_volt] - m.theta[n, vert_pow, vert_volt]) for neighbor in m.Neighbors[n]\n",
        "    )\n",
        "m.EnConstraint = pyo.Constraint(m.Nodes, m.i, m.j, rule=En_constraint_rule)\n",
        "\n",
        "def PTDF_rule(m, u, v, vert_pow, vert_volt):\n",
        "    # m.F is per-unit power flow\n",
        "    # PTDF matrix is based on per-unit susceptance and graph structure - should be valid in per-unit\n",
        "    # m.E is per-unit power injection/consumption\n",
        "    line_index = edge_to_idx[(u, v)]\n",
        "    return m.F[u,v, vert_pow, vert_volt] == sum(PTDF[line_index, node_to_idx[n]] * m.E[n, vert_pow, vert_volt] for n in m.Nodes)\n",
        "m.PTDF = pyo.Constraint(m.Lines, m.i, m.j, rule=PTDF_rule)\n",
        "\n",
        "\n",
        "\n",
        "def phase_constr_rule(m,n, vert_pow, vert_volt):\n",
        "    # m.theta is in radians - no conversion needed for bounds\n",
        "    return pyo.inequality(theta_min, m.theta[n, vert_pow, vert_volt], theta_max)\n",
        "\n",
        "m.phaseConstr = pyo.Constraint(m.Nodes, m.i, m.j, rule=phase_constr_rule)\n",
        "\n",
        "def children_voltage_rule(m, children, vert_pow, vert_volt):\n",
        "    # m.V is per-unit voltage, V_min and V_max are assumed per-unit\n",
        "    return pyo.inequality(V_min, m.V[children, vert_pow, vert_volt], V_max)\n",
        "\n",
        "m.children_voltage = pyo.Constraint(m.children, m.i, m.j, rule=children_voltage_rule)\n",
        "\n",
        "\n",
        "def current_def_rule(m, n, i, j, vert_pow, vert_volt):\n",
        "    # This constraint relates per-unit current, per-unit voltage, and per-unit power flow.\n",
        "    # In per-unit, P_pu = V_pu * I_pu. This is correct.\n",
        "    return m.I[i,j, vert_pow, vert_volt] * m.V[n, vert_pow, vert_volt] == m.F[i,j, vert_pow, vert_volt]\n",
        "\n",
        "m.current_def = pyo.Constraint(m.Nodes, m.Lines, m.i, m.j, rule=current_def_rule)\n",
        "\n",
        "def balance_rule(m, vert_pow, vert_volt):\n",
        "    # m.P is per-unit nodal power injection (from original data)\n",
        "    # m.E is per-unit nodal power injection/consumption (calculated)\n",
        "    # m.P_plus and m.P_minus are per-unit power entering/leaving\n",
        "    # The power balance equation is valid in per-unit\n",
        "    return sum(m.P[n] - m.E[n, vert_pow, vert_volt] for n in m.Nodes) == sum(m.P_plus[parent, vert_pow, vert_volt] for parent in m.parents) - sum(m.P_minus[child, vert_pow, vert_volt] for child in m.children)\n",
        "\n",
        "m.balance = pyo.Constraint(m.i, m.j, rule=balance_rule)\n",
        "\n",
        "def parent_power_constraint_rule(m, parent, vert_pow, vert_volt):\n",
        "    # m.P_plus is per-unit power entering the operational graph\n",
        "    return sum(m.P_plus[parent, vert_pow, vert_volt] for parent in m.parents)\n",
        "\n",
        "#To be corrected !!!!\n",
        "\n",
        "# Objective function (m.P_C_set and m.O are per-unit)\n",
        "def objective_rule(m):\n",
        "    # Compute the squared Euclidean norm of m.P_C_set\n",
        "    squared_norm = sum(m.P_C_set[child, i]**2 for child in m.children for i in m.i)\n",
        "\n",
        "    # alpha is a dimensionless weighting factor\n",
        "    return  squared_norm - alpha*m.O\n",
        "\n",
        "m.Objective = pyo.Objective(rule=objective_rule, sense=pyo.maximize)"
      ],
      "metadata": {
        "colab": {
          "base_uri": "https://localhost:8080/"
        },
        "id": "lmnxCzo_aFST",
        "outputId": "486c5875-c0aa-4c4c-ea99-45d98bbb776e"
      },
      "execution_count": null,
      "outputs": [
        {
          "output_type": "stream",
          "name": "stderr",
          "text": [
            "WARNING:pyomo.core:Implicitly replacing the Component attribute worst_case (type=<class 'pyomo.core.base.constraint.IndexedConstraint'>) on block unknown with a new Component (type=<class 'pyomo.core.base.constraint.IndexedConstraint'>).\n",
            "This is usually indicative of a modelling error.\n",
            "To avoid this warning, use block.del_component() and block.add_component().\n",
            "WARNING:pyomo.core:Implicitly replacing the Component attribute z (type=<class 'pyomo.core.base.var.IndexedVar'>) on block unknown with a new Component (type=<class 'pyomo.core.base.var.IndexedVar'>).\n",
            "This is usually indicative of a modelling error.\n",
            "To avoid this warning, use block.del_component() and block.add_component().\n",
            "WARNING:pyomo.core:Implicitly replacing the Component attribute abs_E_pos (type=<class 'pyomo.core.base.constraint.IndexedConstraint'>) on block unknown with a new Component (type=<class 'pyomo.core.base.constraint.IndexedConstraint'>).\n",
            "This is usually indicative of a modelling error.\n",
            "To avoid this warning, use block.del_component() and block.add_component().\n",
            "WARNING:pyomo.core:Implicitly replacing the Component attribute abs_E_neg (type=<class 'pyomo.core.base.constraint.IndexedConstraint'>) on block unknown with a new Component (type=<class 'pyomo.core.base.constraint.IndexedConstraint'>).\n",
            "This is usually indicative of a modelling error.\n",
            "To avoid this warning, use block.del_component() and block.add_component().\n",
            "WARNING:pyomo.core:Implicitly replacing the Component attribute upper_bound (type=<class 'pyomo.core.base.constraint.IndexedConstraint'>) on block unknown with a new Component (type=<class 'pyomo.core.base.constraint.IndexedConstraint'>).\n",
            "This is usually indicative of a modelling error.\n",
            "To avoid this warning, use block.del_component() and block.add_component().\n",
            "WARNING:pyomo.core:Implicitly replacing the Component attribute CurrentBounds (type=<class 'pyomo.core.base.constraint.IndexedConstraint'>) on block unknown with a new Component (type=<class 'pyomo.core.base.constraint.IndexedConstraint'>).\n",
            "This is usually indicative of a modelling error.\n",
            "To avoid this warning, use block.del_component() and block.add_component().\n",
            "WARNING:pyomo.core:Implicitly replacing the Component attribute voltageConstr (type=<class 'pyomo.core.base.constraint.IndexedConstraint'>) on block unknown with a new Component (type=<class 'pyomo.core.base.constraint.IndexedConstraint'>).\n",
            "This is usually indicative of a modelling error.\n",
            "To avoid this warning, use block.del_component() and block.add_component().\n",
            "WARNING:pyomo.core:Implicitly replacing the Component attribute EnConstraint (type=<class 'pyomo.core.base.constraint.IndexedConstraint'>) on block unknown with a new Component (type=<class 'pyomo.core.base.constraint.IndexedConstraint'>).\n",
            "This is usually indicative of a modelling error.\n",
            "To avoid this warning, use block.del_component() and block.add_component().\n",
            "WARNING:pyomo.core:Implicitly replacing the Component attribute PTDF (type=<class 'pyomo.core.base.constraint.IndexedConstraint'>) on block unknown with a new Component (type=<class 'pyomo.core.base.constraint.IndexedConstraint'>).\n",
            "This is usually indicative of a modelling error.\n",
            "To avoid this warning, use block.del_component() and block.add_component().\n",
            "WARNING:pyomo.core:Implicitly replacing the Component attribute phaseConstr (type=<class 'pyomo.core.base.constraint.IndexedConstraint'>) on block unknown with a new Component (type=<class 'pyomo.core.base.constraint.IndexedConstraint'>).\n",
            "This is usually indicative of a modelling error.\n",
            "To avoid this warning, use block.del_component() and block.add_component().\n",
            "WARNING:pyomo.core:Implicitly replacing the Component attribute children_voltage (type=<class 'pyomo.core.base.constraint.IndexedConstraint'>) on block unknown with a new Component (type=<class 'pyomo.core.base.constraint.IndexedConstraint'>).\n",
            "This is usually indicative of a modelling error.\n",
            "To avoid this warning, use block.del_component() and block.add_component().\n",
            "WARNING:pyomo.core:Implicitly replacing the Component attribute current_def (type=<class 'pyomo.core.base.constraint.IndexedConstraint'>) on block unknown with a new Component (type=<class 'pyomo.core.base.constraint.IndexedConstraint'>).\n",
            "This is usually indicative of a modelling error.\n",
            "To avoid this warning, use block.del_component() and block.add_component().\n",
            "WARNING:pyomo.core:Implicitly replacing the Component attribute balance (type=<class 'pyomo.core.base.constraint.IndexedConstraint'>) on block unknown with a new Component (type=<class 'pyomo.core.base.constraint.IndexedConstraint'>).\n",
            "This is usually indicative of a modelling error.\n",
            "To avoid this warning, use block.del_component() and block.add_component().\n",
            "WARNING:pyomo.core:Implicitly replacing the Component attribute Objective (type=<class 'pyomo.core.base.objective.ScalarObjective'>) on block unknown with a new Component (type=<class 'pyomo.core.base.objective.ScalarObjective'>).\n",
            "This is usually indicative of a modelling error.\n",
            "To avoid this warning, use block.del_component() and block.add_component().\n"
          ]
        }
      ]
    },
    {
      "cell_type": "code",
      "source": [
        "# Résolution\n",
        "# -------------------------\n",
        "# Create an environment with your WLS license\n",
        "params = {\n",
        "    \"WLSACCESSID\": 'efa10779-150a-495c-ab62-6a20ff44c598',\n",
        "    \"WLSSECRET\": 'fa980d94-a6fd-4d7b-aa68-b0e19ddd2e84',\n",
        "    \"LICENSEID\": 2651433,\n",
        "}\n",
        "env = gp.Env(params=params)\n",
        "solver = pyo.SolverFactory('gurobi', env= env)\n",
        "\n",
        "# Solve the model\n",
        "results = solver.solve(m, tee=True)\n",
        "\n",
        "# Check the termination condition\n",
        "if results.solver.termination_condition == pyo.TerminationCondition.infeasible:\n",
        "    print(\"The model is infeasible.\")\n",
        "elif results.solver.termination_condition == pyo.TerminationCondition.unbounded:\n",
        "    print(\"The model is unbounded.\")\n",
        "elif results.solver.termination_condition == pyo.TerminationCondition.infeasibleOrUnbounded:\n",
        "    print(\"The model is infeasible or unbounded.\")\n",
        "else:\n",
        "    print(\"Solver terminated with condition:\", results.solver.termination_condition)\n",
        "    # Print the results (optional, but good practice)\n",
        "    print(results)"
      ],
      "metadata": {
        "colab": {
          "base_uri": "https://localhost:8080/"
        },
        "id": "-mZTkvu9jn1c",
        "outputId": "4b35c9be-a3bc-42cf-be4d-5d48e09c86b2"
      },
      "execution_count": null,
      "outputs": [
        {
          "output_type": "stream",
          "name": "stdout",
          "text": [
            "Set parameter WLSAccessID\n",
            "Set parameter WLSSecret\n",
            "Set parameter LicenseID to value 2651433\n",
            "Academic license 2651433 - for non-commercial use only - registered to an___@student.uliege.be\n",
            "Read LP format model from file /tmp/tmpps4eij98.pyomo.lp\n",
            "Reading time = 0.00 seconds\n",
            "x1: 1 rows, 2 columns, 1 nonzeros\n",
            "Gurobi Optimizer version 12.0.3 build v12.0.3rc0 (linux64 - \"Ubuntu 22.04.4 LTS\")\n",
            "\n",
            "CPU model: Intel(R) Xeon(R) CPU @ 2.20GHz, instruction set [SSE2|AVX|AVX2]\n",
            "Thread count: 1 physical cores, 2 logical processors, using up to 2 threads\n",
            "\n",
            "Optimize a model with 1 rows, 2 columns and 1 nonzeros\n",
            "Model fingerprint: 0xad206475\n",
            "Coefficient statistics:\n",
            "  Matrix range     [1e+00, 1e+00]\n",
            "  Objective range  [1e+00, 1e+00]\n",
            "  Bounds range     [1e+00, 1e+00]\n",
            "  RHS range        [1e+00, 1e+00]\n",
            "Presolve time: 0.00s\n",
            "\n",
            "Solved in 0 iterations and 0.00 seconds (0.00 work units)\n",
            "Infeasible or unbounded model\n"
          ]
        },
        {
          "output_type": "stream",
          "name": "stderr",
          "text": [
            "WARNING:pyomo.core:Loading a SolverResults object with a warning status into model.name=\"unknown\";\n",
            "  - termination condition: infeasibleOrUnbounded\n",
            "  - message from solver: Problem proven to be infeasible or unbounded.\n"
          ]
        },
        {
          "output_type": "stream",
          "name": "stdout",
          "text": [
            "The model is infeasible or unbounded.\n"
          ]
        }
      ]
    }
  ]
}
